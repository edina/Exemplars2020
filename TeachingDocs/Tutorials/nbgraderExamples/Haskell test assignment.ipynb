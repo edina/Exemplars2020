{
 "cells": [
  {
   "cell_type": "markdown",
   "metadata": {
    "nbgrader": {
     "grade": false,
     "grade_id": "cell-3f4e63bbe46df367",
     "locked": true,
     "schema_version": 3,
     "solution": false,
     "task": false
    }
   },
   "source": [
    "This is a Haskell test assignent"
   ]
  },
  {
   "cell_type": "code",
   "execution_count": null,
   "metadata": {
    "nbgrader": {
     "grade": false,
     "grade_id": "cell-d8438fa1e96b5b14",
     "locked": false,
     "schema_version": 3,
     "solution": true,
     "task": false
    }
   },
   "outputs": [],
   "source": [
    "-- write a function called 'square' to return the square of a value (just for this demo: square x = x * x)\n",
    "-- BEGIN SOLUTION\n",
    "square x = x * x\n",
    "-- END SOLUTION"
   ]
  },
  {
   "cell_type": "code",
   "execution_count": null,
   "metadata": {
    "nbgrader": {
     "grade": false,
     "grade_id": "cell-4e4153dfdca7d8ba",
     "locked": true,
     "schema_version": 3,
     "solution": false,
     "task": false
    }
   },
   "outputs": [],
   "source": [
    "-- This should be 4\n",
    "square 2"
   ]
  },
  {
   "cell_type": "code",
   "execution_count": null,
   "metadata": {
    "nbgrader": {
     "grade": true,
     "grade_id": "cell-5a6788a0845a4418",
     "locked": true,
     "points": 1,
     "schema_version": 3,
     "solution": false,
     "task": false
    }
   },
   "outputs": [],
   "source": [
    "if square 2 == 4\n",
    "    then \"True\"\n",
    "    else error \"2^2 == 4\"\n",
    "if square 10 == 100\n",
    "    then \"True\"\n",
    "    else error \"10^10 == 100\"\n",
    "-- BEGIN HIDDEN TESTS\n",
    "if square 3 == 9\n",
    "    then \"True\"\n",
    "    else error \"3^3 == 9\"\n",
    "if square 9 == 81\n",
    "    then \"True\"\n",
    "    else error \"9^9 == 81\"\n",
    "-- END HIDDEN TESTS"
   ]
  },
  {
   "cell_type": "code",
   "execution_count": null,
   "metadata": {},
   "outputs": [],
   "source": []
  }
 ],
 "metadata": {
  "celltoolbar": "Create Assignment",
  "kernelspec": {
   "display_name": "Haskell",
   "language": "haskell",
   "name": "haskell"
  },
  "language_info": {
   "codemirror_mode": "ihaskell",
   "file_extension": ".hs",
   "name": "haskell",
   "pygments_lexer": "Haskell",
   "version": "8.6.5"
  }
 },
 "nbformat": 4,
 "nbformat_minor": 4
}
