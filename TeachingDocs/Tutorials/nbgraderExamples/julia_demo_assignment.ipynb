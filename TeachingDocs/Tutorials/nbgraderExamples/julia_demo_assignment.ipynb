{
 "cells": [
  {
   "cell_type": "markdown",
   "metadata": {},
   "source": [
    "# Julia demo assignment"
   ]
  },
  {
   "cell_type": "code",
   "execution_count": null,
   "metadata": {
    "nbgrader": {
     "grade": false,
     "grade_id": "cell-43b5e387cd8c1f44",
     "locked": false,
     "schema_version": 3,
     "solution": true,
     "task": false
    }
   },
   "outputs": [],
   "source": [
    "# Write a function to return the volume of a sphere\n",
    "function sphere_vol(r)\n",
    "    ### BEGIN SOLUTION\n",
    "    return 4/3*pi*r^3\n",
    "    ### END SOLUTION\n",
    "end"
   ]
  },
  {
   "cell_type": "code",
   "execution_count": null,
   "metadata": {
    "nbgrader": {
     "grade": false,
     "grade_id": "cell-e455937bf8cdb932",
     "locked": true,
     "schema_version": 3,
     "solution": false,
     "task": false
    }
   },
   "outputs": [],
   "source": [
    "# Should be 113.097...\n",
    "sphere_vol(3)\n"
   ]
  },
  {
   "cell_type": "code",
   "execution_count": null,
   "metadata": {
    "nbgrader": {
     "grade": true,
     "grade_id": "cell-1311828b8e7870fa",
     "locked": true,
     "points": 1,
     "schema_version": 3,
     "solution": false,
     "task": false
    }
   },
   "outputs": [],
   "source": [
    "@assert floor(sphere_vol(3)) == 113.0\n",
    "### BEGIN HIDDEN TESTS\n",
    "@assert floor(sphere_vol(4)) == 268\n",
    "### END HIDDEN TESTS"
   ]
  },
  {
   "cell_type": "code",
   "execution_count": null,
   "metadata": {
    "nbgrader": {
     "grade": false,
     "grade_id": "cell-c415c19849c572a7",
     "locked": false,
     "schema_version": 3,
     "solution": true,
     "task": false
    }
   },
   "outputs": [],
   "source": [
    "# Write a function to calculate x for 0 = a*x^2+b*x+c\n",
    "function quadratic(a::Float64, b::Float64, c::Float64)\n",
    "    ### BEGIN SOLUTION\n",
    "    # nested function\n",
    "    quad(a, sqr_term, b) = (-b + sqr_term) / 2a\n",
    "    \n",
    "    # unlike other languages 2a is equivalent to 2*a\n",
    "    # a^2 is used instead of a**2 or pow(a,2)\n",
    "    sqr_term = sqrt(b^2-4a*c)\n",
    "    r1 = quad(a, sqr_term, b)\n",
    "    r2 = quad(a, -sqr_term, b)\n",
    "    # multiple values can be returned from a function using tuples\n",
    "    # if the return keyword is omitted, the last term is returned\n",
    "    r1, r2\n",
    "    ### END SOLUTION\n",
    "end"
   ]
  },
  {
   "cell_type": "code",
   "execution_count": null,
   "metadata": {
    "nbgrader": {
     "grade": false,
     "grade_id": "cell-277f27832ec93c50",
     "locked": true,
     "schema_version": 3,
     "solution": false,
     "task": false
    }
   },
   "outputs": [],
   "source": [
    "quad1, quad2 = quadratic(2.0, -2.0, -12.0)"
   ]
  },
  {
   "cell_type": "code",
   "execution_count": null,
   "metadata": {
    "nbgrader": {
     "grade": true,
     "grade_id": "cell-69edfc8550623b53",
     "locked": true,
     "points": 1,
     "schema_version": 3,
     "solution": false,
     "task": false
    }
   },
   "outputs": [],
   "source": [
    "quad1, quad2 = quadratic(2.0, -2.0, -12.0)\n",
    "@assert quad1 == 3.0\n",
    "@assert quad2 == -2.0\n",
    "### BEGIN HIDDEN TESTS\n",
    "quad3, quad4 = quadratic(1.0, -4.0, -23.0)\n",
    "@assert floor(quad3) == 7.0\n",
    "@assert floor(quad4) == -4.0\n",
    "### END HIDDEN TESTS"
   ]
  },
  {
   "cell_type": "code",
   "execution_count": null,
   "metadata": {},
   "outputs": [],
   "source": []
  }
 ],
 "metadata": {
  "celltoolbar": "Create Assignment",
  "kernelspec": {
   "display_name": "Julia 1.3.1",
   "language": "julia",
   "name": "julia-1.3"
  },
  "language_info": {
   "file_extension": ".jl",
   "mimetype": "application/julia",
   "name": "julia",
   "version": "1.3.1"
  }
 },
 "nbformat": 4,
 "nbformat_minor": 4
}
