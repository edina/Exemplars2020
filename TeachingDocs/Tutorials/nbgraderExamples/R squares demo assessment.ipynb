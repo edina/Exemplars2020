{
 "cells": [
  {
   "cell_type": "markdown",
   "metadata": {
    "nbgrader": {
     "grade": false,
     "grade_id": "cell-536fbe8e4fbae688",
     "locked": true,
     "schema_version": 3,
     "solution": false,
     "task": false
    }
   },
   "source": [
    "# Part A (3 points)\n",
    "\n",
    "Write a function that returns a vector of numbers, such that xi=i2 , for 1≤i≤n. Make sure it handles the case where n<1 by `stop`ping with a message saying \"ValueError\"."
   ]
  },
  {
   "cell_type": "code",
   "execution_count": 76,
   "metadata": {
    "nbgrader": {
     "grade": false,
     "grade_id": "cell-ffff75b3e9373ca6",
     "locked": false,
     "schema_version": 3,
     "solution": true,
     "task": false
    }
   },
   "outputs": [],
   "source": [
    "squares <- function (n) {\n",
    "    ### BEGIN SOLUTION\n",
    "    if (!(is.numeric(n) & n > 0)) {\n",
    "        stop(\"ValueError\")\n",
    "        }\n",
    "    data <- 1:n; n\n",
    "    return( data*data )\n",
    "    ### END SOLUTION\n",
    "}"
   ]
  },
  {
   "cell_type": "code",
   "execution_count": 77,
   "metadata": {
    "nbgrader": {
     "grade": false,
     "grade_id": "cell-23f41d000c52cb43",
     "locked": true,
     "schema_version": 3,
     "solution": false,
     "task": false
    }
   },
   "outputs": [
    {
     "data": {
      "text/html": [
       "<style>\n",
       ".list-inline {list-style: none; margin:0; padding: 0}\n",
       ".list-inline>li {display: inline-block}\n",
       ".list-inline>li:not(:last-child)::after {content: \"\\00b7\"; padding: 0 .5ex}\n",
       "</style>\n",
       "<ol class=list-inline><li>1</li><li>4</li><li>9</li><li>16</li><li>25</li><li>36</li><li>49</li><li>64</li><li>81</li><li>100</li></ol>\n"
      ],
      "text/latex": [
       "\\begin{enumerate*}\n",
       "\\item 1\n",
       "\\item 4\n",
       "\\item 9\n",
       "\\item 16\n",
       "\\item 25\n",
       "\\item 36\n",
       "\\item 49\n",
       "\\item 64\n",
       "\\item 81\n",
       "\\item 100\n",
       "\\end{enumerate*}\n"
      ],
      "text/markdown": [
       "1. 1\n",
       "2. 4\n",
       "3. 9\n",
       "4. 16\n",
       "5. 25\n",
       "6. 36\n",
       "7. 49\n",
       "8. 64\n",
       "9. 81\n",
       "10. 100\n",
       "\n",
       "\n"
      ],
      "text/plain": [
       " [1]   1   4   9  16  25  36  49  64  81 100"
      ]
     },
     "metadata": {},
     "output_type": "display_data"
    }
   ],
   "source": [
    "squares(10)"
   ]
  },
  {
   "cell_type": "code",
   "execution_count": 78,
   "metadata": {
    "nbgrader": {
     "grade": true,
     "grade_id": "cell-96e4559b08c4a210",
     "locked": true,
     "points": 1,
     "schema_version": 3,
     "solution": false,
     "task": false
    }
   },
   "outputs": [],
   "source": [
    "stopifnot(squares(1) == c(1))\n",
    "stopifnot(squares(10) == c(1, 4, 9, 16, 25, 36, 49, 64, 81, 100))\n",
    "### BEGIN HIDDEN TESTS\n",
    "stopifnot(squares(2) == c(1, 4))\n",
    "stopifnot(squares(11) == c(1, 4, 9, 16, 25, 36, 49, 64, 81, 100, 121))\n",
    "### END HIDDEN TESTS"
   ]
  },
  {
   "cell_type": "code",
   "execution_count": 79,
   "metadata": {
    "nbgrader": {
     "grade": true,
     "grade_id": "cell-0596eb3331ec0e8b",
     "locked": true,
     "points": 1,
     "schema_version": 3,
     "solution": false,
     "task": false
    }
   },
   "outputs": [],
   "source": [
    "library(testthat)\n",
    "\n",
    "expect_error(squares('0'), \"ValueError\")\n",
    "expect_error(squares('-4'), \"ValueError\")\n",
    "### BEGIN HIDDEN TESTS\n",
    "expect_error(squares('a'), \"ValueError\")\n",
    "### END HIDDEN TESTS"
   ]
  },
  {
   "cell_type": "markdown",
   "metadata": {},
   "source": [
    "# Part B (2 point)¶\n",
    "\n",
    "Using your squares function, write a function that computes the sum of the squares of the numbers from 1 to n. Your function should call the squares function -- it should NOT reimplement its functionality.\n"
   ]
  },
  {
   "cell_type": "code",
   "execution_count": 80,
   "metadata": {
    "nbgrader": {
     "grade": false,
     "grade_id": "cell-c8de1c80ebcae91d",
     "locked": false,
     "schema_version": 3,
     "solution": true,
     "task": false
    }
   },
   "outputs": [],
   "source": [
    "sum_of_squares <- function (m) {\n",
    "    ### BEGIN SOLUTION\n",
    "    return( sum(squares(m)))\n",
    "    ### END SOLUTION\n",
    "}"
   ]
  },
  {
   "cell_type": "code",
   "execution_count": 81,
   "metadata": {
    "nbgrader": {
     "grade": true,
     "grade_id": "cell-337b5ec008e48ddb",
     "locked": true,
     "points": 1,
     "schema_version": 3,
     "solution": false,
     "task": false
    }
   },
   "outputs": [],
   "source": [
    "stopifnot(sum_of_squares(1) == 1)\n",
    "stopifnot(sum_of_squares(10) == 385)\n",
    "### BEGIN HIDDEN TESTS\n",
    "stopifnot(sum_of_squares(2) == 5)\n",
    "stopifnot(sum_of_squares(11) == 506)\n",
    "### END HIDDEN TESTS"
   ]
  },
  {
   "cell_type": "code",
   "execution_count": 82,
   "metadata": {
    "nbgrader": {
     "grade": true,
     "grade_id": "cell-290779ad1953dcd0",
     "locked": true,
     "points": 1,
     "schema_version": 3,
     "solution": false,
     "task": false
    }
   },
   "outputs": [],
   "source": [
    "## This will remove the 'squares' function. If you want the squares function back, then\n",
    "## You will need to re-run the 'squares <- function (n) {' cell after running this cell.\n",
    "library(testthat)\n",
    "\n",
    "rm(squares)\n",
    "expect_error(sum_of_squares('1'), \"could not find function \\\"squares\\\"\")\n"
   ]
  },
  {
   "cell_type": "markdown",
   "metadata": {
    "nbgrader": {
     "grade": false,
     "grade_id": "cell-639b6fc276bb28a0",
     "locked": true,
     "schema_version": 3,
     "solution": false,
     "task": false
    }
   },
   "source": [
    "# Calculating the circumference of a circle"
   ]
  },
  {
   "cell_type": "markdown",
   "metadata": {
    "nbgrader": {
     "grade": false,
     "grade_id": "cell-688398f38c57285a",
     "locked": true,
     "points": 0,
     "schema_version": 3,
     "solution": false,
     "task": true
    }
   },
   "source": [
    "The Ramanujan formula for determening the cirfumference of an elipse is:\n",
    "\n",
    "C ~~ pi(3a + 3b - sqrt[(a+3b)(b+3a)])\n",
    "\n",
    "In the cell below, write some R code to print the circumference when a=2 & b=3\n",
    "\n",
    "=== BEGIN MARK SCHEME ===\n",
    "```\n",
    "a = 2\n",
    "b = 3\n",
    "part_b = sqrt((a+(3*b)*(b+(3*a))))\n",
    "c= 3.1415 * ((3*a) + (3*b) - part_b)\n",
    "print(sprintf(\"Circumference = %s\", c))\n",
    "## Circumference = 18.502072911118184 for pi=3.1415\n",
    "```\n",
    "=== END MARK SCHEME ==="
   ]
  },
  {
   "cell_type": "code",
   "execution_count": null,
   "metadata": {
    "nbgrader": {
     "grade": true,
     "grade_id": "cell-9aa116dad02f428f",
     "locked": false,
     "points": 0,
     "schema_version": 3,
     "solution": true,
     "task": false
    }
   },
   "outputs": [],
   "source": []
  }
 ],
 "metadata": {
  "celltoolbar": "Create Assignment",
  "kernelspec": {
   "display_name": "R with Stan",
   "language": "R",
   "name": "ir"
  },
  "language_info": {
   "codemirror_mode": "r",
   "file_extension": ".r",
   "mimetype": "text/x-r-source",
   "name": "R",
   "pygments_lexer": "r",
   "version": "3.6.3"
  }
 },
 "nbformat": 4,
 "nbformat_minor": 4
}
