{
 "cells": [
  {
   "cell_type": "markdown",
   "metadata": {},
   "source": [
    "## This Notebook - Goals - FOR EDINA\n",
    "\n",
    "**What?:**\n",
    "- Example question and answer styles for notebook assignments and tutorials.\n",
    "\n",
    "**Who?:**\n",
    "- This notebook is for teachers and those creating educational materials.\n",
    "\n",
    "**Why?:**\n",
    "- Provides template from which to copy and paste or get ideas.\n",
    "\n",
    "**Noteable features to exploit:**\n",
    "- Markdown elements incorporated\n",
    "- Demonstrates inbuilt library use\n",
    "\n",
    "**How?:**\n",
    "- Brief set of potential question/answer formats\n",
    "- Demonstrates range of elements required in teaching (for example creating alert boxes)\n",
    "\n",
    "<hr>"
   ]
  },
  {
   "cell_type": "markdown",
   "metadata": {},
   "source": [
    "# Notes for teachers\n",
    "\n",
    "This template is intended to give examples of many different question and answer styles, as well as showing some examples of how to format your worksheets for use with nbgrader. You can use this as a base for your own worksheets by downloading the file and uploading it to your noteable account. \n",
    "\n",
    "If you are looking to cut and paste questions into a worksheet, please see the preformatted skeleton [here](https://github.com/edina/Exemplars2020/blob/master/TeachingDocs/Templates/Assignment_Skeleton.ipynb), which may be more efficient than editing this reference sheet.\n",
    "\n",
    "For a list of libraries available on each notebook, follow [this link](https://noteable.edina.ac.uk/notebooks_descriptions/).\n",
    "\n",
    "## How to use this sheet\n",
    "\n",
    "click on any cell and press <kbd>Enter</kbd> to view and edit the markdown/code in that cell. Press <kbd>Shift + Enter</kbd> to run the cell (this will also show you the formatted written cells).\n",
    "\n",
    "You can delete a cell by clicking the scissor symbol in the toolbar above. Similarly, you can copy and paste cells using the adjacent buttons.\n",
    "\n",
    "The \"+\" button on the toolbar will produce a new code cell, you can switch to markdown using the dropdown in the toolbar above."
   ]
  },
  {
   "cell_type": "markdown",
   "metadata": {},
   "source": [
    "# Assignment Title\n",
    "\n",
    "Important information such as <b>due date of the assignment</b> and <b> % contribution to overall grade</b>."
   ]
  },
  {
   "cell_type": "markdown",
   "metadata": {},
   "source": [
    "<div class=\"alert alert-success\" role=\"alert\">\n",
    "\n",
    "## Instructions to students\n",
    "\n",
    "Before you submit, ensure that the notebook can be run from start to finish by pressing the \"Restart & Run All\" option in the \"Kernel\" menu above.\n",
    "<br><br>\n",
    "If the assignment was fetched from the assignments tab, do not change the name of the assignment file(s).\n",
    "<br><br>\n",
    "Cells which are left blank for your responses will either require a text response or a code response. This will be clear from the question, but you should check that a text response is written in a markdown cell, and a code response is written in a code cell (as indicated in the toolbar).\n",
    "\n",
    "### Code answers\n",
    "\n",
    "In questions that require you to write code, there will usually be a code cell containing: \n",
    "    \n",
    "<code># ANSWER HERE</code>\n",
    "<br>\n",
    "<code>raise NotImplementedError()</code>\n",
    "    \n",
    "When you are ready to write your answer, delete <code>raise NotImplementedError()</code> and write your code.\n",
    "\n",
    "### Text answers\n",
    "\n",
    "For questions with a text answer, there will be a markdown cell following the question. There will usually be an indication that the cell is intended for your answer such as \"YOUR ANSWER HERE\".\n",
    "\n",
    "</div>"
   ]
  },
  {
   "cell_type": "code",
   "execution_count": null,
   "metadata": {},
   "outputs": [],
   "source": [
    "# this section enables use of specific libraries in the document\n",
    "# this can usually be ignored by students\n",
    "\n",
    "# command style instruction to plot inside notebook\n",
    "%matplotlib inline\n",
    "\n",
    "import numpy as np\n",
    "\n",
    "# import libraries used in the assignment (add more as required):\n",
    "import matplotlib\n",
    "import matplotlib.pyplot as plt\n",
    "\n",
    "# hide unnecessary warnings\n",
    "import warnings\n",
    "warnings.filterwarnings('ignore')"
   ]
  },
  {
   "cell_type": "markdown",
   "metadata": {},
   "source": [
    "## Assignment content\n",
    "\n",
    "Text outlining the content covered in the assignment, possibly including a reference [(Jones)[1]](#References). There may be some [links](https://www.google.com) to useful content."
   ]
  },
  {
   "cell_type": "markdown",
   "metadata": {},
   "source": [
    "## Question 1\n",
    "\n",
    "This question is about some content. Please write the equation for the circumference of a circle in latex.\n",
    "\n",
    "<i>Hint: To use latex inline, surround the latex code with <code>\\$</code>. Latex code on its own line should be surrounded by <code>\\$\\$</code>.</i>"
   ]
  },
  {
   "cell_type": "markdown",
   "metadata": {},
   "source": [
    "$$ C = 2\\pi r $$"
   ]
  },
  {
   "cell_type": "markdown",
   "metadata": {},
   "source": [
    "## Question 2\n",
    "\n",
    "Given your answer above, write a python function in the cell below that calculates the circumference of a circle, given the radius.\n",
    "\n",
    "Function specification:\n",
    "- Function name - cirm\n",
    "- Input - radius of circle\n",
    "- Output - circumference of circle, correct to 2 decimal places\n",
    "\n",
    "<i>Hint: You will need to import the 'math' module in order to use $\\pi$ in your calculation.</i>"
   ]
  },
  {
   "cell_type": "code",
   "execution_count": null,
   "metadata": {},
   "outputs": [],
   "source": [
    "import math\n",
    "\n",
    "# function cirm\n",
    "def cirm(n):\n",
    "    \n",
    "    ### BEGIN SOLUTION\n",
    "    return 2*math.pi*n \n",
    "    ### END SOLUTION\n"
   ]
  },
  {
   "cell_type": "code",
   "execution_count": null,
   "metadata": {},
   "outputs": [],
   "source": [
    "### BEGIN HIDDEN TESTS\n",
    "assert round(cirm(1),2) == 6.28\n",
    "assert round(cirm(2),2) == 12.57\n",
    "assert round(cirm(3),2) == 18.85\n",
    "assert round(cirm(4),2) == 25.13\n",
    "assert round(cirm(5),2) == 31.42\n",
    "### END HIDDEN TESTS"
   ]
  },
  {
   "cell_type": "markdown",
   "metadata": {},
   "source": [
    "Now use python to calculate the circumference of circles with radii:\n",
    "\n",
    "<code>\\[1, 2, 3, 4, 5\\]</code>\n",
    "\n",
    "Function specification:\n",
    "- Function name - cirms\n",
    "- Input - list of radii: \\[1, 2, 3, 4, 5\\]\n",
    "- Output - list of associated circumferences, rounded to 2 decimal places"
   ]
  },
  {
   "cell_type": "code",
   "execution_count": null,
   "metadata": {},
   "outputs": [],
   "source": [
    "def cirms(ns):\n",
    "    cs = []\n",
    "    for n in ns:\n",
    "        ### BEGIN SOLUTION\n",
    "        cs.append(round(cirm(n),2))\n",
    "        ### END SOLUTION\n",
    "    return cs"
   ]
  },
  {
   "cell_type": "code",
   "execution_count": null,
   "metadata": {},
   "outputs": [],
   "source": [
    "### BEGIN HIDDEN TESTS\n",
    "assert cirms([1,2,3,4,5]) == [6.28, 12.57, 18.85, 25.13, 31.42]\n",
    "### END HIDDEN TESTS"
   ]
  },
  {
   "cell_type": "markdown",
   "metadata": {},
   "source": [
    "## Question 3\n",
    "\n",
    "In a maths lesson, Bethany is asked to guess the circumference of the circles. Here are her guesses:\n",
    "\n",
    "| Radius | Guess |\n",
    "|--------|-------|\n",
    "|    1   |   6   |\n",
    "|    2   |  14   |\n",
    "|    3   |  20   |\n",
    "|    4   |  25   |\n",
    "|    5   |  35   |\n",
    "\n",
    "<br>\n",
    "\n",
    "In the cell below, create a table similar to that above, also including the actual values (as calculated in question 2)."
   ]
  },
  {
   "cell_type": "code",
   "execution_count": null,
   "metadata": {},
   "outputs": [],
   "source": [
    "# this code cell stores Bethany's guesses in a list called gs\n",
    "\n",
    "gs = [6, 14, 20, 25, 35]"
   ]
  },
  {
   "cell_type": "markdown",
   "metadata": {},
   "source": [
    "ANSWER SPACE FOR Q3"
   ]
  },
  {
   "cell_type": "markdown",
   "metadata": {},
   "source": [
    "## Question 4\n",
    "\n",
    "Produce a suitable plot for Bethany's guesses. Again, consider suitable library functions to achieve this."
   ]
  },
  {
   "cell_type": "code",
   "execution_count": null,
   "metadata": {},
   "outputs": [],
   "source": [
    "x = np.linspace(1, 5,250) # numbers 1 to 5, 250 samples - using numpy\n",
    "\n",
    "#plt.plot(x,cirm(x),label=\"true data\", color=\"red\") # matlab style plot\n",
    "plt.scatter([1,2,3,4,5], gs, label=\"guesses\") # Bethany's guesses\n",
    "plt.legend();"
   ]
  },
  {
   "cell_type": "markdown",
   "metadata": {},
   "source": [
    "## Question 5\n",
    "\n",
    "Plot the graph from question 4 again, but this time include a line showing the true circumference values.\n",
    "\n",
    "_Hint: you can copy and paste cells by using the toolbar above._"
   ]
  },
  {
   "cell_type": "code",
   "execution_count": null,
   "metadata": {},
   "outputs": [],
   "source": [
    "x = np.linspace(1, 5,250) # numbers 1 to 5, 250 samples - using numpy\n",
    "\n",
    "plt.plot(x,cirm(x),label=\"true data\", color=\"red\") # matlab style plot\n",
    "plt.scatter([1,2,3,4,5], gs, label=\"guesses\") # Bethany's guesses\n",
    "plt.legend();"
   ]
  },
  {
   "cell_type": "markdown",
   "metadata": {},
   "source": [
    "<a id='References'></a>\n",
    "\n",
    "# References \n",
    "\n",
    "[1] Reference to book by Jones as mentioned.\n",
    "\n",
    "\n",
    "\n"
   ]
  }
 ],
 "metadata": {
  "kernelspec": {
   "display_name": "Python 3 (ipykernel)",
   "language": "python",
   "name": "python3"
  },
  "language_info": {
   "codemirror_mode": {
    "name": "ipython",
    "version": 3
   },
   "file_extension": ".py",
   "mimetype": "text/x-python",
   "name": "python",
   "nbconvert_exporter": "python",
   "pygments_lexer": "ipython3",
   "version": "3.9.12"
  }
 },
 "nbformat": 4,
 "nbformat_minor": 2
}
