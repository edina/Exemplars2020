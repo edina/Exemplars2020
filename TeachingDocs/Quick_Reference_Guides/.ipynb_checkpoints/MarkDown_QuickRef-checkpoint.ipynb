{
 "cells": [
  {
   "cell_type": "markdown",
   "metadata": {},
   "source": [
    "## This Notebook - Goals - FOR EDINA\n",
    "\n",
    "**What?:**\n",
    "- Provide quick reference for markdown\n",
    "\n",
    "**Who?:**\n",
    "- Mainly teachers, also anyone new to markdown\n",
    "\n",
    "**Why?:**\n",
    "- Provides quick reference for basic markdown\n",
    "\n",
    "**Noteable features to exploit:**\n",
    "- Markdown\n",
    "\n",
    "**How?:**\n",
    "- Briefly demonstrate most common markdown use in notebooks\n",
    "\n",
    "<hr>"
   ]
  },
  {
   "cell_type": "markdown",
   "metadata": {},
   "source": [
    "# How to use this notebook\n",
    "\n",
    "Below are several examples of common markdown uses - to see the raw markdown, click on a cell and press <kbd>Enter</kbd>. press <kbd>Shift + Enter</kbd> to see how that markdown will look and move onto the next cell."
   ]
  },
  {
   "cell_type": "markdown",
   "metadata": {},
   "source": [
    "# Text Formatting"
   ]
  },
  {
   "cell_type": "markdown",
   "metadata": {},
   "source": [
    "**Paragraphing** in markdown is slightly different to plain text. \n",
    "Starting a new line won't render as a newline.\n",
    "\n",
    "Leave a blank line to seperate paragraphs. Alternatively, use the break tag:\n",
    "<br>\n",
    "This text is on a newline, but without additional space as above.\n",
    "\n",
    "You can use the header tag (below) to create a line separating your text - this helps seperate out the notebook.\n",
    "\n",
    "<hr>"
   ]
  },
  {
   "cell_type": "markdown",
   "metadata": {},
   "source": [
    "# title\n",
    "## subtitle 1\n",
    "### subtitle 2\n",
    "#### subtitle 3\n",
    "\n",
    "<hr>"
   ]
  },
  {
   "cell_type": "markdown",
   "metadata": {},
   "source": [
    "<i>italic</i>\n",
    "*italic*\n",
    "_italic_"
   ]
  },
  {
   "cell_type": "markdown",
   "metadata": {},
   "source": [
    "<b>bold</b>\n",
    "**bold**\n",
    "__bold__\n",
    "\n",
    "<hr>"
   ]
  },
  {
   "cell_type": "markdown",
   "metadata": {},
   "source": [
    "<code>embedded code - \n",
    "    won't be executed\n",
    "    just for demonstration\n",
    "</code>\n",
    "\n",
    "<hr>"
   ]
  },
  {
   "cell_type": "markdown",
   "metadata": {},
   "source": [
    "# Alerts and Information"
   ]
  },
  {
   "cell_type": "markdown",
   "metadata": {},
   "source": [
    "<div class=\"alert alert-danger\">\n",
    "    Red text box.\n",
    "</div>"
   ]
  },
  {
   "cell_type": "markdown",
   "metadata": {},
   "source": [
    "<div class=\"alert alert-info\">\n",
    "    Blue text box.\n",
    "</div>"
   ]
  },
  {
   "cell_type": "markdown",
   "metadata": {},
   "source": [
    "<div class=\"alert alert-success\">\n",
    "    Green text box.\n",
    "</div>"
   ]
  },
  {
   "cell_type": "markdown",
   "metadata": {},
   "source": [
    "<div class=\"alert alert-warning\">\n",
    "    Yellow text box.\n",
    "</div>"
   ]
  },
  {
   "cell_type": "markdown",
   "metadata": {},
   "source": [
    "# Links"
   ]
  },
  {
   "cell_type": "markdown",
   "metadata": {},
   "source": [
    "\n",
    "<p>\n",
    "    Picture: <img src='woman.jpg' alt=\"woman\">\n",
    "</p>"
   ]
  },
  {
   "cell_type": "markdown",
   "metadata": {},
   "source": [
    "Link to site:\n",
    "\n",
    "[Noteable website](https://noteable.edina.ac.uk)"
   ]
  },
  {
   "cell_type": "markdown",
   "metadata": {},
   "source": [
    "# Maths"
   ]
  },
  {
   "cell_type": "markdown",
   "metadata": {},
   "source": [
    "Embed latex in your text by enclosing in single dollar signs: $x$, $pi$, $\\frac{1}{r}$ and continue paragraph."
   ]
  },
  {
   "cell_type": "markdown",
   "metadata": {},
   "source": [
    "Write blocks of latex (on own line) by enclosing in double dollar signs:\n",
    "\n",
    "$$\n",
    "D(p_1,p_2) = \\frac{2 |p_1 p_2|}{|p_1|+|p_2|}\n",
    "$$\n"
   ]
  },
  {
   "cell_type": "markdown",
   "metadata": {},
   "source": [
    "# Question formats"
   ]
  },
  {
   "cell_type": "markdown",
   "metadata": {},
   "source": [
    "**Q1:** Question including a list:\n",
    "- item 1\n",
    "- item 2\n",
    "- item 3"
   ]
  },
  {
   "cell_type": "markdown",
   "metadata": {},
   "source": [
    "**Q1:** Question including a numbered list:\n",
    "1. item 1\n",
    "2. item 2\n",
    "3. item 3"
   ]
  },
  {
   "cell_type": "markdown",
   "metadata": {},
   "source": [
    "**Q1:** Question with a checklist:\n",
    "\n",
    "<ul style=\"list-style-type: none;\">\n",
    "    <li><input type=\"checkbox\"> Task 1</li>\n",
    "    <li><input type=\"checkbox\"> Task 2</li>\n",
    "    <li><input type=\"checkbox\"> Task 3</li>\n",
    "</ul>"
   ]
  },
  {
   "cell_type": "markdown",
   "metadata": {},
   "source": [
    "**Q1:** Question with a table:\n",
    "\n",
    "\n",
    "| Column 1 | Column 2 |\n",
    "|----------|----------|\n",
    "|    1     |   6      |\n",
    "|    2     |  14      |\n",
    "|    3     |  20      |\n",
    "|    4     |  25      |\n",
    "|    5     |  35      |"
   ]
  }
 ],
 "metadata": {
  "kernelspec": {
   "display_name": "Python 3",
   "language": "python",
   "name": "python3"
  },
  "language_info": {
   "codemirror_mode": {
    "name": "ipython",
    "version": 3
   },
   "file_extension": ".py",
   "mimetype": "text/x-python",
   "name": "python",
   "nbconvert_exporter": "python",
   "pygments_lexer": "ipython3",
   "version": "3.7.6"
  }
 },
 "nbformat": 4,
 "nbformat_minor": 2
}
