{
 "cells": [
  {
   "cell_type": "markdown",
   "metadata": {
    "deletable": false,
    "editable": false,
    "nbgrader": {
     "cell_type": "markdown",
     "checksum": "df5a3ae8e0121e712045a4caee8885f9",
     "grade": false,
     "grade_id": "Purpose",
     "locked": true,
     "schema_version": 3,
     "solution": false,
     "task": false
    }
   },
   "source": [
    "## This Notebook - Goals - FOR EDINA\n",
    "\n",
    "**What?:**\n",
    "- What is the purpose of this notebook?\n",
    "\n",
    "**Who?:**\n",
    "- Who is this aimed at? Who is likely to come across it?\n",
    "\n",
    "**Why?:**\n",
    "- What is the motivation behind this notebook?\n",
    "\n",
    "**Noteable features to exploit:**\n",
    "- what features of noteable are being exploited?\n",
    "\n",
    "**How?:**\n",
    "- How are the features exploited? \n",
    "- What is being done to satisfy the needs of the audience?\n",
    "\n",
    "<hr>"
   ]
  },
  {
   "cell_type": "markdown",
   "metadata": {
    "deletable": false,
    "editable": false,
    "nbgrader": {
     "cell_type": "markdown",
     "checksum": "f1ee05b01946f14b707c15ba9e172400",
     "grade": false,
     "grade_id": "Instructions",
     "locked": true,
     "schema_version": 3,
     "solution": false,
     "task": false
    }
   },
   "source": [
    "<div class=\"alert alert-info\" role=\"alert\">\n",
    "\n",
    "# Notes for teachers\n",
    "\n",
    "If you are learning to use nbgrader, this notebook is for you.\n",
    "\n",
    "This notebook demonstrates the particular syntax used in autograded assignments.\n",
    "\n",
    "There is an [accompanying guide] that explains the process of uploading this to formgrader (the toolbar used by nbgrader).\n",
    "\n",
    "If you would like a worksheet template please see [THIS NOTEBOOK] which you can download and edit to suit your assignment.\n",
    "\n",
    "## How to use this sheet\n",
    "\n",
    "To see the markdown used in any markdown cell, click on it and press <code>Enter</code>.\n",
    "\n",
    "</div>"
   ]
  },
  {
   "cell_type": "markdown",
   "metadata": {
    "deletable": false,
    "editable": false,
    "nbgrader": {
     "cell_type": "markdown",
     "checksum": "a37717e87f4c2f3e4354d28c7221fab0",
     "grade": false,
     "grade_id": "Intro",
     "locked": true,
     "schema_version": 3,
     "solution": false,
     "task": false
    }
   },
   "source": [
    "# Introduction to Python - Class Test\n",
    "\n",
    "This test will ask you questions on a few of the python topics studied in your introduction to python class. Some of the questions in the test are automarked - take note of the tests you can see, and be aware your grade will also be based on hidden tests, only visible to the instructor."
   ]
  },
  {
   "cell_type": "markdown",
   "metadata": {
    "deletable": false,
    "editable": false,
    "nbgrader": {
     "cell_type": "markdown",
     "checksum": "57cdad683fcf3b06e4e2caa3ad8a62b2",
     "grade": false,
     "grade_id": "Q1",
     "locked": true,
     "schema_version": 3,
     "solution": false,
     "task": false
    }
   },
   "source": [
    "## Question 1 (5 marks)\n",
    "\n",
    "This question requires a response in LaTeX:\n",
    "\n",
    "Write the formula for the circumference of a circle in terms of radius."
   ]
  },
  {
   "cell_type": "markdown",
   "metadata": {
    "deletable": false,
    "nbgrader": {
     "cell_type": "markdown",
     "checksum": "ea6df8bf849290656ed8831c9688e2f6",
     "grade": true,
     "grade_id": "circumference",
     "locked": false,
     "points": 5,
     "schema_version": 3,
     "solution": true,
     "task": false
    }
   },
   "source": [
    "YOUR ANSWER HERE"
   ]
  },
  {
   "cell_type": "markdown",
   "metadata": {
    "deletable": false,
    "editable": false,
    "nbgrader": {
     "cell_type": "markdown",
     "checksum": "65dfd3ab659d05a82d5f35b2200970d0",
     "grade": false,
     "grade_id": "Q2",
     "locked": true,
     "schema_version": 3,
     "solution": false,
     "task": false
    }
   },
   "source": [
    "## Question 2 (10 marks)\n",
    "\n",
    "Here is a question that requires a code response:\n",
    "\n",
    "Given your answer above, write a python function in the cell below that calculates the circumference of a circle, given the radius.\n",
    "\n",
    "Function specification:\n",
    "- Function name - cirm\n",
    "- Input - radius of circle\n",
    "- Output - circumference of circle, correct to 2 decimal places\n",
    "\n",
    "<i>Hint: You will need to import the 'math' module in order to use $\\pi$ in your calculation.</i>"
   ]
  },
  {
   "cell_type": "code",
   "execution_count": null,
   "metadata": {
    "deletable": false,
    "nbgrader": {
     "cell_type": "code",
     "checksum": "8c4fa074c7318919518103ef6449d80f",
     "grade": false,
     "grade_id": "cirm",
     "locked": false,
     "schema_version": 3,
     "solution": true,
     "task": false
    }
   },
   "outputs": [],
   "source": [
    "# import required libraries here\n",
    "\n",
    "# function cirm\n",
    "def cirm(n):\n",
    "    \n",
    "    # YOUR CODE HERE\n",
    "    raise NotImplementedError()\n"
   ]
  },
  {
   "cell_type": "code",
   "execution_count": null,
   "metadata": {
    "deletable": false,
    "editable": false,
    "nbgrader": {
     "cell_type": "code",
     "checksum": "5d9d9b4c0ae2ea687e84123dde119f69",
     "grade": true,
     "grade_id": "tests_cirm",
     "locked": true,
     "points": 1,
     "schema_version": 3,
     "solution": false,
     "task": false
    }
   },
   "outputs": [],
   "source": [
    "assert round(cirm(1),2) == 6.28"
   ]
  },
  {
   "cell_type": "code",
   "execution_count": null,
   "metadata": {
    "deletable": false,
    "editable": false,
    "nbgrader": {
     "cell_type": "code",
     "checksum": "245103d767c66f4bba0d772fd3c400ca",
     "grade": true,
     "grade_id": "tests_cirm_hidden",
     "locked": true,
     "points": 6,
     "schema_version": 3,
     "solution": false,
     "task": false
    }
   },
   "outputs": [],
   "source": [
    "assert round(cirm(2),2) == 12.57\n"
   ]
  },
  {
   "cell_type": "markdown",
   "metadata": {
    "deletable": false,
    "editable": false,
    "nbgrader": {
     "cell_type": "markdown",
     "checksum": "14c0045b185ce18b28f899de24c12c4a",
     "grade": false,
     "grade_id": "cirms_instruct",
     "locked": true,
     "schema_version": 3,
     "solution": false,
     "task": false
    }
   },
   "source": [
    "Write a function that calculates a list of circumferences, given a list of radii.\n",
    "\n",
    "Function specification:\n",
    "- Function name - cirms\n",
    "- Input - list of radii: (eg: <code>\\[1, 2, 3, 4, 5\\]</code> )\n",
    "- Output - list of associated circumferences, rounded to 2 decimal places"
   ]
  },
  {
   "cell_type": "code",
   "execution_count": null,
   "metadata": {
    "deletable": false,
    "nbgrader": {
     "cell_type": "code",
     "checksum": "163da80ff0d2957941a5ac574d06071c",
     "grade": false,
     "grade_id": "cirms",
     "locked": false,
     "schema_version": 3,
     "solution": true,
     "task": false
    }
   },
   "outputs": [],
   "source": [
    "def cirms(ns):\n",
    "    \n",
    "    # YOUR CODE HERE\n",
    "    raise NotImplementedError()"
   ]
  },
  {
   "cell_type": "markdown",
   "metadata": {
    "deletable": false,
    "editable": false,
    "nbgrader": {
     "cell_type": "markdown",
     "checksum": "6adbf69dd683071287cabf9f88e2e39b",
     "grade": false,
     "grade_id": "first5_instruct",
     "locked": true,
     "schema_version": 3,
     "solution": false,
     "task": false
    }
   },
   "source": [
    "Now use your function to calculate the circumference of circles with radii:\n",
    "\n",
    "\\[1, 2, 3, 4, 5\\]\n",
    "\n",
    "You should store the list of circumferences in a variable, <code>circumferences</code>."
   ]
  },
  {
   "cell_type": "code",
   "execution_count": null,
   "metadata": {
    "deletable": false,
    "nbgrader": {
     "cell_type": "code",
     "checksum": "22061a1c25c651e8db4929edd61cc4ee",
     "grade": false,
     "grade_id": "first5",
     "locked": false,
     "schema_version": 3,
     "solution": true,
     "task": false
    }
   },
   "outputs": [],
   "source": [
    "# YOUR CODE HERE\n",
    "raise NotImplementedError()"
   ]
  },
  {
   "cell_type": "code",
   "execution_count": null,
   "metadata": {
    "deletable": false,
    "editable": false,
    "nbgrader": {
     "cell_type": "code",
     "checksum": "67f3ac32746cb840e1582a7518e8ed36",
     "grade": true,
     "grade_id": "test_cirms",
     "locked": true,
     "points": 3,
     "schema_version": 3,
     "solution": false,
     "task": false
    }
   },
   "outputs": [],
   "source": [
    "assert cirms([1,2]) == [6.28, 12.57]\n"
   ]
  },
  {
   "cell_type": "markdown",
   "metadata": {
    "deletable": false,
    "editable": false,
    "nbgrader": {
     "cell_type": "markdown",
     "checksum": "355d7a846a8fe9ffec5c0222967bb6c5",
     "grade": false,
     "grade_id": "Q3",
     "locked": true,
     "schema_version": 3,
     "solution": false,
     "task": false
    }
   },
   "source": [
    "## Question 3 (1 mark)\n",
    "\n",
    "In a maths lesson, Bethany is asked to guess the circumference of the circles. Here are her guesses:\n",
    "\n",
    "| Radius | Guess |\n",
    "|--------|-------|\n",
    "|    1   |   6   |\n",
    "|    2   |  14   |\n",
    "|    3   |  20   |\n",
    "|    4   |  25   |\n",
    "|    5   |  35   |\n",
    "\n",
    "<br>\n",
    "\n",
    "In the <b>markdown cell</b> below, create a table similar to that above, also including the actual values (as calculated in question 2)."
   ]
  },
  {
   "cell_type": "markdown",
   "metadata": {
    "deletable": false,
    "nbgrader": {
     "cell_type": "markdown",
     "checksum": "dab7ac9f2e973637c4f5f34ebf398be7",
     "grade": true,
     "grade_id": "table",
     "locked": false,
     "points": 1,
     "schema_version": 3,
     "solution": true,
     "task": false
    }
   },
   "source": [
    "YOUR ANSWER HERE"
   ]
  },
  {
   "cell_type": "markdown",
   "metadata": {
    "deletable": false,
    "editable": false,
    "nbgrader": {
     "cell_type": "markdown",
     "checksum": "1f67a5367e8bb08c0cfca614ff49408f",
     "grade": false,
     "grade_id": "Q4",
     "locked": true,
     "schema_version": 3,
     "solution": false,
     "task": false
    }
   },
   "source": [
    "## Question 4 (9 marks)\n",
    "\n",
    "Produce a suitable plot for Bethany's guesses. Again, consider suitable library functions to achieve this. \n",
    "\n",
    "<i><b>Hint:</b> recall that you have a list of true values, and a list of guessed values is given in the cell below.</i>"
   ]
  },
  {
   "cell_type": "code",
   "execution_count": null,
   "metadata": {
    "deletable": false,
    "editable": false,
    "nbgrader": {
     "cell_type": "code",
     "checksum": "e72fef65987cbfd2b692f80e5fe7dc8c",
     "grade": false,
     "grade_id": "gs",
     "locked": true,
     "schema_version": 3,
     "solution": false,
     "task": false
    }
   },
   "outputs": [],
   "source": [
    "# this code cell stores Bethany's guesses in a list called gs\n",
    "gs = [6, 14, 20, 25, 35]"
   ]
  },
  {
   "cell_type": "code",
   "execution_count": null,
   "metadata": {
    "deletable": false,
    "nbgrader": {
     "cell_type": "code",
     "checksum": "f225ef01682a6fdc99642d00cec3252a",
     "grade": true,
     "grade_id": "bethanyPlot1",
     "locked": false,
     "points": 9,
     "schema_version": 3,
     "solution": true,
     "task": false
    }
   },
   "outputs": [],
   "source": [
    "# import helpful libraries here\n",
    "\n",
    "# YOUR CODE HERE\n",
    "raise NotImplementedError()"
   ]
  },
  {
   "cell_type": "markdown",
   "metadata": {
    "deletable": false,
    "editable": false,
    "nbgrader": {
     "cell_type": "markdown",
     "checksum": "130b7e1df746d501d2ca958f402eb9ac",
     "grade": false,
     "grade_id": "Q5",
     "locked": true,
     "schema_version": 3,
     "solution": false,
     "task": false
    }
   },
   "source": [
    "## Question 5 (5 marks)\n",
    "\n",
    "Plot the graph from question 4 again, but this time include a line showing the true circumference values.\n",
    "\n",
    "_Hint: you can copy and paste cells by using the toolbar above \"cut, copy, paste\"._"
   ]
  },
  {
   "cell_type": "code",
   "execution_count": null,
   "metadata": {
    "deletable": false,
    "nbgrader": {
     "cell_type": "code",
     "checksum": "e0b747c6e42ddbe2340d59252a96cab8",
     "grade": true,
     "grade_id": "bethanyPlot2",
     "locked": false,
     "points": 5,
     "schema_version": 3,
     "solution": true,
     "task": false
    }
   },
   "outputs": [],
   "source": [
    "# YOUR CODE HERE\n",
    "raise NotImplementedError()"
   ]
  },
  {
   "cell_type": "markdown",
   "metadata": {
    "deletable": false,
    "editable": false,
    "nbgrader": {
     "cell_type": "markdown",
     "checksum": "4b3f9ff7f8ce2823c7a89d6451765da4",
     "grade": false,
     "grade_id": "reflection",
     "locked": true,
     "points": 15,
     "schema_version": 3,
     "solution": false,
     "task": true
    }
   },
   "source": [
    "## Question 6 (15 marks)\n",
    "\n",
    "Reflect on the tools used in this notebook. Use as many code/markdown cells as you like to comment on the quality of Bethany's guesses. Consider calculating some measure of error.\n"
   ]
  },
  {
   "cell_type": "markdown",
   "metadata": {
    "deletable": false,
    "editable": false,
    "nbgrader": {
     "cell_type": "markdown",
     "checksum": "f016eeb4f19c5dd57c1a5172d66cc023",
     "grade": false,
     "grade_id": "submission",
     "locked": true,
     "schema_version": 3,
     "solution": false,
     "task": false
    }
   },
   "source": [
    "<hr>\n",
    "\n",
    "### Submission instructions\n",
    "\n",
    "Once you have completed the tasks above, please submit your assignment on Noteable.\n",
    "\n",
    "Multiple submissions are allowed - the latest will be counted."
   ]
  }
 ],
 "metadata": {
  "kernelspec": {
   "display_name": "Python 3",
   "language": "python",
   "name": "python3"
  },
  "language_info": {
   "codemirror_mode": {
    "name": "ipython",
    "version": 3
   },
   "file_extension": ".py",
   "mimetype": "text/x-python",
   "name": "python",
   "nbconvert_exporter": "python",
   "pygments_lexer": "ipython3",
   "version": "3.7.6"
  }
 },
 "nbformat": 4,
 "nbformat_minor": 2
}
