{
 "cells": [
  {
   "cell_type": "markdown",
   "metadata": {},
   "source": [
    "## This Notebook - Goals - FOR EDINA\n",
    "\n",
    "**What?:**\n",
    "- What is the purpose of this notebook?\n",
    "\n",
    "**Who?:**\n",
    "- Who is this aimed at? Who is likely to come across it?\n",
    "\n",
    "**Why?:**\n",
    "- What is the motivation behind this notebook?\n",
    "\n",
    "**Noteable features to exploit:**\n",
    "- what features of noteable are being exploited?\n",
    "\n",
    "**How?:**\n",
    "- How are the features exploited? \n",
    "- What is being done to satisfy the needs of the audience?\n",
    "\n",
    "<hr>"
   ]
  },
  {
   "cell_type": "markdown",
   "metadata": {},
   "source": [
    "# How to use this template\n",
    "\n",
    "- By default, this worksheet is set up to contain 5 code questions followed by 2 written answer questions. You can delete, copy and paste cells as appropriate for your worksheet.\n",
    "- To delete a cell, click on it and press the scissor button in the toolbar above.\n",
    "- Copy and paste a cell using the two buttons to the right of the scissor button in the toolbar above.\n",
    "\n",
    "\n",
    "- Click on a cell to select it, then press <code>Enter</code> to switch to edit mode.\n",
    "- In edit mode, type or paste questions in question cells.\n",
    "- See our [MARKDOWN FORMAT REFERENCE] for formatting (optional).\n",
    "- To get out of edit mode, press <code>Ctrl + Enter</code>.\n",
    "\n",
    "\n",
    "- Referencing is easy - (click \"Jones\" to see reference list) [(Jones)[1]](#References).<br>\n",
    "- Including links to resources - [links](https://www.google.com).\n",
    "\n",
    "\n",
    "- For answer cells, use the dropdown menu in the toolbar above to select whether students should give a code or written response.\n",
    "- \"Written answers\" can include text, basic tables and latex (see markdown reference). They are written in markdown cells.\n",
    "- \"Code answer\" cells can Optionally include commented code skeleton to prompt students in answer cell below. They are written in code cells."
   ]
  },
  {
   "cell_type": "markdown",
   "metadata": {},
   "source": [
    "# Assignment Title\n",
    "\n",
    "Assignment due date: <b>{INSERT DUE DATE}</b>.\n",
    "\n",
    "This assignment will make up <b>%{INSERT ASSIGNMENT WEIGHTING}</b> of your overall grade in this class."
   ]
  },
  {
   "cell_type": "markdown",
   "metadata": {},
   "source": [
    "<div class=\"alert alert-success\">\n",
    "\n",
    "## Instructions to students\n",
    "\n",
    "Before you submit, ensure that the notebook can be run from start to finish by pressing the \"Restart & Run All\" option in the \"Kernel\" menu above.\n",
    "<br><br>\n",
    "If the assignment was fetched from the assignments tab, do not change the name of the assignment file(s).\n",
    "<br><br>\n",
    "Cells which are left blank for your responses will either require a text response or a code response. This will be clear from the question, but you should check that a text response is written in a markdown cell, and a code response is written in a code cell (as indicated in the toolbar).\n",
    "\n",
    "### Code answers\n",
    "\n",
    "In questions that require you to write code, there will usually be a code cell containing: \n",
    "    \n",
    "<code># ANSWER HERE</code>\n",
    "<br>\n",
    "<code>raise NotImplementedError()</code>\n",
    "    \n",
    "When you are ready to write your answer, delete <code>raise NotImplementedError()</code> and write your code.\n",
    "\n",
    "### Text answers\n",
    "\n",
    "For questions with a text answer, there will be a markdown cell following the question. There will usually be an indication that the cell is intended for your answer such as <code>\"TYPE ANSWER HERE\"</code>.\n",
    "\n",
    "</div>"
   ]
  },
  {
   "cell_type": "code",
   "execution_count": 11,
   "metadata": {},
   "outputs": [],
   "source": [
    "# IMPORT LIBRARIES HERE\n",
    "# this cell can usually be ignored by students\n",
    "\n",
    "# Common libraries include:\n",
    "\n",
    "import math\n",
    "\n",
    "import numpy as np\n",
    "# %matplotlib is a magic command - see IPython documentation\n",
    "%matplotlib inline \n",
    "import matplotlib\n",
    "import matplotlib.pyplot as plt\n",
    "\n",
    "# hide unnecessary warnings\n",
    "import warnings\n",
    "warnings.filterwarnings('ignore')"
   ]
  },
  {
   "cell_type": "markdown",
   "metadata": {},
   "source": [
    "## Assignment Introduction\n",
    "\n",
    "*{INSERT EXPLANATION OF ASSIGNMENT}*\n",
    "\n",
    "\n",
    "\n"
   ]
  },
  {
   "cell_type": "markdown",
   "metadata": {},
   "source": [
    "### Question 1 - code\n",
    "\n",
    "This question has a code answer. \n",
    "\n",
    "*{PASTE/WRITE QUESTION HERE}*\n"
   ]
  },
  {
   "cell_type": "code",
   "execution_count": 5,
   "metadata": {},
   "outputs": [
    {
     "ename": "NotImplementedError",
     "evalue": "",
     "output_type": "error",
     "traceback": [
      "\u001b[0;31m---------------------------------------------------------------------------\u001b[0m",
      "\u001b[0;31mNotImplementedError\u001b[0m                       Traceback (most recent call last)",
      "\u001b[0;32m<ipython-input-5-7bd0c409bb95>\u001b[0m in \u001b[0;36m<module>\u001b[0;34m()\u001b[0m\n\u001b[1;32m      1\u001b[0m \u001b[0;31m# ANSWER HERE\u001b[0m\u001b[0;34m\u001b[0m\u001b[0;34m\u001b[0m\u001b[0;34m\u001b[0m\u001b[0m\n\u001b[0;32m----> 2\u001b[0;31m \u001b[0;32mraise\u001b[0m \u001b[0mNotImplementedError\u001b[0m\u001b[0;34m(\u001b[0m\u001b[0;34m)\u001b[0m\u001b[0;34m\u001b[0m\u001b[0;34m\u001b[0m\u001b[0m\n\u001b[0m",
      "\u001b[0;31mNotImplementedError\u001b[0m: "
     ]
    }
   ],
   "source": [
    "# ANSWER HERE\n",
    "raise NotImplementedError()"
   ]
  },
  {
   "cell_type": "code",
   "execution_count": 6,
   "metadata": {},
   "outputs": [],
   "source": [
    "# Tests for answer (visible/invisible to students)"
   ]
  },
  {
   "cell_type": "markdown",
   "metadata": {},
   "source": [
    "### Question 2 - code\n",
    "\n",
    "This question has a code answer. \n",
    "\n",
    "*{PASTE/WRITE QUESTION HERE}*"
   ]
  },
  {
   "cell_type": "code",
   "execution_count": 7,
   "metadata": {},
   "outputs": [
    {
     "ename": "NotImplementedError",
     "evalue": "",
     "output_type": "error",
     "traceback": [
      "\u001b[0;31m---------------------------------------------------------------------------\u001b[0m",
      "\u001b[0;31mNotImplementedError\u001b[0m                       Traceback (most recent call last)",
      "\u001b[0;32m<ipython-input-7-7bd0c409bb95>\u001b[0m in \u001b[0;36m<module>\u001b[0;34m()\u001b[0m\n\u001b[1;32m      1\u001b[0m \u001b[0;31m# ANSWER HERE\u001b[0m\u001b[0;34m\u001b[0m\u001b[0;34m\u001b[0m\u001b[0;34m\u001b[0m\u001b[0m\n\u001b[0;32m----> 2\u001b[0;31m \u001b[0;32mraise\u001b[0m \u001b[0mNotImplementedError\u001b[0m\u001b[0;34m(\u001b[0m\u001b[0;34m)\u001b[0m\u001b[0;34m\u001b[0m\u001b[0;34m\u001b[0m\u001b[0m\n\u001b[0m",
      "\u001b[0;31mNotImplementedError\u001b[0m: "
     ]
    }
   ],
   "source": [
    "# ANSWER HERE\n",
    "raise NotImplementedError()"
   ]
  },
  {
   "cell_type": "code",
   "execution_count": 8,
   "metadata": {},
   "outputs": [],
   "source": [
    "# Tests for answer (visible/invisible to students)"
   ]
  },
  {
   "cell_type": "markdown",
   "metadata": {},
   "source": [
    "### Question 3 - code\n",
    "\n",
    "This question has a code answer. \n",
    "\n",
    "*{PASTE/WRITE QUESTION HERE}*"
   ]
  },
  {
   "cell_type": "code",
   "execution_count": 9,
   "metadata": {},
   "outputs": [
    {
     "ename": "NotImplementedError",
     "evalue": "",
     "output_type": "error",
     "traceback": [
      "\u001b[0;31m---------------------------------------------------------------------------\u001b[0m",
      "\u001b[0;31mNotImplementedError\u001b[0m                       Traceback (most recent call last)",
      "\u001b[0;32m<ipython-input-9-7bd0c409bb95>\u001b[0m in \u001b[0;36m<module>\u001b[0;34m()\u001b[0m\n\u001b[1;32m      1\u001b[0m \u001b[0;31m# ANSWER HERE\u001b[0m\u001b[0;34m\u001b[0m\u001b[0;34m\u001b[0m\u001b[0;34m\u001b[0m\u001b[0m\n\u001b[0;32m----> 2\u001b[0;31m \u001b[0;32mraise\u001b[0m \u001b[0mNotImplementedError\u001b[0m\u001b[0;34m(\u001b[0m\u001b[0;34m)\u001b[0m\u001b[0;34m\u001b[0m\u001b[0;34m\u001b[0m\u001b[0m\n\u001b[0m",
      "\u001b[0;31mNotImplementedError\u001b[0m: "
     ]
    }
   ],
   "source": [
    "# ANSWER HERE\n",
    "raise NotImplementedError()"
   ]
  },
  {
   "cell_type": "code",
   "execution_count": 10,
   "metadata": {},
   "outputs": [],
   "source": [
    "# Tests for answer (visible/invisible to students)"
   ]
  },
  {
   "cell_type": "markdown",
   "metadata": {},
   "source": [
    "### Question 4 - written answer\n",
    "\n",
    "This question has a written answer. \n",
    "\n",
    "*{PASTE/WRITE QUESTION HERE}*"
   ]
  },
  {
   "cell_type": "markdown",
   "metadata": {},
   "source": [
    "<font color='green'>TYPE ANSWER HERE</font>"
   ]
  },
  {
   "cell_type": "markdown",
   "metadata": {},
   "source": [
    "### Question 5 - written answer\n",
    "\n",
    "This question has a written answer. \n",
    "\n",
    "*{PASTE/WRITE QUESTION HERE}*"
   ]
  },
  {
   "cell_type": "markdown",
   "metadata": {},
   "source": [
    "<font color='green'>TYPE ANSWER HERE</font>"
   ]
  },
  {
   "cell_type": "markdown",
   "metadata": {},
   "source": [
    "<a id='References'></a>\n",
    "# References \n",
    "\n",
    "[1] Reference to book mentioned."
   ]
  }
 ],
 "metadata": {
  "kernelspec": {
   "display_name": "Python 3",
   "language": "python",
   "name": "python3"
  },
  "language_info": {
   "codemirror_mode": {
    "name": "ipython",
    "version": 3
   },
   "file_extension": ".py",
   "mimetype": "text/x-python",
   "name": "python",
   "nbconvert_exporter": "python",
   "pygments_lexer": "ipython3",
   "version": "3.7.3"
  }
 },
 "nbformat": 4,
 "nbformat_minor": 2
}
