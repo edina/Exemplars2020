{
 "cells": [
  {
   "cell_type": "markdown",
   "metadata": {},
   "source": [
    "## This Notebook - Goals - FOR EDINA\n",
    "\n",
    "**What?:**\n",
    "- Provides skeleton which can be used as base to copy/paste other formats of worksheets into.\n",
    "- Specifically for use with nbgrader.\n",
    "\n",
    "**Who?:**\n",
    "- Teachers\n",
    "\n",
    "**Why?:**\n",
    "- Allows quick transfer from written worksheet/pdf/latex straight to Noteable.\n",
    "\n",
    "**Noteable features to exploit:**\n",
    "- Markdown options.\n",
    "\n",
    "**How?:**\n",
    "- Provides skeleton assignment.\n",
    "\n",
    "<hr>"
   ]
  },
  {
   "cell_type": "markdown",
   "metadata": {},
   "source": [
    "# How to use this template\n",
    "\n",
    "- By default, this worksheet is set up to contain 3 code questions followed by 3 written answer questions. You can delete, copy and paste cells as appropriate for your worksheet.\n",
    "- To delete a cell, click on it and press the scissor button in the toolbar above.\n",
    "- Copy and paste a cell using the two buttons to the right of the scissor button in the toolbar above.\n",
    "\n",
    "- Click on a cell to select it, then press <kbd>Enter</kbd> to switch to edit mode.\n",
    "- In edit mode, type or paste questions in question cells.\n",
    "- To get out of edit mode, press <kbd>Ctrl + Enter</kbd>. \n",
    "    - pressing <kbd>Ctrl + Enter</kbd> from a code cell will execute the cell.\n",
    "\n",
    "- Include links to resources with the following syntax: [text to display](https://www.google.com).\n",
    "\n",
    "- \"Written answers\" (Markdown cells) can include text, basic tables and latex (see markdown reference). They are written in markdown cells.\n",
    "- \"Code answers\" (code cells) can optionally include commented code skeleton to prompt students in answer cell below. They are written in code cells."
   ]
  },
  {
   "cell_type": "markdown",
   "metadata": {},
   "source": [
    "# Assignment Title\n",
    "\n",
    "Assignment due date: <b>{INSERT DUE DATE}</b>.\n",
    "\n",
    "This assignment will make up <b>{INSERT ASSIGNMENT WEIGHTING}%</b> of your overall grade in this class."
   ]
  },
  {
   "cell_type": "markdown",
   "metadata": {},
   "source": [
    "<div class=\"alert alert-success\">\n",
    "\n",
    "## Instructions to students\n",
    "\n",
    "If the assignment was fetched from the assignments tab, do not change the name of the assignment file(s).\n",
    "<br><br>\n",
    "Cells which are left blank for your responses will either require a text response or a code response. This will be clear from the question, but you should check that a text response is written in a markdown cell, and a code response is written in a code cell (as indicated in the toolbar).\n",
    "\n",
    "### Code answers\n",
    "\n",
    "In questions that require you to write code, there will usually be a code cell containing: \n",
    "    \n",
    "<code># YOUR CODE HERE</code>\n",
    "<br>\n",
    "<code>raise NotImplementedError()</code>\n",
    "    \n",
    "When you are ready to write your answer, delete <code>raise NotImplementedError()</code> and write your code.\n",
    "\n",
    "### Text answers\n",
    "\n",
    "For questions with a text answer, there will be a markdown cell following the question. There will usually be an indication that the cell is intended for your answer such as <code>\"YOUR ANSWER HERE\"</code>.\n",
    "    \n",
    "    \n",
    "### Submitting your work\n",
    "    \n",
    "You should save your work before you submit (\"Save\" icon in top menu).\n",
    "    \n",
    "Before you submit, ensure that the notebook can be run from start to finish by pressing the \"Restart & Run All\" option in the \"Kernel\" menu above.\n",
    "    \n",
    "Once you are ready, go to the assignments tab on the Noteable landing page and click \"Submit\" on the relevant assignment.\n",
    "\n",
    "</div>"
   ]
  },
  {
   "cell_type": "code",
   "execution_count": 3,
   "metadata": {},
   "outputs": [],
   "source": [
    "# IMPORT LIBRARIES HERE\n",
    "# this cell can usually be ignored by students\n",
    "\n",
    "# Common libraries include:\n",
    "\n",
    "import math\n",
    "\n",
    "import pandas as pd\n",
    "import numpy as np\n",
    "import matplotlib.pyplot as plt\n",
    "# %matplotlib is a magic command - see IPython documentation\n",
    "%matplotlib inline \n",
    "\n",
    "# hide unnecessary warnings\n",
    "import warnings\n",
    "warnings.filterwarnings('ignore')"
   ]
  },
  {
   "cell_type": "markdown",
   "metadata": {},
   "source": [
    "## Assignment Introduction\n",
    "\n",
    "*{INSERT EXPLANATION OF ASSIGNMENT}*\n",
    "\n",
    "\n",
    "\n"
   ]
  },
  {
   "cell_type": "markdown",
   "metadata": {},
   "source": [
    "### Question 1 - code\n",
    "\n",
    "This question has a code answer. \n",
    "\n",
    "*{PASTE/WRITE QUESTION HERE}*\n"
   ]
  },
  {
   "cell_type": "code",
   "execution_count": 4,
   "metadata": {},
   "outputs": [],
   "source": [
    "# include any comments or code stub here"
   ]
  },
  {
   "cell_type": "code",
   "execution_count": 5,
   "metadata": {},
   "outputs": [],
   "source": [
    "# Tests for answer\n",
    "# You can make these visible/invisible from Formgrader"
   ]
  },
  {
   "cell_type": "markdown",
   "metadata": {},
   "source": [
    "### Question 2 - code\n",
    "\n",
    "This question has a code answer. \n",
    "\n",
    "*{PASTE/WRITE QUESTION HERE}*"
   ]
  },
  {
   "cell_type": "code",
   "execution_count": 6,
   "metadata": {},
   "outputs": [],
   "source": [
    "# include any comments or code stub here"
   ]
  },
  {
   "cell_type": "code",
   "execution_count": 7,
   "metadata": {},
   "outputs": [],
   "source": [
    "# Tests for answer\n",
    "# You can make these visible/invisible from Formgrader"
   ]
  },
  {
   "cell_type": "markdown",
   "metadata": {},
   "source": [
    "### Question 3 - code\n",
    "\n",
    "This question has a code answer. \n",
    "\n",
    "*{PASTE/WRITE QUESTION HERE}*"
   ]
  },
  {
   "cell_type": "code",
   "execution_count": 8,
   "metadata": {},
   "outputs": [],
   "source": [
    "# include any comments or code stub here"
   ]
  },
  {
   "cell_type": "code",
   "execution_count": 9,
   "metadata": {},
   "outputs": [],
   "source": [
    "# Tests for answer\n",
    "# You can make these visible/invisible from Formgrader"
   ]
  },
  {
   "cell_type": "markdown",
   "metadata": {},
   "source": [
    "### Question 4 - written answer\n",
    "\n",
    "This question has a written answer. \n",
    "\n",
    "*{PASTE/WRITE QUESTION HERE}*"
   ]
  },
  {
   "cell_type": "markdown",
   "metadata": {},
   "source": [
    "<font color='green'>Cell left blank for student response</font>"
   ]
  },
  {
   "cell_type": "markdown",
   "metadata": {},
   "source": [
    "### Question 5 - written answer\n",
    "\n",
    "This question has a written answer. \n",
    "\n",
    "*{PASTE/WRITE QUESTION HERE}*"
   ]
  },
  {
   "cell_type": "markdown",
   "metadata": {},
   "source": [
    "<font color='green'>Cell left blank for student response</font>"
   ]
  },
  {
   "cell_type": "markdown",
   "metadata": {},
   "source": [
    "### Question 4 - written answer\n",
    "\n",
    "This question has a written answer. \n",
    "\n",
    "*{PASTE/WRITE QUESTION HERE}*"
   ]
  },
  {
   "cell_type": "markdown",
   "metadata": {},
   "source": [
    "<font color='green'>Cell left blank for student response</font>"
   ]
  }
 ],
 "metadata": {
  "kernelspec": {
   "display_name": "Python 3",
   "language": "python",
   "name": "python3"
  },
  "language_info": {
   "codemirror_mode": {
    "name": "ipython",
    "version": 3
   },
   "file_extension": ".py",
   "mimetype": "text/x-python",
   "name": "python",
   "nbconvert_exporter": "python",
   "pygments_lexer": "ipython3",
   "version": "3.7.3"
  }
 },
 "nbformat": 4,
 "nbformat_minor": 2
}
