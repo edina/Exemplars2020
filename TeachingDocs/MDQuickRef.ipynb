{
 "cells": [
  {
   "cell_type": "markdown",
   "metadata": {},
   "source": [
    "## This Notebook - Goals - FOR EDINA\n",
    "\n",
    "**What?:**\n",
    "- What is the purpose of this notebook?\n",
    "\n",
    "**Who?:**\n",
    "- Who is this aimed at? Who is likely to come across it?\n",
    "\n",
    "**Why?:**\n",
    "- What is the motivation behind this notebook?\n",
    "\n",
    "**Noteable features to exploit:**\n",
    "- what features of noteable are being exploited?\n",
    "\n",
    "**How?:**\n",
    "- How are the features exploited? \n",
    "- What is being done to satisfy the needs of the audience?\n",
    "\n",
    "<hr>"
   ]
  },
  {
   "cell_type": "markdown",
   "metadata": {},
   "source": [
    "# How to use this notebook\n",
    "\n",
    "Below are several examples of common markdown uses - to see the raw markdown, click on a cell and press <code>Enter</code>. press <code>Shift + Enter</code> to see how that markdown will look.\n",
    "\n",
    "This is by no means a full guide to markdown, if you are looking for something that you cannot find on this sheet, check tutorials [LINK] or documentation [LINK]"
   ]
  },
  {
   "cell_type": "markdown",
   "metadata": {},
   "source": [
    "# Text Formatting"
   ]
  },
  {
   "cell_type": "markdown",
   "metadata": {},
   "source": [
    "**Paragraphing** in markdown is slightly different to plain text. \n",
    "Starting a new line won't render as a newline.\n",
    "\n",
    "Leave a blank line to get seperate paragraphs. Alternatively, use br (break):\n",
    "<br>\n",
    "This text is on a newline, but without additional space as above.\n",
    "\n",
    "You can use the hr tag (below) to create a line underneath your text - this helps seperate out the notebook.\n",
    "\n",
    "<hr>"
   ]
  },
  {
   "cell_type": "markdown",
   "metadata": {},
   "source": [
    "# title\n",
    "## subtitle 1\n",
    "### subtitle 2\n",
    "#### subtitle 3\n",
    "\n",
    "<hr>"
   ]
  },
  {
   "cell_type": "markdown",
   "metadata": {},
   "source": [
    "<i>italic</i>\n",
    "*italic*\n",
    "_italic_"
   ]
  },
  {
   "cell_type": "markdown",
   "metadata": {},
   "source": [
    "<b>bold</b>\n",
    "**bold**\n",
    "__bold__\n",
    "\n",
    "<hr>"
   ]
  },
  {
   "cell_type": "markdown",
   "metadata": {},
   "source": [
    "<code>embedded code - \n",
    "    won't be executed\n",
    "    just for demonstration\n",
    "can use indent</code>\n",
    "\n",
    "<hr>"
   ]
  },
  {
   "cell_type": "markdown",
   "metadata": {},
   "source": [
    "# Alerts and Information"
   ]
  },
  {
   "cell_type": "markdown",
   "metadata": {},
   "source": [
    "<div class=\"alert alert-danger\">\n",
    "    Red text box.\n",
    "</div>"
   ]
  },
  {
   "cell_type": "markdown",
   "metadata": {},
   "source": [
    "<div class=\"alert alert-info\">\n",
    "    Blue text box.\n",
    "</div>"
   ]
  },
  {
   "cell_type": "markdown",
   "metadata": {},
   "source": [
    "<div class=\"alert alert-success\">\n",
    "    Green text box.\n",
    "</div>"
   ]
  },
  {
   "cell_type": "markdown",
   "metadata": {},
   "source": [
    "<div class=\"alert alert-warning\">\n",
    "    Yellow text box.\n",
    "</div>"
   ]
  },
  {
   "cell_type": "markdown",
   "metadata": {},
   "source": [
    "# Links"
   ]
  },
  {
   "cell_type": "markdown",
   "metadata": {},
   "source": [
    "Picture:\n",
    "\n",
    "![](Picture1.png)"
   ]
  },
  {
   "cell_type": "markdown",
   "metadata": {},
   "source": [
    "Link to site:\n",
    "\n",
    "[Noteable website](https://noteable.edina.ac.uk)"
   ]
  },
  {
   "cell_type": "markdown",
   "metadata": {},
   "source": [
    "# Maths"
   ]
  },
  {
   "cell_type": "markdown",
   "metadata": {},
   "source": [
    "Embed latex in your text by enclosing in single dollar signs: $x$, $pi$, $\\frac{1}{r}$ and continue paragraph."
   ]
  },
  {
   "cell_type": "markdown",
   "metadata": {},
   "source": [
    "Write blocks of latex (on own line) by enclosing in double dollar signs:\n",
    "\n",
    "$$\n",
    "D(p_1,p_2) = \\frac{2 |p_1 p_2|}{|p_1|+|p_2|}\n",
    "$$\n"
   ]
  },
  {
   "cell_type": "markdown",
   "metadata": {},
   "source": [
    "# Question formats"
   ]
  },
  {
   "cell_type": "markdown",
   "metadata": {},
   "source": [
    "**Q1:** Question including a list:\n",
    "- item 1\n",
    "- item 2\n",
    "- item 3"
   ]
  },
  {
   "cell_type": "markdown",
   "metadata": {},
   "source": [
    "**Q1:** Question including a numbered list:\n",
    "1. item 1\n",
    "2. item 2\n",
    "3. item 3"
   ]
  },
  {
   "cell_type": "markdown",
   "metadata": {},
   "source": [
    "**Q1:** Question with a checklist:\n",
    "\n",
    "<ul style=\"list-style-type: none;\">\n",
    "    <li><input type=\"checkbox\"> Task 1</li>\n",
    "    <li><input type=\"checkbox\"> Task 2</li>\n",
    "    <li><input type=\"checkbox\"> Task 3</li>\n",
    "</ul>"
   ]
  },
  {
   "cell_type": "markdown",
   "metadata": {},
   "source": [
    "**Q1:** Question with a table:\n",
    "\n",
    "\n",
    "| Column 1 | Column 2 |\n",
    "|----------|----------|\n",
    "|    1     |   6      |\n",
    "|    2     |  14      |\n",
    "|    3     |  20      |\n",
    "|    4     |  25      |\n",
    "|    5     |  35      |"
   ]
  }
 ],
 "metadata": {
  "kernelspec": {
   "display_name": "Python 3",
   "language": "python",
   "name": "python3"
  },
  "language_info": {
   "codemirror_mode": {
    "name": "ipython",
    "version": 3
   },
   "file_extension": ".py",
   "mimetype": "text/x-python",
   "name": "python",
   "nbconvert_exporter": "python",
   "pygments_lexer": "ipython3",
   "version": "3.7.3"
  }
 },
 "nbformat": 4,
 "nbformat_minor": 2
}
