{
 "cells": [
  {
   "cell_type": "code",
   "execution_count": 1,
   "metadata": {},
   "outputs": [],
   "source": [
    "import csv"
   ]
  },
  {
   "cell_type": "code",
   "execution_count": 2,
   "metadata": {
    "scrolled": false
   },
   "outputs": [],
   "source": [
    "# types of notebook\n",
    "tags = [\"std\", \"geo\", \"haskell\", \"julia\", \"py2\", \"stan\", \"rstudio\", \"sage\"]\n",
    "\n",
    "# filenames of format: interface_tag.txt"
   ]
  },
  {
   "cell_type": "code",
   "execution_count": 3,
   "metadata": {},
   "outputs": [],
   "source": [
    "def getLists(tag):\n",
    "\n",
    "    # put live file in list of lines\n",
    "    liveFile =  \"live_\" + str(tag) + \".txt\"\n",
    "    lFile = open(liveFile, \"r\")\n",
    "    lList = lFile.readlines()[3:]\n",
    "\n",
    "    # put beta file in list of lines\n",
    "    betaFile = \"beta_\" + str(tag) + \".txt\"\n",
    "    bFile = open(betaFile, \"r\")\n",
    "    bList = bFile.readlines()[3:]\n",
    "    \n",
    "    return lList, bList"
   ]
  },
  {
   "cell_type": "code",
   "execution_count": 4,
   "metadata": {},
   "outputs": [],
   "source": [
    "# take list of lines\n",
    "# return dictionary of (library, version) pairs\n",
    "def divFile(lineList):\n",
    "    vs = dict()\n",
    "    for line in lineList:\n",
    "        name, version, _ = line.split(\"=\")\n",
    "        vs[name] = version\n",
    "    return vs"
   ]
  },
  {
   "cell_type": "code",
   "execution_count": 5,
   "metadata": {},
   "outputs": [],
   "source": [
    "def buildRows(lDict, bDict):\n",
    "\n",
    "    csvRows = set()\n",
    "    for lib in bothVs:\n",
    "        if (lDict[lib] == bDict[lib]):\n",
    "            csvRows.add((lib, lDict[lib], \"same\"))\n",
    "        else:\n",
    "            csvRows.add((lib, lDict[lib], bDict[lib]))\n",
    "        \n",
    "    for lib in liveOnly:\n",
    "        csvRows.add((lib, lDict[lib], \"DNE\"))\n",
    "    \n",
    "    for lib in betaOnly:\n",
    "        csvRows.add((lib, \"DNE\", bDict[lib]))\n",
    "\n",
    "    csvRowsL = list(csvRows)\n",
    "    \n",
    "    return csvRowsL"
   ]
  },
  {
   "cell_type": "code",
   "execution_count": 9,
   "metadata": {},
   "outputs": [],
   "source": [
    "def buildRows2(lDict, bDict):\n",
    "\n",
    "    csvRows = set()\n",
    "    for lib in bothVs:\n",
    "        if (lDict[lib] != bDict[lib]):\n",
    "            csvRows.add((lib, lDict[lib], bDict[lib]))\n",
    "        \n",
    "    for lib in liveOnly:\n",
    "        csvRows.add((lib, lDict[lib], \"DNE\"))\n",
    "    \n",
    "    for lib in betaOnly:\n",
    "        csvRows.add((lib, \"DNE\", bDict[lib]))\n",
    "\n",
    "    csvRowsL = list(csvRows)\n",
    "    \n",
    "    return csvRowsL"
   ]
  },
  {
   "cell_type": "markdown",
   "metadata": {},
   "source": [
    "big\n",
    "\n",
    "big big\n",
    "\n",
    "big\n",
    "\n",
    "gap\n"
   ]
  },
  {
   "cell_type": "code",
   "execution_count": 10,
   "metadata": {},
   "outputs": [
    {
     "name": "stdout",
     "output_type": "stream",
     "text": [
      "534\n",
      "425\n",
      "178\n",
      "558\n",
      "200\n",
      "622\n"
     ]
    },
    {
     "ename": "FileNotFoundError",
     "evalue": "[Errno 2] No such file or directory: 'live_rstudio.txt'",
     "output_type": "error",
     "traceback": [
      "\u001b[0;31m---------------------------------------------------------------------------\u001b[0m",
      "\u001b[0;31mFileNotFoundError\u001b[0m                         Traceback (most recent call last)",
      "\u001b[0;32m<ipython-input-10-0f0ea5c9388c>\u001b[0m in \u001b[0;36m<module>\u001b[0;34m\u001b[0m\n\u001b[1;32m      1\u001b[0m \u001b[0;32mfor\u001b[0m \u001b[0mtag\u001b[0m \u001b[0;32min\u001b[0m \u001b[0mtags\u001b[0m\u001b[0;34m:\u001b[0m\u001b[0;34m\u001b[0m\u001b[0;34m\u001b[0m\u001b[0m\n\u001b[1;32m      2\u001b[0m \u001b[0;34m\u001b[0m\u001b[0m\n\u001b[0;32m----> 3\u001b[0;31m     \u001b[0mlList\u001b[0m\u001b[0;34m,\u001b[0m \u001b[0mbList\u001b[0m \u001b[0;34m=\u001b[0m \u001b[0mgetLists\u001b[0m\u001b[0;34m(\u001b[0m\u001b[0mtag\u001b[0m\u001b[0;34m)\u001b[0m\u001b[0;34m\u001b[0m\u001b[0;34m\u001b[0m\u001b[0m\n\u001b[0m\u001b[1;32m      4\u001b[0m \u001b[0;34m\u001b[0m\u001b[0m\n\u001b[1;32m      5\u001b[0m     \u001b[0mlDict\u001b[0m \u001b[0;34m=\u001b[0m \u001b[0mdivFile\u001b[0m\u001b[0;34m(\u001b[0m\u001b[0mlList\u001b[0m\u001b[0;34m)\u001b[0m\u001b[0;34m\u001b[0m\u001b[0;34m\u001b[0m\u001b[0m\n",
      "\u001b[0;32m<ipython-input-3-13b479638355>\u001b[0m in \u001b[0;36mgetLists\u001b[0;34m(tag)\u001b[0m\n\u001b[1;32m      3\u001b[0m     \u001b[0;31m# put live file in list of lines\u001b[0m\u001b[0;34m\u001b[0m\u001b[0;34m\u001b[0m\u001b[0;34m\u001b[0m\u001b[0m\n\u001b[1;32m      4\u001b[0m     \u001b[0mliveFile\u001b[0m \u001b[0;34m=\u001b[0m  \u001b[0;34m\"live_\"\u001b[0m \u001b[0;34m+\u001b[0m \u001b[0mstr\u001b[0m\u001b[0;34m(\u001b[0m\u001b[0mtag\u001b[0m\u001b[0;34m)\u001b[0m \u001b[0;34m+\u001b[0m \u001b[0;34m\".txt\"\u001b[0m\u001b[0;34m\u001b[0m\u001b[0;34m\u001b[0m\u001b[0m\n\u001b[0;32m----> 5\u001b[0;31m     \u001b[0mlFile\u001b[0m \u001b[0;34m=\u001b[0m \u001b[0mopen\u001b[0m\u001b[0;34m(\u001b[0m\u001b[0mliveFile\u001b[0m\u001b[0;34m,\u001b[0m \u001b[0;34m\"r\"\u001b[0m\u001b[0;34m)\u001b[0m\u001b[0;34m\u001b[0m\u001b[0;34m\u001b[0m\u001b[0m\n\u001b[0m\u001b[1;32m      6\u001b[0m     \u001b[0mlList\u001b[0m \u001b[0;34m=\u001b[0m \u001b[0mlFile\u001b[0m\u001b[0;34m.\u001b[0m\u001b[0mreadlines\u001b[0m\u001b[0;34m(\u001b[0m\u001b[0;34m)\u001b[0m\u001b[0;34m[\u001b[0m\u001b[0;36m3\u001b[0m\u001b[0;34m:\u001b[0m\u001b[0;34m]\u001b[0m\u001b[0;34m\u001b[0m\u001b[0;34m\u001b[0m\u001b[0m\n\u001b[1;32m      7\u001b[0m \u001b[0;34m\u001b[0m\u001b[0m\n",
      "\u001b[0;31mFileNotFoundError\u001b[0m: [Errno 2] No such file or directory: 'live_rstudio.txt'"
     ]
    }
   ],
   "source": [
    "for tag in tags:\n",
    "    \n",
    "    lList, bList = getLists(tag)\n",
    "    \n",
    "    lDict = divFile(lList)\n",
    "    bDict = divFile(bList)\n",
    "    \n",
    "    liveOnly = lDict.keys() - bDict.keys()\n",
    "    betaOnly = bDict.keys() - lDict.keys()\n",
    "    bothVs   = list(lDict.keys() & bDict.keys())\n",
    "\n",
    "    print(len(liveOnly | betaOnly | set(bothVs)))\n",
    "    \n",
    "    rows = buildRows2(lDict, bDict)\n",
    "    \n",
    "    fcsv = str(tag) + \".csv\"\n",
    "    with open(fcsv, 'w', newline='') as file:\n",
    "        writer = csv.writer(file)\n",
    "        writer.writerow([\"library\", \"live\", \"toBeta\"])\n",
    "    \n",
    "        for row in rows:\n",
    "            writer.writerow(list(row))\n",
    "\n",
    "\n",
    "    "
   ]
  },
  {
   "cell_type": "code",
   "execution_count": null,
   "metadata": {},
   "outputs": [],
   "source": []
  }
 ],
 "metadata": {
  "kernelspec": {
   "display_name": "Python 3",
   "language": "python",
   "name": "python3"
  },
  "language_info": {
   "codemirror_mode": {
    "name": "ipython",
    "version": 3
   },
   "file_extension": ".py",
   "mimetype": "text/x-python",
   "name": "python",
   "nbconvert_exporter": "python",
   "pygments_lexer": "ipython3",
   "version": "3.7.6"
  }
 },
 "nbformat": 4,
 "nbformat_minor": 4
}
