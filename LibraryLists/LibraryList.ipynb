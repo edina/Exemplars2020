{
 "cells": [
  {
   "cell_type": "markdown",
   "metadata": {},
   "source": [
    "# Python - get csv for library updates\n",
    "\n",
    "run in same directory as conda list > live_tag.txt files\n",
    "\n",
    "to get the text files with conda list output run:\n",
    "\n",
    "<code>conda list --export > filename.txt</code>\n",
    "\n",
    "for example, on live release RStudio notebook run:\n",
    "\n",
    "<code>conda list --export > live_rstudio.txt</code>\n",
    "\n",
    "Ensure live and beta versions exist for all notebooks.\n",
    "\n",
    "Ensure all txt files have been uploaded to the directory containing this notebook."
   ]
  },
  {
   "cell_type": "code",
   "execution_count": 1,
   "metadata": {},
   "outputs": [],
   "source": [
    "import csv"
   ]
  },
  {
   "cell_type": "code",
   "execution_count": 2,
   "metadata": {
    "scrolled": false
   },
   "outputs": [],
   "source": [
    "# types of notebook  -- add to this if more languages incorporated\n",
    "tags = [\"std\", \"geo\", \"haskell\", \"julia\", \"py2\", \"stan\", \"rstudio\", \"sage\"]\n",
    "\n",
    "# filenames of format: version_tag.txt where version is either live or beta"
   ]
  },
  {
   "cell_type": "code",
   "execution_count": 3,
   "metadata": {},
   "outputs": [],
   "source": [
    "def getLists(tag):\n",
    "\n",
    "    # put live file in list of lines\n",
    "    liveFile =  \"live_\" + str(tag) + \".txt\"\n",
    "    lFile = open(liveFile, \"r\")\n",
    "    lList = lFile.readlines()[3:]\n",
    "\n",
    "    # put beta file in list of lines\n",
    "    betaFile = \"beta_\" + str(tag) + \".txt\"\n",
    "    bFile = open(betaFile, \"r\")\n",
    "    bList = bFile.readlines()[3:]\n",
    "    \n",
    "    return lList, bList"
   ]
  },
  {
   "cell_type": "code",
   "execution_count": 4,
   "metadata": {},
   "outputs": [],
   "source": [
    "# take list of lines\n",
    "# return dictionary of (library, version) pairs\n",
    "def divFile(lineList):\n",
    "    vs = dict()\n",
    "    for line in lineList:\n",
    "        name, version, _ = line.split(\"=\")\n",
    "        vs[name] = version\n",
    "    return vs"
   ]
  },
  {
   "cell_type": "code",
   "execution_count": 5,
   "metadata": {},
   "outputs": [],
   "source": [
    "# rows for all libraries\n",
    "def buildRows(lDict, bDict):\n",
    "\n",
    "    csvRows = set()\n",
    "    for lib in bothVs:\n",
    "        if (lDict[lib] == bDict[lib]):\n",
    "            csvRows.add((lib, lDict[lib], \"same\"))\n",
    "        else:\n",
    "            csvRows.add((lib, lDict[lib], bDict[lib]))\n",
    "        \n",
    "    for lib in liveOnly:\n",
    "        csvRows.add((lib, lDict[lib], \"DNE\"))\n",
    "    \n",
    "    for lib in betaOnly:\n",
    "        csvRows.add((lib, \"DNE\", bDict[lib]))\n",
    "\n",
    "    csvRowsL = list(csvRows)\n",
    "    csvRowsL = sorted(csvRowsL, key=lambda tup: tup[0])\n",
    "    \n",
    "    return csvRowsL"
   ]
  },
  {
   "cell_type": "code",
   "execution_count": 6,
   "metadata": {},
   "outputs": [],
   "source": [
    "# rows for only libraries that differ between live and beta\n",
    "def buildRows2(lDict, bDict):\n",
    "\n",
    "    csvRows = set()\n",
    "    for lib in bothVs:\n",
    "        if (lDict[lib] != bDict[lib]):\n",
    "            csvRows.add((lib, lDict[lib], bDict[lib]))\n",
    "        \n",
    "    for lib in liveOnly:\n",
    "        # encode missing as DNE - does not exist\n",
    "        csvRows.add((lib, lDict[lib], \"DNE\"))\n",
    "    \n",
    "    for lib in betaOnly:\n",
    "        # encode missing as DNE - does not exist\n",
    "        csvRows.add((lib, \"DNE\", bDict[lib]))\n",
    "\n",
    "    csvRowsL = list(csvRows)\n",
    "    csvRowsL = sorted(csvRowsL, key=lambda tup: tup[0])\n",
    "    \n",
    "    return csvRowsL"
   ]
  },
  {
   "cell_type": "code",
   "execution_count": 7,
   "metadata": {},
   "outputs": [],
   "source": [
    "# takes text file output of conda list\n",
    "# write csv files - nameOfNotebook.csv containing:\n",
    "# name of library\n",
    "# version on live\n",
    "# version on beta (if different from live version)\n",
    "\n",
    "for tag in tags:\n",
    "    \n",
    "    lList, bList = getLists(tag)\n",
    "    \n",
    "    lDict = divFile(lList)\n",
    "    bDict = divFile(bList)\n",
    "    \n",
    "    liveOnly = lDict.keys() - bDict.keys()\n",
    "    betaOnly = bDict.keys() - lDict.keys()\n",
    "    bothVs   = list(lDict.keys() & bDict.keys())\n",
    "    \n",
    "    rows = buildRows2(lDict, bDict)\n",
    "    \n",
    "    fcsv = str(tag) + \".csv\"\n",
    "    with open(fcsv, 'w', newline='') as file:\n",
    "        writer = csv.writer(file)\n",
    "        writer.writerow([\"library\", \"live\", \"toBeta\"])\n",
    "    \n",
    "        for row in rows:\n",
    "            writer.writerow(list(row))"
   ]
  }
 ],
 "metadata": {
  "kernelspec": {
   "display_name": "Python 3",
   "language": "python",
   "name": "python3"
  },
  "language_info": {
   "codemirror_mode": {
    "name": "ipython",
    "version": 3
   },
   "file_extension": ".py",
   "mimetype": "text/x-python",
   "name": "python",
   "nbconvert_exporter": "python",
   "pygments_lexer": "ipython3",
   "version": "3.7.6"
  }
 },
 "nbformat": 4,
 "nbformat_minor": 4
}
