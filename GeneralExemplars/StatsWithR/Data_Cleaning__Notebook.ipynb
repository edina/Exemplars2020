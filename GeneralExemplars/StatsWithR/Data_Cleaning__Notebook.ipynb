{
 "cells": [
  {
   "cell_type": "markdown",
   "metadata": {},
   "source": [
    "## This Notebook - Goals - FOR EDINA\n",
    "\n",
    "**What?:**\n",
    "- R notebook demonstrating a typical data cleaning process\n",
    "- Use of health data\n",
    "\n",
    "**Who?:**\n",
    "- Data Science and statistics students and academics \n",
    "- Anyone dealing with data\n",
    "\n",
    "**Why?:**\n",
    "- Demonstrate a notebook in a non-python language\n",
    "\n",
    "**Noteable features to exploit:**\n",
    "- R notebook\n",
    "- Visualisation in R\n",
    "- Sequential steps\n",
    "\n",
    "**How?:**\n",
    "- Use of R notebook in wide ranging application\n",
    "\n",
    "<hr>"
   ]
  },
  {
   "cell_type": "markdown",
   "metadata": {},
   "source": [
    "<div class=\"alert alert-info\">\n",
    "Rreferences:\n",
    "    \n",
    "[tutorial](https://towardsdatascience.com/exploratory-data-analysis-in-python-c9a77dfa39ce)\n",
    "\n",
    "[walk through by the same person](https://nbviewer.jupyter.org/github/Tanu-N-Prabhu/Python/blob/master/Top_Python_Libraries_Used_In_Data%C2%A0Science.ipynb)\n",
    "\n",
    "[EDA book](https://r4ds.had.co.nz/exploratory-data-analysis.html)\n",
    "</div>"
   ]
  },
  {
   "cell_type": "markdown",
   "metadata": {},
   "source": [
    "# Data cleaning and Exploratory Data Analysis (EDA) using R\n",
    "\n",
    "Quick run through of how to use R clean data and simultaneously do informal EDA.\n",
    "\n",
    "Aimed at people with some background in data science but not necessarily familiar with R or R notebooks.\n",
    "\n",
    "[Quite nice pdf](https://cran.r-project.org/doc/contrib/de_Jonge+van_der_Loo-Introduction_to_data_cleaning_with_R.pdf) about how data cleaning in R works.\n",
    "\n",
    "Broadly speaking, \"data cleaning\" refers to the processing necessary to get from the data at time of download, all the way to data you can actually use (model, predict, the fun stuff). This can be broken down to the following stages:\n",
    "- Raw data to technically correct\n",
    "- Technically correct to consistent\n",
    "\n",
    "<i><b>Note:</b> EDA and data cleaning are different things, but they should be done together, iteratively. The more the data is explored, the better the cleaning will be!</i>"
   ]
  },
  {
   "cell_type": "markdown",
   "metadata": {},
   "source": [
    "<hr>\n",
    "\n",
    "# Acquiring data\n",
    "\n",
    "R comes with datasets [built in](https://www.rdocumentation.org/packages/datasets/versions/3.6.2) which is useful when you're learning new concepts.\n",
    "\n",
    "Of course you can also import and export your own data. Data can be found online on websites like [kaggle](https://www.kaggle.com) or by web scraping (or many other sources).\n",
    "\n",
    "In this tutorial, a csv file from the [UCI machine learning repository](https://archive.ics.uci.edu/ml/datasets/Breast+Cancer+Wisconsin+%28Diagnostic%29) (open license) which is about breast cancer. \n",
    "\n",
    "First, load the data into a data frame. The variable name used is <code>raw_cervical</code> so that each stage of data cleaning can be reused if desired, like a checkpoint."
   ]
  },
  {
   "cell_type": "code",
   "execution_count": 1,
   "metadata": {},
   "outputs": [],
   "source": [
    "library(readr)"
   ]
  },
  {
   "cell_type": "code",
   "execution_count": 2,
   "metadata": {},
   "outputs": [
    {
     "name": "stderr",
     "output_type": "stream",
     "text": [
      "Warning message:\n",
      "“Missing column names filled in: 'X33' [33]”Parsed with column specification:\n",
      "cols(\n",
      "  .default = col_double(),\n",
      "  diagnosis = \u001b[31mcol_character()\u001b[39m,\n",
      "  X33 = \u001b[31mcol_character()\u001b[39m\n",
      ")\n",
      "See spec(...) for full column specifications.\n",
      "Warning message:\n",
      "“569 parsing failures.\n",
      "row col   expected     actual                     file\n",
      "  1  -- 33 columns 32 columns 'data/cervical_data.csv'\n",
      "  2  -- 33 columns 32 columns 'data/cervical_data.csv'\n",
      "  3  -- 33 columns 32 columns 'data/cervical_data.csv'\n",
      "  4  -- 33 columns 32 columns 'data/cervical_data.csv'\n",
      "  5  -- 33 columns 32 columns 'data/cervical_data.csv'\n",
      "... ... .......... .......... ........................\n",
      "See problems(...) for more details.\n",
      "”"
     ]
    }
   ],
   "source": [
    "raw_cervical = readr::read_csv(\"data/cervical_data.csv\")"
   ]
  },
  {
   "cell_type": "code",
   "execution_count": 3,
   "metadata": {},
   "outputs": [],
   "source": [
    "# wholly unnecessary but I keep forgetting the syntax\n",
    "#write.csv(raw_cervical, \"data/raw_data.csv\")"
   ]
  },
  {
   "cell_type": "markdown",
   "metadata": {},
   "source": [
    "Warning box, useful! R tries to inform the reader that there's something strange about the way the data frame is organised. Time to investigate..."
   ]
  },
  {
   "cell_type": "code",
   "execution_count": 4,
   "metadata": {},
   "outputs": [
    {
     "data": {
      "text/html": [
       "<table>\n",
       "<caption>A tibble: 6 × 5</caption>\n",
       "<thead>\n",
       "\t<tr><th scope=col>row</th><th scope=col>col</th><th scope=col>expected</th><th scope=col>actual</th><th scope=col>file</th></tr>\n",
       "\t<tr><th scope=col>&lt;int&gt;</th><th scope=col>&lt;chr&gt;</th><th scope=col>&lt;chr&gt;</th><th scope=col>&lt;chr&gt;</th><th scope=col>&lt;chr&gt;</th></tr>\n",
       "</thead>\n",
       "<tbody>\n",
       "\t<tr><td>1</td><td>NA</td><td>33 columns</td><td>32 columns</td><td>'data/cervical_data.csv'</td></tr>\n",
       "\t<tr><td>2</td><td>NA</td><td>33 columns</td><td>32 columns</td><td>'data/cervical_data.csv'</td></tr>\n",
       "\t<tr><td>3</td><td>NA</td><td>33 columns</td><td>32 columns</td><td>'data/cervical_data.csv'</td></tr>\n",
       "\t<tr><td>4</td><td>NA</td><td>33 columns</td><td>32 columns</td><td>'data/cervical_data.csv'</td></tr>\n",
       "\t<tr><td>5</td><td>NA</td><td>33 columns</td><td>32 columns</td><td>'data/cervical_data.csv'</td></tr>\n",
       "\t<tr><td>6</td><td>NA</td><td>33 columns</td><td>32 columns</td><td>'data/cervical_data.csv'</td></tr>\n",
       "</tbody>\n",
       "</table>\n"
      ],
      "text/latex": [
       "A tibble: 6 × 5\n",
       "\\begin{tabular}{r|lllll}\n",
       " row & col & expected & actual & file\\\\\n",
       " <int> & <chr> & <chr> & <chr> & <chr>\\\\\n",
       "\\hline\n",
       "\t 1 & NA & 33 columns & 32 columns & 'data/cervical\\_data.csv'\\\\\n",
       "\t 2 & NA & 33 columns & 32 columns & 'data/cervical\\_data.csv'\\\\\n",
       "\t 3 & NA & 33 columns & 32 columns & 'data/cervical\\_data.csv'\\\\\n",
       "\t 4 & NA & 33 columns & 32 columns & 'data/cervical\\_data.csv'\\\\\n",
       "\t 5 & NA & 33 columns & 32 columns & 'data/cervical\\_data.csv'\\\\\n",
       "\t 6 & NA & 33 columns & 32 columns & 'data/cervical\\_data.csv'\\\\\n",
       "\\end{tabular}\n"
      ],
      "text/markdown": [
       "\n",
       "A tibble: 6 × 5\n",
       "\n",
       "| row &lt;int&gt; | col &lt;chr&gt; | expected &lt;chr&gt; | actual &lt;chr&gt; | file &lt;chr&gt; |\n",
       "|---|---|---|---|---|\n",
       "| 1 | NA | 33 columns | 32 columns | 'data/cervical_data.csv' |\n",
       "| 2 | NA | 33 columns | 32 columns | 'data/cervical_data.csv' |\n",
       "| 3 | NA | 33 columns | 32 columns | 'data/cervical_data.csv' |\n",
       "| 4 | NA | 33 columns | 32 columns | 'data/cervical_data.csv' |\n",
       "| 5 | NA | 33 columns | 32 columns | 'data/cervical_data.csv' |\n",
       "| 6 | NA | 33 columns | 32 columns | 'data/cervical_data.csv' |\n",
       "\n"
      ],
      "text/plain": [
       "  row col expected   actual     file                    \n",
       "1 1   NA  33 columns 32 columns 'data/cervical_data.csv'\n",
       "2 2   NA  33 columns 32 columns 'data/cervical_data.csv'\n",
       "3 3   NA  33 columns 32 columns 'data/cervical_data.csv'\n",
       "4 4   NA  33 columns 32 columns 'data/cervical_data.csv'\n",
       "5 5   NA  33 columns 32 columns 'data/cervical_data.csv'\n",
       "6 6   NA  33 columns 32 columns 'data/cervical_data.csv'"
      ]
     },
     "metadata": {},
     "output_type": "display_data"
    }
   ],
   "source": [
    "# print a few lines that show what the warning describes\n",
    "# notice expected vs actual differ in number of columns in data\n",
    "head(problems(raw_cervical))"
   ]
  },
  {
   "cell_type": "markdown",
   "metadata": {},
   "source": [
    "Looks like theres a discrepancy between the number of variables in the header and the number on each row of data. Time to do a little digging..."
   ]
  },
  {
   "cell_type": "markdown",
   "metadata": {},
   "source": [
    "Look at the first couple of rows using <code>head()</code>"
   ]
  },
  {
   "cell_type": "code",
   "execution_count": 5,
   "metadata": {},
   "outputs": [
    {
     "data": {
      "text/html": [
       "<table>\n",
       "<caption>A tibble: 6 × 33</caption>\n",
       "<thead>\n",
       "\t<tr><th scope=col>id</th><th scope=col>diagnosis</th><th scope=col>radius_mean</th><th scope=col>texture_mean</th><th scope=col>perimeter_mean</th><th scope=col>area_mean</th><th scope=col>smoothness_mean</th><th scope=col>compactness_mean</th><th scope=col>concavity_mean</th><th scope=col>concave points_mean</th><th scope=col>⋯</th><th scope=col>texture_worst</th><th scope=col>perimeter_worst</th><th scope=col>area_worst</th><th scope=col>smoothness_worst</th><th scope=col>compactness_worst</th><th scope=col>concavity_worst</th><th scope=col>concave points_worst</th><th scope=col>symmetry_worst</th><th scope=col>fractal_dimension_worst</th><th scope=col>X33</th></tr>\n",
       "\t<tr><th scope=col>&lt;dbl&gt;</th><th scope=col>&lt;chr&gt;</th><th scope=col>&lt;dbl&gt;</th><th scope=col>&lt;dbl&gt;</th><th scope=col>&lt;dbl&gt;</th><th scope=col>&lt;dbl&gt;</th><th scope=col>&lt;dbl&gt;</th><th scope=col>&lt;dbl&gt;</th><th scope=col>&lt;dbl&gt;</th><th scope=col>&lt;dbl&gt;</th><th scope=col>⋯</th><th scope=col>&lt;dbl&gt;</th><th scope=col>&lt;dbl&gt;</th><th scope=col>&lt;dbl&gt;</th><th scope=col>&lt;dbl&gt;</th><th scope=col>&lt;dbl&gt;</th><th scope=col>&lt;dbl&gt;</th><th scope=col>&lt;dbl&gt;</th><th scope=col>&lt;dbl&gt;</th><th scope=col>&lt;dbl&gt;</th><th scope=col>&lt;chr&gt;</th></tr>\n",
       "</thead>\n",
       "<tbody>\n",
       "\t<tr><td>  842302</td><td>M</td><td>17.99</td><td>10.38</td><td>122.80</td><td>1001.0</td><td>0.11840</td><td>0.27760</td><td>0.3001</td><td>0.14710</td><td>⋯</td><td>17.33</td><td>184.60</td><td>2019.0</td><td>0.1622</td><td>0.6656</td><td>0.7119</td><td>0.2654</td><td>0.4601</td><td>0.11890</td><td>NA</td></tr>\n",
       "\t<tr><td>  842517</td><td>M</td><td>20.57</td><td>17.77</td><td>132.90</td><td>1326.0</td><td>0.08474</td><td>0.07864</td><td>0.0869</td><td>0.07017</td><td>⋯</td><td>23.41</td><td>158.80</td><td>1956.0</td><td>0.1238</td><td>0.1866</td><td>0.2416</td><td>0.1860</td><td>0.2750</td><td>0.08902</td><td>NA</td></tr>\n",
       "\t<tr><td>84300903</td><td>M</td><td>19.69</td><td>21.25</td><td>130.00</td><td>1203.0</td><td>0.10960</td><td>0.15990</td><td>0.1974</td><td>0.12790</td><td>⋯</td><td>25.53</td><td>152.50</td><td>1709.0</td><td>0.1444</td><td>0.4245</td><td>0.4504</td><td>0.2430</td><td>0.3613</td><td>0.08758</td><td>NA</td></tr>\n",
       "\t<tr><td>84348301</td><td>M</td><td>11.42</td><td>20.38</td><td> 77.58</td><td> 386.1</td><td>0.14250</td><td>0.28390</td><td>0.2414</td><td>0.10520</td><td>⋯</td><td>26.50</td><td> 98.87</td><td> 567.7</td><td>0.2098</td><td>0.8663</td><td>0.6869</td><td>0.2575</td><td>0.6638</td><td>0.17300</td><td>NA</td></tr>\n",
       "\t<tr><td>84358402</td><td>M</td><td>20.29</td><td>14.34</td><td>135.10</td><td>1297.0</td><td>0.10030</td><td>0.13280</td><td>0.1980</td><td>0.10430</td><td>⋯</td><td>16.67</td><td>152.20</td><td>1575.0</td><td>0.1374</td><td>0.2050</td><td>0.4000</td><td>0.1625</td><td>0.2364</td><td>0.07678</td><td>NA</td></tr>\n",
       "\t<tr><td>  843786</td><td>M</td><td>12.45</td><td>15.70</td><td> 82.57</td><td> 477.1</td><td>0.12780</td><td>0.17000</td><td>0.1578</td><td>0.08089</td><td>⋯</td><td>23.75</td><td>103.40</td><td> 741.6</td><td>0.1791</td><td>0.5249</td><td>0.5355</td><td>0.1741</td><td>0.3985</td><td>0.12440</td><td>NA</td></tr>\n",
       "</tbody>\n",
       "</table>\n"
      ],
      "text/latex": [
       "A tibble: 6 × 33\n",
       "\\begin{tabular}{r|lllllllllllllllllllllllllllllllll}\n",
       " id & diagnosis & radius\\_mean & texture\\_mean & perimeter\\_mean & area\\_mean & smoothness\\_mean & compactness\\_mean & concavity\\_mean & concave points\\_mean & symmetry\\_mean & fractal\\_dimension\\_mean & radius\\_se & texture\\_se & perimeter\\_se & area\\_se & smoothness\\_se & compactness\\_se & concavity\\_se & concave points\\_se & symmetry\\_se & fractal\\_dimension\\_se & radius\\_worst & texture\\_worst & perimeter\\_worst & area\\_worst & smoothness\\_worst & compactness\\_worst & concavity\\_worst & concave points\\_worst & symmetry\\_worst & fractal\\_dimension\\_worst & X33\\\\\n",
       " <dbl> & <chr> & <dbl> & <dbl> & <dbl> & <dbl> & <dbl> & <dbl> & <dbl> & <dbl> & <dbl> & <dbl> & <dbl> & <dbl> & <dbl> & <dbl> & <dbl> & <dbl> & <dbl> & <dbl> & <dbl> & <dbl> & <dbl> & <dbl> & <dbl> & <dbl> & <dbl> & <dbl> & <dbl> & <dbl> & <dbl> & <dbl> & <chr>\\\\\n",
       "\\hline\n",
       "\t   842302 & M & 17.99 & 10.38 & 122.80 & 1001.0 & 0.11840 & 0.27760 & 0.3001 & 0.14710 & 0.2419 & 0.07871 & 1.0950 & 0.9053 & 8.589 & 153.40 & 0.006399 & 0.04904 & 0.05373 & 0.01587 & 0.03003 & 0.006193 & 25.38 & 17.33 & 184.60 & 2019.0 & 0.1622 & 0.6656 & 0.7119 & 0.2654 & 0.4601 & 0.11890 & NA\\\\\n",
       "\t   842517 & M & 20.57 & 17.77 & 132.90 & 1326.0 & 0.08474 & 0.07864 & 0.0869 & 0.07017 & 0.1812 & 0.05667 & 0.5435 & 0.7339 & 3.398 &  74.08 & 0.005225 & 0.01308 & 0.01860 & 0.01340 & 0.01389 & 0.003532 & 24.99 & 23.41 & 158.80 & 1956.0 & 0.1238 & 0.1866 & 0.2416 & 0.1860 & 0.2750 & 0.08902 & NA\\\\\n",
       "\t 84300903 & M & 19.69 & 21.25 & 130.00 & 1203.0 & 0.10960 & 0.15990 & 0.1974 & 0.12790 & 0.2069 & 0.05999 & 0.7456 & 0.7869 & 4.585 &  94.03 & 0.006150 & 0.04006 & 0.03832 & 0.02058 & 0.02250 & 0.004571 & 23.57 & 25.53 & 152.50 & 1709.0 & 0.1444 & 0.4245 & 0.4504 & 0.2430 & 0.3613 & 0.08758 & NA\\\\\n",
       "\t 84348301 & M & 11.42 & 20.38 &  77.58 &  386.1 & 0.14250 & 0.28390 & 0.2414 & 0.10520 & 0.2597 & 0.09744 & 0.4956 & 1.1560 & 3.445 &  27.23 & 0.009110 & 0.07458 & 0.05661 & 0.01867 & 0.05963 & 0.009208 & 14.91 & 26.50 &  98.87 &  567.7 & 0.2098 & 0.8663 & 0.6869 & 0.2575 & 0.6638 & 0.17300 & NA\\\\\n",
       "\t 84358402 & M & 20.29 & 14.34 & 135.10 & 1297.0 & 0.10030 & 0.13280 & 0.1980 & 0.10430 & 0.1809 & 0.05883 & 0.7572 & 0.7813 & 5.438 &  94.44 & 0.011490 & 0.02461 & 0.05688 & 0.01885 & 0.01756 & 0.005115 & 22.54 & 16.67 & 152.20 & 1575.0 & 0.1374 & 0.2050 & 0.4000 & 0.1625 & 0.2364 & 0.07678 & NA\\\\\n",
       "\t   843786 & M & 12.45 & 15.70 &  82.57 &  477.1 & 0.12780 & 0.17000 & 0.1578 & 0.08089 & 0.2087 & 0.07613 & 0.3345 & 0.8902 & 2.217 &  27.19 & 0.007510 & 0.03345 & 0.03672 & 0.01137 & 0.02165 & 0.005082 & 15.47 & 23.75 & 103.40 &  741.6 & 0.1791 & 0.5249 & 0.5355 & 0.1741 & 0.3985 & 0.12440 & NA\\\\\n",
       "\\end{tabular}\n"
      ],
      "text/markdown": [
       "\n",
       "A tibble: 6 × 33\n",
       "\n",
       "| id &lt;dbl&gt; | diagnosis &lt;chr&gt; | radius_mean &lt;dbl&gt; | texture_mean &lt;dbl&gt; | perimeter_mean &lt;dbl&gt; | area_mean &lt;dbl&gt; | smoothness_mean &lt;dbl&gt; | compactness_mean &lt;dbl&gt; | concavity_mean &lt;dbl&gt; | concave points_mean &lt;dbl&gt; | ⋯ ⋯ | texture_worst &lt;dbl&gt; | perimeter_worst &lt;dbl&gt; | area_worst &lt;dbl&gt; | smoothness_worst &lt;dbl&gt; | compactness_worst &lt;dbl&gt; | concavity_worst &lt;dbl&gt; | concave points_worst &lt;dbl&gt; | symmetry_worst &lt;dbl&gt; | fractal_dimension_worst &lt;dbl&gt; | X33 &lt;chr&gt; |\n",
       "|---|---|---|---|---|---|---|---|---|---|---|---|---|---|---|---|---|---|---|---|---|\n",
       "|   842302 | M | 17.99 | 10.38 | 122.80 | 1001.0 | 0.11840 | 0.27760 | 0.3001 | 0.14710 | ⋯ | 17.33 | 184.60 | 2019.0 | 0.1622 | 0.6656 | 0.7119 | 0.2654 | 0.4601 | 0.11890 | NA |\n",
       "|   842517 | M | 20.57 | 17.77 | 132.90 | 1326.0 | 0.08474 | 0.07864 | 0.0869 | 0.07017 | ⋯ | 23.41 | 158.80 | 1956.0 | 0.1238 | 0.1866 | 0.2416 | 0.1860 | 0.2750 | 0.08902 | NA |\n",
       "| 84300903 | M | 19.69 | 21.25 | 130.00 | 1203.0 | 0.10960 | 0.15990 | 0.1974 | 0.12790 | ⋯ | 25.53 | 152.50 | 1709.0 | 0.1444 | 0.4245 | 0.4504 | 0.2430 | 0.3613 | 0.08758 | NA |\n",
       "| 84348301 | M | 11.42 | 20.38 |  77.58 |  386.1 | 0.14250 | 0.28390 | 0.2414 | 0.10520 | ⋯ | 26.50 |  98.87 |  567.7 | 0.2098 | 0.8663 | 0.6869 | 0.2575 | 0.6638 | 0.17300 | NA |\n",
       "| 84358402 | M | 20.29 | 14.34 | 135.10 | 1297.0 | 0.10030 | 0.13280 | 0.1980 | 0.10430 | ⋯ | 16.67 | 152.20 | 1575.0 | 0.1374 | 0.2050 | 0.4000 | 0.1625 | 0.2364 | 0.07678 | NA |\n",
       "|   843786 | M | 12.45 | 15.70 |  82.57 |  477.1 | 0.12780 | 0.17000 | 0.1578 | 0.08089 | ⋯ | 23.75 | 103.40 |  741.6 | 0.1791 | 0.5249 | 0.5355 | 0.1741 | 0.3985 | 0.12440 | NA |\n",
       "\n"
      ],
      "text/plain": [
       "  id       diagnosis radius_mean texture_mean perimeter_mean area_mean\n",
       "1   842302 M         17.99       10.38        122.80         1001.0   \n",
       "2   842517 M         20.57       17.77        132.90         1326.0   \n",
       "3 84300903 M         19.69       21.25        130.00         1203.0   \n",
       "4 84348301 M         11.42       20.38         77.58          386.1   \n",
       "5 84358402 M         20.29       14.34        135.10         1297.0   \n",
       "6   843786 M         12.45       15.70         82.57          477.1   \n",
       "  smoothness_mean compactness_mean concavity_mean concave points_mean ⋯\n",
       "1 0.11840         0.27760          0.3001         0.14710             ⋯\n",
       "2 0.08474         0.07864          0.0869         0.07017             ⋯\n",
       "3 0.10960         0.15990          0.1974         0.12790             ⋯\n",
       "4 0.14250         0.28390          0.2414         0.10520             ⋯\n",
       "5 0.10030         0.13280          0.1980         0.10430             ⋯\n",
       "6 0.12780         0.17000          0.1578         0.08089             ⋯\n",
       "  texture_worst perimeter_worst area_worst smoothness_worst compactness_worst\n",
       "1 17.33         184.60          2019.0     0.1622           0.6656           \n",
       "2 23.41         158.80          1956.0     0.1238           0.1866           \n",
       "3 25.53         152.50          1709.0     0.1444           0.4245           \n",
       "4 26.50          98.87           567.7     0.2098           0.8663           \n",
       "5 16.67         152.20          1575.0     0.1374           0.2050           \n",
       "6 23.75         103.40           741.6     0.1791           0.5249           \n",
       "  concavity_worst concave points_worst symmetry_worst fractal_dimension_worst\n",
       "1 0.7119          0.2654               0.4601         0.11890                \n",
       "2 0.2416          0.1860               0.2750         0.08902                \n",
       "3 0.4504          0.2430               0.3613         0.08758                \n",
       "4 0.6869          0.2575               0.6638         0.17300                \n",
       "5 0.4000          0.1625               0.2364         0.07678                \n",
       "6 0.5355          0.1741               0.3985         0.12440                \n",
       "  X33\n",
       "1 NA \n",
       "2 NA \n",
       "3 NA \n",
       "4 NA \n",
       "5 NA \n",
       "6 NA "
      ]
     },
     "metadata": {},
     "output_type": "display_data"
    }
   ],
   "source": [
    "head(raw_cervical)"
   ]
  },
  {
   "cell_type": "code",
   "execution_count": 6,
   "metadata": {},
   "outputs": [
    {
     "data": {
      "text/html": [
       "<ol class=list-inline>\n",
       "\t<li>'id'</li>\n",
       "\t<li>'diagnosis'</li>\n",
       "\t<li>'radius_mean'</li>\n",
       "\t<li>'texture_mean'</li>\n",
       "\t<li>'perimeter_mean'</li>\n",
       "\t<li>'area_mean'</li>\n",
       "\t<li>'smoothness_mean'</li>\n",
       "\t<li>'compactness_mean'</li>\n",
       "\t<li>'concavity_mean'</li>\n",
       "\t<li>'concave points_mean'</li>\n",
       "\t<li>'symmetry_mean'</li>\n",
       "\t<li>'fractal_dimension_mean'</li>\n",
       "\t<li>'radius_se'</li>\n",
       "\t<li>'texture_se'</li>\n",
       "\t<li>'perimeter_se'</li>\n",
       "\t<li>'area_se'</li>\n",
       "\t<li>'smoothness_se'</li>\n",
       "\t<li>'compactness_se'</li>\n",
       "\t<li>'concavity_se'</li>\n",
       "\t<li>'concave points_se'</li>\n",
       "\t<li>'symmetry_se'</li>\n",
       "\t<li>'fractal_dimension_se'</li>\n",
       "\t<li>'radius_worst'</li>\n",
       "\t<li>'texture_worst'</li>\n",
       "\t<li>'perimeter_worst'</li>\n",
       "\t<li>'area_worst'</li>\n",
       "\t<li>'smoothness_worst'</li>\n",
       "\t<li>'compactness_worst'</li>\n",
       "\t<li>'concavity_worst'</li>\n",
       "\t<li>'concave points_worst'</li>\n",
       "\t<li>'symmetry_worst'</li>\n",
       "\t<li>'fractal_dimension_worst'</li>\n",
       "\t<li>'X33'</li>\n",
       "</ol>\n"
      ],
      "text/latex": [
       "\\begin{enumerate*}\n",
       "\\item 'id'\n",
       "\\item 'diagnosis'\n",
       "\\item 'radius\\_mean'\n",
       "\\item 'texture\\_mean'\n",
       "\\item 'perimeter\\_mean'\n",
       "\\item 'area\\_mean'\n",
       "\\item 'smoothness\\_mean'\n",
       "\\item 'compactness\\_mean'\n",
       "\\item 'concavity\\_mean'\n",
       "\\item 'concave points\\_mean'\n",
       "\\item 'symmetry\\_mean'\n",
       "\\item 'fractal\\_dimension\\_mean'\n",
       "\\item 'radius\\_se'\n",
       "\\item 'texture\\_se'\n",
       "\\item 'perimeter\\_se'\n",
       "\\item 'area\\_se'\n",
       "\\item 'smoothness\\_se'\n",
       "\\item 'compactness\\_se'\n",
       "\\item 'concavity\\_se'\n",
       "\\item 'concave points\\_se'\n",
       "\\item 'symmetry\\_se'\n",
       "\\item 'fractal\\_dimension\\_se'\n",
       "\\item 'radius\\_worst'\n",
       "\\item 'texture\\_worst'\n",
       "\\item 'perimeter\\_worst'\n",
       "\\item 'area\\_worst'\n",
       "\\item 'smoothness\\_worst'\n",
       "\\item 'compactness\\_worst'\n",
       "\\item 'concavity\\_worst'\n",
       "\\item 'concave points\\_worst'\n",
       "\\item 'symmetry\\_worst'\n",
       "\\item 'fractal\\_dimension\\_worst'\n",
       "\\item 'X33'\n",
       "\\end{enumerate*}\n"
      ],
      "text/markdown": [
       "1. 'id'\n",
       "2. 'diagnosis'\n",
       "3. 'radius_mean'\n",
       "4. 'texture_mean'\n",
       "5. 'perimeter_mean'\n",
       "6. 'area_mean'\n",
       "7. 'smoothness_mean'\n",
       "8. 'compactness_mean'\n",
       "9. 'concavity_mean'\n",
       "10. 'concave points_mean'\n",
       "11. 'symmetry_mean'\n",
       "12. 'fractal_dimension_mean'\n",
       "13. 'radius_se'\n",
       "14. 'texture_se'\n",
       "15. 'perimeter_se'\n",
       "16. 'area_se'\n",
       "17. 'smoothness_se'\n",
       "18. 'compactness_se'\n",
       "19. 'concavity_se'\n",
       "20. 'concave points_se'\n",
       "21. 'symmetry_se'\n",
       "22. 'fractal_dimension_se'\n",
       "23. 'radius_worst'\n",
       "24. 'texture_worst'\n",
       "25. 'perimeter_worst'\n",
       "26. 'area_worst'\n",
       "27. 'smoothness_worst'\n",
       "28. 'compactness_worst'\n",
       "29. 'concavity_worst'\n",
       "30. 'concave points_worst'\n",
       "31. 'symmetry_worst'\n",
       "32. 'fractal_dimension_worst'\n",
       "33. 'X33'\n",
       "\n",
       "\n"
      ],
      "text/plain": [
       " [1] \"id\"                      \"diagnosis\"              \n",
       " [3] \"radius_mean\"             \"texture_mean\"           \n",
       " [5] \"perimeter_mean\"          \"area_mean\"              \n",
       " [7] \"smoothness_mean\"         \"compactness_mean\"       \n",
       " [9] \"concavity_mean\"          \"concave points_mean\"    \n",
       "[11] \"symmetry_mean\"           \"fractal_dimension_mean\" \n",
       "[13] \"radius_se\"               \"texture_se\"             \n",
       "[15] \"perimeter_se\"            \"area_se\"                \n",
       "[17] \"smoothness_se\"           \"compactness_se\"         \n",
       "[19] \"concavity_se\"            \"concave points_se\"      \n",
       "[21] \"symmetry_se\"             \"fractal_dimension_se\"   \n",
       "[23] \"radius_worst\"            \"texture_worst\"          \n",
       "[25] \"perimeter_worst\"         \"area_worst\"             \n",
       "[27] \"smoothness_worst\"        \"compactness_worst\"      \n",
       "[29] \"concavity_worst\"         \"concave points_worst\"   \n",
       "[31] \"symmetry_worst\"          \"fractal_dimension_worst\"\n",
       "[33] \"X33\"                    "
      ]
     },
     "metadata": {},
     "output_type": "display_data"
    }
   ],
   "source": [
    "colnames(raw_cervical)"
   ]
  },
  {
   "cell_type": "markdown",
   "metadata": {},
   "source": [
    "Glance over the column names, they all look consistent except for the last column \"X33\". More on this below.\n",
    "\n",
    "Also print out number of rows and columns."
   ]
  },
  {
   "cell_type": "code",
   "execution_count": 7,
   "metadata": {},
   "outputs": [
    {
     "data": {
      "text/html": [
       "569"
      ],
      "text/latex": [
       "569"
      ],
      "text/markdown": [
       "569"
      ],
      "text/plain": [
       "[1] 569"
      ]
     },
     "metadata": {},
     "output_type": "display_data"
    },
    {
     "data": {
      "text/html": [
       "33"
      ],
      "text/latex": [
       "33"
      ],
      "text/markdown": [
       "33"
      ],
      "text/plain": [
       "[1] 33"
      ]
     },
     "metadata": {},
     "output_type": "display_data"
    }
   ],
   "source": [
    "nrow(raw_cervical)\n",
    "ncol(raw_cervical)"
   ]
  },
  {
   "cell_type": "markdown",
   "metadata": {},
   "source": [
    "Even from these few cells, we have a lot more information than we did to begin with!\n",
    "\n",
    "There are 569 samples, and 33 columns."
   ]
  },
  {
   "cell_type": "markdown",
   "metadata": {},
   "source": [
    "R has a really easy typing system compared to other languages. If you're a programmer already, class information might be informative. For example, there are some differences between data.frame and data.table.\n",
    "\n",
    "If that sounds confusing, don't worry. The subject of data types can (mercifully) be mostly ignored.\n",
    "\n",
    "Print out all the column names, check for anything odd looking..."
   ]
  },
  {
   "cell_type": "code",
   "execution_count": 8,
   "metadata": {},
   "outputs": [
    {
     "data": {
      "text/html": [
       "<ol class=list-inline>\n",
       "\t<li>'spec_tbl_df'</li>\n",
       "\t<li>'tbl_df'</li>\n",
       "\t<li>'tbl'</li>\n",
       "\t<li>'data.frame'</li>\n",
       "</ol>\n"
      ],
      "text/latex": [
       "\\begin{enumerate*}\n",
       "\\item 'spec\\_tbl\\_df'\n",
       "\\item 'tbl\\_df'\n",
       "\\item 'tbl'\n",
       "\\item 'data.frame'\n",
       "\\end{enumerate*}\n"
      ],
      "text/markdown": [
       "1. 'spec_tbl_df'\n",
       "2. 'tbl_df'\n",
       "3. 'tbl'\n",
       "4. 'data.frame'\n",
       "\n",
       "\n"
      ],
      "text/plain": [
       "[1] \"spec_tbl_df\" \"tbl_df\"      \"tbl\"         \"data.frame\" "
      ]
     },
     "metadata": {},
     "output_type": "display_data"
    }
   ],
   "source": [
    "class(raw_cervical)"
   ]
  },
  {
   "cell_type": "markdown",
   "metadata": {},
   "source": [
    "summary function can be used to get an idea of what is going on in a column (or actually a whole data frame but frankly its very ugly and I couldn't bring myself to print it here)."
   ]
  },
  {
   "cell_type": "code",
   "execution_count": 9,
   "metadata": {
    "scrolled": false
   },
   "outputs": [
    {
     "data": {
      "text/plain": [
       "   Min. 1st Qu.  Median    Mean 3rd Qu.    Max. \n",
       "  6.981  11.700  13.370  14.127  15.780  28.110 "
      ]
     },
     "metadata": {},
     "output_type": "display_data"
    }
   ],
   "source": [
    "summary(raw_cervical$radius_mean)"
   ]
  },
  {
   "cell_type": "code",
   "execution_count": 10,
   "metadata": {},
   "outputs": [],
   "source": [
    "## HISTOGRAMS??"
   ]
  },
  {
   "cell_type": "markdown",
   "metadata": {},
   "source": [
    "## Using what's given\n",
    "\n",
    "Above, there are a range of tools used to examine what is present in the data. Additional context can (and should) be added by reading the author's description (available [here](https://archive.ics.uci.edu/ml/datasets/Breast+Cancer+Wisconsin+%28Diagnostic%29)) of the data. \n",
    "\n",
    "Key information given about the data:\n",
    "\n",
    "Context:\n",
    "- features computed from image of a [fine needle aspirate](https://en.wikipedia.org/wiki/Fine-needle_aspiration) of a breast mass.\n",
    "- features describe characteristics of cell nuceli in image\n",
    "- 569 instances\n",
    "- 32 attributes\n",
    "- class distribution: 357 benign, 212 malignant\n",
    "- no missing values\n",
    "\n",
    "Attributes:\n",
    "- ID in field 1\n",
    "- predicting field 2, diagnosis - B=benign, M=malignant\n",
    "- columns 3-32 contain the mean, standard error and \"worst\"/largest values of 10 different features. Where \"worst\" is mean of three largest values. \n",
    "- The 10 features are:\n",
    "    - radius (mean distance from center to perimeter)\n",
    "    - texture (standard deviation of grey-scale image values)\n",
    "    - perimeter\n",
    "    - area\n",
    "    - smoothness (local variation in radius lengths)\n",
    "    - compactness $\\frac{{perimeter}^2}{area - 1.0}$\n",
    "    - concavity (severity of concave portions of contour)\n",
    "    - number of concave portions of contour\n",
    "    - symmetry\n",
    "    - fractal dimension $({coastline approximation}) - 1$\n",
    "- Columns 3-32 are organised as follows:\n",
    "    - 3-12: mean for each feature\n",
    "    - 13-22: standard error for each feature\n",
    "    - 23-32: \"worst\" value for each feature"
   ]
  },
  {
   "cell_type": "markdown",
   "metadata": {},
   "source": [
    "<hr>\n",
    "\n",
    "# Cleaning - Raw data to technically correct data\n",
    "\n",
    "In essence, the getting the data to be \"technically correct\" involves identifying errors and inconsistencies in your data. The names, types and labels in the data need to make sense. luckily, this dataset is not too messy, but if it were, this step would ensure that R could access the data so that we can do more with it!\n",
    "\n",
    "For example, if a height variable is stored as a string \"1\", this step would involve ensuring that R reads the value as a number, not a string of characters.\n",
    "\n",
    "The goal of this step:\n",
    "- the data is stored in a data.frame\n",
    "- the columns of the data.frame are suitable\n",
    "- each column uses an appropriate type to represent the values in it.\n",
    "    - numeric data stored as <code>numeric/integer</code>\n",
    "    - text data stored as <code>character</code> (for single characters and strings)\n",
    "    - categorical data stored as <code>factor/ordered</code>\n",
    "    - true/false data stored as <code>logical</code>\n",
    "    \n",
    "Steps to reach the goal:\n",
    "- removing unused/irrelevant columns/rows / cols with 0 variance\n",
    "- renaming variables for consistency and meaning\n",
    "- encode missing values appropriately (if required)\n",
    "- remove duplicates (if this doesnt cause loss of information)\n",
    "- fix dates (common bugbear)\n",
    "- fix strings (another common bugbear)\n",
    "- recoding vectors (eg: use 0 and 1 instead of yes/no)"
   ]
  },
  {
   "cell_type": "markdown",
   "metadata": {},
   "source": [
    "### Irrelevant columns/rows and cols with 0 variance\n",
    "\n",
    "Time to revisit the weird 33rd column from earlier.\n",
    "\n",
    "By checking the description of the data, as well as other people's comments online on [kaggle](https://www.kaggle.com/uciml/breast-cancer-wisconsin-data/data) it seems like column 33 shouldn't be there, and got read in by mistake. \n",
    "\n",
    "<b>Why did this happen?</b><br> By opening the csv file (just click on the file name in Noteable) I can see that the first line (header) ends with a comma, meaning that its still trying to read another heading and thinks there are 32 columns.\n",
    "\n",
    "Seems safe to get rid of it, since the mistake is understood and confirmed by others. Removing the **irrelevant column**:"
   ]
  },
  {
   "cell_type": "code",
   "execution_count": 11,
   "metadata": {},
   "outputs": [],
   "source": [
    "# the last column of the data (will print many NA's)\n",
    "#raw_cervical$X33"
   ]
  },
  {
   "cell_type": "code",
   "execution_count": 12,
   "metadata": {},
   "outputs": [],
   "source": [
    "# remove col 33, X33 (meaningless)\n",
    "nas_cervical <- raw_cervical[-33]"
   ]
  },
  {
   "cell_type": "code",
   "execution_count": 13,
   "metadata": {},
   "outputs": [],
   "source": [
    "# this is the last column now\n",
    "#nas_cervical[32]"
   ]
  },
  {
   "cell_type": "markdown",
   "metadata": {},
   "source": [
    "Great! Just got rid of this unnecessary column. Bear in mind that the data frame without NA's is stored in the <code>nas_cervical</code> variable, the <code>raw_cervical</code> is left as it was. From now on, use the <code>nas_cervical</code> data frame!\n",
    "\n",
    "The original data description claims that there is no missing data at all in the dataset. Hopefully, that's the case now. To double check:"
   ]
  },
  {
   "cell_type": "code",
   "execution_count": 14,
   "metadata": {},
   "outputs": [
    {
     "data": {
      "text/html": [],
      "text/latex": [],
      "text/markdown": [],
      "text/plain": [
       "integer(0)"
      ]
     },
     "metadata": {},
     "output_type": "display_data"
    }
   ],
   "source": [
    "# prints nothing because none found!\n",
    "# apply is used to check every column (dimension 2) for nas\n",
    "apply(is.na(nas_cervical),2,which)"
   ]
  },
  {
   "cell_type": "code",
   "execution_count": 15,
   "metadata": {},
   "outputs": [],
   "source": [
    "# if ran on the raw data (with NA values)\n",
    "# by dimension 1 (rows)\n",
    "# prints 33 for each line (since each line has an NA is position 33)\n",
    "\n",
    "#apply(is.na(raw_cervical),1,which)"
   ]
  },
  {
   "cell_type": "code",
   "execution_count": 16,
   "metadata": {},
   "outputs": [],
   "source": [
    "# same sort of idea for NULL values\n",
    "# which(is.null(nas_cervical))"
   ]
  },
  {
   "cell_type": "markdown",
   "metadata": {},
   "source": [
    "It can also sometimes be useful to think about infinity/NaN (not a number) values in the data. This is just an extension of what has already been done here, follows the same idea.\n",
    "\n",
    "Sometimes, the purpose of data cleaning is to get it ready to answer a specific question about the variables. In these cases, it is sometimes appropriate to remove columns that are unrelated to the question. \n",
    "\n",
    "Sometimes, questions may only relate to a certain type of sample. For example, the question may relate to only individuals that had a diagnosis B=benign. In those cases, it may be sensible to remove rows for which that condition does not apply.\n",
    "\n",
    "Since the purpose here is to understand the data, no rows or columns need to be deleted on this basis."
   ]
  },
  {
   "cell_type": "markdown",
   "metadata": {},
   "source": [
    "can remove empty rows and columns using remove_empty() in janitor package."
   ]
  },
  {
   "cell_type": "markdown",
   "metadata": {},
   "source": [
    "Columns with 0 variance? Are basically not very informative. If the variable changes nothing, its completely constant, why should it bulk up the data?"
   ]
  },
  {
   "cell_type": "code",
   "execution_count": 17,
   "metadata": {},
   "outputs": [
    {
     "data": {
      "text/html": [],
      "text/latex": [],
      "text/markdown": [],
      "text/plain": [
       "named integer(0)"
      ]
     },
     "metadata": {},
     "output_type": "display_data"
    }
   ],
   "source": [
    "### COLS WITH 0 VARIANCE, only numerical\n",
    "num_cervical <- nas_cervical[-2]\n",
    "which(apply(num_cervical,2, var)==0)"
   ]
  },
  {
   "cell_type": "markdown",
   "metadata": {},
   "source": [
    "see also remove_constant() from janitor package to remove 0 variance columns from data."
   ]
  },
  {
   "cell_type": "markdown",
   "metadata": {},
   "source": [
    "### Encode missing values\n",
    "\n",
    "There are none, can check. actually did check hmmm maybe reorder this.\n",
    "\n",
    "Something about looking for NaN values and magic values, turning them into sensibly encoded NA."
   ]
  },
  {
   "cell_type": "markdown",
   "metadata": {},
   "source": [
    "### Variable names\n",
    "\n",
    "The variable names are pretty sensible already:"
   ]
  },
  {
   "cell_type": "code",
   "execution_count": 18,
   "metadata": {},
   "outputs": [
    {
     "data": {
      "text/html": [
       "<ol class=list-inline>\n",
       "\t<li>'id'</li>\n",
       "\t<li>'diagnosis'</li>\n",
       "\t<li>'radius_mean'</li>\n",
       "\t<li>'texture_mean'</li>\n",
       "\t<li>'perimeter_mean'</li>\n",
       "\t<li>'area_mean'</li>\n",
       "\t<li>'smoothness_mean'</li>\n",
       "\t<li>'compactness_mean'</li>\n",
       "\t<li>'concavity_mean'</li>\n",
       "\t<li>'concave points_mean'</li>\n",
       "\t<li>'symmetry_mean'</li>\n",
       "\t<li>'fractal_dimension_mean'</li>\n",
       "\t<li>'radius_se'</li>\n",
       "\t<li>'texture_se'</li>\n",
       "\t<li>'perimeter_se'</li>\n",
       "\t<li>'area_se'</li>\n",
       "\t<li>'smoothness_se'</li>\n",
       "\t<li>'compactness_se'</li>\n",
       "\t<li>'concavity_se'</li>\n",
       "\t<li>'concave points_se'</li>\n",
       "\t<li>'symmetry_se'</li>\n",
       "\t<li>'fractal_dimension_se'</li>\n",
       "\t<li>'radius_worst'</li>\n",
       "\t<li>'texture_worst'</li>\n",
       "\t<li>'perimeter_worst'</li>\n",
       "\t<li>'area_worst'</li>\n",
       "\t<li>'smoothness_worst'</li>\n",
       "\t<li>'compactness_worst'</li>\n",
       "\t<li>'concavity_worst'</li>\n",
       "\t<li>'concave points_worst'</li>\n",
       "\t<li>'symmetry_worst'</li>\n",
       "\t<li>'fractal_dimension_worst'</li>\n",
       "\t<li>'X33'</li>\n",
       "</ol>\n"
      ],
      "text/latex": [
       "\\begin{enumerate*}\n",
       "\\item 'id'\n",
       "\\item 'diagnosis'\n",
       "\\item 'radius\\_mean'\n",
       "\\item 'texture\\_mean'\n",
       "\\item 'perimeter\\_mean'\n",
       "\\item 'area\\_mean'\n",
       "\\item 'smoothness\\_mean'\n",
       "\\item 'compactness\\_mean'\n",
       "\\item 'concavity\\_mean'\n",
       "\\item 'concave points\\_mean'\n",
       "\\item 'symmetry\\_mean'\n",
       "\\item 'fractal\\_dimension\\_mean'\n",
       "\\item 'radius\\_se'\n",
       "\\item 'texture\\_se'\n",
       "\\item 'perimeter\\_se'\n",
       "\\item 'area\\_se'\n",
       "\\item 'smoothness\\_se'\n",
       "\\item 'compactness\\_se'\n",
       "\\item 'concavity\\_se'\n",
       "\\item 'concave points\\_se'\n",
       "\\item 'symmetry\\_se'\n",
       "\\item 'fractal\\_dimension\\_se'\n",
       "\\item 'radius\\_worst'\n",
       "\\item 'texture\\_worst'\n",
       "\\item 'perimeter\\_worst'\n",
       "\\item 'area\\_worst'\n",
       "\\item 'smoothness\\_worst'\n",
       "\\item 'compactness\\_worst'\n",
       "\\item 'concavity\\_worst'\n",
       "\\item 'concave points\\_worst'\n",
       "\\item 'symmetry\\_worst'\n",
       "\\item 'fractal\\_dimension\\_worst'\n",
       "\\item 'X33'\n",
       "\\end{enumerate*}\n"
      ],
      "text/markdown": [
       "1. 'id'\n",
       "2. 'diagnosis'\n",
       "3. 'radius_mean'\n",
       "4. 'texture_mean'\n",
       "5. 'perimeter_mean'\n",
       "6. 'area_mean'\n",
       "7. 'smoothness_mean'\n",
       "8. 'compactness_mean'\n",
       "9. 'concavity_mean'\n",
       "10. 'concave points_mean'\n",
       "11. 'symmetry_mean'\n",
       "12. 'fractal_dimension_mean'\n",
       "13. 'radius_se'\n",
       "14. 'texture_se'\n",
       "15. 'perimeter_se'\n",
       "16. 'area_se'\n",
       "17. 'smoothness_se'\n",
       "18. 'compactness_se'\n",
       "19. 'concavity_se'\n",
       "20. 'concave points_se'\n",
       "21. 'symmetry_se'\n",
       "22. 'fractal_dimension_se'\n",
       "23. 'radius_worst'\n",
       "24. 'texture_worst'\n",
       "25. 'perimeter_worst'\n",
       "26. 'area_worst'\n",
       "27. 'smoothness_worst'\n",
       "28. 'compactness_worst'\n",
       "29. 'concavity_worst'\n",
       "30. 'concave points_worst'\n",
       "31. 'symmetry_worst'\n",
       "32. 'fractal_dimension_worst'\n",
       "33. 'X33'\n",
       "\n",
       "\n"
      ],
      "text/plain": [
       " [1] \"id\"                      \"diagnosis\"              \n",
       " [3] \"radius_mean\"             \"texture_mean\"           \n",
       " [5] \"perimeter_mean\"          \"area_mean\"              \n",
       " [7] \"smoothness_mean\"         \"compactness_mean\"       \n",
       " [9] \"concavity_mean\"          \"concave points_mean\"    \n",
       "[11] \"symmetry_mean\"           \"fractal_dimension_mean\" \n",
       "[13] \"radius_se\"               \"texture_se\"             \n",
       "[15] \"perimeter_se\"            \"area_se\"                \n",
       "[17] \"smoothness_se\"           \"compactness_se\"         \n",
       "[19] \"concavity_se\"            \"concave points_se\"      \n",
       "[21] \"symmetry_se\"             \"fractal_dimension_se\"   \n",
       "[23] \"radius_worst\"            \"texture_worst\"          \n",
       "[25] \"perimeter_worst\"         \"area_worst\"             \n",
       "[27] \"smoothness_worst\"        \"compactness_worst\"      \n",
       "[29] \"concavity_worst\"         \"concave points_worst\"   \n",
       "[31] \"symmetry_worst\"          \"fractal_dimension_worst\"\n",
       "[33] \"X33\"                    "
      ]
     },
     "metadata": {},
     "output_type": "display_data"
    }
   ],
   "source": [
    "# read column names\n",
    "colnames(raw_cervical) # NAs? use updated version?"
   ]
  },
  {
   "cell_type": "markdown",
   "metadata": {},
   "source": [
    "if the variable names were rubbish, could use janitor package with clean_names()."
   ]
  },
  {
   "cell_type": "markdown",
   "metadata": {},
   "source": [
    "### Duplicates\n",
    "\n",
    "R will reduce down to unique with one function, 2 functions in base r which is nice.\n",
    "\n",
    "Also note about removing duplicates. eg: if id is different but everything else the same?"
   ]
  },
  {
   "cell_type": "code",
   "execution_count": 19,
   "metadata": {},
   "outputs": [
    {
     "data": {
      "text/html": [
       "0"
      ],
      "text/latex": [
       "0"
      ],
      "text/markdown": [
       "0"
      ],
      "text/plain": [
       "[1] 0"
      ]
     },
     "metadata": {},
     "output_type": "display_data"
    }
   ],
   "source": [
    "# see also:\n",
    "# duplicated() # identify duplicated elements\n",
    "# unique() # extract unique elements\n",
    "anyDuplicated(nas_cervical)"
   ]
  },
  {
   "cell_type": "markdown",
   "metadata": {},
   "source": [
    "[anyDuplicated()](https://www.rdocumentation.org/packages/base/versions/3.6.2/topics/duplicated) returns 0, so no duplicate rows in data. easy. If there were, [unique()](https://www.rdocumentation.org/packages/base/versions/3.6.2/topics/unique) could be used to reduce the data frame.\n",
    "\n",
    "See also [distinct()](https://www.rdocumentation.org/packages/dplyr/versions/0.7.8/topics/distinct) which seems to basically do the same thing but also removes the duplicates?? part of dplyr though which i think is loaded but ???\n",
    "\n",
    "Can use \n",
    "<code>unique_df = unique(df)</code> - base r\n",
    "\n",
    "Alternatively dplyr from tidyverse, can then pipe with distinct()."
   ]
  },
  {
   "cell_type": "markdown",
   "metadata": {},
   "source": [
    "### Fix classes of each column - recode factors\n",
    "\n",
    "common activities here include:\n",
    "- checking if there are dates that are inevitably wrongly input can be fixed somehow\n",
    "- fix strings to make sense because I guarantee they do not right now\n",
    "- in that vein also recode categorical data to usable factors maybe numbers maybe booleans not sure will get back to you"
   ]
  },
  {
   "cell_type": "markdown",
   "metadata": {},
   "source": [
    "Because R is a very questionable language, 2 main ways to retrieve class information:"
   ]
  },
  {
   "cell_type": "code",
   "execution_count": 20,
   "metadata": {},
   "outputs": [],
   "source": [
    "# get class for each column\n",
    "#lapply(nas_cervical,class)"
   ]
  },
  {
   "cell_type": "code",
   "execution_count": 21,
   "metadata": {},
   "outputs": [],
   "source": [
    "# \"compactly\" display structure of object\n",
    "#str(nas_cervical)"
   ]
  },
  {
   "cell_type": "code",
   "execution_count": 22,
   "metadata": {},
   "outputs": [
    {
     "data": {
      "text/html": [
       "<ol class=list-inline>\n",
       "\t<li>'M'</li>\n",
       "\t<li>'M'</li>\n",
       "\t<li>'M'</li>\n",
       "\t<li>'M'</li>\n",
       "\t<li>'M'</li>\n",
       "\t<li>'M'</li>\n",
       "\t<li>'M'</li>\n",
       "\t<li>'M'</li>\n",
       "\t<li>'M'</li>\n",
       "\t<li>'M'</li>\n",
       "\t<li>'M'</li>\n",
       "\t<li>'M'</li>\n",
       "\t<li>'M'</li>\n",
       "\t<li>'M'</li>\n",
       "\t<li>'M'</li>\n",
       "\t<li>'M'</li>\n",
       "\t<li>'M'</li>\n",
       "\t<li>'M'</li>\n",
       "\t<li>'M'</li>\n",
       "\t<li>'B'</li>\n",
       "</ol>\n"
      ],
      "text/latex": [
       "\\begin{enumerate*}\n",
       "\\item 'M'\n",
       "\\item 'M'\n",
       "\\item 'M'\n",
       "\\item 'M'\n",
       "\\item 'M'\n",
       "\\item 'M'\n",
       "\\item 'M'\n",
       "\\item 'M'\n",
       "\\item 'M'\n",
       "\\item 'M'\n",
       "\\item 'M'\n",
       "\\item 'M'\n",
       "\\item 'M'\n",
       "\\item 'M'\n",
       "\\item 'M'\n",
       "\\item 'M'\n",
       "\\item 'M'\n",
       "\\item 'M'\n",
       "\\item 'M'\n",
       "\\item 'B'\n",
       "\\end{enumerate*}\n"
      ],
      "text/markdown": [
       "1. 'M'\n",
       "2. 'M'\n",
       "3. 'M'\n",
       "4. 'M'\n",
       "5. 'M'\n",
       "6. 'M'\n",
       "7. 'M'\n",
       "8. 'M'\n",
       "9. 'M'\n",
       "10. 'M'\n",
       "11. 'M'\n",
       "12. 'M'\n",
       "13. 'M'\n",
       "14. 'M'\n",
       "15. 'M'\n",
       "16. 'M'\n",
       "17. 'M'\n",
       "18. 'M'\n",
       "19. 'M'\n",
       "20. 'B'\n",
       "\n",
       "\n"
      ],
      "text/plain": [
       " [1] \"M\" \"M\" \"M\" \"M\" \"M\" \"M\" \"M\" \"M\" \"M\" \"M\" \"M\" \"M\" \"M\" \"M\" \"M\" \"M\" \"M\" \"M\" \"M\"\n",
       "[20] \"B\""
      ]
     },
     "metadata": {},
     "output_type": "display_data"
    }
   ],
   "source": [
    "# look at first 20 values in column\n",
    "head(nas_cervical$diagnosis, 20)\n"
   ]
  },
  {
   "cell_type": "code",
   "execution_count": 23,
   "metadata": {},
   "outputs": [
    {
     "data": {
      "text/html": [
       "<ol class=list-inline>\n",
       "\t<li>1</li>\n",
       "\t<li>1</li>\n",
       "\t<li>1</li>\n",
       "\t<li>1</li>\n",
       "\t<li>1</li>\n",
       "\t<li>1</li>\n",
       "\t<li>1</li>\n",
       "\t<li>1</li>\n",
       "\t<li>1</li>\n",
       "\t<li>1</li>\n",
       "\t<li>1</li>\n",
       "\t<li>1</li>\n",
       "\t<li>1</li>\n",
       "\t<li>1</li>\n",
       "\t<li>1</li>\n",
       "\t<li>1</li>\n",
       "\t<li>1</li>\n",
       "\t<li>1</li>\n",
       "\t<li>1</li>\n",
       "\t<li>0</li>\n",
       "</ol>\n"
      ],
      "text/latex": [
       "\\begin{enumerate*}\n",
       "\\item 1\n",
       "\\item 1\n",
       "\\item 1\n",
       "\\item 1\n",
       "\\item 1\n",
       "\\item 1\n",
       "\\item 1\n",
       "\\item 1\n",
       "\\item 1\n",
       "\\item 1\n",
       "\\item 1\n",
       "\\item 1\n",
       "\\item 1\n",
       "\\item 1\n",
       "\\item 1\n",
       "\\item 1\n",
       "\\item 1\n",
       "\\item 1\n",
       "\\item 1\n",
       "\\item 0\n",
       "\\end{enumerate*}\n"
      ],
      "text/markdown": [
       "1. 1\n",
       "2. 1\n",
       "3. 1\n",
       "4. 1\n",
       "5. 1\n",
       "6. 1\n",
       "7. 1\n",
       "8. 1\n",
       "9. 1\n",
       "10. 1\n",
       "11. 1\n",
       "12. 1\n",
       "13. 1\n",
       "14. 1\n",
       "15. 1\n",
       "16. 1\n",
       "17. 1\n",
       "18. 1\n",
       "19. 1\n",
       "20. 0\n",
       "\n",
       "\n"
      ],
      "text/plain": [
       " [1] 1 1 1 1 1 1 1 1 1 1 1 1 1 1 1 1 1 1 1 0"
      ]
     },
     "metadata": {},
     "output_type": "display_data"
    }
   ],
   "source": [
    "# forces numeric 0 or 1 for values\n",
    "nas_cervical$diagnosis <- gsub('M', \"1\", nas_cervical$diagnosis)\n",
    "nas_cervical$diagnosis <- gsub('B', \"0\", nas_cervical$diagnosis)\n",
    "nas_cervical$diagnosis <- as.numeric(nas_cervical$diagnosis)\n",
    "# print first 20 values of column\n",
    "head(nas_cervical$diagnosis, 20)"
   ]
  },
  {
   "cell_type": "markdown",
   "metadata": {},
   "source": [
    "Note: when you do something like this, make sure its clear to the reader of your work what has been done. 1 and 0 means nothing out of context, but as the person writing the code, you understand that 1 represents M in the original data, and 0 represents B."
   ]
  },
  {
   "cell_type": "markdown",
   "metadata": {},
   "source": [
    "### Dates and strings\n",
    "\n",
    "Common problem to have. Not in this dataset, but you should check it. its horrible. best of luck. check lubridate package."
   ]
  },
  {
   "cell_type": "markdown",
   "metadata": {},
   "source": [
    "<hr>\n",
    "\n",
    "# Cleaning - Technically correct data to consistent data\n",
    "\n",
    "Just because the data is technically correct doesn't mean it makes sense. This is another reason why context is important.\n",
    "\n",
    "For data to be consistent, it should be ready for inference.\n",
    "\n",
    "Goal for this step:\n",
    "- Data is stored in a suitable data frame, ready for inference!\n",
    "\n",
    "Steps to reach the goal:\n",
    "- variable constraints addressed (can age=-35?)\n",
    "- missing values - addressing strategies to get the most from data with missing values\n",
    "- dealing with outliers"
   ]
  },
  {
   "cell_type": "markdown",
   "metadata": {},
   "source": [
    "### Variable Constraints\n",
    "\n",
    "Can someone's age be -35?\n",
    "\n",
    "Can someone be married, divorced, single and pregnant all at the same time?\n",
    "\n",
    "These are the sorts of questions to ask at this stage.\n",
    "\n",
    "This step is very subject specific. This absolutely requires subject knowledge. As the data analyist, it can be helpful to ask people in that discipline if the values make sense. Here, that would be a bold move. So this time, escape.\n",
    "\n",
    "This step isnt included in this guide because its really involved and this data is quite well documented. Generally speaking though, this is a vital step in ensuring that variables are correctly labelled and contain useful information that actually makes sense. Correcting variable constraint violations is an art - not to be taken lightly.\n",
    "\n",
    "Checking out the [editrules]() package is a good place to start. In particular, look at the <code>editset()</code> and <code>violatedEdits()</code> functions."
   ]
  },
  {
   "cell_type": "markdown",
   "metadata": {},
   "source": [
    "### Processing NA values appropriately\n",
    "\n",
    "The last step involved ensuring that any missing values were stored as NA (as opposed to magic encodings that don't make sense. If looking at variable constraints highlighted more possible NAs, can go back now and check. Once youre happy that NA values are recorded as such, can move on to actually dealing with them!\n",
    "\n",
    "Many different ways to deal with outliers (again, context dependant). May wish to remove all rows with missing values, remove irrlevant variables then remove rows with missing values, do something fancier...\n",
    "\n",
    "Not addressing here because too involved, but libraries [naniar]() and [knitr]() provide useful starting point to visualise missing data."
   ]
  },
  {
   "cell_type": "markdown",
   "metadata": {},
   "source": [
    "### Outliers\n",
    "\n",
    "Outliers:\n",
    "2 steps. Identify and then treat. Not as simple as removal. Why not? you're messing with the data. Before, we were changing the way the data was represented. Now we're talking about meaningfully changing what is happening in the data. This is a delicate operation. \n",
    "\n",
    "<b>What actually is an outlier?</b><br>\n",
    "An unusual bit of data. \"Unusual\" is (obviously) quite a context sensitive term. The idea of an outlier *at all* depends on the data that you have. So don't take this lightly. And don't blame me if this is all irrelevant to you.\n",
    "\n",
    "One way to find outliers:<br>\n",
    "Use boxplots. Here look for outliers in the radius mean variable:"
   ]
  },
  {
   "cell_type": "code",
   "execution_count": 24,
   "metadata": {},
   "outputs": [
    {
     "data": {
      "text/html": [
       "<ol class=list-inline>\n",
       "\t<li>25.22</li>\n",
       "\t<li>22.27</li>\n",
       "\t<li>24.25</li>\n",
       "\t<li>23.27</li>\n",
       "\t<li>27.22</li>\n",
       "\t<li>23.29</li>\n",
       "\t<li>28.11</li>\n",
       "\t<li>23.21</li>\n",
       "\t<li>23.51</li>\n",
       "\t<li>25.73</li>\n",
       "\t<li>22.01</li>\n",
       "\t<li>27.42</li>\n",
       "\t<li>23.09</li>\n",
       "\t<li>24.63</li>\n",
       "</ol>\n"
      ],
      "text/latex": [
       "\\begin{enumerate*}\n",
       "\\item 25.22\n",
       "\\item 22.27\n",
       "\\item 24.25\n",
       "\\item 23.27\n",
       "\\item 27.22\n",
       "\\item 23.29\n",
       "\\item 28.11\n",
       "\\item 23.21\n",
       "\\item 23.51\n",
       "\\item 25.73\n",
       "\\item 22.01\n",
       "\\item 27.42\n",
       "\\item 23.09\n",
       "\\item 24.63\n",
       "\\end{enumerate*}\n"
      ],
      "text/markdown": [
       "1. 25.22\n",
       "2. 22.27\n",
       "3. 24.25\n",
       "4. 23.27\n",
       "5. 27.22\n",
       "6. 23.29\n",
       "7. 28.11\n",
       "8. 23.21\n",
       "9. 23.51\n",
       "10. 25.73\n",
       "11. 22.01\n",
       "12. 27.42\n",
       "13. 23.09\n",
       "14. 24.63\n",
       "\n",
       "\n"
      ],
      "text/plain": [
       " [1] 25.22 22.27 24.25 23.27 27.22 23.29 28.11 23.21 23.51 25.73 22.01 27.42\n",
       "[13] 23.09 24.63"
      ]
     },
     "metadata": {},
     "output_type": "display_data"
    },
    {
     "data": {
      "image/png": "[encoded data removed]",
      "text/plain": [
       "Plot with title “Radius mean boxplot”"
      ]
     },
     "metadata": {},
     "output_type": "display_data"
    }
   ],
   "source": [
    "# find outlier points for the radius_mean variable in the data.\n",
    "# this line prints the values of such points\n",
    "boxplot.stats(nas_cervical$radius_mean)$out\n",
    "\n",
    "boxplot(nas_cervical$radius_mean, main=\"Radius mean boxplot\")"
   ]
  },
  {
   "cell_type": "markdown",
   "metadata": {},
   "source": [
    "Looks like there are outliers above the upper IQR accepted range. We could treat these as outliers. If we wanted to. But there are quite a lot...so...don't. Also, the original paper for this data commented on outliers (there are none) and their word is better than IQR test.\n",
    "\n",
    "If this needs to be confirmed in the data, could interrogate data a bit by setting against the target variable."
   ]
  },
  {
   "cell_type": "code",
   "execution_count": 25,
   "metadata": {},
   "outputs": [
    {
     "name": "stderr",
     "output_type": "stream",
     "text": [
      "\n",
      "Attaching package: ‘dplyr’\n",
      "\n",
      "The following objects are masked from ‘package:stats’:\n",
      "\n",
      "    filter, lag\n",
      "\n",
      "The following objects are masked from ‘package:base’:\n",
      "\n",
      "    intersect, setdiff, setequal, union\n",
      "\n"
     ]
    }
   ],
   "source": [
    "library(dplyr) # need for correct filter()"
   ]
  },
  {
   "cell_type": "code",
   "execution_count": 26,
   "metadata": {},
   "outputs": [
    {
     "data": {
      "text/html": [
       "212"
      ],
      "text/latex": [
       "212"
      ],
      "text/markdown": [
       "212"
      ],
      "text/plain": [
       "[1] 212"
      ]
     },
     "metadata": {},
     "output_type": "display_data"
    }
   ],
   "source": [
    "## separate data out by diagnosis\n",
    "melignant <- dplyr::filter(nas_cervical, diagnosis==1)\n",
    "nrow(melignant)"
   ]
  },
  {
   "cell_type": "code",
   "execution_count": 27,
   "metadata": {},
   "outputs": [
    {
     "data": {
      "text/html": [
       "<ol class=list-inline>\n",
       "\t<li>27.22</li>\n",
       "\t<li>28.11</li>\n",
       "\t<li>27.42</li>\n",
       "</ol>\n"
      ],
      "text/latex": [
       "\\begin{enumerate*}\n",
       "\\item 27.22\n",
       "\\item 28.11\n",
       "\\item 27.42\n",
       "\\end{enumerate*}\n"
      ],
      "text/markdown": [
       "1. 27.22\n",
       "2. 28.11\n",
       "3. 27.42\n",
       "\n",
       "\n"
      ],
      "text/plain": [
       "[1] 27.22 28.11 27.42"
      ]
     },
     "metadata": {},
     "output_type": "display_data"
    },
    {
     "data": {
      "image/png": "[encoded data removed]",
      "text/plain": [
       "plot without title"
      ]
     },
     "metadata": {},
     "output_type": "display_data"
    }
   ],
   "source": [
    "boxplot.stats(melignant$radius_mean)$out\n",
    "boxplot(melignant$radius_mean)"
   ]
  },
  {
   "cell_type": "code",
   "execution_count": 28,
   "metadata": {},
   "outputs": [
    {
     "data": {
      "text/html": [
       "357"
      ],
      "text/latex": [
       "357"
      ],
      "text/markdown": [
       "357"
      ],
      "text/plain": [
       "[1] 357"
      ]
     },
     "metadata": {},
     "output_type": "display_data"
    }
   ],
   "source": [
    "healthy <- dplyr::filter(nas_cervical, diagnosis==0)\n",
    "nrow(healthy)"
   ]
  },
  {
   "cell_type": "code",
   "execution_count": 29,
   "metadata": {},
   "outputs": [
    {
     "data": {
      "text/html": [
       "<ol class=list-inline>\n",
       "\t<li>6.981</li>\n",
       "\t<li>16.84</li>\n",
       "\t<li>17.85</li>\n",
       "</ol>\n"
      ],
      "text/latex": [
       "\\begin{enumerate*}\n",
       "\\item 6.981\n",
       "\\item 16.84\n",
       "\\item 17.85\n",
       "\\end{enumerate*}\n"
      ],
      "text/markdown": [
       "1. 6.981\n",
       "2. 16.84\n",
       "3. 17.85\n",
       "\n",
       "\n"
      ],
      "text/plain": [
       "[1]  6.981 16.840 17.850"
      ]
     },
     "metadata": {},
     "output_type": "display_data"
    },
    {
     "data": {
      "image/png": "[encoded data removed]",
      "text/plain": [
       "plot without title"
      ]
     },
     "metadata": {},
     "output_type": "display_data"
    }
   ],
   "source": [
    "boxplot.stats(healthy$radius_mean)$out\n",
    "boxplot(healthy$radius_mean)"
   ]
  },
  {
   "cell_type": "markdown",
   "metadata": {},
   "source": [
    "can see that outliers have reduced and boxplots look more sensible. Cause for further investigation!"
   ]
  },
  {
   "cell_type": "markdown",
   "metadata": {},
   "source": [
    "### Write to file\n",
    "\n",
    "write your finished work to a new csv (replicability)"
   ]
  },
  {
   "cell_type": "markdown",
   "metadata": {},
   "source": [
    "<hr>\n",
    "\n",
    "# EDA aka the fun bit\n",
    "\n",
    "Histograms, heatmaps maybe, some kind of graphical situation"
   ]
  },
  {
   "cell_type": "code",
   "execution_count": 30,
   "metadata": {},
   "outputs": [],
   "source": [
    "# other things to ignore until visualisation becomes relevant \n",
    "# need to pull out col, stem and leaf\n",
    "\n",
    "#stem(raw_cervical)\n",
    "# hist()\n",
    "# sort()\n",
    "# max()"
   ]
  }
 ],
 "metadata": {
  "kernelspec": {
   "display_name": "R",
   "language": "R",
   "name": "ir"
  },
  "language_info": {
   "codemirror_mode": "r",
   "file_extension": ".r",
   "mimetype": "text/x-r-source",
   "name": "R",
   "pygments_lexer": "r",
   "version": "3.6.1"
  }
 },
 "nbformat": 4,
 "nbformat_minor": 2
}
