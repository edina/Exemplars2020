{
 "cells": [
  {
   "cell_type": "markdown",
   "metadata": {},
   "source": [
    "# Note to Robyn\n",
    "This is so disorganized and a few of these websites were literally for me to try to understand bayesian statistics. I'm so sorry, this is probably not helpful at all. :("
   ]
  },
  {
   "cell_type": "markdown",
   "metadata": {},
   "source": [
    "## Video on Bayesian modelling\n",
    "- https://www.coursera.org/lecture/fitting-statistical-models-data-python/bayesian-approaches-to-statistics-and-modeling-GXc9i\n",
    "    - also had a video on a case study: childIQ = a + b * mumIQ + c * mumAge\n"
   ]
  },
  {
   "cell_type": "markdown",
   "metadata": {},
   "source": [
    "## Websites that seemed useful\n",
    "- An example on using sample data to predict the kid's iq from the mum's iq and if she went to high school\n",
    "    - https://mc-stan.org/rstanarm/reference/rstanarm-datasets.html#examples\n",
    "        Kidiq - Data from a survey of adult American women and their children (a subsample from the National Longitudinal Survey of Youth).Source: Gelman and Hill (2007)434 obs. of 4 variables \n",
    "        - kid_score Child's IQ score\n",
    "        - mom_hs Indicator for whether the mother has a high school degree\n",
    "        - mom_iq Mother's IQ score\n",
    "        - mom_age Mother's age\n",
    "- hierarchical liear regression\n",
    "    - https://docs.pymc.io/notebooks/GLM-hierarchical.html\n",
    "    - pymc3 seems useful https://docs.pymc.io/notebooks/getting_started.html\n",
    "- https://books.google.co.uk/books?id=m57pB4xw9CwC&pg=PA2003&lpg=PA2003&dq=Bayesian+statistical+methods+within+social+science+python&source=bl&ots=hVar2W_NU3&sig=ACfU3U3lyyljiTeSpwCyJVBdXCYF_bUbnA&hl=en&sa=X&ved=2ahUKEwjlqs-1jJjqAhU2WxUIHVSeBzYQ6AEwDXoECAcQAQ#v=onepage&q=Bayesian%20statistical%20methods%20within%20social%20science%20python&f=false\n",
    "- https://statswithr.github.io/book/the-basics-of-bayesian-statistics.html"
   ]
  },
  {
   "cell_type": "markdown",
   "metadata": {},
   "source": [
    "# Intro notes - Bayesian Statistics\n",
    "\n",
    "Bayesian statistics is a different paradigm through which to view statistics. This is in comparison to frequentist statistics, which is what everyone learns in school.\n",
    "\n",
    "### Bayes rule\n",
    "\n",
    "If you've heard of Bayes at all, its probably been in reference to **Bayes rule**:\n",
    "\n",
    "$$\n",
    "P(A|B) = \\frac{P(B|A) P(A)}{P(B)}\n",
    "$$\n",
    "\n",
    "Bayes rule is all about conditional probability (\"what is the probability of B *given that* A?\"). This is very important in medical settings, where information like false positives and negatives is of high importance. Questions like: \"What is the likelyhood Jeff has illness A given that he has symptom B?\". Perhaps giving a healthy person a drug will cause horrible side effects, so knowing whether the person is sick is very important.\n",
    "\n",
    "### True/False Positive/Negative\n",
    "\n",
    "**False/True:Positive/Negative**:<br>\n",
    "Say a test, T, is carried out to see if a person has a particular disease, D. T is true if the test comes back positive, and false if it comes back negative. D is true if the person has the disease, and false if they do not.\n",
    "\n",
    "A **true negative** would be a test coming back negative for someone that was not sick. The return of the test was negative and was correct in being negative.\n",
    "\n",
    "By contrast, a **false negative** would be the test coming back negative, but the person is actually sick with the disease. The result of the test was negative, but this result was incorrect.\n",
    "\n",
    "By the same logic, a **true positive** result is a positive test result for someone with the disease, and a **false positive** is a positive test result but for a healthy person.\n",
    "\n",
    "It is trivially obvious that this is important in medicine.\n",
    "\n",
    "### Bayes Updating"
   ]
  },
  {
   "cell_type": "code",
   "execution_count": null,
   "metadata": {},
   "outputs": [],
   "source": []
  }
 ],
 "metadata": {
  "kernelspec": {
   "display_name": "Python 3",
   "language": "python",
   "name": "python3"
  },
  "language_info": {
   "codemirror_mode": {
    "name": "ipython",
    "version": 3
   },
   "file_extension": ".py",
   "mimetype": "text/x-python",
   "name": "python",
   "nbconvert_exporter": "python",
   "pygments_lexer": "ipython3",
   "version": "3.7.3"
  }
 },
 "nbformat": 4,
 "nbformat_minor": 2
}
