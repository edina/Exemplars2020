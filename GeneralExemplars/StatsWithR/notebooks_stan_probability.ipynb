{
 "cells": [
  {
   "cell_type": "code",
   "execution_count": 1,
   "metadata": {},
   "outputs": [
    {
     "name": "stderr",
     "output_type": "stream",
     "text": [
      "Loading required package: StanHeaders\n",
      "\n",
      "Loading required package: ggplot2\n",
      "\n",
      "rstan (Version 2.21.1, GitRev: 2e1f913d3ca3)\n",
      "\n",
      "For execution on a local, multicore CPU with excess RAM we recommend calling\n",
      "options(mc.cores = parallel::detectCores()).\n",
      "To avoid recompilation of unchanged Stan programs, we recommend calling\n",
      "rstan_options(auto_write = TRUE)\n",
      "\n"
     ]
    },
    {
     "ename": "ERROR",
     "evalue": "Error in sink(type = \"output\"): invalid connection\n",
     "output_type": "error",
     "traceback": [
      "Error in sink(type = \"output\"): invalid connection\nTraceback:\n",
      "1. stan(file = \"./probabilityjudgment.stan\", data = inputdata)",
      "2. stan_model(file, model_name = model_name, model_code = model_code, \n .     stanc_ret = NULL, boost_lib = boost_lib, eigen_lib = eigen_lib, \n .     save_dso = save_dso, verbose = verbose)",
      "3. cxxfunctionplus(signature(), body = paste(\" return Rcpp::wrap(\\\"\", \n .     model_name, \"\\\");\", sep = \"\"), includes = inc, plugin = \"rstan\", \n .     save_dso = save_dso | auto_write, module_name = paste(\"stan_fit4\", \n .         model_cppname, \"_mod\", sep = \"\"), verbose = verbose)",
      "4. sink(type = \"output\")"
     ]
    }
   ],
   "source": [
    "library(rstan)\n",
    "\n",
    "# parameters\n",
    "mu <- .3\n",
    "sig <- .2\n",
    "v <- 15\n",
    "eps <- 7\n",
    "\n",
    "# categories\n",
    "x <-seq(.1,.9,.1)\n",
    "\n",
    "# response strengths  \n",
    "phi <- v * dnorm(x, mu, sig)\n",
    "  \n",
    "# generate simulated responses\n",
    "y <- matrix(NA,9,4)\n",
    "for(i in 1:9) {\n",
    "  y[i,] <- round(rnorm(4,phi[i], eps))\n",
    "}\n",
    "y[y<1] <- 1\n",
    "y[y>99] <- 99\n",
    "\n",
    "# run stan\n",
    "inputdata <- list(N = 9, M = 4, y = y, x = x)\n",
    "outputdata <- stan(\n",
    "   file = \"./probabilityjudgment.stan\",\n",
    "   data = inputdata\n",
    ")\n",
    "\n",
    "# get posterior means for the various chains\n",
    "parmean <- get_posterior_mean(outputdata)\n",
    "phi_est <- parmean[grep(\"phi\",rownames(parmean)),\"mean-all chains\"]\n",
    "mu_est <- parmean[grep(\"mu\",rownames(parmean)),\"mean-all chains\"]\n",
    "sig_est <- parmean[grep(\"sigma\",rownames(parmean)),\"mean-all chains\"]\n",
    "\n",
    "\n",
    "# plot\n",
    "layout(matrix(1:2,1,2))\n",
    "\n",
    "# plot the raw data, along with the true expected response\n",
    "plot(phi,type=\"l\", ylim=c(0,max(y)*1.1), xlab = \"Stimulus Number\", ylab = \"Response\", \n",
    "     lty=2, lwd=2, main=\"Observed Response\")\n",
    "for(i in 1:4) lines(y[,i], type=\"p\", pch=19)\n",
    "legend(x=\"topright\", legend=c(\"data\", \"expected\", \"inferred\"), \n",
    "       lty=c(NA, 2,1), pch=c(19,NA,NA),\n",
    "       lwd=2, col=c(\"black\",\"black\",\"blue\"))\n",
    "\n",
    "# overlay the model estimates of phi\n",
    "lines(phi_est,lwd=2, col=\"blue\")\n",
    "\n",
    "# second plot to compare the model inferred belief distribution\n",
    "# to the true one that generated the data\n",
    "xv <- seq(0,1,.01)\n",
    "b <- dnorm(xv,mu,sig)\n",
    "plot(xv, b, lty=2,lwd=2, \n",
    "     xlab=\"Stimulus\", ylab=\"Belief\", type=\"l\",\n",
    "     main=\"Latent Belief\", ylim=c(0,max(b)*1.1))\n",
    "lines(xv, dnorm(xv, mu_est, sig_est), lwd=2, col=\"blue\")\n",
    "legend(x=\"topright\", legend=c(\"true\", \"inferred\"), lty=c(2,1), \n",
    "       lwd=2, col=c(\"black\",\"blue\"))\n",
    "\n",
    "layout(1)"
   ]
  },
  {
   "cell_type": "code",
   "execution_count": null,
   "metadata": {},
   "outputs": [],
   "source": []
  }
 ],
 "metadata": {
  "kernelspec": {
   "display_name": "R with Stan",
   "language": "R",
   "name": "ir"
  },
  "language_info": {
   "codemirror_mode": "r",
   "file_extension": ".r",
   "mimetype": "text/x-r-source",
   "name": "R",
   "pygments_lexer": "r",
   "version": "3.6.3"
  }
 },
 "nbformat": 4,
 "nbformat_minor": 2
}
