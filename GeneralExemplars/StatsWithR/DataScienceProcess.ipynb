{
 "cells": [
  {
   "cell_type": "markdown",
   "metadata": {},
   "source": [
    "# Introduction to Data Science\n",
    "\n",
    "Working with data is a process consisting of the following steps:\n",
    "1. Acquiring data\n",
    "2. Data Cleaning\n",
    "3. Exploring Data\n",
    "4. Building a model\n",
    "5. Presenting the data\n",
    "\n",
    "There are lots of cases with more or less steps, this tutorial walks through the baseline case - a general example.\n",
    "\n",
    "[beautiful tutorial](https://towardsdatascience.com/exploratory-data-analysis-in-python-c9a77dfa39ce)\n",
    "\n",
    "[just a lovely walk through by the same person, really inviting](https://nbviewer.jupyter.org/github/Tanu-N-Prabhu/Python/blob/master/Top_Python_Libraries_Used_In_Data%C2%A0Science.ipynb)\n",
    "\n"
   ]
  },
  {
   "cell_type": "markdown",
   "metadata": {},
   "source": [
    "## Getting data\n",
    "\n",
    "can be through web scraping (see libraries - beautifulsoup, requests, pandas) or download online (kaggle). not very interesting for noteable's purposes."
   ]
  },
  {
   "cell_type": "markdown",
   "metadata": {},
   "source": [
    "## Cleaning data\n",
    "\n",
    "Library: pandas\n",
    "\n",
    "BIG part of datasci\n",
    "\n",
    "first get from raw to technically correct.\n",
    "\n",
    "then get from technically correct to consistent.\n",
    "\n",
    "steps to technically correct data include:\n",
    "- removing unused/irrelevant columns/rows / cols with 0 variance\n",
    "- renaming variables for consistency and meaning\n",
    "- remove duplicates (if this doesnt cause loss of info)\n",
    "- encode missing values appropriately (if required)\n",
    "- fix dates (common bugbear)\n",
    "- fix strings (another common bugbear)\n",
    "- recoding vectors (eg: use 0 and 1 instead of yes/no)\n",
    "\n",
    "then to consistent:\n",
    "- variable constraints addressed (can age=-35?)\n",
    "- dealing with outliers\n",
    "- missing values - addressing strategies to get the most from data with missing values\n",
    "\n",
    "functions:\n",
    "read_csv\n",
    "head(n) - view top n rows of data\n",
    "tail() - bottom rows\n",
    "drop() - eliminate cols\n",
    "rename() - rename vars dict style\n",
    "replace() - dictionary still refactor vectors\n",
    "\n",
    "### on outliers\n",
    "\n",
    "using the IQR score technique:\n",
    "\n",
    "<code>seaborn.boxplot(x=df['colname'])\n",
    "Q1 = df.quantile(0.25)\n",
    "Q3 = df.quantile(0.75)\n",
    "IQR = Q3 — Q1\n",
    "print(IQR)\n",
    "df = df[~((df < (Q1–1.5 * IQR)) |(df > (Q3 + 1.5 * IQR))).any(axis=1)]\n",
    "df.shape</code>"
   ]
  },
  {
   "cell_type": "markdown",
   "metadata": {},
   "source": [
    "## Exploring data (EDA)\n",
    "\n",
    "In reality you do this at the same time and iteratively alongside cleaning. \n",
    "\n",
    "NB: functions not normally in place:\n",
    "\n",
    "df = df.drop_duplicates() not just\n",
    "df.drop_duplicates()\n",
    "\n",
    "use pandas functions:\n",
    "read_csv - re\n",
    "head() - you can look at the data with this\n",
    "dtypes - attribute\n",
    "shape - rows and cols attribute\n",
    "duplicated() - duplicate rows\n",
    "drop_duplicates() \n",
    "count() - number of rows\n",
    "isnull() - get null vals\n",
    "dropna()\n",
    "\n",
    "see also:\n",
    "seaborn - visualisation as sns - sns.set(color_codes=True)\n",
    "matplotlib - visualisation\n",
    "\n",
    "### Histograms\n",
    "\n",
    "example from [here](https://towardsdatascience.com/exploratory-data-analysis-in-python-c9a77dfa39ce) :\n",
    "\n",
    "<code>df.Make.value_counts().nlargest(40).plot(kind=’bar’, figsize=(10,5))\n",
    "plt.title(“Number of cars by make”)\n",
    "plt.ylabel(‘Number of cars’)\n",
    "plt.xlabel(‘Make’);</code>\n",
    "\n",
    "### Heatmap\n",
    "\n",
    "seaborn is broken for some reason but that would be nice. can alternatively use matplotlib but it is a bit cliched at this point.\n",
    "\n",
    "try bokeh \n",
    "\n",
    "see knn notebook"
   ]
  },
  {
   "cell_type": "markdown",
   "metadata": {},
   "source": [
    "## Deciding on a model\n",
    "\n",
    "This is when things actually kick off.\n",
    "\n",
    "There's a lovely [cheat sheet](https://scikit-learn.org/stable/tutorial/machine_learning_map/index.html) to help you decide."
   ]
  },
  {
   "cell_type": "markdown",
   "metadata": {},
   "source": [
    "## Build, fit, train, test\n",
    "\n",
    "library: sklearn"
   ]
  },
  {
   "cell_type": "markdown",
   "metadata": {},
   "source": [
    "## Performance\n",
    "\n",
    "I stole [this snippet](https://medium.com/analytics-vidhya/building-a-machine-learning-model-to-predict-the-price-of-the-car-bc51783ba2f3). Ideas on functions and modules:\n",
    "\n",
    "<code>from sklearn import linear_model\n",
    "from sklearn.model_selection import train_test_split\n",
    "from sklearn.linear_model import LinearRegression\n",
    "from sklearn.ensemble import RandomForestRegressor\n",
    "from sklearn.metrics import mean_absolute_error\n",
    "from sklearn.metrics import mean_squared_error\n",
    "from sklearn.metrics import r2_score</code>\n",
    "\n",
    "Consider different evaluators!"
   ]
  },
  {
   "cell_type": "markdown",
   "metadata": {},
   "source": [
    "## Visualise Results\n",
    "\n",
    "AKA the interesting bit.\n",
    "\n",
    "This is a lovely way of plotting regression with best fit stolen from [here](https://medium.com/analytics-vidhya/building-a-machine-learning-model-to-predict-the-price-of-the-car-bc51783ba2f3):\n",
    "\n",
    "<code>plt.figure(figsize= (6, 6))\n",
    "plt.title(‘Visualizing the Regression using Lasso Regression algorithm’)\n",
    "sns.regplot(pred, y_test, color = ‘teal’)\n",
    "plt.xlabel(“New Predicted Price (MSRP)”)\n",
    "plt.ylabel(“Old Price (MSRP)”)\n",
    "plt.show()</code>\n",
    "\n",
    "NB: here, MSRP is target."
   ]
  }
 ],
 "metadata": {
  "kernelspec": {
   "display_name": "Python 3",
   "language": "python",
   "name": "python3"
  },
  "language_info": {
   "codemirror_mode": {
    "name": "ipython",
    "version": 3
   },
   "file_extension": ".py",
   "mimetype": "text/x-python",
   "name": "python",
   "nbconvert_exporter": "python",
   "pygments_lexer": "ipython3",
   "version": "3.7.3"
  }
 },
 "nbformat": 4,
 "nbformat_minor": 2
}
