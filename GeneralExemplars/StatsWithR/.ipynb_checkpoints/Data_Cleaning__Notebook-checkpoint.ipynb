{
 "cells": [
  {
   "cell_type": "markdown",
   "metadata": {},
   "source": [
    "## This Notebook - Goals - FOR EDINA\n",
    "\n",
    "**What?:**\n",
    "- R notebook demonstrating a typical data cleaning process\n",
    "- Use of health data\n",
    "\n",
    "**Who?:**\n",
    "- Data Science and statistics students and academics \n",
    "- Anyone dealing with data\n",
    "\n",
    "**Why?:**\n",
    "- Demonstrate a notebook in a non-python language\n",
    "\n",
    "**Noteable features to exploit:**\n",
    "- R notebook\n",
    "- Visualisation in R\n",
    "- Sequential steps\n",
    "\n",
    "**How?:**\n",
    "- Use of R notebook in wide ranging application\n",
    "\n",
    "<hr>"
   ]
  },
  {
   "cell_type": "markdown",
   "metadata": {},
   "source": [
    "# Data cleaning using R\n",
    "\n",
    "This notebook provides a brief overview of the initial steps of dealing with data in an R notebook.\n",
    "\n",
    "This tutorial is aimed at people who have some background in data science but are not necessarily familiar with R or R notebooks.\n",
    "\n",
    "Broadly speaking, \"data cleaning\" refers to the processing necessary to get from the downloaded data to data fit for analysis. This can be broken down to the following stages:\n",
    "- Raw data to technically correct data.\n",
    "- Technically correct data to consistent data.\n",
    "\n",
    "<em><strong>Note:</strong> Exploratory data analysis (EDA) and data cleaning are different things, but they should be done together, iteratively. This notebook addresses some of the ways to start exploring your data, but the EDA that follows will be different for every data set. The better the data is understood, the better the cleaning will be!</em>"
   ]
  },
  {
   "cell_type": "markdown",
   "metadata": {},
   "source": [
    "<hr>\n",
    "\n",
    "# Acquiring data\n",
    "\n",
    "R comes with some [toy datasets](https://www.rdocumentation.org/packages/datasets/versions/3.6.2) built in, these are fairly small datasets suitable for toy examples such as this.\n",
    "\n",
    "Of course you can also import your own data, just store your file in the same folder as your notebook and load (as below).\n",
    "\n",
    "This tutorial will use a csv file from the [UCI machine learning repository](https://archive.ics.uci.edu/ml/datasets/Breast+Cancer+Wisconsin+%28Diagnostic%29) (open license) which contains data about breast cancer. \n",
    "\n",
    "First, load the data into a data frame. The variable name used is <code>raw_cervical</code>. This variable will hold the raw data, and will not be altered so that each stage of data cleaning can be reused if desired, like a checkpoint."
   ]
  },
  {
   "cell_type": "code",
   "execution_count": 1,
   "metadata": {},
   "outputs": [],
   "source": [
    "# load readr library to notebook (pre-installed on Noteable)\n",
    "library(readr)"
   ]
  },
  {
   "cell_type": "code",
   "execution_count": 2,
   "metadata": {},
   "outputs": [
    {
     "name": "stderr",
     "output_type": "stream",
     "text": [
      "Warning message:\n",
      "“Missing column names filled in: 'X33' [33]”\n",
      "Parsed with column specification:\n",
      "cols(\n",
      "  .default = col_double(),\n",
      "  diagnosis = \u001b[31mcol_character()\u001b[39m,\n",
      "  X33 = \u001b[31mcol_character()\u001b[39m\n",
      ")\n",
      "\n",
      "See spec(...) for full column specifications.\n",
      "\n",
      "Warning message:\n",
      "“569 parsing failures.\n",
      "row col   expected     actual                     file\n",
      "  1  -- 33 columns 32 columns 'data/cervical_data.csv'\n",
      "  2  -- 33 columns 32 columns 'data/cervical_data.csv'\n",
      "  3  -- 33 columns 32 columns 'data/cervical_data.csv'\n",
      "  4  -- 33 columns 32 columns 'data/cervical_data.csv'\n",
      "  5  -- 33 columns 32 columns 'data/cervical_data.csv'\n",
      "... ... .......... .......... ........................\n",
      "See problems(...) for more details.\n",
      "”\n"
     ]
    }
   ],
   "source": [
    "# load the data to the notebook\n",
    "raw_cervical = readr::read_csv(\"data/cervical_data.csv\")"
   ]
  },
  {
   "cell_type": "code",
   "execution_count": 3,
   "metadata": {},
   "outputs": [],
   "source": [
    "# wholly unnecessary but I keep forgetting the syntax\n",
    "#write.csv(raw_cervical, \"data/raw_data.csv\")"
   ]
  },
  {
   "cell_type": "markdown",
   "metadata": {},
   "source": [
    "The warning box that appears after running the above cell provides useful information. R tries to inform the reader that there's something strange about the way the data frame is organised:<br>\n",
    "<code>“Missing column names filled in: 'X33' [33]”</code><br>\n",
    "This provides a prompt for further investigation."
   ]
  },
  {
   "cell_type": "markdown",
   "metadata": {},
   "source": [
    "## Looking at the data\n",
    "\n",
    "Below are some useful functions to get the general picture of the data, allowing an insight into potential issues that need to be identified and solved."
   ]
  },
  {
   "cell_type": "code",
   "execution_count": 4,
   "metadata": {},
   "outputs": [
    {
     "data": {
      "text/html": [
       "569"
      ],
      "text/latex": [
       "569"
      ],
      "text/markdown": [
       "569"
      ],
      "text/plain": [
       "[1] 569"
      ]
     },
     "metadata": {},
     "output_type": "display_data"
    },
    {
     "data": {
      "text/html": [
       "33"
      ],
      "text/latex": [
       "33"
      ],
      "text/markdown": [
       "33"
      ],
      "text/plain": [
       "[1] 33"
      ]
     },
     "metadata": {},
     "output_type": "display_data"
    }
   ],
   "source": [
    "# output number of rows in data, then columns\n",
    "nrow(raw_cervical)\n",
    "ncol(raw_cervical)"
   ]
  },
  {
   "cell_type": "code",
   "execution_count": 5,
   "metadata": {},
   "outputs": [
    {
     "data": {
      "text/html": [
       "<table>\n",
       "<caption>A tibble: 6 × 5</caption>\n",
       "<thead>\n",
       "\t<tr><th scope=col>row</th><th scope=col>col</th><th scope=col>expected</th><th scope=col>actual</th><th scope=col>file</th></tr>\n",
       "\t<tr><th scope=col>&lt;int&gt;</th><th scope=col>&lt;chr&gt;</th><th scope=col>&lt;chr&gt;</th><th scope=col>&lt;chr&gt;</th><th scope=col>&lt;chr&gt;</th></tr>\n",
       "</thead>\n",
       "<tbody>\n",
       "\t<tr><td>1</td><td>NA</td><td>33 columns</td><td>32 columns</td><td>'data/cervical_data.csv'</td></tr>\n",
       "\t<tr><td>2</td><td>NA</td><td>33 columns</td><td>32 columns</td><td>'data/cervical_data.csv'</td></tr>\n",
       "\t<tr><td>3</td><td>NA</td><td>33 columns</td><td>32 columns</td><td>'data/cervical_data.csv'</td></tr>\n",
       "\t<tr><td>4</td><td>NA</td><td>33 columns</td><td>32 columns</td><td>'data/cervical_data.csv'</td></tr>\n",
       "\t<tr><td>5</td><td>NA</td><td>33 columns</td><td>32 columns</td><td>'data/cervical_data.csv'</td></tr>\n",
       "\t<tr><td>6</td><td>NA</td><td>33 columns</td><td>32 columns</td><td>'data/cervical_data.csv'</td></tr>\n",
       "</tbody>\n",
       "</table>\n"
      ],
      "text/latex": [
       "A tibble: 6 × 5\n",
       "\\begin{tabular}{lllll}\n",
       " row & col & expected & actual & file\\\\\n",
       " <int> & <chr> & <chr> & <chr> & <chr>\\\\\n",
       "\\hline\n",
       "\t 1 & NA & 33 columns & 32 columns & 'data/cervical\\_data.csv'\\\\\n",
       "\t 2 & NA & 33 columns & 32 columns & 'data/cervical\\_data.csv'\\\\\n",
       "\t 3 & NA & 33 columns & 32 columns & 'data/cervical\\_data.csv'\\\\\n",
       "\t 4 & NA & 33 columns & 32 columns & 'data/cervical\\_data.csv'\\\\\n",
       "\t 5 & NA & 33 columns & 32 columns & 'data/cervical\\_data.csv'\\\\\n",
       "\t 6 & NA & 33 columns & 32 columns & 'data/cervical\\_data.csv'\\\\\n",
       "\\end{tabular}\n"
      ],
      "text/markdown": [
       "\n",
       "A tibble: 6 × 5\n",
       "\n",
       "| row &lt;int&gt; | col &lt;chr&gt; | expected &lt;chr&gt; | actual &lt;chr&gt; | file &lt;chr&gt; |\n",
       "|---|---|---|---|---|\n",
       "| 1 | NA | 33 columns | 32 columns | 'data/cervical_data.csv' |\n",
       "| 2 | NA | 33 columns | 32 columns | 'data/cervical_data.csv' |\n",
       "| 3 | NA | 33 columns | 32 columns | 'data/cervical_data.csv' |\n",
       "| 4 | NA | 33 columns | 32 columns | 'data/cervical_data.csv' |\n",
       "| 5 | NA | 33 columns | 32 columns | 'data/cervical_data.csv' |\n",
       "| 6 | NA | 33 columns | 32 columns | 'data/cervical_data.csv' |\n",
       "\n"
      ],
      "text/plain": [
       "  row col expected   actual     file                    \n",
       "1 1   NA  33 columns 32 columns 'data/cervical_data.csv'\n",
       "2 2   NA  33 columns 32 columns 'data/cervical_data.csv'\n",
       "3 3   NA  33 columns 32 columns 'data/cervical_data.csv'\n",
       "4 4   NA  33 columns 32 columns 'data/cervical_data.csv'\n",
       "5 5   NA  33 columns 32 columns 'data/cervical_data.csv'\n",
       "6 6   NA  33 columns 32 columns 'data/cervical_data.csv'"
      ]
     },
     "metadata": {},
     "output_type": "display_data"
    }
   ],
   "source": [
    "# print a few lines that show what the warning describes above\n",
    "# notice expected vs actual differ in number of columns in data\n",
    "head(problems(raw_cervical))"
   ]
  },
  {
   "cell_type": "markdown",
   "metadata": {},
   "source": [
    "The table above shows that there is one more column than expected present in the data.\n",
    "\n",
    "Time to do a little digging into the issue..."
   ]
  },
  {
   "cell_type": "markdown",
   "metadata": {},
   "source": [
    "Look at the first couple of rows of data using the <code>head()</code> function:"
   ]
  },
  {
   "cell_type": "code",
   "execution_count": 6,
   "metadata": {},
   "outputs": [
    {
     "data": {
      "text/html": [
       "<table>\n",
       "<caption>A tibble: 6 × 33</caption>\n",
       "<thead>\n",
       "\t<tr><th scope=col>id</th><th scope=col>diagnosis</th><th scope=col>radius_mean</th><th scope=col>texture_mean</th><th scope=col>perimeter_mean</th><th scope=col>area_mean</th><th scope=col>smoothness_mean</th><th scope=col>compactness_mean</th><th scope=col>concavity_mean</th><th scope=col>concave points_mean</th><th scope=col>⋯</th><th scope=col>texture_worst</th><th scope=col>perimeter_worst</th><th scope=col>area_worst</th><th scope=col>smoothness_worst</th><th scope=col>compactness_worst</th><th scope=col>concavity_worst</th><th scope=col>concave points_worst</th><th scope=col>symmetry_worst</th><th scope=col>fractal_dimension_worst</th><th scope=col>X33</th></tr>\n",
       "\t<tr><th scope=col>&lt;dbl&gt;</th><th scope=col>&lt;chr&gt;</th><th scope=col>&lt;dbl&gt;</th><th scope=col>&lt;dbl&gt;</th><th scope=col>&lt;dbl&gt;</th><th scope=col>&lt;dbl&gt;</th><th scope=col>&lt;dbl&gt;</th><th scope=col>&lt;dbl&gt;</th><th scope=col>&lt;dbl&gt;</th><th scope=col>&lt;dbl&gt;</th><th scope=col>⋯</th><th scope=col>&lt;dbl&gt;</th><th scope=col>&lt;dbl&gt;</th><th scope=col>&lt;dbl&gt;</th><th scope=col>&lt;dbl&gt;</th><th scope=col>&lt;dbl&gt;</th><th scope=col>&lt;dbl&gt;</th><th scope=col>&lt;dbl&gt;</th><th scope=col>&lt;dbl&gt;</th><th scope=col>&lt;dbl&gt;</th><th scope=col>&lt;chr&gt;</th></tr>\n",
       "</thead>\n",
       "<tbody>\n",
       "\t<tr><td>  842302</td><td>M</td><td>17.99</td><td>10.38</td><td>122.80</td><td>1001.0</td><td>0.11840</td><td>0.27760</td><td>0.3001</td><td>0.14710</td><td>⋯</td><td>17.33</td><td>184.60</td><td>2019.0</td><td>0.1622</td><td>0.6656</td><td>0.7119</td><td>0.2654</td><td>0.4601</td><td>0.11890</td><td>NA</td></tr>\n",
       "\t<tr><td>  842517</td><td>M</td><td>20.57</td><td>17.77</td><td>132.90</td><td>1326.0</td><td>0.08474</td><td>0.07864</td><td>0.0869</td><td>0.07017</td><td>⋯</td><td>23.41</td><td>158.80</td><td>1956.0</td><td>0.1238</td><td>0.1866</td><td>0.2416</td><td>0.1860</td><td>0.2750</td><td>0.08902</td><td>NA</td></tr>\n",
       "\t<tr><td>84300903</td><td>M</td><td>19.69</td><td>21.25</td><td>130.00</td><td>1203.0</td><td>0.10960</td><td>0.15990</td><td>0.1974</td><td>0.12790</td><td>⋯</td><td>25.53</td><td>152.50</td><td>1709.0</td><td>0.1444</td><td>0.4245</td><td>0.4504</td><td>0.2430</td><td>0.3613</td><td>0.08758</td><td>NA</td></tr>\n",
       "\t<tr><td>84348301</td><td>M</td><td>11.42</td><td>20.38</td><td> 77.58</td><td> 386.1</td><td>0.14250</td><td>0.28390</td><td>0.2414</td><td>0.10520</td><td>⋯</td><td>26.50</td><td> 98.87</td><td> 567.7</td><td>0.2098</td><td>0.8663</td><td>0.6869</td><td>0.2575</td><td>0.6638</td><td>0.17300</td><td>NA</td></tr>\n",
       "\t<tr><td>84358402</td><td>M</td><td>20.29</td><td>14.34</td><td>135.10</td><td>1297.0</td><td>0.10030</td><td>0.13280</td><td>0.1980</td><td>0.10430</td><td>⋯</td><td>16.67</td><td>152.20</td><td>1575.0</td><td>0.1374</td><td>0.2050</td><td>0.4000</td><td>0.1625</td><td>0.2364</td><td>0.07678</td><td>NA</td></tr>\n",
       "\t<tr><td>  843786</td><td>M</td><td>12.45</td><td>15.70</td><td> 82.57</td><td> 477.1</td><td>0.12780</td><td>0.17000</td><td>0.1578</td><td>0.08089</td><td>⋯</td><td>23.75</td><td>103.40</td><td> 741.6</td><td>0.1791</td><td>0.5249</td><td>0.5355</td><td>0.1741</td><td>0.3985</td><td>0.12440</td><td>NA</td></tr>\n",
       "</tbody>\n",
       "</table>\n"
      ],
      "text/latex": [
       "A tibble: 6 × 33\n",
       "\\begin{tabular}{lllllllllllllllllllll}\n",
       " id & diagnosis & radius\\_mean & texture\\_mean & perimeter\\_mean & area\\_mean & smoothness\\_mean & compactness\\_mean & concavity\\_mean & concave points\\_mean & ⋯ & texture\\_worst & perimeter\\_worst & area\\_worst & smoothness\\_worst & compactness\\_worst & concavity\\_worst & concave points\\_worst & symmetry\\_worst & fractal\\_dimension\\_worst & X33\\\\\n",
       " <dbl> & <chr> & <dbl> & <dbl> & <dbl> & <dbl> & <dbl> & <dbl> & <dbl> & <dbl> & ⋯ & <dbl> & <dbl> & <dbl> & <dbl> & <dbl> & <dbl> & <dbl> & <dbl> & <dbl> & <chr>\\\\\n",
       "\\hline\n",
       "\t   842302 & M & 17.99 & 10.38 & 122.80 & 1001.0 & 0.11840 & 0.27760 & 0.3001 & 0.14710 & ⋯ & 17.33 & 184.60 & 2019.0 & 0.1622 & 0.6656 & 0.7119 & 0.2654 & 0.4601 & 0.11890 & NA\\\\\n",
       "\t   842517 & M & 20.57 & 17.77 & 132.90 & 1326.0 & 0.08474 & 0.07864 & 0.0869 & 0.07017 & ⋯ & 23.41 & 158.80 & 1956.0 & 0.1238 & 0.1866 & 0.2416 & 0.1860 & 0.2750 & 0.08902 & NA\\\\\n",
       "\t 84300903 & M & 19.69 & 21.25 & 130.00 & 1203.0 & 0.10960 & 0.15990 & 0.1974 & 0.12790 & ⋯ & 25.53 & 152.50 & 1709.0 & 0.1444 & 0.4245 & 0.4504 & 0.2430 & 0.3613 & 0.08758 & NA\\\\\n",
       "\t 84348301 & M & 11.42 & 20.38 &  77.58 &  386.1 & 0.14250 & 0.28390 & 0.2414 & 0.10520 & ⋯ & 26.50 &  98.87 &  567.7 & 0.2098 & 0.8663 & 0.6869 & 0.2575 & 0.6638 & 0.17300 & NA\\\\\n",
       "\t 84358402 & M & 20.29 & 14.34 & 135.10 & 1297.0 & 0.10030 & 0.13280 & 0.1980 & 0.10430 & ⋯ & 16.67 & 152.20 & 1575.0 & 0.1374 & 0.2050 & 0.4000 & 0.1625 & 0.2364 & 0.07678 & NA\\\\\n",
       "\t   843786 & M & 12.45 & 15.70 &  82.57 &  477.1 & 0.12780 & 0.17000 & 0.1578 & 0.08089 & ⋯ & 23.75 & 103.40 &  741.6 & 0.1791 & 0.5249 & 0.5355 & 0.1741 & 0.3985 & 0.12440 & NA\\\\\n",
       "\\end{tabular}\n"
      ],
      "text/markdown": [
       "\n",
       "A tibble: 6 × 33\n",
       "\n",
       "| id &lt;dbl&gt; | diagnosis &lt;chr&gt; | radius_mean &lt;dbl&gt; | texture_mean &lt;dbl&gt; | perimeter_mean &lt;dbl&gt; | area_mean &lt;dbl&gt; | smoothness_mean &lt;dbl&gt; | compactness_mean &lt;dbl&gt; | concavity_mean &lt;dbl&gt; | concave points_mean &lt;dbl&gt; | ⋯ ⋯ | texture_worst &lt;dbl&gt; | perimeter_worst &lt;dbl&gt; | area_worst &lt;dbl&gt; | smoothness_worst &lt;dbl&gt; | compactness_worst &lt;dbl&gt; | concavity_worst &lt;dbl&gt; | concave points_worst &lt;dbl&gt; | symmetry_worst &lt;dbl&gt; | fractal_dimension_worst &lt;dbl&gt; | X33 &lt;chr&gt; |\n",
       "|---|---|---|---|---|---|---|---|---|---|---|---|---|---|---|---|---|---|---|---|---|\n",
       "|   842302 | M | 17.99 | 10.38 | 122.80 | 1001.0 | 0.11840 | 0.27760 | 0.3001 | 0.14710 | ⋯ | 17.33 | 184.60 | 2019.0 | 0.1622 | 0.6656 | 0.7119 | 0.2654 | 0.4601 | 0.11890 | NA |\n",
       "|   842517 | M | 20.57 | 17.77 | 132.90 | 1326.0 | 0.08474 | 0.07864 | 0.0869 | 0.07017 | ⋯ | 23.41 | 158.80 | 1956.0 | 0.1238 | 0.1866 | 0.2416 | 0.1860 | 0.2750 | 0.08902 | NA |\n",
       "| 84300903 | M | 19.69 | 21.25 | 130.00 | 1203.0 | 0.10960 | 0.15990 | 0.1974 | 0.12790 | ⋯ | 25.53 | 152.50 | 1709.0 | 0.1444 | 0.4245 | 0.4504 | 0.2430 | 0.3613 | 0.08758 | NA |\n",
       "| 84348301 | M | 11.42 | 20.38 |  77.58 |  386.1 | 0.14250 | 0.28390 | 0.2414 | 0.10520 | ⋯ | 26.50 |  98.87 |  567.7 | 0.2098 | 0.8663 | 0.6869 | 0.2575 | 0.6638 | 0.17300 | NA |\n",
       "| 84358402 | M | 20.29 | 14.34 | 135.10 | 1297.0 | 0.10030 | 0.13280 | 0.1980 | 0.10430 | ⋯ | 16.67 | 152.20 | 1575.0 | 0.1374 | 0.2050 | 0.4000 | 0.1625 | 0.2364 | 0.07678 | NA |\n",
       "|   843786 | M | 12.45 | 15.70 |  82.57 |  477.1 | 0.12780 | 0.17000 | 0.1578 | 0.08089 | ⋯ | 23.75 | 103.40 |  741.6 | 0.1791 | 0.5249 | 0.5355 | 0.1741 | 0.3985 | 0.12440 | NA |\n",
       "\n"
      ],
      "text/plain": [
       "  id       diagnosis radius_mean texture_mean perimeter_mean area_mean\n",
       "1   842302 M         17.99       10.38        122.80         1001.0   \n",
       "2   842517 M         20.57       17.77        132.90         1326.0   \n",
       "3 84300903 M         19.69       21.25        130.00         1203.0   \n",
       "4 84348301 M         11.42       20.38         77.58          386.1   \n",
       "5 84358402 M         20.29       14.34        135.10         1297.0   \n",
       "6   843786 M         12.45       15.70         82.57          477.1   \n",
       "  smoothness_mean compactness_mean concavity_mean concave points_mean ⋯\n",
       "1 0.11840         0.27760          0.3001         0.14710             ⋯\n",
       "2 0.08474         0.07864          0.0869         0.07017             ⋯\n",
       "3 0.10960         0.15990          0.1974         0.12790             ⋯\n",
       "4 0.14250         0.28390          0.2414         0.10520             ⋯\n",
       "5 0.10030         0.13280          0.1980         0.10430             ⋯\n",
       "6 0.12780         0.17000          0.1578         0.08089             ⋯\n",
       "  texture_worst perimeter_worst area_worst smoothness_worst compactness_worst\n",
       "1 17.33         184.60          2019.0     0.1622           0.6656           \n",
       "2 23.41         158.80          1956.0     0.1238           0.1866           \n",
       "3 25.53         152.50          1709.0     0.1444           0.4245           \n",
       "4 26.50          98.87           567.7     0.2098           0.8663           \n",
       "5 16.67         152.20          1575.0     0.1374           0.2050           \n",
       "6 23.75         103.40           741.6     0.1791           0.5249           \n",
       "  concavity_worst concave points_worst symmetry_worst fractal_dimension_worst\n",
       "1 0.7119          0.2654               0.4601         0.11890                \n",
       "2 0.2416          0.1860               0.2750         0.08902                \n",
       "3 0.4504          0.2430               0.3613         0.08758                \n",
       "4 0.6869          0.2575               0.6638         0.17300                \n",
       "5 0.4000          0.1625               0.2364         0.07678                \n",
       "6 0.5355          0.1741               0.3985         0.12440                \n",
       "  X33\n",
       "1 NA \n",
       "2 NA \n",
       "3 NA \n",
       "4 NA \n",
       "5 NA \n",
       "6 NA "
      ]
     },
     "metadata": {},
     "output_type": "display_data"
    }
   ],
   "source": [
    "# output the first few rows of data with headers\n",
    "head(raw_cervical)"
   ]
  },
  {
   "cell_type": "markdown",
   "metadata": {},
   "source": [
    "The column names can also be accessed directly:"
   ]
  },
  {
   "cell_type": "code",
   "execution_count": 7,
   "metadata": {},
   "outputs": [
    {
     "data": {
      "text/html": [
       "<style>\n",
       ".list-inline {list-style: none; margin:0; padding: 0}\n",
       ".list-inline>li {display: inline-block}\n",
       ".list-inline>li:not(:last-child)::after {content: \"\\00b7\"; padding: 0 .5ex}\n",
       "</style>\n",
       "<ol class=list-inline><li>'id'</li><li>'diagnosis'</li><li>'radius_mean'</li><li>'texture_mean'</li><li>'perimeter_mean'</li><li>'area_mean'</li><li>'smoothness_mean'</li><li>'compactness_mean'</li><li>'concavity_mean'</li><li>'concave points_mean'</li><li>'symmetry_mean'</li><li>'fractal_dimension_mean'</li><li>'radius_se'</li><li>'texture_se'</li><li>'perimeter_se'</li><li>'area_se'</li><li>'smoothness_se'</li><li>'compactness_se'</li><li>'concavity_se'</li><li>'concave points_se'</li><li>'symmetry_se'</li><li>'fractal_dimension_se'</li><li>'radius_worst'</li><li>'texture_worst'</li><li>'perimeter_worst'</li><li>'area_worst'</li><li>'smoothness_worst'</li><li>'compactness_worst'</li><li>'concavity_worst'</li><li>'concave points_worst'</li><li>'symmetry_worst'</li><li>'fractal_dimension_worst'</li><li>'X33'</li></ol>\n"
      ],
      "text/latex": [
       "\\begin{enumerate*}\n",
       "\\item 'id'\n",
       "\\item 'diagnosis'\n",
       "\\item 'radius\\_mean'\n",
       "\\item 'texture\\_mean'\n",
       "\\item 'perimeter\\_mean'\n",
       "\\item 'area\\_mean'\n",
       "\\item 'smoothness\\_mean'\n",
       "\\item 'compactness\\_mean'\n",
       "\\item 'concavity\\_mean'\n",
       "\\item 'concave points\\_mean'\n",
       "\\item 'symmetry\\_mean'\n",
       "\\item 'fractal\\_dimension\\_mean'\n",
       "\\item 'radius\\_se'\n",
       "\\item 'texture\\_se'\n",
       "\\item 'perimeter\\_se'\n",
       "\\item 'area\\_se'\n",
       "\\item 'smoothness\\_se'\n",
       "\\item 'compactness\\_se'\n",
       "\\item 'concavity\\_se'\n",
       "\\item 'concave points\\_se'\n",
       "\\item 'symmetry\\_se'\n",
       "\\item 'fractal\\_dimension\\_se'\n",
       "\\item 'radius\\_worst'\n",
       "\\item 'texture\\_worst'\n",
       "\\item 'perimeter\\_worst'\n",
       "\\item 'area\\_worst'\n",
       "\\item 'smoothness\\_worst'\n",
       "\\item 'compactness\\_worst'\n",
       "\\item 'concavity\\_worst'\n",
       "\\item 'concave points\\_worst'\n",
       "\\item 'symmetry\\_worst'\n",
       "\\item 'fractal\\_dimension\\_worst'\n",
       "\\item 'X33'\n",
       "\\end{enumerate*}\n"
      ],
      "text/markdown": [
       "1. 'id'\n",
       "2. 'diagnosis'\n",
       "3. 'radius_mean'\n",
       "4. 'texture_mean'\n",
       "5. 'perimeter_mean'\n",
       "6. 'area_mean'\n",
       "7. 'smoothness_mean'\n",
       "8. 'compactness_mean'\n",
       "9. 'concavity_mean'\n",
       "10. 'concave points_mean'\n",
       "11. 'symmetry_mean'\n",
       "12. 'fractal_dimension_mean'\n",
       "13. 'radius_se'\n",
       "14. 'texture_se'\n",
       "15. 'perimeter_se'\n",
       "16. 'area_se'\n",
       "17. 'smoothness_se'\n",
       "18. 'compactness_se'\n",
       "19. 'concavity_se'\n",
       "20. 'concave points_se'\n",
       "21. 'symmetry_se'\n",
       "22. 'fractal_dimension_se'\n",
       "23. 'radius_worst'\n",
       "24. 'texture_worst'\n",
       "25. 'perimeter_worst'\n",
       "26. 'area_worst'\n",
       "27. 'smoothness_worst'\n",
       "28. 'compactness_worst'\n",
       "29. 'concavity_worst'\n",
       "30. 'concave points_worst'\n",
       "31. 'symmetry_worst'\n",
       "32. 'fractal_dimension_worst'\n",
       "33. 'X33'\n",
       "\n",
       "\n"
      ],
      "text/plain": [
       " [1] \"id\"                      \"diagnosis\"              \n",
       " [3] \"radius_mean\"             \"texture_mean\"           \n",
       " [5] \"perimeter_mean\"          \"area_mean\"              \n",
       " [7] \"smoothness_mean\"         \"compactness_mean\"       \n",
       " [9] \"concavity_mean\"          \"concave points_mean\"    \n",
       "[11] \"symmetry_mean\"           \"fractal_dimension_mean\" \n",
       "[13] \"radius_se\"               \"texture_se\"             \n",
       "[15] \"perimeter_se\"            \"area_se\"                \n",
       "[17] \"smoothness_se\"           \"compactness_se\"         \n",
       "[19] \"concavity_se\"            \"concave points_se\"      \n",
       "[21] \"symmetry_se\"             \"fractal_dimension_se\"   \n",
       "[23] \"radius_worst\"            \"texture_worst\"          \n",
       "[25] \"perimeter_worst\"         \"area_worst\"             \n",
       "[27] \"smoothness_worst\"        \"compactness_worst\"      \n",
       "[29] \"concavity_worst\"         \"concave points_worst\"   \n",
       "[31] \"symmetry_worst\"          \"fractal_dimension_worst\"\n",
       "[33] \"X33\"                    "
      ]
     },
     "metadata": {},
     "output_type": "display_data"
    }
   ],
   "source": [
    "# output variable names\n",
    "colnames(raw_cervical)"
   ]
  },
  {
   "cell_type": "markdown",
   "metadata": {},
   "source": [
    "If you glance over the column names, the last one looks out of place. Looking again at the table produced by <code>head()</code>, the first few rows of this column seem to be NA values. \n",
    "\n",
    "You can attain summary information for individual variables:"
   ]
  },
  {
   "cell_type": "code",
   "execution_count": 8,
   "metadata": {
    "scrolled": false
   },
   "outputs": [
    {
     "data": {
      "text/plain": [
       "   Min. 1st Qu.  Median    Mean 3rd Qu.    Max. \n",
       "  6.981  11.700  13.370  14.127  15.780  28.110 "
      ]
     },
     "metadata": {},
     "output_type": "display_data"
    }
   ],
   "source": [
    "# output summary statistics for radius_mean variable\n",
    "summary(raw_cervical$radius_mean)"
   ]
  },
  {
   "cell_type": "markdown",
   "metadata": {},
   "source": [
    "Or indeed the whole data set, although this can become quite unwieldy. This has been commented out, so just remove the <code>#</code> at the beginning of the line to run the function again."
   ]
  },
  {
   "cell_type": "code",
   "execution_count": 9,
   "metadata": {},
   "outputs": [],
   "source": [
    "# output summary statistics for whole data set\n",
    "#summary(raw_cervical)"
   ]
  },
  {
   "cell_type": "markdown",
   "metadata": {},
   "source": [
    "Even from these few cells, we have a lot more information than we did to begin with!\n",
    "\n",
    "There are 569 samples, and 33 columns. We have the names for each column, as well as the first few samples for each. We have identified that the last column is not expected, and only seems to contain NA values."
   ]
  },
  {
   "cell_type": "markdown",
   "metadata": {},
   "source": [
    "## Contextualising data - using what's given\n",
    "\n",
    "Above, there are a range of tools used to examine what is present in the data. Additional context can (and should) be added by reading the author's description (available [here](https://archive.ics.uci.edu/ml/datasets/Breast+Cancer+Wisconsin+%28Diagnostic%29)) of the data. \n",
    "\n",
    "Key information given about the data:\n",
    "\n",
    "Context:\n",
    "- Features computed from image of a [fine needle aspirate](https://en.wikipedia.org/wiki/Fine-needle_aspiration) of a breast mass.\n",
    "- Features describe characteristics of cell nuceli in image.\n",
    "- 569 instances\n",
    "- 32 attributes\n",
    "- Class distribution: 357 benign, 212 malignant\n",
    "- No missing values\n",
    "\n",
    "Attributes:\n",
    "- ID in field 1\n",
    "- Predicting field 2, diagnosis - B=benign, M=malignant\n",
    "- Columns 3-32 contain the mean, standard error and \"worst\"/largest values of 10 different features. Where \"worst\" is mean of three largest values. \n",
    "- The 10 features are:\n",
    "    - radius (mean distance from center to perimeter)\n",
    "    - texture (standard deviation of grey-scale image values)\n",
    "    - perimeter\n",
    "    - area\n",
    "    - smoothness (local variation in radius lengths)\n",
    "    - compactness $\\frac{{perimeter}^2}{area - 1.0}$\n",
    "    - concavity (severity of concave portions of contour)\n",
    "    - number of concave portions of contour\n",
    "    - symmetry\n",
    "    - fractal dimension $({coastline approximation}) - 1$\n",
    "- Columns 3-32 are organised as follows:\n",
    "    - 3-12: mean for each feature\n",
    "    - 13-22: standard error for each feature\n",
    "    - 23-32: \"worst\" value for each feature"
   ]
  },
  {
   "cell_type": "markdown",
   "metadata": {},
   "source": [
    "<hr>\n",
    "\n",
    "# Cleaning - from raw to technically correct data\n",
    "\n",
    "In essence, the getting the data to be \"technically correct\" involves identifying errors and inconsistencies in your data. The names, types and labels in the data need to make sense. Luckily, this dataset is not too messy, but if it were, this step would ensure that R could access the data so that we can do more with it!\n",
    "\n",
    "For example, if a height variable is stored as a string \"1\", this step would involve ensuring that R reads the value as a number, not a string of characters.\n",
    "\n",
    "The goal of this step:\n",
    "- The data is stored in a data.frame.\n",
    "- The columns of the data.frame are suitable.\n",
    "- Each column uses an appropriate type to represent the values in it.\n",
    "    - Numeric data stored as <code>numeric/integer</code>.\n",
    "    - Text data stored as <code>character</code> (for single characters and strings).\n",
    "    - Categorical data stored as <code>factor/ordered</code>.\n",
    "    - True/false data stored as <code>logical</code>.\n",
    "    \n",
    "Steps to reach the goal:\n",
    "- Removing unused/irrelevant columns/rows / cols with 0 variance.\n",
    "- Renaming variables for consistency and meaning.\n",
    "- Encode missing values appropriately (if required).\n",
    "- Remove duplicates (if this doesnt cause loss of information).\n",
    "- Fix dates (common bugbear).\n",
    "- Fix strings (another common bugbear).\n",
    "- Recoding vectors (eg: use 0 and 1 instead of yes/no)."
   ]
  },
  {
   "cell_type": "markdown",
   "metadata": {},
   "source": [
    "### Irrelevant columns/rows and columns with 0 variance\n",
    "\n",
    "Time to revisit the weird 33rd column from earlier.\n",
    "\n",
    "By checking the description of the data, as well as other people's comments online on [kaggle](https://www.kaggle.com/uciml/breast-cancer-wisconsin-data/data) it seems like column 33 shouldn't be there, and got read in by mistake. \n",
    "\n",
    "<b>Why did this happen?</b><br> By opening the csv file (just click on the file name in Noteable) I can see that the first line (header) ends with a comma, meaning that its still trying to read another heading and thinks there are 32 columns.\n",
    "\n",
    "Seems safe to get rid of it, since the mistake is understood and confirmed by others. \n",
    "\n",
    "Removing the **irrelevant column**:"
   ]
  },
  {
   "cell_type": "code",
   "execution_count": 10,
   "metadata": {},
   "outputs": [],
   "source": [
    "# the last column of the data (will print many NA's) - uncomment to run\n",
    "#raw_cervical$X33"
   ]
  },
  {
   "cell_type": "code",
   "execution_count": 11,
   "metadata": {},
   "outputs": [],
   "source": [
    "# remove col 33, X33 (meaningless)\n",
    "nas_cervical <- cbind(raw_cervical[-33])"
   ]
  },
  {
   "cell_type": "markdown",
   "metadata": {},
   "source": [
    "Great! The unnecessary column is gone. Bear in mind that the data frame without NA's is stored in the <code>nas_cervical</code> variable, the <code>raw_cervical</code> is left as it was. From now on, use the <code>nas_cervical</code> data frame!\n",
    "\n",
    "The original data description claims that there is no missing data at all in the dataset. Hopefully, that's the case now. To double check:"
   ]
  },
  {
   "cell_type": "code",
   "execution_count": 12,
   "metadata": {},
   "outputs": [
    {
     "data": {
      "text/html": [],
      "text/latex": [],
      "text/markdown": [],
      "text/plain": [
       "integer(0)"
      ]
     },
     "metadata": {},
     "output_type": "display_data"
    }
   ],
   "source": [
    "# prints nothing because none found!\n",
    "# apply function used to check every column (dimension 2)\n",
    "apply(is.na(nas_cervical),2,which)"
   ]
  },
  {
   "cell_type": "markdown",
   "metadata": {},
   "source": [
    "It can also sometimes be useful to check for infinity and NaN (not a number) values in the data. This is just an extension of what has already been done here, and follows the same idea.\n",
    "\n",
    "If NA values are found in your data, libraries [naniar](https://cran.r-project.org/web/packages/naniar/vignettes/getting-started-w-naniar.html) and [knitr](https://yihui.org/knitr/) provide useful functions to visualise missing data.\n",
    "\n",
    "Sometimes, the purpose of data cleaning is to get it ready to answer a specific question about the variables. In these cases, it is sometimes appropriate to remove columns or samples that are unrelated to the question. \n",
    "\n",
    "Since the purpose here is to understand the data, no rows or columns need to be deleted on this basis."
   ]
  },
  {
   "cell_type": "markdown",
   "metadata": {},
   "source": [
    "Empty rows and columns can be removed by using the <code>remove_empty()</code> function in the [janitor](https://cran.r-project.org/web/packages/janitor/vignettes/janitor.html) package."
   ]
  },
  {
   "cell_type": "markdown",
   "metadata": {},
   "source": [
    "Columns with 0 variance are not very informative. If the variable changes nothing, its completely constant, why should it bulk up the data?\n",
    "\n",
    "The following cell checks for 0 variance columns in the numerical data."
   ]
  },
  {
   "cell_type": "code",
   "execution_count": 13,
   "metadata": {},
   "outputs": [
    {
     "data": {
      "text/html": [],
      "text/latex": [],
      "text/markdown": [],
      "text/plain": [
       "named integer(0)"
      ]
     },
     "metadata": {},
     "output_type": "display_data"
    }
   ],
   "source": [
    "# extract only numerical columns\n",
    "num_cervical <- cbind(nas_cervical[-2])\n",
    "\n",
    "# check for 0 variance columns\n",
    "which(apply(num_cervical,2, var)==0)"
   ]
  },
  {
   "cell_type": "markdown",
   "metadata": {},
   "source": [
    "see also <code>remove_constant()</code> from the [janitor](https://cran.r-project.org/web/packages/janitor/vignettes/janitor.html) package to remove 0 variance columns from data."
   ]
  },
  {
   "cell_type": "markdown",
   "metadata": {},
   "source": [
    "### Variable names\n",
    "\n",
    "This is also a good time to check for unhelpful or confusing variable names:"
   ]
  },
  {
   "cell_type": "code",
   "execution_count": 14,
   "metadata": {},
   "outputs": [
    {
     "data": {
      "text/html": [
       "<style>\n",
       ".list-inline {list-style: none; margin:0; padding: 0}\n",
       ".list-inline>li {display: inline-block}\n",
       ".list-inline>li:not(:last-child)::after {content: \"\\00b7\"; padding: 0 .5ex}\n",
       "</style>\n",
       "<ol class=list-inline><li>'id'</li><li>'diagnosis'</li><li>'radius_mean'</li><li>'texture_mean'</li><li>'perimeter_mean'</li><li>'area_mean'</li><li>'smoothness_mean'</li><li>'compactness_mean'</li><li>'concavity_mean'</li><li>'concave points_mean'</li><li>'symmetry_mean'</li><li>'fractal_dimension_mean'</li><li>'radius_se'</li><li>'texture_se'</li><li>'perimeter_se'</li><li>'area_se'</li><li>'smoothness_se'</li><li>'compactness_se'</li><li>'concavity_se'</li><li>'concave points_se'</li><li>'symmetry_se'</li><li>'fractal_dimension_se'</li><li>'radius_worst'</li><li>'texture_worst'</li><li>'perimeter_worst'</li><li>'area_worst'</li><li>'smoothness_worst'</li><li>'compactness_worst'</li><li>'concavity_worst'</li><li>'concave points_worst'</li><li>'symmetry_worst'</li><li>'fractal_dimension_worst'</li></ol>\n"
      ],
      "text/latex": [
       "\\begin{enumerate*}\n",
       "\\item 'id'\n",
       "\\item 'diagnosis'\n",
       "\\item 'radius\\_mean'\n",
       "\\item 'texture\\_mean'\n",
       "\\item 'perimeter\\_mean'\n",
       "\\item 'area\\_mean'\n",
       "\\item 'smoothness\\_mean'\n",
       "\\item 'compactness\\_mean'\n",
       "\\item 'concavity\\_mean'\n",
       "\\item 'concave points\\_mean'\n",
       "\\item 'symmetry\\_mean'\n",
       "\\item 'fractal\\_dimension\\_mean'\n",
       "\\item 'radius\\_se'\n",
       "\\item 'texture\\_se'\n",
       "\\item 'perimeter\\_se'\n",
       "\\item 'area\\_se'\n",
       "\\item 'smoothness\\_se'\n",
       "\\item 'compactness\\_se'\n",
       "\\item 'concavity\\_se'\n",
       "\\item 'concave points\\_se'\n",
       "\\item 'symmetry\\_se'\n",
       "\\item 'fractal\\_dimension\\_se'\n",
       "\\item 'radius\\_worst'\n",
       "\\item 'texture\\_worst'\n",
       "\\item 'perimeter\\_worst'\n",
       "\\item 'area\\_worst'\n",
       "\\item 'smoothness\\_worst'\n",
       "\\item 'compactness\\_worst'\n",
       "\\item 'concavity\\_worst'\n",
       "\\item 'concave points\\_worst'\n",
       "\\item 'symmetry\\_worst'\n",
       "\\item 'fractal\\_dimension\\_worst'\n",
       "\\end{enumerate*}\n"
      ],
      "text/markdown": [
       "1. 'id'\n",
       "2. 'diagnosis'\n",
       "3. 'radius_mean'\n",
       "4. 'texture_mean'\n",
       "5. 'perimeter_mean'\n",
       "6. 'area_mean'\n",
       "7. 'smoothness_mean'\n",
       "8. 'compactness_mean'\n",
       "9. 'concavity_mean'\n",
       "10. 'concave points_mean'\n",
       "11. 'symmetry_mean'\n",
       "12. 'fractal_dimension_mean'\n",
       "13. 'radius_se'\n",
       "14. 'texture_se'\n",
       "15. 'perimeter_se'\n",
       "16. 'area_se'\n",
       "17. 'smoothness_se'\n",
       "18. 'compactness_se'\n",
       "19. 'concavity_se'\n",
       "20. 'concave points_se'\n",
       "21. 'symmetry_se'\n",
       "22. 'fractal_dimension_se'\n",
       "23. 'radius_worst'\n",
       "24. 'texture_worst'\n",
       "25. 'perimeter_worst'\n",
       "26. 'area_worst'\n",
       "27. 'smoothness_worst'\n",
       "28. 'compactness_worst'\n",
       "29. 'concavity_worst'\n",
       "30. 'concave points_worst'\n",
       "31. 'symmetry_worst'\n",
       "32. 'fractal_dimension_worst'\n",
       "\n",
       "\n"
      ],
      "text/plain": [
       " [1] \"id\"                      \"diagnosis\"              \n",
       " [3] \"radius_mean\"             \"texture_mean\"           \n",
       " [5] \"perimeter_mean\"          \"area_mean\"              \n",
       " [7] \"smoothness_mean\"         \"compactness_mean\"       \n",
       " [9] \"concavity_mean\"          \"concave points_mean\"    \n",
       "[11] \"symmetry_mean\"           \"fractal_dimension_mean\" \n",
       "[13] \"radius_se\"               \"texture_se\"             \n",
       "[15] \"perimeter_se\"            \"area_se\"                \n",
       "[17] \"smoothness_se\"           \"compactness_se\"         \n",
       "[19] \"concavity_se\"            \"concave points_se\"      \n",
       "[21] \"symmetry_se\"             \"fractal_dimension_se\"   \n",
       "[23] \"radius_worst\"            \"texture_worst\"          \n",
       "[25] \"perimeter_worst\"         \"area_worst\"             \n",
       "[27] \"smoothness_worst\"        \"compactness_worst\"      \n",
       "[29] \"concavity_worst\"         \"concave points_worst\"   \n",
       "[31] \"symmetry_worst\"          \"fractal_dimension_worst\""
      ]
     },
     "metadata": {},
     "output_type": "display_data"
    }
   ],
   "source": [
    "# read column names\n",
    "colnames(nas_cervical) "
   ]
  },
  {
   "cell_type": "markdown",
   "metadata": {},
   "source": [
    "In this case, the variables are named helpfully. If the variable names need to be changed, you can use the <code>clean_names()</code> function from the [janitor](https://cran.r-project.org/web/packages/janitor/vignettes/janitor.html) package."
   ]
  },
  {
   "cell_type": "markdown",
   "metadata": {},
   "source": [
    "### Duplicates\n",
    "\n",
    "R has some useful functions for dealing with duplicates in data. Packages are available, but base R packages work fine here.\n",
    "\n",
    "Here <code>anyDuplicated()</code> is used, but it may be worth looking at <code>duplicated()</code> and <code>unique()</code>."
   ]
  },
  {
   "cell_type": "code",
   "execution_count": 15,
   "metadata": {},
   "outputs": [
    {
     "data": {
      "text/html": [
       "0"
      ],
      "text/latex": [
       "0"
      ],
      "text/markdown": [
       "0"
      ],
      "text/plain": [
       "[1] 0"
      ]
     },
     "metadata": {},
     "output_type": "display_data"
    }
   ],
   "source": [
    "# check for duplicates\n",
    "anyDuplicated(nas_cervical)"
   ]
  },
  {
   "cell_type": "markdown",
   "metadata": {},
   "source": [
    "[anyDuplicated()](https://www.rdocumentation.org/packages/base/versions/3.6.2/topics/duplicated) returns 0, so no duplicate rows in data. easy. If there were, [unique()](https://www.rdocumentation.org/packages/base/versions/3.6.2/topics/unique) could be used to reduce the data frame."
   ]
  },
  {
   "cell_type": "markdown",
   "metadata": {},
   "source": [
    "### Fix classes of each column - recode factors\n",
    "\n",
    "common activities at this stage include:\n",
    "- Checking if there are dates that are inevitably wrongly input can be fixed somehow.\n",
    "- Fix strings to make sense because I guarantee they do not right now.\n",
    "- Recode categorical data to usable factors maybe numbers maybe booleans not sure will get back to you."
   ]
  },
  {
   "cell_type": "markdown",
   "metadata": {},
   "source": [
    "In R, there are 2 main ways to retrieve class information:"
   ]
  },
  {
   "cell_type": "code",
   "execution_count": 16,
   "metadata": {},
   "outputs": [],
   "source": [
    "# get class for each column - uncomment to run\n",
    "#lapply(nas_cervical,class)"
   ]
  },
  {
   "cell_type": "code",
   "execution_count": 17,
   "metadata": {},
   "outputs": [],
   "source": [
    "# display structure of object - uncomment to run\n",
    "#str(nas_cervical)"
   ]
  },
  {
   "cell_type": "code",
   "execution_count": 18,
   "metadata": {},
   "outputs": [
    {
     "data": {
      "text/html": [
       "<style>\n",
       ".list-inline {list-style: none; margin:0; padding: 0}\n",
       ".list-inline>li {display: inline-block}\n",
       ".list-inline>li:not(:last-child)::after {content: \"\\00b7\"; padding: 0 .5ex}\n",
       "</style>\n",
       "<ol class=list-inline><li>'M'</li><li>'M'</li><li>'M'</li><li>'M'</li><li>'M'</li><li>'M'</li><li>'M'</li><li>'M'</li><li>'M'</li><li>'M'</li><li>'M'</li><li>'M'</li><li>'M'</li><li>'M'</li><li>'M'</li><li>'M'</li><li>'M'</li><li>'M'</li><li>'M'</li><li>'B'</li></ol>\n"
      ],
      "text/latex": [
       "\\begin{enumerate*}\n",
       "\\item 'M'\n",
       "\\item 'M'\n",
       "\\item 'M'\n",
       "\\item 'M'\n",
       "\\item 'M'\n",
       "\\item 'M'\n",
       "\\item 'M'\n",
       "\\item 'M'\n",
       "\\item 'M'\n",
       "\\item 'M'\n",
       "\\item 'M'\n",
       "\\item 'M'\n",
       "\\item 'M'\n",
       "\\item 'M'\n",
       "\\item 'M'\n",
       "\\item 'M'\n",
       "\\item 'M'\n",
       "\\item 'M'\n",
       "\\item 'M'\n",
       "\\item 'B'\n",
       "\\end{enumerate*}\n"
      ],
      "text/markdown": [
       "1. 'M'\n",
       "2. 'M'\n",
       "3. 'M'\n",
       "4. 'M'\n",
       "5. 'M'\n",
       "6. 'M'\n",
       "7. 'M'\n",
       "8. 'M'\n",
       "9. 'M'\n",
       "10. 'M'\n",
       "11. 'M'\n",
       "12. 'M'\n",
       "13. 'M'\n",
       "14. 'M'\n",
       "15. 'M'\n",
       "16. 'M'\n",
       "17. 'M'\n",
       "18. 'M'\n",
       "19. 'M'\n",
       "20. 'B'\n",
       "\n",
       "\n"
      ],
      "text/plain": [
       " [1] \"M\" \"M\" \"M\" \"M\" \"M\" \"M\" \"M\" \"M\" \"M\" \"M\" \"M\" \"M\" \"M\" \"M\" \"M\" \"M\" \"M\" \"M\" \"M\"\n",
       "[20] \"B\""
      ]
     },
     "metadata": {},
     "output_type": "display_data"
    }
   ],
   "source": [
    "# look at first 20 values in column\n",
    "head(nas_cervical$diagnosis, 20)"
   ]
  },
  {
   "cell_type": "code",
   "execution_count": 19,
   "metadata": {},
   "outputs": [
    {
     "data": {
      "text/html": [
       "<style>\n",
       ".list-inline {list-style: none; margin:0; padding: 0}\n",
       ".list-inline>li {display: inline-block}\n",
       ".list-inline>li:not(:last-child)::after {content: \"\\00b7\"; padding: 0 .5ex}\n",
       "</style>\n",
       "<ol class=list-inline><li>1</li><li>1</li><li>1</li><li>1</li><li>1</li><li>1</li><li>1</li><li>1</li><li>1</li><li>1</li><li>1</li><li>1</li><li>1</li><li>1</li><li>1</li><li>1</li><li>1</li><li>1</li><li>1</li><li>0</li></ol>\n"
      ],
      "text/latex": [
       "\\begin{enumerate*}\n",
       "\\item 1\n",
       "\\item 1\n",
       "\\item 1\n",
       "\\item 1\n",
       "\\item 1\n",
       "\\item 1\n",
       "\\item 1\n",
       "\\item 1\n",
       "\\item 1\n",
       "\\item 1\n",
       "\\item 1\n",
       "\\item 1\n",
       "\\item 1\n",
       "\\item 1\n",
       "\\item 1\n",
       "\\item 1\n",
       "\\item 1\n",
       "\\item 1\n",
       "\\item 1\n",
       "\\item 0\n",
       "\\end{enumerate*}\n"
      ],
      "text/markdown": [
       "1. 1\n",
       "2. 1\n",
       "3. 1\n",
       "4. 1\n",
       "5. 1\n",
       "6. 1\n",
       "7. 1\n",
       "8. 1\n",
       "9. 1\n",
       "10. 1\n",
       "11. 1\n",
       "12. 1\n",
       "13. 1\n",
       "14. 1\n",
       "15. 1\n",
       "16. 1\n",
       "17. 1\n",
       "18. 1\n",
       "19. 1\n",
       "20. 0\n",
       "\n",
       "\n"
      ],
      "text/plain": [
       " [1] 1 1 1 1 1 1 1 1 1 1 1 1 1 1 1 1 1 1 1 0"
      ]
     },
     "metadata": {},
     "output_type": "display_data"
    }
   ],
   "source": [
    "# forces numeric 0 or 1 for values\n",
    "nas_cervical$diagnosis <- gsub('M', \"1\", nas_cervical$diagnosis)\n",
    "nas_cervical$diagnosis <- gsub('B', \"0\", nas_cervical$diagnosis)\n",
    "nas_cervical$diagnosis <- as.numeric(nas_cervical$diagnosis)\n",
    "\n",
    "# print first 20 values of column\n",
    "head(nas_cervical$diagnosis, 20)"
   ]
  },
  {
   "cell_type": "markdown",
   "metadata": {},
   "source": [
    "<em><strong>Note:</strong> when you do something like this, make sure its clear to the reader of your work what has been done. 1 and 0 mean nothing out of context, but as the person writing the code, you understand that 1 represents M in the original data, and 0 represents B.</em>"
   ]
  },
  {
   "cell_type": "markdown",
   "metadata": {},
   "source": [
    "### Dates and strings\n",
    "\n",
    "It is fairly common to have problems with dates and strings in data. This is not a problem in this dataset, but this should be checked. the [lubridate](https://lubridate.tidyverse.org) package provides good support for this"
   ]
  },
  {
   "cell_type": "markdown",
   "metadata": {},
   "source": [
    "<hr>\n",
    "\n",
    "# Cleaning - from technically correct to consistent data\n",
    "\n",
    "Just because the data is technically correct doesn't mean it makes sense. This is another reason why context is important.\n",
    "\n",
    "For data to be consistent, it should be ready for inference.\n",
    "\n",
    "Goal for this step:\n",
    "- Data is stored in a suitable data frame, ready for inference!\n",
    "\n",
    "Steps to reach the goal:\n",
    "- Variable constraints addressed (eg: can age=-35?).\n",
    "- Missing values - addressing strategies to get the most from data with missing values.\n",
    "- Dealing with outliers."
   ]
  },
  {
   "cell_type": "markdown",
   "metadata": {},
   "source": [
    "### Variable Constraints\n",
    "\n",
    "Can someone's age be -35? Can someone be married, divorced, single and pregnant all at the same time?\n",
    "\n",
    "These are the sorts of questions to ask at this stage.\n",
    "\n",
    "This step is very subject specific. This absolutely requires subject knowledge. As the data analyist, it can be helpful to ask people in that discipline if the values make sense. In this case, the data is well documented and reviewed, there are no variable constraints of note.\n",
    "\n",
    "This step isnt included in this guide because it can be a long step, and this data is quite well documented. Generally speaking though, this is a useful step in ensuring that variables are correctly labelled and contain useful information that actually makes sense. Correcting variable constraint violations is an art - not to be taken lightly.\n",
    "\n",
    "Checking out the [editrules](https://cran.r-project.org/web/packages/editrules/index.html) package is a good place to start. In particular, look at the <code>editset()</code> and <code>violatedEdits()</code> functions."
   ]
  },
  {
   "cell_type": "markdown",
   "metadata": {},
   "source": [
    "### Outliers\n",
    "\n",
    "There are many different ways to deal with outliers (again, context dependant). You may wish to remove all rows with missing values, remove irrlevant variables then remove rows with missing values, or employ some other method.\n",
    "\n",
    "Outliers:<br>\n",
    "This step has two stages: identify and then treat. It is not as simple as removal, because this will affect the data in (possibly) unintended ways. Previous steps involved changing the way the data was represented. This step involves meaningfully changing what is happening in the data, this is a delicate operation. \n",
    "\n",
    "<b>What is an outlier?</b><br>\n",
    "An unusual bit of data. \"Unusual\" is (obviously) quite a context sensitive term. The idea of an outlier *at all* depends on the data that you have.\n",
    "\n",
    "One common way to look for outliers is to use boxplots:"
   ]
  },
  {
   "cell_type": "code",
   "execution_count": 20,
   "metadata": {},
   "outputs": [
    {
     "data": {
      "text/html": [
       "<style>\n",
       ".list-inline {list-style: none; margin:0; padding: 0}\n",
       ".list-inline>li {display: inline-block}\n",
       ".list-inline>li:not(:last-child)::after {content: \"\\00b7\"; padding: 0 .5ex}\n",
       "</style>\n",
       "<ol class=list-inline><li>25.22</li><li>22.27</li><li>24.25</li><li>23.27</li><li>27.22</li><li>23.29</li><li>28.11</li><li>23.21</li><li>23.51</li><li>25.73</li><li>22.01</li><li>27.42</li><li>23.09</li><li>24.63</li></ol>\n"
      ],
      "text/latex": [
       "\\begin{enumerate*}\n",
       "\\item 25.22\n",
       "\\item 22.27\n",
       "\\item 24.25\n",
       "\\item 23.27\n",
       "\\item 27.22\n",
       "\\item 23.29\n",
       "\\item 28.11\n",
       "\\item 23.21\n",
       "\\item 23.51\n",
       "\\item 25.73\n",
       "\\item 22.01\n",
       "\\item 27.42\n",
       "\\item 23.09\n",
       "\\item 24.63\n",
       "\\end{enumerate*}\n"
      ],
      "text/markdown": [
       "1. 25.22\n",
       "2. 22.27\n",
       "3. 24.25\n",
       "4. 23.27\n",
       "5. 27.22\n",
       "6. 23.29\n",
       "7. 28.11\n",
       "8. 23.21\n",
       "9. 23.51\n",
       "10. 25.73\n",
       "11. 22.01\n",
       "12. 27.42\n",
       "13. 23.09\n",
       "14. 24.63\n",
       "\n",
       "\n"
      ],
      "text/plain": [
       " [1] 25.22 22.27 24.25 23.27 27.22 23.29 28.11 23.21 23.51 25.73 22.01 27.42\n",
       "[13] 23.09 24.63"
      ]
     },
     "metadata": {},
     "output_type": "display_data"
    },
    {
     "data": {
      "image/png": "[encoded data removed]",
      "text/plain": [
       "Plot with title “Radius mean boxplot”"
      ]
     },
     "metadata": {
      "image/png": {
       "height": 420,
       "width": 420
      }
     },
     "output_type": "display_data"
    }
   ],
   "source": [
    "# find outlier points for the radius_mean variable in the data.\n",
    "boxplot.stats(nas_cervical$radius_mean)$out\n",
    "\n",
    "boxplot(nas_cervical$radius_mean, main=\"Radius mean boxplot\")"
   ]
  },
  {
   "cell_type": "markdown",
   "metadata": {},
   "source": [
    "You can also plot data that meets a certain condition. The next plot only uses data for which the diagnosis variable is 1."
   ]
  },
  {
   "cell_type": "code",
   "execution_count": 21,
   "metadata": {},
   "outputs": [
    {
     "name": "stderr",
     "output_type": "stream",
     "text": [
      "\n",
      "Attaching package: ‘dplyr’\n",
      "\n",
      "\n",
      "The following objects are masked from ‘package:stats’:\n",
      "\n",
      "    filter, lag\n",
      "\n",
      "\n",
      "The following objects are masked from ‘package:base’:\n",
      "\n",
      "    intersect, setdiff, setequal, union\n",
      "\n",
      "\n"
     ]
    }
   ],
   "source": [
    "# import for filtering functions\n",
    "library(dplyr)"
   ]
  },
  {
   "cell_type": "code",
   "execution_count": 22,
   "metadata": {},
   "outputs": [],
   "source": [
    "# select data with diagnoses of 1\n",
    "melignant <- dplyr::filter(nas_cervical, diagnosis==1)"
   ]
  },
  {
   "cell_type": "code",
   "execution_count": 23,
   "metadata": {},
   "outputs": [
    {
     "data": {
      "text/html": [
       "<style>\n",
       ".list-inline {list-style: none; margin:0; padding: 0}\n",
       ".list-inline>li {display: inline-block}\n",
       ".list-inline>li:not(:last-child)::after {content: \"\\00b7\"; padding: 0 .5ex}\n",
       "</style>\n",
       "<ol class=list-inline><li>27.22</li><li>28.11</li><li>27.42</li></ol>\n"
      ],
      "text/latex": [
       "\\begin{enumerate*}\n",
       "\\item 27.22\n",
       "\\item 28.11\n",
       "\\item 27.42\n",
       "\\end{enumerate*}\n"
      ],
      "text/markdown": [
       "1. 27.22\n",
       "2. 28.11\n",
       "3. 27.42\n",
       "\n",
       "\n"
      ],
      "text/plain": [
       "[1] 27.22 28.11 27.42"
      ]
     },
     "metadata": {},
     "output_type": "display_data"
    },
    {
     "data": {
      "image/png": "[encoded data removed]",
      "text/plain": [
       "Plot with title “Radius mean boxplot”"
      ]
     },
     "metadata": {
      "image/png": {
       "height": 420,
       "width": 420
      }
     },
     "output_type": "display_data"
    }
   ],
   "source": [
    "# boxplot result\n",
    "boxplot.stats(melignant$radius_mean)$out\n",
    "boxplot(melignant$radius_mean, main=\"Radius mean boxplot\")"
   ]
  },
  {
   "cell_type": "markdown",
   "metadata": {},
   "source": [
    "<hr>\n",
    "\n",
    "## Summary\n",
    "\n",
    "This notebook has covered the basics of looking at and cleaning data. Additionally, some links have been provided to useful libraries!"
   ]
  },
  {
   "cell_type": "code",
   "execution_count": null,
   "metadata": {},
   "outputs": [],
   "source": []
  }
 ],
 "metadata": {
  "kernelspec": {
   "display_name": "R with Stan",
   "language": "R",
   "name": "ir"
  },
  "language_info": {
   "codemirror_mode": "r",
   "file_extension": ".r",
   "mimetype": "text/x-r-source",
   "name": "R",
   "pygments_lexer": "r",
   "version": "3.6.3"
  }
 },
 "nbformat": 4,
 "nbformat_minor": 2
}
