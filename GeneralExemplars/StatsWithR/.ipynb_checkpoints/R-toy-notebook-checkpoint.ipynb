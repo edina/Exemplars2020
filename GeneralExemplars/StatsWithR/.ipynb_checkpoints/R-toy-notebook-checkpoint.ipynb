{
 "cells": [
  {
   "cell_type": "markdown",
   "metadata": {},
   "source": [
    "# First notebook in R\n",
    "\n",
    "checking MD works - it does\n",
    "built in datasets come with R\n",
    "\n",
    "## References\n",
    "\n",
    "[inbuilt datasets in R](https://stat.ethz.ch/R-manual/R-devel/library/datasets/html/00Index.html)\n",
    "\n",
    "[learn R in Y minutes](https://learnxinyminutes.com/docs/r/)\n",
    "\n",
    "[Jupyter for R](https://www.datacamp.com/community/blog/jupyter-notebook-r)\n",
    "\n",
    "[intro to Stan](https://www.r-bloggers.com/an-introduction-to-stan-with-r/)\n",
    "\n",
    "[stan example on real data (iq kids)](https://mc-stan.org/rstanarm/reference/rstanarm-datasets.html#examples)\n",
    "\n",
    "[Bayesian stats for social sciences (video)](https://www.youtube.com/watch?v=sUnG2oyz4ts&feature=youtu.be&list=PLSZp9QshJ8wyPCgoQR0Kw3HDNuy1FEZH9)\n",
    "\n",
    "[coursera intro to bayesian statistics (video)](https://www.coursera.org/lecture/fitting-statistical-models-data-python/bayesian-approaches-to-statistics-and-modeling-GXc9i)\n",
    "\n",
    "[quite nice online book on bayesian stats](https://statswithr.github.io/book/the-basics-of-bayesian-statistics.html)\n",
    "\n",
    "\n",
    "\n",
    "\n",
    "\n"
   ]
  },
  {
   "cell_type": "code",
   "execution_count": 15,
   "metadata": {},
   "outputs": [],
   "source": [
    "# list all built in/available data\n",
    "data()"
   ]
  },
  {
   "cell_type": "code",
   "execution_count": 8,
   "metadata": {},
   "outputs": [],
   "source": [
    "# load the ToothGrowth dataset\n",
    "data(ToothGrowth)"
   ]
  },
  {
   "cell_type": "code",
   "execution_count": 12,
   "metadata": {},
   "outputs": [
    {
     "data": {
      "text/html": [
       "<table>\n",
       "<caption>A data.frame: 3 × 3</caption>\n",
       "<thead>\n",
       "\t<tr><th scope=col>len</th><th scope=col>supp</th><th scope=col>dose</th></tr>\n",
       "\t<tr><th scope=col>&lt;dbl&gt;</th><th scope=col>&lt;fct&gt;</th><th scope=col>&lt;dbl&gt;</th></tr>\n",
       "</thead>\n",
       "<tbody>\n",
       "\t<tr><td> 4.2</td><td>VC</td><td>0.5</td></tr>\n",
       "\t<tr><td>11.5</td><td>VC</td><td>0.5</td></tr>\n",
       "\t<tr><td> 7.3</td><td>VC</td><td>0.5</td></tr>\n",
       "</tbody>\n",
       "</table>\n"
      ],
      "text/latex": [
       "A data.frame: 3 × 3\n",
       "\\begin{tabular}{r|lll}\n",
       " len & supp & dose\\\\\n",
       " <dbl> & <fct> & <dbl>\\\\\n",
       "\\hline\n",
       "\t  4.2 & VC & 0.5\\\\\n",
       "\t 11.5 & VC & 0.5\\\\\n",
       "\t  7.3 & VC & 0.5\\\\\n",
       "\\end{tabular}\n"
      ],
      "text/markdown": [
       "\n",
       "A data.frame: 3 × 3\n",
       "\n",
       "| len &lt;dbl&gt; | supp &lt;fct&gt; | dose &lt;dbl&gt; |\n",
       "|---|---|---|\n",
       "|  4.2 | VC | 0.5 |\n",
       "| 11.5 | VC | 0.5 |\n",
       "|  7.3 | VC | 0.5 |\n",
       "\n"
      ],
      "text/plain": [
       "  len  supp dose\n",
       "1  4.2 VC   0.5 \n",
       "2 11.5 VC   0.5 \n",
       "3  7.3 VC   0.5 "
      ]
     },
     "metadata": {},
     "output_type": "display_data"
    }
   ],
   "source": [
    "# display first few rows of dataset\n",
    "head(ToothGrowth,3)"
   ]
  },
  {
   "cell_type": "code",
   "execution_count": 10,
   "metadata": {},
   "outputs": [],
   "source": [
    "# gives info on the data!\n",
    "?ToothGrowth"
   ]
  },
  {
   "cell_type": "markdown",
   "metadata": {},
   "source": [
    "Having run the above code, I can see that the data consists of 60 samples (guinea pigs) who are each given either 0.5,1 or 2mg per day dose of vitamin 3. This dose is given either through VC (ascorbic acid) or OJ (orage juice). The length of odontoblasts (cells responsible for tooth length) is recorded as the first variable.\n",
    "\n",
    "Additional notes: we see the same and type of each variable in the chart above."
   ]
  },
  {
   "cell_type": "code",
   "execution_count": 14,
   "metadata": {},
   "outputs": [
    {
     "data": {
      "text/html": [
       "60"
      ],
      "text/latex": [
       "60"
      ],
      "text/markdown": [
       "60"
      ],
      "text/plain": [
       "[1] 60"
      ]
     },
     "metadata": {},
     "output_type": "display_data"
    },
    {
     "data": {
      "text/html": [
       "3"
      ],
      "text/latex": [
       "3"
      ],
      "text/markdown": [
       "3"
      ],
      "text/plain": [
       "[1] 3"
      ]
     },
     "metadata": {},
     "output_type": "display_data"
    }
   ],
   "source": [
    "nrow(ToothGrowth)\n",
    "ncol(ToothGrowth)"
   ]
  },
  {
   "cell_type": "code",
   "execution_count": null,
   "metadata": {},
   "outputs": [],
   "source": []
  }
 ],
 "metadata": {
  "kernelspec": {
   "display_name": "R with Stan",
   "language": "R",
   "name": "ir"
  },
  "language_info": {
   "codemirror_mode": "r",
   "file_extension": ".r",
   "mimetype": "text/x-r-source",
   "name": "R",
   "pygments_lexer": "r",
   "version": "3.6.1"
  }
 },
 "nbformat": 4,
 "nbformat_minor": 2
}
