{
 "cells": [
  {
   "cell_type": "markdown",
   "metadata": {},
   "source": [
    "# Note to Robyn\n",
    "This is so disorganized and a few of these websites were literally for me to try to understand bayesian statistics. I'm so sorry, this is probably not helpful at all. :("
   ]
  },
  {
   "cell_type": "markdown",
   "metadata": {},
   "source": [
    "## Video on Bayesian modelling\n",
    "- https://www.coursera.org/lecture/fitting-statistical-models-data-python/bayesian-approaches-to-statistics-and-modeling-GXc9i\n",
    "    - also had a video on a case study: childIQ = a + b * mumIQ + c * mumAge\n"
   ]
  },
  {
   "cell_type": "markdown",
   "metadata": {},
   "source": [
    "## Websites that seemed useful\n",
    "- An example on using sample data to predict the kid's iq from the mum's iq and if she went to high school\n",
    "    - https://mc-stan.org/rstanarm/reference/rstanarm-datasets.html#examples\n",
    "        Kidiq - Data from a survey of adult American women and their children (a subsample from the National Longitudinal Survey of Youth).Source: Gelman and Hill (2007)434 obs. of 4 variables \n",
    "        - kid_score Child's IQ score\n",
    "        - mom_hs Indicator for whether the mother has a high school degree\n",
    "        - mom_iq Mother's IQ score\n",
    "        - mom_age Mother's age\n",
    "- hierarchical liear regression\n",
    "    - https://docs.pymc.io/notebooks/GLM-hierarchical.html\n",
    "    - pymc3 seems useful https://docs.pymc.io/notebooks/getting_started.html\n",
    "- https://books.google.co.uk/books?id=m57pB4xw9CwC&pg=PA2003&lpg=PA2003&dq=Bayesian+statistical+methods+within+social+science+python&source=bl&ots=hVar2W_NU3&sig=ACfU3U3lyyljiTeSpwCyJVBdXCYF_bUbnA&hl=en&sa=X&ved=2ahUKEwjlqs-1jJjqAhU2WxUIHVSeBzYQ6AEwDXoECAcQAQ#v=onepage&q=Bayesian%20statistical%20methods%20within%20social%20science%20python&f=false\n",
    "- https://statswithr.github.io/book/the-basics-of-bayesian-statistics.html"
   ]
  },
  {
   "cell_type": "markdown",
   "metadata": {},
   "source": []
  },
  {
   "cell_type": "code",
   "execution_count": null,
   "metadata": {},
   "outputs": [],
   "source": []
  }
 ],
 "metadata": {
  "kernelspec": {
   "display_name": "Python 3",
   "language": "python",
   "name": "python3"
  },
  "language_info": {
   "codemirror_mode": {
    "name": "ipython",
    "version": 3
   },
   "file_extension": ".py",
   "mimetype": "text/x-python",
   "name": "python",
   "nbconvert_exporter": "python",
   "pygments_lexer": "ipython3",
   "version": "3.7.3"
  }
 },
 "nbformat": 4,
 "nbformat_minor": 2
}
