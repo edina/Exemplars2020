{
 "cells": [
  {
   "cell_type": "markdown",
   "metadata": {},
   "source": [
    "## This Notebook - Goals - FOR EDINA\n",
    "\n",
    "**What?:**\n",
    "- Haskell notebook - introduction to haskell\n",
    "\n",
    "**Who?:**\n",
    "- Those learning haskell\n",
    "\n",
    "**Why?:**\n",
    "- Haskell notebook example to demonstrate basic use\n",
    "\n",
    "**Noteable features to exploit:**\n",
    "- Haskell kernel\n",
    "\n",
    "**How? Tools/methods used:**\n",
    "- Non-python notebook\n",
    "\n",
    "<hr>"
   ]
  },
  {
   "cell_type": "markdown",
   "metadata": {},
   "source": [
    "# Haskell - Maths Basics\n",
    "\n",
    "<div class=\"alert alert-success\">\n",
    "    <strong>Note:</strong> You will need to start a Haskell notebook in order to run the code cells in this notebook. Instructions on starting notebooks can be found <a href=\"https://noteable.edina.ac.uk/student_guide/\">here</a>.\n",
    "</div>\n",
    "\n",
    "This tutorial will walk you through the basics of the Haskell functional programming language.\n",
    "\n",
    "This tutorial does not assume prior programming knowledge."
   ]
  },
  {
   "cell_type": "markdown",
   "metadata": {},
   "source": [
    "## Syntax\n",
    "\n",
    "\"Syntax\" refers to the way your code is structured so that the computer can make sense of the code you're writing.\n",
    "\n",
    "### Commenting\n",
    "\n",
    "<strong>Commenting</strong> - useful to give context to your code. Written in plain English, not read as code by the computer. Lines that are comments will always start with <code>--</code>. \n",
    "\n",
    "You can add comments to the end of lines in the same way.\n",
    "\n",
    "The next cell contains some comments. Try adding more and running the cell. If no errors appear, you've probably got it right."
   ]
  },
  {
   "cell_type": "code",
   "execution_count": null,
   "metadata": {},
   "outputs": [],
   "source": [
    "-- This is a comment\n",
    "-- The computer will not read this line as code\n",
    "-- Or this line\n",
    "-- You can write anything you like"
   ]
  },
  {
   "cell_type": "markdown",
   "metadata": {},
   "source": [
    "You can also write simple lines to do basic maths. Try running the next few cells (select and press <kbd>^Enter</kbd>) to see what happens when the computer executes them:"
   ]
  },
  {
   "cell_type": "code",
   "execution_count": null,
   "metadata": {},
   "outputs": [],
   "source": [
    "7 + 3"
   ]
  },
  {
   "cell_type": "code",
   "execution_count": null,
   "metadata": {},
   "outputs": [],
   "source": [
    "18 - 8"
   ]
  },
  {
   "cell_type": "code",
   "execution_count": null,
   "metadata": {},
   "outputs": [],
   "source": [
    "14 * 2"
   ]
  },
  {
   "cell_type": "markdown",
   "metadata": {},
   "source": [
    "The next two cells show two different kinds of division operation. Don't worry about this too much yet, but it is useful to know you have the option of including decimals or doing integer division:"
   ]
  },
  {
   "cell_type": "code",
   "execution_count": null,
   "metadata": {},
   "outputs": [],
   "source": [
    "20 / 3 -- will include decimals"
   ]
  },
  {
   "cell_type": "code",
   "execution_count": null,
   "metadata": {},
   "outputs": [],
   "source": [
    "20 `div` 3 -- will cut off anything after the decimal"
   ]
  },
  {
   "cell_type": "markdown",
   "metadata": {},
   "source": [
    "Combine using brackets, just as you would with maths notation:"
   ]
  },
  {
   "cell_type": "code",
   "execution_count": null,
   "metadata": {},
   "outputs": [],
   "source": [
    "(10 + 2) * 3"
   ]
  },
  {
   "cell_type": "markdown",
   "metadata": {},
   "source": [
    "<strong>Check your understanding:</strong>\n",
    "\n",
    "In the next cell, use Haskell to answer the following basic maths problem:\n",
    "\n",
    "What is 12% of 47?"
   ]
  },
  {
   "cell_type": "code",
   "execution_count": null,
   "metadata": {},
   "outputs": [],
   "source": [
    "-- solution space"
   ]
  },
  {
   "cell_type": "markdown",
   "metadata": {},
   "source": [
    "## Same or Different?\n",
    "\n",
    "Just like in maths, Haskell provides ways to express equality:"
   ]
  },
  {
   "cell_type": "code",
   "execution_count": null,
   "metadata": {},
   "outputs": [],
   "source": [
    "-- check if 3 equals 3\n",
    "3 == 3"
   ]
  },
  {
   "cell_type": "code",
   "execution_count": null,
   "metadata": {},
   "outputs": [],
   "source": [
    "-- check if 3 equals 7\n",
    "3 == 7"
   ]
  },
  {
   "cell_type": "code",
   "execution_count": null,
   "metadata": {},
   "outputs": [],
   "source": [
    "-- check if 3 is not equal to 7\n",
    "3 /= 7"
   ]
  },
  {
   "cell_type": "code",
   "execution_count": null,
   "metadata": {},
   "outputs": [],
   "source": [
    "-- check if 1 is greater than 7\n",
    "1 > 7"
   ]
  },
  {
   "cell_type": "markdown",
   "metadata": {},
   "source": [
    "## Make a function\n",
    "\n",
    "Functions can be used in Haskell in a similar way to mathematics notation. Consider the following function:\n",
    "\n",
    "$$f(x) = x \\times x$$\n",
    "\n",
    "This function, $f$, takes some number, $x$, and multiplies it by $x$ - squaring the input. For example:\n",
    "\n",
    "$$f(5) = 5 \\times 5 = 25$$\n",
    "\n",
    "In Haskell, when a function is used on a number, we write <code>f x</code> instead of using brackets ($f(x)$).\n",
    "\n",
    "When creating a function, it can be useful to give each function a name that tells you what the function does. In the cells below, the function is defined with the name <code>squarex</code> instead of $f$."
   ]
  },
  {
   "cell_type": "code",
   "execution_count": null,
   "metadata": {},
   "outputs": [],
   "source": [
    "-- define the function\n",
    "squarex x = x*x"
   ]
  },
  {
   "cell_type": "code",
   "execution_count": null,
   "metadata": {},
   "outputs": [],
   "source": [
    "-- try it with x = 5\n",
    "squarex 5"
   ]
  },
  {
   "cell_type": "markdown",
   "metadata": {},
   "source": [
    "You can also use the function on other numbers, and they don't have to be whole numbers!"
   ]
  },
  {
   "cell_type": "code",
   "execution_count": null,
   "metadata": {},
   "outputs": [],
   "source": [
    "-- try with float x = 5.5\n",
    "squarex 5.5"
   ]
  },
  {
   "cell_type": "markdown",
   "metadata": {},
   "source": [
    "You can use the functions that you build to create other functions. In the next example, the function <code>squarex</code> is used to build a function <code>addSquares</code>. <code>addSquares</code> takes two numbers, squares each of them, and sums the sesult:"
   ]
  },
  {
   "cell_type": "code",
   "execution_count": null,
   "metadata": {},
   "outputs": [],
   "source": [
    "-- define function that squares 2 numbers then adds result\n",
    "addSquares x y = squarex x + squarex y"
   ]
  },
  {
   "cell_type": "code",
   "execution_count": null,
   "metadata": {},
   "outputs": [],
   "source": [
    "-- test the function with x=5, y=2\n",
    "addSquares 5 2"
   ]
  },
  {
   "cell_type": "markdown",
   "metadata": {},
   "source": [
    "Another useful thing to use in functions is <strong>if statements</strong>. You can read the following as:\n",
    "\n",
    "The function <code>addSmallSquares</code> takes an input <code>x</code>. If <code>x</code> is less than 5 then output the square of <code>x</code>. Otherwise, output <code>x</code>."
   ]
  },
  {
   "cell_type": "code",
   "execution_count": null,
   "metadata": {},
   "outputs": [],
   "source": [
    "-- if then else statements\n",
    "-- define function\n",
    "addSmallSquares x = if x < 5\n",
    "                    then squarex x\n",
    "                    else x"
   ]
  },
  {
   "cell_type": "markdown",
   "metadata": {},
   "source": [
    "# Lists\n",
    "\n",
    "Haskell was built for use with lists. This is similar to set notation in mathematics.\n",
    "\n",
    "A string is just a list of characters:"
   ]
  },
  {
   "cell_type": "code",
   "execution_count": null,
   "metadata": {},
   "outputs": [],
   "source": [
    "-- syntactic sugar\n",
    "\"hello\" == ['h','e','l','l','o']"
   ]
  },
  {
   "cell_type": "markdown",
   "metadata": {},
   "source": [
    "You can have lists of numbers, and join them together using <code>++</code>:"
   ]
  },
  {
   "cell_type": "code",
   "execution_count": null,
   "metadata": {},
   "outputs": [],
   "source": [
    "-- concatenate is expensive\n",
    "[1,2,3] ++ [4,5,6]"
   ]
  },
  {
   "cell_type": "markdown",
   "metadata": {},
   "source": [
    "Haskell has a special function to prepend items to lists, which is less computationally expensive than using <code>++</code>."
   ]
  },
  {
   "cell_type": "code",
   "execution_count": null,
   "metadata": {},
   "outputs": [],
   "source": [
    "-- cons\n",
    "1 : [2,3]"
   ]
  },
  {
   "cell_type": "markdown",
   "metadata": {},
   "source": [
    "You can use <code>!! n</code> after a list to pull out the nth item of the list (counting the first item of the list as 0):"
   ]
  },
  {
   "cell_type": "code",
   "execution_count": null,
   "metadata": {},
   "outputs": [],
   "source": [
    "-- indexing (0 indexed)\n",
    "\"hello, my name is Ben\" !! 18"
   ]
  },
  {
   "cell_type": "markdown",
   "metadata": {},
   "source": [
    "Haskell has functions to break lists up:"
   ]
  },
  {
   "cell_type": "code",
   "execution_count": null,
   "metadata": {},
   "outputs": [],
   "source": [
    "-- head and tail\n",
    "head [1,2,3]\n",
    "tail [1,2,3]"
   ]
  },
  {
   "cell_type": "code",
   "execution_count": null,
   "metadata": {},
   "outputs": [],
   "source": [
    "-- init and last\n",
    "init [1,2,3]\n",
    "last [1,2,3]"
   ]
  },
  {
   "cell_type": "markdown",
   "metadata": {},
   "source": [
    "## Extension\n",
    "\n",
    "Below is a list of other useful functions to play with:"
   ]
  },
  {
   "cell_type": "code",
   "execution_count": null,
   "metadata": {},
   "outputs": [],
   "source": [
    "-- other useful list functions (uncomment to run)\n",
    "\n",
    "--length [1,2,3]\n",
    "--null [1]         -- check if list empty\n",
    "--reverse [1,2,3]\n",
    "--take 2 [1,2,3,4,5] -- get first 2 entries from list\n",
    "--drop 2 [1,2,3,4,5] -- get all but first 2 elements\n",
    "--maximum [1,2,3,4,5]\n",
    "--minimum [1,2,3,4,5]\n",
    "--sum [2,2,2]\n",
    "--product [3,4]\n",
    "--elem 3 [1,2,3]   -- prefix - check if element present\n",
    "--3 `elem` [1,2,3] -- infix"
   ]
  },
  {
   "cell_type": "code",
   "execution_count": null,
   "metadata": {},
   "outputs": [],
   "source": [
    "-- ranges - like slicing in python...kind of!\n",
    "-- unlike slicing, includes the last given number\n",
    "\n",
    "--[1..5]\n",
    "--[1,3..14] -- go up in steps of 2\n",
    "--['a'..'f'] -- works with letters\n",
    "--[100,75..2] -- go down in 25s"
   ]
  },
  {
   "cell_type": "code",
   "execution_count": null,
   "metadata": {},
   "outputs": [],
   "source": []
  }
 ],
 "metadata": {
  "kernelspec": {
   "display_name": "Haskell",
   "language": "haskell",
   "name": "haskell"
  },
  "language_info": {
   "codemirror_mode": "ihaskell",
   "file_extension": ".hs",
   "name": "haskell",
   "pygments_lexer": "Haskell",
   "version": "8.6.5"
  }
 },
 "nbformat": 4,
 "nbformat_minor": 4
}
