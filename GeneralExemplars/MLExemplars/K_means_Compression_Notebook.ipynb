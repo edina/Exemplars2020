{
 "cells": [
  {
   "cell_type": "markdown",
   "metadata": {},
   "source": [
    "## This Notebook - Goals - FOR EDINA\n",
    "\n",
    "**What?:**\n",
    "- K-means compression of image data, additional image filters\n",
    "- Interactive\n",
    "\n",
    "**Who?:**\n",
    "- Intro to ML course (3rd year computer science UG)\n",
    "- PG students in social sciences learning ML\n",
    "- Design course\n",
    "- Programming course (functions, for loops, types and overflow)\n",
    "\n",
    "**Why?:**\n",
    "- Visual\n",
    "- Wide audience\n",
    "- Show progression of steps and concepts\n",
    "\n",
    "**Noteable features to exploit:**\n",
    "- Visualisation\n",
    "- Interactive (widgets!)\n",
    "- Tutorial format\n",
    "\n",
    "**How? Tools/methods used:**\n",
    "- Widgets\n",
    "\n",
    "<hr>"
   ]
  },
  {
   "cell_type": "markdown",
   "metadata": {},
   "source": [
    "# Create your own selfie filters!\n",
    "\n",
    "This notebook will guide you through the process of changing an image using python."
   ]
  },
  {
   "cell_type": "markdown",
   "metadata": {},
   "source": [
    "<hr>\n",
    "\n",
    "## Context\n",
    "\n",
    "### Python\n",
    "\n",
    "If you're learning python, [this page](https://learnxinyminutes.com/docs/python/) provides a great quick reference.\n",
    "\n",
    "Having said that, **you do not need to know python to follow along with this tutorial**.\n",
    "\n",
    "### RGB\n",
    "\n",
    "The functions below manipulate an array of **numbers** in order to change how an image **loooks** looks. How exactly does this work?\n",
    "\n",
    "The array that is manipulated in all of the following functions is a $(M,N,3)$ array of integers, where $M$ is the height of the image in pixels and $N$ is the width of the image, in pixels.\n",
    "\n",
    "The depth of this array can be thought of like 3 layers, where each layer contains information about a specific colour: red, green or blue [(RGB)](https://www.rapidtables.com/web/color/RGB_Color.html). \n",
    "\n",
    "So the first layer, which deals with red, is a $(M,N)$ array that contains a number for every pixel in the image, to represent the amount of red in that pixel. The value is between 0 and 255.\n",
    "\n",
    "If all RGB values are 0, the pixel is black. If all RGB values are 255, the pixel is white.\n",
    "\n",
    "For example: suppose the $(100,50,1)th$ element of the array contains the value 0. This means that the pixel at row 100 and column 50 has no green at all. "
   ]
  },
  {
   "cell_type": "markdown",
   "metadata": {},
   "source": [
    "<hr>\n",
    "\n",
    "# Getting started - set up\n",
    "\n",
    "## Import useful modules\n",
    "\n",
    "Python has a [huge](https://scikit-image.org) [amount](https://docs.opencv.org/master/dc/dd3/tutorial_gausian_median_blur_bilateral_filter.html) [of](https://imagemagick.org/Usage/photos/#color) [support](http://www.spectralpython.net/graphics.html) for image processing, so this notebook only covers a couple of possibilities. \n",
    "\n",
    "All modules linked are pre-installed on Noteable, so they just need to be imported!"
   ]
  },
  {
   "cell_type": "code",
   "execution_count": null,
   "metadata": {},
   "outputs": [],
   "source": [
    "# displaying images/data\n",
    "import matplotlib.pyplot as plt\n",
    "# reading images to arrays\n",
    "from matplotlib.image import imread\n",
    "# magic iPython command for visualisations in notebooks\n",
    "%matplotlib inline\n",
    "\n",
    "# implementation of K-means algorithm\n",
    "from sklearn.cluster import KMeans\n",
    "\n",
    "# array functions\n",
    "import numpy as np\n",
    "\n",
    "# used for interactive slider bars at end\n",
    "import ipywidgets as widgets"
   ]
  },
  {
   "cell_type": "markdown",
   "metadata": {},
   "source": [
    "## Loading and displaying images\n",
    "\n",
    "<i><b>Note:</b> The last section of this notebook will help you to upload your own image.</i>\n",
    "\n",
    "Use the [imread()](https://matplotlib.org/api/_as_gen/matplotlib.pyplot.imread.html) function to load an image into a [numpy array](https://scipy-lectures.org/intro/numpy/array_object.html). \n",
    "\n",
    "<i><b>Challenge:</b> Can you see why 'int16' type is neccessary?<br><b>Hint:</b> Consider the case where a pixel is altered to a negative number but is stored in an unsigned integer type.</i>\n",
    "\n",
    "<div class=\"alert alert-info\">\n",
    "    <b>What do these cells do?</b><br>\n",
    "    1. The first cell defines a function, <code>array_img(imgFile)</code> that reads an image and specifies the type that elements should be stored as.<br>\n",
    "    2. The second cell loads a particular image using the function that was just defined.<br>\n",
    "</div>"
   ]
  },
  {
   "cell_type": "code",
   "execution_count": null,
   "metadata": {},
   "outputs": [],
   "source": [
    "# function that loads an image and converts to array using imread()\n",
    "def array_img(imgFile):    \n",
    "    # load image to 3D numpy array\n",
    "    img = imread(imgFile).astype('int16')\n",
    "    return img"
   ]
  },
  {
   "cell_type": "code",
   "execution_count": null,
   "metadata": {},
   "outputs": [],
   "source": [
    "# load picture into array\n",
    "img_arr = array_img('JamesFace.jpg')"
   ]
  },
  {
   "cell_type": "markdown",
   "metadata": {},
   "source": [
    "<div class=\"alert alert-info\">\n",
    "    <b>What do these cells do?</b><br>\n",
    "    1. The first cell defines a function, <code>show_img(*imgs)</code> that displays an image or images.<br>\n",
    "    2. The second cell uses this function to display the <i>\"woman_photo.jpg\"</i> picture.\n",
    "</div>"
   ]
  },
  {
   "cell_type": "code",
   "execution_count": null,
   "metadata": {},
   "outputs": [],
   "source": [
    "# function to display one or two images\n",
    "def show_img(*imgs):\n",
    "    # if there are 2 image arguments\n",
    "    if (len(imgs)==2):\n",
    "        # plot both images side by side\n",
    "        fig, (ax1, ax2) = plt.subplots(1,2,figsize=(10,20))\n",
    "        ax1.imshow(imgs[0])\n",
    "        ax2.imshow(imgs[1])\n",
    "        ax1.axis('off')\n",
    "        ax2.axis('off')\n",
    "        # give title for comparison\n",
    "        ax1.set_title(\"Before\")\n",
    "        ax2.set_title(\"After\")\n",
    "    # if there is only one image argument\n",
    "    elif (len(imgs)==1):\n",
    "        # plot the image\n",
    "        plt.figure(figsize=(7,7))\n",
    "        plt.axis('off')\n",
    "        _ = plt.imshow(imgs[0])"
   ]
  },
  {
   "cell_type": "code",
   "execution_count": null,
   "metadata": {},
   "outputs": [],
   "source": [
    "# display picture of woman\n",
    "show_img(img_arr)"
   ]
  },
  {
   "cell_type": "markdown",
   "metadata": {},
   "source": [
    "<hr>\n",
    "\n",
    "# Compress an Image with K-means\n",
    "\n",
    "[K-means](https://scikit-learn.org/stable/auto_examples/cluster/plot_cluster_iris.html) is an algorithm that helps to group data.\n",
    "\n",
    "Groups *(\"clusters\")* are each made up of points that are similar to each other. \n",
    "\n",
    "In this example, the algorithm will try to:\n",
    "- Find colours that are similar to each other and group them.\n",
    "- Find the average colour for each group, which becomes the new palette.\n",
    "- Map the pixels in the original image down to only the colours specified by this reduced palette.\n",
    "\n",
    "Since the resulting image can use group lookup to represent colours, a smaller data type can be used to handle each pixel. Storage benefits aside, it produces interesting effects on images.\n",
    "\n",
    "### Running K-means\n",
    "\n",
    "Scikit-learn has it's own [implementation of K-means](https://scikit-learn.org/stable/modules/generated/sklearn.cluster.KMeans.html), which is imported in the code cell at the top of this notebook. \n",
    "\n",
    "Run the K-means algorithm by creating the model, then fitting it on our image. The groupings created by K-means can then be used to reduce the number of colours used in the image.\n",
    "\n",
    "### Reshape step(s)\n",
    "\n",
    "<b>Reshape at beginning:</b> For a colour image that is $M$ pixels tall and $N$ pixels wide, <code>imread()</code> produces a <code>(M,N,3)</code> numpy array. \n",
    "\n",
    "To use the algorithm, the matrix needs to be reshaped to a 2-dimensional <code>(M*N,3)</code> array where each row represents a pixel, and contains the RGB information in its columns.\n",
    "\n",
    "<i><b>Note:</b> This hasnt changed the data at all, just the order in which the data is arranged.</i>\n",
    "\n",
    "<b>Reshape at end:</b>The output of the compress function will be the same shape as the input, <code>(M,N,3)</code> array. Therefore, the array will also be reshaped at the end.\n",
    "\n",
    "<div class=\"alert alert-info\">\n",
    "<b>What do these cells do?:</b><br>\n",
    "    1. The first cell defines a function,<code>compress_img(img, n)</code> that puts the steps above together by reshaping the array, running K-means, then reshaping again.<br>\n",
    "    2. The second cell applies that function to our specific image, then uses the <code>show_img(*imgs)</code> function to display it.\n",
    "</div>"
   ]
  },
  {
   "cell_type": "code",
   "execution_count": null,
   "metadata": {},
   "outputs": [],
   "source": [
    "# function to reshape image and map down to n colours\n",
    "# default n = 10\n",
    "def compress_img(img, n=10):\n",
    "    # store original size to convert back to later\n",
    "    size = img.shape\n",
    "    # reshape image array to 2-dimensions\n",
    "    r_img = img.reshape(size[0]*size[1], size[2])\n",
    "    \n",
    "    # set limits on allowed values for n\n",
    "    if (n>25 or n<1):\n",
    "        raise Exception(\"n must be in range 0<n<26.\")\n",
    "    \n",
    "    # create a KMeans model with n clusters\n",
    "    km_model = KMeans(n_clusters=n)\n",
    "    # fit model to image colour data\n",
    "    km_model.fit(r_img)\n",
    "    # retrieve average colour for each group\n",
    "    # identify appropriate colour by label\n",
    "    c_img = km_model.cluster_centers_[km_model.labels_]\n",
    "    # restrict values to range allowed by RGB\n",
    "    c_img = np.clip(c_img.astype(int), 0, 255)\n",
    "    \n",
    "    # reshape new image data to original shape\n",
    "    c_img = c_img.reshape(size[0], size[1], size[2])\n",
    "\n",
    "    return c_img"
   ]
  },
  {
   "cell_type": "code",
   "execution_count": null,
   "metadata": {},
   "outputs": [],
   "source": [
    "# apply function to woman image, 15 colours\n",
    "mypic_compressed = compress_img(img_arr, 15)\n",
    "show_img(img_arr,mypic_compressed)"
   ]
  },
  {
   "cell_type": "markdown",
   "metadata": {},
   "source": [
    "<hr>\n",
    "\n",
    "# Incorporating more filters\n",
    "\n",
    "So far, the following functions have been defined:\n",
    "\n",
    "- <code>array_img(imgFile)</code>: takes image file and converts to 3-dimensional numpy array.\n",
    "- <code>show_img(*imgs)</code>: display image(s) from 3-dimensional array.\n",
    "- <code>compress_img(img,n=10)</code>: given a 3-dimensional array representing an image, reduce the number of colours to n, where n is 10 by default.\n",
    "\n",
    "The next part of this tutorial will show how to define the following functions:\n",
    "\n",
    "- <code>lighter_img(img, n=20)</code>: increase/decrease lightness by n. Default n=20.\n",
    "- <code>warmer_img(img, n=20)</code>: increase/decrease warmth by n. Default n=20.\n",
    "- <code>contrast_img(img, scl=1.25)</code>: increase/decrease contrast by scl. Default scl=1.25"
   ]
  },
  {
   "cell_type": "markdown",
   "metadata": {},
   "source": [
    "<hr>\n",
    "\n",
    "## Make image lighter or darker\n",
    "\n",
    "Because of the way RGB works, images can be made lighter by simply increasing the value of each of each colour by an equal amount per pixel. Similarly, the image can be made darker by reducing the RGB values for each pixel.\n",
    "\n"
   ]
  },
  {
   "cell_type": "code",
   "execution_count": null,
   "metadata": {},
   "outputs": [],
   "source": [
    "# function to make image lighter or darker\n",
    "# default: increase lightness by 20\n",
    "def lighter_img(img, n=20):\n",
    "    # increment values of each pixel by n\n",
    "    img = img + n\n",
    "    # restrict values to range allowed by RGB\n",
    "    l_img = np.clip(img.astype(int), 0, 255)\n",
    "    return l_img"
   ]
  },
  {
   "cell_type": "markdown",
   "metadata": {},
   "source": [
    "The function can be given a **positive number** to make the image **lighter**, or a **negative number** to make the image **darker**.\n",
    "\n",
    "Take a look at this in action:"
   ]
  },
  {
   "cell_type": "code",
   "execution_count": null,
   "metadata": {},
   "outputs": [],
   "source": [
    "# make image lighter by the default value, 20\n",
    "mypic_lighter = lighter_img(img_arr)\n",
    "show_img(img_arr, mypic_lighter)"
   ]
  },
  {
   "cell_type": "code",
   "execution_count": null,
   "metadata": {},
   "outputs": [],
   "source": [
    "# make image darker by using a negative n value\n",
    "mypic_darker = lighter_img(img_arr, -75)\n",
    "show_img(img_arr, mypic_darker)"
   ]
  },
  {
   "cell_type": "markdown",
   "metadata": {},
   "source": [
    "## Make image warmer/cooler\n",
    "\n",
    "Once you've understood the lighter/darker idea, it's easy to extend this to change the colour in a custom way.\n",
    "\n",
    "As an example, here is a warmth function that increases the red by n and the blue by a third of n in order to make the image warmer (or cooler if n is negative).\n",
    "\n",
    "<i><b>Note:</b> It might seem strange to use red and blue to change the amount of orange in the picture. This is because RGB colours are additive. For additive colours, red + blue = yellow.</i>"
   ]
  },
  {
   "cell_type": "code",
   "execution_count": null,
   "metadata": {},
   "outputs": [],
   "source": [
    "# function to alter warmth of image\n",
    "# default: increase warmth by 20\n",
    "def warmer_img(img, n=20):\n",
    "    # change r and b values to make image more or less orange\n",
    "    r_img = img[:,:,0] + n\n",
    "    b_img = img[:,:,1] + (n//3)\n",
    "    g_img = img[:,:,2]\n",
    "    # stack arrays depthwise to get back to (M,N,3) shaped array\n",
    "    w_img = np.dstack((r_img, b_img, g_img))\n",
    "    # restrict values to range allowed by RGB\n",
    "    d_img = np.clip(w_img.astype(int), 0, 255)\n",
    "    return d_img"
   ]
  },
  {
   "cell_type": "markdown",
   "metadata": {},
   "source": [
    "Take a look at this in action with our picture:"
   ]
  },
  {
   "cell_type": "code",
   "execution_count": null,
   "metadata": {},
   "outputs": [],
   "source": [
    "# make image warmer by 30\n",
    "w_img = warmer_img(img_arr,30)\n",
    "show_img(img_arr,w_img)"
   ]
  },
  {
   "cell_type": "code",
   "execution_count": null,
   "metadata": {},
   "outputs": [],
   "source": [
    "### make image cooler by 20\n",
    "c_img = warmer_img(img_arr,-20)\n",
    "show_img(img_arr, c_img)"
   ]
  },
  {
   "cell_type": "markdown",
   "metadata": {},
   "source": [
    "## Change contrast in an image\n",
    "\n",
    "This is a little more complicated than the previous two filters, but uses a very similar idea.\n",
    "\n",
    "Going from the basics: to increase the contrast, the lighter bits of the image need to become even lighter, and the darker bits need to get even darker.\n",
    "\n",
    "From the <code>lighter_img()</code> function, its already clear that adding some value to the RGB values of each pixel makes the whole image lighter. That's a great starting point:\n",
    "\n",
    "Therefore, the **\"light\" pixels need to be given higher RGB values, and the \"dark\" pixels need to be given lower RGB values**.\n",
    "\n",
    "To categorise a pixel as light or dark, there needs to be some **threshold/neutral value**. If the RGB value of a pixel is **above** the threshold, the pixel is considered \"light\". If it's **below** the threshold, its \"dark\".\n",
    "\n",
    "### Where is the threshold?\n",
    "\n",
    "**Plan A:** One approach could be to take the midpoint of all possible colour values to be the threshold. The range of possible values is 0 to 255, so the midpoint is 127 (rounded down). If we use this on an image with a wide range of values, the result might be ok. But take a look at what happens when this method is used on a dark picture: "
   ]
  },
  {
   "cell_type": "code",
   "execution_count": null,
   "metadata": {},
   "outputs": [],
   "source": [
    "# copy the dark image (above)\n",
    "too_dark_img = mypic_darker.copy()\n",
    "\n",
    "# take the midpoint of 0 and 255 to be the neutral point:\n",
    "mid = (255 - 0)//2\n",
    "\n",
    "# add 20 to pixels lighter than mid\n",
    "too_dark_img[too_dark_img>mid] +=50\n",
    "too_dark_img[too_dark_img<mid] -=50\n",
    "\n",
    "# restrict values to range allowed by RGB\n",
    "dark_img = np.clip(too_dark_img, 0, 255)\n",
    "\n",
    "# display\n",
    "show_img(mypic_darker, dark_img)"
   ]
  },
  {
   "cell_type": "markdown",
   "metadata": {},
   "source": [
    "**What went wrong?**:\n",
    "\n",
    "Since most of the pixels are darker than the midpoint, the picture ends up darker with a few light patches! \n",
    "\n",
    "**Plan B:** So the threshold needs to be the midpoint of the pixels' lightness/darkess. That is, the mid-point for that *specific* picture. This can be found by taking the mean average of all RGB values in the whole picture."
   ]
  },
  {
   "cell_type": "code",
   "execution_count": null,
   "metadata": {},
   "outputs": [],
   "source": [
    "# copy the dark image (above)\n",
    "too_dark_img_2 = mypic_darker.copy()\n",
    "\n",
    "# take the average RGB value to be the neutral point\n",
    "mid = np.mean(too_dark_img_2)\n",
    "\n",
    "# add 50 to pixels lighter than mid\n",
    "too_dark_img_2[too_dark_img_2>mid] +=50\n",
    "# subtract 50 from pixels darker than mid\n",
    "too_dark_img_2[too_dark_img_2<mid] -=50\n",
    "\n",
    "# restrict values to range allowed by RGB\n",
    "less_dark_img = np.clip(too_dark_img_2, 0, 255)\n",
    "\n",
    "# display\n",
    "show_img(mypic_darker,less_dark_img)"
   ]
  },
  {
   "cell_type": "markdown",
   "metadata": {},
   "source": [
    "That's a bit better!\n",
    "\n",
    "**Choose plan B (for now)**\n",
    "\n",
    "With the threshold problem solved, there is something else that can improve the result.\n",
    "\n",
    "### Using a multiplier\n",
    "\n",
    "**Multiplier:** Instead of adding or subtracting some number to the RGB values, they can be multiplied by a scalar.\n",
    "\n",
    "To make this work, the values for the image all need to be shifted down so that the threshold can be treated as a neutral point. This way, the multiplier pushes values towards/away from the neutral point, without needing to fiddle with positive and negative multipliers. Additionally, reducing the contrast becomes much easier, because a multiplier that is less than 1 will pull colour values towards the average.\n",
    "\n",
    "Let's see it this action:"
   ]
  },
  {
   "cell_type": "code",
   "execution_count": null,
   "metadata": {},
   "outputs": [],
   "source": [
    "# copy the dark image (above)\n",
    "too_dark_img_3 = mypic_darker.copy()\n",
    "\n",
    "# take the average RGB value to be the neutral point\n",
    "avg = np.mean(too_dark_img_3)\n",
    "\n",
    "# shift the whole array down (centralise)\n",
    "c_img = too_dark_img_3 - avg\n",
    "# multiply all values by the contrast multiplier of 2 (away from origin)\n",
    "c_img = c_img*2\n",
    "# shift the values back up\n",
    "c_img = c_img + avg\n",
    "\n",
    "# restrict values to range allowed by RGB\n",
    "d_img = np.clip(c_img.astype(int), 0, 255)\n",
    "\n",
    "# display\n",
    "show_img(mypic_darker,d_img)"
   ]
  },
  {
   "cell_type": "markdown",
   "metadata": {},
   "source": [
    "Extend this idea beyond the average colour. Instead, treat the average of each colour as the origin *for just that colour*.\n",
    "\n",
    "Consider now contrast where each colour (r, g, b) has its own neutral based on its own average:"
   ]
  },
  {
   "cell_type": "code",
   "execution_count": null,
   "metadata": {},
   "outputs": [],
   "source": [
    "# function to change contrast in image\n",
    "# default scalar = 1.25 (increase contrast)\n",
    "def contrast_img(img,scl=1.25):\n",
    "    \n",
    "    # for each colour (RGB):\n",
    "    for k in range(3):\n",
    "        # find average value for colour\n",
    "        avg = np.mean(img[:,:,k])\n",
    "        # centralise data about average (shift down)\n",
    "        ctd = img[:,:,k] - avg\n",
    "        # scale by scl parameter value\n",
    "        scld = ctd*scl\n",
    "        # shift back up\n",
    "        updata = scld + avg\n",
    "        # stack new values depthwise to a 3D array\n",
    "        if (k==0):\n",
    "            arr = updata\n",
    "        else:\n",
    "            arr = np.dstack((arr, updata))\n",
    "            \n",
    "    # restrict values to range allowed by RGB     \n",
    "    c_img = np.clip(arr.astype(int), 0, 255)\n",
    "    \n",
    "    return c_img"
   ]
  },
  {
   "cell_type": "code",
   "execution_count": null,
   "metadata": {},
   "outputs": [],
   "source": [
    "# compare with the alternative contrast method\n",
    "show_img(d_img, contrast_img(img_arr, 2))"
   ]
  },
  {
   "cell_type": "code",
   "execution_count": null,
   "metadata": {},
   "outputs": [],
   "source": [
    "# scalar less than 1 reduces contrast\n",
    "show_img(img_arr,contrast_img(img_arr,0.5))"
   ]
  },
  {
   "cell_type": "markdown",
   "metadata": {},
   "source": [
    "<hr>\n",
    "\n",
    "# Putting it all together\n",
    "\n",
    "Now we have the following functions we can use to interact with images:\n",
    "\n",
    "- <code>array_img(imgFile)</code>: reads the image from file to array\n",
    "- <code>show_img(*imgs)</code>: display one or two images\n",
    "\n",
    "Filters:\n",
    "- <code>compress_img(img, n=10)</code>: compress image using K-means with n colours. Default n=10.\n",
    "- <code>lighter_img(img, n=20)</code>: increase/decrease lightness by n. Default n=20.\n",
    "- <code>warmer_img(img, n=20)</code>: increase/decrease warmth by n. Default n=20.\n",
    "- <code>contrast_img(img, scl=1.25)</code>: increase/decrease contrast by scl. Default scl=1.25\n",
    "\n",
    "<b>The rest of this notebook</b> shows how to use the filters interactively, and optionally use them on your own image.\n"
   ]
  },
  {
   "cell_type": "markdown",
   "metadata": {},
   "source": [
    "<hr>\n",
    "\n",
    "## Upload your image (optional)\n",
    "\n",
    "<b>Option 1:</b> If you already have an image in the same directory as this notebook, you can replace 'woman_photo.jpg' with the name of your image in the cell below:"
   ]
  },
  {
   "cell_type": "code",
   "execution_count": null,
   "metadata": {},
   "outputs": [],
   "source": [
    "# set image name\n",
    "image = array_img('JamesFace.jpg')"
   ]
  },
  {
   "cell_type": "markdown",
   "metadata": {},
   "source": [
    "<b>Option 2:</b> You can select an image from your computer by clicking the \"Upload\" button below:\n",
    "\n",
    "<i><b>Note:</b> If you wish to repeat this step and upload another picture, you need to execute the cell below again, which will reset the upload. Please be aware that your old image will be overridden if you do this.</i>"
   ]
  },
  {
   "cell_type": "code",
   "execution_count": null,
   "metadata": {},
   "outputs": [],
   "source": [
    "# If you wish to try more images after the first one you upload\n",
    "# you will need to execute this cell which will reset the uploads\n",
    "pic = widgets.FileUpload(accept='image/*',multiple=False)\n",
    "pic"
   ]
  },
  {
   "cell_type": "markdown",
   "metadata": {},
   "source": [
    "Regardless of which option you chose, run all cells below this one:"
   ]
  },
  {
   "cell_type": "code",
   "execution_count": null,
   "metadata": {},
   "outputs": [],
   "source": [
    "### WARNING: DO NOT change anything in this cell.\n",
    "try:\n",
    "    upl_file = next(iter(pic.value))\n",
    "    content = pic.value[upl_file]['content']\n",
    "    with open('my_pic.jpg','wb') as f: f.write(content)\n",
    "    image = array_img('my_pic.jpg')\n",
    "    pic.close()\n",
    "except:\n",
    "    print(\"Did not upload via upload button.\")"
   ]
  },
  {
   "cell_type": "code",
   "execution_count": null,
   "metadata": {},
   "outputs": [],
   "source": [
    "# check that the image is as expected\n",
    "show_img(image)"
   ]
  },
  {
   "cell_type": "markdown",
   "metadata": {},
   "source": [
    "<hr>\n",
    "\n",
    "# Interacting with your filters\n",
    "\n",
    "Multiple filters can be applied to an image by using the output of one filter as the input for the next filter.\n",
    "\n",
    "<b>Move the slider bars below</b> to change the lightness, warmth, contrast and palette size.\n",
    "\n",
    "You can safely ignore all the code below (although if you're interested in how it works, follow [this link](https://ipywidgets.readthedocs.io/en/stable/)).\n",
    "\n",
    "<i><b>Note:</b> if \"palette size\" is set to 26, the <code>compress_img(img, n)</code> function won't be executed. Additionally, due to the complexity of this function, you will need to be patient if you do change this slider. Try giving it a little wiggle if you've been waiting more than 30 seconds or so.</i>"
   ]
  },
  {
   "cell_type": "code",
   "execution_count": null,
   "metadata": {},
   "outputs": [],
   "source": [
    "# create sliders for each filter\n",
    "lig = widgets.IntSlider(min=-150,max=150,\n",
    "                        description='lightness', value=0)\n",
    "wam = widgets.IntSlider(min=-150,max=150,\n",
    "                        description='warmth', value=0)\n",
    "con = widgets.FloatSlider(min=0,max=2,\n",
    "                        description='contrast', value=1)\n",
    "c   = widgets.IntSlider(min=1,max=26,\n",
    "                        description='palette size',value=26)\n",
    "\n",
    "# set order of implementation\n",
    "def f(lig, wam, con, c):\n",
    "    x = lighter_img(image,lig)\n",
    "    x = warmer_img(x,wam)\n",
    "    x = contrast_img(x,con)\n",
    "    # only apply compress if slider is moved\n",
    "    if (0<c<26):\n",
    "        x = compress_img(x, c)\n",
    "    show_img(x)"
   ]
  },
  {
   "cell_type": "code",
   "execution_count": null,
   "metadata": {},
   "outputs": [],
   "source": [
    "# display result of filters on right hand side\n",
    "out = widgets.interactive_output(f, \n",
    "                                 {'lig':lig, 'wam':wam,'con':con,'c':c})\n",
    "widgets.HBox([widgets.VBox([lig,wam,con,c]), out])"
   ]
  }
 ],
 "metadata": {
  "kernelspec": {
   "display_name": "Python 3",
   "language": "python",
   "name": "python3"
  },
  "language_info": {
   "codemirror_mode": {
    "name": "ipython",
    "version": 3
   },
   "file_extension": ".py",
   "mimetype": "text/x-python",
   "name": "python",
   "nbconvert_exporter": "python",
   "pygments_lexer": "ipython3",
   "version": "3.7.6"
  }
 },
 "nbformat": 4,
 "nbformat_minor": 2
}
