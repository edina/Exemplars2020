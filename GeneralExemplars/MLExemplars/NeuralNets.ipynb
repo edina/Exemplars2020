{
 "cells": [
  {
   "cell_type": "markdown",
   "metadata": {},
   "source": [
    "## This Notebook - Goals - FOR EDINA\n",
    "\n",
    "**What?:**\n",
    "- Address hot topic in AI\n",
    "\n",
    "**Who?:**\n",
    "- Aimed at anyone in AI \n",
    "- More technical than some of the other notebooks, since the topic is inherantly more complex.\n",
    "\n",
    "**Why?:**\n",
    "- Address a wide audience with a more complex topic\n",
    "\n",
    "**Noteable features to exploit:**\n",
    "- this is going to be hell in map form - read: AI researcher's dream\n",
    "\n",
    "**How?:**\n",
    "- That is indeed the question I am asking myself this weekend. probably also in my dreams. it is a challenge. no doubt about it.\n",
    "\n",
    "<hr>"
   ]
  },
  {
   "cell_type": "markdown",
   "metadata": {},
   "source": [
    "# Neural Nets\n",
    "\n",
    "“Okay, men,” he said. “And women,” said Chaser Angelina Johnson. “And women,” Wood agreed. “This is it.” “The big one,” said Fred Weasley. “The one we’ve all been waiting for,” said George. “We know Oliver’s speech by heart,” Fred told Harry, “we were on the team last year.” “Shut up, you two,” said Wood. “This is the best team Gryffindor’s had in years. We’re going to win. I know it.” He glared at them all as if to say, “Or else.” “Right. It’s time. Good luck, all of you.” - JKRowling\n",
    "\n",
    "Tutorials\n",
    "["
   ]
  },
  {
   "cell_type": "code",
   "execution_count": null,
   "metadata": {},
   "outputs": [],
   "source": []
  }
 ],
 "metadata": {
  "kernelspec": {
   "display_name": "Python 3",
   "language": "python",
   "name": "python3"
  },
  "language_info": {
   "codemirror_mode": {
    "name": "ipython",
    "version": 3
   },
   "file_extension": ".py",
   "mimetype": "text/x-python",
   "name": "python",
   "nbconvert_exporter": "python",
   "pygments_lexer": "ipython3",
   "version": "3.7.3"
  }
 },
 "nbformat": 4,
 "nbformat_minor": 2
}
