{
 "cells": [
  {
   "cell_type": "markdown",
   "metadata": {},
   "source": [
    "## Exploring Medical Data with Python\n",
    "\n",
    "**What?:**\n",
    "- Exploratory data analysis\n",
    "- Linear Regression\n",
    "- Python\n",
    "- Libraries: scikit-learn, numpy, matplotlib, pandas, seaborn, bokeh\n",
    "\n",
    "**Who?:**\n",
    "- Medics\n",
    "- Statisticians\n",
    "- Machine Learning students\n",
    "\n",
    "**Why?:**\n",
    "- Visualising data\n",
    "- Machine Learning (regression)\n",
    "- Tools to understand data\n",
    "\n",
    "**Noteable features**\n",
    "- Pre-installed libraries\n",
    "- Practice data sets\n",
    "- Interactive visualisation\n",
    "- On the spot results\n",
    "- Easy translation to R\n",
    "- Tutorial format\n",
    "\n",
    "**How? Tools/methods used:**\n",
    "- Bokeh - interactive visualisation\n",
    "- Base SciPy stack - processing and accessing data\n",
    "- Explanations integrated into code\n",
    "\n",
    "<hr>"
   ]
  },
  {
   "cell_type": "markdown",
   "metadata": {},
   "source": [
    "### Importing Libraries\n",
    "\n",
    "Python has excellent support for data analysis through the [scipy](https://www.scipy.org) stack. Since the core libraries are pre-installed on Noteable, they need only be imported to be used:"
   ]
  },
  {
   "cell_type": "code",
   "execution_count": null,
   "metadata": {},
   "outputs": [],
   "source": [
    "# scikit learn - used throughout for machine learning tools\n",
    "import sklearn.datasets as ds\n",
    "from sklearn import linear_model\n",
    "from sklearn.metrics import mean_squared_error\n",
    "import sklearn\n",
    "\n",
    "# numpy - array support\n",
    "import numpy as np\n",
    "\n",
    "# pandas - dataset tools\n",
    "import pandas as pd\n",
    "\n",
    "# matplotlib - data visualisation\n",
    "import matplotlib.pyplot as plt\n",
    "%matplotlib inline\n",
    "\n",
    "# seaborn - notebook styling\n",
    "import seaborn as sns\n",
    "sns.set(style=\"white\")\n",
    "sns.set(style=\"whitegrid\", color_codes=True)\n",
    "\n",
    "# bokeh - visualisation library\n",
    "from bokeh.plotting import figure, show\n",
    "from bokeh.io import output_notebook\n",
    "\n",
    "# hide unnecessary warnings\n",
    "import warnings\n",
    "warnings.filterwarnings('ignore')"
   ]
  },
  {
   "cell_type": "markdown",
   "metadata": {},
   "source": [
    "<hr>\n",
    "\n",
    "### Data\n",
    "\n",
    "Scikit-learn provides inbuilt datasets which can be useful for practise. Here, the [diabetes dataset](https://scikit-learn.org/stable/modules/generated/sklearn.datasets.load_diabetes.html) is loaded directly into the notebook."
   ]
  },
  {
   "cell_type": "code",
   "execution_count": null,
   "metadata": {},
   "outputs": [],
   "source": [
    "# load dataset to notebook as Bunch object\n",
    "diabetes = ds.load_diabetes()"
   ]
  },
  {
   "cell_type": "markdown",
   "metadata": {},
   "source": [
    "<hr>\n",
    "\n",
    "### Context\n",
    "\n",
    "This dataset comes with a description of the data. It is wise to save descriptions in the same directory as the data.\n",
    "\n",
    "The next cell creates a text file then stores the data description, <code>data.DESCR</code> within it. The description is then printed out to the notebook."
   ]
  },
  {
   "cell_type": "code",
   "execution_count": null,
   "metadata": {},
   "outputs": [],
   "source": [
    "# store description in file\n",
    "description = open(\"diabetes.txt\", \"w\")\n",
    "description.write(diabetes.DESCR)\n",
    "description.close()\n",
    "\n",
    "# print to notebook (optional)\n",
    "print(diabetes.DESCR)"
   ]
  },
  {
   "cell_type": "markdown",
   "metadata": {},
   "source": [
    "<hr>\n",
    "\n",
    "### Pandas\n",
    "\n",
    "[Pandas](https://pandas.pydata.org) is a library for data analysis. It provides useful functions to inspect and manipulate data.\n",
    "\n",
    "To use the pandas function, the data should be in a [pandas dataframe](https://pandas.pydata.org/pandas-docs/stable/reference/api/pandas.DataFrame.html)."
   ]
  },
  {
   "cell_type": "code",
   "execution_count": null,
   "metadata": {},
   "outputs": [],
   "source": [
    "# convert data from Bunch to pandas dataframe\n",
    "data = pd.DataFrame(data= np.c_[diabetes['data'], diabetes['target']],\n",
    "                     columns= diabetes['feature_names'] + ['target'])"
   ]
  },
  {
   "cell_type": "markdown",
   "metadata": {},
   "source": [
    "<hr>\n",
    "\n",
    "### Exploring Data with pandas\n",
    "\n",
    "Pandas functions can now be used to retrieve helpful information about the data:"
   ]
  },
  {
   "cell_type": "code",
   "execution_count": null,
   "metadata": {},
   "outputs": [],
   "source": [
    "# check dimensions of data\n",
    "print(data.shape)"
   ]
  },
  {
   "cell_type": "code",
   "execution_count": null,
   "metadata": {},
   "outputs": [],
   "source": [
    "# check names of columns\n",
    "print(data.columns)"
   ]
  },
  {
   "cell_type": "code",
   "execution_count": null,
   "metadata": {},
   "outputs": [],
   "source": [
    "# visually inspect a few datapoints\n",
    "data.head()"
   ]
  },
  {
   "cell_type": "code",
   "execution_count": null,
   "metadata": {},
   "outputs": [],
   "source": [
    "# check types of all variables\n",
    "data.dtypes"
   ]
  },
  {
   "cell_type": "code",
   "execution_count": null,
   "metadata": {},
   "outputs": [],
   "source": [
    "# count null values for all variables\n",
    "data.isnull().sum()"
   ]
  },
  {
   "cell_type": "code",
   "execution_count": null,
   "metadata": {},
   "outputs": [],
   "source": [
    "# summary statistics for each variable\n",
    "data.describe()"
   ]
  },
  {
   "cell_type": "markdown",
   "metadata": {},
   "source": [
    "<hr>\n",
    "\n",
    "# Linear Regression\n",
    "\n",
    "Later on, the target and feature variables will be used separately. The next cell splits the data to two separate dataframes - X for the features, y for the target."
   ]
  },
  {
   "cell_type": "code",
   "execution_count": null,
   "metadata": {},
   "outputs": [],
   "source": [
    "# split data frame to predictors and target\n",
    "predictors = data.shape[1]-1\n",
    "X = data.iloc[:,0:predictors]\n",
    "y = data.iloc[:,predictors:predictors+1]"
   ]
  },
  {
   "cell_type": "markdown",
   "metadata": {},
   "source": [
    "## Linear Regression - One Feature Variable\n",
    "\n",
    "This section will create a linear regression model using only the s5 variable."
   ]
  },
  {
   "cell_type": "code",
   "execution_count": null,
   "metadata": {},
   "outputs": [],
   "source": [
    "# plot s5 variable against target\n",
    "data.plot(x='s5', y='target', kind='scatter', c='blue');"
   ]
  },
  {
   "cell_type": "markdown",
   "metadata": {},
   "source": [
    "To perform linear regression, the samples will be split into a training set and a test set. The model is then trained on the training data."
   ]
  },
  {
   "cell_type": "code",
   "execution_count": null,
   "metadata": {},
   "outputs": [],
   "source": [
    "# split data to train and test sets\n",
    "X_train_s5, X_test, y_train_s5, y_test = sklearn.model_selection.train_test_split(\n",
    "    X['s5'], y, test_size=0.05, random_state=0)\n",
    "\n",
    "# convert to numpy array, force to correct dimensions\n",
    "X_train_s5 = X_train_s5.to_numpy().reshape(-1,1)\n",
    "y_train_s5 = y_train_s5.to_numpy().reshape(-1,1)\n",
    "X_test     = X_test.to_numpy().reshape(-1,1)\n",
    "y_test     = y_test.to_numpy().reshape(-1,1)"
   ]
  },
  {
   "cell_type": "code",
   "execution_count": null,
   "metadata": {
    "scrolled": true
   },
   "outputs": [],
   "source": [
    "# create instance of linear regression model\n",
    "lreg = linear_model.LinearRegression()\n",
    "\n",
    "# fit linear regression model on training data\n",
    "lreg.fit(X_train_s5, y_train_s5)\n",
    "\n",
    "# predict on test set\n",
    "y_pred = lreg.predict(X_test)\n",
    "\n",
    "# print result data\n",
    "print(\"coefficient of s5:            \", lreg.coef_[0][0])\n",
    "print(\"intercept:                    \", lreg.intercept_[0])\n",
    "print(\"mse:                          \",mean_squared_error(y_test, y_pred))\n",
    "print(\"coefficient of determination: \", sklearn.metrics.r2_score(y_test, y_pred))"
   ]
  },
  {
   "cell_type": "markdown",
   "metadata": {},
   "source": [
    "The plots below give a visual representation of the model:"
   ]
  },
  {
   "cell_type": "code",
   "execution_count": null,
   "metadata": {},
   "outputs": [],
   "source": [
    "# reshape for plotting\n",
    "X_train_r = X_train_s5.reshape(-1)\n",
    "y_train_r = y_train_s5.reshape(-1)\n",
    "X_test_r  = X_test.reshape(-1)\n",
    "y_test_r  = y_test.reshape(-1)\n",
    "y_pred_r  = y_pred.reshape(-1)"
   ]
  },
  {
   "cell_type": "code",
   "execution_count": null,
   "metadata": {
    "scrolled": false
   },
   "outputs": [],
   "source": [
    "# plot training data with bokeh functions\n",
    "\n",
    "# specify output\n",
    "output_notebook()\n",
    "\n",
    "# specify figure\n",
    "p = figure(plot_width=450, plot_height=350)\n",
    "p.circle(X_train_r, y_train_r, color='orange')\n",
    "p.line(X_train_r, lreg.predict(X_train_s5).flatten(), color='blue')\n",
    "p.title.text = \"Training Data\"\n",
    "p.title.align = \"center\"\n",
    "p.title.text_color = \"purple\"\n",
    "p.title.text_font_size = \"20px\"\n",
    "p.xaxis.axis_label = \"s5\"\n",
    "p.yaxis.axis_label = \"Target\"\n",
    "\n",
    "show(p)"
   ]
  },
  {
   "cell_type": "code",
   "execution_count": null,
   "metadata": {},
   "outputs": [],
   "source": [
    "# plot test data with bokeh functions\n",
    "\n",
    "# specify output\n",
    "output_notebook()\n",
    "\n",
    "# specify figure\n",
    "p = figure(plot_width=450, plot_height=350)\n",
    "p.circle(X_test_r, y_test_r, color='red')\n",
    "p.line(X_test_r, y_pred_r, color='blue')\n",
    "p.title.text = \"Test Data\"\n",
    "p.title.align = \"center\"\n",
    "p.title.text_color = \"purple\"\n",
    "p.title.text_font_size = \"20px\"\n",
    "p.xaxis.axis_label = \"s5\"\n",
    "p.yaxis.axis_label = \"Target\"\n",
    "\n",
    "show(p)"
   ]
  },
  {
   "cell_type": "markdown",
   "metadata": {},
   "source": [
    "## Linear Regression - Multiple Feature Variables\n",
    "\n",
    "In the example above, the coefficient of determination was 0.29. The closer the value is to 1, the more accurate the model's predictions.\n",
    "\n",
    "One way to increase this is to use more features for training. The next example uses three features: bmi, s1 and s5."
   ]
  },
  {
   "cell_type": "code",
   "execution_count": null,
   "metadata": {},
   "outputs": [],
   "source": [
    "# take bmi, s1, s5 variables only\n",
    "features = ['bmi', 's1', 's5']\n",
    "feats = X[features]\n",
    "\n",
    "# split data to train and test sets\n",
    "X_train, X_test, y_train, y_test = sklearn.model_selection.train_test_split(\n",
    "    feats, y, test_size=0.05, random_state=0)\n",
    "\n",
    "# convert data to numpy, force to correct dimensions\n",
    "X_train = X_train.to_numpy()\n",
    "y_train = y_train.to_numpy().reshape(-1,1)\n",
    "X_test  = X_test.to_numpy()\n",
    "y_test  = y_test.to_numpy().reshape(-1,1)"
   ]
  },
  {
   "cell_type": "code",
   "execution_count": null,
   "metadata": {},
   "outputs": [],
   "source": [
    "# create instance of linear regression model\n",
    "lm = linear_model.LinearRegression()\n",
    "\n",
    "# fit model on train data\n",
    "lm.fit(X_train, y_train);"
   ]
  },
  {
   "cell_type": "code",
   "execution_count": null,
   "metadata": {},
   "outputs": [],
   "source": [
    "# print intercept and coefficients - lm\n",
    "print(\"Intercept:\", lm.intercept_[0])\n",
    "print(\"\\nCoefficients:\")\n",
    "for f, c in zip(features, lm.coef_[0]):\n",
    "    print(f, \":  \", c)"
   ]
  },
  {
   "cell_type": "code",
   "execution_count": null,
   "metadata": {},
   "outputs": [],
   "source": [
    "# predict test set\n",
    "y_pred = lm.predict(X_test)"
   ]
  },
  {
   "cell_type": "code",
   "execution_count": null,
   "metadata": {},
   "outputs": [],
   "source": [
    "# print results\n",
    "print(\"mse:                          \", mean_squared_error(y_test, y_pred))\n",
    "print(\"coefficient of determination: \", sklearn.metrics.r2_score(y_test, y_pred))"
   ]
  },
  {
   "cell_type": "markdown",
   "metadata": {},
   "source": [
    "When 3 features are used, the coefficient of determination increases to 0.53.\n",
    "\n",
    "Explain the results:\n",
    "\n"
   ]
  },
  {
   "cell_type": "markdown",
   "metadata": {},
   "source": [
    "<hr>\n",
    "\n",
    "# Summary\n",
    "\n",
    "In this tutorial, you have seen:\n",
    "- pandas functions to learn about data\n",
    "- visualisation of 2D data using pandas/matplotlib\n",
    "- use of bokeh to create interactive graphs\n",
    "- linear regression with one, then multiple feature variables\n",
    "\n",
    "Recommended next steps:\n",
    "- Edit this notebook for greater understanding of the code\n",
    "- Try it yourself! Create a notebook and follow the same steps with a different dataset!"
   ]
  }
 ],
 "metadata": {
  "kernelspec": {
   "display_name": "Python 3",
   "language": "python",
   "name": "python3"
  },
  "language_info": {
   "codemirror_mode": {
    "name": "ipython",
    "version": 3
   },
   "file_extension": ".py",
   "mimetype": "text/x-python",
   "name": "python",
   "nbconvert_exporter": "python",
   "pygments_lexer": "ipython3",
   "version": "3.7.6"
  }
 },
 "nbformat": 4,
 "nbformat_minor": 2
}
