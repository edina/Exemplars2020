{
 "cells": [
  {
   "cell_type": "markdown",
   "metadata": {},
   "source": [
    "## This Notebook - Goals - FOR EDINA\n",
    "\n",
    "**What?:**\n",
    "- The purpose of this notebook is to show different dimension reduction methods in one notebook.\n",
    "\n",
    "**Who?:**\n",
    "- Most (possibly all) machine learning courses at university level will cover dimension reduction.\n",
    "- Statistics students are likely to come across these methods.\n",
    "- Lecturers and researchers\n",
    "- Any beginner ML or data science student\n",
    "\n",
    "**Why?:**\n",
    "- dimension reduction is fundamental to basic machine learning\n",
    "- nature of task involves large data sets\n",
    "\n",
    "**Noteable features to exploit:**\n",
    "- handling large data\n",
    "- visualisation (2D/3D graphs)\n",
    "\n",
    "**How?:**\n",
    "- How are the features exploited? \n",
    "- What is being done to satisfy the needs of the audience?\n",
    "\n",
    "<hr>"
   ]
  },
  {
   "cell_type": "markdown",
   "metadata": {},
   "source": [
    "# Dimensionality Reduction\n",
    "\n",
    "ML usually deals with high dimension data.\n",
    "\n",
    "reduce due to curse of dimensionality.\n",
    "\n",
    "in a uni course - probably learn about: LDA, QDA, sparse LDA/QDA, PCA\n",
    "[Quite nice expanation of the goal](https://medium.com/@srishtisawla/linear-discriminant-analysis-d38decf48105).\n",
    "\n"
   ]
  },
  {
   "cell_type": "code",
   "execution_count": null,
   "metadata": {},
   "outputs": [],
   "source": []
  }
 ],
 "metadata": {
  "kernelspec": {
   "display_name": "Python 3",
   "language": "python",
   "name": "python3"
  },
  "language_info": {
   "codemirror_mode": {
    "name": "ipython",
    "version": 3
   },
   "file_extension": ".py",
   "mimetype": "text/x-python",
   "name": "python",
   "nbconvert_exporter": "python",
   "pygments_lexer": "ipython3",
   "version": "3.7.3"
  }
 },
 "nbformat": 4,
 "nbformat_minor": 2
}
