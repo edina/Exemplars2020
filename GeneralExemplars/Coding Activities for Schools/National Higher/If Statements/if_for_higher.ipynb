{
 "cells": [
  {
   "cell_type": "markdown",
   "metadata": {},
   "source": [
    "#### If and for statements"
   ]
  },
  {
   "cell_type": "markdown",
   "metadata": {},
   "source": [
    "Welcome yet to another session!! Today we will have a better look to the if statement and work with the for condition...we will take them one by one! Let us begin with a revision of if statement. As the name suggests, this instruction is used when only some specific numbers are required:"
   ]
  },
  {
   "cell_type": "markdown",
   "metadata": {},
   "source": [
    "Do you remember how to check if a number is odd?"
   ]
  },
  {
   "cell_type": "code",
   "execution_count": 3,
   "metadata": {},
   "outputs": [
    {
     "name": "stdout",
     "output_type": "stream",
     "text": [
      "The number is even\n"
     ]
    }
   ],
   "source": [
    "a = 6\n",
    "\n",
    "if(a % 2 ==1):\n",
    "    print(\"The number is odd\")\n",
    "else:\n",
    "    print(\"The number is even\")"
   ]
  },
  {
   "cell_type": "markdown",
   "metadata": {},
   "source": [
    "Of course, we can always add more conditions. For this, however, another condition has to be introduced: elif statement. Let us do an exercise, to see how the elif statement works. Suppose we want to check whether a number has one, two or three digits. Three if statements are required:"
   ]
  },
  {
   "cell_type": "code",
   "execution_count": 13,
   "metadata": {},
   "outputs": [
    {
     "name": "stdout",
     "output_type": "stream",
     "text": [
      "Integer a has two digits\n"
     ]
    }
   ],
   "source": [
    "a = 45.867\n",
    "\n",
    "if(0 < a < 10):\n",
    "    print(\"Integer a has only one digit\")\n",
    "elif(10 < a < 99):\n",
    "    print(\"Integer a has two digits\")\n",
    "else:\n",
    "    print(\"Integer a has three digits\")"
   ]
  },
  {
   "cell_type": "markdown",
   "metadata": {},
   "source": [
    "OK, for some examples it has worked, the program, and we can be proud of it, but has it worked for all the values? Try putting a float number there, to see what happens.\n",
    "\n",
    "This clearly cannot work...floating point numbers can have as many digits as they want. Let us establish from the start that in our case, we only want integers, so let us set this condition:"
   ]
  },
  {
   "cell_type": "code",
   "execution_count": 19,
   "metadata": {},
   "outputs": [
    {
     "name": "stdout",
     "output_type": "stream",
     "text": [
      "Integer a has two digits\n"
     ]
    }
   ],
   "source": [
    "if(a != int(a)):\n",
    "    print(\"You need to plug in an integer number\")\n",
    "    \n",
    "# While we are at this point, we can also check if the number is greater than 0\n",
    "\n",
    "if(a < 0):\n",
    "    print(\"You need to plug in a positive number\")\n",
    "    \n",
    "if(0 < a < 10):\n",
    "    print(\"Integer a has only one digit\")\n",
    "elif(10 < a < 99):\n",
    "    print(\"Integer a has two digits\")\n",
    "else:\n",
    "    print(\"Integer a has three digits\")"
   ]
  },
  {
   "cell_type": "markdown",
   "metadata": {},
   "source": [
    "The whole expression could be rewritten as follows:"
   ]
  },
  {
   "cell_type": "code",
   "execution_count": 20,
   "metadata": {},
   "outputs": [
    {
     "name": "stdout",
     "output_type": "stream",
     "text": [
      "Integer a has two digits\n"
     ]
    }
   ],
   "source": [
    "if(a != int(a)):\n",
    "    print(\"You need to plug in an integer number\")\n",
    "elif(a < 0):\n",
    "    print(\"You need to plug in a positive number\")\n",
    "else:\n",
    "    \n",
    "    if(0 < a < 10):\n",
    "        print(\"Integer a has only one digit\")\n",
    "    elif(10 < a < 99):\n",
    "        print(\"Integer a has two digits\")\n",
    "    else:\n",
    "        print(\"Integer a has three digits\")"
   ]
  },
  {
   "cell_type": "markdown",
   "metadata": {},
   "source": [
    "Let us do another exercise with elif statements..this time, take a number and check if the number is divisible either by two or five:"
   ]
  },
  {
   "cell_type": "code",
   "execution_count": 18,
   "metadata": {},
   "outputs": [
    {
     "name": "stdout",
     "output_type": "stream",
     "text": [
      "The number is not divisible by 2 or 5\n"
     ]
    }
   ],
   "source": [
    "a = 47\n",
    "\n",
    "if(a % 2 == 0):\n",
    "    print(\"The number is divisible either by 2 or 5\")\n",
    "elif(a % 5 ==0):\n",
    "    print(\"The number is divisible either by 2 or 5\")\n",
    "else:\n",
    "    print(\"The number is not divisible by 2 or 5\")"
   ]
  },
  {
   "cell_type": "markdown",
   "metadata": {},
   "source": [
    "Elif statements are suitable for the middle conditions, as you can see... we will come back later to the elif statements. However, for the moment, let us introduce another instruction: the for statement. This instruction is used for going over more elements in a list. Let's have a look below:"
   ]
  },
  {
   "cell_type": "code",
   "execution_count": 8,
   "metadata": {},
   "outputs": [
    {
     "name": "stdout",
     "output_type": "stream",
     "text": [
      "Hello people!\n",
      "Hello people!\n",
      "Hello people!\n",
      "Hello people!\n",
      "Hello people!\n",
      "Hello people!\n",
      "Hello people!\n",
      "Hello people!\n",
      "Hello people!\n",
      "Hello people!\n"
     ]
    }
   ],
   "source": [
    "for i in range(10):\n",
    "    print(\"Hello people!\")"
   ]
  },
  {
   "cell_type": "markdown",
   "metadata": {},
   "source": [
    "In the above case, the instruction printed \"Hello people!\" ten times...If we wanted the instruction to print the statement 20 timees, we can just replace 10 with 20. Now let us see if we want to print all the elements from 1 to 10:"
   ]
  },
  {
   "cell_type": "code",
   "execution_count": 9,
   "metadata": {},
   "outputs": [
    {
     "name": "stdout",
     "output_type": "stream",
     "text": [
      "0\n",
      "1\n",
      "2\n",
      "3\n",
      "4\n",
      "5\n",
      "6\n",
      "7\n",
      "8\n",
      "9\n"
     ]
    }
   ],
   "source": [
    "for i in range(10):\n",
    "    print(i)"
   ]
  },
  {
   "cell_type": "markdown",
   "metadata": {},
   "source": [
    "The elements from 0 to 9 are printed out. What if we want, however, from 1 to 10? "
   ]
  },
  {
   "cell_type": "code",
   "execution_count": 10,
   "metadata": {},
   "outputs": [
    {
     "name": "stdout",
     "output_type": "stream",
     "text": [
      "1\n",
      "2\n",
      "3\n",
      "4\n",
      "5\n",
      "6\n",
      "7\n",
      "8\n",
      "9\n",
      "10\n"
     ]
    }
   ],
   "source": [
    "for i in range(10):\n",
    "    print(i+1)"
   ]
  },
  {
   "cell_type": "markdown",
   "metadata": {},
   "source": [
    "Now let us mix the two above exercises with for and elif statements and see what we can get: take 100 numbers, and for each of them print out whether it has one digit, two, or three."
   ]
  },
  {
   "cell_type": "code",
   "execution_count": null,
   "metadata": {},
   "outputs": [],
   "source": [
    "for i in range(100):\n",
    "    if(0 < i < 10):\n",
    "        print(\"Integer i has only one digit\")\n",
    "    elif(10 < i < 99):\n",
    "        print(\"Integer i has two digits\")"
   ]
  },
  {
   "cell_type": "markdown",
   "metadata": {},
   "source": [
    "Let us work more on this, and print, this time, the sum of all numbers:"
   ]
  },
  {
   "cell_type": "code",
   "execution_count": 21,
   "metadata": {},
   "outputs": [
    {
     "name": "stdout",
     "output_type": "stream",
     "text": [
      "4950\n"
     ]
    }
   ],
   "source": [
    "sum = 0\n",
    "\n",
    "for i in range(100):\n",
    "    sum = sum + i\n",
    "\n",
    "print(sum)"
   ]
  },
  {
   "cell_type": "code",
   "execution_count": null,
   "metadata": {},
   "outputs": [],
   "source": [
    "Let us see now if we can print the sum of all even elements:"
   ]
  },
  {
   "cell_type": "code",
   "execution_count": 24,
   "metadata": {},
   "outputs": [
    {
     "name": "stdout",
     "output_type": "stream",
     "text": [
      "2450\n"
     ]
    }
   ],
   "source": [
    "sum = 0\n",
    "\n",
    "for i in range(100):\n",
    "    if(i % 2 == 0):\n",
    "        sum = sum + i\n",
    "\n",
    "print(sum)"
   ]
  },
  {
   "cell_type": "markdown",
   "metadata": {},
   "source": [
    "Try out with the sum of all numbers divisible either by 3 or 5:"
   ]
  },
  {
   "cell_type": "code",
   "execution_count": 23,
   "metadata": {},
   "outputs": [
    {
     "name": "stdout",
     "output_type": "stream",
     "text": [
      "2318\n"
     ]
    }
   ],
   "source": [
    "sum = 0\n",
    "\n",
    "for i in range(100):\n",
    "    if(i % 3 == 0):\n",
    "        sum = sum + i\n",
    "        \n",
    "    elif(i % 5 == 0):\n",
    "        sum = sum + i\n",
    "\n",
    "print(sum)"
   ]
  },
  {
   "cell_type": "markdown",
   "metadata": {},
   "source": [
    "Let us work with a new exercise, but relying only on the for and if statements we have used so far. The aim of the exercise is quite precise: determine if a number is <b> prime </b> or not. In other words, determine if a number is divisible by any other number other than 1 and the number itself.\n",
    "\n",
    "Example: 36 is a number divisible by 1,2,3,4,6,9,12,18. 36 is not a prime number\n",
    "\n",
    "Example: 37 is a number divisible by 1 and 37. 37 is a prime number\n",
    "         \n",
    "A way of approach is the following: take each number smaller than the one itself, and check if the remainder of the given number to the one in the loop is 0 or not. Set a variable which changes its value in case it encounters an exact division"
   ]
  },
  {
   "cell_type": "code",
   "execution_count": null,
   "metadata": {},
   "outputs": [],
   "source": [
    "ok = 1 # Set the variable as 1 in case the number is prime\n",
    "n = 35\n",
    "\n",
    "for i in range(n):\n",
    "    if(n % i == 0):\n",
    "        ok = 0\n",
    "        \n",
    "print(ok)"
   ]
  },
  {
   "cell_type": "markdown",
   "metadata": {},
   "source": [
    "<b> ZeroDivisionError </b> thrown by Python is a standard error, met in plenty of programs. This happens when you divide a number by 0, as it cannot happen (you should know why such division cannot occur). Something has to be changed: set the counting from 2, not 0 (Why did I not choose 1?)"
   ]
  },
  {
   "cell_type": "code",
   "execution_count": 33,
   "metadata": {},
   "outputs": [
    {
     "name": "stdout",
     "output_type": "stream",
     "text": [
      "The value ok is 1, so the number n = 37 is prime\n"
     ]
    }
   ],
   "source": [
    "ok = 1 # Set the variable as 1 in case the number is prime\n",
    "n = 37\n",
    "\n",
    "for i in range(2,n):\n",
    "    if(n % i == 0):\n",
    "        ok = 0 # If ok becomes 0, the the number is no longer a prime number\n",
    "        \n",
    "if(ok==1):        \n",
    "    print(\"The value ok is \" + str(ok) + \", so the number n = \" + str(n) + \" is prime\")\n",
    "else:\n",
    "    print(\"The value ok is \" + str(ok) + \", so the number n = \" + str(n) + \" is not prime\")"
   ]
  },
  {
   "cell_type": "markdown",
   "metadata": {},
   "source": [
    "So far, we have done good, but can we do even better? Can we make it even easier for the computer to give us the result faster? It seems, indeed, there is no need for it, but in case of huge data to analyze and work out, the computer may find it very hard to make al the given steps at small times. \n",
    "\n",
    "Let us notice this: the above algorithm takes all the numbers from 2 to n. However, the largest divisor of a number, after n, is $ \\frac{n}{2} $, if it exists. As a result, why should not we change the upper limit, to reduce the number of steps taken by the algorithm above by a half?"
   ]
  },
  {
   "cell_type": "code",
   "execution_count": 34,
   "metadata": {},
   "outputs": [
    {
     "name": "stdout",
     "output_type": "stream",
     "text": [
      "The value ok is 1, so the number n = 37 is prime\n"
     ]
    }
   ],
   "source": [
    "ok = 1 # Set the variable as 1 in case the number is prime\n",
    "n = 37\n",
    "\n",
    "for i in range(2,n):\n",
    "    if(n % i == 0):\n",
    "        ok = 0 # If ok becomes 0, the the number is no longer a prime number\n",
    "        \n",
    "if(ok==1):        \n",
    "    print(\"The value ok is \" + str(ok) + \", so the number n = \" + str(n) + \" is prime\")\n",
    "else:\n",
    "    print(\"The value ok is \" + str(ok) + \", so the number n = \" + str(n) + \" is not prime\")"
   ]
  },
  {
   "cell_type": "markdown",
   "metadata": {},
   "source": [
    "<b> Exercise: </b> How well do you know your classmates? Talk to each other if you have not done it so far, work out what each person enjoys, and try to make a loop with the habits of your friends. It can look like the example below, but feel free to also come up with examples of your own."
   ]
  },
  {
   "cell_type": "code",
   "execution_count": null,
   "metadata": {},
   "outputs": [],
   "source": [
    "for i in range(3):\n",
    "    print(input(\"The name of my friend is: \"))\n",
    "    print(input(\"His/her favourite game is: \"))\n",
    "    print(input(\"His/her favourite holiday place is: \"))"
   ]
  },
  {
   "cell_type": "markdown",
   "metadata": {},
   "source": [
    "It may seem a bit mundane at this point, this exercise, but believe it or not, this is how daily information about computer users is generally stored."
   ]
  },
  {
   "cell_type": "code",
   "execution_count": null,
   "metadata": {},
   "outputs": [],
   "source": []
  }
 ],
 "metadata": {
  "kernelspec": {
   "display_name": "Python 3",
   "language": "python",
   "name": "python3"
  },
  "language_info": {
   "codemirror_mode": {
    "name": "ipython",
    "version": 3
   },
   "file_extension": ".py",
   "mimetype": "text/x-python",
   "name": "python",
   "nbconvert_exporter": "python",
   "pygments_lexer": "ipython3",
   "version": "3.7.6"
  }
 },
 "nbformat": 4,
 "nbformat_minor": 4
}
