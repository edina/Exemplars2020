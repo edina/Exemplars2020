{
 "cells": [
  {
   "cell_type": "markdown",
   "metadata": {},
   "source": [
    "### Coding exercises"
   ]
  },
  {
   "cell_type": "markdown",
   "metadata": {},
   "source": [
    "OK, we have covered some information so far, so let us just take a breath this time and process a bit all the information we have been given... It has been quite a lot, this revision will be a review on wht we have done so far. Let us begin with the last element we talked about yesterday:"
   ]
  },
  {
   "cell_type": "markdown",
   "metadata": {},
   "source": [
    "#### Arrays"
   ]
  },
  {
   "cell_type": "markdown",
   "metadata": {},
   "source": [
    "Arrays are basically a data structure which can keep information for more than one single variable. The most common type of example for an array is shown below:"
   ]
  },
  {
   "cell_type": "code",
   "execution_count": 1,
   "metadata": {},
   "outputs": [],
   "source": [
    "my_second_array = [1,2,3,4,5,6]"
   ]
  },
  {
   "cell_type": "markdown",
   "metadata": {},
   "source": [
    "You have just declared your first array! Do you want to see how it looks?"
   ]
  },
  {
   "cell_type": "code",
   "execution_count": 2,
   "metadata": {},
   "outputs": [
    {
     "data": {
      "text/plain": [
       "[1, 2, 3, 4, 5, 6]"
      ]
     },
     "execution_count": 2,
     "metadata": {},
     "output_type": "execute_result"
    }
   ],
   "source": [
    "my_second_array"
   ]
  },
  {
   "cell_type": "markdown",
   "metadata": {},
   "source": [
    "Do you want to check its first element?"
   ]
  },
  {
   "cell_type": "code",
   "execution_count": 3,
   "metadata": {},
   "outputs": [
    {
     "data": {
      "text/plain": [
       "2"
      ]
     },
     "execution_count": 3,
     "metadata": {},
     "output_type": "execute_result"
    }
   ],
   "source": [
    "my_second_array[1]"
   ]
  },
  {
   "cell_type": "markdown",
   "metadata": {},
   "source": [
    "But 2 is not 1!! We have just bumped into our first issue, which is a general probem in computing field. The iteration <b> always </b> begins from 0, not from 1. The very first element of the vector has the index 0:"
   ]
  },
  {
   "cell_type": "code",
   "execution_count": 4,
   "metadata": {},
   "outputs": [
    {
     "data": {
      "text/plain": [
       "1"
      ]
     },
     "execution_count": 4,
     "metadata": {},
     "output_type": "execute_result"
    }
   ],
   "source": [
    "my_second_array[0]"
   ]
  },
  {
   "cell_type": "markdown",
   "metadata": {},
   "source": [
    "So here is already a good question: what happens when we access the last element?"
   ]
  },
  {
   "cell_type": "code",
   "execution_count": 5,
   "metadata": {},
   "outputs": [
    {
     "ename": "IndexError",
     "evalue": "list index out of range",
     "output_type": "error",
     "traceback": [
      "\u001b[0;31m---------------------------------------------------------------------------\u001b[0m",
      "\u001b[0;31mIndexError\u001b[0m                                Traceback (most recent call last)",
      "\u001b[0;32m<ipython-input-5-6627600a7e44>\u001b[0m in \u001b[0;36m<module>\u001b[0;34m\u001b[0m\n\u001b[0;32m----> 1\u001b[0;31m \u001b[0mmy_second_array\u001b[0m\u001b[0;34m[\u001b[0m\u001b[0;36m6\u001b[0m\u001b[0;34m]\u001b[0m\u001b[0;34m\u001b[0m\u001b[0;34m\u001b[0m\u001b[0m\n\u001b[0m",
      "\u001b[0;31mIndexError\u001b[0m: list index out of range"
     ]
    }
   ],
   "source": [
    "my_second_array[6]"
   ]
  },
  {
   "cell_type": "markdown",
   "metadata": {},
   "source": [
    "This is a classic error, which you will encounter countless times in programming: list index out of range. If the index of the first element is 0, and the array has 6 elements, then of course the index of the last element will be 5: 0,1,2,3,4,5, there are indeed 6 elements."
   ]
  },
  {
   "cell_type": "code",
   "execution_count": 6,
   "metadata": {},
   "outputs": [
    {
     "data": {
      "text/plain": [
       "6"
      ]
     },
     "execution_count": 6,
     "metadata": {},
     "output_type": "execute_result"
    }
   ],
   "source": [
    "my_second_array[5]"
   ]
  },
  {
   "cell_type": "markdown",
   "metadata": {},
   "source": [
    "There is a typical command for the length of an array:"
   ]
  },
  {
   "cell_type": "code",
   "execution_count": 7,
   "metadata": {},
   "outputs": [
    {
     "data": {
      "text/plain": [
       "6"
      ]
     },
     "execution_count": 7,
     "metadata": {},
     "output_type": "execute_result"
    }
   ],
   "source": [
    "len(my_second_array)"
   ]
  },
  {
   "cell_type": "markdown",
   "metadata": {},
   "source": [
    "The array lesson is the perfect environment to work with loop: the for instruction which iterates through each element in order to do some algorithm or steps:"
   ]
  },
  {
   "cell_type": "code",
   "execution_count": 8,
   "metadata": {},
   "outputs": [
    {
     "ename": "SyntaxError",
     "evalue": "invalid syntax (<ipython-input-8-f64a3569f3dc>, line 1)",
     "output_type": "error",
     "traceback": [
      "\u001b[0;36m  File \u001b[0;32m\"<ipython-input-8-f64a3569f3dc>\"\u001b[0;36m, line \u001b[0;32m1\u001b[0m\n\u001b[0;31m    for i in range(my_second_array)\u001b[0m\n\u001b[0m                                   ^\u001b[0m\n\u001b[0;31mSyntaxError\u001b[0m\u001b[0;31m:\u001b[0m invalid syntax\n"
     ]
    }
   ],
   "source": [
    "for i in range(my_second_array)\n",
    "    print(my_second_array[0])"
   ]
  },
  {
   "cell_type": "markdown",
   "metadata": {},
   "source": [
    "Never forget the sign :. The invalid syntax error is yet another error which will be encountered countless times:"
   ]
  },
  {
   "cell_type": "code",
   "execution_count": 9,
   "metadata": {},
   "outputs": [
    {
     "name": "stdout",
     "output_type": "stream",
     "text": [
      "1\n",
      "2\n",
      "3\n",
      "4\n",
      "5\n",
      "6\n"
     ]
    }
   ],
   "source": [
    "for i in range(len(my_second_array)):\n",
    "    print(my_second_array[i])"
   ]
  },
  {
   "cell_type": "code",
   "execution_count": 10,
   "metadata": {},
   "outputs": [
    {
     "data": {
      "text/plain": [
       "int"
      ]
     },
     "execution_count": 10,
     "metadata": {},
     "output_type": "execute_result"
    }
   ],
   "source": [
    "type(my_second_array[0])"
   ]
  },
  {
   "cell_type": "markdown",
   "metadata": {},
   "source": [
    "Let us do a simple exercise and calculate the sum of all the elements in an array:"
   ]
  },
  {
   "cell_type": "code",
   "execution_count": 11,
   "metadata": {},
   "outputs": [
    {
     "data": {
      "text/plain": [
       "21"
      ]
     },
     "execution_count": 11,
     "metadata": {},
     "output_type": "execute_result"
    }
   ],
   "source": [
    "sum = 0\n",
    "for i in range(len(my_second_array)):\n",
    "    sum += my_second_array[i]\n",
    "    \n",
    "sum"
   ]
  },
  {
   "cell_type": "markdown",
   "metadata": {},
   "source": [
    "Similarly, we can calculate the product:"
   ]
  },
  {
   "cell_type": "code",
   "execution_count": 12,
   "metadata": {},
   "outputs": [
    {
     "data": {
      "text/plain": [
       "0"
      ]
     },
     "execution_count": 12,
     "metadata": {},
     "output_type": "execute_result"
    }
   ],
   "source": [
    "product = 0\n",
    "for i in range(len(my_second_array)):\n",
    "    product = product * my_second_array[i]\n",
    "product"
   ]
  },
  {
   "cell_type": "markdown",
   "metadata": {},
   "source": [
    "Question: what went wrong? This is for you to work out:"
   ]
  },
  {
   "cell_type": "markdown",
   "metadata": {},
   "source": [
    "Let's print out the last element of an array, we did this before, but let's do it differently: What happens if I type the following?"
   ]
  },
  {
   "cell_type": "code",
   "execution_count": 13,
   "metadata": {},
   "outputs": [
    {
     "data": {
      "text/plain": [
       "6"
      ]
     },
     "execution_count": 13,
     "metadata": {},
     "output_type": "execute_result"
    }
   ],
   "source": [
    "my_second_array[-1]"
   ]
  },
  {
   "cell_type": "markdown",
   "metadata": {},
   "source": [
    "Python has some special in-built fast commands, enabling for various way of printing out elements in a list. Add some more elements in the list and print them out to see exactly how to play with such commands:"
   ]
  },
  {
   "cell_type": "code",
   "execution_count": 14,
   "metadata": {},
   "outputs": [
    {
     "data": {
      "text/plain": [
       "[1, 2, 3, 4, 5, 6, 9, 10, 6, 8, 7]"
      ]
     },
     "execution_count": 14,
     "metadata": {},
     "output_type": "execute_result"
    }
   ],
   "source": [
    "my_second_array.append(9)\n",
    "my_second_array.append(10)\n",
    "my_second_array.append(6)\n",
    "my_second_array.append(8)\n",
    "my_second_array.append(7)\n",
    "\n",
    "my_second_array"
   ]
  },
  {
   "cell_type": "markdown",
   "metadata": {},
   "source": [
    "Try the following commands:"
   ]
  },
  {
   "cell_type": "code",
   "execution_count": 15,
   "metadata": {},
   "outputs": [
    {
     "data": {
      "text/plain": [
       "[4, 5, 6, 9, 10, 6, 8, 7]"
      ]
     },
     "execution_count": 15,
     "metadata": {},
     "output_type": "execute_result"
    }
   ],
   "source": [
    "my_second_array[3:]"
   ]
  },
  {
   "cell_type": "code",
   "execution_count": 16,
   "metadata": {},
   "outputs": [
    {
     "data": {
      "text/plain": [
       "[1, 2, 3]"
      ]
     },
     "execution_count": 16,
     "metadata": {},
     "output_type": "execute_result"
    }
   ],
   "source": [
    "my_second_array[:3]"
   ]
  },
  {
   "cell_type": "code",
   "execution_count": 17,
   "metadata": {},
   "outputs": [
    {
     "data": {
      "text/plain": [
       "[10, 6, 8, 7]"
      ]
     },
     "execution_count": 17,
     "metadata": {},
     "output_type": "execute_result"
    }
   ],
   "source": [
    "my_second_array[-4:]"
   ]
  },
  {
   "cell_type": "code",
   "execution_count": 18,
   "metadata": {},
   "outputs": [
    {
     "data": {
      "text/plain": [
       "[1, 2, 3, 4, 5, 6, 9]"
      ]
     },
     "execution_count": 18,
     "metadata": {},
     "output_type": "execute_result"
    }
   ],
   "source": [
    "my_second_array[:-4]"
   ]
  },
  {
   "cell_type": "markdown",
   "metadata": {},
   "source": [
    "You can already see how easily we can print out elements"
   ]
  },
  {
   "cell_type": "markdown",
   "metadata": {},
   "source": [
    "Let us do some more simple exercises - but this time we also use the if conditional statement: Let us print only the even numbers. How to do this? Take the case of a single example:"
   ]
  },
  {
   "cell_type": "code",
   "execution_count": 19,
   "metadata": {},
   "outputs": [],
   "source": [
    "a = 3"
   ]
  },
  {
   "cell_type": "markdown",
   "metadata": {},
   "source": [
    "How to check if a is an odd element?"
   ]
  },
  {
   "cell_type": "code",
   "execution_count": 20,
   "metadata": {},
   "outputs": [
    {
     "name": "stdout",
     "output_type": "stream",
     "text": [
      "1\n"
     ]
    }
   ],
   "source": [
    "print(a%2)"
   ]
  },
  {
   "cell_type": "markdown",
   "metadata": {},
   "source": [
    "What if a=2?"
   ]
  },
  {
   "cell_type": "code",
   "execution_count": 21,
   "metadata": {},
   "outputs": [
    {
     "name": "stdout",
     "output_type": "stream",
     "text": [
      "0\n"
     ]
    }
   ],
   "source": [
    "a = 2\n",
    "print(a%2)"
   ]
  },
  {
   "cell_type": "markdown",
   "metadata": {},
   "source": [
    "Now let us try and print all the even elements using this additional if condition:"
   ]
  },
  {
   "cell_type": "code",
   "execution_count": 22,
   "metadata": {},
   "outputs": [
    {
     "name": "stdout",
     "output_type": "stream",
     "text": [
      "2\n",
      "4\n",
      "6\n",
      "10\n",
      "6\n",
      "8\n"
     ]
    }
   ],
   "source": [
    "for i in range(len(my_second_array)):\n",
    "    if(my_second_array[i] % 2 == 0):\n",
    "        print(my_second_array[i])"
   ]
  },
  {
   "cell_type": "markdown",
   "metadata": {},
   "source": [
    "Question: can you do it for the odd elements as well? Only one condition has to be changed:"
   ]
  },
  {
   "cell_type": "markdown",
   "metadata": {},
   "source": [
    "We have not used the while function so far, let's make use of it: print numbers in the array until you find a variable with value greater than 10."
   ]
  },
  {
   "cell_type": "code",
   "execution_count": 25,
   "metadata": {},
   "outputs": [
    {
     "name": "stdout",
     "output_type": "stream",
     "text": [
      "1 2 3 4 5 6 9 "
     ]
    }
   ],
   "source": [
    "i = 0\n",
    "\n",
    "while(my_second_array[i] < 10):\n",
    "    \n",
    "    print(my_second_array[i], end=' ')\n",
    "    i += 1"
   ]
  },
  {
   "cell_type": "markdown",
   "metadata": {},
   "source": [
    "#### Numbers"
   ]
  },
  {
   "cell_type": "markdown",
   "metadata": {},
   "source": [
    "Recall more on the basic arithmetic operations:"
   ]
  },
  {
   "cell_type": "code",
   "execution_count": 38,
   "metadata": {},
   "outputs": [
    {
     "name": "stdout",
     "output_type": "stream",
     "text": [
      "The result of dividig a to 10 is: 163745892.3\n",
      "The integer part of dividig a to 10 is: 163745892\n",
      "The remainder part of dividig a to 10 is: 3\n",
      "The remainder part of dividig a to 7 is: 2\n"
     ]
    }
   ],
   "source": [
    "a = 1637458923\n",
    "\n",
    "print(\"The result of dividing a to 10 is: \" + str(a/10))\n",
    "print(\"The integer part of dividing a to 10 is: \" + str(int(a/10)))\n",
    "print(\"The remainder part of dividing a to 10 is: \" + str(int(a%10)))\n",
    "print(\"The remainder part of dividing a to 7 is: \" + str(int(a%7)))"
   ]
  },
  {
   "cell_type": "markdown",
   "metadata": {},
   "source": [
    "Now let us take a number, and find its opposite. Example: take number 143762, and print out 267341. Do this, first of all, with a while function. Why while function? Because we do not know how many digits the number has, and there is no function for working out the length of a number:"
   ]
  },
  {
   "cell_type": "code",
   "execution_count": 30,
   "metadata": {},
   "outputs": [
    {
     "data": {
      "text/plain": [
       "6"
      ]
     },
     "execution_count": 30,
     "metadata": {},
     "output_type": "execute_result"
    }
   ],
   "source": [
    "n = 143762\n",
    "no_digits = 0\n",
    "\n",
    "while(n > 0):\n",
    "    no_digits += 1\n",
    "    n = int(n/10)\n",
    "\n",
    "no_digits"
   ]
  },
  {
   "cell_type": "markdown",
   "metadata": {},
   "source": [
    "The whole idea of the algorithm is to mark everytime the number is still greater than 0, by division through 10: In an example, the steps would look as it follows: 143762 $ -> $ 14376 $ -> $ 1437 $ -> $ 143 $ -> $ 14 $ -> $ 1 $ -> $ 0. These are indeed 7 steps. \n",
    "\n",
    "Now let us calculate the opposite of the number:"
   ]
  },
  {
   "cell_type": "code",
   "execution_count": 39,
   "metadata": {},
   "outputs": [
    {
     "name": "stdout",
     "output_type": "stream",
     "text": [
      "The opposite of the number is: 267341\n"
     ]
    }
   ],
   "source": [
    "n = 143762\n",
    "no_digits = 0\n",
    "aux = 0 # auxiliary variable, for calculating the opposite of the number\n",
    "\n",
    "while(n > 0):\n",
    "    aux = aux * 10 + n % 10\n",
    "    n = int(n/10)\n",
    "\n",
    "print(\"The opposite of the number is: \" + str(aux))"
   ]
  },
  {
   "cell_type": "markdown",
   "metadata": {},
   "source": [
    "Let us try another exercise, just with a very small addition: calculate the opposte of the number, but keep only the even digits: How would this change things?"
   ]
  },
  {
   "cell_type": "code",
   "execution_count": 40,
   "metadata": {},
   "outputs": [
    {
     "name": "stdout",
     "output_type": "stream",
     "text": [
      "The opposite of the number is, after filtering out the odd digits, is: 264\n"
     ]
    }
   ],
   "source": [
    "n = 143762\n",
    "aux = 0 # auxiliary variable, for calculating the opposite of the number\n",
    "\n",
    "while(n > 0):\n",
    "    if((n%10) % 2 == 0):\n",
    "        aux = aux * 10 + n % 10\n",
    "    n = int(n/10)\n",
    "\n",
    "print(\"The opposite of the number is, after filtering out the odd digits, is: \" + str(aux))"
   ]
  },
  {
   "cell_type": "markdown",
   "metadata": {},
   "source": [
    "This should look quite similar for keeping only the odd digits:"
   ]
  },
  {
   "cell_type": "code",
   "execution_count": 41,
   "metadata": {},
   "outputs": [
    {
     "name": "stdout",
     "output_type": "stream",
     "text": [
      "The opposite of the number is, after filtering out the odd digits, is: 731\n"
     ]
    }
   ],
   "source": [
    "n = 143762\n",
    "aux = 0 # auxiliary variable, for calculating the opposite of the number\n",
    "\n",
    "while(n > 0):\n",
    "    if((n%10) % 2 == 1):\n",
    "        aux = aux * 10 + n % 10\n",
    "    n = int(n/10)\n",
    "\n",
    "print(\"The opposite of the number is, after filtering out the odd digits, is: \" + str(aux))"
   ]
  },
  {
   "cell_type": "markdown",
   "metadata": {},
   "source": [
    "Actually let us make ourselves more familiar with the idea of functions, as they will be very useful, as we will see soon: define a function which just calculated the opposite of a number:"
   ]
  },
  {
   "cell_type": "code",
   "execution_count": 42,
   "metadata": {},
   "outputs": [
    {
     "name": "stdout",
     "output_type": "stream",
     "text": [
      "The opposite of the number is: 267341\n"
     ]
    }
   ],
   "source": [
    "def opposite_number(n):\n",
    "\n",
    "    aux = 0 # auxiliary variable, for calculating the opposite of the number\n",
    "\n",
    "    while(n > 0):\n",
    "        aux = aux * 10 + n % 10\n",
    "        n = int(n/10)\n",
    "\n",
    "    print(\"The opposite of the number is: \" + str(aux))\n",
    "    \n",
    "opposite_number(143762)"
   ]
  },
  {
   "cell_type": "markdown",
   "metadata": {},
   "source": [
    "Let us now take an array and print out the opposite of each element:"
   ]
  },
  {
   "cell_type": "code",
   "execution_count": 43,
   "metadata": {},
   "outputs": [
    {
     "name": "stdout",
     "output_type": "stream",
     "text": [
      "The opposite of the number is: 354\n",
      "The opposite of the number is: 52\n",
      "The opposite of the number is: 34652\n",
      "The opposite of the number is: 4652\n",
      "The opposite of the number is: 2689\n",
      "The opposite of the number is: 259723\n",
      "The opposite of the number is: 33609\n"
     ]
    }
   ],
   "source": [
    "arr = [453,25,25643,2564,9862,327952,90633]\n",
    "\n",
    "for i in range(len(arr)):\n",
    "    \n",
    "    opposite_number(arr[i])"
   ]
  },
  {
   "cell_type": "markdown",
   "metadata": {},
   "source": [
    "This is much quicker than implementing manually the function inside the loop. Moreover, we compute separate functions for the most important reason of keeping track of our code."
   ]
  },
  {
   "cell_type": "markdown",
   "metadata": {},
   "source": [
    "Now, let us use once again something we have been familiar with, and analyze it for a bit: decide whether a function is prime or not. We have done this before, so it should look pretty familiar, right? Let's have a look at it again:"
   ]
  },
  {
   "cell_type": "code",
   "execution_count": 47,
   "metadata": {},
   "outputs": [
    {
     "data": {
      "text/plain": [
       "1"
      ]
     },
     "execution_count": 47,
     "metadata": {},
     "output_type": "execute_result"
    }
   ],
   "source": [
    "import pdb\n",
    "\n",
    "def prime(n):    \n",
    "    #breakpoint()\n",
    "    ok = 1    \n",
    "    if(n == 1 or n == 0):\n",
    "        ok = 0   \n",
    "    for i in range (2,int(n/2)):\n",
    "        if(n % i == 0):\n",
    "            ok = 0            \n",
    "    return ok\n",
    "\n",
    "prime(37)"
   ]
  },
  {
   "cell_type": "markdown",
   "metadata": {},
   "source": [
    "What we would like to do is to analse this function for a bit: what it actually does is taking all the numbers from 2 to n/2 and check whether the number is prime or not. A variable called ok (change the name if you do not like it) changes its value for good if a divisor is found for the integer n. Debug the function to make sure of it (This is to be done in the class), do not panic, the library is aready imported for you. So, in theory, the function takes all the values from 2 to $ n/2 $ and checks the division of n by each number. As a consequence, the larger n is, the more time it will take for the algorithm to check if the number is prime or not. Moreover, it goes only once through the elements from 2 to $ n/2 $, so the growth is said to be linear.\n",
    "\n",
    "However, let us check this on computer as well, with the help of another library. <b> Note: </b> There are plenty of libraries in Python which help a lot in programming, from small tasks such as debugging or time checking, to complete image analysis, large scale animations, object classification and so on. These workshops will present you, in time, little by little, how vital these libraries are. We will actually witness this quite soon enough."
   ]
  },
  {
   "cell_type": "code",
   "execution_count": 48,
   "metadata": {},
   "outputs": [
    {
     "name": "stdout",
     "output_type": "stream",
     "text": [
      "The process took: 7.891654968261719e-05 seconds\n"
     ]
    }
   ],
   "source": [
    "import time as time\n",
    "\n",
    "t1 = time.time()\n",
    "\n",
    "prime(37)\n",
    "\n",
    "t2 = time.time()\n",
    "\n",
    "print(\"The process took: \" + str(t2 - t1) + \" seconds\")"
   ]
  },
  {
   "cell_type": "markdown",
   "metadata": {},
   "source": [
    "What we have just made above is to show the time taken by the computer to implement the algorithm "
   ]
  },
  {
   "cell_type": "markdown",
   "metadata": {},
   "source": [
    "Let us print the time executionof the algorithm for more numbers:"
   ]
  },
  {
   "cell_type": "code",
   "execution_count": 51,
   "metadata": {},
   "outputs": [
    {
     "name": "stdout",
     "output_type": "stream",
     "text": [
      "The process took: 6.198883056640625e-06 seconds\n",
      "The process took: 2.3603439331054688e-05 seconds\n",
      "The process took: 3.814697265625e-06 seconds\n",
      "The process took: 2.384185791015625e-06 seconds\n",
      "The process took: 4.0531158447265625e-06 seconds\n",
      "The process took: 2.384185791015625e-06 seconds\n",
      "The process took: 2.1457672119140625e-06 seconds\n",
      "The process took: 3.337860107421875e-06 seconds\n",
      "The process took: 1.9073486328125e-06 seconds\n",
      "The process took: 3.337860107421875e-06 seconds\n",
      "The process took: 2.6226043701171875e-06 seconds\n",
      "The process took: 1.9073486328125e-06 seconds\n",
      "The process took: 1.9073486328125e-06 seconds\n",
      "The process took: 1.9073486328125e-06 seconds\n",
      "The process took: 3.814697265625e-06 seconds\n",
      "The process took: 2.1457672119140625e-06 seconds\n",
      "The process took: 2.86102294921875e-06 seconds\n",
      "The process took: 2.1457672119140625e-06 seconds\n",
      "The process took: 2.384185791015625e-06 seconds\n",
      "The process took: 2.6226043701171875e-06 seconds\n",
      "The process took: 2.384185791015625e-06 seconds\n",
      "The process took: 2.1457672119140625e-06 seconds\n",
      "The process took: 2.86102294921875e-06 seconds\n",
      "The process took: 2.1457672119140625e-06 seconds\n",
      "The process took: 2.6226043701171875e-06 seconds\n",
      "The process took: 5.245208740234375e-06 seconds\n",
      "The process took: 3.337860107421875e-06 seconds\n",
      "The process took: 2.6226043701171875e-06 seconds\n",
      "The process took: 7.152557373046875e-06 seconds\n",
      "The process took: 3.337860107421875e-06 seconds\n",
      "The process took: 3.0994415283203125e-06 seconds\n",
      "The process took: 5.4836273193359375e-06 seconds\n",
      "The process took: 4.0531158447265625e-06 seconds\n",
      "The process took: 3.5762786865234375e-06 seconds\n",
      "The process took: 3.0994415283203125e-06 seconds\n",
      "The process took: 4.0531158447265625e-06 seconds\n",
      "The process took: 3.0994415283203125e-06 seconds\n",
      "The process took: 4.291534423828125e-06 seconds\n",
      "The process took: 3.0994415283203125e-06 seconds\n",
      "The process took: 4.5299530029296875e-06 seconds\n",
      "The process took: 3.5762786865234375e-06 seconds\n",
      "The process took: 2.86102294921875e-06 seconds\n",
      "The process took: 2.86102294921875e-06 seconds\n",
      "The process took: 2.86102294921875e-06 seconds\n",
      "The process took: 2.6226043701171875e-06 seconds\n",
      "The process took: 2.86102294921875e-06 seconds\n",
      "The process took: 5.0067901611328125e-06 seconds\n",
      "The process took: 2.6226043701171875e-06 seconds\n",
      "The process took: 5.0067901611328125e-06 seconds\n",
      "The process took: 2.86102294921875e-06 seconds\n",
      "The process took: 4.0531158447265625e-06 seconds\n",
      "The process took: 3.337860107421875e-06 seconds\n",
      "The process took: 3.0994415283203125e-06 seconds\n",
      "The process took: 2.6226043701171875e-06 seconds\n",
      "The process took: 4.0531158447265625e-06 seconds\n",
      "The process took: 3.0994415283203125e-06 seconds\n",
      "The process took: 4.0531158447265625e-06 seconds\n",
      "The process took: 3.814697265625e-06 seconds\n",
      "The process took: 3.5762786865234375e-06 seconds\n",
      "The process took: 2.86102294921875e-06 seconds\n",
      "The process took: 3.337860107421875e-06 seconds\n",
      "The process took: 3.814697265625e-06 seconds\n",
      "The process took: 3.337860107421875e-06 seconds\n",
      "The process took: 3.0994415283203125e-06 seconds\n",
      "The process took: 3.337860107421875e-06 seconds\n",
      "The process took: 3.5762786865234375e-06 seconds\n",
      "The process took: 7.62939453125e-06 seconds\n",
      "The process took: 3.814697265625e-06 seconds\n",
      "The process took: 3.5762786865234375e-06 seconds\n",
      "The process took: 3.0994415283203125e-06 seconds\n",
      "The process took: 6.9141387939453125e-06 seconds\n",
      "The process took: 6.4373016357421875e-06 seconds\n",
      "The process took: 3.5762786865234375e-06 seconds\n",
      "The process took: 3.5762786865234375e-06 seconds\n",
      "The process took: 3.337860107421875e-06 seconds\n",
      "The process took: 1.811981201171875e-05 seconds\n",
      "The process took: 5.7220458984375e-06 seconds\n",
      "The process took: 3.5762786865234375e-06 seconds\n",
      "The process took: 3.5762786865234375e-06 seconds\n",
      "The process took: 6.198883056640625e-06 seconds\n",
      "The process took: 4.291534423828125e-06 seconds\n",
      "The process took: 3.5762786865234375e-06 seconds\n",
      "The process took: 8.106231689453125e-06 seconds\n",
      "The process took: 4.291534423828125e-06 seconds\n",
      "The process took: 5.7220458984375e-06 seconds\n",
      "The process took: 7.3909759521484375e-06 seconds\n",
      "The process took: 5.9604644775390625e-06 seconds\n",
      "The process took: 4.291534423828125e-06 seconds\n",
      "The process took: 6.198883056640625e-06 seconds\n",
      "The process took: 3.5762786865234375e-06 seconds\n",
      "The process took: 3.5762786865234375e-06 seconds\n",
      "The process took: 4.0531158447265625e-06 seconds\n",
      "The process took: 3.814697265625e-06 seconds\n",
      "The process took: 4.0531158447265625e-06 seconds\n",
      "The process took: 4.5299530029296875e-06 seconds\n",
      "The process took: 6.4373016357421875e-06 seconds\n",
      "The process took: 4.5299530029296875e-06 seconds\n",
      "The process took: 4.0531158447265625e-06 seconds\n",
      "The process took: 4.291534423828125e-06 seconds\n",
      "The process took: 4.0531158447265625e-06 seconds\n",
      "The process took: 4.0531158447265625e-06 seconds\n",
      "The process took: 3.814697265625e-06 seconds\n",
      "The process took: 4.291534423828125e-06 seconds\n",
      "The process took: 4.5299530029296875e-06 seconds\n",
      "The process took: 4.5299530029296875e-06 seconds\n",
      "The process took: 4.0531158447265625e-06 seconds\n",
      "The process took: 4.5299530029296875e-06 seconds\n",
      "The process took: 4.5299530029296875e-06 seconds\n",
      "The process took: 5.0067901611328125e-06 seconds\n",
      "The process took: 4.5299530029296875e-06 seconds\n",
      "The process took: 1.049041748046875e-05 seconds\n",
      "The process took: 5.0067901611328125e-06 seconds\n",
      "The process took: 5.0067901611328125e-06 seconds\n",
      "The process took: 4.5299530029296875e-06 seconds\n",
      "The process took: 4.291534423828125e-06 seconds\n",
      "The process took: 4.291534423828125e-06 seconds\n",
      "The process took: 4.76837158203125e-06 seconds\n",
      "The process took: 5.245208740234375e-06 seconds\n",
      "The process took: 4.76837158203125e-06 seconds\n",
      "The process took: 4.76837158203125e-06 seconds\n",
      "The process took: 4.76837158203125e-06 seconds\n",
      "The process took: 4.76837158203125e-06 seconds\n",
      "The process took: 4.5299530029296875e-06 seconds\n",
      "The process took: 4.5299530029296875e-06 seconds\n",
      "The process took: 5.4836273193359375e-06 seconds\n",
      "The process took: 4.76837158203125e-06 seconds\n",
      "The process took: 5.0067901611328125e-06 seconds\n",
      "The process took: 4.76837158203125e-06 seconds\n",
      "The process took: 5.245208740234375e-06 seconds\n",
      "The process took: 4.76837158203125e-06 seconds\n",
      "The process took: 5.0067901611328125e-06 seconds\n",
      "The process took: 4.76837158203125e-06 seconds\n",
      "The process took: 4.76837158203125e-06 seconds\n",
      "The process took: 5.0067901611328125e-06 seconds\n",
      "The process took: 5.245208740234375e-06 seconds\n",
      "The process took: 5.4836273193359375e-06 seconds\n",
      "The process took: 5.0067901611328125e-06 seconds\n",
      "The process took: 4.5299530029296875e-06 seconds\n",
      "The process took: 5.4836273193359375e-06 seconds\n",
      "The process took: 5.245208740234375e-06 seconds\n",
      "The process took: 5.0067901611328125e-06 seconds\n",
      "The process took: 5.245208740234375e-06 seconds\n",
      "The process took: 1.2159347534179688e-05 seconds\n",
      "The process took: 6.198883056640625e-06 seconds\n",
      "The process took: 7.62939453125e-06 seconds\n",
      "The process took: 5.7220458984375e-06 seconds\n",
      "The process took: 9.059906005859375e-06 seconds\n",
      "The process took: 5.7220458984375e-06 seconds\n",
      "The process took: 5.7220458984375e-06 seconds\n",
      "The process took: 5.9604644775390625e-06 seconds\n",
      "The process took: 5.9604644775390625e-06 seconds\n",
      "The process took: 5.4836273193359375e-06 seconds\n",
      "The process took: 5.4836273193359375e-06 seconds\n",
      "The process took: 5.4836273193359375e-06 seconds\n",
      "The process took: 9.775161743164062e-06 seconds\n",
      "The process took: 6.198883056640625e-06 seconds\n",
      "The process took: 9.298324584960938e-06 seconds\n",
      "The process took: 6.9141387939453125e-06 seconds\n",
      "The process took: 5.9604644775390625e-06 seconds\n",
      "The process took: 5.245208740234375e-06 seconds\n",
      "The process took: 9.775161743164062e-06 seconds\n",
      "The process took: 9.775161743164062e-06 seconds\n",
      "The process took: 1.0251998901367188e-05 seconds\n",
      "The process took: 1.0013580322265625e-05 seconds\n",
      "The process took: 1.0728836059570312e-05 seconds\n",
      "The process took: 1.049041748046875e-05 seconds\n",
      "The process took: 1.1444091796875e-05 seconds\n",
      "The process took: 6.4373016357421875e-06 seconds\n",
      "The process took: 5.4836273193359375e-06 seconds\n",
      "The process took: 5.4836273193359375e-06 seconds\n",
      "The process took: 5.4836273193359375e-06 seconds\n",
      "The process took: 5.245208740234375e-06 seconds\n",
      "The process took: 5.4836273193359375e-06 seconds\n",
      "The process took: 5.9604644775390625e-06 seconds\n",
      "The process took: 5.7220458984375e-06 seconds\n",
      "The process took: 5.7220458984375e-06 seconds\n",
      "The process took: 5.7220458984375e-06 seconds\n",
      "The process took: 5.7220458984375e-06 seconds\n",
      "The process took: 6.198883056640625e-06 seconds\n",
      "The process took: 5.7220458984375e-06 seconds\n",
      "The process took: 1.049041748046875e-05 seconds\n",
      "The process took: 1.1205673217773438e-05 seconds\n",
      "The process took: 1.1444091796875e-05 seconds\n",
      "The process took: 1.1444091796875e-05 seconds\n",
      "The process took: 1.1682510375976562e-05 seconds\n",
      "The process took: 1.049041748046875e-05 seconds\n",
      "The process took: 1.2636184692382812e-05 seconds\n",
      "The process took: 6.9141387939453125e-06 seconds\n",
      "The process took: 5.9604644775390625e-06 seconds\n",
      "The process took: 5.7220458984375e-06 seconds\n",
      "The process took: 1.0967254638671875e-05 seconds\n",
      "The process took: 6.198883056640625e-06 seconds\n",
      "The process took: 5.7220458984375e-06 seconds\n",
      "The process took: 6.198883056640625e-06 seconds\n",
      "The process took: 6.198883056640625e-06 seconds\n",
      "The process took: 5.9604644775390625e-06 seconds\n",
      "The process took: 5.9604644775390625e-06 seconds\n",
      "The process took: 5.9604644775390625e-06 seconds\n",
      "The process took: 6.198883056640625e-06 seconds\n",
      "The process took: 6.198883056640625e-06 seconds\n",
      "The process took: 5.9604644775390625e-06 seconds\n",
      "The process took: 6.4373016357421875e-06 seconds\n",
      "The process took: 6.4373016357421875e-06 seconds\n",
      "The process took: 6.67572021484375e-06 seconds\n",
      "The process took: 5.9604644775390625e-06 seconds\n",
      "The process took: 6.198883056640625e-06 seconds\n",
      "The process took: 6.4373016357421875e-06 seconds\n",
      "The process took: 5.9604644775390625e-06 seconds\n",
      "The process took: 6.67572021484375e-06 seconds\n",
      "The process took: 6.4373016357421875e-06 seconds\n",
      "The process took: 6.4373016357421875e-06 seconds\n",
      "The process took: 6.4373016357421875e-06 seconds\n",
      "The process took: 6.4373016357421875e-06 seconds\n",
      "The process took: 6.4373016357421875e-06 seconds\n",
      "The process took: 6.67572021484375e-06 seconds\n",
      "The process took: 1.1682510375976562e-05 seconds\n",
      "The process took: 1.3113021850585938e-05 seconds\n",
      "The process took: 1.1920928955078125e-05 seconds\n",
      "The process took: 1.2636184692382812e-05 seconds\n",
      "The process took: 1.239776611328125e-05 seconds\n",
      "The process took: 1.3113021850585938e-05 seconds\n",
      "The process took: 1.3828277587890625e-05 seconds\n",
      "The process took: 1.239776611328125e-05 seconds\n",
      "The process took: 1.3113021850585938e-05 seconds\n",
      "The process took: 6.9141387939453125e-06 seconds\n",
      "The process took: 7.152557373046875e-06 seconds\n",
      "The process took: 7.152557373046875e-06 seconds\n",
      "The process took: 6.67572021484375e-06 seconds\n",
      "The process took: 6.9141387939453125e-06 seconds\n",
      "The process took: 6.9141387939453125e-06 seconds\n",
      "The process took: 7.152557373046875e-06 seconds\n",
      "The process took: 6.9141387939453125e-06 seconds\n",
      "The process took: 7.152557373046875e-06 seconds\n",
      "The process took: 6.9141387939453125e-06 seconds\n",
      "The process took: 6.9141387939453125e-06 seconds\n",
      "The process took: 6.9141387939453125e-06 seconds\n",
      "The process took: 7.3909759521484375e-06 seconds\n",
      "The process took: 6.9141387939453125e-06 seconds\n",
      "The process took: 7.3909759521484375e-06 seconds\n",
      "The process took: 6.9141387939453125e-06 seconds\n",
      "The process took: 7.152557373046875e-06 seconds\n",
      "The process took: 7.152557373046875e-06 seconds\n",
      "The process took: 7.152557373046875e-06 seconds\n",
      "The process took: 7.152557373046875e-06 seconds\n",
      "The process took: 7.62939453125e-06 seconds\n",
      "The process took: 1.2874603271484375e-05 seconds\n",
      "The process took: 1.3589859008789062e-05 seconds\n",
      "The process took: 1.33514404296875e-05 seconds\n",
      "The process took: 9.775161743164062e-06 seconds\n",
      "The process took: 7.62939453125e-06 seconds\n",
      "The process took: 7.867813110351562e-06 seconds\n",
      "The process took: 7.3909759521484375e-06 seconds\n",
      "The process took: 1.4066696166992188e-05 seconds\n",
      "The process took: 7.867813110351562e-06 seconds\n",
      "The process took: 7.867813110351562e-06 seconds\n",
      "The process took: 7.3909759521484375e-06 seconds\n",
      "The process took: 1.33514404296875e-05 seconds\n",
      "The process took: 1.33514404296875e-05 seconds\n",
      "The process took: 1.4066696166992188e-05 seconds\n",
      "The process took: 1.811981201171875e-05 seconds\n",
      "The process took: 3.3855438232421875e-05 seconds\n",
      "The process took: 8.821487426757812e-06 seconds\n",
      "The process took: 8.106231689453125e-06 seconds\n",
      "The process took: 7.867813110351562e-06 seconds\n",
      "The process took: 7.867813110351562e-06 seconds\n",
      "The process took: 7.867813110351562e-06 seconds\n",
      "The process took: 7.62939453125e-06 seconds\n",
      "The process took: 7.62939453125e-06 seconds\n",
      "The process took: 8.106231689453125e-06 seconds\n",
      "The process took: 7.62939453125e-06 seconds\n",
      "The process took: 8.344650268554688e-06 seconds\n",
      "The process took: 1.5020370483398438e-05 seconds\n",
      "The process took: 1.430511474609375e-05 seconds\n",
      "The process took: 1.52587890625e-05 seconds\n",
      "The process took: 1.0728836059570312e-05 seconds\n",
      "The process took: 8.821487426757812e-06 seconds\n",
      "The process took: 7.867813110351562e-06 seconds\n",
      "The process took: 8.344650268554688e-06 seconds\n",
      "The process took: 8.58306884765625e-06 seconds\n",
      "The process took: 8.106231689453125e-06 seconds\n",
      "The process took: 8.344650268554688e-06 seconds\n",
      "The process took: 1.5497207641601562e-05 seconds\n",
      "The process took: 1.4543533325195312e-05 seconds\n",
      "The process took: 1.5735626220703125e-05 seconds\n",
      "The process took: 1.52587890625e-05 seconds\n",
      "The process took: 9.298324584960938e-06 seconds\n",
      "The process took: 8.58306884765625e-06 seconds\n",
      "The process took: 8.106231689453125e-06 seconds\n",
      "The process took: 8.344650268554688e-06 seconds\n",
      "The process took: 8.344650268554688e-06 seconds\n",
      "The process took: 8.58306884765625e-06 seconds\n",
      "The process took: 8.344650268554688e-06 seconds\n",
      "The process took: 8.821487426757812e-06 seconds\n",
      "The process took: 8.58306884765625e-06 seconds\n",
      "The process took: 8.821487426757812e-06 seconds\n",
      "The process took: 8.344650268554688e-06 seconds\n",
      "The process took: 1.239776611328125e-05 seconds\n",
      "The process took: 9.5367431640625e-06 seconds\n",
      "The process took: 9.5367431640625e-06 seconds\n",
      "The process took: 1.3113021850585938e-05 seconds\n",
      "The process took: 9.298324584960938e-06 seconds\n",
      "The process took: 9.298324584960938e-06 seconds\n",
      "The process took: 1.3589859008789062e-05 seconds\n",
      "The process took: 1.049041748046875e-05 seconds\n",
      "The process took: 9.5367431640625e-06 seconds\n",
      "The process took: 1.2874603271484375e-05 seconds\n",
      "The process took: 1.0251998901367188e-05 seconds\n",
      "The process took: 9.059906005859375e-06 seconds\n",
      "The process took: 1.7881393432617188e-05 seconds\n",
      "The process took: 8.821487426757812e-06 seconds\n",
      "The process took: 9.775161743164062e-06 seconds\n",
      "The process took: 1.9311904907226562e-05 seconds\n",
      "The process took: 1.7881393432617188e-05 seconds\n",
      "The process took: 1.3589859008789062e-05 seconds\n",
      "The process took: 9.5367431640625e-06 seconds\n",
      "The process took: 1.9788742065429688e-05 seconds\n",
      "The process took: 1.7881393432617188e-05 seconds\n",
      "The process took: 1.049041748046875e-05 seconds\n",
      "The process took: 9.775161743164062e-06 seconds\n",
      "The process took: 9.298324584960938e-06 seconds\n",
      "The process took: 2.002716064453125e-05 seconds\n",
      "The process took: 1.5497207641601562e-05 seconds\n",
      "The process took: 1.049041748046875e-05 seconds\n",
      "The process took: 2.1696090698242188e-05 seconds\n",
      "The process took: 1.0251998901367188e-05 seconds\n",
      "The process took: 9.298324584960938e-06 seconds\n",
      "The process took: 9.5367431640625e-06 seconds\n",
      "The process took: 2.193450927734375e-05 seconds\n",
      "The process took: 1.8596649169921875e-05 seconds\n",
      "The process took: 1.9073486328125e-05 seconds\n",
      "The process took: 9.775161743164062e-06 seconds\n",
      "The process took: 9.775161743164062e-06 seconds\n",
      "The process took: 1.621246337890625e-05 seconds\n",
      "The process took: 1.0728836059570312e-05 seconds\n",
      "The process took: 1.049041748046875e-05 seconds\n",
      "The process took: 2.0742416381835938e-05 seconds\n",
      "The process took: 2.0265579223632812e-05 seconds\n",
      "The process took: 1.9550323486328125e-05 seconds\n",
      "The process took: 1.811981201171875e-05 seconds\n",
      "The process took: 9.775161743164062e-06 seconds\n",
      "The process took: 1.0728836059570312e-05 seconds\n",
      "The process took: 2.2172927856445312e-05 seconds\n",
      "The process took: 2.0265579223632812e-05 seconds\n",
      "The process took: 3.0040740966796875e-05 seconds\n",
      "The process took: 1.3828277587890625e-05 seconds\n",
      "The process took: 1.0967254638671875e-05 seconds\n",
      "The process took: 1.1444091796875e-05 seconds\n",
      "The process took: 1.0013580322265625e-05 seconds\n",
      "The process took: 1.2159347534179688e-05 seconds\n",
      "The process took: 1.049041748046875e-05 seconds\n",
      "The process took: 1.0251998901367188e-05 seconds\n",
      "The process took: 1.0013580322265625e-05 seconds\n",
      "The process took: 1.1444091796875e-05 seconds\n",
      "The process took: 1.1205673217773438e-05 seconds\n",
      "The process took: 1.0728836059570312e-05 seconds\n",
      "The process took: 1.0251998901367188e-05 seconds\n",
      "The process took: 9.5367431640625e-06 seconds\n",
      "The process took: 1.0013580322265625e-05 seconds\n",
      "The process took: 1.2159347534179688e-05 seconds\n",
      "The process took: 1.049041748046875e-05 seconds\n",
      "The process took: 1.1444091796875e-05 seconds\n",
      "The process took: 1.049041748046875e-05 seconds\n",
      "The process took: 1.1682510375976562e-05 seconds\n",
      "The process took: 1.049041748046875e-05 seconds\n",
      "The process took: 1.1682510375976562e-05 seconds\n",
      "The process took: 1.049041748046875e-05 seconds\n",
      "The process took: 1.239776611328125e-05 seconds\n",
      "The process took: 1.0728836059570312e-05 seconds\n",
      "The process took: 1.0967254638671875e-05 seconds\n",
      "The process took: 1.1444091796875e-05 seconds\n",
      "The process took: 1.0967254638671875e-05 seconds\n",
      "The process took: 1.33514404296875e-05 seconds\n",
      "The process took: 1.1205673217773438e-05 seconds\n",
      "The process took: 1.7404556274414062e-05 seconds\n",
      "The process took: 1.1682510375976562e-05 seconds\n",
      "The process took: 1.0728836059570312e-05 seconds\n",
      "The process took: 1.1920928955078125e-05 seconds\n",
      "The process took: 1.0728836059570312e-05 seconds\n",
      "The process took: 1.1205673217773438e-05 seconds\n",
      "The process took: 1.049041748046875e-05 seconds\n",
      "The process took: 1.049041748046875e-05 seconds\n",
      "The process took: 1.049041748046875e-05 seconds\n",
      "The process took: 1.1205673217773438e-05 seconds\n",
      "The process took: 1.2636184692382812e-05 seconds\n",
      "The process took: 1.0728836059570312e-05 seconds\n",
      "The process took: 1.2159347534179688e-05 seconds\n",
      "The process took: 1.52587890625e-05 seconds\n",
      "The process took: 1.0728836059570312e-05 seconds\n",
      "The process took: 1.2636184692382812e-05 seconds\n",
      "The process took: 1.0967254638671875e-05 seconds\n",
      "The process took: 1.2636184692382812e-05 seconds\n",
      "The process took: 1.0967254638671875e-05 seconds\n",
      "The process took: 1.2159347534179688e-05 seconds\n",
      "The process took: 1.1205673217773438e-05 seconds\n",
      "The process took: 1.1920928955078125e-05 seconds\n",
      "The process took: 1.1205673217773438e-05 seconds\n",
      "The process took: 1.239776611328125e-05 seconds\n",
      "The process took: 1.1205673217773438e-05 seconds\n",
      "The process took: 1.2159347534179688e-05 seconds\n",
      "The process took: 1.1205673217773438e-05 seconds\n",
      "The process took: 1.1682510375976562e-05 seconds\n",
      "The process took: 1.2874603271484375e-05 seconds\n",
      "The process took: 1.1444091796875e-05 seconds\n",
      "The process took: 1.2636184692382812e-05 seconds\n",
      "The process took: 1.1444091796875e-05 seconds\n",
      "The process took: 2.002716064453125e-05 seconds\n",
      "The process took: 1.2636184692382812e-05 seconds\n",
      "The process took: 1.1682510375976562e-05 seconds\n",
      "The process took: 2.384185791015625e-05 seconds\n",
      "The process took: 2.3603439331054688e-05 seconds\n",
      "The process took: 2.2411346435546875e-05 seconds\n",
      "The process took: 2.2649765014648438e-05 seconds\n",
      "The process took: 2.2649765014648438e-05 seconds\n",
      "The process took: 2.1219253540039062e-05 seconds\n",
      "The process took: 2.1219253540039062e-05 seconds\n",
      "The process took: 2.1457672119140625e-05 seconds\n",
      "The process took: 2.2411346435546875e-05 seconds\n",
      "The process took: 2.2172927856445312e-05 seconds\n",
      "The process took: 2.0265579223632812e-05 seconds\n",
      "The process took: 2.2172927856445312e-05 seconds\n",
      "The process took: 2.3603439331054688e-05 seconds\n",
      "The process took: 2.4318695068359375e-05 seconds\n",
      "The process took: 2.384185791015625e-05 seconds\n",
      "The process took: 2.384185791015625e-05 seconds\n",
      "The process took: 2.384185791015625e-05 seconds\n",
      "The process took: 2.288818359375e-05 seconds\n",
      "The process took: 4.0531158447265625e-05 seconds\n",
      "The process took: 1.3589859008789062e-05 seconds\n",
      "The process took: 1.1920928955078125e-05 seconds\n",
      "The process took: 1.1682510375976562e-05 seconds\n",
      "The process took: 1.2636184692382812e-05 seconds\n",
      "The process took: 1.7404556274414062e-05 seconds\n",
      "The process took: 1.430511474609375e-05 seconds\n",
      "The process took: 1.2874603271484375e-05 seconds\n",
      "The process took: 1.33514404296875e-05 seconds\n",
      "The process took: 1.2159347534179688e-05 seconds\n",
      "The process took: 1.33514404296875e-05 seconds\n",
      "The process took: 1.2159347534179688e-05 seconds\n",
      "The process took: 1.3113021850585938e-05 seconds\n",
      "The process took: 1.239776611328125e-05 seconds\n",
      "The process took: 1.7642974853515625e-05 seconds\n",
      "The process took: 1.5497207641601562e-05 seconds\n",
      "The process took: 1.33514404296875e-05 seconds\n",
      "The process took: 1.2159347534179688e-05 seconds\n",
      "The process took: 1.239776611328125e-05 seconds\n",
      "The process took: 1.1920928955078125e-05 seconds\n",
      "The process took: 1.7404556274414062e-05 seconds\n",
      "The process took: 1.2874603271484375e-05 seconds\n",
      "The process took: 1.4543533325195312e-05 seconds\n",
      "The process took: 1.239776611328125e-05 seconds\n",
      "The process took: 1.33514404296875e-05 seconds\n",
      "The process took: 1.2636184692382812e-05 seconds\n",
      "The process took: 1.5974044799804688e-05 seconds\n",
      "The process took: 1.5497207641601562e-05 seconds\n",
      "The process took: 2.3126602172851562e-05 seconds\n",
      "The process took: 2.3603439331054688e-05 seconds\n",
      "The process took: 1.7642974853515625e-05 seconds\n",
      "The process took: 1.2874603271484375e-05 seconds\n",
      "The process took: 1.4066696166992188e-05 seconds\n",
      "The process took: 1.3589859008789062e-05 seconds\n",
      "The process took: 2.4080276489257812e-05 seconds\n",
      "The process took: 1.239776611328125e-05 seconds\n",
      "The process took: 2.5987625122070312e-05 seconds\n",
      "The process took: 2.4318695068359375e-05 seconds\n",
      "The process took: 1.3113021850585938e-05 seconds\n",
      "The process took: 3.933906555175781e-05 seconds\n",
      "The process took: 1.7404556274414062e-05 seconds\n",
      "The process took: 1.5974044799804688e-05 seconds\n",
      "The process took: 1.52587890625e-05 seconds\n",
      "The process took: 1.2874603271484375e-05 seconds\n",
      "The process took: 1.4543533325195312e-05 seconds\n",
      "The process took: 2.574920654296875e-05 seconds\n",
      "The process took: 1.3589859008789062e-05 seconds\n",
      "The process took: 1.2874603271484375e-05 seconds\n",
      "The process took: 2.5987625122070312e-05 seconds\n",
      "The process took: 2.5033950805664062e-05 seconds\n",
      "The process took: 1.3828277587890625e-05 seconds\n",
      "The process took: 2.3126602172851562e-05 seconds\n",
      "The process took: 2.6702880859375e-05 seconds\n",
      "The process took: 2.47955322265625e-05 seconds\n",
      "The process took: 2.47955322265625e-05 seconds\n",
      "The process took: 2.7179718017578125e-05 seconds\n",
      "The process took: 2.4080276489257812e-05 seconds\n",
      "The process took: 2.7894973754882812e-05 seconds\n",
      "The process took: 2.7894973754882812e-05 seconds\n",
      "The process took: 1.430511474609375e-05 seconds\n",
      "The process took: 3.719329833984375e-05 seconds\n",
      "The process took: 2.574920654296875e-05 seconds\n",
      "The process took: 2.6941299438476562e-05 seconds\n",
      "The process took: 1.430511474609375e-05 seconds\n",
      "The process took: 3.0517578125e-05 seconds\n",
      "The process took: 2.384185791015625e-05 seconds\n",
      "The process took: 2.5987625122070312e-05 seconds\n",
      "The process took: 2.7418136596679688e-05 seconds\n",
      "The process took: 2.6702880859375e-05 seconds\n",
      "The process took: 1.9073486328125e-05 seconds\n",
      "The process took: 1.7404556274414062e-05 seconds\n",
      "The process took: 4.3392181396484375e-05 seconds\n",
      "The process took: 1.4543533325195312e-05 seconds\n",
      "The process took: 1.33514404296875e-05 seconds\n",
      "The process took: 1.5020370483398438e-05 seconds\n",
      "The process took: 1.3828277587890625e-05 seconds\n",
      "The process took: 4.1484832763671875e-05 seconds\n",
      "The process took: 1.5735626220703125e-05 seconds\n",
      "The process took: 4.935264587402344e-05 seconds\n",
      "The process took: 3.075599670410156e-05 seconds\n",
      "The process took: 8.130073547363281e-05 seconds\n",
      "The process took: 2.7418136596679688e-05 seconds\n",
      "The process took: 2.7894973754882812e-05 seconds\n",
      "The process took: 2.765655517578125e-05 seconds\n",
      "The process took: 2.6226043701171875e-05 seconds\n",
      "The process took: 2.6941299438476562e-05 seconds\n",
      "The process took: 2.6464462280273438e-05 seconds\n",
      "The process took: 1.52587890625e-05 seconds\n",
      "The process took: 1.4543533325195312e-05 seconds\n",
      "The process took: 2.5510787963867188e-05 seconds\n",
      "The process took: 1.52587890625e-05 seconds\n",
      "The process took: 1.4066696166992188e-05 seconds\n",
      "The process took: 2.5272369384765625e-05 seconds\n",
      "The process took: 1.4543533325195312e-05 seconds\n",
      "The process took: 2.0742416381835938e-05 seconds\n",
      "The process took: 1.621246337890625e-05 seconds\n",
      "The process took: 2.8848648071289062e-05 seconds\n",
      "The process took: 3.218650817871094e-05 seconds\n",
      "The process took: 1.5735626220703125e-05 seconds\n",
      "The process took: 2.6226043701171875e-05 seconds\n",
      "The process took: 1.5735626220703125e-05 seconds\n",
      "The process took: 1.4543533325195312e-05 seconds\n",
      "The process took: 2.09808349609375e-05 seconds\n",
      "The process took: 2.956390380859375e-05 seconds\n",
      "The process took: 1.5497207641601562e-05 seconds\n",
      "The process took: 3.075599670410156e-05 seconds\n",
      "The process took: 2.6941299438476562e-05 seconds\n",
      "The process took: 2.5510787963867188e-05 seconds\n",
      "The process took: 1.52587890625e-05 seconds\n",
      "The process took: 1.621246337890625e-05 seconds\n",
      "The process took: 2.6941299438476562e-05 seconds\n",
      "The process took: 3.886222839355469e-05 seconds\n",
      "The process took: 3.1948089599609375e-05 seconds\n",
      "The process took: 2.6941299438476562e-05 seconds\n",
      "The process took: 1.5497207641601562e-05 seconds\n",
      "The process took: 3.8623809814453125e-05 seconds\n",
      "The process took: 3.0517578125e-05 seconds\n",
      "The process took: 2.1696090698242188e-05 seconds\n",
      "The process took: 3.266334533691406e-05 seconds\n",
      "The process took: 1.6927719116210938e-05 seconds\n",
      "The process took: 1.52587890625e-05 seconds\n",
      "The process took: 1.5497207641601562e-05 seconds\n",
      "The process took: 3.62396240234375e-05 seconds\n",
      "The process took: 3.147125244140625e-05 seconds\n",
      "The process took: 3.1948089599609375e-05 seconds\n",
      "The process took: 1.71661376953125e-05 seconds\n",
      "The process took: 2.5510787963867188e-05 seconds\n",
      "The process took: 2.2411346435546875e-05 seconds\n",
      "The process took: 1.52587890625e-05 seconds\n",
      "The process took: 3.123283386230469e-05 seconds\n",
      "The process took: 3.147125244140625e-05 seconds\n",
      "The process took: 2.7179718017578125e-05 seconds\n",
      "The process took: 3.504753112792969e-05 seconds\n",
      "The process took: 1.6689300537109375e-05 seconds\n",
      "The process took: 1.6927719116210938e-05 seconds\n",
      "The process took: 1.6450881958007812e-05 seconds\n",
      "The process took: 1.6689300537109375e-05 seconds\n",
      "The process took: 1.52587890625e-05 seconds\n",
      "The process took: 1.52587890625e-05 seconds\n",
      "The process took: 1.6689300537109375e-05 seconds\n",
      "The process took: 1.5735626220703125e-05 seconds\n",
      "The process took: 1.52587890625e-05 seconds\n",
      "The process took: 1.5974044799804688e-05 seconds\n",
      "The process took: 1.5735626220703125e-05 seconds\n",
      "The process took: 1.5735626220703125e-05 seconds\n",
      "The process took: 1.6927719116210938e-05 seconds\n",
      "The process took: 1.621246337890625e-05 seconds\n",
      "The process took: 1.5735626220703125e-05 seconds\n",
      "The process took: 1.7404556274414062e-05 seconds\n",
      "The process took: 1.5735626220703125e-05 seconds\n",
      "The process took: 1.6689300537109375e-05 seconds\n",
      "The process took: 1.5974044799804688e-05 seconds\n",
      "The process took: 1.9311904907226562e-05 seconds\n",
      "The process took: 1.621246337890625e-05 seconds\n",
      "The process took: 1.71661376953125e-05 seconds\n",
      "The process took: 1.621246337890625e-05 seconds\n",
      "The process took: 1.6450881958007812e-05 seconds\n",
      "The process took: 1.6689300537109375e-05 seconds\n",
      "The process took: 1.7642974853515625e-05 seconds\n",
      "The process took: 1.5974044799804688e-05 seconds\n",
      "The process took: 1.6927719116210938e-05 seconds\n",
      "The process took: 1.5974044799804688e-05 seconds\n",
      "The process took: 2.0503997802734375e-05 seconds\n",
      "The process took: 1.9550323486328125e-05 seconds\n",
      "The process took: 1.71661376953125e-05 seconds\n",
      "The process took: 1.621246337890625e-05 seconds\n",
      "The process took: 1.7881393432617188e-05 seconds\n",
      "The process took: 1.6689300537109375e-05 seconds\n",
      "The process took: 1.621246337890625e-05 seconds\n",
      "The process took: 1.9550323486328125e-05 seconds\n",
      "The process took: 1.811981201171875e-05 seconds\n",
      "The process took: 1.621246337890625e-05 seconds\n",
      "The process took: 1.811981201171875e-05 seconds\n",
      "The process took: 1.6450881958007812e-05 seconds\n",
      "The process took: 1.6927719116210938e-05 seconds\n",
      "The process took: 1.6689300537109375e-05 seconds\n",
      "The process took: 1.6450881958007812e-05 seconds\n",
      "The process took: 1.6450881958007812e-05 seconds\n",
      "The process took: 1.6450881958007812e-05 seconds\n",
      "The process took: 1.621246337890625e-05 seconds\n",
      "The process took: 1.6927719116210938e-05 seconds\n",
      "The process took: 1.6689300537109375e-05 seconds\n",
      "The process took: 1.6927719116210938e-05 seconds\n",
      "The process took: 1.6689300537109375e-05 seconds\n",
      "The process took: 1.7404556274414062e-05 seconds\n",
      "The process took: 1.6450881958007812e-05 seconds\n",
      "The process took: 1.621246337890625e-05 seconds\n",
      "The process took: 1.6927719116210938e-05 seconds\n",
      "The process took: 1.71661376953125e-05 seconds\n",
      "The process took: 1.6450881958007812e-05 seconds\n",
      "The process took: 1.6927719116210938e-05 seconds\n",
      "The process took: 1.6689300537109375e-05 seconds\n",
      "The process took: 1.71661376953125e-05 seconds\n",
      "The process took: 1.6927719116210938e-05 seconds\n",
      "The process took: 1.6689300537109375e-05 seconds\n",
      "The process took: 1.6927719116210938e-05 seconds\n",
      "The process took: 3.0517578125e-05 seconds\n",
      "The process took: 1.71661376953125e-05 seconds\n",
      "The process took: 1.6689300537109375e-05 seconds\n",
      "The process took: 1.71661376953125e-05 seconds\n",
      "The process took: 1.8358230590820312e-05 seconds\n",
      "The process took: 2.4080276489257812e-05 seconds\n",
      "The process took: 1.8358230590820312e-05 seconds\n",
      "The process took: 1.6927719116210938e-05 seconds\n",
      "The process took: 1.7404556274414062e-05 seconds\n",
      "The process took: 1.71661376953125e-05 seconds\n",
      "The process took: 1.6927719116210938e-05 seconds\n",
      "The process took: 1.71661376953125e-05 seconds\n",
      "The process took: 1.7642974853515625e-05 seconds\n",
      "The process took: 1.7404556274414062e-05 seconds\n",
      "The process took: 1.7404556274414062e-05 seconds\n",
      "The process took: 1.7404556274414062e-05 seconds\n",
      "The process took: 1.7881393432617188e-05 seconds\n",
      "The process took: 1.6927719116210938e-05 seconds\n",
      "The process took: 1.7642974853515625e-05 seconds\n",
      "The process took: 1.71661376953125e-05 seconds\n",
      "The process took: 1.7881393432617188e-05 seconds\n",
      "The process took: 1.7642974853515625e-05 seconds\n",
      "The process took: 1.7642974853515625e-05 seconds\n",
      "The process took: 1.71661376953125e-05 seconds\n",
      "The process took: 1.8358230590820312e-05 seconds\n",
      "The process took: 1.7404556274414062e-05 seconds\n",
      "The process took: 1.7881393432617188e-05 seconds\n",
      "The process took: 1.7881393432617188e-05 seconds\n",
      "The process took: 1.7642974853515625e-05 seconds\n",
      "The process took: 1.7404556274414062e-05 seconds\n",
      "The process took: 1.7881393432617188e-05 seconds\n",
      "The process took: 1.7881393432617188e-05 seconds\n",
      "The process took: 1.9788742065429688e-05 seconds\n",
      "The process took: 1.811981201171875e-05 seconds\n",
      "The process took: 1.8596649169921875e-05 seconds\n",
      "The process took: 1.7881393432617188e-05 seconds\n",
      "The process took: 1.9073486328125e-05 seconds\n",
      "The process took: 1.7642974853515625e-05 seconds\n",
      "The process took: 1.811981201171875e-05 seconds\n",
      "The process took: 3.337860107421875e-05 seconds\n",
      "The process took: 2.0503997802734375e-05 seconds\n",
      "The process took: 1.9073486328125e-05 seconds\n",
      "The process took: 2.3603439331054688e-05 seconds\n",
      "The process took: 4.2438507080078125e-05 seconds\n",
      "The process took: 4.00543212890625e-05 seconds\n",
      "The process took: 3.814697265625e-05 seconds\n",
      "The process took: 3.504753112792969e-05 seconds\n",
      "The process took: 2.002716064453125e-05 seconds\n",
      "The process took: 2.002716064453125e-05 seconds\n",
      "The process took: 3.647804260253906e-05 seconds\n",
      "The process took: 3.981590270996094e-05 seconds\n",
      "The process took: 3.528594970703125e-05 seconds\n",
      "The process took: 4.124641418457031e-05 seconds\n",
      "The process took: 4.100799560546875e-05 seconds\n",
      "The process took: 4.076957702636719e-05 seconds\n",
      "The process took: 4.172325134277344e-05 seconds\n",
      "The process took: 3.4332275390625e-05 seconds\n",
      "The process took: 3.7670135498046875e-05 seconds\n",
      "The process took: 3.933906555175781e-05 seconds\n",
      "The process took: 5.793571472167969e-05 seconds\n",
      "The process took: 3.7670135498046875e-05 seconds\n",
      "The process took: 3.719329833984375e-05 seconds\n",
      "The process took: 4.029273986816406e-05 seconds\n",
      "The process took: 3.600120544433594e-05 seconds\n",
      "The process took: 4.029273986816406e-05 seconds\n",
      "The process took: 3.719329833984375e-05 seconds\n",
      "The process took: 3.981590270996094e-05 seconds\n",
      "The process took: 3.62396240234375e-05 seconds\n",
      "The process took: 4.4345855712890625e-05 seconds\n",
      "The process took: 5.793571472167969e-05 seconds\n",
      "The process took: 4.458427429199219e-05 seconds\n",
      "The process took: 3.814697265625e-05 seconds\n",
      "The process took: 4.458427429199219e-05 seconds\n",
      "The process took: 4.291534423828125e-05 seconds\n",
      "The process took: 4.410743713378906e-05 seconds\n",
      "The process took: 3.314018249511719e-05 seconds\n",
      "The process took: 4.124641418457031e-05 seconds\n",
      "The process took: 1.9788742065429688e-05 seconds\n",
      "The process took: 2.5987625122070312e-05 seconds\n",
      "The process took: 1.9550323486328125e-05 seconds\n",
      "The process took: 2.002716064453125e-05 seconds\n",
      "The process took: 2.4557113647460938e-05 seconds\n",
      "The process took: 2.47955322265625e-05 seconds\n",
      "The process took: 2.0742416381835938e-05 seconds\n",
      "The process took: 2.0503997802734375e-05 seconds\n",
      "The process took: 2.002716064453125e-05 seconds\n",
      "The process took: 2.002716064453125e-05 seconds\n",
      "The process took: 1.9550323486328125e-05 seconds\n",
      "The process took: 1.9550323486328125e-05 seconds\n",
      "The process took: 1.9550323486328125e-05 seconds\n",
      "The process took: 2.4557113647460938e-05 seconds\n",
      "The process took: 2.0742416381835938e-05 seconds\n",
      "The process took: 2.8133392333984375e-05 seconds\n",
      "The process took: 2.002716064453125e-05 seconds\n",
      "The process took: 2.4557113647460938e-05 seconds\n",
      "The process took: 3.6716461181640625e-05 seconds\n",
      "The process took: 2.1696090698242188e-05 seconds\n",
      "The process took: 2.002716064453125e-05 seconds\n",
      "The process took: 1.9788742065429688e-05 seconds\n",
      "The process took: 2.002716064453125e-05 seconds\n",
      "The process took: 1.9788742065429688e-05 seconds\n",
      "The process took: 2.002716064453125e-05 seconds\n",
      "The process took: 2.0503997802734375e-05 seconds\n",
      "The process took: 1.9788742065429688e-05 seconds\n",
      "The process took: 2.0742416381835938e-05 seconds\n",
      "The process took: 2.002716064453125e-05 seconds\n",
      "The process took: 3.62396240234375e-05 seconds\n",
      "The process took: 2.1457672119140625e-05 seconds\n",
      "The process took: 2.1219253540039062e-05 seconds\n",
      "The process took: 2.002716064453125e-05 seconds\n",
      "The process took: 2.002716064453125e-05 seconds\n",
      "The process took: 2.0742416381835938e-05 seconds\n",
      "The process took: 3.075599670410156e-05 seconds\n",
      "The process took: 4.00543212890625e-05 seconds\n",
      "The process took: 2.09808349609375e-05 seconds\n",
      "The process took: 2.0503997802734375e-05 seconds\n",
      "The process took: 2.0742416381835938e-05 seconds\n",
      "The process took: 3.743171691894531e-05 seconds\n",
      "The process took: 3.7670135498046875e-05 seconds\n",
      "The process took: 2.288818359375e-05 seconds\n",
      "The process took: 2.193450927734375e-05 seconds\n",
      "The process took: 2.0265579223632812e-05 seconds\n",
      "The process took: 2.0503997802734375e-05 seconds\n",
      "The process took: 3.790855407714844e-05 seconds\n",
      "The process took: 2.1457672119140625e-05 seconds\n",
      "The process took: 2.0503997802734375e-05 seconds\n",
      "The process took: 3.0994415283203125e-05 seconds\n",
      "The process took: 5.698204040527344e-05 seconds\n",
      "The process took: 2.3365020751953125e-05 seconds\n",
      "The process took: 3.886222839355469e-05 seconds\n",
      "The process took: 3.910064697265625e-05 seconds\n",
      "The process took: 4.8160552978515625e-05 seconds\n",
      "The process took: 9.632110595703125e-05 seconds\n",
      "The process took: 4.267692565917969e-05 seconds\n",
      "The process took: 4.410743713378906e-05 seconds\n",
      "The process took: 4.124641418457031e-05 seconds\n",
      "The process took: 3.1948089599609375e-05 seconds\n",
      "The process took: 2.1219253540039062e-05 seconds\n",
      "The process took: 2.1219253540039062e-05 seconds\n",
      "The process took: 2.0742416381835938e-05 seconds\n",
      "The process took: 2.1219253540039062e-05 seconds\n",
      "The process took: 2.1219253540039062e-05 seconds\n",
      "The process took: 2.09808349609375e-05 seconds\n",
      "The process took: 2.09808349609375e-05 seconds\n",
      "The process took: 2.1457672119140625e-05 seconds\n",
      "The process took: 2.0742416381835938e-05 seconds\n",
      "The process took: 2.193450927734375e-05 seconds\n",
      "The process took: 2.86102294921875e-05 seconds\n",
      "The process took: 6.175041198730469e-05 seconds\n",
      "The process took: 8.177757263183594e-05 seconds\n",
      "The process took: 3.4809112548828125e-05 seconds\n",
      "The process took: 2.2172927856445312e-05 seconds\n",
      "The process took: 2.1696090698242188e-05 seconds\n",
      "The process took: 4.0531158447265625e-05 seconds\n",
      "The process took: 2.9325485229492188e-05 seconds\n",
      "The process took: 2.1457672119140625e-05 seconds\n",
      "The process took: 2.288818359375e-05 seconds\n",
      "The process took: 2.1457672119140625e-05 seconds\n",
      "The process took: 2.193450927734375e-05 seconds\n",
      "The process took: 2.1696090698242188e-05 seconds\n",
      "The process took: 2.2172927856445312e-05 seconds\n",
      "The process took: 2.1457672119140625e-05 seconds\n",
      "The process took: 2.193450927734375e-05 seconds\n",
      "The process took: 2.1696090698242188e-05 seconds\n",
      "The process took: 2.193450927734375e-05 seconds\n",
      "The process took: 2.1696090698242188e-05 seconds\n",
      "The process took: 2.2172927856445312e-05 seconds\n",
      "The process took: 2.1696090698242188e-05 seconds\n",
      "The process took: 2.2649765014648438e-05 seconds\n",
      "The process took: 2.1696090698242188e-05 seconds\n",
      "The process took: 9.560585021972656e-05 seconds\n",
      "The process took: 2.5033950805664062e-05 seconds\n",
      "The process took: 2.6702880859375e-05 seconds\n",
      "The process took: 5.269050598144531e-05 seconds\n",
      "The process took: 4.8160552978515625e-05 seconds\n",
      "The process took: 2.384185791015625e-05 seconds\n",
      "The process took: 2.6702880859375e-05 seconds\n",
      "The process took: 2.4080276489257812e-05 seconds\n",
      "The process took: 2.2649765014648438e-05 seconds\n",
      "The process took: 2.4080276489257812e-05 seconds\n",
      "The process took: 2.3365020751953125e-05 seconds\n",
      "The process took: 2.2411346435546875e-05 seconds\n",
      "The process took: 2.2649765014648438e-05 seconds\n",
      "The process took: 2.2172927856445312e-05 seconds\n",
      "The process took: 3.314018249511719e-05 seconds\n",
      "The process took: 2.288818359375e-05 seconds\n",
      "The process took: 2.3126602172851562e-05 seconds\n",
      "The process took: 2.193450927734375e-05 seconds\n",
      "The process took: 2.3126602172851562e-05 seconds\n",
      "The process took: 2.288818359375e-05 seconds\n",
      "The process took: 2.288818359375e-05 seconds\n",
      "The process took: 2.2411346435546875e-05 seconds\n",
      "The process took: 2.3603439331054688e-05 seconds\n",
      "The process took: 2.2411346435546875e-05 seconds\n",
      "The process took: 2.2649765014648438e-05 seconds\n",
      "The process took: 2.3126602172851562e-05 seconds\n",
      "The process took: 2.3126602172851562e-05 seconds\n",
      "The process took: 6.4849853515625e-05 seconds\n",
      "The process took: 2.7894973754882812e-05 seconds\n",
      "The process took: 2.384185791015625e-05 seconds\n",
      "The process took: 2.4080276489257812e-05 seconds\n",
      "The process took: 3.6716461181640625e-05 seconds\n",
      "The process took: 2.7418136596679688e-05 seconds\n",
      "The process took: 2.3603439331054688e-05 seconds\n",
      "The process took: 2.4318695068359375e-05 seconds\n",
      "The process took: 2.288818359375e-05 seconds\n",
      "The process took: 2.5510787963867188e-05 seconds\n",
      "The process took: 2.3603439331054688e-05 seconds\n",
      "The process took: 2.47955322265625e-05 seconds\n",
      "The process took: 2.3365020751953125e-05 seconds\n",
      "The process took: 2.4318695068359375e-05 seconds\n",
      "The process took: 2.47955322265625e-05 seconds\n",
      "The process took: 2.5272369384765625e-05 seconds\n",
      "The process took: 2.3603439331054688e-05 seconds\n",
      "The process took: 2.47955322265625e-05 seconds\n",
      "The process took: 2.3603439331054688e-05 seconds\n",
      "The process took: 2.5033950805664062e-05 seconds\n",
      "The process took: 2.3603439331054688e-05 seconds\n",
      "The process took: 2.574920654296875e-05 seconds\n",
      "The process took: 2.384185791015625e-05 seconds\n",
      "The process took: 2.5987625122070312e-05 seconds\n",
      "The process took: 2.5033950805664062e-05 seconds\n",
      "The process took: 2.5272369384765625e-05 seconds\n",
      "The process took: 2.4080276489257812e-05 seconds\n",
      "The process took: 2.4557113647460938e-05 seconds\n",
      "The process took: 2.574920654296875e-05 seconds\n",
      "The process took: 2.47955322265625e-05 seconds\n",
      "The process took: 2.384185791015625e-05 seconds\n",
      "The process took: 3.123283386230469e-05 seconds\n",
      "The process took: 2.5510787963867188e-05 seconds\n",
      "The process took: 2.5272369384765625e-05 seconds\n",
      "The process took: 2.5272369384765625e-05 seconds\n",
      "The process took: 2.5272369384765625e-05 seconds\n",
      "The process took: 2.3603439331054688e-05 seconds\n",
      "The process took: 2.4557113647460938e-05 seconds\n",
      "The process took: 4.1961669921875e-05 seconds\n",
      "The process took: 3.3855438232421875e-05 seconds\n",
      "The process took: 2.4318695068359375e-05 seconds\n",
      "The process took: 7.152557373046875e-05 seconds\n",
      "The process took: 4.1961669921875e-05 seconds\n",
      "The process took: 2.6702880859375e-05 seconds\n",
      "The process took: 2.4318695068359375e-05 seconds\n",
      "The process took: 2.8848648071289062e-05 seconds\n",
      "The process took: 2.5272369384765625e-05 seconds\n",
      "The process took: 2.9087066650390625e-05 seconds\n",
      "The process took: 2.5272369384765625e-05 seconds\n",
      "The process took: 2.6464462280273438e-05 seconds\n",
      "The process took: 2.9087066650390625e-05 seconds\n",
      "The process took: 2.6464462280273438e-05 seconds\n",
      "The process took: 2.9802322387695312e-05 seconds\n",
      "The process took: 2.5272369384765625e-05 seconds\n",
      "The process took: 2.5272369384765625e-05 seconds\n",
      "The process took: 2.5510787963867188e-05 seconds\n",
      "The process took: 2.4318695068359375e-05 seconds\n",
      "The process took: 2.47955322265625e-05 seconds\n",
      "The process took: 2.8133392333984375e-05 seconds\n",
      "The process took: 3.0517578125e-05 seconds\n",
      "The process took: 2.4557113647460938e-05 seconds\n",
      "The process took: 3.719329833984375e-05 seconds\n",
      "The process took: 2.5033950805664062e-05 seconds\n",
      "The process took: 5.793571472167969e-05 seconds\n",
      "The process took: 3.0279159545898438e-05 seconds\n",
      "The process took: 3.123283386230469e-05 seconds\n",
      "The process took: 2.47955322265625e-05 seconds\n",
      "The process took: 2.5987625122070312e-05 seconds\n",
      "The process took: 2.47955322265625e-05 seconds\n",
      "The process took: 3.337860107421875e-05 seconds\n",
      "The process took: 3.0279159545898438e-05 seconds\n",
      "The process took: 5.459785461425781e-05 seconds\n",
      "The process took: 6.413459777832031e-05 seconds\n",
      "The process took: 5.1021575927734375e-05 seconds\n",
      "The process took: 2.5987625122070312e-05 seconds\n",
      "The process took: 2.6464462280273438e-05 seconds\n",
      "The process took: 2.5272369384765625e-05 seconds\n",
      "The process took: 2.5272369384765625e-05 seconds\n",
      "The process took: 2.5510787963867188e-05 seconds\n",
      "The process took: 4.363059997558594e-05 seconds\n",
      "The process took: 2.5987625122070312e-05 seconds\n",
      "The process took: 3.0279159545898438e-05 seconds\n",
      "The process took: 2.6702880859375e-05 seconds\n",
      "The process took: 2.6226043701171875e-05 seconds\n",
      "The process took: 3.4809112548828125e-05 seconds\n",
      "The process took: 2.7179718017578125e-05 seconds\n",
      "The process took: 2.9087066650390625e-05 seconds\n",
      "The process took: 2.7418136596679688e-05 seconds\n",
      "The process took: 2.6226043701171875e-05 seconds\n",
      "The process took: 2.6941299438476562e-05 seconds\n",
      "The process took: 2.574920654296875e-05 seconds\n",
      "The process took: 2.6941299438476562e-05 seconds\n",
      "The process took: 2.574920654296875e-05 seconds\n",
      "The process took: 5.2928924560546875e-05 seconds\n",
      "The process took: 9.274482727050781e-05 seconds\n",
      "The process took: 2.8133392333984375e-05 seconds\n",
      "The process took: 5.412101745605469e-05 seconds\n",
      "The process took: 3.933906555175781e-05 seconds\n",
      "The process took: 2.6941299438476562e-05 seconds\n",
      "The process took: 5.6743621826171875e-05 seconds\n",
      "The process took: 2.86102294921875e-05 seconds\n",
      "The process took: 2.6941299438476562e-05 seconds\n",
      "The process took: 2.6226043701171875e-05 seconds\n",
      "The process took: 5.8650970458984375e-05 seconds\n",
      "The process took: 2.86102294921875e-05 seconds\n",
      "The process took: 3.218650817871094e-05 seconds\n",
      "The process took: 6.771087646484375e-05 seconds\n",
      "The process took: 2.956390380859375e-05 seconds\n",
      "The process took: 2.6702880859375e-05 seconds\n",
      "The process took: 4.506111145019531e-05 seconds\n",
      "The process took: 2.6941299438476562e-05 seconds\n",
      "The process took: 3.266334533691406e-05 seconds\n",
      "The process took: 2.7418136596679688e-05 seconds\n",
      "The process took: 2.6702880859375e-05 seconds\n",
      "The process took: 2.6941299438476562e-05 seconds\n",
      "The process took: 5.698204040527344e-05 seconds\n",
      "The process took: 5.507469177246094e-05 seconds\n",
      "The process took: 4.458427429199219e-05 seconds\n",
      "The process took: 5.245208740234375e-05 seconds\n",
      "The process took: 5.507469177246094e-05 seconds\n",
      "The process took: 4.696846008300781e-05 seconds\n",
      "The process took: 7.200241088867188e-05 seconds\n",
      "The process took: 5.459785461425781e-05 seconds\n",
      "The process took: 5.364418029785156e-05 seconds\n",
      "The process took: 5.435943603515625e-05 seconds\n",
      "The process took: 3.0040740966796875e-05 seconds\n",
      "The process took: 2.6702880859375e-05 seconds\n",
      "The process took: 2.7894973754882812e-05 seconds\n",
      "The process took: 5.340576171875e-05 seconds\n",
      "The process took: 3.0279159545898438e-05 seconds\n",
      "The process took: 6.318092346191406e-05 seconds\n",
      "The process took: 3.0517578125e-05 seconds\n",
      "The process took: 6.365776062011719e-05 seconds\n",
      "The process took: 5.602836608886719e-05 seconds\n",
      "The process took: 0.00017905235290527344 seconds\n",
      "The process took: 2.9802322387695312e-05 seconds\n",
      "The process took: 2.765655517578125e-05 seconds\n",
      "The process took: 4.0531158447265625e-05 seconds\n",
      "The process took: 3.266334533691406e-05 seconds\n",
      "The process took: 3.0040740966796875e-05 seconds\n",
      "The process took: 6.175041198730469e-05 seconds\n",
      "The process took: 3.528594970703125e-05 seconds\n",
      "The process took: 6.127357482910156e-05 seconds\n",
      "The process took: 6.651878356933594e-05 seconds\n",
      "The process took: 3.266334533691406e-05 seconds\n",
      "The process took: 3.266334533691406e-05 seconds\n",
      "The process took: 3.552436828613281e-05 seconds\n",
      "The process took: 3.2901763916015625e-05 seconds\n",
      "The process took: 3.218650817871094e-05 seconds\n",
      "The process took: 3.266334533691406e-05 seconds\n",
      "The process took: 0.00011038780212402344 seconds\n",
      "The process took: 5.412101745605469e-05 seconds\n",
      "The process took: 2.9087066650390625e-05 seconds\n",
      "The process took: 5.626678466796875e-05 seconds\n",
      "The process took: 2.9325485229492188e-05 seconds\n",
      "The process took: 3.170967102050781e-05 seconds\n",
      "The process took: 2.8133392333984375e-05 seconds\n",
      "The process took: 3.0279159545898438e-05 seconds\n",
      "The process took: 3.743171691894531e-05 seconds\n",
      "The process took: 3.266334533691406e-05 seconds\n",
      "The process took: 3.123283386230469e-05 seconds\n",
      "The process took: 2.9087066650390625e-05 seconds\n",
      "The process took: 2.7894973754882812e-05 seconds\n",
      "The process took: 3.0517578125e-05 seconds\n",
      "The process took: 2.8133392333984375e-05 seconds\n",
      "The process took: 2.8371810913085938e-05 seconds\n",
      "The process took: 2.8133392333984375e-05 seconds\n",
      "The process took: 3.147125244140625e-05 seconds\n",
      "The process took: 2.8371810913085938e-05 seconds\n",
      "The process took: 5.602836608886719e-05 seconds\n",
      "The process took: 2.956390380859375e-05 seconds\n",
      "The process took: 4.7206878662109375e-05 seconds\n",
      "The process took: 2.9087066650390625e-05 seconds\n",
      "The process took: 2.86102294921875e-05 seconds\n",
      "The process took: 5.4836273193359375e-05 seconds\n",
      "The process took: 7.915496826171875e-05 seconds\n",
      "The process took: 2.9802322387695312e-05 seconds\n",
      "The process took: 5.245208740234375e-05 seconds\n",
      "The process took: 5.7697296142578125e-05 seconds\n"
     ]
    }
   ],
   "source": [
    "for n in range(2,1000):\n",
    "    \n",
    "    t1 = time.time()\n",
    "    prime(n)\n",
    "    t2 = time.time()\n",
    "    print(\"The process took: \" + str(t2 - t1) + \" seconds\")"
   ]
  },
  {
   "cell_type": "markdown",
   "metadata": {},
   "source": [
    "Change the n from 100 to 1000 to see the results...however, they are all in print out standard format. However, we would like a much more clear visualization. We would like to <b> see </b> how much it has taken for the computer to implement at each step the algorithm. For this, we will use more libraries:"
   ]
  },
  {
   "cell_type": "code",
   "execution_count": 56,
   "metadata": {},
   "outputs": [
    {
     "data": {
      "image/png": "[encoded data removed]",
      "text/plain": [
       "<Figure size 432x288 with 1 Axes>"
      ]
     },
     "metadata": {
      "needs_background": "light"
     },
     "output_type": "display_data"
    }
   ],
   "source": [
    "import numpy as np\n",
    "import matplotlib.pyplot as plt\n",
    "\n",
    "N_numbers = np.linspace(0,1000,1000)\n",
    "T_time = np.zeros(1000)\n",
    "\n",
    "for i in range(len(N_numbers)):\n",
    "    t1 = time.time()\n",
    "    prime(N_numbers[i])\n",
    "    t2 = time.time()\n",
    "    T_time[i] = t2 - t1\n",
    "    \n",
    "plt.scatter(N_numbers, T_time)\n",
    "plt.title(\"Algorithm complexity\")\n",
    "plt.xlabel(\"variable control N\")\n",
    "plt.ylabel(\"execution time t(s)\")\n",
    "plt.show()"
   ]
  },
  {
   "cell_type": "markdown",
   "metadata": {},
   "source": [
    "<b> Analysis question: </b> Can you witness a linear increase in the execution time as N increases? This is exactly how we predicted in the hypothesis, as the variable i inside the loop takes all the values from 2 to $ N/2 $. This is but a poor example from a field in computer science which is called <b> Complexity analysis of algorithms: </b> study the rate of increase of time execution as function of the number of variables involved. In this case, the growth is linear, but in other cases, the growth can be logarithmic, exponential, quadratic, etc... We will see more examples and analyze them. <b> Question: </b> Why are some points so up in the graph?"
   ]
  },
  {
   "cell_type": "markdown",
   "metadata": {},
   "source": [
    "<b> Library notes: </b> Numpy is by far the most popular library from Python. It creates arrays of numbers which, among other special properties, can be plotted and visualized. This is done with the matplotlib library, a derivative of Numpy. We will encounter them more times, and analyze properly the differences between them and normal arrays, but all will be done in time."
   ]
  },
  {
   "cell_type": "code",
   "execution_count": null,
   "metadata": {},
   "outputs": [],
   "source": []
  }
 ],
 "metadata": {
  "kernelspec": {
   "display_name": "Python 3",
   "language": "python",
   "name": "python3"
  },
  "language_info": {
   "codemirror_mode": {
    "name": "ipython",
    "version": 3
   },
   "file_extension": ".py",
   "mimetype": "text/x-python",
   "name": "python",
   "nbconvert_exporter": "python",
   "pygments_lexer": "ipython3",
   "version": "3.7.6"
  }
 },
 "nbformat": 4,
 "nbformat_minor": 4
}
