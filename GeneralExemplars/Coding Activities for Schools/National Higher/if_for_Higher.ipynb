{
 "cells": [
  {
   "cell_type": "markdown",
   "metadata": {},
   "source": [
    "![Noteable.ac.uk Banner](https://github.com/jstix/mr-noteable/blob/master/Banner%20image/1500x500.jfif?raw=true)"
   ]
  },
  {
   "cell_type": "markdown",
   "metadata": {},
   "source": [
    "# If and for statements "
   ]
  },
  {
   "cell_type": "markdown",
   "metadata": {},
   "source": [
    "<div class = \"alert alert-block alert-info\">\n",
    "    In <b> blue</b>, the <b> instructions </b> and <b> goals </b> are highlighted.\n",
    "</div>"
   ]
  },
  {
   "cell_type": "markdown",
   "metadata": {},
   "source": [
    "<div class = \"alert alert-block alert-success\">\n",
    "    In <b> green</b>, the <b> information </b> is highlighted.\n",
    "</div>"
   ]
  },
  {
   "cell_type": "markdown",
   "metadata": {},
   "source": [
    "<div class = \"alert alert-block alert-warning\">\n",
    "    In <b> yellow</b>, the <b> exercises </b> are highlighted.\n",
    "</div>"
   ]
  },
  {
   "cell_type": "markdown",
   "metadata": {},
   "source": [
    "<div class = \"alert alert-block alert-danger\">\n",
    "    In <b> red</b>, the <b> error </b> and <b> alert messages </b> are highlighted.\n",
    "</div>"
   ]
  },
  {
   "cell_type": "markdown",
   "metadata": {},
   "source": [
    "## Instructions"
   ]
  },
  {
   "cell_type": "markdown",
   "metadata": {},
   "source": [
    "<div class = \"alert alert-block alert-info\">\n",
    "    Click <b> Run </b> on each cell to go through the code in each cell. This will take you through the cell and print out the results. \n",
    "    If you wish to see all the outputs at once in the whole notebook, just click <b> Cell </b> and then <b> Run All. </b>\n",
    "    </div>"
   ]
  },
  {
   "cell_type": "markdown",
   "metadata": {},
   "source": [
    "## Goals"
   ]
  },
  {
   "cell_type": "markdown",
   "metadata": {},
   "source": [
    "<div class = \"alert alert-block alert-info\">\n",
    "After this workshop, the student should get more familiar with the following topics: <br> \n",
    "<ul>\n",
    "    <li> printing basic statements and commands in Jupyter Notebook</li>\n",
    "    <li> performing basic arithmetic calculations in Python</li>\n",
    "    <li> improving an existent model of the code</li>\n",
    "    <li> recognizing and checking variable types in Python </li>\n",
    "    <li> using the <b> if </b> and <b> for </b> statements for basic operations </li>\n",
    "    <li> working with <b> prime numbers </b> and writing <b> functions </b> in computer science </li>\n",
    "</ul>\n",
    "    \n",
    "<b> These objectives are in agreement with the Higher Scottish Curriculum for high-school students. </b>\n",
    "  \n",
    "</div>"
   ]
  },
  {
   "cell_type": "markdown",
   "metadata": {},
   "source": [
    "## Note"
   ]
  },
  {
   "cell_type": "markdown",
   "metadata": {},
   "source": [
    "<div class = \"alert alert-block alert-danger\">\n",
    "    This notebook is a <b> revision </b> of the concepts met in the Nat 3, Nat 4 and Nat 5 notebooks. If you feel uncomfortable with the exercises met here, go back to the previous notebooks and make sure you understand the notions.\n",
    "    </div>"
   ]
  },
  {
   "cell_type": "markdown",
   "metadata": {},
   "source": [
    "## Explore"
   ]
  },
  {
   "cell_type": "markdown",
   "metadata": {},
   "source": [
    "### Conditional if statement..."
   ]
  },
  {
   "cell_type": "markdown",
   "metadata": {},
   "source": [
    "<div class = \"alert alert-block alert-success\">\n",
    "Welcome to another session on the Jupyter Notebooks!! Today we will have a better look to the if statement and work with the for condition...we will take them one by one! Let us begin with a revision of if statement. As the name suggests, this instruction is used when only a certain condition is met:\n",
    "    </div>"
   ]
  },
  {
   "cell_type": "markdown",
   "metadata": {},
   "source": [
    "<div class = \"alert alert-block alert-warning\">\n",
    "    <b> Exercise: </b> Take a variable a and check whether it is even or odd\n",
    "    </div>"
   ]
  },
  {
   "cell_type": "code",
   "execution_count": null,
   "metadata": {},
   "outputs": [],
   "source": [
    "# Write your own code here"
   ]
  },
  {
   "cell_type": "markdown",
   "metadata": {},
   "source": [
    "<div class = \"alert alert-block alert-warning\">\n",
    "    <b> Exercise: </b> Check whether a number has one, two or three digits. For the beginning, just use an <b> if </b>, an <b> elif </b> and an <b> else </b> condition:\n",
    "    </div>"
   ]
  },
  {
   "cell_type": "code",
   "execution_count": null,
   "metadata": {},
   "outputs": [],
   "source": [
    "# Write your own code here"
   ]
  },
  {
   "cell_type": "markdown",
   "metadata": {},
   "source": [
    "<div class = \"alert alert-block alert-warning\">\n",
    "    <b> Exercise: </b> For the above code, try it with some numbers and see what happens. On your model, try using a float number. <b> Note: </b>If the code still works, it means you have already predicted the next step of the notebook:\n",
    "    </div>"
   ]
  },
  {
   "cell_type": "markdown",
   "metadata": {},
   "source": [
    "<div class = \"alert alert-block alert-danger\">\n",
    "    <b> Note: </b>If the code has printed error, it is because you only considered integer numbers, and not floaitng point numbers in our code. \n",
    "    </div>"
   ]
  },
  {
   "cell_type": "markdown",
   "metadata": {},
   "source": [
    "<div class = \"alert alert-block alert-warning\">\n",
    "    <b> Exercise: </b> Inspect the code on the cell below, and check what happens when you run it. \n",
    "    </div>"
   ]
  },
  {
   "cell_type": "code",
   "execution_count": null,
   "metadata": {},
   "outputs": [],
   "source": [
    "if(a != int(a)):\n",
    "    print(\"You need to plug in an integer number\")\n",
    "    \n",
    "if(0 < a < 10):\n",
    "    print(\"Integer a has only one digit\")\n",
    "elif(10 < a < 99):\n",
    "    print(\"Integer a has two digits\")\n",
    "else:\n",
    "    print(\"Integer a has three digits\")"
   ]
  },
  {
   "cell_type": "markdown",
   "metadata": {},
   "source": [
    "<div class = \"alert alert-block alert-warning\">\n",
    "    <b> Exercise: </b> Convince yourself that the whole expression could be rewritten as follows:\n",
    "    </div>"
   ]
  },
  {
   "cell_type": "code",
   "execution_count": null,
   "metadata": {},
   "outputs": [],
   "source": [
    "if(a != int(a)):\n",
    "    print(\"You need to plug in an integer number\")\n",
    "\n",
    "else:  \n",
    "    if(0 < a < 10):\n",
    "        print(\"Integer a has only one digit\")\n",
    "    elif(10 < a < 99):\n",
    "        print(\"Integer a has two digits\")\n",
    "    else:\n",
    "        print(\"Integer a has three digits\")"
   ]
  },
  {
   "cell_type": "markdown",
   "metadata": {},
   "source": [
    "<div class = \"alert alert-block alert-warning\">\n",
    "    <b> Exercise: </b> Can you try and add more conditions for this problem? <b> Hint: </b> There is no correct answer here. The exercise is up to your imagination\n",
    "    </div>"
   ]
  },
  {
   "cell_type": "code",
   "execution_count": null,
   "metadata": {},
   "outputs": [],
   "source": [
    "# Write your own code here"
   ]
  },
  {
   "cell_type": "markdown",
   "metadata": {},
   "source": [
    "<div class = \"alert alert-block alert-warning\">\n",
    "    <b> Exercise: </b> Take a number and check if the number is divisible either by two or five:\n",
    "</div>"
   ]
  },
  {
   "cell_type": "code",
   "execution_count": null,
   "metadata": {},
   "outputs": [],
   "source": [
    "# Write your own code here"
   ]
  },
  {
   "cell_type": "markdown",
   "metadata": {},
   "source": [
    "<div class = \"alert alert-block alert-warning\">\n",
    "<b> Exercise: </b> We will approach, now, a new type of problem. Let us check whether a number is <b> primes</b>, or not. <b> Recall</b>, first of all, what is a prime number.\n",
    "    </div>"
   ]
  },
  {
   "cell_type": "markdown",
   "metadata": {},
   "source": [
    "<div class = \"alert alert-block alert-success\">\n",
    "    After the revision you have conducted on prime numbers, how can we instruct the computer to check if a number is prime or not? We should take <b> each integer </b> smaller than the number in question, and check <b> if </b> the division gives <b> zero </b> remainder. <b> Note: </b> you can already witness the key words corresponding to <b> for </b> and <b> if </b> statements.\n",
    "    </div>"
   ]
  },
  {
   "cell_type": "markdown",
   "metadata": {},
   "source": [
    "<div class = \"alert alert-block alert-warning\">\n",
    "    <b> Exercise: </b> <b> Inspect </b> the code lines below, <b> debate </b> this with your colleagues, and run the cell:\n",
    "    </div>"
   ]
  },
  {
   "cell_type": "code",
   "execution_count": 5,
   "metadata": {},
   "outputs": [],
   "source": [
    "ok = True # boolean variable to check if the number is prime or not. \n",
    "          # if ok is True, then the number is prime\n",
    "N = 28    # the variable of interest to be analysed\n",
    "\n",
    "for i in range(2,N): # take all the numbers from 2 to N\n",
    "    if(N % i == 0):  # check if the division is exact\n",
    "        ok = False   # the number is no longer prime"
   ]
  },
  {
   "cell_type": "markdown",
   "metadata": {},
   "source": [
    "<div class = \"alert alert-block alert-success\">\n",
    "    <b> Exercise: </b> Now, the computer has already <b> assigned </b> a value to the boolean variable <b> ok </b>. We want to check <b> whether </b> it is equal to <b> True</b>, or <b> False</b>.\n",
    "    </div>"
   ]
  },
  {
   "cell_type": "code",
   "execution_count": 6,
   "metadata": {},
   "outputs": [
    {
     "name": "stdout",
     "output_type": "stream",
     "text": [
      "The number 28 is not prime\n"
     ]
    }
   ],
   "source": [
    "if(ok == 1):\n",
    "    print(\"The number \" + str(N) + \" is prime\")\n",
    "else:\n",
    "    print(\"The number \" + str(N) + \" is not prime\")"
   ]
  },
  {
   "cell_type": "markdown",
   "metadata": {},
   "source": [
    "<div class = \"alert alert-block alert-warning\">\n",
    "    <b> Predict: </b> What happens if I put the loop from 1 to N? <b> Discuss </b> the idea with your peers and <b> Predict </b> the outcome. Afterwards, just <b> replace </b> 2 with 1 in the code and <b> check </b> the results.\n",
    "    </div>"
   ]
  },
  {
   "cell_type": "markdown",
   "metadata": {},
   "source": [
    "<div class = \"alert alert-block alert-danger\">\n",
    "    <b> Any </b> number is divisible by 1, so all the numbers will be considered <b> prime</b>.\n",
    "    </div>"
   ]
  },
  {
   "cell_type": "markdown",
   "metadata": {},
   "source": [
    "<div class = \"alert alert-block alert-warning\">\n",
    "    <b> Predict: </b> How can I <b> increase </b> the performance of the algorithm described above? How many steps are made (how many variables are there from $ 2 $ to $ N $)? Do I really need to check if, for example, 38 is a multiple of 37, 36, or 29? <b> Is there an integer which is divisible by a number greater than its half in the set of natural numbers? </b> One variable has to be changed in the code above, in order to increase the performance of the algorithm (so that fewer steps have to be made in order to achieve the same valid result)\n",
    "    </div>"
   ]
  },
  {
   "cell_type": "code",
   "execution_count": null,
   "metadata": {},
   "outputs": [],
   "source": [
    "# Write your own code here"
   ]
  },
  {
   "cell_type": "markdown",
   "metadata": {},
   "source": [
    "<div class = \"alert alert-block alert-warning\">\n",
    "<b> Let's play a game: </b> How well do you know your classmates? Talk to each other if you have not done it so far, work out what each person enjoys, and try to make a loop with the habits of your friends. It can look like the example below, but feel free to also come up with examples of your own. </div>"
   ]
  },
  {
   "cell_type": "code",
   "execution_count": null,
   "metadata": {},
   "outputs": [],
   "source": [
    "for i in range(3):\n",
    "    print(input(\"The name of my friend is: \"))\n",
    "    print(input(\"His/her favourite game is: \"))\n",
    "    print(input(\"His/her favourite holiday place is: \"))"
   ]
  },
  {
   "cell_type": "markdown",
   "metadata": {},
   "source": [
    "<div class = \"alert alert-block alert-warning\">\n",
    "    <b> Exercise: </b> Add the following condition to the game: if the name of the person is the same as your name, print: <b> \"Wooah!!\" </b>. You can also add another condition here: for instance, does the person have another name? You can <b> choose </b> whether to use the <b> elif </b> statement or not. Once again, <b> There is no correct answer to this exercise, the whole point is for you to get more familiarized with coding</b>.\n",
    "</div>"
   ]
  },
  {
   "cell_type": "markdown",
   "metadata": {},
   "source": [
    "## Take-away"
   ]
  },
  {
   "cell_type": "markdown",
   "metadata": {},
   "source": [
    "<div class = \"alert alert-block alert-success\">\n",
    "This is it for today, and well done for managing to go through the material!! <br> <br> After this session, you should be more familiar with how simple sentences, numbers and conditional statements can be printed in Python. Moreover, ponder a bit on the for instruction, as it is heavily used in programming. Also, feel free to work more on this notebook using any commands you would like. <br> <br>\n",
    "<b> Note: </b> Always keep a back-up of the notebook, in case the original one is altered. <br><br>\n",
    "For today's session, this should be enough! See you later!!\n",
    "    </div>"
   ]
  },
  {
   "cell_type": "code",
   "execution_count": null,
   "metadata": {},
   "outputs": [],
   "source": [
    "print(\"Bye bye! :D\")"
   ]
  },
  {
   "cell_type": "markdown",
   "metadata": {},
   "source": [
    "![Noteable license](https://github.com/jstix/mr-noteable/blob/master/Banner%20image/Screenshot%202021-03-05%20115453.png?raw=true)"
   ]
  },
  {
   "cell_type": "code",
   "execution_count": null,
   "metadata": {},
   "outputs": [],
   "source": []
  }
 ],
 "metadata": {
  "kernelspec": {
   "display_name": "Python 3",
   "language": "python",
   "name": "python3"
  },
  "language_info": {
   "codemirror_mode": {
    "name": "ipython",
    "version": 3
   },
   "file_extension": ".py",
   "mimetype": "text/x-python",
   "name": "python",
   "nbconvert_exporter": "python",
   "pygments_lexer": "ipython3",
   "version": "3.7.6"
  }
 },
 "nbformat": 4,
 "nbformat_minor": 4
}
