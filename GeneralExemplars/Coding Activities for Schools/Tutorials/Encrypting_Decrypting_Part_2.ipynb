{
 "cells": [
  {
   "cell_type": "markdown",
   "metadata": {},
   "source": [
    "![Noteable.ac.uk Banner](https://github.com/jstix/mr-noteable/blob/master/Banner%20image/1500x500.jfif?raw=true)"
   ]
  },
  {
   "cell_type": "markdown",
   "metadata": {},
   "source": [
    "# Encryption and decryption - Part 2"
   ]
  },
  {
   "cell_type": "markdown",
   "metadata": {},
   "source": [
    "## Legend"
   ]
  },
  {
   "cell_type": "markdown",
   "metadata": {},
   "source": [
    "<div class = \"alert alert-block alert-info\">\n",
    "    In <b> blue</b>, the <b> instructions </b> and <b> goals </b> are highlighted.\n",
    "</div>"
   ]
  },
  {
   "cell_type": "markdown",
   "metadata": {},
   "source": [
    "<div class = \"alert alert-block alert-success\">\n",
    "    In <b> green</b>, the <b> information </b> is highlighted.\n",
    "</div>"
   ]
  },
  {
   "cell_type": "markdown",
   "metadata": {},
   "source": [
    "<div class = \"alert alert-block alert-warning\">\n",
    "    In <b> yellow</b>, the <b> exercises </b> are highlighted.\n",
    "</div>"
   ]
  },
  {
   "cell_type": "markdown",
   "metadata": {},
   "source": [
    "<div class = \"alert alert-block alert-danger\">\n",
    "    In <b> red</b>, the <b> error </b> and <b> alert messages </b> are highlighted.\n",
    "</div>"
   ]
  },
  {
   "cell_type": "markdown",
   "metadata": {},
   "source": [
    "## Instructions"
   ]
  },
  {
   "cell_type": "markdown",
   "metadata": {},
   "source": [
    "<div class = \"alert alert-block alert-info\">\n",
    "<ul>\n",
    "    <li> Click <b> Run </b> on each cell to go through the code in each cell. This will take you through the cell and print out the results. </li>\n",
    "    <li> If you wish to see all the outputs at once in the whole notebook, just click <b> Cell </b> and then <b> Run All</b>. </li>\n",
    "    </ul>\n",
    "</div>"
   ]
  },
  {
   "cell_type": "markdown",
   "metadata": {},
   "source": [
    "## Goals"
   ]
  },
  {
   "cell_type": "markdown",
   "metadata": {},
   "source": [
    "<div class = \"alert alert-block alert-info\">\n",
    "After this workshop, the student should get more familiar with the following topics: <br> \n",
    "<ul>\n",
    "    <li> printing basic statements and commands in Jupyter Notebook</li>\n",
    "    <li> performing basic arithmetic calculations in Python</li>\n",
    "    <li> improving an existent model of the code</li>\n",
    "    <li> recognizing and checking variable types in Python </li>\n",
    "    <li> using the <b> if </b> and <b> for </b> statements for basic operations </li>\n",
    "    <li> applying functions for better visualization of the code </li>\n",
    "    <li> using strings in Python and learning about the ASCII Table </li>\n",
    "    <li> applying Encryption and Decryption techniques for encoding information </li>\n",
    "    <li> increasig awareness in cyber-security </li>\n",
    "</ul>\n",
    "    \n",
    "<b> These objectives are in agreement with the National 3, National 4, National 5, Higher and Advanced Higher Scottish Curriculum for high-school students. </b> <br> <br> <b> Note: </b> For most of the workshop, the student will be given some coding examples. In some cases, the student will have to code himself/herself. The coding part is optional, but highly recommended to approach. \n",
    "  \n",
    "</div>"
   ]
  },
  {
   "cell_type": "markdown",
   "metadata": {},
   "source": [
    "## Explore"
   ]
  },
  {
   "cell_type": "markdown",
   "metadata": {},
   "source": [
    "<div class = \"alert alert-block alert-info\">\n",
    "Welcome to a new Python session for familiarization with the Jupyter Notebooks. This time, we will concentrate on <b> encrypting </b> and <b> decrypting </b> data. On a simpler language, this notebook is for you to get more familiarized with ways of sending a hidden message or code, and deciphering it. \n",
    "\n",
    "We certainly will not crack the Enigma code like Alan Turing after only one session, nor will we be Robert Langdon to \n",
    "search hidden scripts in the Vatican library. We will get, however, more familiar with some cryptic methods:\n",
    "    </div>"
   ]
  },
  {
   "cell_type": "markdown",
   "metadata": {},
   "source": [
    "<div class = \"alert alert-block alert-warning\">\n",
    "    <b> Exercise: </b> Last time, we shifted all the characters with 1 position on the Latin Alphabet. However, let us advance a bit on the difficulty scale, and shift all the characters with a given i position - we can shift them either by 2,3, or any number of units on the Latin Alphabet. <b> Check </b> the code below:\n",
    "    </div>"
   ]
  },
  {
   "cell_type": "code",
   "execution_count": null,
   "metadata": {},
   "outputs": [],
   "source": [
    "def go_forward(s, i):\n",
    "    \n",
    "    test_string = []\n",
    "    separator = ','\n",
    "    \n",
    "#    for element in new_string:\n",
    "    for element in s:\n",
    "        test_string.append(chr(ord(element) + i))\n",
    "        \n",
    "    return ''.join(test_string)"
   ]
  },
  {
   "cell_type": "code",
   "execution_count": null,
   "metadata": {},
   "outputs": [],
   "source": [
    "go_forward(test_0,2)"
   ]
  },
  {
   "cell_type": "markdown",
   "metadata": {},
   "source": [
    "<div class = \"alert alert-block alert-success\">\n",
    "Try it as many times as you want to convince yourselves that every time the output is astonishingly different than the previous\n",
    "one. If we want, now, to make the message <b>impossible</b> to recover (to the point that anytime I run the same function I get\n",
    "different results and the original text would be lost for good), we can work with the random function from the numpy library. Again, there are not too many modifications to make:\n",
    "    </div>"
   ]
  },
  {
   "cell_type": "code",
   "execution_count": null,
   "metadata": {},
   "outputs": [],
   "source": [
    "import numpy as np\n",
    "\n",
    "def change_string(s):\n",
    "    \n",
    "    test_string = []\n",
    "    separator = ','\n",
    "    \n",
    "    for element in s:\n",
    "        i = np.random.randint(5)\n",
    "        test_string.append(chr(ord(element) + i))\n",
    "        \n",
    "    return ''.join(test_string)"
   ]
  },
  {
   "cell_type": "markdown",
   "metadata": {},
   "source": [
    "Try now with the given input:"
   ]
  },
  {
   "cell_type": "code",
   "execution_count": null,
   "metadata": {},
   "outputs": [],
   "source": [
    "change_string(test_0)"
   ]
  },
  {
   "cell_type": "markdown",
   "metadata": {},
   "source": [
    "### A moment of some analysis (optional, does not enter the CS exam)"
   ]
  },
  {
   "cell_type": "markdown",
   "metadata": {},
   "source": [
    "<div class = \"alert alert-block alert-warning\">\n",
    "<b> Question: </b> What are the chances of getting the same text after the function has been run? Well, let's check the length of the string. This string is too huge, so to get a clearer idea on the chances of getting anything like it again, let's do the maths on the smaller string\n",
    "    </div>"
   ]
  },
  {
   "cell_type": "code",
   "execution_count": null,
   "metadata": {},
   "outputs": [],
   "source": [
    "len(new_string) # Ironically, the old string: It is very nice outside"
   ]
  },
  {
   "cell_type": "markdown",
   "metadata": {},
   "source": [
    "<div class = \"alert alert-block alert-success\">\n",
    "So there are 23 characters in the string; In order to get the same text after applying the function, we need i=0 for all the characters. However, for random.randint(5) there are 5 possible choices ${0,1,2,3,4}$ (Type help(np.random.randint()) to convince yourselves). As a result, there are 23 digits, each of them having accsess to 5 possibe choices, so there will be, as a result, $5^{23}$ possible outputs. Only one is favourable: $i=0$ everywhere, so the chances of getting this result from one shot are $p = 5^{-23}$, meaning $0.00000000....$ already a number too small. To get the same string as before from more trials, you would need roughly $\\frac {1}{p} = 5^{23}$ seconds. How far is this? To give you a scale, imagine we double the length of the string, so after applying the same function, the expected number of trials to get the same answer is $5^{46} = 10^{23}$, each of them taking one second, if we are quick. As a reference frame, the age of Universe is of roughly $3 * 10^{17}$ seconds, so we wait until you reach the age of Universe and 1,000,000 times more!!! This clearly cannot happen, so it is astonishingly unlikely to ever get the same string ever again.\n",
    "\n",
    "Only from a string of reasonable length, we can get astonishingly high numbers with some basic operations...This is what encryption and decryption deal with (and generally computer science), in reducing the number of cases to be analysed. \n",
    "    </div>"
   ]
  },
  {
   "cell_type": "markdown",
   "metadata": {},
   "source": [
    "### Back to the exercises"
   ]
  },
  {
   "cell_type": "markdown",
   "metadata": {},
   "source": [
    "<div class = \"alert alert-block alert-warning\">\n",
    "    <b> Exercise: </b>OK, we played with some ways of encoding a message, but what about decoding it? As an example, we encoded a to b, b to c, c to d, and so on..but now we want b to go back to a, c to go back to b, et cetera...How do we do it? Well, we will just go the other way around, using again the ASCII code. Just to convince yourselves of the way to go, a little exercise is shown below:\n",
    "    </div>"
   ]
  },
  {
   "cell_type": "code",
   "execution_count": null,
   "metadata": {},
   "outputs": [],
   "source": [
    "chr(ord('b')-1)"
   ]
  },
  {
   "cell_type": "markdown",
   "metadata": {},
   "source": [
    "The same procedure is applied for all the characters in the string. However, let us work directly with the index i, meaning that characters are shifted backwards with i positions, where i is specified, as before, from the input: "
   ]
  },
  {
   "cell_type": "code",
   "execution_count": null,
   "metadata": {},
   "outputs": [],
   "source": [
    "def go_back(s,i):\n",
    "    \n",
    "    test_string = []\n",
    "    separator = ','\n",
    "    \n",
    "    for element in s:\n",
    "        test_string.append(chr(ord(element) - i))\n",
    "        \n",
    "    return ''.join(test_string)"
   ]
  },
  {
   "cell_type": "markdown",
   "metadata": {},
   "source": [
    "Now run the code for the test input:"
   ]
  },
  {
   "cell_type": "code",
   "execution_count": null,
   "metadata": {},
   "outputs": [],
   "source": [
    "go_back(test_0,2)"
   ]
  },
  {
   "cell_type": "markdown",
   "metadata": {},
   "source": [
    "Just as a check that all actually went well, you can test for yourselves some of the code: The initial first character of the code was O, and after two backwards shifts, it became M, which is indeed shown as output. Do similar reasonings for some of the other characters to convince yourselves that the program works as it should."
   ]
  },
  {
   "cell_type": "markdown",
   "metadata": {},
   "source": [
    "<div class = \"alert alert-block alert-success\">\n",
    "    <b> Note: </b>Now we arrive to the key point in the encryption-decryption procedure: it all relies in the key being accessible only to the emitter and the receiver. In our case, the key is shifting the characters i positions forward. Obviously, the only way to decode the message is simply shifting all the characters i positions backwards. Any person can do that, but by pen and paper it can take enormous time for large enough texts. As shown before, this is done much better through a computer.\n",
    "\n",
    "We know the key for both encrypting and decrypting. <b> If the key works, we will get the original text. </b> \n",
    "\n",
    "Let us have the following scenario below: Alice has a message which encrypts it and sends it to Bob:\n",
    "    </div>"
   ]
  },
  {
   "cell_type": "code",
   "execution_count": null,
   "metadata": {},
   "outputs": [],
   "source": [
    "message_Alice = go_forward(test_0, 2)\n",
    "message_Alice"
   ]
  },
  {
   "cell_type": "markdown",
   "metadata": {},
   "source": [
    "John receives the encrypted message and has the key for decrypting it:"
   ]
  },
  {
   "cell_type": "code",
   "execution_count": null,
   "metadata": {},
   "outputs": [],
   "source": [
    "message_Bob = go_back(message_Alice, 2)\n",
    "message_Bob"
   ]
  },
  {
   "cell_type": "markdown",
   "metadata": {},
   "source": [
    "Why is it very important for the encryption and decryption keys to match? What if they do not match?"
   ]
  },
  {
   "cell_type": "code",
   "execution_count": null,
   "metadata": {},
   "outputs": [],
   "source": [
    "wrong_message = go_back(message_Alice, 3)\n",
    "wrong_message"
   ]
  },
  {
   "cell_type": "markdown",
   "metadata": {},
   "source": [
    "<div class = \"alert alert-block alert-danger\">\n",
    "This is nothing like what it should look... To a set of characters, another set of characters is associated. This is the core of mathematical functions, so we can just as well express everything in mathematical language: to a finite and discrete set $S$ (There is no infinite numbers of letters, and we will assume that we don't work with irrational numbers here) is associated a function $f(S)$ which transforms the set into another set. The decryption key is associated with a function $g(S)$ which, acting upon the encrypted message, gives the original set: $g(f(S)) = S$, so g is the inverse function: $g = f^{-1}(S)$. Of course, this also works the other way around: $f^{-1}(f(S)) = f(f^{-1}(S)) = S$.\n",
    "\n",
    "As you may have already noticed, the problem with encryption and decryption is that someone outside the party may intercept them as well, due to all the radar and antenna systems, microwave propagation and other physical aspects. Suppose Bill also receives the message, but he does not know the key. He tries to work out the original message, but he gets it wrong many times:\n",
    "    </div>"
   ]
  },
  {
   "cell_type": "code",
   "execution_count": null,
   "metadata": {},
   "outputs": [],
   "source": [
    "Bill_message = go_back(message_Alice, 5)\n",
    "Bill_message"
   ]
  },
  {
   "cell_type": "markdown",
   "metadata": {},
   "source": [
    "<div class = \"alert alert-block alert-danger\">\n",
    "    <b> Note: </b>Bill has no idea above the key, the above example was just a way to show that he can get the wrong message very easily. However, an IT agency, government department or bank with fully-advanced equipment will realize in short time the content of the key, especially if the algorithm is poorly designed( This notebook is just a small taster of what encryption methods involve: the algorithm by itself is trivial, used from Ancient times. It even has a name, Caesar's Cipher: https://en.wikipedia.org/wiki/Caesar_cipher. There are lots of Artificial Intelligence algorithms for detecting trivial and simple designs in text processing, so surely no one can be fooled by this algorithm. To show you just how easy this message can be deciphered if at least a vague idea of the key is known:\n",
    "    </div>"
   ]
  },
  {
   "cell_type": "markdown",
   "metadata": {},
   "source": [
    "<div class = \"alert alert-block alert-warning\">\n",
    "    <b> Exercise: </b>Suppose CIA intercepts the message and they already know that some characters are shifted i positions forward. For the argument's sake, let us say that Alice shifted the letters 20 positions forward and CIA knows the algorithm itself, but not just by how much the characters were shifted. We will see just in how short time the message can be found out:"
   ]
  },
  {
   "cell_type": "code",
   "execution_count": null,
   "metadata": {},
   "outputs": [],
   "source": [
    "import time\n",
    "\n",
    "Alice_message = go_forward(test_0, 20)\n",
    "\n",
    "t_initial = time.time()\n",
    "for i in range(30):\n",
    "    print(go_back(Alice_message, i))\n",
    "t_final = time.time()\n",
    "\n",
    "print(\"Processing time: \" + str(t_final - t_initial) + \" seconds\")"
   ]
  },
  {
   "cell_type": "markdown",
   "metadata": {},
   "source": [
    "<div class = \"alert alert-block alert-success\">\n",
    "So it took only $0.007$ seconds to process all 40 messages. Can you already spot where the reliable message is? Even if there would be ten times more messages, advanced AI algorithms can easily detect the decrypted message for a rudimentary algorithm.\n",
    "    </div>"
   ]
  },
  {
   "cell_type": "markdown",
   "metadata": {},
   "source": [
    "### Euclidian Algorithms "
   ]
  },
  {
   "cell_type": "markdown",
   "metadata": {},
   "source": [
    "<div class = \"alert alert-block alert-warning\">\n",
    "    <b> Exercise: </b>There are plenty of ways to encrypt and decrypt data, and a heavy research nowadays on this topic. Many of them rely, a bit unexpectedly, on ancient algorithms, suggested by the greek mathematician Euclid. Its implementation is quite simple, and yet a perfect example for how recursion works. Before showing the code, let us delve a bit in more detail into this algorithm:\n",
    "\n",
    "Suppose we pick two random numbers: 45 and 63, and we want to find out their greatest common divisor. By a quick glance, it is obvious that the two numbers can be written as: $45 = 9 \\cdot 5$ and $63 = 9 \\cdot 7$, 5 and 7 having no common divisor apart from 1. Hence, the greatest common divisor is 9. How does that work, though, in smaller steps to make?"
   ]
  },
  {
   "cell_type": "code",
   "execution_count": null,
   "metadata": {},
   "outputs": [],
   "source": [
    "a = 45\n",
    "b = 63"
   ]
  },
  {
   "cell_type": "markdown",
   "metadata": {},
   "source": [
    "<div class = \"alert alert-block alert-info\">\n",
    "    <b> Approach: </b>\n",
    "    <ul>\n",
    "        <li> Subtract the greater number from the smaller number: $63 - 45 = 18$. <b> Remaining numbers</b>: 45 and 18 </li>\n",
    "\n",
    "<li> Subtract the greater number from the smaller number: $45 - 18 = 27$  <b> Remaining numbers</b>: 27 and 18 </li> \n",
    "\n",
    "<li> Subtract the greater number from the smaller number: $27 - 18 = 9$   <b> Remaining numbers</b>: 18 and 9 </li>\n",
    "\n",
    "<li> Subtract the greater number from the smaller number: $18 - 9 = 9$    <b> Remaining numbers</b>: 9 and 9 </li>\n",
    "    </ul>\n",
    "    </div>"
   ]
  },
  {
   "cell_type": "markdown",
   "metadata": {},
   "source": [
    "Now we have equal numbers and their difference is 0. A very simple output of the code is:"
   ]
  },
  {
   "cell_type": "code",
   "execution_count": null,
   "metadata": {},
   "outputs": [],
   "source": [
    "while(a != b):\n",
    "    \n",
    "    if(a > b):\n",
    "        a = a - b\n",
    "    else:\n",
    "        b = b - a\n",
    "print(a)"
   ]
  },
  {
   "cell_type": "markdown",
   "metadata": {},
   "source": [
    "<div class = \"alert alert-block alert-success\">\n",
    "    Of course, this can also be done through <b> recursion </b> (It is a bit more advanced, but good practice for future coding exercises). We will approach recursion as well, for those more interested in coding, so do not worry if you do not understand it for now. What you can do, in case you are interested, is <b> debugging </b> the code (see the <b> while </b> notebook for recap)"
   ]
  },
  {
   "cell_type": "code",
   "execution_count": 1,
   "metadata": {},
   "outputs": [
    {
     "name": "stdout",
     "output_type": "stream",
     "text": [
      "9\n"
     ]
    }
   ],
   "source": [
    "# Uncomment the commands for debugging\n",
    "# import pdb\n",
    "\n",
    "a = 45\n",
    "b = 63\n",
    "\n",
    "def gcd(a,b):\n",
    "     \n",
    "    # breakpoint()\n",
    "    # Everything divides 0 \n",
    "    if (a == 0):\n",
    "        return b\n",
    "    if (b == 0):\n",
    "        return a\n",
    " \n",
    "    # base case\n",
    "    if (a == b):\n",
    "        return a\n",
    " \n",
    "    # a is greater\n",
    "    if (a > b):\n",
    "        return gcd(a-b, b)\n",
    "    return gcd(a, b-a)\n",
    "\n",
    "print(gcd(a,b))"
   ]
  },
  {
   "cell_type": "markdown",
   "metadata": {},
   "source": [
    "<div class = \"alert alert-block alert-success\">\n",
    "What about the least common multiple? There are, of course, plenty of ways to achieve this, but let us recall a fundamental\n",
    "property in number theory which you have studied:\n",
    "\n",
    "$a \\cdot b = gcd(a,b) \\cdot lcm(a,b) $\n",
    "    </div>"
   ]
  },
  {
   "cell_type": "code",
   "execution_count": null,
   "metadata": {},
   "outputs": [],
   "source": [
    "def lcm(a,b):\n",
    "    return a*b/gcd(a,b)\n",
    "\n",
    "lcm(a,b)"
   ]
  },
  {
   "cell_type": "markdown",
   "metadata": {},
   "source": [
    "### Small taster of cryptography"
   ]
  },
  {
   "cell_type": "markdown",
   "metadata": {},
   "source": [
    "<div class = \"alert alert-block alert-success\">\n",
    "Although they seem quite trivial, the whole modern cryptography relies on the Euclidian algorithms shown above and some more number theory, for manipulating huge numbers. For instance, calculating the remainder $2^{83} \\bmod 5 $ is a huge pain and plenty of work has to be done without some proper mathematical knowledge. However, there are some proper theorems which come in hand perfectly at such type of problems. In this way, digits and characters are encoded in the most awkward possible combinations, to encrypt the messages. The RSA Algorithm is typical for what we have just studied here: https://en.wikipedia.org/wiki/RSA_%28cryptosystem%29 \n",
    "\n",
    "This makes use of the whole discrete algebra to encode messages. Cracking the encoded message is a significant issue and constitutes a topic of research nowadays. Why? Huge numbers (which are typically used for encoding) are very hard to factorize (this is the way to get to the original message). One solution to the whole issue is given by the quantum computing (https://www.technologyreview.com/2019/05/30/65724/how-a-quantum-computer-could-break-2048-bit-rsa-encryption-in-8-hours/), but this is a totally different matter.\n",
    "    </div>"
   ]
  },
  {
   "cell_type": "markdown",
   "metadata": {},
   "source": [
    "## Take-away"
   ]
  },
  {
   "cell_type": "markdown",
   "metadata": {},
   "source": [
    "<div class = \"alert alert-block alert-success\">\n",
    "This is it for today, and well done for managing to go through the material!! <br> <br> After this session, you should be more familiar with how simple sentences, numbers and conditional statements can be printed in Python. Moreover, ponder a bit on the for instruction, as it is heavily used in programming. Also, feel free to work more on this notebook using any commands you would like. <br> <br>\n",
    "<b> Note: </b> Always keep a back-up of the notebook, in case the original one is altered. <br><br>\n",
    "For today's session, this should be enough! See you later!!\n",
    "    </div>"
   ]
  },
  {
   "cell_type": "markdown",
   "metadata": {},
   "source": [
    "![Noteable license](https://github.com/jstix/mr-noteable/blob/master/Banner%20image/Screenshot%202021-03-05%20115453.png?raw=true)"
   ]
  },
  {
   "cell_type": "code",
   "execution_count": null,
   "metadata": {},
   "outputs": [],
   "source": []
  }
 ],
 "metadata": {
  "kernelspec": {
   "display_name": "Python 3",
   "language": "python",
   "name": "python3"
  },
  "language_info": {
   "codemirror_mode": {
    "name": "ipython",
    "version": 3
   },
   "file_extension": ".py",
   "mimetype": "text/x-python",
   "name": "python",
   "nbconvert_exporter": "python",
   "pygments_lexer": "ipython3",
   "version": "3.7.6"
  }
 },
 "nbformat": 4,
 "nbformat_minor": 4
}
