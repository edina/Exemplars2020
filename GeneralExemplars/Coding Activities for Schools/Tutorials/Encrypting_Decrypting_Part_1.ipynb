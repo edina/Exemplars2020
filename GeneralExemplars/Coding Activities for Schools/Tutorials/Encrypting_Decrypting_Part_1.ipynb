{
 "cells": [
  {
   "cell_type": "markdown",
   "metadata": {},
   "source": [
    "![Noteable.ac.uk Banner](https://github.com/jstix/mr-noteable/blob/master/Banner%20image/1500x500.jfif?raw=true)"
   ]
  },
  {
   "cell_type": "markdown",
   "metadata": {},
   "source": [
    "# Encryption and decryption - Part 1"
   ]
  },
  {
   "cell_type": "markdown",
   "metadata": {},
   "source": [
    "## Legend"
   ]
  },
  {
   "cell_type": "markdown",
   "metadata": {},
   "source": [
    "<div class = \"alert alert-block alert-info\">\n",
    "    In <b> blue</b>, the <b> instructions </b> and <b> goals </b> are highlighted.\n",
    "</div>"
   ]
  },
  {
   "cell_type": "markdown",
   "metadata": {},
   "source": [
    "<div class = \"alert alert-block alert-success\">\n",
    "    In <b> green</b>, the <b> information </b> is highlighted.\n",
    "</div>"
   ]
  },
  {
   "cell_type": "markdown",
   "metadata": {},
   "source": [
    "<div class = \"alert alert-block alert-warning\">\n",
    "    In <b> yellow</b>, the <b> exercises </b> are highlighted.\n",
    "</div>"
   ]
  },
  {
   "cell_type": "markdown",
   "metadata": {},
   "source": [
    "<div class = \"alert alert-block alert-danger\">\n",
    "    In <b> red</b>, the <b> error </b> and <b> alert messages </b> are highlighted.\n",
    "</div>"
   ]
  },
  {
   "cell_type": "markdown",
   "metadata": {},
   "source": [
    "## Instructions"
   ]
  },
  {
   "cell_type": "markdown",
   "metadata": {},
   "source": [
    "<div class = \"alert alert-block alert-info\">\n",
    "<ul>\n",
    "    <li> Click <b> Run </b> on each cell to go through the code in each cell. This will take you through the cell and print out the results. </li>\n",
    "    <li> If you wish to see all the outputs at once in the whole notebook, just click <b> Cell </b> and then <b> Run All</b>. </li>\n",
    "    </ul>\n",
    "</div>"
   ]
  },
  {
   "cell_type": "markdown",
   "metadata": {},
   "source": [
    "## Goals"
   ]
  },
  {
   "cell_type": "markdown",
   "metadata": {},
   "source": [
    "<div class = \"alert alert-block alert-info\">\n",
    "After this workshop, the student should get more familiar with the following topics: <br> \n",
    "<ul>\n",
    "    <li> printing basic statements and commands in Jupyter Notebook</li>\n",
    "    <li> performing basic arithmetic calculations in Python</li>\n",
    "    <li> improving an existent model of the code</li>\n",
    "    <li> recognizing and checking variable types in Python </li>\n",
    "    <li> using the <b> if </b> and <b> for </b> statements for basic operations </li>\n",
    "    <li> applying functions for better visualization of the code </li>\n",
    "    <li> using strings in Python and learning about the ASCII Table </li>\n",
    "    <li> applying Encryption and Decryption techniques for encoding information </li>\n",
    "    <li> increasig awareness in cyber-security </li>\n",
    "</ul>\n",
    "    \n",
    "<b> These objectives are in agreement with the National 3, National 4, National 5, Higher and Advanced Higher Scottish Curriculum for high-school students. </b> <br> <br> <b> Note: </b> For most of the workshop, the student will be given some coding examples. In some cases, the student will have to code himself/herself. The coding part is optional, but highly recommended to approach. \n",
    "  \n",
    "</div>"
   ]
  },
  {
   "cell_type": "markdown",
   "metadata": {},
   "source": [
    "## Explore"
   ]
  },
  {
   "cell_type": "markdown",
   "metadata": {},
   "source": [
    "<div class = \"alert alert-block alert-info\">\n",
    "Welcome to a new Python session for familiarization with the Jupyter Notebooks. This time, we will concentrate on <b> encrypting </b> and <b> decrypting </b> data. On a simpler language, this notebook is for you to get more familiarized with ways of sending a hidden message or code, and deciphering it. \n",
    "\n",
    "We certainly will not crack the Enigma code like Alan Turing after only one session, nor will we be Robert Langdon to \n",
    "search hidden scripts in the Vatican library. We will get, however, more familiar with some cryptic methods:\n",
    "    </div>"
   ]
  },
  {
   "cell_type": "code",
   "execution_count": null,
   "metadata": {},
   "outputs": [],
   "source": [
    "import graphviz\n",
    "from graphviz import Digraph"
   ]
  },
  {
   "cell_type": "markdown",
   "metadata": {},
   "source": [
    "Generally, the scheme for encrypting a file, or message, is the following:"
   ]
  },
  {
   "cell_type": "code",
   "execution_count": null,
   "metadata": {},
   "outputs": [],
   "source": [
    "g = Digraph()\n",
    "\n",
    "g.node('0', 'Emitter', shape='circle')\n",
    "g.node('a', 'Original file', shape='circle')\n",
    "g.node('b', 'Key', shape='circle', style='filled', fillcolor='grey')\n",
    "g.node('c', 'Encrypted file', shape='circle')\n",
    "g.node('d', 'Email-sending', shape='circle')\n",
    "g.node('e', 'Key', shape='circle', style='filled', fillcolor='grey')\n",
    "g.node('f', 'Decrypted file', shape='circle')\n",
    "g.node('1', 'Receiver', shape='circle')\n",
    "\n",
    "g.edge('0', 'a', constraint = 'false')\n",
    "g.edge('a', 'b', constraint = 'false')\n",
    "g.edge('b', 'c', constraint = 'false')\n",
    "g.edge('c', 'd', constraint = 'false')\n",
    "g.edge('d', 'e', constraint = 'false')\n",
    "g.edge('e', 'f', constraint = 'false')\n",
    "g.edge('f', '1', constraint = 'false')\n",
    "\n",
    "g"
   ]
  },
  {
   "cell_type": "markdown",
   "metadata": {},
   "source": [
    "<div class = \"alert alert-block alert-success\">\n",
    "    <b> Note: </b>The trick is to choose a key as sophisticated as possible inorder to get a hidden message, unable to be cracked. The more sophisticated the key is, the harder it will be to break the code. This is how hackers can crack the software of various companies and banks, with damages being beyond repair at some points: https://www.zdnet.com/article/the-biggest-hacks-data-breaches-of-2020/ <br> <br>\n",
    "\n",
    "The key can only be known by the entity who sends the message - the <b> emitter </b> - and the one who receives the message - the <b> receiver </b>\n",
    "</div>"
   ]
  },
  {
   "cell_type": "markdown",
   "metadata": {},
   "source": [
    "<div class = \"alert alert-block alert-warning\">\n",
    "    <b> Exercise: </b>Let us start with a very simple example of what encryption involves by working with the ASCII CODE: Each character\n",
    "on the keyboard (latin alphabet, digits, the $%#&* characters, the spacebar) can be represented by a bunch of digit-characters (example: a represented as 97), which is turned into a binary number (we will come to that later).\n",
    "\n",
    "How does that work? Type the following command in Python:"
   ]
  },
  {
   "cell_type": "code",
   "execution_count": null,
   "metadata": {},
   "outputs": [],
   "source": [
    "ord('a')"
   ]
  },
  {
   "cell_type": "markdown",
   "metadata": {},
   "source": [
    "a character is represented as 97 in ASCII Code. Try with as many characters as you would like:"
   ]
  },
  {
   "cell_type": "code",
   "execution_count": null,
   "metadata": {},
   "outputs": [],
   "source": [
    "ord('z')"
   ]
  },
  {
   "cell_type": "markdown",
   "metadata": {},
   "source": [
    "<div class = \"alert alert-block alert-warning\">\n",
    "    <b> Exercise: </b>Let us check the validity of the ASCII code: according to the commands above, there are $(122 - 97) + 1 = 26$ integers \n",
    "standing for ASCII characters. This is exactly the number of characters in latin alphabet. From this perspective, the ASCII \n",
    "table does indeed make sense. \n",
    "\n",
    "Let us try now this:\n",
    "    </div>"
   ]
  },
  {
   "cell_type": "code",
   "execution_count": null,
   "metadata": {},
   "outputs": [],
   "source": [
    "ord('A')"
   ]
  },
  {
   "cell_type": "code",
   "execution_count": null,
   "metadata": {},
   "outputs": [],
   "source": [
    "ord('Z')"
   ]
  },
  {
   "cell_type": "markdown",
   "metadata": {},
   "source": [
    "<div class = \"alert alert-block alert-success\">\n",
    "    <b> Note: </b>The capital letters occupy a lower ranking in the ASCII table than the previous a-z characters. What is there, in this case,\n",
    "between the positions 90 and 97? Here is the full ASCII - Code, which you can access at your pleasure: https://www.ascii-code.com/. <br>\n",
    "\n",
    "We know how to convert any character into its ASCII code equivalent using the given Python function. However, how can we do it\n",
    "the other way around - convert an ASCII code into its original character? Use the below function:\n",
    "    </div>"
   ]
  },
  {
   "cell_type": "code",
   "execution_count": null,
   "metadata": {},
   "outputs": [],
   "source": [
    "chr(97)"
   ]
  },
  {
   "cell_type": "markdown",
   "metadata": {},
   "source": [
    "<div class = \"alert alert-block alert-warning\">\n",
    "    <b> Exercise: </b> turn any character into the ASCII code and then use the chr function to get the original number back:\n",
    "    </div>"
   ]
  },
  {
   "cell_type": "code",
   "execution_count": null,
   "metadata": {},
   "outputs": [],
   "source": [
    "test_character = 'p' # Just choose a random character\n",
    "test_ASCII_char = ord(test_character) # Turn the random character into its ASCII code equivalent\n",
    "returned_char = chr(test_ASCII_char)  # Print the returned value\n",
    "print(returned_char)"
   ]
  },
  {
   "cell_type": "markdown",
   "metadata": {},
   "source": [
    "Of course, this could have been done much faster:"
   ]
  },
  {
   "cell_type": "code",
   "execution_count": null,
   "metadata": {},
   "outputs": [],
   "source": [
    "chr(ord('a'))"
   ]
  },
  {
   "cell_type": "markdown",
   "metadata": {},
   "source": [
    "<div class = \"alert alert-block alert-warning\">\n",
    "    <b> Exercise: </b> <b> Investigate </b> the following code line, <b> predict </b> the output of the code and <b> run </b> it to see what happens:\n",
    "    </div>"
   ]
  },
  {
   "cell_type": "code",
   "execution_count": null,
   "metadata": {},
   "outputs": [],
   "source": [
    "chr(ord('a') + 1)"
   ]
  },
  {
   "cell_type": "markdown",
   "metadata": {},
   "source": [
    "Let us play with an array of characters. This bears the name of <b>string</b>. You can actually check the data-type of any variable:"
   ]
  },
  {
   "cell_type": "code",
   "execution_count": null,
   "metadata": {},
   "outputs": [],
   "source": [
    "new_string = \"It is very nice outside\"\n",
    "type(new_string)"
   ]
  },
  {
   "cell_type": "markdown",
   "metadata": {},
   "source": [
    "What if the string consists of a single character?"
   ]
  },
  {
   "cell_type": "code",
   "execution_count": null,
   "metadata": {},
   "outputs": [],
   "source": [
    "test_1 = \"a\"\n",
    "test_2 = 'a'\n",
    "print(type(test_1))\n",
    "print(type(test_2))"
   ]
  },
  {
   "cell_type": "markdown",
   "metadata": {},
   "source": [
    "Unlike other programming languages, Python does not support both char and string datatypes - there is only the char datatype. \n",
    "There are some peculiarities about the string datatype, as we shall soon discover:"
   ]
  },
  {
   "cell_type": "markdown",
   "metadata": {},
   "source": [
    "<div class = \"alert alert-block alert-warning\">\n",
    "    <b> Challenge: </b> advance all the characters of the array with one position in the latin alphabet: \n",
    "    </div>"
   ]
  },
  {
   "cell_type": "markdown",
   "metadata": {},
   "source": [
    "Example: a becomes b, A becomes B, and so on...We can do this by old school method, of course, with pen and paper, but the \n",
    "computer gives a much faster result. Let us do the iteration through the string in the usual way so far:"
   ]
  },
  {
   "cell_type": "code",
   "execution_count": null,
   "metadata": {},
   "outputs": [],
   "source": [
    "for i in range (len(new_string)):\n",
    "    new_string[i] = chr(ord(new_string[i]) + 1)\n",
    "    \n",
    "new_string"
   ]
  },
  {
   "cell_type": "markdown",
   "metadata": {},
   "source": [
    "<div class = \"alert alert-block alert-danger\">\n",
    "This is one particular aspect of string data-type to take into discussion: <b> it does not support item assignment in Python. </b> The\n",
    "strings are immutable: once you give a value to the overall string, you cannot assign any other variable for any element inside\n",
    "the string. The string cannot be formatted any more. <br> \n",
    "\n",
    "As a result, if we still want the output, then <b>we will have to use some particularly in-built functions for the strings in \n",
    "Python</b>. They will create other strings which can initially be formatted. \n",
    "    </div>"
   ]
  },
  {
   "cell_type": "code",
   "execution_count": null,
   "metadata": {},
   "outputs": [],
   "source": [
    "test_string = []\n",
    "separator = ','\n",
    "\n",
    "for element in new_string:\n",
    "    test_string.append(chr(ord(element) + 1))\n",
    "    \n",
    "print(test_string)    \n",
    "print(''.join(test_string))"
   ]
  },
  {
   "cell_type": "markdown",
   "metadata": {},
   "source": [
    "<div class = \"alert alert-block alert-warning\">\n",
    "The created string is much more complicated. You can already see where this is going - towards data encryption. For more <b> practice</b>, let us create a function with the particular scope of switching the characters of the string with one position:\n",
    "    </div>"
   ]
  },
  {
   "cell_type": "code",
   "execution_count": null,
   "metadata": {},
   "outputs": [],
   "source": [
    "def change_string(s):\n",
    "    \n",
    "    test_string = []\n",
    "    separator = ','\n",
    "    \n",
    "#    for element in new_string:\n",
    "    for element in s:\n",
    "        test_string.append(chr(ord(element) + 1))\n",
    "        \n",
    "    return ''.join(test_string)"
   ]
  },
  {
   "cell_type": "markdown",
   "metadata": {},
   "source": [
    "We can test this on much larger strings, to get an idea of how different the final message can be:"
   ]
  },
  {
   "cell_type": "code",
   "execution_count": null,
   "metadata": {},
   "outputs": [],
   "source": [
    "test_0 = \"One of the highlights of Scottish history is the war against England in early 14-th century, with the uprising led by William Wallace and Robert Bruce\"\n",
    "change_string(test_0)"
   ]
  },
  {
   "cell_type": "markdown",
   "metadata": {},
   "source": [
    "## Take-away"
   ]
  },
  {
   "cell_type": "markdown",
   "metadata": {},
   "source": [
    "<div class = \"alert alert-block alert-success\">\n",
    "    This is it for today, and well done for managing to go through the material!! <b> Important: </b> we will have a second session on this topic, so keep the notebook close!! <br> <br> After this session, you should be more familiar with how simple sentences, numbers and conditional statements can be printed in Python. Moreover, ponder a bit on the for instruction, as it is heavily used in programming. Also, feel free to work more on this notebook using any commands you would like. <br> <br>\n",
    "<b> Note: </b> Always keep a back-up of the notebook, in case the original one is altered. <br><br>\n",
    "For today's session, this should be enough! See you later!!\n",
    "    </div>"
   ]
  },
  {
   "cell_type": "markdown",
   "metadata": {},
   "source": [
    "![Noteable license](https://github.com/jstix/mr-noteable/blob/master/Banner%20image/Screenshot%202021-03-05%20115453.png?raw=true)"
   ]
  },
  {
   "cell_type": "code",
   "execution_count": null,
   "metadata": {},
   "outputs": [],
   "source": []
  }
 ],
 "metadata": {
  "kernelspec": {
   "display_name": "Python 3",
   "language": "python",
   "name": "python3"
  },
  "language_info": {
   "codemirror_mode": {
    "name": "ipython",
    "version": 3
   },
   "file_extension": ".py",
   "mimetype": "text/x-python",
   "name": "python",
   "nbconvert_exporter": "python",
   "pygments_lexer": "ipython3",
   "version": "3.7.6"
  }
 },
 "nbformat": 4,
 "nbformat_minor": 4
}
