{
 "cells": [
  {
   "cell_type": "markdown",
   "metadata": {},
   "source": [
    "![Noteable.ac.uk Banner](https://github.com/jstix/mr-noteable/blob/master/Banner%20image/1500x500.jfif?raw=true)"
   ]
  },
  {
   "cell_type": "markdown",
   "metadata": {},
   "source": [
    "# Object-Oriented Programming"
   ]
  },
  {
   "cell_type": "markdown",
   "metadata": {},
   "source": [
    "## Legend"
   ]
  },
  {
   "cell_type": "markdown",
   "metadata": {},
   "source": [
    "<div class = \"alert alert-block alert-info\">\n",
    "    In <b> blue</b>, the <b> instructions </b> and <b> goals </b> are highlighted.\n",
    "</div>"
   ]
  },
  {
   "cell_type": "markdown",
   "metadata": {},
   "source": [
    "<div class = \"alert alert-block alert-success\">\n",
    "    In <b> green</b>, the <b> information </b> is highlighted.\n",
    "</div>"
   ]
  },
  {
   "cell_type": "markdown",
   "metadata": {},
   "source": [
    "<div class = \"alert alert-block alert-warning\">\n",
    "    In <b> yellow</b>, the <b> exercises </b> are highlighted.\n",
    "</div>"
   ]
  },
  {
   "cell_type": "markdown",
   "metadata": {},
   "source": [
    "<div class = \"alert alert-block alert-danger\">\n",
    "    In <b> red</b>, the <b> error </b> and <b> alert messages </b> are highlighted.\n",
    "</div>"
   ]
  },
  {
   "cell_type": "markdown",
   "metadata": {},
   "source": [
    "## Instructions"
   ]
  },
  {
   "cell_type": "markdown",
   "metadata": {},
   "source": [
    "<div class = \"alert alert-block alert-info\">\n",
    "    <ul>\n",
    "        <li> Click <b> Run </b> on each cell to go through the code in each cell. This will take you through the cell and print out the results. </li>\n",
    "        <li> If you wish to see all the outputs at once in the whole notebook, just click <b> Cell </b> and then <b> Run All</b>. </li>\n",
    "        <li> Do not forget to import <b> all </b> the pictures into the same file, otherwise the images <b> will not be printed out! </b>\n",
    "    </ul>\n",
    "</div>"
   ]
  },
  {
   "cell_type": "markdown",
   "metadata": {},
   "source": [
    "## Goals"
   ]
  },
  {
   "cell_type": "markdown",
   "metadata": {},
   "source": [
    "<div class = \"alert alert-block alert-info\">\n",
    "After this workshop, the student should get more familiar with the following topics: <br> \n",
    "<ul>\n",
    "    <li> printing basic statements and commands in Jupyter Notebook</li>\n",
    "    <li> performing basic arithmetic calculations in Python</li>\n",
    "    <li> improving an existent model of the code</li>\n",
    "    <li> recognizing and checking variable types in Python </li>\n",
    "    <li> using the <b>Object-Oriented Programming (OOP)</b> design </li>\n",
    "    <li> familiarization with OOP language and notions such as <b> constructors</b>, <b>attributes</b>, <b>methods or behaviour</b>. </li>\n",
    "    <li> checking how more <b>objects</b> belong to the same <b>class</b> </li>\n",
    "    <li> writing <b>subclasses</b> for a specific <b>class</b>\n",
    "</ul>\n",
    "    \n",
    "<b> These objectives are in agreement with the National 3, National 4, National 5, Higher and Advanced Higher Scottish Curriculum for high-school students. </b> <br> <br> <b> Note: </b> For most of the workshop, the student will be given some coding examples. In some cases, the student will have to code himself/herself. The coding part is optional, but highly recommended to approach. \n",
    "  \n",
    "</div>"
   ]
  },
  {
   "cell_type": "markdown",
   "metadata": {},
   "source": [
    "<div class = \"alert alert-block alert-success\">\n",
    "Welcome to another session on programming!! Today you will approach one of the hot topics of computer science, used in every area of computing and beyond: <b>object-oriented programming</b>\n",
    "    </div>"
   ]
  },
  {
   "cell_type": "markdown",
   "metadata": {},
   "source": [
    "<div class = \"alert alert-block alert-success\">\n",
    "    Firstly, let us define the concept of a <b>class</b>. A <b>class</b> in computer science is defined by a <b>set</b> of <b>entities</b> with some specific <b>properties</b>. Think of this similarly to the set of natural numbers, defined by <b>all</b> numbers which are integers. This is the single property which <b>uniquely</b> identifies the numbers as natural. <br><br> A similar concept is used in a more general way for <b>classes</b>.\n",
    "    </div>"
   ]
  },
  {
   "cell_type": "markdown",
   "metadata": {},
   "source": [
    "<div class = \"alert alert-block alert-warning\">\n",
    "    Let us create a <b>class</b> right now, on Python. As a starting point, a class can be defined by the set of animals. Some parameters identifying the animals are: <b>color</b>, <b>weight</b> and <b>age</b>. <b>Exercise:</b> <b>Investigate</b> the code below, and discuss its implementation with your peers and your teacher\n",
    "    </div>"
   ]
  },
  {
   "cell_type": "code",
   "execution_count": 1,
   "metadata": {},
   "outputs": [],
   "source": [
    "class Animal(object): # signature for OOP in Python\n",
    "    \n",
    "    def __init__(self, color, weight, age): # constructor of a class\n",
    "        self.color = color\n",
    "        self.weight = weight\n",
    "        self.age = age"
   ]
  },
  {
   "cell_type": "markdown",
   "metadata": {},
   "source": [
    "<div class = \"alert alert-block alert-success\">\n",
    "    We have defined a <b> class </b> Animal, whose entities have the following identifying parameters: <b>color</b>, <b>weight</b> and <b>age</b>. The meaning of the above expression is the following: <b> The color, weight and age of an object take the values specified in the paranthesis after the init constructor (hence the meaning of the word self). </b>They have all been turned into unique parameters for the <b>class</b> Animal by the expression below:\n",
    "    </div>"
   ]
  },
  {
   "cell_type": "code",
   "execution_count": 2,
   "metadata": {},
   "outputs": [],
   "source": [
    "# def __init__(self, color, weight, age)"
   ]
  },
  {
   "cell_type": "markdown",
   "metadata": {},
   "source": [
    "<div class = \"alert alert-block alert-success\">\n",
    "    The expression <b>def</b> has been met before, for defining any function in computing science. <b>Note:</b> revisit all the previous sections regarding the definition of a function, to make sure the concept is clear (<b>example:</b> If and for advanced higher notebook). In this case, the line above has a specific OOP name: <b>constructor</b>. The <b>constructor</b> is the part of the class which initiailzes the entities of the class. They also have a specific name: <b>objects</b>\n",
    "    </div>"
   ]
  },
  {
   "cell_type": "markdown",
   "metadata": {},
   "source": [
    "<div class = \"alert alert-block alert-warning\">\n",
    "    <b> Exercise: </b> <b> Investigate</b> the code below and <b>discuss</b> it with your peers and teacher.\n",
    "    </div>"
   ]
  },
  {
   "cell_type": "code",
   "execution_count": 14,
   "metadata": {},
   "outputs": [],
   "source": [
    "cat = Animal(\"black\", 2, 1)"
   ]
  },
  {
   "cell_type": "markdown",
   "metadata": {},
   "source": [
    "<div class = \"alert alert-block alert-success\">\n",
    "    The <b> object </b> cat belonging to the <b> class </b> Animal has been created successfully. This <b> object </b> is characterized through some certain properties - color, weight and age. Such properties are called <b> attributes </b> in OOP language. \n",
    "    </div>"
   ]
  },
  {
   "cell_type": "markdown",
   "metadata": {},
   "source": [
    "<div class = \"alert alert-block alert-success\">\n",
    "    Each entity in real life has, apart from some unique properties, specific behaviours or actions as well. Animals eat and drink water, a machine accelerates and stops when you apply the brakes, children learn, play and travel, and so on. Objects in OOP behave similarly, in the way that they also have specific <b> behaviours </b> or <b> methods </b>. An object in OOP also has a certain way in which it acts, and this is best shown through examples:\n",
    "    </div>"
   ]
  },
  {
   "cell_type": "markdown",
   "metadata": {},
   "source": [
    "<div class = \"alert alert-block alert-warning\">\n",
    "    <b> Exercise: </b> <b> Investigate</b> the code below and <b>discuss</b> it with your peers and teacher. <b> Note: </b> Here we discuss about the <b> methods </b> of an object in OOP. More specifically, we state that an animal can either <b> eat </b>, <b> play </b>, or <b> sleep </b> (This is a very extreme appreciation of animal life, but let us keep it simple for our coding purposes). \n",
    "    </div>"
   ]
  },
  {
   "cell_type": "code",
   "execution_count": 3,
   "metadata": {},
   "outputs": [],
   "source": [
    "class Animal(object): # signature for OOP in Python\n",
    "    \n",
    "    def __init__(self, color, weight, age): # constructor of a class\n",
    "        self.color = color\n",
    "        self.weight = weight\n",
    "        self.age = age\n",
    "        \n",
    "    def eat(self):\n",
    "        self.weight += 0.1\n",
    "        \n",
    "    def sleep(self):\n",
    "        self.weight += 0\n",
    "        \n",
    "    def play(self):\n",
    "        self.weight -= 0.05\n",
    "        self.color = \"black\""
   ]
  },
  {
   "cell_type": "markdown",
   "metadata": {},
   "source": [
    "<div class = \"alert alert-block alert-danger\">\n",
    "    <b> Note: </b> The keyword <b> self </b> is crucial in OOP language in Python. The constructor word stands for the fact that all the parameters assignments and changes occur for the object <b> itself </b> and not for any other object.\n",
    "    </div>"
   ]
  },
  {
   "cell_type": "markdown",
   "metadata": {},
   "source": [
    "<b> Exercise: </b>Animals classes."
   ]
  },
  {
   "cell_type": "markdown",
   "metadata": {},
   "source": [
    "<div class = \"alert alert-block alert-warning\">\n",
    "    <b> Exercise: </b> Now define an object with these <b> attributes </b> and <b> behaviours </b>. Analyse its parameters, discuss the code below with your peers and teachers and get more used to this syntax. \n",
    "    </div>"
   ]
  },
  {
   "cell_type": "code",
   "execution_count": 4,
   "metadata": {},
   "outputs": [
    {
     "name": "stdout",
     "output_type": "stream",
     "text": [
      "1.9\n"
     ]
    }
   ],
   "source": [
    "cat = Animal(\"black\", 2, 1)\n",
    "cat.play()\n",
    "cat.play()\n",
    "print(\"The weight of the cat is: \" + str(cat.weight))"
   ]
  },
  {
   "cell_type": "markdown",
   "metadata": {},
   "source": [
    "<div class = \"alert alert-block alert-success\">\n",
    "    <b> Exercise: </b> The <b> action </b> or <b> behaviour </b> of printing on the console can also be defined within the class, so we no longer bother with the command print. Let us see how: \n",
    "    </div>"
   ]
  },
  {
   "cell_type": "code",
   "execution_count": 7,
   "metadata": {},
   "outputs": [],
   "source": [
    "class Animal(object): # signature for OOP in Python\n",
    "    \n",
    "    def __init__(self, color, weight, age): # constructor of a class\n",
    "        self.color = color\n",
    "        self.weight = weight\n",
    "        self.age = age\n",
    "        \n",
    "    def eat(self):\n",
    "        self.weight += 0.1\n",
    "        \n",
    "    def sleep(self):\n",
    "        self.weight += 0\n",
    "        \n",
    "    def play(self):\n",
    "        self.weight -= 0.05\n",
    "        self.color = \"black\"\n",
    "        \n",
    "    def showWeight(self):\n",
    "        print(\"The weight of the animal is: \" + str(weight) + \" kg\")"
   ]
  },
  {
   "cell_type": "code",
   "execution_count": null,
   "metadata": {},
   "outputs": [],
   "source": [
    "cat = Animal(\"black\", 2, 1)\n",
    "cat.showWeight()"
   ]
  },
  {
   "cell_type": "markdown",
   "metadata": {},
   "source": [
    "<div class = \"alert alert-block alert-danger\">\n",
    "    <b> Question: </b> What has gone wrong in the code above? <b> Hint: </b> the answer lies within the last added function. Make sure you analyse the error and understand what has occured. <b> Discuss </b> this among yourselves and the teacher. \n",
    "    </div>"
   ]
  },
  {
   "cell_type": "code",
   "execution_count": 5,
   "metadata": {},
   "outputs": [],
   "source": [
    "class Animal(object): # signature for OOP in Python\n",
    "    \n",
    "    def __init__(self, color, weight, age): # constructor of a class\n",
    "        self.color = color\n",
    "        self.weight = weight\n",
    "        self.age = age\n",
    "        \n",
    "    def eat(self):\n",
    "        self.weight += 0.1\n",
    "        \n",
    "    def sleep(self):\n",
    "        self.weight += 0\n",
    "        \n",
    "    def play(self):\n",
    "        self.weight -= 0.05\n",
    "        self.color = \"black\"\n",
    "        \n",
    "    def showWeight(self):\n",
    "        print(\"The weight of the animal is: \" + str(self.weight) + \" kg\")"
   ]
  },
  {
   "cell_type": "code",
   "execution_count": 6,
   "metadata": {},
   "outputs": [
    {
     "name": "stdout",
     "output_type": "stream",
     "text": [
      "The weight of the animal is: 2 kg\n"
     ]
    }
   ],
   "source": [
    "cat = Animal(\"black\", 2, 1)\n",
    "cat.showWeight()"
   ]
  },
  {
   "cell_type": "markdown",
   "metadata": {},
   "source": [
    "<div class = \"alert alert-block alert-warning\">\n",
    "    <b> Exercise: </b> Let us create another class completely different - say we want to perform a bank transaction. We will create a client with the following attributes: <b> name, sortcode, account number, bank of account and amount of money </b> (These are all real details which you will face sooner or later). We make the following <b> specifications: </b>\n",
    "    <ul>\n",
    "        <li> The account is not valid if it is not 6-digit long or if the account number is not 8-digit long </li>\n",
    "        <li> A client can change his account holder name </li>\n",
    "        <li> A client can perform payment only if he/she has enough money in her account </li>\n",
    "        <li> A client cannot put into the account any sum greater than 1000 pounds </li>\n",
    "    </ul>\n",
    "    </div>\n",
    "    "
   ]
  },
  {
   "cell_type": "code",
   "execution_count": 9,
   "metadata": {},
   "outputs": [],
   "source": [
    "class BankAccount(object):\n",
    "    \n",
    "    def __init__(self, name, sortcode, accountno, bank, money):\n",
    "        self.name = name\n",
    "        self.sortcode = sortcode\n",
    "        self.accoutno = accountno\n",
    "        self.bank = bank\n",
    "        self.money = money\n",
    "        \n",
    "    def valid_account(self):\n",
    "        if(len(self.sortcode) != 6 or len(self.accountno) != 8):\n",
    "            print(\"The sortcode should have 6 digits and the account number should have 8 digits\")\n",
    "            return False\n",
    "        else:\n",
    "            return True\n",
    "        \n",
    "    def change_name(self, new_name): # We also specified within the brackets the value of the new name, because we need to know\n",
    "                                     # the new name of the customer\n",
    "        self.name = new_name\n",
    "        \n",
    "    def pay(self, payment):\n",
    "        if(self.money < payment):\n",
    "            print(\"You cannot perform this transaction!\")\n",
    "        else:\n",
    "            self.money = self.money - payment\n",
    "            \n",
    "    def put_amount(self, amount):\n",
    "        self.money += amount"
   ]
  },
  {
   "cell_type": "code",
   "execution_count": 10,
   "metadata": {},
   "outputs": [
    {
     "name": "stdout",
     "output_type": "stream",
     "text": [
      "Alexandru\n"
     ]
    }
   ],
   "source": [
    "Alex = BankAccount(\"Alex\", \"111111\", 11111111, \"Bank of Scotland\", 0)\n",
    "\n",
    "Alex.change_name(\"Alexandru\")\n",
    "\n",
    "print(Alex.name)"
   ]
  },
  {
   "cell_type": "markdown",
   "metadata": {},
   "source": [
    "## Take-away"
   ]
  },
  {
   "cell_type": "markdown",
   "metadata": {},
   "source": [
    "<div class = \"alert alert-block alert-success\">\n",
    "This is it for today, and well done for managing to go through the material!! <br> <br> After this session, you should be more familiar with how simple sentences, numbers and conditional statements can be printed in Python. Moreover, ponder a bit on the for instruction, as it is heavily used in programming. Also, feel free to work more on this notebook using any commands you would like. <br> <br>\n",
    "<b> Note: </b> Always keep a back-up of the notebook, in case the original one is altered. <br><br>\n",
    "For today's session, this should be enough! See you later!!\n",
    "    </div>"
   ]
  },
  {
   "cell_type": "markdown",
   "metadata": {},
   "source": [
    "![Noteable license](https://github.com/jstix/mr-noteable/blob/master/Banner%20image/Screenshot%202021-03-05%20115453.png?raw=true)"
   ]
  }
 ],
 "metadata": {
  "kernelspec": {
   "display_name": "Python 3",
   "language": "python",
   "name": "python3"
  },
  "language_info": {
   "codemirror_mode": {
    "name": "ipython",
    "version": 3
   },
   "file_extension": ".py",
   "mimetype": "text/x-python",
   "name": "python",
   "nbconvert_exporter": "python",
   "pygments_lexer": "ipython3",
   "version": "3.7.6"
  }
 },
 "nbformat": 4,
 "nbformat_minor": 4
}
