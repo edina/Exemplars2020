{
 "cells": [
  {
   "cell_type": "markdown",
   "metadata": {},
   "source": [
    "![Noteable.ac.uk Banner](https://github.com/jstix/mr-noteable/blob/master/Banner%20image/1500x500.jfif?raw=true)"
   ]
  },
  {
   "cell_type": "markdown",
   "metadata": {},
   "source": [
    "# Animations and games"
   ]
  },
  {
   "cell_type": "markdown",
   "metadata": {},
   "source": [
    "## Legend"
   ]
  },
  {
   "cell_type": "markdown",
   "metadata": {},
   "source": [
    "<div class = \"alert alert-block alert-info\">\n",
    "    In <b> blue</b>, the <b> instructions </b> and <b> goals </b> are highlighted.\n",
    "</div>"
   ]
  },
  {
   "cell_type": "markdown",
   "metadata": {},
   "source": [
    "<div class = \"alert alert-block alert-success\">\n",
    "    In <b> green</b>, the <b> information </b> is highlighted.\n",
    "</div>"
   ]
  },
  {
   "cell_type": "markdown",
   "metadata": {},
   "source": [
    "<div class = \"alert alert-block alert-warning\">\n",
    "    In <b> yellow</b>, the <b> exercises </b> are highlighted.\n",
    "</div>"
   ]
  },
  {
   "cell_type": "markdown",
   "metadata": {},
   "source": [
    "<div class = \"alert alert-block alert-danger\">\n",
    "    In <b> red</b>, the <b> error </b> and <b> alert messages </b> are highlighted.\n",
    "</div>"
   ]
  },
  {
   "cell_type": "markdown",
   "metadata": {},
   "source": [
    "## Instructions"
   ]
  },
  {
   "cell_type": "markdown",
   "metadata": {},
   "source": [
    "<div class = \"alert alert-block alert-info\">\n",
    "    For running the cell of a notebook, hit <b> Cell</b>, then <b>Run</b>. In case you want to run the whole notebook, click <b>Cell</b>, then <b>Run All</b>. When running cell which involves a game, you should spend a bit of time playing, to see how the code works. When leaving the games, just press <b>n</b> at any time, and the final score will be printed out. \n",
    "</div>"
   ]
  },
  {
   "cell_type": "markdown",
   "metadata": {},
   "source": [
    "## Goals"
   ]
  },
  {
   "cell_type": "markdown",
   "metadata": {},
   "source": [
    "<div class = \"alert alert-block alert-info\">\n",
    "After this workshop, the student should get more familiar with the following topics: <br> \n",
    "<ul>\n",
    "    <li> printing basic statements and commands in Jupyter Notebook</li>\n",
    "    <li> performing basic arithmetic calculations in Python</li>\n",
    "    <li> recognizing and checking variable types in Python </li>\n",
    "    <li> using the <b> if </b> and <b> for </b> statements for basic operations </li>\n",
    "    <li> using the <b>matplotlib</b> library in Python for plotting paths and distributions </li>\n",
    "    <li> applying basic theoretical background for coding applications in <b> game design </b> and <b> computer simulations </b> </li>\n",
    "    <li> increasig awareness of <b> Information Technology industry </b> and <b> scientific programming </b> </li>\n",
    "    <li> comparing computer results with the theoretical background in physics and mathematics </li>\n",
    "</ul>\n",
    "    \n",
    "<b> These objectives are in agreement with the National 3, National 4, National 5, Higher and Advanced Higher Scottish Curriculum for high-school students. </b> <br> <br> <b> Note: </b> For most of the workshop, the student will be given some coding examples. In some cases, the student will have to code himself/herself. The coding part is optional, but highly recommended to approach. \n",
    "  \n",
    "</div>"
   ]
  },
  {
   "cell_type": "markdown",
   "metadata": {},
   "source": [
    "## Explore"
   ]
  },
  {
   "cell_type": "markdown",
   "metadata": {},
   "source": [
    "<div class = \"alert alert-block alert-warning\">\n",
    "    Let us delve into the field of <b>animations</b>, and how they can be applied. Begin with importing some basic libraries in Python.\n",
    "    </div>"
   ]
  },
  {
   "cell_type": "code",
   "execution_count": null,
   "metadata": {},
   "outputs": [],
   "source": [
    "import numpy as np\n",
    "import matplotlib.pyplot as plt\n",
    "from matplotlib import animation\n",
    "from IPython.display import HTML"
   ]
  },
  {
   "cell_type": "markdown",
   "metadata": {},
   "source": [
    "<div class = \"alert alert-block alert-success\">\n",
    "    These are the classic libraries required in Python for <b> animations</b>.\n",
    "    </div>"
   ]
  },
  {
   "cell_type": "markdown",
   "metadata": {},
   "source": [
    "<div class = \"alert alert-block alert-success\">\n",
    "    For an animation, what we need first of all is an <b>empty blank table</b> with some axis labeled. The table will be filled soon with some content. The following commands are used:\n",
    "    </div>"
   ]
  },
  {
   "cell_type": "code",
   "execution_count": null,
   "metadata": {},
   "outputs": [],
   "source": [
    "fig, ax = plt.subplots() # An empty figure is created\n",
    "ax.set_xlim(0, 2) # x-axis set with limits (0,2)\n",
    "ax.set_ylim(-2, 2) # y-axis set with limits (-2,2)\n",
    "line, = ax.plot([], [], lw=2)"
   ]
  },
  {
   "cell_type": "markdown",
   "metadata": {},
   "source": [
    "<div class = \"alert alert-block alert-success\">\n",
    "    Now comes the <b>initialization</b> function of our animation. It is initialized with <b>empty lists</b> which will be updated later. The whole procedure is similar to the object-oriented programming OOP design. \n",
    "    </div>"
   ]
  },
  {
   "cell_type": "code",
   "execution_count": null,
   "metadata": {},
   "outputs": [],
   "source": [
    "# initialization function\n",
    "def init():\n",
    "    line.set_data([], [])\n",
    "    return (line,)"
   ]
  },
  {
   "cell_type": "markdown",
   "metadata": {},
   "source": [
    "<div class = \"alert alert-block alert-success\">\n",
    "Now, update the function at each step (analogous to the methods in OOP) by using a function animate - here comes the tricky part, where we have to <b>define</b> what we want to simulate. Let us begin with something seen almost everywhere we look around - <b> wave. </b> For those of you taking physics exams - do you remember, or know, how a wave looks like? <br> <br> Let us begin with the simple example of a harmonic wave (pattern which repeats itself periodically)\n",
    "    </div>"
   ]
  },
  {
   "cell_type": "code",
   "execution_count": null,
   "metadata": {},
   "outputs": [],
   "source": [
    "# animation function. This will be call in a sequence to generate frames.\n",
    "def animate(i):\n",
    "    x = np.linspace(0, 2, 2000)\n",
    "    y = np.sin(2 * np.pi * (x - 0.01 * i))\n",
    "    line.set_data(x, y)\n",
    "    return (line,)"
   ]
  },
  {
   "cell_type": "markdown",
   "metadata": {},
   "source": [
    "<div class = \"alert alert-block alert-success\">\n",
    "    Let us look into the function for a bit. x is <b>initialized</b> as a numpy array from 0 to 10 with 10000 points to analyze. y is a sinus function basically, with i playing the role of time. Now call the <b>initialization</b> and the <b>updating function</b> all-together to get the result. This is a function imported from <b>matplotlib</b> library which does all the work for us, so let's see it:\n",
    "    </div>"
   ]
  },
  {
   "cell_type": "code",
   "execution_count": null,
   "metadata": {},
   "outputs": [],
   "source": [
    "# call the animator.  blit=True means only re-draw the parts that have changed.\n",
    "anim = animation.FuncAnimation(\n",
    "    fig, # Update the figure at each step\n",
    "    animate, # using the animate function\n",
    "    init_func=init, # which is initialized using the constructor\n",
    "    frames=300, # 600 frames are processed\n",
    "    interval=10, # delay between the frames\n",
    "    blit=True\n",
    ")\n",
    "\n",
    "HTML(anim.to_jshtml())"
   ]
  },
  {
   "cell_type": "markdown",
   "metadata": {},
   "source": [
    "<div class = \"alert alert-block alert-success\">\n",
    "<b> Congratulations! </b> You have made your first animation. This is a wave going to the right with some speed. <br> Let us analyze a bit more the waves, just to check some interesting aspects. <b> Question: </b> How does a wave moving to the left look like? We will do now this exercise:\n",
    "    </div>"
   ]
  },
  {
   "cell_type": "code",
   "execution_count": null,
   "metadata": {},
   "outputs": [],
   "source": [
    "def animate_stationary(i):\n",
    "    x = np.linspace(0, 10, 10000)\n",
    "    y = np.sin(2 * np.pi * (x - 0.01 * i)) + np.sin(2 * np.pi * (x + 0.01 * i))\n",
    "    line.set_data(x, y)\n",
    "    return (line,)"
   ]
  },
  {
   "cell_type": "code",
   "execution_count": null,
   "metadata": {},
   "outputs": [],
   "source": [
    "# call the animator.  blit=True means only re-draw the parts that have changed.\n",
    "anim = animation.FuncAnimation(\n",
    "    fig, # Update the figure at each step\n",
    "    animate_stationary, # using the animate function\n",
    "    init_func=init, # which is initialized using the constructor\n",
    "    frames=300, # 600 frames are processed\n",
    "    interval=10, # delay between the frames\n",
    "    blit=True\n",
    ")\n",
    "\n",
    "HTML(anim.to_jshtml())"
   ]
  },
  {
   "cell_type": "markdown",
   "metadata": {},
   "source": [
    "<div class = \"alert alert-block alert-success\">\n",
    "This is how a <b> stationary wave </b> looks like (You will learn more about it in your physics classes). Let us now analyze one more different phenomenon, where the waves differ only slightly, and see what happens\n",
    "    </div>"
   ]
  },
  {
   "cell_type": "code",
   "execution_count": null,
   "metadata": {},
   "outputs": [],
   "source": [
    "def animate_beats(i):\n",
    "    x = np.linspace(0, 2, 2000)\n",
    "    y = np.sin(2 * np.pi * (x - 0.01 * i)) + np.sin(2 * np.pi * (1.1 * x - 0.01 * i))\n",
    "    line.set_data(x, y)\n",
    "    return (line,)"
   ]
  },
  {
   "cell_type": "code",
   "execution_count": null,
   "metadata": {},
   "outputs": [],
   "source": [
    "# call the animator.  blit=True means only re-draw the parts that have changed.\n",
    "anim = animation.FuncAnimation(\n",
    "    fig, # Update the figure at each step\n",
    "    animate_beats, # using the animate function\n",
    "    init_func=init, # which is initialized using the constructor\n",
    "    frames=300, # 600 frames are processed\n",
    "    interval=10, # delay between the frames\n",
    "    blit=True\n",
    ")\n",
    "\n",
    "HTML(anim.to_jshtml())"
   ]
  },
  {
   "cell_type": "markdown",
   "metadata": {},
   "source": [
    "<div class = \"alert alert-block alert-success\">\n",
    "This looks different, but let us visualize it at a <b>larger</b> scale. All we need to modify is the dimensions of the axis - do not go for two units, but use, let's say, ten, instead.\n",
    "    </div>"
   ]
  },
  {
   "cell_type": "code",
   "execution_count": null,
   "metadata": {},
   "outputs": [],
   "source": [
    "fig, ax = plt.subplots() # An empty figure is created\n",
    "ax.set_xlim(0, 10) # x-axis set with limits (0,2)\n",
    "ax.set_ylim(-2, 2) # y-axis set with limits (-2,2)\n",
    "line, = ax.plot([], [], lw=2)"
   ]
  },
  {
   "cell_type": "code",
   "execution_count": null,
   "metadata": {},
   "outputs": [],
   "source": [
    "def animate_beats(i):\n",
    "    x = np.linspace(0, 10, 10000)\n",
    "    y = np.sin(2 * np.pi * (x - 0.01 * i)) + np.sin(2 * np.pi * (1.1 * x - 0.01 * i))\n",
    "    line.set_data(x, y)\n",
    "    return (line,)"
   ]
  },
  {
   "cell_type": "code",
   "execution_count": null,
   "metadata": {},
   "outputs": [],
   "source": [
    "# call the animator.  blit=True means only re-draw the parts that have changed.\n",
    "anim = animation.FuncAnimation(\n",
    "    fig, # Update the figure at each step\n",
    "    animate_beats, # using the animate function\n",
    "    init_func=init, # which is initialized using the constructor\n",
    "    frames=300, # 600 frames are processed\n",
    "    interval=10, # delay between the frames\n",
    "    blit=True\n",
    ")\n",
    "\n",
    "HTML(anim.to_jshtml())"
   ]
  },
  {
   "cell_type": "markdown",
   "metadata": {},
   "source": [
    "<div class = \"alert alert-block alert-success\">\n",
    "This is the behaviour of <b> beats </b> phenomenon, also something you will understand more in time. From here, concepts such as group velocity and phase velocity are derived, and can be easily visualized in Python. Once again, you are not expected to know how to code this from scratch. The purpose of this notebook is to get a greater understanding on how the computer can help us in visualizing some phenomena. <br><br> Let us now visualize some physics for a <b> particle. </b> The idea is the same as before. However, this time we will have to call another special function from matplotlib library. Let's see how this will work out...<br><br> Suppose we begin with a particle which just moves randomly in two dimensions. The particle has equal probability of moving up, down, left, or right (in science language: on any quadrant of the x-y axis). How would the particle behave? Initialize the line again, with the same procedure:\n",
    "    </div>"
   ]
  },
  {
   "cell_type": "code",
   "execution_count": null,
   "metadata": {},
   "outputs": [],
   "source": [
    "# initialization function\n",
    "def init():\n",
    "    line.set_data([], [])\n",
    "    return (line,)"
   ]
  },
  {
   "cell_type": "markdown",
   "metadata": {},
   "source": [
    "<div class = \"alert alert-block alert-success\">\n",
    "    In same manner, let us <b>rescale</b> the size of the figure and the axis. Moreover, set the intial coordinates on the 2D space.\n",
    "    </div>"
   ]
  },
  {
   "cell_type": "code",
   "execution_count": null,
   "metadata": {},
   "outputs": [],
   "source": [
    "fig, ax = plt.subplots() # An empty figure is created\n",
    "ax.set_xlim(-5, 5) # x-axis set with limits (0,2)\n",
    "ax.set_ylim(-5, 5) # y-axis set with limits (-2,2)\n",
    "line, = ax.plot([], [], lw=2)\n",
    "x = 0\n",
    "y = 0"
   ]
  },
  {
   "cell_type": "markdown",
   "metadata": {},
   "source": [
    "<div class = \"alert alert-block alert-success\">\n",
    "    Now implement the <b>animate</b> function, but here is the catch: at each step, use a function from the <b>random</b> library to simulate the <b>randomness</b> of the trajectory evolution. Let us import one more time the required libraries (<b>numpy and matplotlib</b>), and do the same initialization of the line to be animated. Moreover, set up the initial data for x and y coordinates:\n",
    "    </div>"
   ]
  },
  {
   "cell_type": "code",
   "execution_count": null,
   "metadata": {},
   "outputs": [],
   "source": [
    "import matplotlib.animation as animation  \n",
    "import matplotlib.pyplot as plt  \n",
    "import numpy as np  \n",
    "  \n",
    "# for the animation  \n",
    "fig, ax = plt.subplots()  \n",
    "ax.set_xlim(-10, 10) # x-axis set with limits (0,2)\n",
    "ax.set_ylim(-10, 10) # y-axis set with limits (-2,2)\n",
    "  \n",
    "line, = ax.plot([], [], lw = 2)  \n",
    "   \n",
    "# Initialize the line with empty coordinates \n",
    "def init():  \n",
    "    line.set_data([], [])  \n",
    "    return (line,)  \n",
    "   \n",
    "# initializing empty values \n",
    "# for x and y co-ordinates \n",
    "xdata, ydata = [0], [0]  "
   ]
  },
  {
   "cell_type": "markdown",
   "metadata": {},
   "source": [
    "<div class = \"alert alert-block alert-success\">\n",
    "Work, now, on the trickier part, which is <b>updating the trajectory of the particle</b>. We will introduce a parameter <b>t</b> which takes randomly one value out of four, all of them with equal probability.\n",
    "    </div>"
   ]
  },
  {
   "cell_type": "code",
   "execution_count": null,
   "metadata": {},
   "outputs": [],
   "source": [
    "# animation function  \n",
    "def animate(i):  \n",
    "    # t is a parameter which gives the randomness of the code\n",
    "    t = np.random.randint(0,4)\n",
    "    # Update the positions in each case\n",
    "    if(t == 0):\n",
    "        x = xdata[-1] + 1\n",
    "        y = ydata[-1]\n",
    "    elif(t == 1):\n",
    "        x = xdata[-1] - 1\n",
    "        y = ydata[-1]\n",
    "    elif(t == 2):\n",
    "        x = xdata[-1]\n",
    "        y = ydata[-1] + 1\n",
    "    elif(t == 3):\n",
    "        x = xdata[-1]\n",
    "        y = ydata[-1] - 1  \n",
    "       \n",
    "    # appending values to the previously  \n",
    "    # empty x and y data holders  \n",
    "    xdata.append(x)  \n",
    "    ydata.append(y)  \n",
    "    \n",
    "    line.set_data(xdata, ydata) \n",
    "      \n",
    "    return (line,)"
   ]
  },
  {
   "cell_type": "markdown",
   "metadata": {},
   "source": [
    "<div class = \"alert alert-block alert-warning\">\n",
    "    Now call the <b>animation</b> function and see what happens:\n",
    "    </div>"
   ]
  },
  {
   "cell_type": "code",
   "execution_count": null,
   "metadata": {},
   "outputs": [],
   "source": [
    "# calling the animation function      \n",
    "anim = animation.FuncAnimation(fig, animate, init_func = init,  \n",
    "                               frames = 100, interval = 30, blit = True)  \n",
    "\n",
    "HTML(anim.to_jshtml())"
   ]
  },
  {
   "cell_type": "markdown",
   "metadata": {},
   "source": [
    "<div class = \"alert alert-block alert-success\">\n",
    "<b> A bit of history: </b> This type of behaviour is known as <b> random walk. </b> The particles moves randomly in any direction, with equal probability. Such motion was met for the first time in 19th century, when botanist Robert Brown analysed the motion of polen particles on a sample of water. A lot of research has been done on this topic. However, after decades, physicists James Maxwell, Ludwig Boltzmann and Albert Einstein proved that any sample with huge number of particles exhibits such behaviour. Now, the behaviour is called <b> Brownian Motion </b> in thermodynamics (Have you heard of it before?). Moreover, the random walks are applied in countless other fields, for instance in economy, due to the fluctuations of stocks in the market, or in meteorology. Even some AI is built on such model. <br> <br>Let us try now to visualize the overall trajectory of the particle in a brownian motion (Very nice visualizations can be made using this type of motion): Initialize the x and y coordinate numpy arrays.\n",
    "    </div>"
   ]
  },
  {
   "cell_type": "code",
   "execution_count": null,
   "metadata": {},
   "outputs": [],
   "source": [
    "n = 10000\n",
    "\n",
    "x = np.zeros(n) \n",
    "y = np.zeros(n) "
   ]
  },
  {
   "cell_type": "markdown",
   "metadata": {},
   "source": [
    "<div class = \"alert alert-block alert-success\">\n",
    "    Now, for <b>each</b> timestep, take once again a random number with equal probability of 0,1,2, or 3, and update the positions accordingly:\n",
    "    </div>"
   ]
  },
  {
   "cell_type": "code",
   "execution_count": null,
   "metadata": {},
   "outputs": [],
   "source": [
    " # filling the coordinates with random variables \n",
    "for i in range(1, n): \n",
    "    val = np.random.randint(0, 4) \n",
    "    if val == 1: \n",
    "        x[i] = x[i - 1] + 1\n",
    "        y[i] = y[i - 1] \n",
    "    elif val == 2: \n",
    "        x[i] = x[i - 1] - 1\n",
    "        y[i] = y[i - 1] \n",
    "    elif val == 3: \n",
    "        x[i] = x[i - 1] \n",
    "        y[i] = y[i - 1] + 1\n",
    "    else: \n",
    "        x[i] = x[i - 1] \n",
    "        y[i] = y[i - 1] - 1"
   ]
  },
  {
   "cell_type": "markdown",
   "metadata": {},
   "source": [
    "<div class = \"alert alert-block alert-warning\">\n",
    "    <b>Plot</b> the final path now:\n",
    "    </div>"
   ]
  },
  {
   "cell_type": "code",
   "execution_count": null,
   "metadata": {},
   "outputs": [],
   "source": [
    "plt.plot(x,y)\n",
    "plt.show()"
   ]
  },
  {
   "cell_type": "markdown",
   "metadata": {},
   "source": [
    "<div class = \"alert alert-block alert-warning\">\n",
    "    <b> Exercise:</b><b>Try</b> the above code more times. Does the final path remain the same, or is it different?"
   ]
  },
  {
   "cell_type": "markdown",
   "metadata": {},
   "source": [
    "# Tic-Tac-Toe Game"
   ]
  },
  {
   "cell_type": "markdown",
   "metadata": {},
   "source": [
    "<div class = \"alert alert-block alert-warning\">\n",
    "    OK, we have played with <b>animations</b> so far (and we will keep on doing it...), but for now let us switch to some games in programming. A simple programming application, in our case, is the Tic-Tac-Toe game. However, <b>how to implement a Tic-Tac-Toe game?</b> We need a board first of all:\n",
    "    </div>"
   ]
  },
  {
   "cell_type": "code",
   "execution_count": null,
   "metadata": {},
   "outputs": [],
   "source": [
    "#Implementation of Two Player Tic-Tac-Toe game in Python.\n",
    "\n",
    "''' We will make the board using dictionary \n",
    "    in which keys will be the location(i.e : top-left,mid-right,etc.)\n",
    "    and initialliy it's values will be empty space and then after every move \n",
    "    we will change the value according to player's choice of move. '''\n",
    "\n",
    "theBoard = {'7': ' ' , '8': ' ' , '9': ' ' ,\n",
    "            '4': ' ' , '5': ' ' , '6': ' ' ,\n",
    "            '1': ' ' , '2': ' ' , '3': ' ' }\n",
    "\n",
    "board_keys = []\n",
    "\n",
    "for key in theBoard:\n",
    "    board_keys.append(key)\n",
    "\n",
    "''' We will have to print the updated board after every move in the game and \n",
    "    thus we will make a function in which we'll define the printBoard function\n",
    "    so that we can easily print the board everytime by calling this function. '''\n",
    "\n",
    "def printBoard(board):\n",
    "    print(board['7'] + '|' + board['8'] + '|' + board['9'])\n",
    "    print('-+-+-')\n",
    "    print(board['4'] + '|' + board['5'] + '|' + board['6'])\n",
    "    print('-+-+-')\n",
    "    print(board['1'] + '|' + board['2'] + '|' + board['3'])"
   ]
  },
  {
   "cell_type": "markdown",
   "metadata": {},
   "source": [
    "<div class = \"alert alert-block alert-warning\">\n",
    "    Now <b>program the proper rules of the game</b>: if you score row, column or diagonal on Tic-Tac-Toe, it's game over and you won. <b> Note: </b> The following code is a bit more complicated, so it is alright if you do not know how to do it from scratch. However, (particularly important for Higher and Advanced Higher students), the following lines should not seem strange to you. After all, this is a bunch of for and if instructions, with no hidden algorithms behind it.\n",
    "    </div>"
   ]
  },
  {
   "cell_type": "code",
   "execution_count": null,
   "metadata": {},
   "outputs": [],
   "source": [
    "# Now we'll write the main function which has all the gameplay functionality.\n",
    "def game():\n",
    "\n",
    "    turn = 'X' # This is the player X\n",
    "    count = 0  # We count from 0\n",
    "\n",
    "\n",
    "    for i in range(10):\n",
    "        printBoard(theBoard)  \n",
    "        print(\"It's your turn,\" + turn + \".Move to which place?\")\n",
    "\n",
    "        move = input()  # Plug in which blank you want to fill in      \n",
    "\n",
    "        if theBoard[move] == ' ':  # Check if the hole is filled or not\n",
    "            theBoard[move] = turn\n",
    "            count += 1\n",
    "        else:\n",
    "            print(\"That place is already filled.\\nMove to which place?\")\n",
    "            continue\n",
    "\n",
    "        # Now we will check if player X or O has won,for every move after 5 moves. \n",
    "        if count >= 5:\n",
    "            if theBoard['7'] == theBoard['8'] == theBoard['9'] != ' ': # across the top\n",
    "                printBoard(theBoard)\n",
    "                print(\"\\nGame Over.\\n\")                \n",
    "                print(\" **** \" +turn + \" won. ****\")                \n",
    "                break\n",
    "            elif theBoard['4'] == theBoard['5'] == theBoard['6'] != ' ': # across the middle\n",
    "                printBoard(theBoard)\n",
    "                print(\"\\nGame Over.\\n\")                \n",
    "                print(\" **** \" +turn + \" won. ****\")\n",
    "                break\n",
    "            elif theBoard['1'] == theBoard['2'] == theBoard['3'] != ' ': # across the bottom\n",
    "                printBoard(theBoard)\n",
    "                print(\"\\nGame Over.\\n\")                \n",
    "                print(\" **** \" +turn + \" won. ****\")\n",
    "                break\n",
    "            elif theBoard['1'] == theBoard['4'] == theBoard['7'] != ' ': # down the left side\n",
    "                printBoard(theBoard)\n",
    "                print(\"\\nGame Over.\\n\")                \n",
    "                print(\" **** \" +turn + \" won. ****\")\n",
    "                break\n",
    "            elif theBoard['2'] == theBoard['5'] == theBoard['8'] != ' ': # down the middle\n",
    "                printBoard(theBoard)\n",
    "                print(\"\\nGame Over.\\n\")                \n",
    "                print(\" **** \" +turn + \" won. ****\")\n",
    "                break\n",
    "            elif theBoard['3'] == theBoard['6'] == theBoard['9'] != ' ': # down the right side\n",
    "                printBoard(theBoard)\n",
    "                print(\"\\nGame Over.\\n\")                \n",
    "                print(\" **** \" +turn + \" won. ****\")\n",
    "                break \n",
    "            elif theBoard['7'] == theBoard['5'] == theBoard['3'] != ' ': # diagonal\n",
    "                printBoard(theBoard)\n",
    "                print(\"\\nGame Over.\\n\")                \n",
    "                print(\" **** \" +turn + \" won. ****\")\n",
    "                break\n",
    "            elif theBoard['1'] == theBoard['5'] == theBoard['9'] != ' ': # diagonal\n",
    "                printBoard(theBoard)\n",
    "                print(\"\\nGame Over.\\n\")                \n",
    "                print(\" **** \" +turn + \" won. ****\")\n",
    "                break \n",
    "\n",
    "        # If neither X nor O wins and the board is full, we'll declare the result as 'tie'.\n",
    "        if count == 9:\n",
    "            print(\"\\nGame Over.\\n\")                \n",
    "            print(\"It's a Tie!!\")\n",
    "\n",
    "        # Now we have to change the player after every move.\n",
    "        if turn =='X':\n",
    "            turn = 'O'\n",
    "        else:\n",
    "            turn = 'X'        \n",
    "    \n",
    "    # Now we will ask if player wants to restart the game or not.\n",
    "    restart = input(\"Do want to play Again?(y/n)\")\n",
    "    if restart == \"y\" or restart == \"Y\":  \n",
    "        for key in board_keys:\n",
    "            theBoard[key] = \" \"\n",
    "\n",
    "        game()\n",
    "\n",
    "if __name__ == \"__main__\":\n",
    "    game()"
   ]
  },
  {
   "cell_type": "markdown",
   "metadata": {},
   "source": [
    "## Take-away"
   ]
  },
  {
   "cell_type": "markdown",
   "metadata": {},
   "source": [
    "<div class = \"alert alert-block alert-success\">\n",
    "Alright, this is it for the session today! Congratulations for having made it so far! Once again, do not feel that you need to know the above code lines (especially if you are on National 3,4,or 5 level). This notebook has been designed to see how a computer can help us in our daily tasks. \n",
    "\n",
    "<b> Bonus: </b> If you have enjoyed the notebook so far, next time we can modify the Tic-Tac-Toe game so that you will play against a computer who is familiar with the rules and will compete against you, just like in single-player games! Until then, see you later!\n",
    "    </div>"
   ]
  },
  {
   "cell_type": "code",
   "execution_count": null,
   "metadata": {},
   "outputs": [],
   "source": [
    "print(\"Bye bye! :D\")"
   ]
  },
  {
   "cell_type": "markdown",
   "metadata": {},
   "source": [
    "![Noteable license](https://github.com/jstix/mr-noteable/blob/master/Banner%20image/Screenshot%202021-03-05%20115453.png?raw=true)"
   ]
  }
 ],
 "metadata": {
  "kernelspec": {
   "display_name": "Python 3",
   "language": "python",
   "name": "python3"
  },
  "language_info": {
   "codemirror_mode": {
    "name": "ipython",
    "version": 3
   },
   "file_extension": ".py",
   "mimetype": "text/x-python",
   "name": "python",
   "nbconvert_exporter": "python",
   "pygments_lexer": "ipython3",
   "version": "3.7.6"
  }
 },
 "nbformat": 4,
 "nbformat_minor": 4
}
