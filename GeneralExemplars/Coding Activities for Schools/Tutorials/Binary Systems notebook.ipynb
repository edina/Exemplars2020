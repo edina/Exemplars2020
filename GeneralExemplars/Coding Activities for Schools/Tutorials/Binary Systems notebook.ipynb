{
 "cells": [
  {
   "cell_type": "markdown",
   "metadata": {},
   "source": [
    "![Noteable.ac.uk Banner](https://github.com/jstix/mr-noteable/blob/master/Banner%20image/1500x500.jfif?raw=true)"
   ]
  },
  {
   "cell_type": "markdown",
   "metadata": {},
   "source": [
    "# Binary System"
   ]
  },
  {
   "cell_type": "markdown",
   "metadata": {},
   "source": [
    "## Legend"
   ]
  },
  {
   "cell_type": "markdown",
   "metadata": {},
   "source": [
    "<div class = \"alert alert-block alert-info\">\n",
    "    In <b> blue</b>, the <b> instructions </b> and <b> goals </b> are highlighted.\n",
    "</div>"
   ]
  },
  {
   "cell_type": "markdown",
   "metadata": {},
   "source": [
    "<div class = \"alert alert-block alert-success\">\n",
    "    In <b> green</b>, the <b> information </b> is highlighted.\n",
    "</div>"
   ]
  },
  {
   "cell_type": "markdown",
   "metadata": {},
   "source": [
    "<div class = \"alert alert-block alert-warning\">\n",
    "    In <b> yellow</b>, the <b> exercises </b> are highlighted.\n",
    "</div>"
   ]
  },
  {
   "cell_type": "markdown",
   "metadata": {},
   "source": [
    "<div class = \"alert alert-block alert-danger\">\n",
    "    In <b> red</b>, the <b> error </b> and <b> alert messages </b> are highlighted.\n",
    "</div>"
   ]
  },
  {
   "cell_type": "markdown",
   "metadata": {},
   "source": [
    "## Instructions"
   ]
  },
  {
   "cell_type": "markdown",
   "metadata": {},
   "source": [
    "<div class = \"alert alert-block alert-info\">\n",
    "    For running the cell of a notebook, hit <b> Cell</b>, then <b>Run</b>. In case you want to run the whole notebook, click <b>Cell</b>, then <b>Run All</b>. When running cell which involves a game, you should spend a bit of time playing, to see how the code works. When leaving the games, just press <b>n</b> at any time, and the final score will be printed out. \n",
    "</div>"
   ]
  },
  {
   "cell_type": "markdown",
   "metadata": {},
   "source": [
    "## Goals"
   ]
  },
  {
   "cell_type": "markdown",
   "metadata": {},
   "source": [
    "<div class = \"alert alert-block alert-info\">\n",
    "After this workshop, the student should get more familiar with the following topics: <br> \n",
    "<ul>\n",
    "    <li> printing basic statements and commands in Jupyter Notebook</li>\n",
    "    <li> performing basic arithmetic calculations in Python</li>\n",
    "    <li> recognizing and checking variable types in Python </li>\n",
    "    <li> using the <b> if </b> and <b> for </b> statements for basic operations </li>\n",
    "    <li> transformations from one digit basis to another digit basis</li>\n",
    "    <li> distinction between <b> data </b> and <b> information </b> </li>\n",
    "    <li> applying basic theoretical background for coding applications in <b> number representation </b> </li>\n",
    "    <li> increasig awareness of <b> Information Technology industry </b> and <b> CPU processing </b> </li>\n",
    "</ul>\n",
    "    \n",
    "<b> These objectives are in agreement with the National 3, National 4, National 5, Higher and Advanced Higher Scottish Curriculum for high-school students. </b> <br> <br> <b> Note: </b> For most of the workshop, the student will be given some coding examples. In some cases, the student will have to code himself/herself. The coding part is optional, but highly recommended to approach. \n",
    "  \n",
    "</div>"
   ]
  },
  {
   "cell_type": "markdown",
   "metadata": {},
   "source": [
    "## Explore"
   ]
  },
  {
   "cell_type": "markdown",
   "metadata": {},
   "source": [
    "<div class = \"alert alert-block alert-success\">\n",
    "This notebook is designed for more practice with the representation of data in the computer and how all the data is used in the brain of the computer - the <b>Central Processing Unit</b>. But first, let us make a clear distinction between <b> data </b> and <b> information. </b> Of course, this will be best represented by an example:\n",
    "\n",
    "Let's say Bob usually goes to tennis, and we want to see when he goes and when he does not:\n",
    "    </div>"
   ]
  },
  {
   "cell_type": "code",
   "execution_count": 3,
   "metadata": {},
   "outputs": [
    {
     "data": {
      "text/html": [
       "<div>\n",
       "<style scoped>\n",
       "    .dataframe tbody tr th:only-of-type {\n",
       "        vertical-align: middle;\n",
       "    }\n",
       "\n",
       "    .dataframe tbody tr th {\n",
       "        vertical-align: top;\n",
       "    }\n",
       "\n",
       "    .dataframe thead th {\n",
       "        text-align: right;\n",
       "    }\n",
       "</style>\n",
       "<table border=\"1\" class=\"dataframe\">\n",
       "  <thead>\n",
       "    <tr style=\"text-align: right;\">\n",
       "      <th></th>\n",
       "      <th>Wind</th>\n",
       "      <th>Sun</th>\n",
       "      <th>Time Period</th>\n",
       "      <th>Go to tennis</th>\n",
       "    </tr>\n",
       "  </thead>\n",
       "  <tbody>\n",
       "    <tr>\n",
       "      <th>Mon</th>\n",
       "      <td>Yes</td>\n",
       "      <td>No</td>\n",
       "      <td>Morning</td>\n",
       "      <td>No</td>\n",
       "    </tr>\n",
       "    <tr>\n",
       "      <th>Tue</th>\n",
       "      <td>Yes</td>\n",
       "      <td>Yes</td>\n",
       "      <td>Evening</td>\n",
       "      <td>Yes</td>\n",
       "    </tr>\n",
       "    <tr>\n",
       "      <th>Wed</th>\n",
       "      <td>No</td>\n",
       "      <td>No</td>\n",
       "      <td>Evening</td>\n",
       "      <td>Yes</td>\n",
       "    </tr>\n",
       "    <tr>\n",
       "      <th>Thur</th>\n",
       "      <td>Yes</td>\n",
       "      <td>No</td>\n",
       "      <td>Evening</td>\n",
       "      <td>Yes</td>\n",
       "    </tr>\n",
       "  </tbody>\n",
       "</table>\n",
       "</div>"
      ],
      "text/plain": [
       "     Wind  Sun Time Period Go to tennis\n",
       "Mon   Yes   No     Morning           No\n",
       "Tue   Yes  Yes     Evening          Yes\n",
       "Wed    No   No     Evening          Yes\n",
       "Thur  Yes   No     Evening          Yes"
      ]
     },
     "execution_count": 3,
     "metadata": {},
     "output_type": "execute_result"
    }
   ],
   "source": [
    "import pandas as pd\n",
    "\n",
    "column_key_dict = {\n",
    "    'Wind': ['Yes', 'Yes', 'No', 'Yes'],\n",
    "    'Sun': ['No', 'Yes', 'No', 'No'],\n",
    "    'Time Period': ['Morning', 'Evening', 'Evening', 'Evening'],\n",
    "    'Go to tennis': ['No', 'Yes', 'Yes', 'Yes']\n",
    "}\n",
    "df = pd.DataFrame.from_dict(column_key_dict, orient='columns')\n",
    "df.index = ['Mon', 'Tue', 'Wed', 'Thur']\n",
    "df"
   ]
  },
  {
   "cell_type": "markdown",
   "metadata": {},
   "source": [
    "<div class = \"alert alert-block alert-success\">\n",
    "The table above shows events which happened, without conveying any specific message. This is called <b> data. </b> No conclusion is shown from the data, we can turn it around as we wish, it can be plotted, and so on... <b> Information </b> is the logical conclusion carried by all the structure of data. In this case, the information is: John goes for tennis during the evening. \n",
    "\n",
    "We will not discuss here whether the above information can be actually trusted or not, or if the data is enough, or the uncertainty in our conclusion... These are topics for another time. Here we just outlined the difference between two concepts which are often mistaken one for the other\n",
    "    </div>"
   ]
  },
  {
   "cell_type": "markdown",
   "metadata": {},
   "source": [
    "#### Binary representation of data"
   ]
  },
  {
   "cell_type": "markdown",
   "metadata": {},
   "source": [
    "<div class = \"alert alert-block alert-success\">\n",
    "    Data is represented in the <b>Central Processing Unit</b> in terms of <b>1s and 0s</b>. It all starts from input, from the keyboard in our case. Each character, digit, or punctuation sign has an associated <b>ASCII code</b> with it (Remember all the exercises from the previous notebooks?). Afterwards, the ASCII code is converted into a series of 1s and 0s which is called a <b>binary number</b>.\n",
    "    </div>"
   ]
  },
  {
   "cell_type": "code",
   "execution_count": 1,
   "metadata": {},
   "outputs": [
    {
     "data": {
      "image/svg+xml": [
       "<?xml version=\"1.0\" encoding=\"UTF-8\" standalone=\"no\"?>\n",
       "<!DOCTYPE svg PUBLIC \"-//W3C//DTD SVG 1.1//EN\"\n",
       " \"http://www.w3.org/Graphics/SVG/1.1/DTD/svg11.dtd\">\n",
       "<!-- Generated by graphviz version 2.42.3 (20191010.1750)\n",
       " -->\n",
       "<!-- Title: %3 Pages: 1 -->\n",
       "<svg width=\"648pt\" height=\"44pt\"\n",
       " viewBox=\"0.00 0.00 648.49 44.00\" xmlns=\"http://www.w3.org/2000/svg\" xmlns:xlink=\"http://www.w3.org/1999/xlink\">\n",
       "<g id=\"graph0\" class=\"graph\" transform=\"scale(1 1) rotate(0) translate(4 40)\">\n",
       "<title>%3</title>\n",
       "<polygon fill=\"white\" stroke=\"transparent\" points=\"-4,4 -4,-40 644.49,-40 644.49,4 -4,4\"/>\n",
       "<!-- A -->\n",
       "<g id=\"node1\" class=\"node\">\n",
       "<title>A</title>\n",
       "<ellipse fill=\"none\" stroke=\"black\" cx=\"68.24\" cy=\"-18\" rx=\"68.49\" ry=\"18\"/>\n",
       "<text text-anchor=\"middle\" x=\"68.24\" y=\"-14.3\" font-family=\"Times,serif\" font-size=\"14.00\">Input keyboard</text>\n",
       "</g>\n",
       "<!-- B -->\n",
       "<g id=\"node2\" class=\"node\">\n",
       "<title>B</title>\n",
       "<ellipse fill=\"none\" stroke=\"black\" cx=\"261.24\" cy=\"-18\" rx=\"107.48\" ry=\"18\"/>\n",
       "<text text-anchor=\"middle\" x=\"261.24\" y=\"-14.3\" font-family=\"Times,serif\" font-size=\"14.00\">ASCII converted message</text>\n",
       "</g>\n",
       "<!-- A&#45;&gt;B -->\n",
       "<g id=\"edge1\" class=\"edge\">\n",
       "<title>A&#45;&gt;B</title>\n",
       "<path fill=\"none\" stroke=\"black\" d=\"M136.85,-18C139.15,-18 141.46,-18 143.76,-18\"/>\n",
       "<polygon fill=\"black\" stroke=\"black\" points=\"143.86,-21.5 153.86,-18 143.86,-14.5 143.86,-21.5\"/>\n",
       "</g>\n",
       "<!-- C -->\n",
       "<g id=\"node3\" class=\"node\">\n",
       "<title>C</title>\n",
       "<ellipse fill=\"none\" stroke=\"black\" cx=\"475.24\" cy=\"-18\" rx=\"89.08\" ry=\"18\"/>\n",
       "<text text-anchor=\"middle\" x=\"475.24\" y=\"-14.3\" font-family=\"Times,serif\" font-size=\"14.00\">Binary digit message</text>\n",
       "</g>\n",
       "<!-- B&#45;&gt;C -->\n",
       "<g id=\"edge2\" class=\"edge\">\n",
       "<title>B&#45;&gt;C</title>\n",
       "<path fill=\"none\" stroke=\"black\" d=\"M368.66,-18C371.12,-18 373.58,-18 376.04,-18\"/>\n",
       "<polygon fill=\"black\" stroke=\"black\" points=\"376.15,-21.5 386.15,-18 376.15,-14.5 376.15,-21.5\"/>\n",
       "</g>\n",
       "<!-- D -->\n",
       "<g id=\"node4\" class=\"node\">\n",
       "<title>D</title>\n",
       "<ellipse fill=\"none\" stroke=\"black\" cx=\"611.24\" cy=\"-18\" rx=\"29.5\" ry=\"18\"/>\n",
       "<text text-anchor=\"middle\" x=\"611.24\" y=\"-14.3\" font-family=\"Times,serif\" font-size=\"14.00\">CPU</text>\n",
       "</g>\n",
       "<!-- C&#45;&gt;D -->\n",
       "<g id=\"edge3\" class=\"edge\">\n",
       "<title>C&#45;&gt;D</title>\n",
       "<path fill=\"none\" stroke=\"black\" d=\"M564.49,-18C566.82,-18 569.14,-18 571.47,-18\"/>\n",
       "<polygon fill=\"black\" stroke=\"black\" points=\"571.66,-21.5 581.66,-18 571.66,-14.5 571.66,-21.5\"/>\n",
       "</g>\n",
       "</g>\n",
       "</svg>\n"
      ],
      "text/plain": [
       "<graphviz.dot.Digraph at 0x7f0f9121e150>"
      ]
     },
     "execution_count": 1,
     "metadata": {},
     "output_type": "execute_result"
    }
   ],
   "source": [
    "import graphviz\n",
    "from graphviz import Digraph\n",
    "\n",
    "g = Digraph()\n",
    "\n",
    "g.node('A', 'Input keyboard')\n",
    "g.node('B', 'ASCII converted message')\n",
    "g.node('C', 'Binary digit message')\n",
    "g.node('D', 'CPU')\n",
    "\n",
    "g.edge('A', 'B', constraint = 'false')\n",
    "g.edge('B', 'C', constraint = 'false')\n",
    "g.edge('C', 'D', constraint = 'false')\n",
    "\n",
    "g"
   ]
  },
  {
   "cell_type": "markdown",
   "metadata": {},
   "source": [
    "<div class = \"alert alert-block alert-success\">\n",
    "<b> Why binary and not any other basis? </b> The computer is made of billion of small electronic devices called <b> transistors. </b> The key feature of transistors which make them so useful is the following: a small external current will trigger off a larger electric current, and this is exactly what happens when you press anything on the keyboard (<b> question: </b> can you use your physics knowledge to explain why?) As a result, the transistors are either <b> on </b> (state 1) or <b> off </b> (state 0). The computer you are holding has been especially designed so that each keyboard has a unique correspondence of 1 and 0 states. \n",
    "\n",
    "Let us take an example from the ASCII table and represent the capital letter G:\n",
    "    </div>"
   ]
  },
  {
   "cell_type": "code",
   "execution_count": 2,
   "metadata": {},
   "outputs": [
    {
     "data": {
      "image/svg+xml": [
       "<?xml version=\"1.0\" encoding=\"UTF-8\" standalone=\"no\"?>\n",
       "<!DOCTYPE svg PUBLIC \"-//W3C//DTD SVG 1.1//EN\"\n",
       " \"http://www.w3.org/Graphics/SVG/1.1/DTD/svg11.dtd\">\n",
       "<!-- Generated by graphviz version 2.42.3 (20191010.1750)\n",
       " -->\n",
       "<!-- Title: %3 Pages: 1 -->\n",
       "<svg width=\"566pt\" height=\"116pt\"\n",
       " viewBox=\"0.00 0.00 566.00 116.00\" xmlns=\"http://www.w3.org/2000/svg\" xmlns:xlink=\"http://www.w3.org/1999/xlink\">\n",
       "<g id=\"graph0\" class=\"graph\" transform=\"scale(1 1) rotate(0) translate(4 112)\">\n",
       "<title>%3</title>\n",
       "<polygon fill=\"white\" stroke=\"transparent\" points=\"-4,4 -4,-112 562,-112 562,4 -4,4\"/>\n",
       "<!-- A -->\n",
       "<g id=\"node1\" class=\"node\">\n",
       "<title>A</title>\n",
       "<ellipse fill=\"none\" stroke=\"black\" cx=\"279\" cy=\"-90\" rx=\"27\" ry=\"18\"/>\n",
       "<text text-anchor=\"middle\" x=\"279\" y=\"-86.3\" font-family=\"Times,serif\" font-size=\"14.00\">G</text>\n",
       "</g>\n",
       "<!-- a -->\n",
       "<g id=\"node2\" class=\"node\">\n",
       "<title>a</title>\n",
       "<ellipse fill=\"red\" stroke=\"black\" cx=\"27\" cy=\"-18\" rx=\"27\" ry=\"18\"/>\n",
       "<text text-anchor=\"middle\" x=\"27\" y=\"-14.3\" font-family=\"Times,serif\" font-size=\"14.00\">0</text>\n",
       "</g>\n",
       "<!-- A&#45;&gt;a -->\n",
       "<g id=\"edge1\" class=\"edge\">\n",
       "<title>A&#45;&gt;a</title>\n",
       "<path fill=\"none\" stroke=\"black\" d=\"M253.24,-84.42C212.25,-76.74 129.96,-59.75 63,-36 61.09,-35.32 59.15,-34.58 57.21,-33.79\"/>\n",
       "<polygon fill=\"black\" stroke=\"black\" points=\"58.21,-30.41 47.64,-29.61 55.4,-36.82 58.21,-30.41\"/>\n",
       "</g>\n",
       "<!-- b -->\n",
       "<g id=\"node3\" class=\"node\">\n",
       "<title>b</title>\n",
       "<ellipse fill=\"blue\" stroke=\"black\" cx=\"99\" cy=\"-18\" rx=\"27\" ry=\"18\"/>\n",
       "<text text-anchor=\"middle\" x=\"99\" y=\"-14.3\" font-family=\"Times,serif\" font-size=\"14.00\">1</text>\n",
       "</g>\n",
       "<!-- A&#45;&gt;b -->\n",
       "<g id=\"edge2\" class=\"edge\">\n",
       "<title>A&#45;&gt;b</title>\n",
       "<path fill=\"none\" stroke=\"black\" d=\"M255.31,-81C226.56,-71.13 176.77,-53.51 135,-36 133.18,-35.24 131.32,-34.44 129.46,-33.61\"/>\n",
       "<polygon fill=\"black\" stroke=\"black\" points=\"130.73,-30.35 120.18,-29.38 127.83,-36.71 130.73,-30.35\"/>\n",
       "</g>\n",
       "<!-- c -->\n",
       "<g id=\"node4\" class=\"node\">\n",
       "<title>c</title>\n",
       "<ellipse fill=\"red\" stroke=\"black\" cx=\"171\" cy=\"-18\" rx=\"27\" ry=\"18\"/>\n",
       "<text text-anchor=\"middle\" x=\"171\" y=\"-14.3\" font-family=\"Times,serif\" font-size=\"14.00\">0</text>\n",
       "</g>\n",
       "<!-- A&#45;&gt;c -->\n",
       "<g id=\"edge3\" class=\"edge\">\n",
       "<title>A&#45;&gt;c</title>\n",
       "<path fill=\"none\" stroke=\"black\" d=\"M260.19,-76.81C243,-65.67 217.38,-49.06 198.01,-36.5\"/>\n",
       "<polygon fill=\"black\" stroke=\"black\" points=\"199.89,-33.56 189.6,-31.05 196.08,-39.43 199.89,-33.56\"/>\n",
       "</g>\n",
       "<!-- d -->\n",
       "<g id=\"node5\" class=\"node\">\n",
       "<title>d</title>\n",
       "<ellipse fill=\"red\" stroke=\"black\" cx=\"243\" cy=\"-18\" rx=\"27\" ry=\"18\"/>\n",
       "<text text-anchor=\"middle\" x=\"243\" y=\"-14.3\" font-family=\"Times,serif\" font-size=\"14.00\">0</text>\n",
       "</g>\n",
       "<!-- A&#45;&gt;d -->\n",
       "<g id=\"edge4\" class=\"edge\">\n",
       "<title>A&#45;&gt;d</title>\n",
       "<path fill=\"none\" stroke=\"black\" d=\"M270.65,-72.76C266.29,-64.28 260.85,-53.71 255.96,-44.2\"/>\n",
       "<polygon fill=\"black\" stroke=\"black\" points=\"258.99,-42.44 251.3,-35.15 252.77,-45.64 258.99,-42.44\"/>\n",
       "</g>\n",
       "<!-- e -->\n",
       "<g id=\"node6\" class=\"node\">\n",
       "<title>e</title>\n",
       "<ellipse fill=\"red\" stroke=\"black\" cx=\"315\" cy=\"-18\" rx=\"27\" ry=\"18\"/>\n",
       "<text text-anchor=\"middle\" x=\"315\" y=\"-14.3\" font-family=\"Times,serif\" font-size=\"14.00\">0</text>\n",
       "</g>\n",
       "<!-- A&#45;&gt;e -->\n",
       "<g id=\"edge5\" class=\"edge\">\n",
       "<title>A&#45;&gt;e</title>\n",
       "<path fill=\"none\" stroke=\"black\" d=\"M287.35,-72.76C291.71,-64.28 297.15,-53.71 302.04,-44.2\"/>\n",
       "<polygon fill=\"black\" stroke=\"black\" points=\"305.23,-45.64 306.7,-35.15 299.01,-42.44 305.23,-45.64\"/>\n",
       "</g>\n",
       "<!-- f -->\n",
       "<g id=\"node7\" class=\"node\">\n",
       "<title>f</title>\n",
       "<ellipse fill=\"blue\" stroke=\"black\" cx=\"387\" cy=\"-18\" rx=\"27\" ry=\"18\"/>\n",
       "<text text-anchor=\"middle\" x=\"387\" y=\"-14.3\" font-family=\"Times,serif\" font-size=\"14.00\">1</text>\n",
       "</g>\n",
       "<!-- A&#45;&gt;f -->\n",
       "<g id=\"edge6\" class=\"edge\">\n",
       "<title>A&#45;&gt;f</title>\n",
       "<path fill=\"none\" stroke=\"black\" d=\"M297.81,-76.81C315,-65.67 340.62,-49.06 359.99,-36.5\"/>\n",
       "<polygon fill=\"black\" stroke=\"black\" points=\"361.92,-39.43 368.4,-31.05 358.11,-33.56 361.92,-39.43\"/>\n",
       "</g>\n",
       "<!-- g -->\n",
       "<g id=\"node8\" class=\"node\">\n",
       "<title>g</title>\n",
       "<ellipse fill=\"blue\" stroke=\"black\" cx=\"459\" cy=\"-18\" rx=\"27\" ry=\"18\"/>\n",
       "<text text-anchor=\"middle\" x=\"459\" y=\"-14.3\" font-family=\"Times,serif\" font-size=\"14.00\">1</text>\n",
       "</g>\n",
       "<!-- A&#45;&gt;g -->\n",
       "<g id=\"edge7\" class=\"edge\">\n",
       "<title>A&#45;&gt;g</title>\n",
       "<path fill=\"none\" stroke=\"black\" d=\"M302.69,-81C331.44,-71.13 381.23,-53.51 423,-36 424.82,-35.24 426.68,-34.44 428.54,-33.61\"/>\n",
       "<polygon fill=\"black\" stroke=\"black\" points=\"430.17,-36.71 437.82,-29.38 427.27,-30.35 430.17,-36.71\"/>\n",
       "</g>\n",
       "<!-- h -->\n",
       "<g id=\"node9\" class=\"node\">\n",
       "<title>h</title>\n",
       "<ellipse fill=\"blue\" stroke=\"black\" cx=\"531\" cy=\"-18\" rx=\"27\" ry=\"18\"/>\n",
       "<text text-anchor=\"middle\" x=\"531\" y=\"-14.3\" font-family=\"Times,serif\" font-size=\"14.00\">1</text>\n",
       "</g>\n",
       "<!-- A&#45;&gt;h -->\n",
       "<g id=\"edge8\" class=\"edge\">\n",
       "<title>A&#45;&gt;h</title>\n",
       "<path fill=\"none\" stroke=\"black\" d=\"M304.76,-84.42C345.75,-76.74 428.04,-59.75 495,-36 496.91,-35.32 498.85,-34.58 500.79,-33.79\"/>\n",
       "<polygon fill=\"black\" stroke=\"black\" points=\"502.6,-36.82 510.36,-29.61 499.79,-30.41 502.6,-36.82\"/>\n",
       "</g>\n",
       "</g>\n",
       "</svg>\n"
      ],
      "text/plain": [
       "<graphviz.dot.Digraph at 0x7f0f909dc690>"
      ]
     },
     "execution_count": 2,
     "metadata": {},
     "output_type": "execute_result"
    }
   ],
   "source": [
    "g = Digraph()\n",
    "\n",
    "g.node('A', 'G')\n",
    "g.node('a', '0', style = 'filled', fillcolor = 'red')\n",
    "g.node('b', '1', style = 'filled', fillcolor = 'blue')\n",
    "g.node('c', '0', style = 'filled', fillcolor = 'red')\n",
    "g.node('d', '0', style = 'filled', fillcolor = 'red')\n",
    "g.node('e', '0', style = 'filled', fillcolor = 'red')\n",
    "g.node('f', '1', style = 'filled', fillcolor = 'blue')\n",
    "g.node('g', '1', style = 'filled', fillcolor = 'blue')\n",
    "g.node('h', '1', style = 'filled', fillcolor = 'blue')\n",
    "\n",
    "g.edge('A', 'a', constraint='true')\n",
    "g.edge('A', 'b', constraint='true')\n",
    "g.edge('A', 'c', constraint='true')\n",
    "g.edge('A', 'd', constraint='true')\n",
    "g.edge('A', 'e', constraint='true')\n",
    "g.edge('A', 'f', constraint='true')\n",
    "g.edge('A', 'g', constraint='true')\n",
    "g.edge('A', 'h', constraint='true')\n",
    "\n",
    "g"
   ]
  },
  {
   "cell_type": "markdown",
   "metadata": {},
   "source": [
    "<div class = \"alert alert-block alert-success\">\n",
    "For G, the specific arrangement of 1s and 0s is shown above. The leter occupies 8 bits in the system, and let us do some little maths: there are 8 transistors responsible for storing the bits of characters, each of them in either state 0 or 1. This corresponds to $2^{8} = 256$ <b>possible distinct states</b>. These cover all the latin characters, digits, punctuation signs and some special characters as well. To check the whole table, just go here: https://www.ascii-code.com/. However, a computer has many many more transistors: they are responsible for connections between the other parts of the whole circuit (the CPU, RAM, Motherboard, Cache Unit, and so on...) Each character will trigger a unique arrangement of the transistors, allowing for the whole input to be uniquely encoded. \n",
    "\n",
    "<b> question: </b> What is the corresponding arrangement for the 0 character? Does it make sense?\n",
    "    </div>"
   ]
  },
  {
   "cell_type": "markdown",
   "metadata": {},
   "source": [
    "<div class = \"alert alert-block alert-warning\">\n",
    "    <b> Exercise: </b>Let us approach first, how a <b>10-digit basis unit</b> can be turned into a <b>binary number</b>: only 0 and 1 digits can be used for expressing a number, and no digit greater than 2 is allowed. Hence, for the simple set 0,1,2,3,4..., the equivalent set in binary system is: 0,1,10,11,100,101, and so on..."
   ]
  },
  {
   "cell_type": "markdown",
   "metadata": {},
   "source": [
    "<div class = \"alert alert-block alert-success\">\n",
    "    <b> Approach: </b>Take a random number: 83, it is prime number so the algorithm for switching to binary number is the easiest to visualize:\n",
    "\n",
    "$83 \\bmod 2  = 1$ and $ 83 \\div 2 = 41 $\n",
    "\n",
    "$41 \\bmod 2  = 1$ and $ 41 \\div 2 = 20 $\n",
    "       \n",
    "$20 \\bmod 2  = 0$ and $ 20 \\div 2 = 10 $\n",
    "\n",
    "$10 \\bmod 2  = 0$ and $ 10 \\div 2 = 5 $\n",
    "\n",
    "$5 \\bmod 2  = 1$ and $ 5 \\div 2 = 2 $\n",
    "\n",
    "$2 \\bmod 2  = 0$ and $ 2 \\div 2 = 1 $\n",
    "\n",
    "$1 \\bmod 2  = 1$ and $ 1 \\div 2 = 0 $\n",
    "\n",
    "The obtained number, as we can see, is $1100101$. Flip the answer, and the result is there: $1010011$. However, we are on the 8-bit representation, with no digit for 8. Hence, adding a 0 for the first position will not change the value in 10-digit system, and the transition to 8-bit system will be complete: <b>The answer is</b>:\n",
    "\n",
    "$83_{(10)} = 01010011_{(2)}$"
   ]
  },
  {
   "cell_type": "markdown",
   "metadata": {},
   "source": [
    "<div class = \"alert alert-block alert-warning\">\n",
    "    <b> Exercise: </b>To convert the 10-digit number into a binary one, we can, as a beginning, do all the above divisions: <b> Investigate </b> the code below, <b> discuss </b> it amongst yourselves and <b> run </b> it."
   ]
  },
  {
   "cell_type": "code",
   "execution_count": 20,
   "metadata": {},
   "outputs": [
    {
     "name": "stdout",
     "output_type": "stream",
     "text": [
      "[1, 1, 0, 0, 1, 0, 1]\n"
     ]
    }
   ],
   "source": [
    "n = 83\n",
    "arr = []\n",
    "while(n>0):\n",
    "    arr.append(n%2)\n",
    "    n = int(n/2)\n",
    "\n",
    "print(arr)"
   ]
  },
  {
   "cell_type": "markdown",
   "metadata": {},
   "source": [
    "<div class = \"alert alert-block alert-warning\">\n",
    "    Very good as a beginning! Now reverse the array: <b> Exercise: </b> I have the original array and want the reversed array. <b> Which index am I using in the square braket? </b>\n",
    "    </div>"
   ]
  },
  {
   "cell_type": "code",
   "execution_count": 22,
   "metadata": {},
   "outputs": [
    {
     "data": {
      "text/plain": [
       "[1, 0, 1, 0, 0, 1, 1]"
      ]
     },
     "execution_count": 22,
     "metadata": {},
     "output_type": "execute_result"
    }
   ],
   "source": [
    "arr_help = []\n",
    "for i in range(len(arr)):\n",
    "    arr_help.append(arr[n-1-i])\n",
    "arr_help"
   ]
  },
  {
   "cell_type": "markdown",
   "metadata": {},
   "source": [
    "<div class = \"alert alert-block alert-warning\">\n",
    "    <b> Almost there!</b> But we have to add the first 0 as well: <b>Remember!</b> Maybe not all the numbers have  digits in this representation (If we chose 5 as number, the correspondent would be only 101 - three digits, not seven. We cannot just say we will add one element. Instead, we calculate in the general case how many 0s should be appended: $ 8 - len(arr) $ <b> Investigate</b> the code below and <b> debate</b> about it."
   ]
  },
  {
   "cell_type": "code",
   "execution_count": 25,
   "metadata": {},
   "outputs": [
    {
     "data": {
      "text/plain": [
       "[0, 1, 0, 1, 0, 0, 1, 1]"
      ]
     },
     "execution_count": 25,
     "metadata": {},
     "output_type": "execute_result"
    }
   ],
   "source": [
    "arr_help = []\n",
    "i = 0\n",
    "while(i < ( 8 - len(arr))):\n",
    "    arr_help.append(0)\n",
    "    i += 1\n",
    "for i in range(len(arr)):\n",
    "    arr_help.append(arr[n-1-i])\n",
    "arr_help"
   ]
  },
  {
   "cell_type": "markdown",
   "metadata": {},
   "source": [
    "<div class = \"alert alert-block alert-warning\">\n",
    "    <b>Perfect!</b> Let us do all this in a converter function:\n",
    "    </div>"
   ]
  },
  {
   "cell_type": "code",
   "execution_count": 32,
   "metadata": {},
   "outputs": [
    {
     "data": {
      "text/plain": [
       "[0, 1, 0, 1, 0, 0, 1, 1]"
      ]
     },
     "execution_count": 32,
     "metadata": {},
     "output_type": "execute_result"
    }
   ],
   "source": [
    "def convert_to_binary(n):\n",
    "    \n",
    "    arr = []\n",
    "    while(n>0):\n",
    "        arr.append(n%2)\n",
    "        n = int(n/2)\n",
    "    \n",
    "    arr_help = []\n",
    "    i = 0\n",
    "    while(i < ( 8 - len(arr))):\n",
    "        arr_help.append(0)\n",
    "        i += 1\n",
    "    for i in range(len(arr)):\n",
    "        arr_help.append(arr[n-1-i])\n",
    "        \n",
    "    return arr_help\n",
    "\n",
    "convert_to_binary(83)"
   ]
  },
  {
   "cell_type": "markdown",
   "metadata": {},
   "source": [
    "<div class = \"alert alert-block alert-warning\">\n",
    "Try this yourselves as many times as you want to make sure it works!\n",
    "\n",
    "Now, what about going <b>back to the 10-digit system?</b> Take the previous example for 83, where we got the number $01010011$\n",
    "\n",
    "Take each digit and multiply it to the power of index location:\n",
    "\n",
    "$ 1 \\cdot 2^{0} + 1 \\cdot 2^{1} + 0 \\cdot 2^{2} + 0 \\cdot 2^{3} + 1 \\cdot 2^{4} + 0 \\cdot 2^{5} + 1 \\cdot 2^{6} + 0 \\cdot 2^{7} = 83 $  \n",
    "    </div>"
   ]
  },
  {
   "cell_type": "code",
   "execution_count": 29,
   "metadata": {},
   "outputs": [
    {
     "name": "stdout",
     "output_type": "stream",
     "text": [
      "83\n"
     ]
    }
   ],
   "source": [
    "print(64 + 16 + 2 + 1)"
   ]
  },
  {
   "cell_type": "markdown",
   "metadata": {},
   "source": [
    "How to do this in coding? Details for debugging will be left to you (More coding exercises are presumed) "
   ]
  },
  {
   "cell_type": "code",
   "execution_count": 34,
   "metadata": {},
   "outputs": [
    {
     "data": {
      "text/plain": [
       "83"
      ]
     },
     "execution_count": 34,
     "metadata": {},
     "output_type": "execute_result"
    }
   ],
   "source": [
    "a = convert_to_binary(83)\n",
    "summ = 0\n",
    "exponent = 0\n",
    "for i in range(len(a)):\n",
    "    summ += a[len(a) - (i+1)] * 2**(exponent)\n",
    "    exponent += 1\n",
    "summ"
   ]
  },
  {
   "cell_type": "markdown",
   "metadata": {},
   "source": [
    "### Convertion into hexadecimal units"
   ]
  },
  {
   "cell_type": "markdown",
   "metadata": {},
   "source": [
    "<div class = \"alert alert-block alert-warning\">\n",
    "How to convert, now, a number in 10-digit basis into a number in 6-digit basis? The process is exactly the same. To make it a nice generalization, let us just replace 2 with n, so we get <b>representation of any number in any other basis</b>:\n",
    "    </div>"
   ]
  },
  {
   "cell_type": "code",
   "execution_count": 3,
   "metadata": {},
   "outputs": [
    {
     "name": "stdout",
     "output_type": "stream",
     "text": [
      "[0, 0, 0, 0, 0, 0, 5, 3]\n"
     ]
    }
   ],
   "source": [
    "def convert_to_pary(n,p):\n",
    "    \n",
    "    arr = []\n",
    "    while(n>0):\n",
    "        arr.append(n%p)\n",
    "        n = int(n/p)\n",
    "    \n",
    "    arr_help = []\n",
    "    i = 0\n",
    "    while(i < ( 8 - len(arr))):\n",
    "        arr_help.append(0)\n",
    "        i += 1\n",
    "    for i in range(len(arr)):\n",
    "        arr_help.append(arr[n-1-i])\n",
    "        \n",
    "    return arr_help"
   ]
  },
  {
   "cell_type": "markdown",
   "metadata": {},
   "source": [
    "<div class = \"alert alert-block alert-warning\">\n",
    "    Let us try the <b>hexadecimal</b> convertion:\n",
    "    </div>"
   ]
  },
  {
   "cell_type": "code",
   "execution_count": 4,
   "metadata": {},
   "outputs": [
    {
     "name": "stdout",
     "output_type": "stream",
     "text": [
      "[0, 0, 0, 0, 0, 0, 5, 3]\n"
     ]
    }
   ],
   "source": [
    "print(convert_to_pary(83,16))"
   ]
  },
  {
   "cell_type": "markdown",
   "metadata": {},
   "source": [
    "## Take-away"
   ]
  },
  {
   "cell_type": "markdown",
   "metadata": {},
   "source": [
    "<div class = \"alert alert-block alert-success\">\n",
    "This is it for today, and well done for managing to go through the material!! <br> <br> After this session, you should be more familiar with how simple sentences, numbers and conditional statements can be printed in Python. Moreover, ponder a bit on the for instruction, as it is heavily used in programming. Also, feel free to work more on this notebook using any commands you would like. <br> <br>\n",
    "<b> Note: </b> Always keep a back-up of the notebook, in case the original one is altered. <br><br>\n",
    "For today's session, this should be enough! See you later!!\n",
    "    </div>"
   ]
  },
  {
   "cell_type": "code",
   "execution_count": 1,
   "metadata": {},
   "outputs": [
    {
     "name": "stdout",
     "output_type": "stream",
     "text": [
      "Bye bye! :D\n"
     ]
    }
   ],
   "source": [
    "print(\"Bye bye! :D\")"
   ]
  },
  {
   "cell_type": "markdown",
   "metadata": {},
   "source": [
    "![Noteable license](https://github.com/jstix/mr-noteable/blob/master/Banner%20image/Screenshot%202021-03-05%20115453.png?raw=true)"
   ]
  }
 ],
 "metadata": {
  "kernelspec": {
   "display_name": "Python 3",
   "language": "python",
   "name": "python3"
  },
  "language_info": {
   "codemirror_mode": {
    "name": "ipython",
    "version": 3
   },
   "file_extension": ".py",
   "mimetype": "text/x-python",
   "name": "python",
   "nbconvert_exporter": "python",
   "pygments_lexer": "ipython3",
   "version": "3.7.6"
  }
 },
 "nbformat": 4,
 "nbformat_minor": 4
}
