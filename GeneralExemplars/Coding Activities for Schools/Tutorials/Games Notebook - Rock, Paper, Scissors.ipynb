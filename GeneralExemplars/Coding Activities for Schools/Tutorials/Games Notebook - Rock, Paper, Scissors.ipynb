{
 "cells": [
  {
   "cell_type": "markdown",
   "metadata": {},
   "source": [
    "![Noteable.ac.uk Banner](https://github.com/jstix/mr-noteable/blob/master/Banner%20image/1500x500.jfif?raw=true)"
   ]
  },
  {
   "cell_type": "markdown",
   "metadata": {},
   "source": [
    "# Games"
   ]
  },
  {
   "cell_type": "markdown",
   "metadata": {},
   "source": [
    "## Legend"
   ]
  },
  {
   "cell_type": "markdown",
   "metadata": {},
   "source": [
    "<div class = \"alert alert-block alert-info\">\n",
    "    In <b> blue</b>, the <b> instructions </b> and <b> goals </b> are highlighted.\n",
    "</div>"
   ]
  },
  {
   "cell_type": "markdown",
   "metadata": {},
   "source": [
    "<div class = \"alert alert-block alert-success\">\n",
    "    In <b> green</b>, the <b> information </b> is highlighted.\n",
    "</div>"
   ]
  },
  {
   "cell_type": "markdown",
   "metadata": {},
   "source": [
    "<div class = \"alert alert-block alert-warning\">\n",
    "    In <b> yellow</b>, the <b> exercises </b> are highlighted.\n",
    "</div>"
   ]
  },
  {
   "cell_type": "markdown",
   "metadata": {},
   "source": [
    "<div class = \"alert alert-block alert-danger\">\n",
    "    In <b> red</b>, the <b> error </b> and <b> alert messages </b> are highlighted.\n",
    "</div>"
   ]
  },
  {
   "cell_type": "markdown",
   "metadata": {},
   "source": [
    "## Instructions"
   ]
  },
  {
   "cell_type": "markdown",
   "metadata": {},
   "source": [
    "<div class = \"alert alert-block alert-info\">\n",
    "    For running the cell of a notebook, hit <b> Cell</b>, then <b>Run</b>. In case you want to run the whole notebook, click <b>Cell</b>, then <b>Run All</b>. When running cell which involves a game, you should spend a bit of time playing, to see how the code works. When leaving the games, just press <b>n</b> at any time, and the final score will be printed out. \n",
    "</div>"
   ]
  },
  {
   "cell_type": "markdown",
   "metadata": {},
   "source": [
    "## Objectives"
   ]
  },
  {
   "cell_type": "markdown",
   "metadata": {},
   "source": [
    "<div class = \"alert alert-block alert-info\">\n",
    "After this workshop, the student should get more familiar with the following topics: <br> \n",
    "<ul>\n",
    "    <li> printing basic statements and commands in Jupyter Notebook</li>\n",
    "    <li> performing basic arithmetic calculations in Python</li>\n",
    "    <li> recognizing and checking variable types in Python </li>\n",
    "    <li> using the <b> if </b> and <b> for </b> statements for basic operations </li>\n",
    "    <li> using <b>strings</b> in Python and learning about the <b>ASCII</b> Table </li>\n",
    "    <li> applying basic theoretical background for coding applications in <b> game design </b> </li>\n",
    "    <li> increasig awareness of Information Technology industry </li>\n",
    "</ul>\n",
    "    \n",
    "<b> These objectives are in agreement with the National 3, National 4, National 5, Higher and Advanced Higher Scottish Curriculum for high-school students. </b> <br> <br> <b> Note: </b> For most of the workshop, the student will be given some coding examples. In some cases, the student will have to code himself/herself. The coding part is optional, but highly recommended to approach. \n",
    "  \n",
    "</div>"
   ]
  },
  {
   "cell_type": "markdown",
   "metadata": {},
   "source": [
    "## Explore"
   ]
  },
  {
   "cell_type": "markdown",
   "metadata": {},
   "source": [
    "Welcome to another workshop together! This time, we will focus on building games together. Let us begin with a very common example:"
   ]
  },
  {
   "cell_type": "markdown",
   "metadata": {},
   "source": [
    "### Rock-Paper-Scrissors"
   ]
  },
  {
   "cell_type": "markdown",
   "metadata": {},
   "source": [
    "<div class = \"alert alert-block alert-success\">\n",
    "You should be familiar with this game, but we will review the rules nevertheless: this is a two-player game, so in our case it's you against the computer. Rock beats Scrissors, Scrissors beats Paper, and Paper beats Rock. We will play against the computer. For simplicity, let us assume the computer will choose randomly ( as we all choose randomly in this game ):\n",
    "    </div>"
   ]
  },
  {
   "cell_type": "code",
   "execution_count": 1,
   "metadata": {},
   "outputs": [],
   "source": [
    "import numpy as np"
   ]
  },
  {
   "cell_type": "markdown",
   "metadata": {},
   "source": [
    "<div class = \"alert alert-block alert-success\">\n",
    "    <b> Numypy </b> is a <b> Python library </b> used for manipulating arrays and numbers. Plenty of special operations can be done with <b> Numpy </b> (in fact, one of them is shown below). The library has been <b> imported </b> using the command line <b> import</b>. "
   ]
  },
  {
   "cell_type": "markdown",
   "metadata": {},
   "source": [
    "<div class = \"alert alert-block alert-warning\">\n",
    "<b> Exercise: </b> <b> Investigate </b> the cell code below and predict the outcome. <b> Discuss </b> it with your colleagues and teachers, and <b> run </b> the code afterwards.\n",
    "    </div>"
   ]
  },
  {
   "cell_type": "code",
   "execution_count": 3,
   "metadata": {},
   "outputs": [
    {
     "name": "stdout",
     "output_type": "stream",
     "text": [
      "rock (r), paper (p), or scrissors (s) ?p\n",
      "You lost! Try again!\n"
     ]
    }
   ],
   "source": [
    "RPS_game = [\"r\", \"s\", \"p\"]\n",
    "user = input(\"rock (r), paper (p), or scrissors (s) ?\")\n",
    "computer = RPS_game[np.random.randint(0,3)]\n",
    "\n",
    "if(user == computer):\n",
    "    print(\"Draw! Play again!\")\n",
    "\n",
    "elif((user == \"r\" and computer == \"s\") or (user == \"s\" and computer == \"p\") or (user == \"p\" and computer == \"r\")):\n",
    "    print(\"Congrats! You won!\")\n",
    "\n",
    "else:\n",
    "    print(\"You lost! Try again!\")"
   ]
  },
  {
   "cell_type": "markdown",
   "metadata": {},
   "source": [
    "<div class = \"alert alert-block alert-warning\">\n",
    "    Do you feel a bit cheated because you cannot see what the computer prints out? <b> Fix </b> it. <b> Exercise: </b> add code lines in order to check what you have chosen and what the computer has chosen.<b> Remember: </b> The computer chooses only rock (<b>r</b>), paper (<b>p</b>), or scrissors (<b>s</b>).\n",
    "    </div>"
   ]
  },
  {
   "cell_type": "code",
   "execution_count": null,
   "metadata": {},
   "outputs": [],
   "source": [
    "RPS_game = [\"r\", \"s\", \"p\"]\n",
    "user = input(\"rock (r), paper (p), or scrissors (s)? \")\n",
    "computer = RPS_game[np.random.randint(0,3)]\n",
    "\n",
    "if(user == computer):\n",
    "    print(\"Draw! Play again!\")\n",
    "\n",
    "elif((user == \"r\" and computer == \"s\") or (user == \"s\" and computer == \"p\") or (user == \"p\" and computer == \"r\")):\n",
    "    print(\"Congrats! You won!\")\n",
    "\n",
    "else:\n",
    "    print(\"You lost! Try again!\")\n",
    "    \n",
    "print(\"You have chosen: \" + str(user))\n",
    "print(\"Computer has chosen: \" + str(computer))"
   ]
  },
  {
   "cell_type": "markdown",
   "metadata": {},
   "source": [
    "<div class = \"alert alert-block alert-warning\">\n",
    "Let us change a bit the game, and design it in such a way so that you will always win. <b> Exercise: </b> <b> Investigate </b> the code below.\n",
    "    </div>"
   ]
  },
  {
   "cell_type": "code",
   "execution_count": null,
   "metadata": {},
   "outputs": [],
   "source": [
    "RPS_game = [\"r\", \"s\", \"p\"]\n",
    "user = input(\"rock (r), paper (p), or scrissors (s)? \")\n",
    "computer = RPS_game[np.random.randint(0,3)]\n",
    "\n",
    "if(user == \"r\"):\n",
    "    computer = \"s\"\n",
    "\n",
    "elif(user == \"s\"):\n",
    "    computer = \"p\"\n",
    "\n",
    "else:\n",
    "    computer = \"r\"\n",
    "    \n",
    "print(\"Well done! You have won\")    \n",
    "print(\"You have chosen: \" + str(user))\n",
    "print(\"Computer has chosen: \" + str(computer))"
   ]
  },
  {
   "cell_type": "markdown",
   "metadata": {},
   "source": [
    "<div class = \"alert alert-block alert-warning\">\n",
    "    <b> Exercise: </b> <b> Change </b> the code, in similar manner, in such a way that you will always lose. <b> Hint: </b> only three characters have to be changed.\n",
    "    </div>"
   ]
  },
  {
   "cell_type": "code",
   "execution_count": null,
   "metadata": {},
   "outputs": [],
   "source": [
    "# Write your own code here"
   ]
  },
  {
   "cell_type": "markdown",
   "metadata": {},
   "source": [
    "<div class = \"alert alert-block alert-warning\">\n",
    "    Let us now create another <b> game</b>.\n",
    "    </div>\n"
   ]
  },
  {
   "cell_type": "markdown",
   "metadata": {},
   "source": [
    "### Password Generator"
   ]
  },
  {
   "cell_type": "markdown",
   "metadata": {},
   "source": [
    "<div class = \"alert alert-block alert-success\">\n",
    "    <b>Passwords</b> are vital for personal security while navigating online. However, they need to be chosen carefully, otherwise they will be cracked instantly. Let us work initially with a password generated by common characters, from a to z. \n",
    "    </div>"
   ]
  },
  {
   "cell_type": "code",
   "execution_count": null,
   "metadata": {},
   "outputs": [],
   "source": [
    "N = 10"
   ]
  },
  {
   "cell_type": "markdown",
   "metadata": {},
   "source": [
    "<div class = \"alert alert-block alert-success\">\n",
    "Let N be the length of the chosen password. Now let us proceed with choosng 10 random characters. We will do so by using the <b> ASCII </b> Code of each character (Go back to the <b> Encryption notebook</b> to recall the role of <b> ASCII </b> table).\n",
    "    </div>"
   ]
  },
  {
   "cell_type": "markdown",
   "metadata": {},
   "source": [
    "<div class = \"alert alert-block alert-warning\">\n",
    "<b> Exercise: </b> <b> Investigate </b> the cell code below and predict the outcome. <b> Discuss </b> it with your colleagues and teachers, and <b> run </b> the code afterwards.\n",
    "    </div>"
   ]
  },
  {
   "cell_type": "code",
   "execution_count": null,
   "metadata": {},
   "outputs": [],
   "source": [
    "my_password = []\n",
    "\n",
    "for i in range(N):\n",
    "    \n",
    "    rand_number = np.random.randint(0,26) + 97\n",
    "    my_password += chr(rand_number)\n",
    "\n",
    "my_password"
   ]
  },
  {
   "cell_type": "markdown",
   "metadata": {},
   "source": [
    "<div class = \"alert alert-block alert-success\">\n",
    "    For beginning, this is good! We managed to create a <b> random password</b>, well done!! However, this is so far from achieving at least a decent password. We need to do much more and take into consideration the following: The password should contain characters from 0 to 9 as well, so let us add this (the addition of such numbers will produce randomly):\n",
    "    </div>"
   ]
  },
  {
   "cell_type": "code",
   "execution_count": null,
   "metadata": {},
   "outputs": [],
   "source": [
    "my_password = []\n",
    "\n",
    "for i in range(N):\n",
    "    \n",
    "    ok = np.random.randint(0,2)\n",
    "    if(ok == 0):\n",
    "        rand_number = np.random.randint(0,26) + 97\n",
    "        my_password += chr(rand_number)\n",
    "    else:\n",
    "        rand_number = np.random.randint(0,10) + 48\n",
    "        my_password += chr(rand_number)\n",
    "\n",
    "my_password"
   ]
  },
  {
   "cell_type": "markdown",
   "metadata": {},
   "source": [
    "<div class = \"alert alert-block alert-success\">\n",
    "Well done!! Now we have characters and digits as well! However, this is not good enough, we need more... A password should also have characters such as <b> .,#$^&*...</b>(the shift characters from 1 to 0 over the letter keyboard) so let us try them out, also in a random manner.\n",
    "    </div>"
   ]
  },
  {
   "cell_type": "markdown",
   "metadata": {},
   "source": [
    "<div class = \"alert alert-block alert-warning\">\n",
    "<b> Exercise: </b> From the previous workshop on encryption and decryption, work out the <b> ASCII code</b> for character '#'.\n",
    "    </div>"
   ]
  },
  {
   "cell_type": "code",
   "execution_count": null,
   "metadata": {},
   "outputs": [],
   "source": [
    "# Write your own code here"
   ]
  },
  {
   "cell_type": "markdown",
   "metadata": {},
   "source": [
    "<div class = \"alert alert-block alert-warning\">\n",
    "<b> Exercise: </b> <b> Investigate </b> the cell code below and predict the outcome. <b> Discuss </b> it with your colleagues and teachers, and <b> run </b> the code afterwards.\n",
    "    </div>"
   ]
  },
  {
   "cell_type": "code",
   "execution_count": null,
   "metadata": {},
   "outputs": [],
   "source": [
    "my_password = []\n",
    "\n",
    "for i in range(N):\n",
    "    \n",
    "    ok = np.random.randint(0,3)\n",
    "    if(ok == 0):\n",
    "        rand_number = np.random.randint(0,26) + 97\n",
    "        my_password += chr(rand_number)\n",
    "    elif(ok == 1):\n",
    "        rand_number = np.random.randint(0,10) + 48\n",
    "        my_password += chr(rand_number)\n",
    "    elif(ok == 2):\n",
    "        rand_number = np.random.randint(0,10) + 33\n",
    "        my_password += chr(rand_number)\n",
    "\n",
    "my_password"
   ]
  },
  {
   "cell_type": "markdown",
   "metadata": {},
   "source": [
    "<div class = \"alert alert-block alert-warning\">\n",
    "    Now we already have a better-suited password, but let us also add the <b>capital letters</b> in here. By now you are a bit familiar with the procedure.\n",
    "        </div>"
   ]
  },
  {
   "cell_type": "markdown",
   "metadata": {},
   "source": [
    "<div class = \"alert alert-block alert-warning\">\n",
    "    <b> Exercise: </b> Work out the <b> ASCII code</b> of capital letters and update the passowrd generation procedure by adding the condition for capital letters. <b> Hint: </b> Use the model above, with the following additions:\n",
    "    <ul>\n",
    "        <li> Add another condition for capital letters. This means a <b> randint</b> from 0 to 3 </li>\n",
    "        <li> Compute the <b> ASCII</b> code for capital letters </li>\n",
    "    </ul>\n",
    "        </div>"
   ]
  },
  {
   "cell_type": "code",
   "execution_count": null,
   "metadata": {},
   "outputs": [],
   "source": [
    "my_password = []\n",
    "\n",
    "for i in range(N):\n",
    "    \n",
    "    ok = np.random.randint(0,4)\n",
    "    if(ok == 0):\n",
    "        rand_number = np.random.randint(0,26) + 97\n",
    "        my_password += chr(rand_number)\n",
    "    elif(ok == 1):\n",
    "        rand_number = np.random.randint(0,10) + 48\n",
    "        my_password += chr(rand_number)\n",
    "    elif(ok == 2):\n",
    "        rand_number = np.random.randint(0,10) + 33\n",
    "        my_password += chr(rand_number)\n",
    " # Add your own condition here\n",
    "        \n",
    "my_password"
   ]
  },
  {
   "cell_type": "markdown",
   "metadata": {},
   "source": [
    "<div class = \"alert alert-block alert-success\">\n",
    "Even more combinations can be done, to add characters and digits, to obey some patterns and so on... you can go ahead and play with the code as you desire. Or if you would like, you can use this as your generator password (although realistically speaking password generated here are still not good enough). <br><br> Now let us move, with this occasion, to a similar field: <b> encrypting messages. </b> One useful method to encrypt messages is by switching the position of the letters: a goes to b, b goes to c, c goes to d, and so on... This is called <b> Caesar's Ciphering. </b>\n",
    "    </div>"
   ]
  },
  {
   "cell_type": "code",
   "execution_count": null,
   "metadata": {},
   "outputs": [],
   "source": [
    "my_message = \"When are we going for football?\"\n",
    "\n",
    "encrypted_message = []\n",
    "\n",
    "for i in range(len(my_message)):\n",
    "    encrypted_message += chr(ord(my_message[i]) + 1)\n",
    "    \n",
    "''.join(encrypted_message)"
   ]
  },
  {
   "cell_type": "markdown",
   "metadata": {},
   "source": [
    "<div class = \"alert alert-block alert-warning\">\n",
    "Unrecognizable, isn't it? <b> Challenge game: </b> Talk to a friend and send him an encrypted message. Let him decipher the message using the Caesar's Cipher Algorithm. You will have to agree upon the key (if he characters are shifted with one unit, two, three, and so on...) <b> Note: </b> If you want a deeper understanding on how encryption works, visit the Encryption-Decryption Notebook.\n",
    "    </div>"
   ]
  },
  {
   "cell_type": "markdown",
   "metadata": {},
   "source": [
    "<div class = \"alert alert-block alert-warning\">\n",
    "    Let us switch now to another <b>game</b> we have all been familiar with:\n",
    "    </div>"
   ]
  },
  {
   "cell_type": "markdown",
   "metadata": {},
   "source": [
    "### Hangman"
   ]
  },
  {
   "cell_type": "markdown",
   "metadata": {},
   "source": [
    "<div class = \"alert alert-block alert-success\">\n",
    "    Do you know the rules for <b>Hangman</b>? You are given the number of characters and you need to guess the word. You have limited number of trials. Let us begin with some words we can choose from: <b> Note: </b> Since it is our first time, let's also create this additional rule: we can only choose a letter one time, meaning that no word in this game should have any letter repeated.<br><br> This part of notebook is particularly designed in such a way that no coding is required. However, you are supposed to <b> investigate </b> the notebook.\n",
    "    </div>"
   ]
  },
  {
   "cell_type": "code",
   "execution_count": 4,
   "metadata": {},
   "outputs": [],
   "source": [
    "no_of_words = [\"Edinburgh\", \"StGiles\", \"Arthur'sSeat\", \"Scotland\"] # let us ignore the spaces to make life easier for the moment"
   ]
  },
  {
   "cell_type": "markdown",
   "metadata": {},
   "source": [
    "Choose a random word now, to play Hangman, from the list:"
   ]
  },
  {
   "cell_type": "markdown",
   "metadata": {},
   "source": [
    "<div class = \"alert alert-block alert-warning\">\n",
    "    <b> Exercise: </b> <b> Investigate </b> what tis the role of the cell below and check how <b> numpy </b> library is used. <b> Discuss</b> it amongst yourselves.\n",
    "    </div>"
   ]
  },
  {
   "cell_type": "code",
   "execution_count": 5,
   "metadata": {},
   "outputs": [],
   "source": [
    "random_word = no_of_words[np.random.randint(0,len(no_of_words))]\n",
    "# Do not print it!! We are playing a game"
   ]
  },
  {
   "cell_type": "markdown",
   "metadata": {},
   "source": [
    "<div class = \"alert alert-block alert-warning\">\n",
    "    <b> Exercise: </b>The cell below takes the length of the word to print out an initially empty string. <b> Analyze </b> how that is done.\n",
    "    </div>"
   ]
  },
  {
   "cell_type": "code",
   "execution_count": 6,
   "metadata": {},
   "outputs": [
    {
     "data": {
      "text/plain": [
       "'*********'"
      ]
     },
     "execution_count": 6,
     "metadata": {},
     "output_type": "execute_result"
    }
   ],
   "source": [
    "N = len(random_word)\n",
    "# Do not print the length of the word\n",
    "empty_string = []\n",
    "for i in range(N):\n",
    "    empty_string.append('*')\n",
    "    \n",
    "''.join(empty_string)"
   ]
  },
  {
   "cell_type": "markdown",
   "metadata": {},
   "source": [
    "<div class = \"alert alert-block alert-warning\">\n",
    "    <b> Exercise: </b> The cell below checks whether a character is found in a string. <b> Analyze </b> the code, and <b> discuss </b> it with your peers.\n",
    "    </div>"
   ]
  },
  {
   "cell_type": "code",
   "execution_count": 10,
   "metadata": {},
   "outputs": [
    {
     "name": "stdout",
     "output_type": "stream",
     "text": [
      "Introduce a latter here: E\n"
     ]
    },
    {
     "data": {
      "text/plain": [
       "'E********'"
      ]
     },
     "execution_count": 10,
     "metadata": {},
     "output_type": "execute_result"
    }
   ],
   "source": [
    "char = str(input(\"Introduce a letter here: \"))\n",
    "new_string = []\n",
    "\n",
    "if(random_word.find(char) != -1):\n",
    "    \n",
    "    for i in range(N):\n",
    "        if(i == random_word.find(char)):\n",
    "            new_string += char\n",
    "        else:\n",
    "            new_string += \"*\"\n",
    "            \n",
    "else:\n",
    "    \n",
    "    for i in range(N):\n",
    "        new_string += \"*\"\n",
    "            \n",
    "''.join(new_string)"
   ]
  },
  {
   "cell_type": "markdown",
   "metadata": {},
   "source": [
    "<div class = \"alert alert-block alert-success\">\n",
    "For the moment, to begin with easy steps, let us add the following additional rule for Hangman: Do <b> not</b> choose words whose letters repeat themselves (We will discuss later this case as well, but for the moment let us take it from the easy level). <br><br> Take now a <b>counter</b>, to keep track of the guessed characters. Until the counter reaches the length of the word, you have to keep playing, to get the word right."
   ]
  },
  {
   "cell_type": "markdown",
   "metadata": {},
   "source": [
    "<div class = \"alert alert-block alert-warning\">\n",
    "    <b> Exercises: </b> <b> Investigate </b> the following questions and the code below.\n",
    "    <ul>\n",
    "        <li> Which is the <b>counter</b> in my code below? </li>\n",
    "        <li> Which is the best function to use whenever we do not know exactly <b>how many steps</b> are required in a code, but we definitely know the condition which needs to be achieved? </li>\n",
    "        <li> Investigate the function find from the <b> string</b> library (go back to the <b> chars</b> notebook if this is unclear to you) </li>\n",
    "        </ul>\n",
    "    </div>"
   ]
  },
  {
   "cell_type": "code",
   "execution_count": null,
   "metadata": {},
   "outputs": [],
   "source": [
    "# We know the length of the random word N\n",
    "empty_string_copy = ''.join(empty_string)\n",
    "\n",
    "count = 0\n",
    "\n",
    "while(count < N):\n",
    "    \n",
    "    char = str(input(\"Introduce a letter here: \"))\n",
    "    if(random_word.find(char) != -1):\n",
    "        count += 1\n",
    "        empty_string_copy = []\n",
    "        for i in range(N):\n",
    "            if(i == random_word.find(char)):\n",
    "                empty_string_copy += char\n",
    "            else:\n",
    "                empty_string_copy += \"*\"\n",
    "                \n",
    "    print(''.join(empty_string_copy))\n",
    "    \n",
    "print(\"Well done!! You have completed the game!\")"
   ]
  },
  {
   "cell_type": "markdown",
   "metadata": {},
   "source": [
    "<div class = \"alert alert-block alert-danger\">\n",
    "    Something surely goes <b>wrong</b>, as only the last letter from the keyboard is found within the string. What to do? We will need two copies of the string, one which retains the lastly updated string, and another one for updatng it once more.\n",
    "    </div>"
   ]
  },
  {
   "cell_type": "code",
   "execution_count": null,
   "metadata": {},
   "outputs": [],
   "source": [
    "# We know the length of the random word N\n",
    "empty_string_copy_1 = ''.join(empty_string)\n",
    "empty_string_copy_2 = []\n",
    "\n",
    "count = 0\n",
    "\n",
    "while(count < N):\n",
    "    \n",
    "    char = str(input(\"Introduce a letter here: \"))\n",
    "    if(random_word.find(char) != -1):\n",
    "        count += 1\n",
    "        empty_string_copy_2 = empty_string_copy_1\n",
    "        empty_string_copy_1 = []\n",
    "        for i in range(N):\n",
    "            if(i == random_word.find(char)):\n",
    "                empty_string_copy_1 += char\n",
    "            else:\n",
    "                empty_string_copy_1 += empty_string_copy_2[i]\n",
    "                \n",
    "    print(''.join(empty_string_copy_1))\n",
    "    \n",
    "print(\"Well done!! You have completed the game!\")"
   ]
  },
  {
   "cell_type": "markdown",
   "metadata": {},
   "source": [
    "<div class = \"alert alert-block alert-success\">\n",
    "    Well done! <b> You have managed to implement the Sudoku game </b>and understand a bit how it works. If you did not understand anything from the first sight, completely fine!! Nothing truly rewarding is done easy... Make sure to read through the code and understand some of the command lines. (Why did I make two copies of the string? What do they represent? What if I use only one copy for updating? See both of the examples, talk this amongst yourselves, ask the teacher for more clarity) <br><br> So far, we have offered the player <b>unlimited</b> number of trials. However, we have to change this, just as in the Hangman game: first, draw a head if you miss a character, then a hand, leg, until the man is hung. In reality, nobody will be hanged, of course, but we will have a <b>limited</b> number of allowed missed characters:\n",
    "    </div>"
   ]
  },
  {
   "cell_type": "markdown",
   "metadata": {},
   "source": [
    "<div class = \"alert alert-block alert-warning\">\n",
    "    <b> Exercises: </b> <b> Investigate </b> the following questions and the code below.\n",
    "    <ul>\n",
    "        <li> Which is the <b>counter</b> for the number of trials in my code below? </li>\n",
    "        <li> Where can you modify the number of trials? </li>\n",
    "        <li> Why are there <b>two</b> conditions now in the while statement? </li>\n",
    "        </ul>\n",
    "    </div>"
   ]
  },
  {
   "cell_type": "code",
   "execution_count": null,
   "metadata": {},
   "outputs": [],
   "source": [
    "# We know the length of the random word N\n",
    "empty_string_copy_1 = ''.join(empty_string)\n",
    "empty_string_copy_2 = []\n",
    "\n",
    "count = 0\n",
    "no_trials = 0 # Set variable for how many times you miss the character\n",
    "\n",
    "while(count < N and no_trials < 3): # You can miss the character 3 times. Feel free to change this variable\n",
    "    \n",
    "    char = str(input(\"Introduce a letter here: \"))\n",
    "    if(random_word.find(char) != -1):\n",
    "        count += 1\n",
    "        empty_string_copy_2 = empty_string_copy_1\n",
    "        empty_string_copy_1 = []\n",
    "        for i in range(N):\n",
    "            if(i == random_word.find(char)):\n",
    "                empty_string_copy_1 += char\n",
    "            else:\n",
    "                empty_string_copy_1 += empty_string_copy_2[i]\n",
    "    else:\n",
    "        no_trials += 1\n",
    "                \n",
    "    print(''.join(empty_string_copy_1))\n",
    "\n",
    "if(count == N):\n",
    "    print(\"Well done!! You have completed the game!\")\n",
    "else:\n",
    "    print(\"You have lost!! Try again\")"
   ]
  },
  {
   "cell_type": "markdown",
   "metadata": {},
   "source": [
    "<div class = \"alert alert-block alert-warning\">\n",
    "    <b> Exercises: </b> Now let us also analyse the case where characters <b>repeat</b> themselves (as an example, think about the word apple, with double p). <b> Note: </b> The current version of Hangman is just fine, as it is, and this is indeed more laborious work, so it is entirely up to you, should you wish to skip this section. However, at least for Higher and Advanced Higher students, it is <b>recommended</b> for them to have a look.\n",
    "    </div> "
   ]
  },
  {
   "cell_type": "code",
   "execution_count": 11,
   "metadata": {},
   "outputs": [],
   "source": [
    "random_word = \"appricotsswoowhola\""
   ]
  },
  {
   "cell_type": "code",
   "execution_count": 16,
   "metadata": {},
   "outputs": [
    {
     "name": "stdout",
     "output_type": "stream",
     "text": [
      "Introduce a latter here: a\n",
      "a****************a\n",
      "Introduce a latter here: e\n",
      "a****************a\n",
      "Introduce a latter here: i\n",
      "a***i************a\n",
      "Introduce a latter here: o\n",
      "a***i*o****oo**o*a\n",
      "Introduce a latter here: u\n",
      "a***i*o****oo**o*a\n",
      "Introduce a latter here: s\n",
      "a***i*o*ss*oo**o*a\n",
      "Introduce a latter here: t\n",
      "a***i*otss*oo**o*a\n",
      "Introduce a latter here: p\n",
      "app*i*otss*oo**o*a\n",
      "Introduce a latter here: r\n",
      "appri*otss*oo**o*a\n",
      "Introduce a latter here: c\n",
      "appricotss*oo**o*a\n",
      "Introduce a latter here: g\n",
      "appricotss*oo**o*a\n",
      "You have lost!! Try again\n"
     ]
    }
   ],
   "source": [
    "# We know the length of the random word N\n",
    "N = len(random_word)\n",
    "\n",
    "# Create the empty string\n",
    "# Do not print the length of the word\n",
    "empty_string = []\n",
    "for i in range(N):\n",
    "    empty_string.append('*')\n",
    "    \n",
    "# Create the two copies of the string\n",
    "empty_string_copy_1 = ''.join(empty_string)\n",
    "empty_string_copy_2 = []\n",
    "\n",
    "count = 0\n",
    "no_trials = 0 # Set variable for how many times you miss the character\n",
    "\n",
    "while(count < N and no_trials < 3): # You can miss the character 3 times. Feel free to change this variable\n",
    "    \n",
    "    char = str(input(\"Introduce a letter here: \"))\n",
    "    if(random_word.find(char) != -1):\n",
    "        empty_string_copy_2 = empty_string_copy_1\n",
    "        empty_string_copy_1 = []\n",
    "        for i in range(N):\n",
    "            if(random_word[i] == char):\n",
    "                count += 1\n",
    "                empty_string_copy_1 += char\n",
    "            else:\n",
    "                empty_string_copy_1 += empty_string_copy_2[i]\n",
    "    else:\n",
    "        no_trials += 1\n",
    "                \n",
    "    print(''.join(empty_string_copy_1))\n",
    "\n",
    "if(count == N):\n",
    "    print(\"Well done!! You have completed the game!\")\n",
    "else:\n",
    "    print(\"You have lost!! Try again\")"
   ]
  },
  {
   "cell_type": "markdown",
   "metadata": {},
   "source": [
    "<div class = \"alert alert-block alert-warning\">\n",
    "<b> Exercise: </b> Add one line of code so the final word can be printed in case you lost the game\n",
    "    </div>"
   ]
  },
  {
   "cell_type": "code",
   "execution_count": null,
   "metadata": {},
   "outputs": [],
   "source": [
    "# Write your own code here, or add the line in the above cell"
   ]
  },
  {
   "cell_type": "markdown",
   "metadata": {},
   "source": [
    "<div class = \"alert alert-block alert-success\">\n",
    "    <b>Wonderful!</b> Now you can boast with your Hangman game to your friends!! Make sure you take some time to study the code..for instance, here are some questions you can answer yourselves (or ask for teacher's assistance): Why were the N variable and the empty string <b> re-initiated</b>? Why did I <b>change</b> the position of the count variable? What have I done, as difference, to <b>count for all the repeating characters</b>?"
   ]
  },
  {
   "cell_type": "markdown",
   "metadata": {},
   "source": [
    "## Take-away"
   ]
  },
  {
   "cell_type": "markdown",
   "metadata": {},
   "source": [
    "<div class = \"alert alert-block alert-success\">\n",
    "    This is it for today, and well done for managing to go through the material!! <b> Important: </b> we will have a second session on this topic, so keep the notebook close!! <br> <br> After this session, you should be more familiar with how simple sentences, numbers and conditional statements can be printed in Python. Moreover, ponder a bit on the for instruction, as it is heavily used in programming. Also, feel free to work more on this notebook using any commands you would like. <br> <br>\n",
    "<b> Note: </b> Always keep a back-up of the notebook, in case the original one is altered. <br><br>\n",
    "For today's session, this should be enough! See you later!!\n",
    "    </div>"
   ]
  },
  {
   "cell_type": "markdown",
   "metadata": {},
   "source": [
    "![Noteable license](https://github.com/jstix/mr-noteable/blob/master/Banner%20image/Screenshot%202021-03-05%20115453.png?raw=true)"
   ]
  }
 ],
 "metadata": {
  "kernelspec": {
   "display_name": "Python 3",
   "language": "python",
   "name": "python3"
  },
  "language_info": {
   "codemirror_mode": {
    "name": "ipython",
    "version": 3
   },
   "file_extension": ".py",
   "mimetype": "text/x-python",
   "name": "python",
   "nbconvert_exporter": "python",
   "pygments_lexer": "ipython3",
   "version": "3.7.6"
  }
 },
 "nbformat": 4,
 "nbformat_minor": 4
}
