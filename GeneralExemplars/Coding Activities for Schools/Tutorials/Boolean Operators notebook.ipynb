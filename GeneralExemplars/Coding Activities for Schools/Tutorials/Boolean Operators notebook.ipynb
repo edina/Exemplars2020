{
 "cells": [
  {
   "cell_type": "markdown",
   "metadata": {},
   "source": [
    "![Noteable.ac.uk Banner](https://github.com/jstix/mr-noteable/blob/master/Banner%20image/1500x500.jfif?raw=true)"
   ]
  },
  {
   "cell_type": "markdown",
   "metadata": {},
   "source": [
    "# Boolean Operators"
   ]
  },
  {
   "cell_type": "markdown",
   "metadata": {},
   "source": [
    "## Legend"
   ]
  },
  {
   "cell_type": "markdown",
   "metadata": {},
   "source": [
    "<div class = \"alert alert-block alert-info\">\n",
    "    In <b> blue</b>, the <b> instructions </b> and <b> goals </b> are highlighted.\n",
    "</div>"
   ]
  },
  {
   "cell_type": "markdown",
   "metadata": {},
   "source": [
    "<div class = \"alert alert-block alert-success\">\n",
    "    In <b> green</b>, the <b> information </b> is highlighted.\n",
    "</div>"
   ]
  },
  {
   "cell_type": "markdown",
   "metadata": {},
   "source": [
    "<div class = \"alert alert-block alert-warning\">\n",
    "    In <b> yellow</b>, the <b> exercises </b> are highlighted.\n",
    "</div>"
   ]
  },
  {
   "cell_type": "markdown",
   "metadata": {},
   "source": [
    "<div class = \"alert alert-block alert-danger\">\n",
    "    In <b> red</b>, the <b> error </b> and <b> alert messages </b> are highlighted.\n",
    "</div>"
   ]
  },
  {
   "cell_type": "markdown",
   "metadata": {},
   "source": [
    "## Instructions"
   ]
  },
  {
   "cell_type": "markdown",
   "metadata": {},
   "source": [
    "<div class = \"alert alert-block alert-info\">\n",
    "    For running the cell of a notebook, hit <b> Cell</b>, then <b>Run</b>. In case you want to run the whole notebook, click <b>Cell</b>, then <b>Run All</b>. When running cell which involves a game, you should spend a bit of time playing, to see how the code works. When leaving the games, just press <b>n</b> at any time, and the final score will be printed out. \n",
    "</div>"
   ]
  },
  {
   "cell_type": "markdown",
   "metadata": {},
   "source": [
    "## Goals"
   ]
  },
  {
   "cell_type": "markdown",
   "metadata": {},
   "source": [
    "<div class = \"alert alert-block alert-info\">\n",
    "After this workshop, the student should get more familiar with the following topics: <br> \n",
    "<ul>\n",
    "    <li> printing basic statements and commands in Jupyter Notebook</li>\n",
    "    <li> performing basic arithmetic calculations in Python</li>\n",
    "    <li> recognizing and checking variable types in Python </li>\n",
    "    <li> using the <b> if </b> and <b> for </b> statements for basic operations </li>\n",
    "    <li> working with <b> boolean </b> operators  </li>\n",
    "    <li> using the <b> matplotlib </b> library for plotting random binary matrices </li>\n",
    "    <li> increasig awareness of <b> Information Technology industry </b> </li>\n",
    "</ul>\n",
    "    \n",
    "<b> These objectives are in agreement with the National 3, National 4, National 5, Higher and Advanced Higher Scottish Curriculum for high-school students. </b> <br> <br> <b> Note: </b> For most of the workshop, the student will be given some coding examples. In some cases, the student will have to code himself/herself. The coding part is optional, but highly recommended to approach. \n",
    "  \n",
    "</div>"
   ]
  },
  {
   "cell_type": "markdown",
   "metadata": {},
   "source": [
    "## Explore"
   ]
  },
  {
   "cell_type": "markdown",
   "metadata": {},
   "source": [
    "<div class = \"alert alert-block alert-success\">\n",
    "    A significant field in Computer Science is given by the <b>Boolean Operators</b>. They are, in fact, <b>logical operators</b>. You have known them for a very long time, and even applied them before in Informatics: select all the integers which appear in the list <b> and </b> have even parity. This is a classical example of a boolean operator. Let us do, as a warm-up, this example here:\n",
    "    </div>"
   ]
  },
  {
   "cell_type": "code",
   "execution_count": null,
   "metadata": {},
   "outputs": [],
   "source": [
    "a = [1,4,3,2,5,7,9]\n",
    "\n",
    "for i in range(len(a)):\n",
    "    if(a[i] % 2 == 0):\n",
    "        print(a[i])"
   ]
  },
  {
   "cell_type": "markdown",
   "metadata": {},
   "source": [
    "<div class = \"alert alert-block alert-warning\">\n",
    "    There can be, in fact, <b>countless</b> examples like the previous one where you can use the <b>Boolean operators</b>. Some of them are listed below, and left for you as an exercise:\n",
    "    </div>"
   ]
  },
  {
   "cell_type": "markdown",
   "metadata": {},
   "source": [
    "<div class = \"alert alert-block alert-warning\">\n",
    "    <b> Exercise: </b>Find all the numbers in the listed array below which are multiples of 3 <b> and </b> 5\n",
    "    </div>"
   ]
  },
  {
   "cell_type": "code",
   "execution_count": null,
   "metadata": {},
   "outputs": [],
   "source": [
    "a = [2,6,5,1,15,3,30,6,7,45]"
   ]
  },
  {
   "cell_type": "markdown",
   "metadata": {},
   "source": [
    "<div class = \"alert alert-block alert-warning\">\n",
    "    <b> Exercises: </b>Find all the numbers which are either placed on even positions <b> or </b> are multiples of 4\n",
    "    </div>"
   ]
  },
  {
   "cell_type": "code",
   "execution_count": null,
   "metadata": {},
   "outputs": [],
   "source": [
    "b = [5,2,4,6,9,12,3,2]"
   ]
  },
  {
   "cell_type": "markdown",
   "metadata": {},
   "source": [
    "<div class = \"alert alert-block alert-success\">\n",
    "    We are already familiar with the basic <b>logical boolean operator rules</b>:\n",
    "\n",
    "$ 1 \\land 0 = 0 $\n",
    "\n",
    "$ 1 \\lor 0 = 1 $\n",
    "\n",
    "$ \\lnot 1 = 0 $\n",
    "\n",
    "$ \\lnot 0 = 1 $\n",
    "    </div>"
   ]
  },
  {
   "cell_type": "markdown",
   "metadata": {},
   "source": [
    "<div class = \"alert alert-block alert-success\">\n",
    "The above language may be a bit abstract, but the main ideas behind them are very familiar with you: take all the elements which satiisfy <b> either </b> condition A or condition B. In other words, if one of the conditions is satisfied, and not the other, the result is still accepted. However, for the elements which satisfy condition A <b> and </b> condition B, both of the conditions must be satisfied.\n",
    "\n",
    "In a much simpler case, imagine you want to go to Edinburgh Zoo or Portobello Beach. In this case, you are still pleased if you went to either of them, but not both of them. Of course, both would be better, but you specified Zoo <b> or </b> Beach. In case you said from the start you would like to go to <b> both </b> of them, only a trip would not satisfy, and would be counted as 0.\n",
    "\n",
    "Let us do all this in Python:\n",
    "    </div>"
   ]
  },
  {
   "cell_type": "code",
   "execution_count": null,
   "metadata": {},
   "outputs": [],
   "source": [
    "print(True and False)"
   ]
  },
  {
   "cell_type": "code",
   "execution_count": null,
   "metadata": {},
   "outputs": [],
   "source": [
    "print(True or False)"
   ]
  },
  {
   "cell_type": "code",
   "execution_count": null,
   "metadata": {},
   "outputs": [],
   "source": [
    "print(not(True))"
   ]
  },
  {
   "cell_type": "markdown",
   "metadata": {},
   "source": [
    "<div class = \"alert alert-block alert-success\">\n",
    "    Let us also visualize all this operators into a nice application: <b>image analysis</b>. You already know how all the transistors in the computer either allow the electric signal to pass or do not allow it. Hence, images are formed on computer, with variety in <b>brightness</b> and <b>size</b> of the objects. There is a whole field in this area, but all the algorithms there reduce to the following procedure: elements which satisfy a certain condition have value 1. All the rest of the elements have value 0. The <b>image filtering</b>, <b>removal</b> of <b>blurring</b> effect, the snapchat and messenger animations all work with on this basic operation. Another fundamental assumption is that each image is basically associated with a <b>matrix of different elements</b>, each standing for the <b>intensity of a pixel</b>. We will visualize such operations on Python, and get you a bit more familiarized with <b>data visualization</b>."
   ]
  },
  {
   "cell_type": "code",
   "execution_count": null,
   "metadata": {},
   "outputs": [],
   "source": [
    "import matplotlib.pyplot as plt\n",
    "import numpy as np"
   ]
  },
  {
   "cell_type": "code",
   "execution_count": null,
   "metadata": {},
   "outputs": [],
   "source": [
    "a = np.ones((30,30))\n",
    "\n",
    "for i in range(30):\n",
    "    for j in range(30):\n",
    "        a[i][j] = np.random.randint(40)\n",
    "        \n",
    "plt.imshow(a)"
   ]
  },
  {
   "cell_type": "markdown",
   "metadata": {},
   "source": [
    "<div class = \"alert alert-block alert-success\">\n",
    "    This is the <b>most basic example</b> of an image you can get. For <b>each</b> x and y coordinate, there is an <b>intensity pixel</b> associated. That is, how <b>bright</b> each image is. Now let us see an example of how <b>boolean operators</b> work: take a condition and set it for all elements. each cell becomes 1 if condition is satisfied and 0 if condition is not satisfied.\n",
    "\n",
    "The most simple example would be: elements greater than 20 have value 1. The rest have value 0.\n",
    "    </div>"
   ]
  },
  {
   "cell_type": "code",
   "execution_count": null,
   "metadata": {},
   "outputs": [],
   "source": [
    "for i in range(30):\n",
    "    for j in range(30):\n",
    "        if(a[i][j] > 20):\n",
    "            a[i][j] = 1\n",
    "        else:\n",
    "            a[i][j] = 0\n",
    "plt.imshow(a)"
   ]
  },
  {
   "cell_type": "markdown",
   "metadata": {},
   "source": [
    "<div class = \"alert alert-block alert-success\">\n",
    "    This is a basic example of <b>image filtering</b>, by sheer use of <b>boolean operators</b>.\n",
    "    </div>"
   ]
  },
  {
   "cell_type": "markdown",
   "metadata": {},
   "source": [
    "<div class = \"alert alert-block alert-warning\">\n",
    "    <b> Investigate: </b>Let us do a bit more exercise based on these two images: take two of them already set to one and zero and let us make some other operations on them! Moreover, let us use the already gained knowledge on <b>numpy arrays</b> and <b>matrices</b>:\n",
    "    </div>"
   ]
  },
  {
   "cell_type": "code",
   "execution_count": null,
   "metadata": {},
   "outputs": [],
   "source": [
    "a = np.random.randint(2, size=(20,20))\n",
    "b = np.random.randint(2, size=(20,20))"
   ]
  },
  {
   "cell_type": "code",
   "execution_count": null,
   "metadata": {},
   "outputs": [],
   "source": [
    "plt.imshow(a)"
   ]
  },
  {
   "cell_type": "code",
   "execution_count": null,
   "metadata": {},
   "outputs": [],
   "source": [
    "plt.imshow(b)"
   ]
  },
  {
   "cell_type": "markdown",
   "metadata": {},
   "source": [
    "<div class = \"alert alert-block alert-warning\">\n",
    "    For these two matrices, let us apply the <b></b>AND operator: if either of the elements is 1 or 0, then the <b>overall</b> result is 0\n",
    "    </div>"
   ]
  },
  {
   "cell_type": "code",
   "execution_count": null,
   "metadata": {},
   "outputs": [],
   "source": [
    "c = np.zeros((20,20))\n",
    "for i in range(20):\n",
    "    for j in range(20):\n",
    "        c[i][j] = a[i][j] and b[i][j]\n",
    "        \n",
    "plt.imshow(c)"
   ]
  },
  {
   "cell_type": "markdown",
   "metadata": {},
   "source": [
    "<div class = \"alert alert-block alert-warning\">\n",
    "    Similarly, let us do the operation A <b>or</b> B:\n",
    "    </div>"
   ]
  },
  {
   "cell_type": "code",
   "execution_count": null,
   "metadata": {},
   "outputs": [],
   "source": [
    "d = np.zeros((20,20))\n",
    "for i in range(20):\n",
    "    for j in range(20):\n",
    "        d[i][j] = a[i][j] or b[i][j]\n",
    "        \n",
    "plt.imshow(d)"
   ]
  },
  {
   "cell_type": "markdown",
   "metadata": {},
   "source": [
    "<div class = \"alert alert-block alert-warning\">\n",
    "    You can already witness where this is going: there are many more positives for <b>OR</b> operator than for <b>AND</b> operator. In fact, let us vizualize all the four matrices:\n",
    "    </div>"
   ]
  },
  {
   "cell_type": "code",
   "execution_count": null,
   "metadata": {},
   "outputs": [],
   "source": [
    "fig, ax = plt.subplots(1,4)\n",
    "\n",
    "ax[0].imshow(a)\n",
    "ax[0].set_xlabel(\"A\")\n",
    "\n",
    "ax[1].imshow(b)\n",
    "ax[1].set_xlabel(\"B\")\n",
    "\n",
    "ax[2].imshow(c)\n",
    "ax[2].set_xlabel(\"A and B\")\n",
    "\n",
    "ax[3].imshow(d)\n",
    "ax[3].set_xlabel(\"A or B\")"
   ]
  },
  {
   "cell_type": "markdown",
   "metadata": {},
   "source": [
    "## Take-away"
   ]
  },
  {
   "cell_type": "markdown",
   "metadata": {},
   "source": [
    "<div class = \"alert alert-block alert-success\">\n",
    "This is it for today, and well done for managing to go through the material!! <br> <br> After this session, you should be more familiar with how simple sentences, numbers and conditional statements can be printed in Python. Moreover, ponder a bit on the for instruction, as it is heavily used in programming. Also, feel free to work more on this notebook using any commands you would like. <br> <br>\n",
    "<b> Note: </b> Always keep a back-up of the notebook, in case the original one is altered. <br><br>\n",
    "For today's session, this should be enough! See you later!!\n",
    "    </div>"
   ]
  },
  {
   "cell_type": "markdown",
   "metadata": {},
   "source": [
    "![Noteable license](https://github.com/jstix/mr-noteable/blob/master/Banner%20image/Screenshot%202021-03-05%20115453.png?raw=true)"
   ]
  }
 ],
 "metadata": {
  "kernelspec": {
   "display_name": "Python 3",
   "language": "python",
   "name": "python3"
  },
  "language_info": {
   "codemirror_mode": {
    "name": "ipython",
    "version": 3
   },
   "file_extension": ".py",
   "mimetype": "text/x-python",
   "name": "python",
   "nbconvert_exporter": "python",
   "pygments_lexer": "ipython3",
   "version": "3.7.6"
  }
 },
 "nbformat": 4,
 "nbformat_minor": 4
}
