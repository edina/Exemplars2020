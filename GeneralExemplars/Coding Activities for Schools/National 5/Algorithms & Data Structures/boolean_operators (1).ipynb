{
 "cells": [
  {
   "cell_type": "markdown",
   "metadata": {},
   "source": [
    "### Boolean Operators"
   ]
  },
  {
   "cell_type": "markdown",
   "metadata": {},
   "source": [
    "A significant field in Computer Science is given by the Boolean Operators. They are, in fact, logical operators. You have known them for a very long time, and even applied them before in Informatics: select all the integers which appear in the list <b> and </b> have even parity. This is a classical example of a boolean operator. Let us do, as a warm-up, this example here:"
   ]
  },
  {
   "cell_type": "code",
   "execution_count": 1,
   "metadata": {},
   "outputs": [
    {
     "name": "stdout",
     "output_type": "stream",
     "text": [
      "4\n",
      "2\n"
     ]
    }
   ],
   "source": [
    "a = [1,4,3,2,5,7,9]\n",
    "\n",
    "for i in range(len(a)):\n",
    "    if(a[i] % 2 == 0):\n",
    "        print(a[i])"
   ]
  },
  {
   "cell_type": "markdown",
   "metadata": {},
   "source": [
    "There can be, in fact, countless examples like the previous one where you can use the Boolean operators. Some of them are listed below, and left for you as an exercise:"
   ]
  },
  {
   "cell_type": "markdown",
   "metadata": {},
   "source": [
    "Find all the numbers in the listed array below which are multiples of 3 <b> and </b> 5"
   ]
  },
  {
   "cell_type": "code",
   "execution_count": 2,
   "metadata": {},
   "outputs": [],
   "source": [
    "a = [2,6,5,1,15,3,30,6,7,45]"
   ]
  },
  {
   "cell_type": "markdown",
   "metadata": {},
   "source": [
    "Find all the numbers which are either placed on even positions <b> or </b> are multiples of 4"
   ]
  },
  {
   "cell_type": "code",
   "execution_count": 3,
   "metadata": {},
   "outputs": [],
   "source": [
    "b = [5,2,4,6,9,12,3,2]"
   ]
  },
  {
   "cell_type": "markdown",
   "metadata": {},
   "source": [
    "We are already familiar with the basic logical boolean operator rules:\n",
    "\n",
    "$ 1 \\land 0 = 0 $\n",
    "\n",
    "$ 1 \\lor 0 = 1 $\n",
    "\n",
    "$ \\lnot 1 = 0 $\n",
    "\n",
    "$ \\lnot 0 = 1 $"
   ]
  },
  {
   "cell_type": "markdown",
   "metadata": {},
   "source": [
    "The above language may be a bit abstract, but the main ideas behind them are very familiar with you: take all the elements which satiisfy <b> either </b> condition A or condition B. In other words, if one of the conditions is satisfied, and not the other, the result is still accepted. However, for the elements which satisfy condition A <b> and </b> condition B, both of the conditions must be satisfied.\n",
    "\n",
    "In a much simpler case, imagine you want to go to Edinburgh Zoo or Portobello Beach. In this case, you are still pleased if you went to either of them, but not both of them. Of course, both would be better, but you specified Zoo <b> or </b> Beach. In case you said from the start you would like to go to <b> both </b> of them, only a trip would not satisfy, and would be counted as 0.\n",
    "\n",
    "Let us do all this in Python:"
   ]
  },
  {
   "cell_type": "code",
   "execution_count": 4,
   "metadata": {},
   "outputs": [
    {
     "name": "stdout",
     "output_type": "stream",
     "text": [
      "False\n"
     ]
    }
   ],
   "source": [
    "print(True and False)"
   ]
  },
  {
   "cell_type": "code",
   "execution_count": 5,
   "metadata": {},
   "outputs": [
    {
     "name": "stdout",
     "output_type": "stream",
     "text": [
      "True\n"
     ]
    }
   ],
   "source": [
    "print(True or False)"
   ]
  },
  {
   "cell_type": "code",
   "execution_count": 6,
   "metadata": {},
   "outputs": [
    {
     "name": "stdout",
     "output_type": "stream",
     "text": [
      "False\n"
     ]
    }
   ],
   "source": [
    "print(not(True))"
   ]
  },
  {
   "cell_type": "markdown",
   "metadata": {},
   "source": [
    "Let us also visualize all this operators into a nice application: image analysis. You already know how all the transistors in the computer either allow the electric signal to pass or do not allow it. Hence, images are formed on computer, with variety in brightness and size of the objects. There is a whole field in this area, but all the algorithms there reduce to the following procedure: elements which satisfy a certain condition have value 1. All the rest of the elements have value 0. The image filtering, removal of blurring effect, the snapchat and messenger animations all work with on this basic operation. Another fundamental assumption is that each image is basically associated with a matrix of different elements, each standing for the intensity of a pixel. We will visualize such operations on Python, and get you a bit more familiarized with data visualization"
   ]
  },
  {
   "cell_type": "code",
   "execution_count": 7,
   "metadata": {},
   "outputs": [],
   "source": [
    "import matplotlib.pyplot as plt\n",
    "import numpy as np"
   ]
  },
  {
   "cell_type": "code",
   "execution_count": 10,
   "metadata": {},
   "outputs": [
    {
     "data": {
      "text/plain": [
       "<matplotlib.image.AxesImage at 0x7f99de633a10>"
      ]
     },
     "execution_count": 10,
     "metadata": {},
     "output_type": "execute_result"
    },
    {
     "data": {
      "image/png": "[encoded data removed]",
      "text/plain": [
       "<Figure size 432x288 with 1 Axes>"
      ]
     },
     "metadata": {
      "needs_background": "light"
     },
     "output_type": "display_data"
    }
   ],
   "source": [
    "a = np.ones((30,30))\n",
    "\n",
    "for i in range(30):\n",
    "    for j in range(30):\n",
    "        a[i][j] = np.random.randint(30)\n",
    "        \n",
    "plt.imshow(a)"
   ]
  },
  {
   "cell_type": "markdown",
   "metadata": {},
   "source": [
    "This is the most basic example of an image you can get. For each x and y coordinate, there is an intensity pixel associated. That is, how bright each image is. Now let us see an example of how boolean operators work: take a condition and set it for all elements. each cell becomes 1 if condition is satisfied and 0 if condition is not satisfied.\n",
    "\n",
    "The most simple example would be: elements greater than 20 have value 1. The rest have value 0."
   ]
  },
  {
   "cell_type": "code",
   "execution_count": 9,
   "metadata": {},
   "outputs": [
    {
     "data": {
      "text/plain": [
       "<matplotlib.image.AxesImage at 0x7f99de6c2c50>"
      ]
     },
     "execution_count": 9,
     "metadata": {},
     "output_type": "execute_result"
    },
    {
     "data": {
      "image/png": "[encoded data removed]",
      "text/plain": [
       "<Figure size 432x288 with 1 Axes>"
      ]
     },
     "metadata": {
      "needs_background": "light"
     },
     "output_type": "display_data"
    }
   ],
   "source": [
    "for i in range(30):\n",
    "    for j in range(30):\n",
    "        if(a[i][j] > 20):\n",
    "            a[i][j] = 1\n",
    "        else:\n",
    "            a[i][j] = 0\n",
    "plt.imshow(a)"
   ]
  },
  {
   "cell_type": "markdown",
   "metadata": {},
   "source": [
    "This is a basic example of image filtering, by sheer use of boolean operators."
   ]
  },
  {
   "cell_type": "markdown",
   "metadata": {},
   "source": [
    "Let us do a bit more exercise based on these two images: take two of them already set to one and zero and let us make some other operations on them! Moreover, let us use the already gained knowledge on numpy arrays and matrices:"
   ]
  },
  {
   "cell_type": "code",
   "execution_count": 29,
   "metadata": {},
   "outputs": [],
   "source": [
    "a = np.random.randint(2, size=(20,20))\n",
    "b = np.random.randint(2, size=(20,20))"
   ]
  },
  {
   "cell_type": "code",
   "execution_count": 30,
   "metadata": {},
   "outputs": [
    {
     "data": {
      "text/plain": [
       "<matplotlib.image.AxesImage at 0x7f78eb7b67d0>"
      ]
     },
     "execution_count": 30,
     "metadata": {},
     "output_type": "execute_result"
    },
    {
     "data": {
      "image/png": "[encoded data removed]",
      "text/plain": [
       "<Figure size 432x288 with 1 Axes>"
      ]
     },
     "metadata": {
      "needs_background": "light"
     },
     "output_type": "display_data"
    }
   ],
   "source": [
    "plt.imshow(a)"
   ]
  },
  {
   "cell_type": "code",
   "execution_count": 31,
   "metadata": {},
   "outputs": [
    {
     "data": {
      "text/plain": [
       "<matplotlib.image.AxesImage at 0x7f78eb4cfad0>"
      ]
     },
     "execution_count": 31,
     "metadata": {},
     "output_type": "execute_result"
    },
    {
     "data": {
      "image/png": "[encoded data removed]",
      "text/plain": [
       "<Figure size 432x288 with 1 Axes>"
      ]
     },
     "metadata": {
      "needs_background": "light"
     },
     "output_type": "display_data"
    }
   ],
   "source": [
    "plt.imshow(b)"
   ]
  },
  {
   "cell_type": "markdown",
   "metadata": {},
   "source": [
    "For these two matrices, let us apply the AND operator: if either of the elements is 1 or 0, then the overall result is 0"
   ]
  },
  {
   "cell_type": "code",
   "execution_count": 32,
   "metadata": {},
   "outputs": [
    {
     "data": {
      "text/plain": [
       "<matplotlib.image.AxesImage at 0x7f78eb8c6490>"
      ]
     },
     "execution_count": 32,
     "metadata": {},
     "output_type": "execute_result"
    },
    {
     "data": {
      "image/png": "[encoded data removed]",
      "text/plain": [
       "<Figure size 432x288 with 1 Axes>"
      ]
     },
     "metadata": {
      "needs_background": "light"
     },
     "output_type": "display_data"
    }
   ],
   "source": [
    "c = np.zeros((20,20))\n",
    "for i in range(20):\n",
    "    for j in range(20):\n",
    "        c[i][j] = a[i][j] and b[i][j]\n",
    "        \n",
    "plt.imshow(c)"
   ]
  },
  {
   "cell_type": "markdown",
   "metadata": {},
   "source": [
    "Similarly, let us do the operation A or B"
   ]
  },
  {
   "cell_type": "code",
   "execution_count": 33,
   "metadata": {},
   "outputs": [
    {
     "data": {
      "text/plain": [
       "<matplotlib.image.AxesImage at 0x7f78eb961b10>"
      ]
     },
     "execution_count": 33,
     "metadata": {},
     "output_type": "execute_result"
    },
    {
     "data": {
      "image/png": "[encoded data removed]",
      "text/plain": [
       "<Figure size 432x288 with 1 Axes>"
      ]
     },
     "metadata": {
      "needs_background": "light"
     },
     "output_type": "display_data"
    }
   ],
   "source": [
    "d = np.zeros((20,20))\n",
    "for i in range(20):\n",
    "    for j in range(20):\n",
    "        d[i][j] = a[i][j] or b[i][j]\n",
    "        \n",
    "plt.imshow(d)"
   ]
  },
  {
   "cell_type": "markdown",
   "metadata": {},
   "source": [
    "You can already witness where this is going: there are many more positives for OR operator than for AND operator. In fact, let us vizualize all the four matrices:"
   ]
  },
  {
   "cell_type": "code",
   "execution_count": 40,
   "metadata": {},
   "outputs": [
    {
     "data": {
      "text/plain": [
       "Text(0.5, 0, 'A or B')"
      ]
     },
     "execution_count": 40,
     "metadata": {},
     "output_type": "execute_result"
    },
    {
     "data": {
      "image/png": "[encoded data removed]",
      "text/plain": [
       "<Figure size 432x288 with 4 Axes>"
      ]
     },
     "metadata": {
      "needs_background": "light"
     },
     "output_type": "display_data"
    }
   ],
   "source": [
    "fig, ax = plt.subplots(1,4)\n",
    "\n",
    "ax[0].imshow(a)\n",
    "ax[0].set_xlabel(\"A\")\n",
    "\n",
    "ax[1].imshow(b)\n",
    "ax[1].set_xlabel(\"B\")\n",
    "\n",
    "ax[2].imshow(c)\n",
    "ax[2].set_xlabel(\"A and B\")\n",
    "\n",
    "ax[3].imshow(d)\n",
    "ax[3].set_xlabel(\"A or B\")"
   ]
  },
  {
   "cell_type": "code",
   "execution_count": null,
   "metadata": {},
   "outputs": [],
   "source": []
  }
 ],
 "metadata": {
  "kernelspec": {
   "display_name": "Python 3",
   "language": "python",
   "name": "python3"
  },
  "language_info": {
   "codemirror_mode": {
    "name": "ipython",
    "version": 3
   },
   "file_extension": ".py",
   "mimetype": "text/x-python",
   "name": "python",
   "nbconvert_exporter": "python",
   "pygments_lexer": "ipython3",
   "version": "3.7.6"
  }
 },
 "nbformat": 4,
 "nbformat_minor": 4
}
