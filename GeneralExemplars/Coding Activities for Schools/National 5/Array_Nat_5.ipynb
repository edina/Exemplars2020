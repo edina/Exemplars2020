{
 "cells": [
  {
   "cell_type": "markdown",
   "metadata": {},
   "source": [
    "![Noteable.ac.uk Banner](https://github.com/jstix/mr-noteable/blob/master/Banner%20image/1500x500.jfif?raw=true)"
   ]
  },
  {
   "cell_type": "markdown",
   "metadata": {},
   "source": [
    "# Array programming exercises"
   ]
  },
  {
   "cell_type": "markdown",
   "metadata": {},
   "source": [
    "## Legend"
   ]
  },
  {
   "cell_type": "markdown",
   "metadata": {},
   "source": [
    "<div class = \"alert alert-block alert-info\">\n",
    "    In <b> blue</b>, the <b> instructions </b> and <b> goals </b> are highlighted.\n",
    "</div>"
   ]
  },
  {
   "cell_type": "markdown",
   "metadata": {},
   "source": [
    "<div class = \"alert alert-block alert-success\">\n",
    "    In <b> green</b>, the <b> information </b> is highlighted.\n",
    "</div>"
   ]
  },
  {
   "cell_type": "markdown",
   "metadata": {},
   "source": [
    "<div class = \"alert alert-block alert-warning\">\n",
    "    In <b> yellow</b>, the <b> exercises </b> are highlighted.\n",
    "</div>"
   ]
  },
  {
   "cell_type": "markdown",
   "metadata": {},
   "source": [
    "<div class = \"alert alert-block alert-danger\">\n",
    "    In <b> red</b>, the <b> error </b> and <b> alert messages </b> are highlighted.\n",
    "</div>"
   ]
  },
  {
   "cell_type": "markdown",
   "metadata": {},
   "source": [
    "## Instructions"
   ]
  },
  {
   "cell_type": "markdown",
   "metadata": {},
   "source": [
    "<div class = \"alert alert-block alert-info\">\n",
    "    Click <b> Run </b> on each cell to go through the code in each cell. This will take you through the cell and print out the results. \n",
    "    If you wish to see all the outputs at once in the whole notebook, just click <b> Cell </b> and then <b> Run All. </b> For <b> clearing </b> the output of a cell, press <b> Cell </b>, <b> Current Outputs </b>, then <b> Clear </b>\n",
    "    </div>"
   ]
  },
  {
   "cell_type": "markdown",
   "metadata": {},
   "source": [
    "## Goals"
   ]
  },
  {
   "cell_type": "markdown",
   "metadata": {},
   "source": [
    "<div class = \"alert alert-block alert-info\">\n",
    "After this workshop, the student should get more familiar with the following topics: <br> \n",
    "<ul>\n",
    "    <li> printing basic statements and commands in Jupyter Notebook</li>\n",
    "    <li> performing basic arithmetic calculations in Python</li>\n",
    "    <li> improving an existent model of the code</li>\n",
    "    <li> recognizing and checking variable types in Python </li>\n",
    "    <li> using the <b> if </b> and <b> for </b> statements for basic operations\n",
    "    <li> working with array data structure as a way of storing the data\n",
    "</ul>\n",
    "    \n",
    "<b> These objectives are in agreement with the National 5 Scottish Curriculum for high-school students. </b> <br> <br> <b> Note: </b> For most of the workshop, the student will be given some coding examples. In some cases, the student will have to code himself/herself. The coding part is optional, but highly recommended to approach. \n",
    "  \n",
    "</div>"
   ]
  },
  {
   "cell_type": "markdown",
   "metadata": {},
   "source": [
    "## Explore..."
   ]
  },
  {
   "cell_type": "markdown",
   "metadata": {},
   "source": [
    "<div class = \"alert alert-block alert-success\">\n",
    "Welcome to another session on the Jupyter Notebooks!! Today we will focus on working with <b> arrays. </b> They are a fundamental data structure used in every possible programming language. The array represents the most basic data structure existent in programming, which is the most basic way to store data and access it whenevr you want. \n",
    "    </div>"
   ]
  },
  {
   "cell_type": "code",
   "execution_count": 1,
   "metadata": {},
   "outputs": [],
   "source": [
    "my_first_array = [1,2,3,4,5,6]"
   ]
  },
  {
   "cell_type": "markdown",
   "metadata": {},
   "source": [
    "You have just declared your first array! Do you want to see how it looks?"
   ]
  },
  {
   "cell_type": "code",
   "execution_count": 2,
   "metadata": {},
   "outputs": [
    {
     "data": {
      "text/plain": [
       "[1, 2, 3, 4, 5, 6]"
      ]
     },
     "execution_count": 2,
     "metadata": {},
     "output_type": "execute_result"
    }
   ],
   "source": [
    "my_first_array"
   ]
  },
  {
   "cell_type": "markdown",
   "metadata": {},
   "source": [
    "<div class = \"alert alert-block alert-warning\">\n",
    "<b> Exercise: </b> Inspect the following code lines below and see what they do: \n",
    "    </div>"
   ]
  },
  {
   "cell_type": "code",
   "execution_count": 3,
   "metadata": {},
   "outputs": [
    {
     "data": {
      "text/plain": [
       "1"
      ]
     },
     "execution_count": 3,
     "metadata": {},
     "output_type": "execute_result"
    }
   ],
   "source": [
    "my_first_array[0]"
   ]
  },
  {
   "cell_type": "code",
   "execution_count": 4,
   "metadata": {},
   "outputs": [
    {
     "data": {
      "text/plain": [
       "2"
      ]
     },
     "execution_count": 4,
     "metadata": {},
     "output_type": "execute_result"
    }
   ],
   "source": [
    "my_first_array[1]"
   ]
  },
  {
   "cell_type": "markdown",
   "metadata": {},
   "source": [
    "<div class = \"alert alert-block alert-success\">\n",
    "    By putting the [ ] bracket, we are able to access each element of the array. The digit inside the bracket [] stands for the position of the element. <b> Remember: </b> similar to the loops in the for-instruction, the first element takes position 0, the second element takes position 1, and so on...\n",
    "    </div>"
   ]
  },
  {
   "cell_type": "code",
   "execution_count": null,
   "metadata": {},
   "outputs": [],
   "source": [
    "my_first_array[5]"
   ]
  },
  {
   "cell_type": "markdown",
   "metadata": {},
   "source": [
    "<div class = \"alert alert-block alert-success\">\n",
    "<b> Hint: </b> Pyhton language also supports the printing of last element of a loop in a different way\n",
    "    </div>"
   ]
  },
  {
   "cell_type": "code",
   "execution_count": null,
   "metadata": {},
   "outputs": [],
   "source": [
    "my_first_array[-1]"
   ]
  },
  {
   "cell_type": "markdown",
   "metadata": {},
   "source": [
    "<div class = \"alert alert-block alert-warning\">\n",
    "<b> Exercise: </b> Now let us try and work more with an array. Suppose we want to go through an array and print each element. The procedure is quite similar to the for-instruction exercises (you can revisit hem at any time you desire)\n",
    "    </div>"
   ]
  },
  {
   "cell_type": "code",
   "execution_count": null,
   "metadata": {},
   "outputs": [],
   "source": [
    "for i in range(len(my_first_array)):\n",
    "    print(my_first_array[i])"
   ]
  },
  {
   "cell_type": "markdown",
   "metadata": {},
   "source": [
    "<div class = \"alert alert-block alert-warning\">\n",
    "    <b> Exercise: </b> print all the elements of the array in a horizontal line\n",
    "    </div>"
   ]
  },
  {
   "cell_type": "code",
   "execution_count": null,
   "metadata": {},
   "outputs": [],
   "source": [
    "# Write your own code here"
   ]
  },
  {
   "cell_type": "markdown",
   "metadata": {},
   "source": [
    "<div class = \"alert alert-block alert-warning\">\n",
    "    <b> Exercise: </b> check that any element of the array is an integer (try with the first element)\n",
    "    </div>"
   ]
  },
  {
   "cell_type": "code",
   "execution_count": null,
   "metadata": {},
   "outputs": [],
   "source": [
    "# Write your own code here"
   ]
  },
  {
   "cell_type": "markdown",
   "metadata": {},
   "source": [
    "<div class = \"alert alert-block alert-warning\">\n",
    "    <b> Exercise: </b> <b> Inspect </b> the following code below, and see what it does. <b> Spend </b> a bit of time on it, <b> analyse </b> it, <b> discuss </b> it amongst yourselves and with the teacher. Make sure you understand what is going on, as there are some subtleties here:\n",
    "    </div>"
   ]
  },
  {
   "cell_type": "code",
   "execution_count": null,
   "metadata": {},
   "outputs": [],
   "source": [
    "sum = 0\n",
    "for i in range(len(my_first_array)):\n",
    "    sum += my_first_array[i]\n",
    "    \n",
    "sum"
   ]
  },
  {
   "cell_type": "markdown",
   "metadata": {},
   "source": [
    "<div class = \"alert alert-block alert-warning\">\n",
    "    <b> Inspect </b> the two following expressions, and make sure you understand that they are the same: $ a += 1 $ and $ a = a + 1 $\n",
    "    </div>"
   ]
  },
  {
   "cell_type": "code",
   "execution_count": null,
   "metadata": {},
   "outputs": [],
   "source": [
    "a = 0\n",
    "a += 1\n",
    "print(\"The value of a after the first operation is: \" + str(a))\n",
    "a = a + 1\n",
    "print(\"The value of a after the second operation is: \" + str(a))"
   ]
  },
  {
   "cell_type": "markdown",
   "metadata": {},
   "source": [
    "<div class = \"alert alert-block alert-warning\">\n",
    "<b> Exercise: </b> Using the above model, calculate the product of all elements in the array. Discuss this exercise among yourselves and with the teacher, for the right guidance. Bear in mind that you will use the neutral element for <b> multiplication</b>, not <b> addition</b>, this time (What did I mean by this?)\n",
    "    </div>"
   ]
  },
  {
   "cell_type": "code",
   "execution_count": null,
   "metadata": {},
   "outputs": [],
   "source": [
    "# Write your own code here"
   ]
  },
  {
   "cell_type": "markdown",
   "metadata": {},
   "source": [
    "<div class = \"alert alert-block alert-success\">\n",
    "    Now, we would like to <b> append </b> some elements to the array. Think of appending just as in the Snake game. Whenever the snake eats an apple, its tail grows: an element is <b> appended </b>, or added to the tail. \n",
    "    </div>"
   ]
  },
  {
   "cell_type": "markdown",
   "metadata": {},
   "source": [
    "<div class = \"alert alert-block alert-warning\">\n",
    "<b> Exercise: </b> Inspect the code below: predict its output by discussing with your colleagues, and run the cell afterwards. Moreover, run that particular cell more times: what happens?\n",
    "    </div>"
   ]
  },
  {
   "cell_type": "code",
   "execution_count": 9,
   "metadata": {},
   "outputs": [
    {
     "data": {
      "text/plain": [
       "[1, 2, 3, 4, 5, 6, 7, 7]"
      ]
     },
     "execution_count": 9,
     "metadata": {},
     "output_type": "execute_result"
    }
   ],
   "source": [
    "my_first_array.append(7)\n",
    "my_first_array"
   ]
  },
  {
   "cell_type": "markdown",
   "metadata": {},
   "source": [
    "<div class = \"alert alert-block alert-danger\">\n",
    "    Whenever you run the cell, another element is added! If you want to add the element only once, do not run the cell more times. \n",
    "    </div>"
   ]
  },
  {
   "cell_type": "markdown",
   "metadata": {},
   "source": [
    "<div class = \"alert alert-block alert-warning\">\n",
    "<b> Exercise: </b> Add more elements in the array: from 8 to 12. WHat happens if you run the cell more times?\n",
    "    </div>"
   ]
  },
  {
   "cell_type": "code",
   "execution_count": null,
   "metadata": {},
   "outputs": [],
   "source": [
    "# Write your own code here"
   ]
  },
  {
   "cell_type": "markdown",
   "metadata": {},
   "source": [
    "## Revision on numbers"
   ]
  },
  {
   "cell_type": "markdown",
   "metadata": {},
   "source": [
    "<div class = \"alert alert-block alert-warning\">\n",
    "<b> Exercise: </b> Recall the basic arithmetic operations:\n",
    "    </div>"
   ]
  },
  {
   "cell_type": "code",
   "execution_count": 2,
   "metadata": {},
   "outputs": [
    {
     "name": "stdout",
     "output_type": "stream",
     "text": [
      "The result of dividing a to 10 is: 163745892.3\n",
      "The integer part of dividing a to 10 is: 163745892\n",
      "The remainder part of dividing a to 10 is: 3\n",
      "The remainder part of dividing a to 7 is: 2\n"
     ]
    }
   ],
   "source": [
    "a = 1637458923\n",
    "\n",
    "print(\"The result of dividing a to 10 is: \" + str(a/10))\n",
    "print(\"The integer part of dividing a to 10 is: \" + str(int(a/10)))\n",
    "print(\"The remainder part of dividing a to 10 is: \" + str(int(a%10)))\n",
    "print(\"The remainder part of dividing a to 7 is: \" + str(int(a%7)))"
   ]
  },
  {
   "cell_type": "markdown",
   "metadata": {},
   "source": [
    "<div class = \"alert alert-block alert-warning\">\n",
    "    <b> Exercise: </b> Now let us take a number, and find its <b> opposite</b>. Example: take number 143762, and print out 267341. \n",
    "    </div>"
   ]
  },
  {
   "cell_type": "markdown",
   "metadata": {},
   "source": [
    "<div class = \"alert alert-block alert-danger\">\n",
    "    Do this, first of all, with a <b> while </b> function. Why <b> while </b> function? Because we do <b> not </b> know <b> how many </b> digits the number has, and there is no function for working out the length of a number:\n",
    "    </div>"
   ]
  },
  {
   "cell_type": "markdown",
   "metadata": {},
   "source": [
    "<div class = \"alert alert-block alert-success\">\n",
    "    <b> Approach: </b> \n",
    "    <ul>\n",
    "        <li> <b> Create </b> an auxiliary variable and set it to 1 </li>\n",
    "        <li> <b> Divide </b> each time the number of interest by 10, to separate the last digit from the rest of the number </li>\n",
    "        <li> <b> Multiply </b> the auxiliary variable by 10, and then add the last digit </li>\n",
    "        <li> <b> Print </b> out the result </li>\n",
    "    </ul> \n",
    "    \n",
    "<b> Try </b> this on paper, to make sure you understand the algorithm.\n",
    "        </div>"
   ]
  },
  {
   "cell_type": "code",
   "execution_count": 4,
   "metadata": {},
   "outputs": [
    {
     "name": "stdout",
     "output_type": "stream",
     "text": [
      "The opposite of the number is: 267341\n"
     ]
    }
   ],
   "source": [
    "n = 143762\n",
    "no_digits = 0\n",
    "aux = 0 # auxiliary variable, for calculating the opposite of the number\n",
    "\n",
    "while(n > 0):\n",
    "    aux = aux * 10 + n % 10\n",
    "    n = int(n/10)\n",
    "\n",
    "print(\"The opposite of the number is: \" + str(aux))"
   ]
  },
  {
   "cell_type": "markdown",
   "metadata": {},
   "source": [
    "<div class = \"alert alert-block alert-success\">\n",
    "    Do <b> not </b> worry if you do not understand from the first time, we will have plenty of similar exercises. Moreover, we will soon cover the concept of <b> debugging </b>, which allows us to check the computational thinking <b> step by step </b>. Hence, do not worry if you do not understand everything right now. \n",
    "    </div>"
   ]
  },
  {
   "cell_type": "markdown",
   "metadata": {},
   "source": [
    "<div class = \"alert alert-block alert-warning\">\n",
    "    <b> Exercise: </b> Calculate the opposite of a number, but this time keep only the <b> even </b>digits. <b> Hint: </b> only one line of code needs to be changed.\n",
    "    </div>"
   ]
  },
  {
   "cell_type": "code",
   "execution_count": null,
   "metadata": {},
   "outputs": [],
   "source": [
    "n = 143762\n",
    "no_digits = 0\n",
    "aux = 0 # auxiliary variable, for calculating the opposite of the number\n",
    "\n",
    "while(n > 0):\n",
    "    # What do you have to change here?\n",
    "    aux = aux * 10 + n % 10\n",
    "    n = int(n/10)\n",
    "\n",
    "print(\"The opposite of the number is: \" + str(aux))"
   ]
  },
  {
   "cell_type": "markdown",
   "metadata": {},
   "source": [
    "<div class = \"alert alert-block alert-success\">\n",
    "    <b> Theory: </b> Check the code below, to witness how <b> functions </b> in Computer Science are created.\n",
    "    </div>"
   ]
  },
  {
   "cell_type": "code",
   "execution_count": 7,
   "metadata": {},
   "outputs": [
    {
     "name": "stdout",
     "output_type": "stream",
     "text": [
      "The opposite of the number is: 267341\n"
     ]
    }
   ],
   "source": [
    "def opposite_number(n):\n",
    "\n",
    "    aux = 0 # auxiliary variable, for calculating the opposite of the number\n",
    "\n",
    "    while(n > 0):\n",
    "        aux = aux * 10 + n % 10\n",
    "        n = int(n/10)\n",
    "\n",
    "    print(\"The opposite of the number is: \" + str(aux))\n",
    "    \n",
    "opposite_number(143762)"
   ]
  },
  {
   "cell_type": "markdown",
   "metadata": {},
   "source": [
    "## Take-away"
   ]
  },
  {
   "cell_type": "markdown",
   "metadata": {},
   "source": [
    "<div class = \"alert alert-block alert-info\">\n",
    "\n",
    "This is it for today, and well done for managing to go through the material!! <br> <br> After this session, you should be more familiar with how simple sentences, numbers and conditional statements can be printed in Python. Moreover, ponder a bit on the for instruction, as it is heavily used in programming, as well as the numerical algorithms involved here, and how you can go through an array. Also, feel free to work more on this notebook using any commands you would like. <br> <br>\n",
    "<b> Note: </b> Always keep a back-up of the notebook, in case the original one is altered. <br><br>\n",
    "For today's session, this should be enough! See you later!!\n",
    "    </div>"
   ]
  },
  {
   "cell_type": "code",
   "execution_count": null,
   "metadata": {},
   "outputs": [],
   "source": [
    "print(\"Bye bye! :D\")"
   ]
  },
  {
   "cell_type": "markdown",
   "metadata": {},
   "source": [
    "![Noteable license](https://github.com/jstix/mr-noteable/blob/master/Banner%20image/Screenshot%202021-03-05%20115453.png?raw=true)"
   ]
  }
 ],
 "metadata": {
  "kernelspec": {
   "display_name": "Python 3",
   "language": "python",
   "name": "python3"
  },
  "language_info": {
   "codemirror_mode": {
    "name": "ipython",
    "version": 3
   },
   "file_extension": ".py",
   "mimetype": "text/x-python",
   "name": "python",
   "nbconvert_exporter": "python",
   "pygments_lexer": "ipython3",
   "version": "3.7.6"
  }
 },
 "nbformat": 4,
 "nbformat_minor": 4
}
