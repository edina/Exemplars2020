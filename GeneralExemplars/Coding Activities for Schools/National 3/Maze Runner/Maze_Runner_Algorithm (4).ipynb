{
 "cells": [
  {
   "cell_type": "markdown",
   "metadata": {},
   "source": [
    "![Noteable.ac.uk Banner](https://github.com/jstix/mr-noteable/blob/master/Banner%20image/1500x500.jfif?raw=true)"
   ]
  },
  {
   "cell_type": "markdown",
   "metadata": {},
   "source": [
    "# Maze Runner"
   ]
  },
  {
   "cell_type": "code",
   "execution_count": null,
   "metadata": {},
   "outputs": [],
   "source": []
  },
  {
   "cell_type": "markdown",
   "metadata": {},
   "source": [
    "<div class = \"alert alert-block alert-info\">\n",
    "    In <b> blue</b>, the <b> instructions </b> and <b> goals </b> are highlighted.\n",
    "</div>"
   ]
  },
  {
   "cell_type": "markdown",
   "metadata": {},
   "source": [
    "<div class = \"alert alert-block alert-success\">\n",
    "    In <b> green</b>, the <b> information </b> is highlighted.\n",
    "</div>"
   ]
  },
  {
   "cell_type": "markdown",
   "metadata": {},
   "source": [
    "<div class = \"alert alert-block alert-warning\">\n",
    "    In <b> yellow</b>, the <b> exercises </b> are highlighted.\n",
    "</div>"
   ]
  },
  {
   "cell_type": "markdown",
   "metadata": {},
   "source": [
    "<div class = \"alert alert-block alert-danger\">\n",
    "    In <b> red</b>, the <b> error </b> and <b> alert messages </b> are highlighted.\n",
    "</div>"
   ]
  },
  {
   "cell_type": "markdown",
   "metadata": {},
   "source": [
    "## Instructions"
   ]
  },
  {
   "cell_type": "markdown",
   "metadata": {},
   "source": [
    "<div class = \"alert alert-block alert-info\">\n",
    "    <ul>\n",
    "        <li> Click <b> Run </b> on each cell to go through the code in each cell. This will take you through the cell and print out the results. </li>\n",
    "        <li> If you wish to see all the outputs at once in the whole notebook, just click <b> Cell </b> and then <b> Run All</b>. </li>\n",
    "        <li> Do not forget to import <b> all </b> the pictures into the same file, otherwise the images <b> will not be printed out! </b>\n",
    "    </ul>\n",
    "</div>"
   ]
  },
  {
   "cell_type": "markdown",
   "metadata": {},
   "source": [
    "## Objectives"
   ]
  },
  {
   "cell_type": "markdown",
   "metadata": {},
   "source": [
    "<div class = \"alert alert-block alert-info\">\n",
    "After this workshop, the student should get more familiar with the following topics: <br> \n",
    "<ul>\n",
    "    <li> printing basic statements and commands in Jupyter Notebook</li>\n",
    "    <li> performing basic arithmetic calculations in Python</li>\n",
    "    <li> improving an existent model of the code</li>\n",
    "    <li> recognizing and checking variable types in Python </li>\n",
    "    <li> using the <b> if </b> statement for basic operations\n",
    "</ul>\n",
    "    \n",
    "<b> These objectives are in agreement with the National 3 Scottish Curriculum for high-school students. </b> <br> <br> <b> Note: </b> For most of the workshop, the student will be given some coding examples. In some cases, the student will have to code himself/herself. The coding part is optional, but highly recommended to approach. \n",
    "  \n",
    "</div>"
   ]
  },
  {
   "cell_type": "markdown",
   "metadata": {},
   "source": [
    "## Explore"
   ]
  },
  {
   "cell_type": "markdown",
   "metadata": {},
   "source": [
    "<div class = \"alert alert-block alert-warning\">\n",
    "You will hear plenty of talk in computing science about algorithms, debugging, efficiency of the code, sorting, and so on... They are all heavily met not only in computing science, but also beyond. But more exactly, what are they? <br> <br> Let us begin with a simple game, that you may be quite familiar with: <b> Maze Runner </b>.. This game is on the phone as well, you may have even played (it was one of the recommended games on Google Apps in 2015-2016, although this may be a bit old...). We will simplify a bit the game, as well as the animation (and there will be less graphics unfortunately), but the game rule will still be there. <br> <br> When devising this game, we need, firstly, something on which the game is developed.\n",
    "    </div>"
   ]
  },
  {
   "cell_type": "markdown",
   "metadata": {},
   "source": [
    "## Steps for developing the game"
   ]
  },
  {
   "cell_type": "markdown",
   "metadata": {},
   "source": [
    "### The maze"
   ]
  },
  {
   "cell_type": "markdown",
   "metadata": {},
   "source": [
    "<div class = \"alert alert-block alert-warning\">\n",
    "This is basically the board where we can develop the maze. Suppose the player starts at a given place and needs to reach another place. Let's see how this would look. <b> Note: </b> There are some code lines below which you do not need to know at the moment. The code is given for the game to work.\n",
    "    </div>"
   ]
  },
  {
   "cell_type": "code",
   "execution_count": null,
   "metadata": {},
   "outputs": [],
   "source": [
    "import numpy as np\n",
    "import matplotlib.pyplot as plt\n",
    "\n",
    "maze = np.zeros((4,4))\n",
    "\n",
    "maze[2][0] = 1\n",
    "maze[1][3] = 3\n",
    "plt.imshow(maze, cmap='Blues_r', origin='lower')\n",
    "plt.colorbar()"
   ]
  },
  {
   "cell_type": "markdown",
   "metadata": {},
   "source": [
    "On the above plot, the blue cell is the one occupied by the player, and the white cell is the final destination. "
   ]
  },
  {
   "cell_type": "markdown",
   "metadata": {},
   "source": [
    "### Objective"
   ]
  },
  {
   "cell_type": "markdown",
   "metadata": {},
   "source": [
    "<div class = \"alert alert-block alert-warning\">\n",
    "Reach the final destination of the maze \n",
    "    </div>"
   ]
  },
  {
   "cell_type": "markdown",
   "metadata": {},
   "source": [
    "### Rules"
   ]
  },
  {
   "cell_type": "markdown",
   "metadata": {},
   "source": [
    "<div class = \"alert alert-block alert-warning\">\n",
    "You can only move up, down, left or right. You cannot escape the walls of the maze. For moving in the maze, you can use the following arrows, shown below. Moreover, you cannot mov in diagonals.\n",
    "    </div>"
   ]
  },
  {
   "cell_type": "code",
   "execution_count": null,
   "metadata": {},
   "outputs": [],
   "source": [
    "import PIL\n",
    "from PIL import Image\n",
    "\n",
    "im_left = Image.open(\"left.png\")\n",
    "im_left = im_left.resize((150,150))\n",
    "\n",
    "im_right = Image.open(\"right.png\")\n",
    "im_right = im_right.resize((150,150))\n",
    "\n",
    "im_up = Image.open(\"up.png\")\n",
    "im_up = im_up.resize((150,150))\n",
    "\n",
    "im_down = Image.open(\"down.png\")\n",
    "im_down = im_down.resize((150,150))\n",
    "\n",
    "im_right # Try out the images"
   ]
  },
  {
   "cell_type": "markdown",
   "metadata": {},
   "source": [
    "### Let the game begin"
   ]
  },
  {
   "cell_type": "markdown",
   "metadata": {},
   "source": [
    "From the plot above, it seems we need to do three steps to the right and one step below. Press one arrow on the right and see what happens."
   ]
  },
  {
   "cell_type": "code",
   "execution_count": null,
   "metadata": {},
   "outputs": [],
   "source": [
    "im_right"
   ]
  },
  {
   "cell_type": "code",
   "execution_count": null,
   "metadata": {},
   "outputs": [],
   "source": [
    "maze[2][0] = 0\n",
    "maze[2][1] = 1\n",
    "maze[1][3] = 3\n",
    "\n",
    "plt.imshow(maze, cmap='Blues_r', origin='lower')"
   ]
  },
  {
   "cell_type": "markdown",
   "metadata": {},
   "source": [
    "The maze is updated, as we can see. The player has moved one step to the right. Let us move him another step to the right\""
   ]
  },
  {
   "cell_type": "code",
   "execution_count": null,
   "metadata": {},
   "outputs": [],
   "source": [
    "im_right"
   ]
  },
  {
   "cell_type": "code",
   "execution_count": null,
   "metadata": {},
   "outputs": [],
   "source": [
    "maze[2][1] = 0\n",
    "maze[2][2] = 1\n",
    "maze[1][3] = 3\n",
    "\n",
    "plt.imshow(maze, cmap='Blues_r', origin='lower')"
   ]
  },
  {
   "cell_type": "markdown",
   "metadata": {},
   "source": [
    "Well done! We are closer to finish!! Now let us try to move him one stepb below:"
   ]
  },
  {
   "cell_type": "code",
   "execution_count": null,
   "metadata": {},
   "outputs": [],
   "source": [
    "maze[2][2] = 0\n",
    "maze[1][2] = 1\n",
    "maze[1][3] = 3\n",
    "\n",
    "plt.imshow(maze, cmap='Blues_r', origin='lower')"
   ]
  },
  {
   "cell_type": "markdown",
   "metadata": {},
   "source": [
    "We have only one move left to do. However, the player can also make a bad decision and decide that he wants to take a different direction. Suppose that player wants to go down. "
   ]
  },
  {
   "cell_type": "code",
   "execution_count": null,
   "metadata": {},
   "outputs": [],
   "source": [
    "im_down"
   ]
  },
  {
   "cell_type": "code",
   "execution_count": null,
   "metadata": {},
   "outputs": [],
   "source": [
    "maze[1][2] = 0\n",
    "maze[0][2] = 1\n",
    "maze[1][3] = 3\n",
    "\n",
    "plt.imshow(maze, cmap='Blues_r', origin='lower')"
   ]
  },
  {
   "cell_type": "markdown",
   "metadata": {},
   "source": [
    "Now the player may have realized he missed the exit...Let us just go to the exit of the maze. We can go up and then right:"
   ]
  },
  {
   "cell_type": "code",
   "execution_count": null,
   "metadata": {},
   "outputs": [],
   "source": [
    "im_up"
   ]
  },
  {
   "cell_type": "code",
   "execution_count": null,
   "metadata": {},
   "outputs": [],
   "source": [
    "im_right"
   ]
  },
  {
   "cell_type": "code",
   "execution_count": null,
   "metadata": {},
   "outputs": [],
   "source": [
    "maze[0][2] = 0\n",
    "maze[1][3] = 4\n",
    "\n",
    "plt.imshow(maze, cmap='Blues_r', origin='lower')\n",
    "print(\"Hooray! We reached the exit\")"
   ]
  },
  {
   "cell_type": "markdown",
   "metadata": {},
   "source": [
    "### We have finished the game"
   ]
  },
  {
   "cell_type": "markdown",
   "metadata": {},
   "source": [
    "<div class = \"alert alert-block alert-success\">\n",
    "So what is the connection with the topic of the day? Well, you have just told the computer what steps to take(go to the right, then right again, down and so on...) This is exactly the procedure for an <b> algorithm </b>, where given a specific issue or a problem, you tell the computer what steps to take in order to solve your issue. <br><br> Let us take another real-life example and try to think it computationally: You have 12 pets at home, and you want to treat each of them with a reward - food cat and dog cat.\n",
    "    </div>"
   ]
  },
  {
   "cell_type": "code",
   "execution_count": null,
   "metadata": {},
   "outputs": [],
   "source": [
    "dog = Image.open(\"dog.jpg\")\n",
    "dog = dog.resize((150,150))\n",
    "\n",
    "cat = Image.open(\"cat.jpg\")\n",
    "cat = cat.resize((150,150))"
   ]
  },
  {
   "cell_type": "markdown",
   "metadata": {},
   "source": [
    "## Would you like a candy?"
   ]
  },
  {
   "cell_type": "markdown",
   "metadata": {},
   "source": [
    "<div class = \"alert alert-block alert-warning\">\n",
    "    <b> Exercise: </b> Take the following pack of pets: dog, cat, cat, dog, dog, cat, cat, dog. You want to go through each pet, and if it's a cat, give her a candy. <br> <br> Of course, you already know who is a dog and who is a cat, but the computer processes data differently. The animation below will show you how:\n",
    "    </div>"
   ]
  },
  {
   "cell_type": "markdown",
   "metadata": {},
   "source": [
    "<b> step 1: </b>"
   ]
  },
  {
   "cell_type": "code",
   "execution_count": null,
   "metadata": {},
   "outputs": [],
   "source": [
    "print(\"Hello, Doggo!!\")"
   ]
  },
  {
   "cell_type": "code",
   "execution_count": null,
   "metadata": {},
   "outputs": [],
   "source": [
    "print(\"Hello, User!!\")\n",
    "\n",
    "dog"
   ]
  },
  {
   "cell_type": "markdown",
   "metadata": {},
   "source": [
    "This is a dog. Give him dog food"
   ]
  },
  {
   "cell_type": "code",
   "execution_count": null,
   "metadata": {},
   "outputs": [],
   "source": [
    "print(\"Doggo!! Do you want this candy?\")"
   ]
  },
  {
   "cell_type": "code",
   "execution_count": null,
   "metadata": {},
   "outputs": [],
   "source": [
    "print(\"Yes! Thank you!\")"
   ]
  },
  {
   "cell_type": "markdown",
   "metadata": {},
   "source": [
    "<b> step 2: </b>"
   ]
  },
  {
   "cell_type": "code",
   "execution_count": null,
   "metadata": {},
   "outputs": [],
   "source": [
    "print(\"Hello, Kittie!!\")"
   ]
  },
  {
   "cell_type": "code",
   "execution_count": null,
   "metadata": {},
   "outputs": [],
   "source": [
    "print(\"Hello, User!\")\n",
    "\n",
    "cat"
   ]
  },
  {
   "cell_type": "markdown",
   "metadata": {},
   "source": [
    "This is a kittie...give her cat food."
   ]
  },
  {
   "cell_type": "markdown",
   "metadata": {},
   "source": [
    "<b> step 3: </b>"
   ]
  },
  {
   "cell_type": "code",
   "execution_count": null,
   "metadata": {},
   "outputs": [],
   "source": [
    "print(\"Hello, Kittie!!\")"
   ]
  },
  {
   "cell_type": "code",
   "execution_count": null,
   "metadata": {},
   "outputs": [],
   "source": [
    "print(\"Hello, User!\")\n",
    "\n",
    "cat"
   ]
  },
  {
   "cell_type": "markdown",
   "metadata": {},
   "source": [
    "This is a kittie: give her cat food."
   ]
  },
  {
   "cell_type": "code",
   "execution_count": null,
   "metadata": {},
   "outputs": [],
   "source": [
    "print(\"Would you like cat food, kittie?\")"
   ]
  },
  {
   "cell_type": "code",
   "execution_count": null,
   "metadata": {},
   "outputs": [],
   "source": [
    "print(\"Yes! Thank you!\")"
   ]
  },
  {
   "cell_type": "markdown",
   "metadata": {},
   "source": [
    "<div class = \"alert alert-block alert-warning\">\n",
    "<b> Exercise: </b> Given this model, can you do the other cases? Also, feel free to assign all the kitties and doggos names\n",
    "    </div>"
   ]
  },
  {
   "cell_type": "markdown",
   "metadata": {},
   "source": [
    "<div class = \"alert alert-block alert-success\">\n",
    "What you have just done is to describe the steps the computer should make in order to check that all the cats within the house receive cat food and all the dogs in the classroom receive dog food. This is another typical example of an <b> algorithm. </b> Generally, an algorithm is a set of instructions given to the computer in order to achieve a result. The result could be, for instance, printing out a number, checking that all the girls have received candies in the exercise above, check the efficiency of facial recognition, statistical result of a value, and so on... The instructions take, of course, a different form when they are put into programming langauge. The exercise above, translated into Python language, would look as below (we will look into the coding in another notebook):\n",
    "    </div>"
   ]
  },
  {
   "cell_type": "markdown",
   "metadata": {},
   "source": [
    "### Debugging:"
   ]
  },
  {
   "cell_type": "markdown",
   "metadata": {},
   "source": [
    "<div class = \"alert alert-block alert-danger\">\n",
    "We are still on this game...The code above works on the assumption that the genders have been classified correctly by the computer. However, this is not always the case. Suppose we encounter a situation where you mistakenly take a girl for a boy and do not give her candy:\n",
    "    </div>"
   ]
  },
  {
   "cell_type": "code",
   "execution_count": null,
   "metadata": {},
   "outputs": [],
   "source": [
    "print(\"Hello, Kittie!!\")"
   ]
  },
  {
   "cell_type": "code",
   "execution_count": null,
   "metadata": {},
   "outputs": [],
   "source": [
    "print(\"Hello, User!!\")\n",
    "\n",
    "cat"
   ]
  },
  {
   "cell_type": "code",
   "execution_count": null,
   "metadata": {},
   "outputs": [],
   "source": [
    "print(\"Do you want doggo food, kittie?\")"
   ]
  },
  {
   "cell_type": "code",
   "execution_count": null,
   "metadata": {},
   "outputs": [],
   "source": [
    "cat_angry = Image.open(\"cat_angry.jpg\")\n",
    "cat_angry = cat_angry.resize((150,150))\n",
    "\n",
    "cat_angry"
   ]
  },
  {
   "cell_type": "code",
   "execution_count": null,
   "metadata": {},
   "outputs": [],
   "source": [
    "print(\"I am not doggo! angy\")"
   ]
  },
  {
   "cell_type": "markdown",
   "metadata": {},
   "source": [
    "<div class = \"alert alert-block alert-success\">\n",
    "Suppose you give this cat dog food....The cat would turn angry and some pets would start fighting. In this case, you would like to undo your mistake and treat the cat properly by giving her kittie food. In computer science language, you have looked into the variable (the code line) where you encountered the error (the bug), and you <b> debugged </b> it. This technique is called <b> debugging. </b> \n",
    "    </div>"
   ]
  },
  {
   "cell_type": "markdown",
   "metadata": {},
   "source": [
    "## Take-away"
   ]
  },
  {
   "cell_type": "markdown",
   "metadata": {},
   "source": [
    "<div class = \"alert alert-block alert-success\">\n",
    "You have reached the end of the notebook!! Well done for managing to go through all of it! Once again, the purpose of these exercises resides in getting more familiar with computer science language, as well as computational thinking and how the computer processes each step at a time. This is what you should remember from today's session!\n",
    "\n",
    "See you next time!\n",
    "\n",
    "<b> P.S: </b> Always keep a fresh copy of the notebook in case you alter the original one.\n",
    "    </div>"
   ]
  },
  {
   "cell_type": "code",
   "execution_count": null,
   "metadata": {},
   "outputs": [],
   "source": [
    "print(\"Bye bye! :D\")"
   ]
  },
  {
   "cell_type": "markdown",
   "metadata": {},
   "source": [
    "![Noteable license](https://github.com/jstix/mr-noteable/blob/master/Banner%20image/Screenshot%202021-03-05%20115453.png?raw=true)"
   ]
  },
  {
   "cell_type": "code",
   "execution_count": null,
   "metadata": {},
   "outputs": [],
   "source": []
  }
 ],
 "metadata": {
  "kernelspec": {
   "display_name": "Python 3",
   "language": "python",
   "name": "python3"
  },
  "language_info": {
   "codemirror_mode": {
    "name": "ipython",
    "version": 3
   },
   "file_extension": ".py",
   "mimetype": "text/x-python",
   "name": "python",
   "nbconvert_exporter": "python",
   "pygments_lexer": "ipython3",
   "version": "3.7.6"
  }
 },
 "nbformat": 4,
 "nbformat_minor": 4
}
