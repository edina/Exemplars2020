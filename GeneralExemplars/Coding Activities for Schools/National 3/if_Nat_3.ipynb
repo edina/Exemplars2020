{
 "cells": [
  {
   "cell_type": "markdown",
   "metadata": {},
   "source": [
    "![Noteable.ac.uk Banner](https://github.com/jstix/mr-noteable/blob/master/Banner%20image/1500x500.jfif?raw=true)"
   ]
  },
  {
   "cell_type": "markdown",
   "metadata": {},
   "source": [
    "# If and for statements"
   ]
  },
  {
   "cell_type": "markdown",
   "metadata": {},
   "source": [
    "## Legend"
   ]
  },
  {
   "cell_type": "markdown",
   "metadata": {},
   "source": [
    "<div class = \"alert alert-block alert-info\">\n",
    "    In <b> blue</b>, the <b> instructions </b> and <b> goals </b> are highlighted.\n",
    "</div>"
   ]
  },
  {
   "cell_type": "markdown",
   "metadata": {},
   "source": [
    "<div class = \"alert alert-block alert-success\">\n",
    "    In <b> green</b>, the <b> information </b> is highlighted.\n",
    "</div>"
   ]
  },
  {
   "cell_type": "markdown",
   "metadata": {},
   "source": [
    "<div class = \"alert alert-block alert-warning\">\n",
    "    In <b> yellow</b>, the <b> exercises </b> are highlighted.\n",
    "</div>"
   ]
  },
  {
   "cell_type": "markdown",
   "metadata": {},
   "source": [
    "<div class = \"alert alert-block alert-danger\">\n",
    "    In <b> red</b>, the <b> error </b> and <b> alert messages </b> are highlighted.\n",
    "</div>"
   ]
  },
  {
   "cell_type": "markdown",
   "metadata": {},
   "source": [
    "## Instructions"
   ]
  },
  {
   "cell_type": "markdown",
   "metadata": {},
   "source": [
    "<div class = \"alert alert-block alert-info\">\n",
    "<ul>\n",
    "<li> Click \"Run\" on each cell to go through the code in each cell. This will take you through the cell and print out the results. </li>\n",
    "<li> If you wish to see all the outputs at once in the whole notebook, just click Cell and then Run All. </li>\n",
    "    </ul>\n",
    "</div>"
   ]
  },
  {
   "cell_type": "markdown",
   "metadata": {},
   "source": [
    "## Goals"
   ]
  },
  {
   "cell_type": "markdown",
   "metadata": {},
   "source": [
    "<div class = \"alert alert-block alert-info\">\n",
    "After this workshop, the student should get more familiar with the following topics: <br> \n",
    "<ul>\n",
    "    <li> printing basic statements and commands in Jupyter Notebook</li>\n",
    "    <li> performing basic arithmetic calculations in Python</li>\n",
    "    <li> improving an existent model of the code</li>\n",
    "    <li> recognizing and checking variable types in Python </li>\n",
    "    <li> using the <b> if </b> statement for basic operations\n",
    "</ul>\n",
    "    \n",
    "<b> These objectives are in agreement with the National 3 Scottish Curriculum for high-school students. </b> <br> <br> <b> Note: </b> For most of the workshop, the student will be given some coding examples. In some cases, the student will have to code himself/herself. The coding part is optional, but highly recommended to approach. \n",
    "  \n",
    "</div>"
   ]
  },
  {
   "cell_type": "markdown",
   "metadata": {},
   "source": [
    "## Explore"
   ]
  },
  {
   "cell_type": "markdown",
   "metadata": {},
   "source": [
    "### Conditional if statement..."
   ]
  },
  {
   "cell_type": "markdown",
   "metadata": {},
   "source": [
    "Welcome yet to another session!! Today we will have a better look to the if statement and work with the for condition...we will take them one by one! Let us begin with a revision of if statement. As the name suggests, this instruction is used when only some specific numbers are required. As an example, suppose we have a number and we just want to check <b> if </b> it is even or odd."
   ]
  },
  {
   "cell_type": "markdown",
   "metadata": {},
   "source": [
    "<div class = \"alert alert-block alert-warning\">\n",
    "<b> Predict </b> what the cell below is doing, firstly without running the cell. \n",
    "    </div>"
   ]
  },
  {
   "cell_type": "code",
   "execution_count": null,
   "metadata": {},
   "outputs": [],
   "source": [
    "a = 6\n",
    "\n",
    "if(a % 2 ==1):\n",
    "    print(\"The number is odd\")\n",
    "else:\n",
    "    print(\"The number is even\")"
   ]
  },
  {
   "cell_type": "markdown",
   "metadata": {},
   "source": [
    "<div class = \"alert alert-block alert-success\">\n",
    "    The <b> if </b> statement is used to check <b> whether </b> a variable satisfies a certain criteria or not.\n",
    "    </div>"
   ]
  },
  {
   "cell_type": "markdown",
   "metadata": {},
   "source": [
    "<div class = \"alert alert-block alert-success\">\n",
    "There are plenty of examples where the if instruction can be used: <br> <br> \n",
    "<ul>\n",
    "    <li> Is a number below or above a certain limit? </li>\n",
    "    <li> Is an element divisible by another number? </li>\n",
    "    <li> Are there enough variables in the program? </li>\n",
    "    </ul>\n",
    "</div>"
   ]
  },
  {
   "cell_type": "markdown",
   "metadata": {},
   "source": [
    "<div class = \"alert alert-block alert-warning\">\n",
    "<b> Exercise: </b> take a random integer and check if it is divisible by 3. While you are at this exercise, can you think of an efficient way by establishing if a number divides exactlty by 3? (Recall your maths lessons)\n",
    "    </div>"
   ]
  },
  {
   "cell_type": "code",
   "execution_count": null,
   "metadata": {},
   "outputs": [],
   "source": [
    "# Write your own code here"
   ]
  },
  {
   "cell_type": "markdown",
   "metadata": {},
   "source": [
    "<div class = \"alert alert-block alert-warning\">\n",
    "    <b> Exercise: </b> What happens in the following scenario? First, <b> think </b> about the output and the validity of the code, then <b> run </b> the cell:\n",
    "    </div>"
   ]
  },
  {
   "cell_type": "code",
   "execution_count": 4,
   "metadata": {},
   "outputs": [
    {
     "name": "stdout",
     "output_type": "stream",
     "text": [
      "0.20000000000000018\n"
     ]
    }
   ],
   "source": [
    "a = 4.8\n",
    "print(a % 2.3)"
   ]
  },
  {
   "cell_type": "markdown",
   "metadata": {},
   "source": [
    "<div class = \"alert alert-block alert-warning\">\n",
    "    <b> Investigate: </b> Does this answer make sense? \n",
    "    </div>"
   ]
  },
  {
   "cell_type": "markdown",
   "metadata": {},
   "source": [
    "<div class = \"alert alert-block alert-danger\">\n",
    "This error is about the way Python language is built, we can clearly see that a flaw is present. The message is the following: <b> for remainder divisions, work only with integers, not with float numbers. </b>\n",
    "    </div>"
   ]
  },
  {
   "cell_type": "markdown",
   "metadata": {},
   "source": [
    "However, in programming, sometimes more statements have to be checked, which mean more if statements. As a simple example, we want to check whether a number has one digit, two, or three."
   ]
  },
  {
   "cell_type": "code",
   "execution_count": null,
   "metadata": {},
   "outputs": [],
   "source": [
    "a = 45\n",
    "\n",
    "if(0 < a < 10):\n",
    "    print(\"Integer a has only one digit\")\n",
    "elif(10 < a < 99):\n",
    "    print(\"Integer a has two digits\")\n",
    "else:\n",
    "    print(\"Integer a has three digits\")"
   ]
  },
  {
   "cell_type": "markdown",
   "metadata": {},
   "source": [
    "<div class = \"alert alert-block alert-warning\">\n",
    "<b> Exercise: </b> Change the value of a, so different statements are printed (do this in the above cell):\n",
    "    </div>"
   ]
  },
  {
   "cell_type": "markdown",
   "metadata": {},
   "source": [
    "<div class = \"alert alert-block alert-warning\">\n",
    "<b> Another exercise: </b> We have only considered, and for the above cell will only consider the one, two and three-digit numbers, those greater than 999 are not accepted as input. Accordingly, in the cell below, add a new elif command to deny any number greater than 999. As a help, the printed statement should be - \"The number should have at most three digits.\"\n",
    "    </div>"
   ]
  },
  {
   "cell_type": "code",
   "execution_count": null,
   "metadata": {},
   "outputs": [],
   "source": [
    "# Write your own code here"
   ]
  },
  {
   "cell_type": "markdown",
   "metadata": {},
   "source": [
    "<div class = \"alert alert-block alert-warning\">\n",
    "    <b> Improve and Create: </b> can you still detect flaws in the given program? What if I put a negative number? What should I change? Think as well of other cases. Discuss this in pairs among yourselves and with your teacher as well. \n",
    "    </div>"
   ]
  },
  {
   "cell_type": "code",
   "execution_count": null,
   "metadata": {},
   "outputs": [],
   "source": [
    "# Write your own code here"
   ]
  },
  {
   "cell_type": "markdown",
   "metadata": {},
   "source": [
    "Elif statements are suitable for the middle conditions, as you can see... we will come back later to the elif statements. However, for the moment, let us introduce another instruction: the for statement. This instruction is used for going over more elements in a list. Let's have a look below:"
   ]
  },
  {
   "cell_type": "markdown",
   "metadata": {},
   "source": [
    "<div class = \"alert alert-block alert-warning\">\n",
    "<b> A small game: </b> Talk to your colleagues, and check some of their preferences. Print them out on Python using if-statements: an example is given below\n",
    "    </div>"
   ]
  },
  {
   "cell_type": "code",
   "execution_count": 1,
   "metadata": {},
   "outputs": [
    {
     "name": "stdout",
     "output_type": "stream",
     "text": [
      "Does your colleague enjoy hedgehogs?Yes\n",
      "Your colleague enjoys hedgehogs\n"
     ]
    }
   ],
   "source": [
    "answer = input(\"Does your colleague enjoy hedgehogs?\")\n",
    "if(answer == \"Yes\"):\n",
    "    print(\"Your colleague enjoys hedgehogs\")\n",
    "else:\n",
    "    print(\"Your colleague does not enjoy hedgehogs\")"
   ]
  },
  {
   "cell_type": "markdown",
   "metadata": {},
   "source": [
    "<div class = \"alert alert-block alert-warning\">\n",
    "<b> Task 1: </b> Replace the noun <b> colleague </b> with an actual name of your peers\n",
    "    </div>"
   ]
  },
  {
   "cell_type": "code",
   "execution_count": null,
   "metadata": {},
   "outputs": [],
   "source": [
    "# Write your own code here"
   ]
  },
  {
   "cell_type": "markdown",
   "metadata": {},
   "source": [
    "<div class = \"alert alert-block alert-warning\">\n",
    "<b> Task 2: </b> Talk about something else, not hedgehogs (your choice)\n",
    "    </div>"
   ]
  },
  {
   "cell_type": "code",
   "execution_count": null,
   "metadata": {},
   "outputs": [],
   "source": [
    "# Write your own code here"
   ]
  },
  {
   "cell_type": "markdown",
   "metadata": {},
   "source": [
    "<div class = \"alert alert-block alert-warning\">\n",
    "<b> Task 3: </b> <b> Analyse </b> why did I choose to name a variable called answer? What if I deleted it? Discuss this amongst yourselves\n",
    "    </div>"
   ]
  },
  {
   "cell_type": "markdown",
   "metadata": {},
   "source": [
    "<div class = \"alert alert-block alert-warning\">\n",
    "<b> Task 4: </b> In the above code, the idea  is to approach a yes-or-no question. Suppose you type the answer hedgehog - what is the output? How would you change the code so that it prints \"Your colleague does not enjoy hedgehogs\" only for a No answer?\n",
    "    </div>"
   ]
  },
  {
   "cell_type": "code",
   "execution_count": null,
   "metadata": {},
   "outputs": [],
   "source": [
    "# Write your own code here"
   ]
  },
  {
   "cell_type": "markdown",
   "metadata": {},
   "source": [
    "## Take-away"
   ]
  },
  {
   "cell_type": "markdown",
   "metadata": {},
   "source": [
    "This is it for today, and well done for managing to go through the material!! <br> <br> After this session, you should be more familiar with how simple sentences, numbers and conditional statements can be printed in Python. Moreover, ponder a bit on the for instruction, as it is heavily used in programming. Also, feel free to work more on this notebook using any commands you would like. <br> <br>\n",
    "<b> <Note:> </b> Always keep a back-up of the notebook, in case the original one is altered. <br><br>\n",
    "For today's session, this should be enough! See you later!!"
   ]
  },
  {
   "cell_type": "code",
   "execution_count": 3,
   "metadata": {},
   "outputs": [
    {
     "name": "stdout",
     "output_type": "stream",
     "text": [
      "Bye bye! :D\n"
     ]
    }
   ],
   "source": [
    "print(\"Bye bye! :D\")"
   ]
  },
  {
   "cell_type": "markdown",
   "metadata": {},
   "source": [
    "![Noteable license](https://github.com/jstix/mr-noteable/blob/master/Banner%20image/Screenshot%202021-03-05%20115453.png?raw=true)"
   ]
  }
 ],
 "metadata": {
  "kernelspec": {
   "display_name": "Python 3",
   "language": "python",
   "name": "python3"
  },
  "language_info": {
   "codemirror_mode": {
    "name": "ipython",
    "version": 3
   },
   "file_extension": ".py",
   "mimetype": "text/x-python",
   "name": "python",
   "nbconvert_exporter": "python",
   "pygments_lexer": "ipython3",
   "version": "3.7.6"
  }
 },
 "nbformat": 4,
 "nbformat_minor": 4
}
