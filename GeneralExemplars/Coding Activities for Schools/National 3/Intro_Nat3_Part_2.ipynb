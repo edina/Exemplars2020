{
 "cells": [
  {
   "cell_type": "markdown",
   "metadata": {},
   "source": [
    "![Noteable.ac.uk Banner](https://github.com/jstix/mr-noteable/blob/master/Banner%20image/1500x500.jfif?raw=true)"
   ]
  },
  {
   "cell_type": "markdown",
   "metadata": {},
   "source": [
    "# Introduction to programming"
   ]
  },
  {
   "cell_type": "markdown",
   "metadata": {},
   "source": [
    "## Legend"
   ]
  },
  {
   "cell_type": "markdown",
   "metadata": {},
   "source": [
    "<div class = \"alert alert-block alert-info\">\n",
    "    In <b> blue</b>, the <b> instructions </b> and <b> goals </b> are highlighted.\n",
    "</div>"
   ]
  },
  {
   "cell_type": "markdown",
   "metadata": {},
   "source": [
    "<div class = \"alert alert-block alert-success\">\n",
    "    In <b> green</b>, the <b> information </b> is highlighted.\n",
    "</div>"
   ]
  },
  {
   "cell_type": "markdown",
   "metadata": {},
   "source": [
    "<div class = \"alert alert-block alert-warning\">\n",
    "    In <b> yellow</b>, the <b> exercises </b> are highlighted.\n",
    "</div>"
   ]
  },
  {
   "cell_type": "markdown",
   "metadata": {},
   "source": [
    "<div class = \"alert alert-block alert-danger\">\n",
    "    In <b> red</b>, the <b> error </b> and <b> alert messages </b> are highlighted.\n",
    "</div>"
   ]
  },
  {
   "cell_type": "markdown",
   "metadata": {},
   "source": [
    "## Instructions"
   ]
  },
  {
   "cell_type": "markdown",
   "metadata": {},
   "source": [
    "<div class = \"alert alert-block alert-info\">\n",
    "<ul>\n",
    "<li> Click \"Run\" on each cell to go through the code in each cell. This will take you through the cell and print out the results. </li>\n",
    "<li> If you wish to see all the outputs at once in the whole notebook, just click Cell and then Run All. </li>\n",
    "    </ul>\n",
    "</div>"
   ]
  },
  {
   "cell_type": "markdown",
   "metadata": {},
   "source": [
    "## Goal"
   ]
  },
  {
   "cell_type": "markdown",
   "metadata": {},
   "source": [
    "<div class = \"alert alert-block alert-info\">\n",
    "After this workshop, the student should get more familiar with the following topics: <br> \n",
    "<ul>\n",
    "    <li> printing basic statements and commands in Jupyter Notebook</li>\n",
    "    <li> performing basic arithmetic calculations in Python</li>\n",
    "    <li> improving an existent model of the code</li>\n",
    "    <li> recognizing and checking variable types in Python </li>\n",
    "</ul>\n",
    "    \n",
    "<b> These objectives are in agreement with the National 3 Scottish Curriculum for high-school students. </b> <br> <br> <b> Note: </b> For most of the workshop, the student will be given some coding examples. In some cases, the student will have to code himself/herself. The coding part is optional, but highly recommended to approach. \n",
    "  \n",
    "</div>"
   ]
  },
  {
   "cell_type": "markdown",
   "metadata": {},
   "source": [
    "## Explore"
   ]
  },
  {
   "cell_type": "markdown",
   "metadata": {},
   "source": [
    "### Variable types"
   ]
  },
  {
   "cell_type": "markdown",
   "metadata": {},
   "source": [
    "<div class = \"alert alert-block alert-success\">\n",
    "Let us talk about one important aspect in computing. So far, we have put straight instructions to calculate sums, differences, products and so on. However, we can work with what we call <b> variables. </b> The best example is shown below:\n",
    "    </div>"
   ]
  },
  {
   "cell_type": "code",
   "execution_count": 2,
   "metadata": {},
   "outputs": [
    {
     "name": "stdout",
     "output_type": "stream",
     "text": [
      "Variable a has the following value: 1\n",
      "Variable b has the following value: 2\n",
      "The sum of the variables is the following: 3\n",
      "The difference of the variables is the following: -1\n"
     ]
    }
   ],
   "source": [
    "a = 1\n",
    "b = 2\n",
    "\n",
    "print(\"Variable a has the following value: \" + str(a))\n",
    "print(\"Variable b has the following value: \" + str(b))\n",
    "print(\"The sum of the variables is the following: \" + str(a+b))\n",
    "print(\"The difference of the variables is the following: \" + str(a-b))"
   ]
  },
  {
   "cell_type": "markdown",
   "metadata": {},
   "source": [
    "<div class = \"alert alert-block alert-success\">\n",
    "At the beginning, when we calculated directly print(2+3), the number within the brackets is called a variable, as $ 2+3 = 5$. Now, we assigned a and b variables two values. The expression $ a=1 $ in Python stands for the following: <b> create a variable a and assign it value 1 </b>. Let us learn something about the variables: they can have various types. How can that be?\n",
    "    </div>"
   ]
  },
  {
   "cell_type": "markdown",
   "metadata": {},
   "source": [
    "<div class = \"alert alert-block alert-warning\">\n",
    "<b> Exercise: </b> Run through the following cells and investigate the outputs. Discuss the outputs of the code with your colleagues and teacher. Can you suspect what does the type function do?\n",
    "</div>"
   ]
  },
  {
   "cell_type": "code",
   "execution_count": null,
   "metadata": {},
   "outputs": [],
   "source": [
    "a = 3\n",
    "type(a)"
   ]
  },
  {
   "cell_type": "code",
   "execution_count": null,
   "metadata": {},
   "outputs": [],
   "source": [
    "b = 3.4\n",
    "type(b)"
   ]
  },
  {
   "cell_type": "code",
   "execution_count": null,
   "metadata": {},
   "outputs": [],
   "source": [
    "c = 'a'\n",
    "type(c)"
   ]
  },
  {
   "cell_type": "code",
   "execution_count": null,
   "metadata": {},
   "outputs": [],
   "source": [
    "d = \"a\"\n",
    "type(d)"
   ]
  },
  {
   "cell_type": "code",
   "execution_count": null,
   "metadata": {},
   "outputs": [],
   "source": [
    "e = True\n",
    "type(e)"
   ]
  },
  {
   "attachments": {},
   "cell_type": "markdown",
   "metadata": {},
   "source": [
    "<div class = \"alert alert-block alert-success\">\n",
    "\n",
    "There are four main data types in Python:\n",
    "    \n",
    "<ul>\n",
    "\n",
    "<li> data type <b> int </b>, where the variable is an integer: $ 0 $, $ \\pm 1 $, $ \\pm 2 $, $ \\pm 3 $,... </li>\n",
    "    \n",
    "<li> data type <b> float </b>, where the variable is any type of decimal (rational or irrational numbers): $1.5$, $ \\pi $, $3.00$, $2.347563786578325678$, ... </li>\n",
    "\n",
    "<li> data type <b> string </b>, where the variable can be a single character - a,b,A,C,z,Z - or any arrangement of more characters - \"it is nice\", \"feggk\", \"wGsX\" </li>\n",
    "\n",
    "<li> data type <b> bool </b>, where the variable is a logical truth value - either <b> True </b> or <b> False </b> </li>\n",
    "    \n",
    "</ul>\n",
    "    \n",
    "</div>"
   ]
  },
  {
   "cell_type": "markdown",
   "metadata": {},
   "source": [
    "<div class = \"alert alert-block alert-warning\">\n",
    "    What type of varibale is $ f = -2 $? Use the acquired information first, then check on your Notebook."
   ]
  },
  {
   "cell_type": "code",
   "execution_count": null,
   "metadata": {},
   "outputs": [],
   "source": [
    "# Type the answer here"
   ]
  },
  {
   "cell_type": "markdown",
   "metadata": {},
   "source": [
    "We have assigned plenty of variables: a,b,c,d,e,f... Cannot we do better?"
   ]
  },
  {
   "cell_type": "code",
   "execution_count": null,
   "metadata": {},
   "outputs": [],
   "source": [
    "a = -2\n",
    "a"
   ]
  },
  {
   "cell_type": "markdown",
   "metadata": {},
   "source": [
    "<div class = \"alert alert-block alert-success\">\n",
    "Before a was 3, and now we assigned it to 2... <b> Variables in Python can be given other values at any time! </b> This is one of the great advantages of programming!! \n",
    "    </div>"
   ]
  },
  {
   "cell_type": "markdown",
   "metadata": {},
   "source": [
    "<div class = \"alert alert-block alert-warning\">\n",
    "<b> Predict: </b> Can you figure out what will be the final value of a in the bottom code cell?\n",
    "    </div>"
   ]
  },
  {
   "cell_type": "code",
   "execution_count": null,
   "metadata": {},
   "outputs": [],
   "source": [
    "# First think about the output of the code, then run the cell\n",
    "a=3\n",
    "a=2 \n",
    "a=-1\n",
    "a=0.4\n",
    "a=0\n",
    "print(a)"
   ]
  },
  {
   "cell_type": "markdown",
   "metadata": {},
   "source": [
    "All the previous values of a - $ (3,2,-1, 0.4) $ are now lost. "
   ]
  },
  {
   "cell_type": "markdown",
   "metadata": {},
   "source": [
    "<div class = \"alert alert-block alert-warning\">\n",
    "<b> Exercise: </b> Can you run again through the same values of a, and print each value, so that each time the variable is printed?"
   ]
  },
  {
   "cell_type": "code",
   "execution_count": null,
   "metadata": {},
   "outputs": [],
   "source": [
    "# Type your answer here"
   ]
  },
  {
   "attachments": {},
   "cell_type": "markdown",
   "metadata": {},
   "source": [
    "<div class = \"alert alert-block alert-warning\">\n",
    "<b> Predict: </b> Take again the cell below and analyse it for a bit: what happens if you remove the str part. Talk about it in pairs or threes, do not remove anything from the cell, just process it through your mind. After you had some debate, delete the str type and the brackets ():\n",
    "    </div>"
   ]
  },
  {
   "cell_type": "code",
   "execution_count": 6,
   "metadata": {},
   "outputs": [
    {
     "name": "stdout",
     "output_type": "stream",
     "text": [
      "Variable a has the following value: 1\n"
     ]
    }
   ],
   "source": [
    "a = 1\n",
    "b = 2\n",
    "\n",
    "print(\"Variable a has the following value: \" + str(a))"
   ]
  },
  {
   "cell_type": "markdown",
   "metadata": {},
   "source": [
    "<div class = \"alert alert-block alert-danger\">\n",
    "When taken together with a string, the variable a needs to be converted to a string as well, otherwise in the print sequence there will be combination of strings and integers, and this does not work for the print statement. Hence, by adding the str() command, a becomes from integer a string. <b> Now go back to the question at the beginning: </b> What happens if I just type the following command? Again, talk about it in pairs before you type the cell:\n",
    "    </div>"
   ]
  },
  {
   "cell_type": "code",
   "execution_count": null,
   "metadata": {},
   "outputs": [],
   "source": [
    "print(Hello!! Welcome to your first programming workshop. I am here to help you)"
   ]
  },
  {
   "cell_type": "markdown",
   "metadata": {},
   "source": [
    "<div class = \"alert alert-block alert-danger\">\n",
    "<b> Answer: </b> The whole sequence is treated as a pile of integers!! This is clearly not the case, as hello is a word in our case, not a number. Of course, the situation looks a lot different in the following scenario: \n",
    "    </div>"
   ]
  },
  {
   "cell_type": "markdown",
   "metadata": {},
   "source": [
    "In this scenario, let us take a variable hello which is an integer of value 2. Afterwards, we will print the sentence hello, as well as another statment about the hello variable. There will be some subtleties which need to be discussed in groups."
   ]
  },
  {
   "cell_type": "code",
   "execution_count": 9,
   "metadata": {},
   "outputs": [
    {
     "name": "stdout",
     "output_type": "stream",
     "text": [
      "hello!!\n",
      "The hello variable takes value: 2\n"
     ]
    }
   ],
   "source": [
    "# print solution here\n",
    "hello = 2\n",
    "print(\"hello!!\")\n",
    "print(\"The hello variable takes value: \" + str(hello))"
   ]
  },
  {
   "cell_type": "markdown",
   "metadata": {},
   "source": [
    "<div class = \"alert alert-block alert-warning\">\n",
    "<b> Investigate: </b> How do hello and \"hello\" differ?\n",
    "    </div>"
   ]
  },
  {
   "cell_type": "markdown",
   "metadata": {},
   "source": [
    "<div class = \"alert alert-block alert-success\">\n",
    "In one case, hello is a string, while in the other case, hello is an integer.\n",
    "    </div>"
   ]
  },
  {
   "cell_type": "markdown",
   "metadata": {},
   "source": [
    "<div class = \"alert alert-block alert-warning\">\n",
    "<b> Investigate again: </b> Compare the following without running them initially:\n",
    "    </div>"
   ]
  },
  {
   "cell_type": "code",
   "execution_count": 11,
   "metadata": {},
   "outputs": [
    {
     "name": "stdout",
     "output_type": "stream",
     "text": [
      "5\n"
     ]
    }
   ],
   "source": [
    "print(2+3)"
   ]
  },
  {
   "cell_type": "code",
   "execution_count": 12,
   "metadata": {},
   "outputs": [
    {
     "name": "stdout",
     "output_type": "stream",
     "text": [
      "2+3\n"
     ]
    }
   ],
   "source": [
    "print(\"2+3\")"
   ]
  },
  {
   "cell_type": "markdown",
   "metadata": {},
   "source": [
    "#### Difference between = and =="
   ]
  },
  {
   "cell_type": "code",
   "execution_count": null,
   "metadata": {},
   "outputs": [],
   "source": [
    "a = 5\n",
    "a = 4\n",
    "print(a)"
   ]
  },
  {
   "cell_type": "code",
   "execution_count": null,
   "metadata": {},
   "outputs": [],
   "source": [
    "print(5 == 4)"
   ]
  },
  {
   "cell_type": "code",
   "execution_count": null,
   "metadata": {},
   "outputs": [],
   "source": [
    "print(5 = 4)"
   ]
  },
  {
   "cell_type": "markdown",
   "metadata": {},
   "source": [
    "<div class = \"alert alert-block alert-success\">\n",
    "    So the main idea is the following: <b> = </b> expression <b> assigns </b> a value to the variable, while <b> == </b>  expresion <b> stands for the equality sign. </b> This is the one you are very familiar with: is 1 equal to 3, 4 equal to 4 and so on...\n",
    "    </div>"
   ]
  },
  {
   "cell_type": "markdown",
   "metadata": {},
   "source": [
    "## Take-away"
   ]
  },
  {
   "cell_type": "markdown",
   "metadata": {},
   "source": [
    "<div class = \"alert alert-block alert-success\">\n",
    "This is it for today, and well done for managing to go through the material!! <br> <br> After this session, you should be more familiar with how simple sentences, numbers and conditional statements can be printed in Python. Also, feel free to work more on this notebook using any commands you would like. <br> <br>\n",
    "<b> <Note:> </b> Always keep a back-up of the notebook, in case the original one is altered. \n",
    "    </div>"
   ]
  },
  {
   "cell_type": "markdown",
   "metadata": {},
   "source": [
    "For today's session, this should be enough! See you later!!"
   ]
  },
  {
   "cell_type": "code",
   "execution_count": null,
   "metadata": {},
   "outputs": [],
   "source": [
    "print(\"Bye bye! :D\")"
   ]
  },
  {
   "cell_type": "markdown",
   "metadata": {},
   "source": [
    "![Noteable license](https://github.com/jstix/mr-noteable/blob/master/Banner%20image/Screenshot%202021-03-05%20115453.png?raw=true)"
   ]
  }
 ],
 "metadata": {
  "kernelspec": {
   "display_name": "Python 3",
   "language": "python",
   "name": "python3"
  },
  "language_info": {
   "codemirror_mode": {
    "name": "ipython",
    "version": 3
   },
   "file_extension": ".py",
   "mimetype": "text/x-python",
   "name": "python",
   "nbconvert_exporter": "python",
   "pygments_lexer": "ipython3",
   "version": "3.7.6"
  }
 },
 "nbformat": 4,
 "nbformat_minor": 4
}
