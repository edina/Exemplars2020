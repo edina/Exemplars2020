{
 "cells": [
  {
   "cell_type": "markdown",
   "metadata": {},
   "source": [
    "### While condition"
   ]
  },
  {
   "cell_type": "markdown",
   "metadata": {},
   "source": [
    "Welcome to another session today!! We will introduce yet another conditional statement: while. All the instructions are suggestive, as even the names tell you how they are used: until a condition is achieved, continue with the instruction. Let us have an example below:"
   ]
  },
  {
   "cell_type": "code",
   "execution_count": 1,
   "metadata": {},
   "outputs": [
    {
     "name": "stdout",
     "output_type": "stream",
     "text": [
      "Hello!\n",
      "Hello!\n",
      "Hello!\n",
      "Hello!\n",
      "Hello!\n",
      "Hello!\n",
      "Hello!\n",
      "Hello!\n",
      "Hello!\n",
      "Hello!\n"
     ]
    }
   ],
   "source": [
    "i = 0\n",
    "while(i < 10):\n",
    "    print(\"Hello!\")\n",
    "    i = i + 1"
   ]
  },
  {
   "cell_type": "markdown",
   "metadata": {},
   "source": [
    "There is also another way to increase i by 1"
   ]
  },
  {
   "cell_type": "code",
   "execution_count": 2,
   "metadata": {},
   "outputs": [
    {
     "name": "stdout",
     "output_type": "stream",
     "text": [
      "Hello!\n",
      "Hello!\n",
      "Hello!\n",
      "Hello!\n",
      "Hello!\n",
      "Hello!\n",
      "Hello!\n",
      "Hello!\n",
      "Hello!\n",
      "Hello!\n"
     ]
    }
   ],
   "source": [
    "i = 0\n",
    "while(i < 10):\n",
    "    print(\"Hello!\")\n",
    "    i += 1"
   ]
  },
  {
   "cell_type": "markdown",
   "metadata": {},
   "source": [
    "Now we can print all the numbers up to 100, for instance, in two different ways:"
   ]
  },
  {
   "cell_type": "code",
   "execution_count": null,
   "metadata": {},
   "outputs": [],
   "source": [
    "i = 0   # While instruction\n",
    "while(i < 100):\n",
    "    print(i)\n",
    "    i += 1"
   ]
  },
  {
   "cell_type": "code",
   "execution_count": null,
   "metadata": {},
   "outputs": [],
   "source": [
    "for i in range(100):   # For instruction\n",
    "    print(i)"
   ]
  },
  {
   "cell_type": "markdown",
   "metadata": {},
   "source": [
    "This is quite similar to the for instruction, right? Plenty of operations can be done with the while instruction...Let us take as example the sum of elements from 1 to 10 one more time: How to do this with while function? So far, we used the loop, from 1 to 10 and added each element...This time, with a while function, we need a variable which increases by 1 until it reaches 10: we would still have all the numbers from 1 to 10, which can then be added"
   ]
  },
  {
   "cell_type": "code",
   "execution_count": 5,
   "metadata": {},
   "outputs": [
    {
     "ename": "KeyboardInterrupt",
     "evalue": "",
     "output_type": "error",
     "traceback": [
      "\u001b[0;31m---------------------------------------------------------------------------\u001b[0m",
      "\u001b[0;31mKeyboardInterrupt\u001b[0m                         Traceback (most recent call last)",
      "\u001b[0;32m<ipython-input-5-eefe9466bfff>\u001b[0m in \u001b[0;36m<module>\u001b[0;34m\u001b[0m\n\u001b[1;32m      2\u001b[0m \u001b[0;34m\u001b[0m\u001b[0m\n\u001b[1;32m      3\u001b[0m \u001b[0mi\u001b[0m \u001b[0;34m=\u001b[0m \u001b[0;36m0\u001b[0m\u001b[0;34m\u001b[0m\u001b[0;34m\u001b[0m\u001b[0m\n\u001b[0;32m----> 4\u001b[0;31m \u001b[0;32mwhile\u001b[0m\u001b[0;34m(\u001b[0m\u001b[0mi\u001b[0m\u001b[0;34m<\u001b[0m\u001b[0;36m10\u001b[0m\u001b[0;34m)\u001b[0m\u001b[0;34m:\u001b[0m\u001b[0;34m\u001b[0m\u001b[0;34m\u001b[0m\u001b[0m\n\u001b[0m\u001b[1;32m      5\u001b[0m     \u001b[0mmy_sum\u001b[0m \u001b[0;34m+=\u001b[0m \u001b[0mi\u001b[0m\u001b[0;34m\u001b[0m\u001b[0;34m\u001b[0m\u001b[0m\n\u001b[1;32m      6\u001b[0m \u001b[0;34m\u001b[0m\u001b[0m\n",
      "\u001b[0;31mKeyboardInterrupt\u001b[0m: "
     ]
    }
   ],
   "source": [
    "my_sum = 0\n",
    "\n",
    "i = 0\n",
    "while(i<10):\n",
    "    my_sum += i\n",
    "    \n",
    "my_sum"
   ]
  },
  {
   "cell_type": "markdown",
   "metadata": {},
   "source": [
    "<b> Question: </b> What have I done wrong in my function above? (I have actually made this mistake by chance when designing the notebook) Working out functions just fine from the start is good, but getting used to error output and ways to fix them is even better. Do you see that I have not set the condition of increasing i by 1? By i being set always to 0, we will never get out the while function. Just add 1 to the i every time:"
   ]
  },
  {
   "cell_type": "markdown",
   "metadata": {},
   "source": [
    "However, to make sure we completely understand what is happening, let us work with <b> debugging. </b> You may have heard of it or not, but debugging is all about complying the computer to perform the algorithm step by step at the pace you want, to see exactly the error. Let us try to debug this:"
   ]
  },
  {
   "cell_type": "code",
   "execution_count": null,
   "metadata": {},
   "outputs": [],
   "source": [
    "import pdb # Library which has to be imported for debugging\n",
    "\n",
    "my_sum = 0\n",
    "\n",
    "i = 0\n",
    "while(i<10):\n",
    "    breakpoint()\n",
    "    my_sum += i\n",
    "    \n",
    "my_sum"
   ]
  },
  {
   "cell_type": "markdown",
   "metadata": {},
   "source": [
    "You see how we need, first of all, a library for debugging. Afterwards, we add the command line breakpoint. Then, we go straight into the debugging command tool, where we play with variables and see how they change. Some of the following commands are of particular usefulness:\n",
    "\n",
    "n is for going to te next command line\n",
    "\n",
    "p is for printing out the value(example: p b)\n",
    "\n",
    "w is for finding out your location\n",
    "\n",
    "q is for quitting the debugger"
   ]
  },
  {
   "cell_type": "markdown",
   "metadata": {},
   "source": [
    "<b> Note: </b> For clearing the error output, press cell, then current output, then clear."
   ]
  },
  {
   "cell_type": "code",
   "execution_count": 7,
   "metadata": {},
   "outputs": [
    {
     "data": {
      "text/plain": [
       "45"
      ]
     },
     "execution_count": 7,
     "metadata": {},
     "output_type": "execute_result"
    }
   ],
   "source": [
    "my_sum = 0\n",
    "\n",
    "i = 0\n",
    "while(i<10):\n",
    "    my_sum += i\n",
    "    i += 1\n",
    "    \n",
    "my_sum"
   ]
  },
  {
   "cell_type": "markdown",
   "metadata": {},
   "source": [
    "Hence, be careful with the while function, as you may be easily deceived by it. Let us see this in a bit more detail:\n",
    "    \n",
    "<b> Note: </b> In case the cell just keeps going and going, and you want it to end, do the following: Click the cell, go on Kernel and press Interrupt. In case you remain with a huge bunch of output and scrolling up and down constantly becomes a pain, go on cell, then current output, then clear."
   ]
  },
  {
   "cell_type": "code",
   "execution_count": null,
   "metadata": {
    "scrolled": false
   },
   "outputs": [],
   "source": [
    "while(1 < 2):\n",
    "    print(\"Will this ever end?\")"
   ]
  },
  {
   "cell_type": "markdown",
   "metadata": {},
   "source": [
    "$ 1<2 $ is always true, so the instruction will never stop printing. In case you get an endless output from a while function, you definitely need to check the condition you put in there"
   ]
  },
  {
   "cell_type": "markdown",
   "metadata": {},
   "source": [
    "Let us introduce one more concept, which we will look at in more detail in a next chapter:"
   ]
  },
  {
   "cell_type": "markdown",
   "metadata": {},
   "source": [
    "### Arrays"
   ]
  },
  {
   "cell_type": "markdown",
   "metadata": {},
   "source": [
    "The arrays are defines as one of the most basic structures in computing. Let us see what it actually means:"
   ]
  },
  {
   "cell_type": "code",
   "execution_count": 9,
   "metadata": {},
   "outputs": [],
   "source": [
    "my_first_array = [0,1,2,3,4,5]"
   ]
  },
  {
   "cell_type": "markdown",
   "metadata": {},
   "source": [
    "This looks like an arrangement of numbers, doesn't it? This is an array composed of more elements. Let us access its elements:"
   ]
  },
  {
   "cell_type": "code",
   "execution_count": 10,
   "metadata": {},
   "outputs": [
    {
     "data": {
      "text/plain": [
       "1"
      ]
     },
     "execution_count": 10,
     "metadata": {},
     "output_type": "execute_result"
    }
   ],
   "source": [
    "my_first_array[1]"
   ]
  },
  {
   "cell_type": "markdown",
   "metadata": {},
   "source": [
    "Now let's access the second element:"
   ]
  },
  {
   "cell_type": "code",
   "execution_count": 11,
   "metadata": {},
   "outputs": [
    {
     "data": {
      "text/plain": [
       "2"
      ]
     },
     "execution_count": 11,
     "metadata": {},
     "output_type": "execute_result"
    }
   ],
   "source": [
    "my_first_array[2]"
   ]
  },
  {
   "cell_type": "markdown",
   "metadata": {},
   "source": [
    "Wait... the first element of the array should be zero.. what is wrong here? This is a significant issue in computing, many complain with it... The first element of an array is always indexed with 0 (Its position is 0):"
   ]
  },
  {
   "cell_type": "code",
   "execution_count": 12,
   "metadata": {},
   "outputs": [
    {
     "data": {
      "text/plain": [
       "0"
      ]
     },
     "execution_count": 12,
     "metadata": {},
     "output_type": "execute_result"
    }
   ],
   "source": [
    "my_first_array[0]"
   ]
  },
  {
   "cell_type": "markdown",
   "metadata": {},
   "source": [
    "Just as arrays can be created for integers, they can be created for characters as well. They are called <b> strings. </b> Do you remember the characters? Let us remember them:"
   ]
  },
  {
   "cell_type": "code",
   "execution_count": 13,
   "metadata": {},
   "outputs": [],
   "source": [
    "my_char_today = \"a\""
   ]
  },
  {
   "cell_type": "code",
   "execution_count": 14,
   "metadata": {},
   "outputs": [
    {
     "data": {
      "text/plain": [
       "str"
      ]
     },
     "execution_count": 14,
     "metadata": {},
     "output_type": "execute_result"
    }
   ],
   "source": [
    "type(my_char_today)"
   ]
  },
  {
   "cell_type": "markdown",
   "metadata": {},
   "source": [
    "Let's assign a new value:"
   ]
  },
  {
   "cell_type": "code",
   "execution_count": 15,
   "metadata": {},
   "outputs": [],
   "source": [
    "my_char_today = \"I have a good day!\""
   ]
  },
  {
   "cell_type": "code",
   "execution_count": 16,
   "metadata": {},
   "outputs": [
    {
     "name": "stdout",
     "output_type": "stream",
     "text": [
      "I\n"
     ]
    }
   ],
   "source": [
    "print(my_char_today[0])"
   ]
  },
  {
   "cell_type": "markdown",
   "metadata": {},
   "source": [
    "What about printing the last element of an array? Or a string? Well, there are definitely more ways to do it... There is the function for determining the length of an array:"
   ]
  },
  {
   "cell_type": "code",
   "execution_count": 17,
   "metadata": {},
   "outputs": [
    {
     "data": {
      "text/plain": [
       "6"
      ]
     },
     "execution_count": 17,
     "metadata": {},
     "output_type": "execute_result"
    }
   ],
   "source": [
    "len(my_first_array)"
   ]
  },
  {
   "cell_type": "markdown",
   "metadata": {},
   "source": [
    "<b> Exercise: </b> What will be the index of last element?"
   ]
  },
  {
   "cell_type": "code",
   "execution_count": 18,
   "metadata": {},
   "outputs": [
    {
     "data": {
      "text/plain": [
       "5"
      ]
     },
     "execution_count": 18,
     "metadata": {},
     "output_type": "execute_result"
    }
   ],
   "source": [
    "my_first_array[len(my_first_array) - 1]"
   ]
  },
  {
   "cell_type": "code",
   "execution_count": 19,
   "metadata": {},
   "outputs": [
    {
     "data": {
      "text/plain": [
       "'!'"
      ]
     },
     "execution_count": 19,
     "metadata": {},
     "output_type": "execute_result"
    }
   ],
   "source": [
    "my_char_today[len(my_char_today) - 1]"
   ]
  },
  {
   "cell_type": "markdown",
   "metadata": {},
   "source": [
    "However, there is a different way of accessing the last element of an array:"
   ]
  },
  {
   "cell_type": "code",
   "execution_count": 20,
   "metadata": {},
   "outputs": [
    {
     "data": {
      "text/plain": [
       "5"
      ]
     },
     "execution_count": 20,
     "metadata": {},
     "output_type": "execute_result"
    }
   ],
   "source": [
    "my_first_array[-1]"
   ]
  },
  {
   "cell_type": "markdown",
   "metadata": {},
   "source": [
    "Negative indexing means that arrays are counted from the end to the beginning. You can also put the following sign to get a different output:"
   ]
  },
  {
   "cell_type": "code",
   "execution_count": 21,
   "metadata": {},
   "outputs": [
    {
     "data": {
      "text/plain": [
       "[0, 1, 2, 3, 4]"
      ]
     },
     "execution_count": 21,
     "metadata": {},
     "output_type": "execute_result"
    }
   ],
   "source": [
    "my_first_array[:-1]"
   ]
  },
  {
   "cell_type": "markdown",
   "metadata": {},
   "source": [
    "Of course, we can also print elements in array by going through the array in a loop:"
   ]
  },
  {
   "cell_type": "code",
   "execution_count": 22,
   "metadata": {},
   "outputs": [
    {
     "name": "stdout",
     "output_type": "stream",
     "text": [
      "0 2 4 "
     ]
    }
   ],
   "source": [
    "for i in range(len(my_first_array)):\n",
    "    if(my_first_array[i] % 2 == 0):\n",
    "        print(my_first_array[i], end=' ')"
   ]
  },
  {
   "cell_type": "markdown",
   "metadata": {},
   "source": [
    "This is a classical example of combining for and if statements in a program: they are often together in an array. There are plenty, countless exercises which can be done with them:\n",
    "\n",
    "Let us print, for instance, the sum of odd elements:"
   ]
  },
  {
   "cell_type": "code",
   "execution_count": 23,
   "metadata": {},
   "outputs": [
    {
     "name": "stdout",
     "output_type": "stream",
     "text": [
      "9\n"
     ]
    }
   ],
   "source": [
    "sum = 0\n",
    "\n",
    "for i in range(len(my_first_array)):\n",
    "    if(my_first_array[i] % 2 == 1):\n",
    "        sum += my_first_array[i]\n",
    "        \n",
    "print(sum)"
   ]
  },
  {
   "cell_type": "markdown",
   "metadata": {},
   "source": [
    "Of course, even more exercises can be made with the arrays: let us print the maximum and minimum of an element. Try with the maximum of an element first. The strategy is the following: choose a random maximum with a very small value (say -1, if there are only positive elements). Hence, when a greater number is encountered, the variable for the maximum takes a new value."
   ]
  },
  {
   "cell_type": "code",
   "execution_count": 24,
   "metadata": {},
   "outputs": [
    {
     "data": {
      "text/plain": [
       "5"
      ]
     },
     "execution_count": 24,
     "metadata": {},
     "output_type": "execute_result"
    }
   ],
   "source": [
    "maxx = -1\n",
    "\n",
    "for i in range(len(my_first_array)):\n",
    "    if(my_first_array[i] > maxx):\n",
    "        maxx = my_first_array[i]\n",
    "        \n",
    "maxx"
   ]
  },
  {
   "cell_type": "markdown",
   "metadata": {},
   "source": [
    "Similarly, it can be done for minimum, with a small difference. Choose a number as high as possible, so that in case you encounter a smaller value, the minn value changes."
   ]
  },
  {
   "cell_type": "code",
   "execution_count": null,
   "metadata": {},
   "outputs": [],
   "source": [
    "# Work out in the same way as above the value for minimum in an array\n"
   ]
  },
  {
   "cell_type": "markdown",
   "metadata": {},
   "source": [
    "How to append, now, elements? Well, use the in-built function append for adding elements into the array:"
   ]
  },
  {
   "cell_type": "code",
   "execution_count": 25,
   "metadata": {},
   "outputs": [
    {
     "data": {
      "text/plain": [
       "[0, 1, 2, 3, 4, 5, 6, 7, 8, 9, 10]"
      ]
     },
     "execution_count": 25,
     "metadata": {},
     "output_type": "execute_result"
    }
   ],
   "source": [
    "my_first_array.append(6)\n",
    "my_first_array.append(7)\n",
    "my_first_array.append(8)\n",
    "my_first_array.append(9)\n",
    "my_first_array.append(10)\n",
    "\n",
    "my_first_array"
   ]
  },
  {
   "cell_type": "markdown",
   "metadata": {},
   "source": [
    "<b> Question: </b> What happens if you press play on the same cell for more times? We will come to this later, in the next array chapter"
   ]
  },
  {
   "cell_type": "markdown",
   "metadata": {},
   "source": [
    "OK, that is enough for new definitions and info...We use all the above tricks for creating the game below. It is not required for you to know by heart how to do the exercises below...You just got started with all these notions, and you need practice to get more used to it. Hopefully, however, by the end of the year, you will get more acquainted with the little game below."
   ]
  },
  {
   "cell_type": "code",
   "execution_count": null,
   "metadata": {},
   "outputs": [],
   "source": [
    "ok = 1\n",
    "A = input(\"Introduce your initial word here: \")\n",
    "B = []\n",
    "while(ok == 1):\n",
    "    \n",
    "    B = A\n",
    "    A = input(\"Introduce the word here: \")\n",
    "    if(A[0] != B[len(B) - 1]):\n",
    "        ok = 0\n",
    "        \n",
    "print(\"Game over! Try again!\")"
   ]
  },
  {
   "cell_type": "markdown",
   "metadata": {},
   "source": [
    "Let us make it a bit harder, shall we? Your next word should have its first <b> two </b> characters the same as the last one. Are you up to it?"
   ]
  },
  {
   "cell_type": "code",
   "execution_count": null,
   "metadata": {},
   "outputs": [],
   "source": [
    "ok = 1\n",
    "A = input(\"Introduce your initial word here: \")\n",
    "B = []\n",
    "while(ok == 1):\n",
    "    \n",
    "    B = A\n",
    "    A = input(\"Introduce the word here: \")\n",
    "    if( (A[0] != B[len(B) - 2]) or (A[1] != B[len(B) - 1]) ):\n",
    "        ok = 0\n",
    "        \n",
    "print(\"Game over! Try again!\")"
   ]
  },
  {
   "cell_type": "markdown",
   "metadata": {},
   "source": [
    "You can also work out how many words you got right(or how many points you have taken):"
   ]
  },
  {
   "cell_type": "code",
   "execution_count": 27,
   "metadata": {},
   "outputs": [
    {
     "name": "stdout",
     "output_type": "stream",
     "text": [
      "Introduce your initial word here: baby\n",
      "Introduce the word here: byaaa\n",
      "Introduce the word here: arr\n",
      "You have scored: 2 points\n",
      "Game over! Try again!\n"
     ]
    }
   ],
   "source": [
    "ok = 1\n",
    "points = 0\n",
    "A = input(\"Introduce your initial word here: \")\n",
    "B = []\n",
    "while(ok == 1):\n",
    "    \n",
    "    B = A\n",
    "    A = input(\"Introduce the word here: \")\n",
    "    points += 1\n",
    "    if( (A[0] != B[len(B) - 2]) or (A[1] != B[len(B) - 1]) ):\n",
    "        ok = 0\n",
    "        \n",
    "print(\"You have scored: \" + str(points) + \" points\")        \n",
    "print(\"Game over! Try again!\")"
   ]
  },
  {
   "cell_type": "markdown",
   "metadata": {},
   "source": [
    "However, in this game, you need to write words and then find words whose first two characters begin with the last two characters of the previous word. Example: red, edward is a good choice, but red, envelope is a bed choice because the second word begins with en. Moreover, you begin with your own choice, so surely you can think about some words. It is your own vocabulary after all, so let us add some changes:"
   ]
  },
  {
   "cell_type": "code",
   "execution_count": 28,
   "metadata": {},
   "outputs": [
    {
     "name": "stdout",
     "output_type": "stream",
     "text": [
      "Introduce your initial word here: array\n",
      "Introduce the word here: ayaaaw\n",
      "Introduce the word here: awesome\n",
      "Introduce the word here: mold\n",
      "You have scored: 3 points\n",
      "You can do better!\n",
      "Game over! Try again!\n"
     ]
    }
   ],
   "source": [
    "ok = 1\n",
    "points = 0\n",
    "A = input(\"Introduce your initial word here: \")\n",
    "B = []\n",
    "while(ok == 1):\n",
    "    \n",
    "    B = A\n",
    "    A = input(\"Introduce the word here: \")\n",
    "    points += 1\n",
    "    if( (A[0] != B[len(B) - 2]) or (A[1] != B[len(B) - 1]) ):\n",
    "        ok = 0\n",
    "\n",
    "print(\"You have scored: \" + str(points) + \" points\") \n",
    "if(points < 5):\n",
    "    print(\"You can do better!\")\n",
    "elif(5 < points and points < 10):\n",
    "    print(\"Good start!\")\n",
    "else:\n",
    "    print(\"Impressive!\")\n",
    "\n",
    "print(\"Game over! Try again!\")"
   ]
  },
  {
   "cell_type": "markdown",
   "metadata": {},
   "source": [
    "While a nice way to improve your vocabulary, this game is also good practice for your coding skills. We will return to this game in the following sessions. Moreover, once we work more with strings, you will have a better idea on how everything is designed."
   ]
  }
 ],
 "metadata": {
  "kernelspec": {
   "display_name": "Python 3",
   "language": "python",
   "name": "python3"
  },
  "language_info": {
   "codemirror_mode": {
    "name": "ipython",
    "version": 3
   },
   "file_extension": ".py",
   "mimetype": "text/x-python",
   "name": "python",
   "nbconvert_exporter": "python",
   "pygments_lexer": "ipython3",
   "version": "3.7.6"
  }
 },
 "nbformat": 4,
 "nbformat_minor": 4
}
