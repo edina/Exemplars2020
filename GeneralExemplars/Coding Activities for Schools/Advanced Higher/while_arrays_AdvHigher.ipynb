{
 "cells": [
  {
   "cell_type": "markdown",
   "metadata": {},
   "source": [
    "![Noteable.ac.uk Banner](https://github.com/jstix/mr-noteable/blob/master/Banner%20image/1500x500.jfif?raw=true)"
   ]
  },
  {
   "cell_type": "markdown",
   "metadata": {},
   "source": [
    "# While statements and arrays"
   ]
  },
  {
   "cell_type": "markdown",
   "metadata": {},
   "source": [
    "## Legend"
   ]
  },
  {
   "cell_type": "markdown",
   "metadata": {},
   "source": [
    "<div class = \"alert alert-block alert-info\">\n",
    "    In <b> blue</b>, the <b> instructions </b> and <b> goals </b> are highlighted.\n",
    "</div>"
   ]
  },
  {
   "cell_type": "markdown",
   "metadata": {},
   "source": [
    "<div class = \"alert alert-block alert-success\">\n",
    "    In <b> green</b>, the <b> information </b> is highlighted.\n",
    "</div>"
   ]
  },
  {
   "cell_type": "markdown",
   "metadata": {},
   "source": [
    "<div class = \"alert alert-block alert-warning\">\n",
    "    In <b> yellow</b>, the <b> exercises </b> are highlighted.\n",
    "</div>"
   ]
  },
  {
   "cell_type": "markdown",
   "metadata": {},
   "source": [
    "<div class = \"alert alert-block alert-danger\">\n",
    "    In <b> red</b>, the <b> error </b> and <b> alert messages </b> are highlighted.\n",
    "</div>"
   ]
  },
  {
   "cell_type": "markdown",
   "metadata": {},
   "source": [
    "## Instructions"
   ]
  },
  {
   "cell_type": "markdown",
   "metadata": {},
   "source": [
    "<div class = \"alert alert-block alert-info\">\n",
    "    In <b> red</b>, the <b> error </b> and <b> alert messages </b> are highlighted.\n",
    "Click \"Run\" on each cell to go through the code in each cell. <br> <br> This will take you through the cell and print out the results. \n",
    "If you wish to see all the outputs at once in the whole notebook, just click Cell and then Run All. In case the cell keeps running and does not stop, go to the respective cell, press <b> Kernel</b>, then <b> Interrupt</b>.\n",
    "    </div>"
   ]
  },
  {
   "cell_type": "markdown",
   "metadata": {},
   "source": [
    "## Goals"
   ]
  },
  {
   "cell_type": "markdown",
   "metadata": {},
   "source": [
    "<div class = \"alert alert-block alert-info\">\n",
    "After this workshop, the student should get more familiar with the following topics: <br> \n",
    "<ul>\n",
    "    <li> printing basic statements and commands in Jupyter Notebook</li>\n",
    "    <li> performing basic arithmetic calculations in Python</li>\n",
    "    <li> improving an existent model of the code</li>\n",
    "    <li> recognizing and checking variable types in Python </li>\n",
    "    <li> using the <b> if </b> and <b> for </b> statements for basic operations\n",
    "    <li> working with <b> characters </b> and <b> strings </b>\n",
    "</ul>\n",
    "    \n",
    "<b> These objectives are in agreement with the Advanced Higher Scottish Curriculum for high-school students. </b> <br> <br> <b> Note: </b> For most of the workshop, the student will be given some coding examples. In some cases, the student will have to code himself/herself. The coding part is optional, but highly recommended to approach. <br> <br> <b> Note: </b> The game at the end of the notebook is completely optional material. You can either only play it, or analyze how it is designed (and even come up with suggestions). However, the coding there is a bit more advanced... after a couple of weeks, you will be equipped with more tools for designing small games.\n",
    "  \n",
    "</div>"
   ]
  },
  {
   "cell_type": "markdown",
   "metadata": {},
   "source": [
    "## Explore"
   ]
  },
  {
   "cell_type": "markdown",
   "metadata": {},
   "source": [
    "### Conditional while statement..."
   ]
  },
  {
   "cell_type": "markdown",
   "metadata": {},
   "source": [
    "<div class = \"alert alert-block alert-success\">\n",
    "Suppose that, in the case where we do not know how many times we would like to print the statement. All we would like is the following: <b> while </b> a condition is not reached yet, we keep <b> executing </b> the instruction. This is the main role of the <b> while </b> instruction.\n",
    "    </div>"
   ]
  },
  {
   "cell_type": "markdown",
   "metadata": {},
   "source": [
    "<div class = \"alert alert-block alert-warning\">\n",
    "<b> Exercise: </b> Investigate the following code below. <b> Predict </b> the ouptut, then <b> Run </b> the cell.\n",
    "    </div>"
   ]
  },
  {
   "cell_type": "code",
   "execution_count": null,
   "metadata": {},
   "outputs": [],
   "source": [
    "i = 0\n",
    "while(i < 10):\n",
    "    print(\"Welcome to this programming session!\")\n",
    "    i += 1"
   ]
  },
  {
   "cell_type": "markdown",
   "metadata": {},
   "source": [
    "<div class = \"alert alert-block alert-success\">\n",
    "    The <b> while </b> instruction plays indeed a similar role to the <b> for </b> statement. <b> However</b>, there are differences. This time, we do not instruct the computer <b> how many </b> steps we want to perform. The boundary for the above program is set by the condition: $ i == 10 $\n",
    "    </div>"
   ]
  },
  {
   "cell_type": "markdown",
   "metadata": {},
   "source": [
    "<div class = \"alert alert-block alert-warning\">\n",
    "<b> Investigate: </b> What happens in the following case?\n",
    "    </div>"
   ]
  },
  {
   "cell_type": "code",
   "execution_count": null,
   "metadata": {},
   "outputs": [],
   "source": [
    "i = 0\n",
    "while(i < 10):\n",
    "    print(\"Welcome to this programming session!\")"
   ]
  },
  {
   "cell_type": "markdown",
   "metadata": {},
   "source": [
    "<div class = \"alert alert-block alert-danger\">\n",
    "We have skipped the crucial statement: $ i += 1 $. Hence, $ i == 0 $, and the statement $ 0 < 10 $ holds <b> forever</b>. It is of <b> utmost importance </b> to establish from the beginning condition to advance in the while statement, in order to avoid getting stuck. <b> Note: </b> This is done automatically when in a loop.\n",
    "    </div>"
   ]
  },
  {
   "cell_type": "markdown",
   "metadata": {},
   "source": [
    "<div class = \"alert alert-block alert-warning\">\n",
    "    <b> Exercise: </b> let us <b> analyze </b> this phenomenon in greater detail, by <b> debugging </b> the code.\n",
    "    </div> "
   ]
  },
  {
   "cell_type": "markdown",
   "metadata": {},
   "source": [
    "<div class = \"alert alert-block alert-success\">\n",
    "    <b> Exercise: </b> <b> Debugging </b> involves an <b> in-depth </b> analyss of the code. At each step, you will tell the computer what step to perform and what to print out. This is the most <b> accurate </b> way to check how the computer performs the algorithm. Let us see together how <b> debugging </b> is done in Jupyter Notebooks. Firstly, there is a specific library which needs to be imported\n",
    "    </div>"
   ]
  },
  {
   "cell_type": "code",
   "execution_count": 11,
   "metadata": {},
   "outputs": [],
   "source": [
    "import pdb"
   ]
  },
  {
   "cell_type": "markdown",
   "metadata": {},
   "source": [
    "<div class = \"alert alert-block alert-success\">\n",
    "    Afterwards, a command line <b> breakpoint </b> is added. That is where you will have to play with all the variables. You will need in particular the following commands:\n",
    "    \n",
    "   <ul>\n",
    "       <li> <b> n </b> is for going to te next command line</li>\n",
    "       <li> <b> p </b> is for printing out the value(example: p b)</li>\n",
    "       <li> <b> w </b> is for finding out your location</li>\n",
    "       <li> <b> q </b> is for quitting the debugger</li>\n",
    "    </ul>\n",
    "    </div>"
   ]
  },
  {
   "cell_type": "code",
   "execution_count": null,
   "metadata": {},
   "outputs": [],
   "source": [
    "my_sum = 0\n",
    "\n",
    "i = 0\n",
    "while(i<10):\n",
    "    breakpoint()\n",
    "    my_sum += i\n",
    "    \n",
    "my_sum"
   ]
  },
  {
   "cell_type": "markdown",
   "metadata": {},
   "source": [
    "<div class = \"alert alert-block alert-danger\">\n",
    "    You should figure out that our conditional variable $ i $ does <b> not </b> change. This is why we never get out from the loop.\n",
    "    </div>"
   ]
  },
  {
   "cell_type": "markdown",
   "metadata": {},
   "source": [
    "<div class = \"alert alert-block alert-warning\">\n",
    "    <b> Exercise: </b> <b> Add </b> the condition of instruction exit (<b> Hint: </b> you only need one line of code)\n",
    "    </div>"
   ]
  },
  {
   "cell_type": "code",
   "execution_count": 10,
   "metadata": {},
   "outputs": [
    {
     "name": "stdout",
     "output_type": "stream",
     "text": [
      "The sum of the first 10 elements is: 45\n"
     ]
    }
   ],
   "source": [
    "# Write your own code here\n",
    "i = 0\n",
    "sum = 0\n",
    "while(i < 10):\n",
    "    sum += i\n",
    "print(\"The sum of the first \" + \"10 \" + \"elements is: \" + str(sum))"
   ]
  },
  {
   "cell_type": "markdown",
   "metadata": {},
   "source": [
    "<div class = \"alert alert-block alert-warning\">\n",
    "    <b> Exercise: </b> <b> Compare </b> this method of calculating sum of first $ N $ consecutive elements with the for-method. Afterwards, use <b> while </b> instruction to calculate the product of the first 10 elements\n",
    "    </div>"
   ]
  },
  {
   "cell_type": "code",
   "execution_count": null,
   "metadata": {},
   "outputs": [],
   "source": [
    "# Write your own code here"
   ]
  },
  {
   "cell_type": "markdown",
   "metadata": {},
   "source": [
    "### ...And Arrays"
   ]
  },
  {
   "cell_type": "markdown",
   "metadata": {},
   "source": [
    "<div class = \"alert alert-block alert-warning\">\n",
    "    <b> Exercise: </b> <b> Investigate </b> the code below, which tells you how to find the greatest value of an element in an array. \n",
    "    </div>"
   ]
  },
  {
   "cell_type": "markdown",
   "metadata": {},
   "source": [
    "<div class = \"alert alert-block alert-success\">\n",
    "<b> Approach: </b> \n",
    "    <ul>\n",
    "        <li> <b> Initiate </b> a dummy element with very small value (in our problem, it will be a <b> negative </b> number </li>\n",
    "        <li> <b> Go </b> through the array. For <b> each </b> element greater than our test variable, the dummy number takes the value of the element in question\n",
    "        <li> <b> Print </b> the test element </li> \n",
    "    </ul>\n",
    "    </div>"
   ]
  },
  {
   "cell_type": "code",
   "execution_count": 14,
   "metadata": {},
   "outputs": [
    {
     "name": "stdout",
     "output_type": "stream",
     "text": [
      "The maximum element of the test array is: 234\n"
     ]
    }
   ],
   "source": [
    "my_trial_array = [23,1,54,23,65,75,234,0] # This is my test array created (Notice how the elements can repeat themselves)\n",
    "\n",
    "maxx = -1 # Test variable\n",
    "\n",
    "for i in range(len(my_trial_array)):\n",
    "    if(maxx < my_trial_array[i]):\n",
    "        maxx = my_trial_array[i]\n",
    "        \n",
    "print(\"The maximum element of the test array is: \" + str(maxx))"
   ]
  },
  {
   "cell_type": "markdown",
   "metadata": {},
   "source": [
    "<div class = \"alert alert-block alert-warning\">\n",
    "    <b> Exercise: </b> <b> Debug </b> the code, to make sure you understand what happens.\n",
    "    </div>"
   ]
  },
  {
   "cell_type": "code",
   "execution_count": null,
   "metadata": {},
   "outputs": [],
   "source": [
    "import pdb\n",
    "my_trial_array = [23,1,54,23,65,75,234,0] # This is my test array created (Notice how the elements can repeat themselves)\n",
    "\n",
    "maxx = -1 # Test variable\n",
    "\n",
    "for i in range(len(my_trial_array)):\n",
    "    breakpoint()\n",
    "    if(maxx < my_trial_array[i]):\n",
    "        maxx = my_trial_array[i]\n",
    "        \n",
    "print(\"The maximum element of the test array is: \" + str(maxx))"
   ]
  },
  {
   "cell_type": "markdown",
   "metadata": {},
   "source": [
    "<div class = \"alert alert-block alert-success\">\n",
    "Just as arrays can be created for integers, they can be created for characters as well. They are called <b> strings. </b> Similarly, all the characters (data type) are stored in such a string. The elements are, once again, easily accessible. \n",
    "    </div>"
   ]
  },
  {
   "cell_type": "markdown",
   "metadata": {},
   "source": [
    "<div class = \"alert alert-block alert-warning\">\n",
    "<b> Investigate: </b> How is a string declared? Can you see the similarity to an array declaration?\n",
    "    </div>"
   ]
  },
  {
   "cell_type": "code",
   "execution_count": 2,
   "metadata": {},
   "outputs": [],
   "source": [
    "my_first_string = \"I have a good day!\""
   ]
  },
  {
   "cell_type": "markdown",
   "metadata": {},
   "source": [
    "<div class = \"alert alert-block alert-warning\">\n",
    "<b> Exercise: </b> Do you remember how to access the elements of an array? The procedure is the same for accessing characters of a string. Access the fifth element: "
   ]
  },
  {
   "cell_type": "code",
   "execution_count": 3,
   "metadata": {},
   "outputs": [],
   "source": [
    "# Write your own code here"
   ]
  },
  {
   "cell_type": "markdown",
   "metadata": {},
   "source": [
    "<div class = \"alert alert-block alert-warning\">\n",
    "    <b> Exercise: </b> <b> Investigate </b> the ways in which you can access the last element of a string:\n",
    "    </div>"
   ]
  },
  {
   "cell_type": "code",
   "execution_count": 7,
   "metadata": {},
   "outputs": [
    {
     "name": "stdout",
     "output_type": "stream",
     "text": [
      "The last element of a string is: !\n",
      "The last element of a string is: !\n"
     ]
    }
   ],
   "source": [
    "# First method\n",
    "length_str = len(my_first_string)\n",
    "print(\"The last element of a string is: \" + my_first_string[length_str - 1])\n",
    "\n",
    "# Second method\n",
    "print(\"The last element of a string is: \" + my_first_string[-1])"
   ]
  },
  {
   "cell_type": "markdown",
   "metadata": {},
   "source": [
    "<div class = \"alert alert-block alert-warning\">\n",
    "    <b> Exercise: </b> <b> Access </b> the second last element of a string:\n",
    "    </div>"
   ]
  },
  {
   "cell_type": "code",
   "execution_count": null,
   "metadata": {},
   "outputs": [],
   "source": [
    "# Write your own code here"
   ]
  },
  {
   "cell_type": "markdown",
   "metadata": {},
   "source": [
    "<div class = \"alert alert-block alert-warning\">\n",
    "    <b> Exercise: </b> <b> Inspect </b> the following line:\n",
    "    </div>"
   ]
  },
  {
   "cell_type": "code",
   "execution_count": 13,
   "metadata": {},
   "outputs": [
    {
     "name": "stdout",
     "output_type": "stream",
     "text": [
      "All the elements apart from the last character of the string are: I have a good day\n"
     ]
    }
   ],
   "source": [
    "print(\"All the elements apart from the last character of the string are: \" + str(my_first_string[:-1]))"
   ]
  },
  {
   "cell_type": "markdown",
   "metadata": {},
   "source": [
    "<div class = \"alert alert-block alert-success\">\n",
    "    In this case, only the <b> last </b> element of the string is not printed out. \n",
    "    </div>"
   ]
  },
  {
   "cell_type": "markdown",
   "metadata": {},
   "source": [
    "<div class = \"alert alert-block alert-warning\">\n",
    "    <b> Investigate </b> the following code lines below and <b> comment </b> with your peers what happens in each case:\n",
    "    </div>"
   ]
  },
  {
   "cell_type": "code",
   "execution_count": 5,
   "metadata": {},
   "outputs": [
    {
     "name": "stdout",
     "output_type": "stream",
     "text": [
      "I* *h*a*v*e* *a* *g*o*o*d* *d*a*y*!*"
     ]
    }
   ],
   "source": [
    "for i in range(len(my_first_string)):\n",
    "    print(my_first_string[i], end = '*')"
   ]
  },
  {
   "cell_type": "code",
   "execution_count": 7,
   "metadata": {},
   "outputs": [
    {
     "name": "stdout",
     "output_type": "stream",
     "text": [
      "Ihv  oddy"
     ]
    }
   ],
   "source": [
    "for i in range(len(my_first_string)):\n",
    "    if(i % 2 == 0):\n",
    "        print(my_first_string[i], end = '')"
   ]
  },
  {
   "cell_type": "markdown",
   "metadata": {},
   "source": [
    "<div class = \"alert alert-block alert-success\">\n",
    "    The <b> spacebar </b> is also counted as a character in the <b> string</b>. "
   ]
  },
  {
   "cell_type": "markdown",
   "metadata": {},
   "source": [
    "### Optional material"
   ]
  },
  {
   "cell_type": "markdown",
   "metadata": {},
   "source": [
    "<div class = \"alert alert-block alert-warning\">\n",
    "<b> Let's play a game: </b> We use all the above tricks for creating the game below. It is not required for you to know by heart how to do the exercises below...You just got started with all these notions, and you need practice to get more used to it...Hopefully, however, by the end of the year, you will get more acquainted with the little game below.\n",
    "    </div>"
   ]
  },
  {
   "cell_type": "code",
   "execution_count": null,
   "metadata": {},
   "outputs": [],
   "source": [
    "ok = 1\n",
    "A = input(\"Introduce your initial word here: \")\n",
    "B = []\n",
    "while(ok == 1):\n",
    "    \n",
    "    B = A\n",
    "    A = input(\"Introduce the word here: \")\n",
    "    if(A[0] != B[len(B) - 1]):\n",
    "        ok = 0\n",
    "        \n",
    "print(\"Game over! Try again!\")"
   ]
  },
  {
   "cell_type": "markdown",
   "metadata": {},
   "source": [
    "Let us make it a bit harder, shall we? Your next word should have its first <b> two </b> characters the same as the last one. Are you up to it?"
   ]
  },
  {
   "cell_type": "code",
   "execution_count": null,
   "metadata": {},
   "outputs": [],
   "source": [
    "ok = 1\n",
    "A = input(\"Introduce your initial word here: \")\n",
    "B = []\n",
    "while(ok == 1):\n",
    "    \n",
    "    B = A\n",
    "    A = input(\"Introduce the word here: \")\n",
    "    if( (A[0] != B[len(B) - 2]) and (A[1] != B[len(B) - 1]) ):\n",
    "        ok = 0\n",
    "        \n",
    "print(\"Game over! Try again!\")"
   ]
  },
  {
   "cell_type": "markdown",
   "metadata": {},
   "source": [
    "### Take-away"
   ]
  },
  {
   "cell_type": "markdown",
   "metadata": {},
   "source": [
    "<div class = \"alert alert-block alert-success\">\n",
    "This is it for today, and well done for managing to go through the material!! <br> <br> After this session, you should be more familiar with how simple sentences, numbers and conditional statements can be printed in Python. Moreover, ponder a bit on the for instruction, as it is heavily used in programming. Also, feel free to work more on this notebook using any commands you would like. <br> <br>\n",
    "<b> Note: </b> Always keep a back-up of the notebook, in case the original one is altered. <br><br>\n",
    "For today's session, this should be enough! See you later!!\n",
    "    </div>"
   ]
  },
  {
   "cell_type": "code",
   "execution_count": null,
   "metadata": {},
   "outputs": [],
   "source": [
    "print(\"Bye bye! :D\")"
   ]
  },
  {
   "cell_type": "markdown",
   "metadata": {},
   "source": [
    "![Noteable license](https://github.com/jstix/mr-noteable/blob/master/Banner%20image/Screenshot%202021-03-05%20115453.png?raw=true)"
   ]
  },
  {
   "cell_type": "code",
   "execution_count": null,
   "metadata": {},
   "outputs": [],
   "source": []
  }
 ],
 "metadata": {
  "kernelspec": {
   "display_name": "Python 3",
   "language": "python",
   "name": "python3"
  },
  "language_info": {
   "codemirror_mode": {
    "name": "ipython",
    "version": 3
   },
   "file_extension": ".py",
   "mimetype": "text/x-python",
   "name": "python",
   "nbconvert_exporter": "python",
   "pygments_lexer": "ipython3",
   "version": "3.7.6"
  }
 },
 "nbformat": 4,
 "nbformat_minor": 4
}
