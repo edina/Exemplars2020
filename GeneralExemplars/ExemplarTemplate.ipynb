{
 "cells": [
  {
   "cell_type": "markdown",
   "metadata": {},
   "source": [
    "## This Notebook - Goals - FOR EDINA\n",
    "\n",
    "**What?:**\n",
    "- What is the purpose of this notebook?\n",
    "\n",
    "**Who?:**\n",
    "- Who is this aimed at? Who is likely to come across it?\n",
    "\n",
    "**Why?:**\n",
    "- What is the motivation behind this notebook?\n",
    "\n",
    "**Noteable features to exploit:**\n",
    "- what features of noteable are being exploited?\n",
    "\n",
    "**How?:**\n",
    "- How are the features exploited? \n",
    "- What is being done to satisfy the needs of the audience?\n",
    "\n",
    "<hr>"
   ]
  },
  {
   "cell_type": "markdown",
   "metadata": {},
   "source": [
    "# Topic of Exemplar\n",
    "\n",
    "Brief explanation of topic.\n",
    "\n",
    "Brief explanation of notebook contents."
   ]
  },
  {
   "cell_type": "markdown",
   "metadata": {},
   "source": [
    "CONTENTS GUIDELINES:\n",
    "- Include links to libraries used\n",
    "- Include banner indicating intended functionality of notebook\n",
    "- Comment code as appropriate for target group"
   ]
  },
  {
   "cell_type": "code",
   "execution_count": null,
   "metadata": {},
   "outputs": [],
   "source": []
  }
 ],
 "metadata": {
  "kernelspec": {
   "display_name": "Python 3",
   "language": "python",
   "name": "python3"
  },
  "language_info": {
   "codemirror_mode": {
    "name": "ipython",
    "version": 3
   },
   "file_extension": ".py",
   "mimetype": "text/x-python",
   "name": "python",
   "nbconvert_exporter": "python",
   "pygments_lexer": "ipython3",
   "version": "3.7.6"
  }
 },
 "nbformat": 4,
 "nbformat_minor": 2
}
