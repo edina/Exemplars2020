{
 "cells": [
  {
   "cell_type": "markdown",
   "metadata": {},
   "source": [
    "## This Notebook - Goals - FOR EDINA \n",
    "\n",
    "**What?:** <br>\n",
    "- Introduction/tutorial to <code>Rasterio</code> and <code>Matplotlib</code>, a geospatial python library\n",
    "- Illustate the main features of this library when visualizing elevation data\n",
    "\n",
    "**Who?:** <br>\n",
    "- Academics and students in geosciences and other STEM degrees\n",
    "- Geophysical Data Science course\n",
    "- USers interested in geospatial data analysis and elevation data\n",
    " \n",
    "**Why?:** <br>\n",
    "- Tutorial/guide to process and plot elevation data\n",
    "\n",
    "**Noteable features to exploit:** <br>\n",
    "- Use of pre-installed libraries\n",
    "\n",
    "**How?:** <br>\n",
    "- Effective use of core libraries in the Geospatial Notebook\n",
    "- Step-by step processing of OS terrain 50 DTM data of the Lake District downloaded from DigiMap\n",
    "- Clear visualizations - concise explanations\n",
    "<hr>"
   ]
  },
  {
   "cell_type": "markdown",
   "metadata": {},
   "source": [
    "# Plotting elevation data using Matplotlib and Rasterio\n",
    "<code>Matplotlib</code> is a a python library for creating static, animated, and interactive visualizations. It can visualize both statistical and geospatial data, as long as the geoinformation has been preprocessed by other geospatial libraries. <br>\n",
    "<code>Rasterio</code> is a reads and writes GeoTIFF and other formats to organize and store gridded, or raster, datasets which is mainly used by GIS.<br>\n",
    "This Notebook uses OS terrain 50 DTM data of the Lake District, which was obtained from [Digimap](https://digimap.edina.ac.uk/os). This Notebook illustrates different ways of plotting the Lake District data using the <code>matplotlib</code> and <code>rasterio</code> librares. The main matplotlib methods used are <code>contour()</code> and <code>contourf()</code> along with the <code>rasterio.plot</code> module. \n",
    "An example of how <code>skimage</code> can be used to plot contour lines is also included.\n",
    "\n",
    "**Notebook contents:**\n",
    "- Importing the necessary libraries\n",
    "- Creating custom colourmaps to reflect typical terrain colours\n",
    "- Customizing the colourbars of the maps\n",
    "- <a href='#data'>Pre-processing the OS terrain 50 DTM data of the Lake District</a>\n",
    "- <a href='#con'>Terrain and contourmaps of the Lake District using <code>contour()</code> and <code>contourf()</code></a>\n",
    "- <a href='#imsh'>Terrain and contourmaps of the Lake District using <code>imshow</code> and <code>skimage</code></a>\n",
    "- <a href='#ras'>Terrain and contourmaps of the Lake District using <code>rasterio</code></a>"
   ]
  },
  {
   "cell_type": "code",
   "execution_count": null,
   "metadata": {},
   "outputs": [],
   "source": [
    "# Import all the necessary libraries\n",
    "## General python libraries for data analysis and visualization\n",
    "import matplotlib\n",
    "import matplotlib.pyplot as plt\n",
    "import numpy as np\n",
    "\n",
    "## Import libraries to preprocess the data\n",
    "import zipfile, os\n",
    "from osgeo import gdal, osr\n",
    "\n",
    "import rasterio as rio\n",
    "\n",
    "## Import geospatial libraries\n",
    "import cartopy.crs as ccrs\n",
    "from rasterio.plot import show\n",
    "from skimage import measure\n",
    "\n",
    "## Hide warning messages\n",
    "import warnings\n",
    "warnings.filterwarnings('ignore')"
   ]
  },
  {
   "cell_type": "code",
   "execution_count": null,
   "metadata": {},
   "outputs": [],
   "source": [
    "# Set up function to customize the chosen matplotlib colormap\n",
    "def truncate_colormap(cmap, minval, maxval, n=100):\n",
    "    cmapsample = cmap(np.linspace(minval, maxval, n)) #Sample the original colormap at n points between minval and maxval\n",
    "    new_cmap = matplotlib.colors.LinearSegmentedColormap.from_list(\n",
    "           'trunc({n},{a:.2f},{b:.2f})'.format(n=cmap.name, a=minval, b=maxval),\n",
    "            cmapsample)  #Create new colormap using the range that was sampled in cmapsample\n",
    "    return new_cmap #Return new colormap that can be called upon with get_cmap\n",
    "\n",
    "# See: https://stackoverflow.com/questions/18926031/how-to-extract-a-subset-of-a-colormap-as-a-new-colormap-in-matplotlib"
   ]
  },
  {
   "cell_type": "code",
   "execution_count": null,
   "metadata": {},
   "outputs": [],
   "source": [
    "# Create the colormap for the contourplots\n",
    "from matplotlib.colors import LinearSegmentedColormap\n",
    "cMap = []\n",
    "\n",
    "custom = LinearSegmentedColormap.from_list([\"darkgreen\", \"green\", \"mediumseagreen\", \n",
    "                          \"lightgreen\", \"greenyellow\", \"gold\", \"goldenrod\", \"darkgoldenrod\", \"brown\", \"black\"], \n",
    "                                           [\"darkgreen\", \"green\", \"mediumseagreen\", \n",
    "                          \"lightgreen\", \"greenyellow\", \"gold\", \"goldenrod\", \"darkgoldenrod\", \"brown\", \"black\"], N=10)\n",
    "m = matplotlib.cm.ScalarMappable(cmap=custom)"
   ]
  },
  {
   "cell_type": "markdown",
   "metadata": {},
   "source": [
    "<a id='data'></a>\n",
    "## Pre-processing the OS terrain 50 DTM data of the Lake District \n",
    "The data from Digimap can be downloaded in a zip file containing all the necessary files and documentation. The data contains Ordnance Survey data © Crown copyright and database right 2020. [[1]](#References) <br> \n",
    "Before it can be plotted, it first needs to be loaded into the Notebook and preprocessed. The unzipped folder reveals that the separate ascii files are split into folders named after the National Grid tiles they belong to. The files ending with \".asc\" also need to be converted to \".tif\" images and merged into one large \".tif\" image to make plotting it easier.<br>\n",
    "*Note: Tiff files can be plotted with <code>matplotlib</code> straight away, so any users who are hoping to visualize a geotiff file and are using this Notebook as a template can skip this section.*"
   ]
  },
  {
   "cell_type": "code",
   "execution_count": null,
   "metadata": {},
   "outputs": [],
   "source": [
    "# ONLY RUN ONCE\n",
    "\n",
    "## Extract the folders from the zip file into a directory \"./data/LakeDistrict\"\n",
    "z = zipfile.ZipFile('./LakeDistrictData/Lake_District.zip')\n",
    "z.extractall(path=\"./data/LakeDistrict\")"
   ]
  },
  {
   "cell_type": "code",
   "execution_count": null,
   "metadata": {},
   "outputs": [],
   "source": [
    "# ONLY RUN ONCE\n",
    "\n",
    "## Convert each \".asc\" file into a geotiff files\n",
    "drv = gdal.GetDriverByName('GTiff')\n",
    "for item in os.listdir(\"./data/LakeDistrict/terrain-50-dtm_3563996\"):\n",
    "    for i in os.listdir(\"./data/LakeDistrict/terrain-50-dtm_3563996/\" + item):\n",
    "        if i.endswith(\".asc\"):\n",
    "            ds_in = gdal.Open('./data/LakeDistrict/terrain-50-dtm_3563996/' + item + \"/\" + i )\n",
    "            i = i.strip('.asc')\n",
    "            ds_out = drv.CreateCopy(i +'.tif', ds_in)\n",
    "            srs = osr.SpatialReference()\n",
    "            srs.ImportFromEPSG(7405)\n",
    "            ds_out.SetProjection(srs.ExportToWkt())\n",
    "            ds_in = None\n",
    "            ds_out = None"
   ]
  },
  {
   "cell_type": "code",
   "execution_count": null,
   "metadata": {},
   "outputs": [],
   "source": [
    "# ONLY RUN ONCE\n",
    "\n",
    "## Combine all the individual geotiff files into one called \"merged.tif\"\n",
    "!gdal_merge.py  -o merged.tif NY10.tif NY11.tif NY12.tif NY20.tif NY21.tif NY22.tif NY30.tif NY31.tif NY32.tif NY40.tif NY41.tif NY42.tif NY50.tif NY51.tif NY52.tif SD18.tif SD19.tif SD28.tif SD29.tif SD38.tif SD39.tif SD48.tif SD49.tif SD58.tif SD59.tif"
   ]
  },
  {
   "cell_type": "code",
   "execution_count": null,
   "metadata": {},
   "outputs": [],
   "source": [
    "# Load in the data using rasterio\n",
    "src = rio.open(\"merged.tif\")\n",
    "elevation = src.read(1)"
   ]
  },
  {
   "cell_type": "markdown",
   "metadata": {},
   "source": [
    "<a id='con'></a>\n",
    "## Plotting elevation data using Matplotlib\n",
    "This section illustrates different ways of plotting the Lake District data using the  <code>matplotlib</code> library. The first example uses the methods <code>contour()</code> and <code>contourf()</code>, whereas the second uses <code>plt.imshow</code> and the library called <code>skimage</code>. The data was loaded in using the library <code>rasterio</code> in both cases."
   ]
  },
  {
   "cell_type": "code",
   "execution_count": null,
   "metadata": {},
   "outputs": [],
   "source": [
    "# Define a function to customize the plots with axis labels and titles to avoid repeating the same lines of code\n",
    "def LDplot(title, axes, end):\n",
    "    for i in range(0,end):\n",
    "        axes[i].set_title(title[i], size=20)\n",
    "        axes[i].set_xticks([310000, 320000, 330000, 340000, 350000, 360000])\n",
    "        axes[i].set_xticklabels([\"310km\", \"320km\", \"330km\", \"340km\", \"350km\", \"360km\"])\n",
    "        axes[i].set_yticks([480000, 490000, 500000, 510000, 520000, 530000])\n",
    "        axes[i].set_yticklabels([\"480km\", \"490km\", \"500km\", \"510km\", \"520km\", \"530km\"])\n",
    "        axes[i].set_xlabel(\"False Eastings\")\n",
    "        axes[i].set_ylabel(\"False Northings\")"
   ]
  },
  {
   "cell_type": "code",
   "execution_count": null,
   "metadata": {
    "scrolled": false
   },
   "outputs": [],
   "source": [
    "# Set figure size and axes\n",
    "fig = plt.figure(figsize=(20,10))\n",
    "ax = fig.add_subplot(1, 2, 1, projection=ccrs.OSGB())\n",
    "ax2= fig.add_subplot(1, 2, 2, projection=ccrs.OSGB())\n",
    "\n",
    "# Create meshgrid with numpy\n",
    "x = np.arange(310000, 360000, 50)\n",
    "y = np.arange(480050, 530050, 50)\n",
    "y = np.flip(y)\n",
    "xx, yy = np.meshgrid(x, y, sparse=True)\n",
    "'''Note: \n",
    "    I used meshgrid to be able to add axes ticklabels\n",
    "    Can also use instead of meshgrid, but LDplot(title, axes, 2) has to be commented out first:\n",
    "    ax.contour(src.read(1), cmap = customcmap, \n",
    "               title = \"Lake District elevation contour map\", \n",
    "               origin =\"upper\")'''\n",
    "\n",
    "# Specify the colormap segment for this example - range from light blue to darkbrown\n",
    "cmap = plt.get_cmap('terrain') # Colormap ranging darkblue-green-yellow-brown-white\n",
    "new_cmap = truncate_colormap(cmap, 0.18, 0.8) # Cutting out darkblue and white ends\n",
    "\n",
    "# Create terrain and contourmaps using contour and contourf\n",
    "norm = matplotlib.colors.Normalize(vmin=np.nanmin(elevation),\n",
    "                                   vmax=np.nanmax(elevation))\n",
    "\n",
    "ax.contourf(x, y, src.read(1), cmap = new_cmap,\n",
    "            title = \"Lake District elevation contour map\", norm=norm  )\n",
    "CS = ax2.contour(x, y, src.read(1), cmap = new_cmap,\n",
    "                 title = \"Lake District elevation contour map\", norm=norm )\n",
    "ax2.clabel(CS, inline=1, fontsize=10, fmt='%1.fm')\n",
    "\n",
    "# Add colorbar and customize the map\n",
    "sm = plt.cm.ScalarMappable(norm = norm, cmap=new_cmap)\n",
    "plt.colorbar(sm, ax=[ax, ax2], shrink = 0.75, label=\"Elevation (m)\")\n",
    "\n",
    "title =[\"Lake District elevation terrain map\", \"Lake District elevation contour map\"]\n",
    "axes = [ax, ax2]\n",
    "LDplot(title, axes, 2)\n",
    "plt.show()\n",
    "\n",
    "# Save figure\n",
    "#fig.savefig(\"LDmatplotlibcontour\")"
   ]
  },
  {
   "cell_type": "markdown",
   "metadata": {},
   "source": [
    "<a id='imsh'></a>"
   ]
  },
  {
   "cell_type": "code",
   "execution_count": null,
   "metadata": {},
   "outputs": [],
   "source": [
    "# Set figure size and axes\n",
    "fig = plt.figure(figsize=(10,10))\n",
    "ax = fig.add_subplot(1, 1, 1, projection=ccrs.OSGB())\n",
    "\n",
    "# Create terrainmap using imshow\n",
    "plt.imshow(src.read(1), cmap=\"Greys\", norm=norm)\n",
    "\n",
    "# Add colorbar and customize the map\n",
    "norm = matplotlib.colors.Normalize(vmin=np.nanmin(elevation), \n",
    "                                   vmax=np.nanmax(elevation))\n",
    "sm = plt.cm.ScalarMappable(norm = norm, cmap=\"Greys\")\n",
    "plt.colorbar(sm, ax=ax, shrink=0.82, label=\"Elevation (m)\")\n",
    "\n",
    "ax.set_title(\"Lake District elevation terrain map\", size=20)\n",
    "\n",
    "# Create contours using skimage\n",
    "interval = [0,150,300,450,600,750,900]\n",
    "for height in interval:\n",
    "    contours = measure.find_contours(src.read(1), height)\n",
    "    for n, contour in enumerate(contours):\n",
    "        ax.plot(contour[:, 1], contour[:, 0], linewidth=1.5, c=\"black\")\n",
    "\n",
    "plt.show()\n",
    "\n",
    "# Save figure\n",
    "#fig.savefig(\"LDimshowblakandwhite\")"
   ]
  },
  {
   "cell_type": "markdown",
   "metadata": {},
   "source": [
    "<a id='ras'></a>\n",
    "## Plotting elevation data using Rasterio\n",
    "This section illustrates plotting the Lake District data using <code>rasterio</code>. The first example uses the module <code>rasterio.plot</code>. Its  method <code>show</code> has an argument to plot contours or point data. The data was also loaded in using the library  <code>rasterio</code>."
   ]
  },
  {
   "cell_type": "code",
   "execution_count": null,
   "metadata": {},
   "outputs": [],
   "source": [
    "# Set figure size and axes\n",
    "fig = plt.figure(figsize=(20,10))\n",
    "ax = fig.add_subplot(1, 2, 1, projection=ccrs.OSGB())\n",
    "ax2 = fig.add_subplot(1, 2, 2, projection=ccrs.OSGB())\n",
    "\n",
    "# Specify the colormap segment for this example\n",
    "customcmap = plt.get_cmap(custom) \n",
    "\n",
    "# Create terrain and contourmap using rasterio\n",
    "show(src, ax=ax, cmap = customcmap, origin='upper',\n",
    "     title = \"Lake District elevation terrain map\",\n",
    "     transform = src.transform)\n",
    "show(src, ax=ax2, cmap = customcmap,\n",
    "     title = \"Lake District elevation contour map\",\n",
    "     contour=True, \n",
    "     contour_label_kws = {'fmt':'%1.fm'},\n",
    "     transform = src.transform)\n",
    "\n",
    "# Add a colorbar and customize map\n",
    "norm = matplotlib.colors.Normalize(vmin=0, vmax=1000)\n",
    "sm = plt.cm.ScalarMappable(norm = norm, cmap=customcmap)\n",
    "plt.colorbar(sm, ax=[ax, ax2], shrink = 0.75, label=\"Elevation (m)\")\n",
    "\n",
    "title =[\"Lake District elevation terrain map\", \"Lake District elevation contour map\"]\n",
    "axes = [ax, ax2]\n",
    "LDplot(title, axes, 2)\n",
    "\n",
    "plt.show()\n",
    "\n",
    "# Save figure\n",
    "#fig.savefig(\"LDrasterio\") "
   ]
  },
  {
   "cell_type": "markdown",
   "metadata": {},
   "source": [
    "<a id='References'></a>\n",
    "# References \n",
    "\n",
    "[1] OS Terrain 50 [ASC geospatial data], Scale 1:50000, Tiles: NY10, NY11, NY12, NY20, NY21, NY22, NY30, NY31, NY32, NY40, NY41, NY42, NY50, NY51, NY52, SD18, SD19, SD28, SD29, SD38, SD39, SD48, SD49, SD58, SD59, Updated: 29 May 2019, Ordnance Survey (GB), Using: EDINA Digimap Ordnance Survey Service, <https://digimap.edina.ac.uk>, Downloaded: 2020-06-11 09:06:43.042\n"
   ]
  }
 ],
 "metadata": {
  "kernelspec": {
   "display_name": "Python 3",
   "language": "python",
   "name": "python3"
  },
  "language_info": {
   "codemirror_mode": {
    "name": "ipython",
    "version": 3
   },
   "file_extension": ".py",
   "mimetype": "text/x-python",
   "name": "python",
   "nbconvert_exporter": "python",
   "pygments_lexer": "ipython3",
   "version": "3.7.8"
  }
 },
 "nbformat": 4,
 "nbformat_minor": 2
}
