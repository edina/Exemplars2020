{
 "cells": [
  {
   "cell_type": "markdown",
   "metadata": {},
   "source": [
    "## This Notebook - Goals - FOR EDINA \n",
    "\n",
    "**What?:** <br>\n",
    "- Introduction/tutorial to <code>EarthPy</code>, a geospatial python library\n",
    "- Illustate the main features of this library when visualizing elevation data\n",
    "\n",
    "**Who?:** <br>\n",
    "- Academics and students in geosciences and other STEM degrees\n",
    "- Geophysical Data Science course\n",
    "- USers interested in geospatial data analysis and elevation data\n",
    " \n",
    "**Why?:** <br>\n",
    "- Tutorial/guide to process and plot elevation data\n",
    "\n",
    "**Noteable features to exploit:** <br>\n",
    "- Use of pre-installed libraries\n",
    "\n",
    "**How?:** <br>\n",
    "- Effective use of core libraries in the Geospatial Notebook\n",
    "- Step-by step processing of OS terrain 50 DTM data of the Lake District downloaded from DigiMap\n",
    "- Clear visualizations - concise explanations\n",
    "<hr>"
   ]
  },
  {
   "cell_type": "markdown",
   "metadata": {},
   "source": [
    "# Plotting elevation data using EarthPy\n",
    "<code>EarthPy</code> is a geospatial python library that makes it easier to plot and work with spatial raster and vector data using open source tools. <code>EarthPy</code> comes with the ability to download example datasets using the <code>earthpy.data.get_data()</code> function. This Notebook, however, uses OS terrain 50 DTM data of the Lake District, which was obtained from [Digimap](https://digimap.edina.ac.uk/os). <br>\n",
    "This Notebook illustrates different ways of plotting the Lake District data using the <code>EarthPy</code> library. The main difference to other methods of visualizing the data is <code>EarthPy</code>'s <code>hillshade()</code> function. This enables the user to overlay raster data on top of a hillshade. A hillshade is a 3D representation of a surface and is generally rendered in greyscale. The darker and lighter colors represent the shadows and highlights that you would visually expect to see in a terrain model. Hillshades are often used as an underlay in a map to make the data appear more 3D and thus visually more interesting. \n",
    "\n",
    "**Notebook contents:**\n",
    "- Importing the necessary libraries\n",
    "- Creating custom colourmap to reflect typical terrain colours\n",
    "- Customizing the colourbars of the maps\n",
    "- <a href='#data'>Pre-processing the OS terrain 50 DTM data of the Lake District</a>\n",
    "- <a href='#no'>Terrain map without hillshade using <code>EarthPy</code></a>\n",
    "- <a href='#azi'>Hillshade maps of the Lake District with varying azimuthal angles</a>\n",
    "- <a href='#alt'>Hillshade maps  of the Lake District with varying altitude angles</a>\n",
    "- <a href='#hill'>Terrain map of the Lake District overlayed on top of a hillshade</a>"
   ]
  },
  {
   "cell_type": "code",
   "execution_count": 12,
   "metadata": {},
   "outputs": [],
   "source": [
    "# General general libraries\n",
    "import matplotlib\n",
    "import matplotlib.pyplot as plt\n",
    "import numpy as np\n",
    "\n",
    "# Import libraries to preprocess the data\n",
    "import zipfile, os\n",
    "from osgeo import gdal, osr\n",
    "import rasterio as rio\n",
    "\n",
    "# Import earthpy modules\n",
    "import earthpy.spatial as es\n",
    "import earthpy.plot as ep\n",
    "\n",
    "# Hide warning messages\n",
    "import warnings\n",
    "warnings.filterwarnings('ignore')"
   ]
  },
  {
   "cell_type": "code",
   "execution_count": 13,
   "metadata": {},
   "outputs": [],
   "source": [
    "# Set up function to customize the chosen matplotlib colormap\n",
    "def truncate_colormap(cmap, minval, maxval, n=100):\n",
    "    cmapsample = cmap(np.linspace(minval, maxval, n)) #Sample the original colormap at n points between minval and maxval\n",
    "    new_cmap = matplotlib.colors.LinearSegmentedColormap.from_list(\n",
    "           'trunc({n},{a:.2f},{b:.2f})'.format(n=cmap.name, a=minval, b=maxval),\n",
    "            cmapsample)  #Create new colormap using the range that was sampled in cmapsample\n",
    "    return new_cmap #Return new colormap that can be called upon with get_cmap\n",
    "\n",
    "# See: https://stackoverflow.com/questions/18926031/how-to-extract-a-subset-of-a-colormap-as-a-new-colormap-in-matplotlib"
   ]
  },
  {
   "cell_type": "markdown",
   "metadata": {},
   "source": [
    "<a id='data'></a>\n",
    "## Pre-processing the OS terrain 50 DTM data of the Lake District \n",
    "The data from Digimap can be downloaded in a zip file containing all the necessary files and documentation. The data contains Ordnance Survey data © Crown copyright and database right 2020. [[1]](#References) <br> \n",
    "Before it can be plotted, it first needs to be loaded into the Notebook and preprocessed. The unzipped folder reveals that the separate ascii files are split into folders named after the National Grid tiles they belong to. The files ending with \".asc\" also need to be converted to \".tif\" images and merged into one large \".tif\" image to make plotting it easier.<br>\n",
    "*Note: Geotiff files can be plotted with <code>EarthPy</code> straight away, so any users who are hoping to visualize a geotiff file and are using this Notebook as a template can skip this section.*"
   ]
  },
  {
   "cell_type": "code",
   "execution_count": 14,
   "metadata": {},
   "outputs": [],
   "source": [
    "# ONLY RUN ONCE\n",
    "\n",
    "## Extract the folders from the zip file into a directory \"./data/LakeDistrict\"\n",
    "z = zipfile.ZipFile('./LakeDistrictData/Lake_District.zip')\n",
    "z.extractall(path=\"./data/LakeDistrict\")"
   ]
  },
  {
   "cell_type": "code",
   "execution_count": 15,
   "metadata": {},
   "outputs": [],
   "source": [
    "# ONLY RUN ONCE\n",
    "\n",
    "## Convert each \".asc\" file into a geotiff files\n",
    "drv = gdal.GetDriverByName('GTiff')\n",
    "for item in os.listdir(\"./data/LakeDistrict/terrain-50-dtm_3563996\"):\n",
    "    for i in os.listdir(\"./data/LakeDistrict/terrain-50-dtm_3563996/\" + item):\n",
    "        if i.endswith(\".asc\"):\n",
    "            ds_in = gdal.Open('./data/LakeDistrict/terrain-50-dtm_3563996/' + item + \"/\" + i )\n",
    "            i = i.strip('.asc')\n",
    "            ds_out = drv.CreateCopy(i +'.tif', ds_in)\n",
    "            srs = osr.SpatialReference()\n",
    "            srs.ImportFromEPSG(7405)\n",
    "            ds_out.SetProjection(srs.ExportToWkt())\n",
    "            ds_in = None\n",
    "            ds_out = None"
   ]
  },
  {
   "cell_type": "code",
   "execution_count": 16,
   "metadata": {},
   "outputs": [
    {
     "name": "stdout",
     "output_type": "stream",
     "text": [
      "0...10...20...30...40...50...60...70...80...90...100 - done.\n"
     ]
    }
   ],
   "source": [
    "# ONLY RUN ONCE\n",
    "\n",
    "## Combine all the individual geotiff files into one called \"merged.tif\"\n",
    "!gdal_merge.py  -o merged.tif NY10.tif NY11.tif NY12.tif NY20.tif NY21.tif NY22.tif NY30.tif NY31.tif NY32.tif NY40.tif NY41.tif NY42.tif NY50.tif NY51.tif NY52.tif SD18.tif SD19.tif SD28.tif SD29.tif SD38.tif SD39.tif SD48.tif SD49.tif SD58.tif SD59.tif"
   ]
  },
  {
   "cell_type": "code",
   "execution_count": 17,
   "metadata": {},
   "outputs": [],
   "source": [
    "# Load in the data using rasterio\n",
    "src = rio.open(\"merged.tif\")\n",
    "elevation = src.read(1)"
   ]
  },
  {
   "cell_type": "markdown",
   "metadata": {},
   "source": [
    "<a id='no'></a>\n",
    "## Using EarthPy without hillshade\n",
    "The following cell uses the <code>earthpy.plot</code>  module of the library to plot the elevation data. This does not include the <code>hillshade()</code> function yet. The cbar argument of <code>earthpy.plot.plot_bands()</code> has been disabled as it does not add a colourbar label. Instead <code>matplotlib</code> was used to create a customized colourbar."
   ]
  },
  {
   "cell_type": "code",
   "execution_count": 18,
   "metadata": {},
   "outputs": [],
   "source": [
    "# Set figure size and axes\n",
    "fig, ax = plt.subplots(figsize=(10, 10))\n",
    "\n",
    "# Specify the colormap segment for this example\n",
    "cmap = plt.get_cmap('terrain')\n",
    "new_cmap = truncate_colormap(cmap, 0.2, 0.9)\n",
    "\n",
    "# Create terrainmap without hillshade using EarthPy\n",
    "norm = matplotlib.colors.Normalize(vmin=elevation.min(), \n",
    "                                   vmax=elevation.max())\n",
    "ep.plot_bands(elevation, cmap=new_cmap, ax=ax,\n",
    "    cbar=False, norm=norm)\n",
    "\n",
    "# Add colorbar and customize the map\n",
    "sm = plt.cm.ScalarMappable(norm = norm, cmap=new_cmap)\n",
    "plt.colorbar(sm, ax=ax, shrink=0.82).set_label(label = 'Elevation (m)', size=12)\n",
    "\n",
    "ax.set_title(\"Lake District elevation terrain map \\n without hillshade\", size=17)\n",
    "plt.show()\n",
    "\n",
    "# Save the figure - uncomment code below\n",
    "#plt.savefig(\"LDearthpywithouthillshade\")"
   ]
  },
  {
   "cell_type": "markdown",
   "metadata": {},
   "source": [
    "<a id='azi'></a>\n",
    "## Hillshade function - changing the azimuth\n",
    "The <code>hillshade()</code> function is part of the earthpy.spatial module and has 2 parameters, the azimuth and the altitude, which can be adjusted if wished. <br>\n",
    "The azimuth argument within <code>hillshade()</code> sets the location of the Sun with respect to the map. Its values range from 0° to 360°. If it is set to be 0°, the Sun is directly to the North of the map, and moves in a clockwise direction as you increase the azimuthal angle. The default azimuth is 30°.\n"
   ]
  },
  {
   "cell_type": "code",
   "execution_count": 19,
   "metadata": {},
   "outputs": [],
   "source": [
    "# Set figure size and axes\n",
    "fig = plt.figure(figsize=(10,10))\n",
    "ax = fig.add_subplot(2, 2, 1)\n",
    "ax2 = fig.add_subplot(2, 2, 2)\n",
    "ax3 = fig.add_subplot(2, 2, 3)\n",
    "ax4 = fig.add_subplot(2, 2, 4)\n",
    "\n",
    "# Create hillshade maps with azimuthal angles of 0°, 90°, 180° and 270°\n",
    "angle = [0, 90, 180, 270]\n",
    "axes =[ax, ax2, ax3, ax4]\n",
    "for i in range(0,4):\n",
    "    # Change the azimuth of the hillshade layer\n",
    "    hillshade_azimuth = es.hillshade(elevation, azimuth=angle[i])\n",
    "    # Plot the hillshade layer with the modified azimuth\n",
    "    ep.plot_bands(hillshade_azimuth, ax=axes[i], \n",
    "                  cbar=False, title=\"Hillshade with Azimuth set to \" + str(angle[i])+ \" Degrees\")\n",
    "\n",
    "# Save the figure - uncomment code below\n",
    "#fig.savefig(\"LDazimuthhillshades\")"
   ]
  },
  {
   "cell_type": "markdown",
   "metadata": {},
   "source": [
    "<a id='alt'></a>\n",
    "## Hillshade function - changing the angle altitude of the sun\n",
    "The altitude parameter determines the inclination angle of the sunlight with respect to the map. Its values range from 0° to 90°. 90 represents the sun shining from directly above the scene. The default value for altitude is 30°.\n"
   ]
  },
  {
   "cell_type": "code",
   "execution_count": 20,
   "metadata": {},
   "outputs": [],
   "source": [
    "# Set figure size and axes\n",
    "fig = plt.figure(figsize=(10,10))\n",
    "ax = fig.add_subplot(2, 2, 1)\n",
    "ax2 = fig.add_subplot(2, 2, 2)\n",
    "ax3 = fig.add_subplot(2, 2, 3)\n",
    "ax4 = fig.add_subplot(2, 2, 4)\n",
    "\n",
    "# Create hillshade maps with inclination angles of 0°, 90°, 180° and 270°\n",
    "altitude = [0, 30, 60, 90]\n",
    "axes =[ax, ax2, ax3, ax4]\n",
    "for i in range(0,4):\n",
    "    # Change the azimuth of the hillshade layer\n",
    "    hillshade_altitude = es.hillshade(elevation, altitude=altitude[i])\n",
    "    # Plot the hillshade layer with the modified azimuth\n",
    "    ep.plot_bands(hillshade_altitude, ax=axes[i], \n",
    "                  cbar=False, title=\"Hillshade with a sun angle altitude \\n set to \" + str(altitude[i])+ \" Degrees\")\n",
    "\n",
    "# Save the figure - uncomment code below\n",
    "#fig.savefig(\"LDalitudehillshades\")"
   ]
  },
  {
   "cell_type": "markdown",
   "metadata": {},
   "source": [
    "<a id='hill'></a>\n",
    "## Using Earthpy with hillshade\n",
    "The terrain and hillshade maps can be combined in one plot to create an image that looks 3-dimesional. "
   ]
  },
  {
   "cell_type": "code",
   "execution_count": 21,
   "metadata": {},
   "outputs": [],
   "source": [
    "# Set figure size and axes\n",
    "fig, ax = plt.subplots(figsize=(10, 10))\n",
    "\n",
    "# Create terrainmap\n",
    "ep.plot_bands( elevation, cbar=False,\n",
    "    ax=ax, cmap=new_cmap)\n",
    "\n",
    "# Create hillshade\n",
    "hillshade = es.hillshade(elevation)\n",
    "ax.imshow(hillshade, cmap=\"Greys\", alpha=0.5)\n",
    "\n",
    "# Add colorbar and customize the map\n",
    "plt.colorbar(sm, ax=ax, ticks=np.arange(-100, 1000, 100), shrink=0.82).set_label(label = 'Elevation (m)', size=12)\n",
    "ax.set_title(\"Elevation of the Lake District \\n overlayed on top of a hillshade\", size=17)\n",
    "\n",
    "plt.show()\n",
    "\n",
    "# Save the figure - uncomment code below\n",
    "#fig.savefig(\"LDhillshade\")"
   ]
  },
  {
   "cell_type": "markdown",
   "metadata": {},
   "source": [
    "<a id='References'></a>\n",
    "# References \n",
    "\n",
    "[1] OS Terrain 50 [ASC geospatial data], Scale 1:50000, Tiles: NY10, NY11, NY12, NY20, NY21, NY22, NY30, NY31, NY32, NY40, NY41, NY42, NY50, NY51, NY52, SD18, SD19, SD28, SD29, SD38, SD39, SD48, SD49, SD58, SD59, Updated: 29 May 2019, Ordnance Survey (GB), Using: EDINA Digimap Ordnance Survey Service, <https://digimap.edina.ac.uk>, Downloaded: 2020-06-11 09:06:43.042\n"
   ]
  }
 ],
 "metadata": {
  "kernelspec": {
   "display_name": "Python 3",
   "language": "python",
   "name": "python3"
  },
  "language_info": {
   "codemirror_mode": {
    "name": "ipython",
    "version": 3
   },
   "file_extension": ".py",
   "mimetype": "text/x-python",
   "name": "python",
   "nbconvert_exporter": "python",
   "pygments_lexer": "ipython3",
   "version": "3.7.6"
  }
 },
 "nbformat": 4,
 "nbformat_minor": 2
}
