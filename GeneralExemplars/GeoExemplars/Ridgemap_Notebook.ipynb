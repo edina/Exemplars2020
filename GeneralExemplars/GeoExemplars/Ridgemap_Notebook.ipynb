{
 "cells": [
  {
   "cell_type": "markdown",
   "metadata": {},
   "source": [
    "## This Notebook - Goals - FOR EDINA\n",
    "\n",
    "**IMPORTANT NOTE:**<br>\n",
    "This notebook currently doesn't run properly as there have been changes to the path to the elevation data. This resulted in an HTTP error which appears when the library tries to fetch the data. The developers of the library have been notified so hopefully the bug will soon be fixed.\n",
    "\n",
    "**What?:** <br>\n",
    "- Introduction/tutorial to <code>ridge_map</code>, a geospatial python library\n",
    "- Illustate the main features of this library when visualizing elevation data\n",
    "\n",
    "**Who?:** <br>\n",
    "- Academics and students in geosciences and other STEM degrees\n",
    "- Geophysical Data Science course\n",
    "- USers interested in geospatial data analysis and elevation data\n",
    " \n",
    "**Why?:** <br>\n",
    "- Tutorial/guide to plot elevation data\n",
    "\n",
    "**Noteable features to exploit:** <br>\n",
    "- Use of pre-installed libraries\n",
    "\n",
    "**How?:** <br>\n",
    "- Effective use of core libraries in the Geospatial Notebook\n",
    "- Using pre-included data\n",
    "- Clear visualizations - concise explanations\n",
    "<hr>"
   ]
  },
  {
   "cell_type": "markdown",
   "metadata": {},
   "source": [
    "# Plotting elevation data using ridge_map\n",
    "\n",
    "[Ridge_map](https://github.com/ColCarroll/ridge_map) is a python library aimed at creating ridge maps of elevaton data which comes from NASA's Shuttle Radar Topography Mission (SRTM), high resolution topographic data collected in 2000 and released in 2015. SRTM data are sampled at a resolution of 1 arc-second (about 30 meters) and provided to <code>ridge_map</code> via the python package SRTM.py, which is licensed under the [Apache License, Version 2.0](https://www.apache.org/licenses/LICENSE-2.0) <br>\n",
    "\n",
    "This Notebook illustrates how to create ridge maps of Great Britain and the Lake District. Great Britain was chosen to show the large scale maps this library can achieve in comparison to others where the data is split into tiles. This usually results in many separate smaller files that need to be pre-processed. Substantially larger polygons can be selected, although SRTM is not available for latitudes outside of the range N 60° - S 60°. The Lake District was chosen so that the image can be reasonably compared to maps plotted using other libraries, which can be viewed in the Exemplars on <code>Rasterio</code> and <code>EarthPy</code>. Of course, you can select a bounding box of your area of interest, for example by obtaining the points of a polygon using [bboxfinder](http://bboxfinder.com/). Once you load in the elevation data from SRTM, you can preprocess it to automatically detect lakes, rivers, and oceans, and scale the elevations. <br>\n",
    "\n",
    "**Notebook contents:**\n",
    "- Importing the necessary libraries\n",
    "- Creating custom colourmap to reflect typical terrain colours\n",
    "- Ridge map of Great Britain\n",
    "- Ridge map of the Lake District\n",
    "- Customizing the colourbars of the maps"
   ]
  },
  {
   "cell_type": "code",
   "execution_count": null,
   "metadata": {},
   "outputs": [],
   "source": [
    "# Import all the necessary libraries\n",
    "import matplotlib\n",
    "import matplotlib.pyplot as plt\n",
    "import numpy as np\n",
    "from ridge_map import RidgeMap, FontManager\n",
    "\n",
    "# Hide warning messages\n",
    "import warnings\n",
    "warnings.filterwarnings('ignore')"
   ]
  },
  {
   "cell_type": "code",
   "execution_count": null,
   "metadata": {},
   "outputs": [],
   "source": [
    "# Set up function to customize the chosen matplotlib colormap\n",
    "def truncate_colormap(cmap, minval, maxval, n=100):\n",
    "    cmapsample = cmap(np.linspace(minval, maxval, n)) #Sample the original colormap at n points between minval and maxval\n",
    "    new_cmap = matplotlib.colors.LinearSegmentedColormap.from_list(\n",
    "           'trunc({n},{a:.2f},{b:.2f})'.format(n=cmap.name, a=minval, b=maxval),\n",
    "            cmapsample)  #Create new colormap using the range that was sampled in cmapsample\n",
    "    return new_cmap #Return new colormap that can be called upon with get_cmap"
   ]
  },
  {
   "cell_type": "code",
   "execution_count": null,
   "metadata": {
    "scrolled": false
   },
   "outputs": [],
   "source": [
    "# Identify the points of the polygon of Great Britain from http://bboxfinder.com/\n",
    "polygon = (-8.657227,49.761777,2.241211,59.625348)\n",
    "\n",
    "# Set font manager (otherwise error in ridge_map)\n",
    "font = FontManager('https://github.com/google/fonts/blob/main/ofl/amaranth/Amaranth-Regular.ttf?raw=true')\n",
    "\n",
    "# Get the elevation values for each data point within the polygon\n",
    "rm = RidgeMap(polygon, font=font.prop)\n",
    "values = rm.get_elevation_data(num_lines=220, elevation_pts=550)\n",
    "\n",
    "# Specify the colormap segment for this example - range from deep green to darkbrown\n",
    "cmap = plt.get_cmap('terrain') # Colormap ranging darkblue-green-yellow-brown-white\n",
    "new_cmap = truncate_colormap(cmap, 0.25, 0.8) # Cutting out darkblue and white ends\n",
    "\n",
    "# Plot the ridge map\n",
    "fig = plt.figure(figsize=(10, 10))\n",
    "ax = fig.add_subplot(1, 1, 1)\n",
    "rm.plot_map(values=rm.preprocess(values=values, lake_flatness=4, water_ntile=30, vertical_ratio=70),\n",
    "            ax=ax,\n",
    "            label='Great Britain', #Label the map with the name of the area\n",
    "            label_x=0.15, #Set location of label\n",
    "            label_size=20, #Set size of the label\n",
    "            linewidth=2, #Set the thickness of the lines\n",
    "            line_color = plt.get_cmap(new_cmap), #Set colormap of the lines\n",
    "            kind='elevation')\n",
    "\n",
    "# Add colorbar and customize the map\n",
    "norm = matplotlib.colors.Normalize(vmin=np.nanmin(values), vmax=np.nanmax(values))\n",
    "sm = plt.cm.ScalarMappable(norm = norm, cmap=new_cmap)\n",
    "plt.colorbar(sm).set_label(label = 'Elevation above sea level (m)', size=15)\n",
    "\n",
    "plt.title(\"Ridge map of Great Britain\", size=20)\n",
    "plt.show()"
   ]
  },
  {
   "cell_type": "code",
   "execution_count": null,
   "metadata": {},
   "outputs": [],
   "source": [
    "#Set up the figure\n",
    "fig, ax = plt.subplots(figsize=(15, 10))\n",
    "\n",
    "# Identify the points of the polygon of the Lake District\n",
    "polygon = (-3.433415,54.197751,-2.678271,54.648501)\n",
    "\n",
    "# Set font manager (otherwise error in ridge_map)\n",
    "font = FontManager('https://github.com/google/fonts/blob/main/ofl/amaranth/Amaranth-Regular.ttf?raw=true')\n",
    "\n",
    "# Get the elevation values for each data point within the polygon\n",
    "rm = RidgeMap(polygon, font=font.prop)\n",
    "values = rm.get_elevation_data(num_lines=220, elevation_pts=550)\n",
    "\n",
    "# Specify the colormap segment for this example - range from deep green to darkbrown\n",
    "cmap = plt.get_cmap('terrain') # Colormap ranging darkblue-green-yellow-brown-white\n",
    "new_cmap = truncate_colormap(cmap, 0.25, 0.8) # Cutting out darkblue and white ends\n",
    "\n",
    "# Plot the ridge map\n",
    "rm.plot_map(values=rm.preprocess(values=values, lake_flatness=4, water_ntile=25, vertical_ratio=100),\n",
    "            label='Lake District', #Labelling the map with the name of the area\n",
    "            label_x=0.7, #Set location of label\n",
    "            label_size=20, #Set size of the label\n",
    "            linewidth=2, #Set the thickness of the lines\n",
    "            line_color = plt.get_cmap(new_cmap), #Set colormap of the lines\n",
    "            kind='elevation', ax=ax)\n",
    "\n",
    "# Add colorbar and customize the map\n",
    "norm = matplotlib.colors.Normalize(vmin=np.nanmin(values), vmax=np.nanmax(values))\n",
    "sm = plt.cm.ScalarMappable(norm = norm, cmap=new_cmap)\n",
    "plt.colorbar(sm).set_label(label = 'Elevation above sea level (m)', size=15)\n",
    "\n",
    "plt.title(\"Ridge map of the Lake District\", size=20)\n",
    "plt.show()"
   ]
  },
  {
   "cell_type": "code",
   "execution_count": null,
   "metadata": {},
   "outputs": [],
   "source": []
  }
 ],
 "metadata": {
  "kernelspec": {
   "display_name": "Python 3",
   "language": "python",
   "name": "python3"
  },
  "language_info": {
   "codemirror_mode": {
    "name": "ipython",
    "version": 3
   },
   "file_extension": ".py",
   "mimetype": "text/x-python",
   "name": "python",
   "nbconvert_exporter": "python",
   "pygments_lexer": "ipython3",
   "version": "3.7.8"
  }
 },
 "nbformat": 4,
 "nbformat_minor": 2
}
