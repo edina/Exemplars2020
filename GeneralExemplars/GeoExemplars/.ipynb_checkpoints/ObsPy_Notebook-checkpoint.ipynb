{
 "cells": [
  {
   "cell_type": "markdown",
   "metadata": {},
   "source": [
    "## This Notebook - Goals - FOR EDINA \n",
    "\n",
    "**What?:** <br>\n",
    "- Introduction/tutorial to <code>ObsPy</code>, a Python framework for processing seismological data\n",
    "- Illustrates how to access, visualize and process seismic data from a large number of networks\n",
    "\n",
    "**Who?:** <br>\n",
    "- Academics in geosciences and specifically seismology\n",
    "- Geophysical Data Science course\n",
    "- Users interested in seismic data analysis\n",
    " \n",
    "**Why?:** <br>\n",
    "- Tutorial/guide to introduce digital seismic data analysis\n",
    "\n",
    "**Noteable features to exploit:** <br>\n",
    "- Use of pre-installed libraries \n",
    "\n",
    "**How?:** <br>\n",
    "- Effective use of core libraries\n",
    "- Comprehensive list of methods for seismic data analysis\n",
    "- Interactive and clear visualisations - concise explanations\n",
    "<hr>"
   ]
  },
  {
   "cell_type": "markdown",
   "metadata": {},
   "source": [
    "# Accessing seismic data using Obspy\n",
    "\n",
    "<code>ObsPy</code> is a Python package aimed at processing seismological data, including parsers for common file formats, clients to access data centers and seismological signal processing routines. The different clients hold station, instrument and event information, as well as waveform data. Station information encompasses an inventory of network metadata (code, description,...), station metadata (code, latitude, longitude, elevation, start- and endtime of recordings,...) and channel metadata (location code, latitude, longitude, elevation, dip, azimuth, instrument response, sample rate,...). Amongst other things, it can be used to plot the location of the stations within a network or to plot the instrument response of a seismograph at a particular station. Event information is stored in a catalogue of seismic events, such as natural or human-induced earthquakes. Its metadata includes the origin (location, depth, time), magnitudes (magnitude types), picks, focal mechanisms. Waveform data is stored in a Stream object containing multiple Trace objects with the actual waveform data as a timeseries and the metadata of the station information (network, station, channel, location, sampling rate,...).\n",
    "\n",
    "Available clients included in <code>ObsPy</code>:\n",
    "- [fdsn](https://www.fdsn.org/webservices/)\n",
    "- [arclink](https://docs.obspy.org/packages/obspy.clients.arclink.html)\n",
    "- [iris](https://service.iris.edu/irisws/)\n",
    "- [neic](https://github.com/usgs/edgecwb/wiki)\n",
    "- [filesystem](https://docs.obspy.org/packages/obspy.clients.filesystem.html)\n",
    "- [seedlink](https://docs.obspy.org/packages/obspy.clients.seedlink.html#module-obspy.clients.seedlink)\n",
    "- [nrl](http://ds.iris.edu/NRL/)\n",
    "- [seishub](https://docs.obspy.org/master/packages/obspy.clients.seishub.html)\n",
    "- [syngine](https://ds.iris.edu/ds/products/syngine/)\n",
    "- [earthworm](http://www.earthwormcentral.org/)\n",
    "\n",
    "\n",
    "This Notebook gives an introduction to the wide range of uses of <code>ObsPy</code>. The documentation for <code>ObsPy</code> can be found [here](https://docs.obspy.org/_downloads/ObsPyTutorial.pdf). Further links for seismologists on special use cases aimed at processing seismic data can be found [here](http://seismo-live.org/).\n",
    "\n",
    "**Notebook contents:**\n",
    "- Importing the necessary libraries\n",
    "- <a href='#cli'>List of providers included in the FDSN client</a>\n",
    "- <a href='#cat'>Accessing the earthquake catalogue</a>\n",
    "- <a href='#sta'>Accessing the station metadata in a network</a>\n",
    "- <a href='#sei'>Plotting waveform data as seismograms (using widgets)</a>\n",
    "- <a href='#fil'>Filtering seismograms (using widgets)</a>\n",
    "- <a href='#ins'>Plotting the instrument response of a seismograph at a specific station</a>\n",
    "- <a href='#arr'>Retrieving phase arrivals</a>\n",
    "- <a href='#tra'>Plotting travel time curves</a>\n",
    "- <a href='#ray'>Plotting ray paths within the Earth</a>"
   ]
  },
  {
   "cell_type": "code",
   "execution_count": 4,
   "metadata": {},
   "outputs": [],
   "source": [
    "# Import general libraries\n",
    "import matplotlib.pyplot as plt\n",
    "import numpy as np\n",
    "%matplotlib inline\n",
    "\n",
    "# Import modules from obspy\n",
    "import obspy\n",
    "from obspy.clients.fdsn import RoutingClient, Client\n",
    "from obspy.clients.fdsn.header import URL_MAPPINGS\n",
    "from obspy import read, read_inventory, UTCDateTime \n",
    "from obspy.taup import TauPyModel, plot_travel_times\n",
    "from obspy.taup.tau import plot_ray_paths \n",
    "\n",
    "# Import widget library\n",
    "from ipywidgets import widgets, interact, interactive \n",
    "from IPython.display import display\n",
    "\n",
    "## Hide warning messages\n",
    "import warnings\n",
    "warnings.filterwarnings('ignore')"
   ]
  },
  {
   "cell_type": "markdown",
   "metadata": {},
   "source": [
    "<a id='cli'></a>\n",
    "## Providers within the FDSN client\n",
    "The International Federation of Digital Seismograph Networks implements a large number of data centres such as USGS, NOA and IRIS. This section lists all the available data centres. In further sections, only USGS and IRIS is used, but the method to access the other data centres is the same so the code could be adapted to fit them. The data centres do not necessarily offer all three types of data (waveform, station and event information), so if you are unsure which provider to use, you can use a routing client instead of explicitly specifying the client. "
   ]
  },
  {
   "cell_type": "code",
   "execution_count": 5,
   "metadata": {},
   "outputs": [
    {
     "name": "stdout",
     "output_type": "stream",
     "text": [
      "BGR         http://eida.bgr.de\n",
      "EMSC        http://www.seismicportal.eu\n",
      "ETH         http://eida.ethz.ch\n",
      "GEONET      http://service.geonet.org.nz\n",
      "GFZ         http://geofon.gfz-potsdam.de\n",
      "ICGC        http://ws.icgc.cat\n",
      "INGV        http://webservices.ingv.it\n",
      "IPGP        http://eida.ipgp.fr\n",
      "IRIS        http://service.iris.edu\n",
      "ISC         http://isc-mirror.iris.washington.edu\n",
      "KOERI       http://eida.koeri.boun.edu.tr\n",
      "LMU         http://erde.geophysik.uni-muenchen.de\n",
      "NCEDC       http://service.ncedc.org\n",
      "NIEP        http://eida-sc3.infp.ro\n",
      "NOA         http://eida.gein.noa.gr\n",
      "ODC         http://www.orfeus-eu.org\n",
      "ORFEUS      http://www.orfeus-eu.org\n",
      "RESIF       http://ws.resif.fr\n",
      "SCEDC       http://service.scedc.caltech.edu\n",
      "TEXNET      http://rtserve.beg.utexas.edu\n",
      "USGS        http://earthquake.usgs.gov\n",
      "USP         http://sismo.iag.usp.br\n"
     ]
    }
   ],
   "source": [
    "# Print all the providers included in the FDSN client\n",
    "for key in sorted(URL_MAPPINGS.keys()):\n",
    "    print(\"{0:<11} {1}\".format(key,  URL_MAPPINGS[key]))\n",
    "\n",
    "# Use routing client\n",
    "routing_client = RoutingClient(\"iris-federator\")"
   ]
  },
  {
   "cell_type": "markdown",
   "metadata": {},
   "source": [
    "<a id='cat'></a>\n",
    "## Access to the earthquake catalogue\n",
    "One of the FDSN providers which offer event metadata is USGS. Its earthquake catalogue is accessible through <code>ObsPy</code> and the data can be used to filter events through time, location and magnitude using <code>client.get_events()</code> method. The following example searches the catalogue for any earthquakes  with at least a magnitude of 8 in December 2004. There are two earthquakes found, the locations of which can be plotted on a world map using <code>catalogue.plot()</code>. The size and colour of the data points are scaled by the magnitude  and the origin depth respectively."
   ]
  },
  {
   "cell_type": "code",
   "execution_count": 6,
   "metadata": {},
   "outputs": [
    {
     "name": "stdout",
     "output_type": "stream",
     "text": [
      "2 Event(s) in Catalog:\n",
      "2004-12-26T00:58:53.450000Z |  +3.295,  +95.982 | 9.1 mw | manual\n",
      "2004-12-23T14:59:04.410000Z | -49.312, +161.345 | 8.1 mwc | manual\n"
     ]
    },
    {
     "ename": "KeyError",
     "evalue": "'PROJ_LIB'",
     "output_type": "error",
     "traceback": [
      "\u001b[0;31m---------------------------------------------------------------------------\u001b[0m",
      "\u001b[0;31mKeyError\u001b[0m                                  Traceback (most recent call last)",
      "\u001b[0;32m<ipython-input-6-a161da97c00c>\u001b[0m in \u001b[0;36m<module>\u001b[0;34m()\u001b[0m\n\u001b[1;32m     14\u001b[0m \u001b[0;34m\u001b[0m\u001b[0m\n\u001b[1;32m     15\u001b[0m \u001b[0;31m# Plot the location of the earthquakes in the catalogue\u001b[0m\u001b[0;34m\u001b[0m\u001b[0;34m\u001b[0m\u001b[0;34m\u001b[0m\u001b[0m\n\u001b[0;32m---> 16\u001b[0;31m \u001b[0mcat\u001b[0m\u001b[0;34m.\u001b[0m\u001b[0mplot\u001b[0m\u001b[0;34m(\u001b[0m\u001b[0mtitle\u001b[0m\u001b[0;34m=\u001b[0m\u001b[0;34m'Earthquakes in December 2004'\u001b[0m\u001b[0;34m,\u001b[0m \u001b[0mmethod\u001b[0m\u001b[0;34m=\u001b[0m\u001b[0;34m'cartopy'\u001b[0m\u001b[0;34m)\u001b[0m\u001b[0;34m\u001b[0m\u001b[0;34m\u001b[0m\u001b[0m\n\u001b[0m\u001b[1;32m     17\u001b[0m \u001b[0mplt\u001b[0m\u001b[0;34m.\u001b[0m\u001b[0mshow\u001b[0m\u001b[0;34m(\u001b[0m\u001b[0;34m)\u001b[0m\u001b[0;34m\u001b[0m\u001b[0;34m\u001b[0m\u001b[0m\n",
      "\u001b[0;32m/opt/conda/lib/python3.7/site-packages/obspy/core/event/catalog.py\u001b[0m in \u001b[0;36mplot\u001b[0;34m(self, projection, resolution, continent_fill_color, water_fill_color, label, color, colormap, show, outfile, method, fig, title, **kwargs)\u001b[0m\n\u001b[1;32m    650\u001b[0m             \u001b[0mcat\u001b[0m\u001b[0;34m.\u001b[0m\u001b[0mplot\u001b[0m\u001b[0;34m(\u001b[0m\u001b[0mfig\u001b[0m\u001b[0;34m=\u001b[0m\u001b[0mfig\u001b[0m\u001b[0;34m)\u001b[0m\u001b[0;34m\u001b[0m\u001b[0;34m\u001b[0m\u001b[0m\n\u001b[1;32m    651\u001b[0m         \"\"\"\n\u001b[0;32m--> 652\u001b[0;31m         \u001b[0;32mfrom\u001b[0m \u001b[0mobspy\u001b[0m\u001b[0;34m.\u001b[0m\u001b[0mimaging\u001b[0m\u001b[0;34m.\u001b[0m\u001b[0mmaps\u001b[0m \u001b[0;32mimport\u001b[0m \u001b[0mplot_map\u001b[0m\u001b[0;34m,\u001b[0m \u001b[0m_plot_basemap_into_axes\u001b[0m\u001b[0;34m\u001b[0m\u001b[0;34m\u001b[0m\u001b[0m\n\u001b[0m\u001b[1;32m    653\u001b[0m         \u001b[0;32mimport\u001b[0m \u001b[0mmatplotlib\u001b[0m\u001b[0;34m\u001b[0m\u001b[0;34m\u001b[0m\u001b[0m\n\u001b[1;32m    654\u001b[0m         \u001b[0;32mimport\u001b[0m \u001b[0mmatplotlib\u001b[0m\u001b[0;34m.\u001b[0m\u001b[0mpyplot\u001b[0m \u001b[0;32mas\u001b[0m \u001b[0mplt\u001b[0m\u001b[0;34m\u001b[0m\u001b[0;34m\u001b[0m\u001b[0m\n",
      "\u001b[0;32m/opt/conda/lib/python3.7/site-packages/obspy/imaging/maps.py\u001b[0m in \u001b[0;36m<module>\u001b[0;34m()\u001b[0m\n\u001b[1;32m     33\u001b[0m \u001b[0;34m\u001b[0m\u001b[0m\n\u001b[1;32m     34\u001b[0m \u001b[0;32mif\u001b[0m \u001b[0mBASEMAP_VERSION\u001b[0m\u001b[0;34m:\u001b[0m\u001b[0;34m\u001b[0m\u001b[0;34m\u001b[0m\u001b[0m\n\u001b[0;32m---> 35\u001b[0;31m     \u001b[0;32mfrom\u001b[0m \u001b[0mmpl_toolkits\u001b[0m\u001b[0;34m.\u001b[0m\u001b[0mbasemap\u001b[0m \u001b[0;32mimport\u001b[0m \u001b[0mBasemap\u001b[0m\u001b[0;34m\u001b[0m\u001b[0;34m\u001b[0m\u001b[0m\n\u001b[0m\u001b[1;32m     36\u001b[0m     \u001b[0mHAS_BASEMAP\u001b[0m \u001b[0;34m=\u001b[0m \u001b[0;32mTrue\u001b[0m\u001b[0;34m\u001b[0m\u001b[0;34m\u001b[0m\u001b[0m\n\u001b[1;32m     37\u001b[0m     \u001b[0;32mif\u001b[0m \u001b[0mBASEMAP_VERSION\u001b[0m \u001b[0;34m<\u001b[0m \u001b[0;34m[\u001b[0m\u001b[0;36m1\u001b[0m\u001b[0;34m,\u001b[0m \u001b[0;36m0\u001b[0m\u001b[0;34m,\u001b[0m \u001b[0;36m4\u001b[0m\u001b[0;34m]\u001b[0m\u001b[0;34m:\u001b[0m\u001b[0;34m\u001b[0m\u001b[0;34m\u001b[0m\u001b[0m\n",
      "\u001b[0;32m/opt/conda/lib/python3.7/site-packages/mpl_toolkits/basemap/__init__.py\u001b[0m in \u001b[0;36m<module>\u001b[0;34m()\u001b[0m\n\u001b[1;32m    150\u001b[0m \u001b[0;34m\u001b[0m\u001b[0m\n\u001b[1;32m    151\u001b[0m \u001b[0;31m# create dictionary that maps epsg codes to Basemap kwargs.\u001b[0m\u001b[0;34m\u001b[0m\u001b[0;34m\u001b[0m\u001b[0;34m\u001b[0m\u001b[0m\n\u001b[0;32m--> 152\u001b[0;31m \u001b[0mpyproj_datadir\u001b[0m \u001b[0;34m=\u001b[0m \u001b[0mos\u001b[0m\u001b[0;34m.\u001b[0m\u001b[0menviron\u001b[0m\u001b[0;34m[\u001b[0m\u001b[0;34m'PROJ_LIB'\u001b[0m\u001b[0;34m]\u001b[0m\u001b[0;34m\u001b[0m\u001b[0;34m\u001b[0m\u001b[0m\n\u001b[0m\u001b[1;32m    153\u001b[0m \u001b[0mepsgf\u001b[0m \u001b[0;34m=\u001b[0m \u001b[0mopen\u001b[0m\u001b[0;34m(\u001b[0m\u001b[0mos\u001b[0m\u001b[0;34m.\u001b[0m\u001b[0mpath\u001b[0m\u001b[0;34m.\u001b[0m\u001b[0mjoin\u001b[0m\u001b[0;34m(\u001b[0m\u001b[0mpyproj_datadir\u001b[0m\u001b[0;34m,\u001b[0m\u001b[0;34m'epsg'\u001b[0m\u001b[0;34m)\u001b[0m\u001b[0;34m)\u001b[0m\u001b[0;34m\u001b[0m\u001b[0;34m\u001b[0m\u001b[0m\n\u001b[1;32m    154\u001b[0m \u001b[0mepsg_dict\u001b[0m\u001b[0;34m=\u001b[0m\u001b[0;34m{\u001b[0m\u001b[0;34m}\u001b[0m\u001b[0;34m\u001b[0m\u001b[0;34m\u001b[0m\u001b[0m\n",
      "\u001b[0;32m/opt/conda/lib/python3.7/os.py\u001b[0m in \u001b[0;36m__getitem__\u001b[0;34m(self, key)\u001b[0m\n\u001b[1;32m    676\u001b[0m         \u001b[0;32mexcept\u001b[0m \u001b[0mKeyError\u001b[0m\u001b[0;34m:\u001b[0m\u001b[0;34m\u001b[0m\u001b[0;34m\u001b[0m\u001b[0m\n\u001b[1;32m    677\u001b[0m             \u001b[0;31m# raise KeyError with the original key value\u001b[0m\u001b[0;34m\u001b[0m\u001b[0;34m\u001b[0m\u001b[0;34m\u001b[0m\u001b[0m\n\u001b[0;32m--> 678\u001b[0;31m             \u001b[0;32mraise\u001b[0m \u001b[0mKeyError\u001b[0m\u001b[0;34m(\u001b[0m\u001b[0mkey\u001b[0m\u001b[0;34m)\u001b[0m \u001b[0;32mfrom\u001b[0m \u001b[0;32mNone\u001b[0m\u001b[0;34m\u001b[0m\u001b[0;34m\u001b[0m\u001b[0m\n\u001b[0m\u001b[1;32m    679\u001b[0m         \u001b[0;32mreturn\u001b[0m \u001b[0mself\u001b[0m\u001b[0;34m.\u001b[0m\u001b[0mdecodevalue\u001b[0m\u001b[0;34m(\u001b[0m\u001b[0mvalue\u001b[0m\u001b[0;34m)\u001b[0m\u001b[0;34m\u001b[0m\u001b[0;34m\u001b[0m\u001b[0m\n\u001b[1;32m    680\u001b[0m \u001b[0;34m\u001b[0m\u001b[0m\n",
      "\u001b[0;31mKeyError\u001b[0m: 'PROJ_LIB'"
     ]
    }
   ],
   "source": [
    "#ONLY WORKS IN BETA - DELETE ONCE LIVE IS UPDATED\n",
    "\n",
    "# Specify the webserver within the FDSN client\n",
    "client = Client('USGS')\n",
    "\n",
    "# Specify the time frame to search for earthquake events in\n",
    "starttime = UTCDateTime('2004-12-01')\n",
    "endtime = UTCDateTime('2004-12-31')\n",
    "\n",
    "# Find earthquake in catalogue with a chosen minimum magnitude\n",
    "cat = client.get_events(starttime=starttime, endtime=endtime, minmagnitude=8)\n",
    "print(cat)\n",
    "# Note: spatial constraints can also be specified within client.get_events()\n",
    "\n",
    "# Plot the location of the earthquakes in the catalogue\n",
    "cat.plot(title='Earthquakes in December 2004', method='cartopy')\n",
    "plt.show()"
   ]
  },
  {
   "cell_type": "markdown",
   "metadata": {},
   "source": [
    "<a id='sta'></a>\n",
    "## Access to the station metadata within a seismic network\n",
    "One of the FDSN providers which offer station metadata is IRIS. Its station data is accessible through <code>ObsPy</code> and the data can be used to filter stations through time, location and network using <code>client.get_stations()</code> method. IRIS will be used in all further sections where a client is called. There are many different networks available within IRIS, a full list can be found [here](http://www.fdsn.org/networks/). In this section, the Global Seismograph Network of IRIS/USGS (network code:'IU') is used as it has a large number of station across the world. IU is one of the most commonly used networks, but other local networks might be more suitable for you depending on the kind of data you are interested in. The individual networks have a collection of stations which they acquire their data from. The IU network has list of stations, their station codes can be found [here](http://www.fdsn.org/networks/detail/IU/).\n",
    "\n",
    "The selected stations are stored in an inventory, which can be plotted to show the location of the stations around the world using <code>inventory.plot()</code>."
   ]
  },
  {
   "cell_type": "code",
   "execution_count": null,
   "metadata": {
    "scrolled": false
   },
   "outputs": [],
   "source": [
    "#ONLY WORKS IN BETA - DELETE ONCE LIVE IS UPDATED\n",
    "\n",
    "# Specify the webserver within the FDSN client\n",
    "client2 = Client('IRIS')\n",
    "\n",
    "# Specify the time frame to search for station data in\n",
    "starttime = UTCDateTime('2004-12-26T00:00:00')\n",
    "endtime = UTCDateTime('2004-12-27T12:00:00')\n",
    "\n",
    "# Retrieve station data for all stations within the network 'Global Seismograph Network - IRIS/USGS' abbreviated 'IU'\n",
    "ins2 = client2.get_stations(starttime=starttime, endtime=endtime,\n",
    "                            network='IU')\n",
    "\n",
    "# Plot the location of all the stations in the IU network\n",
    "ins2.plot(method='cartopy')\n",
    "\n",
    "# Retrieve station data for a station 'BILL' in Bilibino, Russia within the IU network\n",
    "ins = client2.get_stations(starttime=starttime, endtime=endtime, \n",
    "                           network='IU', station='BILL')\n",
    "\n",
    "# Plot the location of the BILL station in the IU network\n",
    "ins.plot(method='cartopy')\n",
    "print(ins, ins2)\n",
    "plt.show()"
   ]
  },
  {
   "cell_type": "markdown",
   "metadata": {},
   "source": [
    "<a id='sei'></a>\n",
    "## Plotting waveform data - seismograms\n",
    "As explained above, there are different seismic networks which are available to use and they all have a list of stations within the network. To access the actual waveform data, however, it is not enough to specify the network and the station. You also need to define which channel and location code you are interested in. The channels and location codes for the individual stations within IU can be found [here](http://service.iris.edu/irisws/fedcatalog/1/query?net=IU&format=text&includeoverlaps=true&nodata=404).\n",
    "\n",
    "Channel codes are usually made up of a set of three letters. The first letter refers to the  general sampling rate and the response band of the instrument such as S for short-period instrument. The second letter specifies the type of instrument that is used, such as H for a high-gain seismometer. The third letter indicates the orientation of the sensor measurement and is an axis of a 3D orthogonal coordinate system, such as Z,N,E for Vertical, North-South, East-West. The full list of abbreviations for the channel code can be found [here](https://ds.iris.edu/ds/nodes/dmc/data/formats/seed-channel-naming/).\n",
    "\n",
    "The location code is a 2 character code used to uniquely identify different data streams at a single station. These IDs are commonly used to logically separate multiple instruments or sensor sets at a single station.\n",
    "\n",
    "The hierarchy of station data is: network $\\rightarrow$ station $\\rightarrow$ location code and channel.\n",
    "\n",
    "In this section the waveform data from one station located at Bilibino, Russia (BILL) or Cathedral Cave, Missouri, USA (CCM) is extracted at the time of the 26.12.2004 Sumatra earthquake (from the catalogue in the previous section in this Notebook). Data for all three orientations (ZNE) from both short- (S) and long-period (L) high-gain seismometers were retrieved and plotted on a seismogram.\n",
    "\n",
    "The arrivals of different phases (waves originating from the earthquake) to the selected station can be detected from the seismogram if the reader knows the characteristics of the different elastic waves and phases (such as their polarisation). The most straightforward one to identify is the P-wave, as it is the first arrival on the seismogram, often most visible in the vertical component of the seismogram. All you need is to identify the time of the first real motion that is not background static. For BILL, this happens at 01:10:57, indicating that the P-wave took 12min 5sec to reach the station from the earthquake origin. This knowledge is often used to identify the location of the earthquake if data is available from at least 3 stations (in this case, however, we already knew where it happened).\n",
    "\n",
    "A widget was used to make this template more concise, the station can be chosen from the dropdown list."
   ]
  },
  {
   "cell_type": "code",
   "execution_count": null,
   "metadata": {},
   "outputs": [],
   "source": [
    "# Specify the reference time\n",
    "t = UTCDateTime('2004-12-26T00:58:53.450')\n",
    "\n",
    "# Define function to plot the seismograms\n",
    "def waveforms_for_station(station_select):\n",
    "    if station_select == 'Bilibino, Russia (BILL)':\n",
    "        # Retrieve waveform data for all three orientations (ZNE) for a short-period high-gain seismometer (SH)\n",
    "        s_one = client2.get_waveforms('IU', # Network\n",
    "                                      'BILL', # Station\n",
    "                                      '10', # Location\n",
    "                                      'SH?', # Channel - S=short-period, H=high-gain, ?=all directions (ZNE)\n",
    "                                      t+720, # Starttime\n",
    "                                      t + 780) # Endtime \n",
    "        # Retrieve waveform data for all three orientations (ZNE) for a long-period high-gain seismometer (LH)\n",
    "        l_one = client2.get_waveforms('IU', 'BILL', '00', 'LH?', t+690, t + 1200)\n",
    "        # Plot seismograms\n",
    "        s_one.plot(show=True, size=(900, 350))\n",
    "        l_one.plot(show=True, size=(900, 350))\n",
    "    else:\n",
    "        # Retrieve waveform data for all three orientations (ZNE) for a short-period high-gain seismometer (SH)\n",
    "        s_two = client2.get_waveforms('IU', 'CCM', '10', 'SH?', t+960, t + 1020)\n",
    "        # Retrieve waveform data for all three orientations (ZNE) for a long-period high-gain seismometer (LH)\n",
    "        l_two = client2.get_waveforms('IU', 'CCM', '00', 'LH?', t+960, t + 1230)\n",
    "        # Plot seismograms\n",
    "        s_two.plot(show=True, size=(900, 350))\n",
    "        l_two.plot(show=True, size=(900, 350))\n",
    "\n",
    "# Create dropdown list widget to choose which station to retrieve data from\n",
    "stations = ['Bilibino, Russia (BILL)', 'Cathedral Cave, Missouri, USA (CCM)']\n",
    "interactive_plot = interactive(waveforms_for_station, \n",
    "                               station_select=widgets.Dropdown(options=stations, \n",
    "                                                               value='Bilibino, Russia (BILL)',\n",
    "                                                               description='Choose station:', \n",
    "                                                               style={'description_width': 'initial'}, \n",
    "                                                               disabled=False))\n",
    "interactive_plot.layout.height = '750px'\n",
    "interactive_plot\n"
   ]
  },
  {
   "cell_type": "markdown",
   "metadata": {},
   "source": [
    "<a id='fil'></a>\n",
    "## Filtering seismograms\n",
    "The seismograms illustrated above can also be filtered using one of the four filtering options available in <code>ObsPy</code>. Certain frequency ranges can be filtered out in order to improve the signal to noise ratio. Of course, for the result to be sensible, you need more insight into filtering, but this section shows how the filters can be created in a Notebook. A widget was added where the type of filter and the corresponding frequency range can be selected. The first cell filters the data from the short-period instrument, whereas the second cell filters the long-period seismometer.\n",
    "\n",
    "There are 4 filtering options:\n",
    "- <code>highpass</code> - filters out frequencies above a certain frequency (given by maximum frequency in widget)\n",
    "- <code>lowpass</code> - filters out frequencies below a certain frequency (given by minimum frequency in widget)\n",
    "- <code>bandpass</code> - filters out frequencies outside of a specified frequency range (given by both minimum and maximum frequency in widget)\n",
    "- <code>bandstop</code> - filters out frequencies within a specified frequency range (given by both minimum and maximum frequency in widget)\n",
    "\n",
    "More information and more advanced examples of filtering can be found [here](https://krischer.github.io/seismo_live_build/html/Signal%20Processing/filter_basics_solution_wrapper.html) and [here](https://docs.obspy.org/packages/autogen/obspy.signal.filter.html#module-obspy.signal.filter).\n",
    "\n",
    "*Note: If bandpass or bandstop is selected, make sure the maximum and minimum frequency are not equal. If this happens with the former, it filters out all the data, if it happens with the latter it essentially does not filter the data at all.*"
   ]
  },
  {
   "cell_type": "code",
   "execution_count": null,
   "metadata": {
    "scrolled": false
   },
   "outputs": [],
   "source": [
    "# Define function to filter the seismograms (short-period instrument)\n",
    "def filtering(filter_select, max_freq, min_freq):\n",
    "    station = ['BILL', 'CCM']\n",
    "    shortperiod = ['s_one', 's_two']\n",
    "    starttime1 = [720, 960]\n",
    "    endtime1 = [780, 1020]\n",
    "    for i in range(0,2):\n",
    "        shortperiod[i] = client2.get_waveforms('IU', station[i], '10', 'SH?', t+starttime1[i], t + endtime1[i])\n",
    "        st_filt = shortperiod[i].copy()\n",
    "        # Cut out frequencies above a certain frequency if highpass is selected\n",
    "        if filter_select == 'highpass':\n",
    "            st_filt.filter(filter_select, freq=max_freq, \n",
    "                           corners=2, zerophase=True).plot(show=True, size=(900, 350))\n",
    "        # Cut out frequencies below a certain frequency if lowpass is selected\n",
    "        elif filter_select == 'lowpass':\n",
    "            st_filt.filter(filter_select, freq=min_freq, \n",
    "                           corners=2, zerophase=True).plot(show=True, size=(900, 350))\n",
    "        # Cut out frequencies outside or within a frequency range if bandpass or bandstop is selected respectively\n",
    "        else:\n",
    "            st_filt.filter(filter_select, freqmin=min_freq, freqmax=max_freq, \n",
    "                           corners=2, zerophase=True).plot(show=True, size=(900, 350))\n",
    "\n",
    "# Create dropdown list widget to choose which option to use\n",
    "filters = ['highpass', 'lowpass', 'bandpass', 'bandstop']\n",
    "interactive_plot = interactive(filtering,\n",
    "                               # Dropdown widget for the filter option\n",
    "                               filter_select = widgets.Dropdown(options=filters, value='highpass',\n",
    "                                                                description='Type of filter', \n",
    "                                                                style={'description_width': 'initial'},\n",
    "                                                                disabled=False),\n",
    "                               # Slider widget for maximum frequency\n",
    "                               max_freq = widgets.FloatSlider(value=1, min=0.2, max=10, step=0.2, \n",
    "                                                              description='Max frequency', \n",
    "                                                              style={'description_width': 'initial'},\n",
    "                                                              disabled=False),\n",
    "                               # Slider widget for minimum frequency\n",
    "                               min_freq = widgets.FloatSlider(value=1, min=0.2, max=10, step=0.2, \n",
    "                                                              description='Min frequency', \n",
    "                                                              style={'description_width': 'initial'},\n",
    "                                                              disabled=False))\n",
    "interactive_plot.layout.height = '800px'\n",
    "interactive_plot"
   ]
  },
  {
   "cell_type": "code",
   "execution_count": null,
   "metadata": {
    "scrolled": false
   },
   "outputs": [],
   "source": [
    "# Define function to filter the seismograms (long-period instrument)\n",
    "def filtering(filter_select, max_freq, min_freq):\n",
    "    station = ['BILL', 'CCM']\n",
    "    longperiod = ['l_one', 'l_two']\n",
    "    starttime2 = [690, 960]\n",
    "    endtime2 = [1200, 1230]\n",
    "    for i in range(0,2):\n",
    "        longperiod[i] = client2.get_waveforms('IU', station[i], '00', 'LH?', t+starttime2[i], t + endtime2[i])\n",
    "        lt_filt = longperiod[i].copy()\n",
    "        # Cut out frequencies above a certain frequency if highpass is selected\n",
    "        if filter_select == 'highpass':\n",
    "            lt_filt.filter(filter_select, freq=max_freq, \n",
    "                           corners=2, zerophase=True).plot(show=True, size=(900, 350))\n",
    "        # Cut out frequencies below a certain frequency if lowpass is selected\n",
    "        elif filter_select == 'lowpass':\n",
    "            lt_filt.filter(filter_select, freq=min_freq, \n",
    "                           corners=2, zerophase=True).plot(show=True, size=(900, 350))\n",
    "        # Cut out frequencies outside or within a frequency range if bandpass or bandstop is selected respectively\n",
    "        else:\n",
    "            lt_filt.filter(filter_select, freqmin=min_freq, freqmax=max_freq, \n",
    "                           corners=2, zerophase=True).plot(show=True, size=(900, 350))\n",
    "\n",
    "# Create dropdown list widget to choose which option to use\n",
    "filters = ['highpass', 'lowpass', 'bandpass', 'bandstop']\n",
    "interactive_plot = interactive(filtering,\n",
    "                               # Dropdown widget for the filter option\n",
    "                               filter_select=widgets.Dropdown(options=filters, value='highpass',\n",
    "                                                              description='Type of filter', \n",
    "                                                              style={'description_width': 'initial'},\n",
    "                                                              disabled=False),\n",
    "                               # Slider widget for maximum frequency\n",
    "                               max_freq = widgets.FloatSlider(value=0.1, min=0.001, max=0.4, step=0.001, \n",
    "                                                              description='Max frequency', \n",
    "                                                              style={'description_width': 'initial'},\n",
    "                                                              disabled=False),\n",
    "                               # Slider widget for minimum frequency\n",
    "                               min_freq = widgets.FloatSlider(value=0.1, min=0.001, max=0.4, step=0.001, \n",
    "                                                              description='Min frequency', \n",
    "                                                              style={'description_width': 'initial'},\n",
    "                                                              disabled=False))\n",
    "interactive_plot.layout.height = '800px'\n",
    "interactive_plot"
   ]
  },
  {
   "cell_type": "markdown",
   "metadata": {},
   "source": [
    "<a id='ins'></a>\n",
    "## Instrument response\n",
    "The instrument response describes how incoming data (in whatever the instrument measures) is transformed into what is finally stored in a file. Different types of seismometers respond differently to waves of a certain frequency. Short-period seismometers are more sensitive to high frequency waves so the amplitude seen on the seismograms will be considerably larger and more pronounced for a high frequency wave (such as P-waves) than for low frequency waves (such as surface waves). Long-period seismometers are pick up low frequency waves (such as surface waves) more than the high frequency waves (such as P-waves). This is all due to the physics of simple harmonic motion and resonance. Therefore, it is often useful to plot the instrument response (amplitude and phase delay) against the frequency spectrum.\n",
    "\n",
    "The sampling rate $Δt$ of the instrument (the Nyquist frequency is $f_N=1/(2Δt)$ ) is shown as the dashed vertical line. The plot does not show frequencies higher than the Nyquist frequency (the vertical dashed line) as these frequencies do not exist in the data and thus have no physical meaning.\n",
    "\n",
    "This section shows the instrument response of a vertically oriented, extremely short-period high-gain seismometer from a station in Jochberg, Germany in the BayernNetz network."
   ]
  },
  {
   "cell_type": "code",
   "execution_count": null,
   "metadata": {},
   "outputs": [],
   "source": [
    "# Set figure size and axes\n",
    "fig, (ax1, ax2) = plt.subplots(2, 1, sharex=True, figsize=(10,10))\n",
    "\n",
    "# Customize plot\n",
    "fig.suptitle('Instrument response')\n",
    "ax1.set_ylabel('Amplitude')\n",
    "ax2.set_ylabel('Phase (deg)')\n",
    "ax2.set_xlabel('Frequency (Hz)')\n",
    "\n",
    "# Plot instrument response\n",
    "inv = read_inventory()\n",
    "print(inv[1], '\\n',  inv[1][0][0].response)\n",
    "inv.plot_response(0.001, station='RJOB', channel='EHZ', output='VEL', plot_degrees=True, axes=[ax1, ax2])\n",
    "plt.show()\n"
   ]
  },
  {
   "cell_type": "markdown",
   "metadata": {},
   "source": [
    "<a id='arr'></a>\n",
    "## Phase arrivals and travel time curves\n",
    "After an earthquake occurs, stations around the world pick up the seismic signals after a certain time dely. This delay depends on how far away the the station is located from the earthquake hypocentre (origin within the Earth) and the type of wave (phase) it is.\n",
    "\n",
    "There are two kinds of waves: body and surface waves. The most basic body and surface waves are P- and S-waves, and Love and Rayleigh waves respectively. They all have characteristic wave speeds based on the material they are propagating in, however their relative speeds in the same medium stays the same, with P-waves being the fastest, then S-waves followed by Love and finally Rayleigh waves. However, due to internal diffractions, reflections and refractions within the Earth, these aren't the only phases see on the seismogram. There are all kinds of combinations of different wave types such as 'PS' (P-wave that converted into S-wave upon reflection) or reflected phases like 'PPP' (P-wave internally reflected off the surface) or refracted phases such as 'PKIKP' (P-wave refracted through the inner and outer core). This leads to a very complex order of phase arrivals. These can be visualised in travel time curves, where the travel time is plotted against the source-receiver distance using the <code>plot_travel_times()</code> method of the obspy.taup module. The module encompasses several different models of the Earth's structure, so the travel time mastercurve can be plotted for each model. These plots are often used to help determine the location of the earthquake since the travel time differences between phases are unique to the source-receiver distances. It can also explicitly print the travel time for the selected phases originating from a pre-determined source depth and source-receiver distance using <code>get_travel_times()</code>.\n",
    "\n",
    "The full list of 1D velocity models within the <code>taup</code> module can be found [here](http://docs.obspy.org/packages/obspy.taup.html#module-obspy.taup)."
   ]
  },
  {
   "cell_type": "code",
   "execution_count": null,
   "metadata": {
    "scrolled": true
   },
   "outputs": [],
   "source": [
    "# Select velocity model\n",
    "model = TauPyModel(model='iasp91')\n",
    "\n",
    "# Retrieve travel times for a list of phases - 2 options illustrated\n",
    "arrivals = model.get_travel_times(source_depth_in_km = 30, # Depth the earthquake originated from\n",
    "                                  distance_in_degree = 30, # Dstance from the epicentre of the earthquake\n",
    "                                  phase_list = ['P', 'PS', 'S', 'PP', 'SS']) # List of phases\n",
    "arrivals2 = model.get_ray_paths(source_depth_in_km = 30, \n",
    "                                distance_in_degree = 30, \n",
    "                                phase_list = ['P', 'PS', 'S', 'PP', 'SS'])\n",
    "# Print arrival times of the phases\n",
    "print(arrivals)\n",
    "print('\\n', arrivals2)\n",
    "\n",
    "# Print ray characteristics (ray parameter, arrival time, angle of incidence)\n",
    "arr = arrivals[0]\n",
    "print('\\nRay parameter:', arr.ray_param, '\\nArrival time:', arr.time, '\\nAngle of incidence:', arr.incident_angle)\n"
   ]
  },
  {
   "cell_type": "markdown",
   "metadata": {},
   "source": [
    "<a id='tra'></a>"
   ]
  },
  {
   "cell_type": "code",
   "execution_count": null,
   "metadata": {},
   "outputs": [],
   "source": [
    "# Define function to plot travel time curves for a list of phases against distance (default model = 'iasp91')\n",
    "def travel_times_mastercurve(model_select):\n",
    "    # Set figure size and axes\n",
    "    fig, ax = plt.subplots(figsize=(10, 10))\n",
    "    # Customize plot\n",
    "    ax.grid()\n",
    "    ax.set_title('Phase travel time curves through the Earth')\n",
    "    # Plot travel time curves for a list of phases against distance (default model = 'iasp91')\n",
    "    plot_travel_times(source_depth=20, npoints = 80, model = model_select, \n",
    "                      phase_list=['P', 'S', 'PP', 'SS', 'Pdiff', 'PKIKP', 'PcP'],\n",
    "                      ax=ax, fig=fig, legend=True, plot_all=False)\n",
    "    # Save figure\n",
    "    fig.savefig('PhaseTravelTimeCurves.png')\n",
    "\n",
    "models = ['iasp91', '1066a', '1066b', 'ak135', 'ak135f_no_mud', 'herrin', 'jb', 'prem', 'pwdk', 'sp6']\n",
    "interactive_plot = interactive(travel_times_mastercurve,\n",
    "                               # Dropdown widget for the model option\n",
    "                               model_select=widgets.Dropdown(options=models, value='iasp91',\n",
    "                                                             description='Type of model', \n",
    "                                                             style={'description_width': 'initial'},\n",
    "                                                             disabled=False))\n",
    "interactive_plot.layout.height = '700px'\n",
    "interactive_plot"
   ]
  },
  {
   "cell_type": "markdown",
   "metadata": {},
   "source": [
    "<a id='ray'></a>\n",
    "## Ray paths\n",
    "As mentioned above, there are many differet phases due to internal reflections, refractions and diffractiond in the interior of the Earth. On a global scale, the ray paths of these phases can be visualized using <code>plot_ray_paths()</code> from the <code>obspy.taup.tau</code> module or <code>plot_rays()</code> after specifying the model, source depth and source-receiver distance. \n",
    "The first cell shows the expected ray paths to 12 equally spaced receivers (13th receiver is located over the first one) from an earthquake at 100km depth. The second cell shows the ray paths to a receiver 120° away from the source which is located at a depth of 700km. Both use the same list of phases ('P', 'S', 'Pdiff', 'PKIKP', 'PcP')."
   ]
  },
  {
   "cell_type": "code",
   "execution_count": null,
   "metadata": {
    "scrolled": false
   },
   "outputs": [],
   "source": [
    "# Select velocity model\n",
    "model = TauPyModel(model='iasp91')\n",
    "\n",
    "# Set figure size and axes\n",
    "fig, ax = plt.subplots(subplot_kw=dict(polar=True), figsize=(10,10))\n",
    "\n",
    "# Customize plot\n",
    "ax.set_title('Ray paths originating from a source at a depth of 100km \\nthrough the inside of the Earth')\n",
    "ax.text(0, 0, 'Solid\\ninner\\ncore',\n",
    "        horizontalalignment='center', verticalalignment='center',\n",
    "        bbox=dict(facecolor='white', edgecolor='none', alpha=0.7))\n",
    "ocr = (model.model.radius_of_planet -\n",
    "       (model.model.s_mod.v_mod.iocb_depth +\n",
    "        model.model.s_mod.v_mod.cmb_depth) / 2)\n",
    "ax.text(np.deg2rad(180), ocr, 'Fluid outer core',\n",
    "        horizontalalignment='center',\n",
    "        bbox=dict(facecolor='white', edgecolor='none', alpha=0.7))\n",
    "mr = model.model.radius_of_planet - model.model.s_mod.v_mod.cmb_depth / 2\n",
    "ax.text(np.deg2rad(180), mr, 'Solid mantle',\n",
    "        horizontalalignment='center',\n",
    "        bbox=dict(facecolor='white', edgecolor='none', alpha=0.7))\n",
    "\n",
    "# Plot ray paths in a spherical coordinate system\n",
    "ax = plot_ray_paths(source_depth = 100, phase_list = ['P', 'S', 'Pdiff', 'PKIKP', 'PcP'],\n",
    "                    npoints =13, legend = True, fig = fig, ax = ax)\n"
   ]
  },
  {
   "cell_type": "code",
   "execution_count": null,
   "metadata": {
    "scrolled": false
   },
   "outputs": [],
   "source": [
    "# Set figure size and axes\n",
    "fig = plt.figure(figsize=(10,10))\n",
    "ax = fig.add_subplot(1,1,1, polar=True)\n",
    "\n",
    "# Customize plot\n",
    "ax.set_title('Ray paths originating from a source at a depth of 700km \\nto a receiver at a distance of 120° \\nthrough the inside of the Earth')\n",
    "ax.text(0, 0, 'Solid\\ninner\\ncore',\n",
    "        horizontalalignment='center', verticalalignment='center',\n",
    "        bbox=dict(facecolor='white', edgecolor='none', alpha=0.7))\n",
    "ocr = (model.model.radius_of_planet -\n",
    "       (model.model.s_mod.v_mod.iocb_depth +\n",
    "        model.model.s_mod.v_mod.cmb_depth) / 2)\n",
    "ax.text(np.deg2rad(180), ocr, 'Fluid outer core',\n",
    "        horizontalalignment='center',\n",
    "        bbox=dict(facecolor='white', edgecolor='none', alpha=0.7))\n",
    "mr = model.model.radius_of_planet - model.model.s_mod.v_mod.cmb_depth / 2\n",
    "ax.text(np.deg2rad(180), mr, 'Solid mantle',\n",
    "        horizontalalignment='center',\n",
    "        bbox=dict(facecolor='white', edgecolor='none', alpha=0.7))\n",
    "\n",
    "# Plot ray paths in a spherical coordinate system\n",
    "arrivals = model.get_ray_paths(source_depth_in_km=700, distance_in_degree=120,  \n",
    "                               phase_list = ['P', 'S', 'Pdiff', 'PKIKP', 'PcP'])\n",
    "arrivals.plot_rays(legend=True, fig=fig, ax=ax)\n",
    "plt.show()"
   ]
  },
  {
   "cell_type": "code",
   "execution_count": null,
   "metadata": {},
   "outputs": [],
   "source": []
  }
 ],
 "metadata": {
  "kernelspec": {
   "display_name": "Python 3",
   "language": "python",
   "name": "python3"
  },
  "language_info": {
   "codemirror_mode": {
    "name": "ipython",
    "version": 3
   },
   "file_extension": ".py",
   "mimetype": "text/x-python",
   "name": "python",
   "nbconvert_exporter": "python",
   "pygments_lexer": "ipython3",
   "version": "3.7.3"
  }
 },
 "nbformat": 4,
 "nbformat_minor": 2
}
