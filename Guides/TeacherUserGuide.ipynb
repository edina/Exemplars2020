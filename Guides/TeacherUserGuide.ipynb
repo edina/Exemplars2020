{
 "cells": [
  {
   "cell_type": "markdown",
   "metadata": {},
   "source": [
    "# Noteable and nbgrader for Assignments\n",
    "\n",
    "## This Guide\n",
    "\n",
    "This guide gives an overview of how to use the nbgrader tool on Noteable for assignments."
   ]
  },
  {
   "cell_type": "markdown",
   "metadata": {},
   "source": [
    "## Why use Noteable's nbgrader service?\n",
    "\n",
    "Notebooks are already widely used in data science, but using them in a learning environment can carry challenges with set up of student machines, as well as automarking notebook files.\n",
    "\n",
    "Using the service allows you to:\n",
    "\n",
    "<ul>\n",
    "    <li>Minimise support required for student set up - students simply click a link to the online service.</li>\n",
    "    <li>Present assignment questions, student solution space, solutions and mark schemes all in one space.</li>\n",
    "    <li>Automark coded answers.</li>\n",
    "    <li>Set up manual and automated marking quickly and easily, minimising the time required to mark assignments!</li>\n",
    "</ul>"
   ]
  },
  {
   "cell_type": "markdown",
   "metadata": {},
   "source": [
    "# Create an assignment on Noteable"
   ]
  },
  {
   "cell_type": "markdown",
   "metadata": {},
   "source": [
    "## Formgrader Interface\n",
    "\n",
    "When logged into Noteable as an Intructor, clicking the Formgrader tab will take you to the Formgrader interface.\n",
    "\n",
    "This is the hub for marking. On the left hand side you will notice 3 tabs:\n",
    "<ul>\n",
    "    <li>Manage Assignments - shows assignments and progress. This is the only tab you will need in order to create and release assignments.</li>\n",
    "    <li>Manual Grading - used to manage manual marking and feedback.</li>\n",
    "    <li>Manage Students - shows student grades.</li>\n",
    "</ul>\n",
    "\n",
    "Here is a brief overview of the functionality provided from the Manage Assignments page - more detail available below:\n",
    "<ul>\n",
    "    <li>Name - Name of assignment. Clicking on the assignment name will direct you to the teacher version of the assignment folder (in /source)</li>\n",
    "    <li>Due Date - Display due date for assignment</li>\n",
    "    <li>Status - Display status of assignment (eg: \"Draft\", \"Released\")</li>\n",
    "    <li>Edit - Edit metadata (Name, Due date) for assignment.</li>\n",
    "    <li>Generate - Generate student version of assignment. Stored in /Release. Solutions and mark schemes not visible in this version. Can repeat if edits made to teacher version.</li>\n",
    "    <li>Preview - View student version of assignment. Can repeat as many times as required.</li>\n",
    "    <li>Release - Make student version of assignment available - students can fetch, complete and submit assignment from Noteable.</li>\n",
    "    <li>Collect - Load all student submissions.</li>\n",
    "    <li># Submissions - Number of collected student submissions.</li>\n",
    "    <li>Generate Feedback - Once marking is complete, generate feedback files for students.</li>\n",
    "    <li>Release Feedback - Make student feedback for assignment available to students.</li>\n",
    "</ul>"
   ]
  },
  {
   "cell_type": "markdown",
   "metadata": {},
   "source": [
    "## Create Assignment folder + add resources"
   ]
  },
  {
   "cell_type": "markdown",
   "metadata": {},
   "source": [
    "## Add toolbars"
   ]
  },
  {
   "cell_type": "markdown",
   "metadata": {},
   "source": [
    "## Cell Types"
   ]
  },
  {
   "cell_type": "markdown",
   "metadata": {},
   "source": [
    "## Special Syntax for grading"
   ]
  },
  {
   "cell_type": "markdown",
   "metadata": {},
   "source": [
    "## Generate and Preview"
   ]
  },
  {
   "cell_type": "markdown",
   "metadata": {},
   "source": [
    "# Release and Collect"
   ]
  },
  {
   "cell_type": "markdown",
   "metadata": {},
   "source": [
    "# Mark Assignment"
   ]
  }
 ],
 "metadata": {
  "kernelspec": {
   "display_name": "Python 3",
   "language": "python",
   "name": "python3"
  },
  "language_info": {
   "codemirror_mode": {
    "name": "ipython",
    "version": 3
   },
   "file_extension": ".py",
   "mimetype": "text/x-python",
   "name": "python",
   "nbconvert_exporter": "python",
   "pygments_lexer": "ipython3",
   "version": "3.7.6"
  }
 },
 "nbformat": 4,
 "nbformat_minor": 4
}
